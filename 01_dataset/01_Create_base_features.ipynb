{
 "cells": [
  {
   "cell_type": "markdown",
   "id": "beffabc2",
   "metadata": {},
   "source": [
    "- https://github.com/ksopyla/awesome-nlp-polish\n",
    "- Sentiment: https://pypi.org/project/sentimentpl/\n",
    "- Auto correct: https://github.com/filyp/autocorrect\n",
    "- other: https://github.com/sdadas/polish-nlp-resources\n",
    "- papers: https://homados.ipipan.waw.pl/?page_id=93"
   ]
  },
  {
   "cell_type": "code",
   "execution_count": 17,
   "id": "87c7b7d8-e6b6-4e25-a3a3-d753523fb105",
   "metadata": {},
   "outputs": [],
   "source": [
    "# !pip install pandas tqdm pandarallel parallelbar spacy sentimentpl autocorrect --quiet\n",
    "# !pip install sacremoses --quiet"
   ]
  },
  {
   "cell_type": "code",
   "execution_count": 2,
   "id": "8350fd84-c187-4044-943a-3ef21e8af85e",
   "metadata": {},
   "outputs": [],
   "source": [
    "# !python -m spacy download pl_core_news_lg"
   ]
  },
  {
   "cell_type": "code",
   "execution_count": 20,
   "id": "1652209b",
   "metadata": {},
   "outputs": [],
   "source": [
    "import pandas as pd\n",
    "import numpy as np\n",
    "\n",
    "from tqdm import tqdm\n",
    "\n",
    "# progress bar\n",
    "tqdm.pandas()\n",
    "\n",
    "# from pandarallel import pandarallel\n",
    "# pandarallel.initialize(nb_workers=7,progress_bar=True)\n",
    "\n",
    "# from parallelbar import progress_map\n",
    "\n",
    "# import spacy\n",
    "# from sentimentpl.models import SentimentPLModel\n",
    "# from autocorrect import Speller\n",
    "\n",
    "# nlp_core = spacy.load(\"pl_core_news_lg\")\n",
    "# model = SentimentPLModel(from_pretrained='latest')\n",
    "# spell = Speller('pl')\n",
    "\n",
    "from helpers.utils import *"
   ]
  },
  {
   "cell_type": "markdown",
   "id": "6fb02727",
   "metadata": {},
   "source": [
    "# CZ data"
   ]
  },
  {
   "cell_type": "code",
   "execution_count": 22,
   "id": "4cfa81b2",
   "metadata": {},
   "outputs": [
    {
     "name": "stderr",
     "output_type": "stream",
     "text": [
      "100%|███████████████████████████████████████████████████████████████████████████████████████████████████████████████████████████████████████████| 2835/2835 [11:55<00:00,  3.96it/s]\n"
     ]
    }
   ],
   "source": [
    "df_pl_cz = pd.read_csv('../datasets/demagog_nlp_cz/converted-exp-PL.tsv', sep='\\t')\n",
    "\n",
    "df_pl_cz['text_clean'] = df_pl_cz['statementText'].apply(lambda x: clean_przyp(x))\n",
    "\n",
    "# tasks = df_pl_cz['text_clean'].values.tolist()\n",
    "# result = df_pl_cz['text_clean'].progress_map(extract_features)\n",
    "# result = progress_map(extract_features, tasks, n_cpu=7, chunk_size=1, core_progress=True)\n",
    "df_pl_cz['raw_dict'] = df_pl_cz['text_clean'].progress_map(extract_features)"
   ]
  },
  {
   "cell_type": "code",
   "execution_count": 23,
   "id": "5ffba044",
   "metadata": {},
   "outputs": [],
   "source": [
    "# df_pl_cz['raw_dict'] = result \n",
    "\n",
    "df_clean = (\n",
    "    df_pl_cz.join( \n",
    "        df_pl_cz['raw_dict']\n",
    "        .apply(pd.Series)\n",
    "    ).drop('raw_dict', axis=1)\n",
    ")\n",
    "\n",
    "df_clean['TEXT_POS'] = df_clean['TEXT_POS'].str.join(\" \")\n",
    "df_clean['TEXT_WORD'] = df_clean['TEXT_WORD'].str.join(\" \")"
   ]
  },
  {
   "cell_type": "code",
   "execution_count": 26,
   "id": "aeea487c",
   "metadata": {},
   "outputs": [],
   "source": [
    "df_clean.to_parquet('../datasets/ready2use/fake_news_features_cz.parquet')"
   ]
  },
  {
   "cell_type": "markdown",
   "id": "32386f33",
   "metadata": {},
   "source": [
    "# Demagog"
   ]
  },
  {
   "cell_type": "code",
   "execution_count": 27,
   "id": "b242da03",
   "metadata": {},
   "outputs": [
    {
     "name": "stderr",
     "output_type": "stream",
     "text": [
      "100%|███████████████████████████████████████████████████████████████████████████████████████████████████████████████████████████████████████████| 4917/4917 [17:58<00:00,  4.56it/s]\n"
     ]
    }
   ],
   "source": [
    "df = pd.read_csv('../datasets/scrapped/demagog.csv', sep=';')\n",
    "\n",
    "df = df.dropna()\n",
    "df = df[df['text'].str.len() > 0 ]\n",
    "\n",
    "df['text_clean'] = df['text'].apply(lambda x: clean_przyp(x))\n",
    "\n",
    "df = df[df['text_clean'].str.len() > 1 ]\n",
    "\n",
    "df['raw_dict'] = df['text_clean'].progress_map(extract_features)"
   ]
  },
  {
   "cell_type": "code",
   "execution_count": 28,
   "id": "eb273b5b",
   "metadata": {},
   "outputs": [],
   "source": [
    "# df['raw_dict'] = result \n",
    "\n",
    "df_clean = (\n",
    "    df.join( \n",
    "        df['raw_dict']\n",
    "        .apply(pd.Series)\n",
    "#         .rename(columns={'sentiment_lemm' : 'uniq_lemm'}) \n",
    "    ).drop('raw_dict', axis=1)\n",
    ")\n",
    "\n",
    "df_clean['TEXT_POS'] = df_clean['TEXT_POS'].str.join(\" \")"
   ]
  },
  {
   "cell_type": "code",
   "execution_count": 29,
   "id": "bf9dde6a",
   "metadata": {},
   "outputs": [],
   "source": [
    "df_clean.to_parquet('../datasets/scrapped/demagog_features.parquet')"
   ]
  },
  {
   "cell_type": "markdown",
   "id": "b4551537",
   "metadata": {},
   "source": [
    "# OKO.press"
   ]
  },
  {
   "cell_type": "code",
   "execution_count": 30,
   "id": "4d811236",
   "metadata": {},
   "outputs": [
    {
     "name": "stdout",
     "output_type": "stream",
     "text": [
      "(2869,)\n",
      "(2869, 9)\n"
     ]
    }
   ],
   "source": [
    "df_oko_raw = pd.read_csv('../datasets/oko.press/query_result.tsv', sep='\\t')\n",
    "\n",
    "print(df_oko_raw['Id wypowiedzi'].unique().shape)\n",
    "\n",
    "df_oko = pd.merge(\n",
    "    df_oko_raw.pivot(index=['Id wypowiedzi'], columns='Nazwa pola danych', values='Wartość pola danych').reset_index(),\n",
    "    df_oko_raw[~df_oko_raw['Autor Wypowiedzi'].isin(['Link do hasła', 'Nazwa słupka', 'Wesprzyj nas'])] \\\n",
    "        [['Id wypowiedzi', 'Autor Wypowiedzi']].dropna(),\n",
    "    on='Id wypowiedzi',\n",
    "    how='left'\n",
    ")\n",
    "\n",
    "print(df_oko.shape)"
   ]
  },
  {
   "cell_type": "code",
   "execution_count": 31,
   "id": "24a239a6",
   "metadata": {},
   "outputs": [
    {
     "name": "stderr",
     "output_type": "stream",
     "text": [
      "100%|███████████████████████████████████████████████████████████████████████████████████████████████████████████████████████████████████████| 2869/2869 [00:00<00:00, 188225.71it/s]\n",
      "/tmp/ipykernel_1100/518407814.py:3: SettingWithCopyWarning: \n",
      "A value is trying to be set on a copy of a slice from a DataFrame.\n",
      "Try using .loc[row_indexer,col_indexer] = value instead\n",
      "\n",
      "See the caveats in the documentation: https://pandas.pydata.org/pandas-docs/stable/user_guide/indexing.html#returning-a-view-versus-a-copy\n",
      "  df_oko_fin['text_clean'] = df_oko_fin['sub_napis'].progress_apply(lambda x: clean_przyp(x))\n",
      "100%|███████████████████████████████████████████████████████████████████████████████████████████████████████████████████████████████████████████| 2869/2869 [13:55<00:00,  3.43it/s]\n",
      "/tmp/ipykernel_1100/518407814.py:8: SettingWithCopyWarning: \n",
      "A value is trying to be set on a copy of a slice from a DataFrame.\n",
      "Try using .loc[row_indexer,col_indexer] = value instead\n",
      "\n",
      "See the caveats in the documentation: https://pandas.pydata.org/pandas-docs/stable/user_guide/indexing.html#returning-a-view-versus-a-copy\n",
      "  df_oko_fin['raw_dict'] = df_oko_fin['text_clean'].progress_map(extract_features)\n"
     ]
    }
   ],
   "source": [
    "df_oko_fin = df_oko[['sub_napis', 'sub_stan_zegara', 'Autor Wypowiedzi']]\n",
    "\n",
    "df_oko_fin['text_clean'] = df_oko_fin['sub_napis'].progress_apply(lambda x: clean_przyp(x))\n",
    "\n",
    "# tasks = df_oko_fin['text_clean'].values.tolist()\n",
    "# result = progress_map(extract_features, tasks, n_cpu=7, chunk_size=1, core_progress=True)\n",
    "\n",
    "df_oko_fin['raw_dict'] = df_oko_fin['text_clean'].progress_map(extract_features)"
   ]
  },
  {
   "cell_type": "code",
   "execution_count": 32,
   "id": "7177d9b9",
   "metadata": {},
   "outputs": [],
   "source": [
    "# df_oko_fin['raw_dict'] = result\n",
    "\n",
    "df_oko_clean = df_oko_fin.join( df_oko_fin['raw_dict'].apply(pd.Series) ).drop('raw_dict', axis=1)\n",
    "\n",
    "df_oko_clean['TEXT_POS'] = df_oko_clean['TEXT_POS'].str.join(\" \")"
   ]
  },
  {
   "cell_type": "code",
   "execution_count": 33,
   "id": "f2318365",
   "metadata": {},
   "outputs": [],
   "source": [
    "df_oko_clean.to_parquet('../datasets/oko.press/okopress_features.parquet')"
   ]
  },
  {
   "cell_type": "markdown",
   "id": "f0eb5592-8bac-4739-a99c-5f5355b55251",
   "metadata": {},
   "source": [
    "## Join data"
   ]
  },
  {
   "cell_type": "code",
   "execution_count": 35,
   "id": "39667419-68aa-437e-8ad2-4cb2a560b1a0",
   "metadata": {},
   "outputs": [],
   "source": [
    "df_dem = pd.read_parquet('../datasets/scrapped/demagog_features.parquet')\n",
    "df_oko = pd.read_parquet('../datasets/oko.press/okopress_features.parquet')\n",
    "\n",
    "df = pd.concat(\n",
    "    [\n",
    "        df_dem[\n",
    "            ['assestment', 'author', 'text_clean', 'TEXT_POS',\n",
    "             'sentiment_all', 'sentiment_avg', 'uniq_words', 'uniq_lemm', \n",
    "             'err', 'net', \n",
    "             # 'ADJ', 'ADV', 'NOUN', \n",
    "             'words_start_upper', 'words_full_upper',\n",
    "             'exclamation_marks', 'question_marks', \n",
    "             'upper_letters', 'chars']\n",
    "        ],\n",
    "        (df_oko[\n",
    "            ['sub_stan_zegara', 'Autor Wypowiedzi', 'text_clean', 'TEXT_POS',\n",
    "             'sentiment_all', 'sentiment_avg', 'uniq_words', 'uniq_lemm', \n",
    "             'err', 'net', \n",
    "             # 'ADJ', 'ADV', 'NOUN', \n",
    "             'words_start_upper', 'words_full_upper',\n",
    "             'exclamation_marks', 'question_marks', \n",
    "             'upper_letters', 'chars']\n",
    "         ]\n",
    "         .rename(columns={'sub_stan_zegara':'assestment', 'Autor Wypowiedzi':'author'}))\n",
    "    ],\n",
    "    ignore_index = True\n",
    ")"
   ]
  },
  {
   "cell_type": "code",
   "execution_count": 36,
   "id": "bf1570fa-9b9e-4c59-a1d0-422ecc39021a",
   "metadata": {},
   "outputs": [],
   "source": [
    "df.to_parquet('../datasets/ready2use/fake_news_features_combined.parquet')"
   ]
  },
  {
   "cell_type": "code",
   "execution_count": null,
   "id": "4083f08f-4e17-423e-bb4a-7a3075c3ddfe",
   "metadata": {},
   "outputs": [],
   "source": []
  }
 ],
 "metadata": {
  "kernelspec": {
   "display_name": "Python 3 (ipykernel)",
   "language": "python",
   "name": "python3"
  },
  "language_info": {
   "codemirror_mode": {
    "name": "ipython",
    "version": 3
   },
   "file_extension": ".py",
   "mimetype": "text/x-python",
   "name": "python",
   "nbconvert_exporter": "python",
   "pygments_lexer": "ipython3",
   "version": "3.9.18"
  }
 },
 "nbformat": 4,
 "nbformat_minor": 5
}
