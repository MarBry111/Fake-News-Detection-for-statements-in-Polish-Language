{
 "cells": [
  {
   "cell_type": "code",
   "execution_count": 89,
   "id": "0be99b0d-5b70-43ab-bff3-c7d27d2ab547",
   "metadata": {},
   "outputs": [
    {
     "name": "stdout",
     "output_type": "stream",
     "text": [
      "The autoreload extension is already loaded. To reload it, use:\n",
      "  %reload_ext autoreload\n"
     ]
    }
   ],
   "source": [
    "%load_ext autoreload\n",
    "%autoreload 2\n",
    "\n",
    "import pandas as pd\n",
    "import numpy as np\n",
    "import gensim\n",
    "import spacy\n",
    "import nltk\n",
    "\n",
    "from sentimentpl.models import SentimentPLModel\n",
    "import matplotlib.pyplot as plt\n",
    "\n",
    "import re\n",
    "import unicodedata\n",
    "from langdetect import detect\n",
    "import torch\n",
    "\n",
    "\n",
    "from tqdm import tqdm\n",
    "tqdm.pandas()\n",
    "\n",
    "import sys\n",
    "sys.path.append('..')\n",
    "\n",
    "from helpers.dataset import (\n",
    "    tokenize,\n",
    "    filter_stop_words,\n",
    "    deal_with_polish_sign,\n",
    "    clean_text,\n",
    "    get_stylometric_features\n",
    ")\n",
    "\n",
    "from transformers import AutoTokenizer, AutoModel\n",
    "\n",
    "nlp_core = spacy.load(\"pl_core_news_lg\")\n",
    "model_sent = SentimentPLModel(from_pretrained='latest')\n",
    "stopwords = nlp_core.Defaults.stop_words"
   ]
  },
  {
   "cell_type": "code",
   "execution_count": 44,
   "id": "0d3cbe2a-d9e4-4b7d-a417-1b43b2022fbb",
   "metadata": {},
   "outputs": [],
   "source": [
    "# !pip install langdetect"
   ]
  },
  {
   "cell_type": "markdown",
   "id": "e16d0324-9434-44a3-86a2-be760e911763",
   "metadata": {},
   "source": [
    "# Read data & clean text"
   ]
  },
  {
   "cell_type": "code",
   "execution_count": 45,
   "id": "9e730b2f-ede1-44f2-aeb8-71893f7478a9",
   "metadata": {},
   "outputs": [],
   "source": [
    "#demagog\n",
    "df_dem = pd.read_csv('../datasets/scrapped/demagog.csv', sep=';')\n",
    "\n",
    "df_dem = df_dem.dropna()\n",
    "df_dem = df_dem[df_dem['text'].str.len() > 0 ]\n",
    "\n",
    "# oko press\n",
    "df_oko_raw = pd.read_csv('../datasets/oko.press/query_result.tsv', sep='\\t')\n",
    "\n",
    "df_oko = pd.merge(\n",
    "    df_oko_raw.pivot(index=['Id wypowiedzi'], columns='Nazwa pola danych', values='Wartość pola danych').reset_index(),\n",
    "    df_oko_raw[~df_oko_raw['Autor Wypowiedzi'].isin(['Link do hasła', 'Nazwa słupka', 'Wesprzyj nas'])] \\\n",
    "        [['Id wypowiedzi', 'Autor Wypowiedzi']].dropna(),\n",
    "    on='Id wypowiedzi',\n",
    "    how='left'\n",
    ")\n",
    "\n",
    "df_oko_fin = df_oko[['sub_napis', 'sub_stan_zegara', 'Autor Wypowiedzi']]\n",
    "df_oko_fin = df_oko_fin.rename(columns={'sub_napis':'text', 'sub_stan_zegara':'assestment', 'Autor Wypowiedzi':'author'})\n",
    "\n",
    "\n",
    "# combine both\n",
    "df = pd.concat(\n",
    "    [\n",
    "        df_dem[['assestment', 'author', 'text']],\n",
    "        df_oko_fin[['assestment', 'author', 'text']],\n",
    "    ],\n",
    "    ignore_index = True\n",
    ")\n",
    "\n",
    "\n",
    "# start cleaning\n",
    "df['text_clean'] = df['text'].apply(lambda x: clean_text(x))\n",
    "df['text_clean'] = df['text_clean'].apply(lambda x: deal_with_polish_sign(x))\n",
    "\n",
    "df = df[df['text_clean'].str.len() > 1 ]"
   ]
  },
  {
   "cell_type": "markdown",
   "id": "fa22ff5b-b084-4bd3-9236-1477d02609fd",
   "metadata": {},
   "source": [
    "# Filter not TRUE/FALSE cases"
   ]
  },
  {
   "cell_type": "code",
   "execution_count": 46,
   "id": "5a2bd81e-b29f-46a2-a615-12b3dbb59e1d",
   "metadata": {},
   "outputs": [
    {
     "data": {
      "text/plain": [
       "assestment\n",
       "Prawda               2831\n",
       "falsz                1308\n",
       "Fałsz                1136\n",
       "zbity_zegar           707\n",
       "Manipulacja           705\n",
       "raczej_falsz          288\n",
       "polprawda             254\n",
       "Nieweryfikowalne      236\n",
       "prawda                179\n",
       "blisko_prawdy          93\n",
       "brak                   40\n",
       "Częściowy fałsz       9\n",
       "Name: count, dtype: int64"
      ]
     },
     "execution_count": 46,
     "metadata": {},
     "output_type": "execute_result"
    }
   ],
   "source": [
    "df['assestment'].value_counts()"
   ]
  },
  {
   "cell_type": "code",
   "execution_count": 47,
   "id": "756ceec0-8a34-40b3-8598-aa8d132ade0b",
   "metadata": {},
   "outputs": [],
   "source": [
    "df = df[ df['assestment'] != 'brak' ]\n",
    "\n",
    "df.loc[:, 'assestment'] = df['assestment'].replace({\n",
    "    'falsz' : 'Fałsz',\n",
    "    'zbity_zegar' : 'Fałsz',\n",
    "    'raczej_falsz' : 'Fałsz',\n",
    "    'prawda' : 'Prawda',\n",
    "    'blisko_prawdy' : 'Prawda',\n",
    "    'polprawda' : 'Manipulacja',\n",
    "    'Częściowy fałsz' : 'Manipulacja'\n",
    "})\n",
    "\n",
    "df = df[ df['assestment'] != 'Nieweryfikowalne' ]\n",
    "df = df[ df['assestment'] != 'Manipulacja' ]\n",
    "\n",
    "df['assestment'] = df['assestment'].replace({\n",
    "    'Fałsz' : 1,\n",
    "    'Prawda' : 0\n",
    "}).astype(int)\n",
    "\n",
    "df = df.reset_index(drop=True)"
   ]
  },
  {
   "cell_type": "markdown",
   "id": "c710c268-2845-4005-8f3b-5a697aecabda",
   "metadata": {},
   "source": [
    "## Detect other languages"
   ]
  },
  {
   "cell_type": "code",
   "execution_count": 48,
   "id": "8f581b0a-5679-4457-900f-49d946821426",
   "metadata": {},
   "outputs": [
    {
     "name": "stderr",
     "output_type": "stream",
     "text": [
      "100%|██████████████████████████████████████████████████████████████████████████████████████████████████████████████████████████████████████████| 6542/6542 [00:08<00:00, 805.32it/s]\n"
     ]
    }
   ],
   "source": [
    "df['lang'] =  df['text_clean'].progress_apply(lambda x: detect(x))"
   ]
  },
  {
   "cell_type": "code",
   "execution_count": 51,
   "id": "ee23eab2-38b0-4a7c-9af8-dd716d2e618f",
   "metadata": {},
   "outputs": [
    {
     "data": {
      "text/plain": [
       "lang\n",
       "pl    6531\n",
       "en       6\n",
       "es       2\n",
       "tr       1\n",
       "tl       1\n",
       "sl       1\n",
       "Name: count, dtype: int64"
      ]
     },
     "execution_count": 51,
     "metadata": {},
     "output_type": "execute_result"
    }
   ],
   "source": [
    "df['lang'].value_counts()"
   ]
  },
  {
   "cell_type": "code",
   "execution_count": 54,
   "id": "513ef5a4-e1fe-449b-a105-22e752259ccc",
   "metadata": {},
   "outputs": [
    {
     "data": {
      "text/html": [
       "<div>\n",
       "<style scoped>\n",
       "    .dataframe tbody tr th:only-of-type {\n",
       "        vertical-align: middle;\n",
       "    }\n",
       "\n",
       "    .dataframe tbody tr th {\n",
       "        vertical-align: top;\n",
       "    }\n",
       "\n",
       "    .dataframe thead th {\n",
       "        text-align: right;\n",
       "    }\n",
       "</style>\n",
       "<table border=\"1\" class=\"dataframe\">\n",
       "  <thead>\n",
       "    <tr style=\"text-align: right;\">\n",
       "      <th></th>\n",
       "      <th>lang</th>\n",
       "      <th>text_clean</th>\n",
       "    </tr>\n",
       "  </thead>\n",
       "  <tbody>\n",
       "    <tr>\n",
       "      <th>447</th>\n",
       "      <td>en</td>\n",
       "      <td>Gastronomia? 2 mld straty.</td>\n",
       "    </tr>\n",
       "    <tr>\n",
       "      <th>2084</th>\n",
       "      <td>en</td>\n",
       "      <td>Funding from ECA supports national export of g...</td>\n",
       "    </tr>\n",
       "    <tr>\n",
       "      <th>2085</th>\n",
       "      <td>en</td>\n",
       "      <td>Sweden has recently resigned from a penalty ta...</td>\n",
       "    </tr>\n",
       "    <tr>\n",
       "      <th>2186</th>\n",
       "      <td>en</td>\n",
       "      <td>The Poles consume only 50% of electrical power...</td>\n",
       "    </tr>\n",
       "    <tr>\n",
       "      <th>2187</th>\n",
       "      <td>en</td>\n",
       "      <td>Energy accounts for 10% of a citizen’s expense...</td>\n",
       "    </tr>\n",
       "    <tr>\n",
       "      <th>2188</th>\n",
       "      <td>en</td>\n",
       "      <td>85% of the energy still comes from coal.</td>\n",
       "    </tr>\n",
       "    <tr>\n",
       "      <th>1363</th>\n",
       "      <td>es</td>\n",
       "      <td>Los Angeles albo San Francisco ma 22 radnych.</td>\n",
       "    </tr>\n",
       "    <tr>\n",
       "      <th>5899</th>\n",
       "      <td>es</td>\n",
       "      <td>Ma dobre poglądy o Ursuli von der Leyen - red..</td>\n",
       "    </tr>\n",
       "    <tr>\n",
       "      <th>3611</th>\n",
       "      <td>sl</td>\n",
       "      <td>Spada od kilku lat podatek CIT dla miasta</td>\n",
       "    </tr>\n",
       "    <tr>\n",
       "      <th>2864</th>\n",
       "      <td>tl</td>\n",
       "      <td>Sama ustawa o VAT ma 25000 stron.</td>\n",
       "    </tr>\n",
       "    <tr>\n",
       "      <th>314</th>\n",
       "      <td>tr</td>\n",
       "      <td>Czyli tak:</td>\n",
       "    </tr>\n",
       "  </tbody>\n",
       "</table>\n",
       "</div>"
      ],
      "text/plain": [
       "     lang                                         text_clean\n",
       "447    en                         Gastronomia? 2 mld straty.\n",
       "2084   en  Funding from ECA supports national export of g...\n",
       "2085   en  Sweden has recently resigned from a penalty ta...\n",
       "2186   en  The Poles consume only 50% of electrical power...\n",
       "2187   en  Energy accounts for 10% of a citizen’s expense...\n",
       "2188   en           85% of the energy still comes from coal.\n",
       "1363   es      Los Angeles albo San Francisco ma 22 radnych.\n",
       "5899   es    Ma dobre poglądy o Ursuli von der Leyen - red..\n",
       "3611   sl          Spada od kilku lat podatek CIT dla miasta\n",
       "2864   tl                  Sama ustawa o VAT ma 25000 stron.\n",
       "314    tr                                         Czyli tak:"
      ]
     },
     "execution_count": 54,
     "metadata": {},
     "output_type": "execute_result"
    }
   ],
   "source": [
    "df[['lang', 'text_clean']][~df['lang'].isin(['pl'])].sort_values('lang')"
   ]
  },
  {
   "cell_type": "code",
   "execution_count": 56,
   "id": "4c44bcbe-f2f9-45d2-90de-edb5141119e2",
   "metadata": {},
   "outputs": [],
   "source": [
    "df = df[df['lang'].isin(['pl', 'sl', 'tl', 'es'])]"
   ]
  },
  {
   "cell_type": "markdown",
   "id": "9fbcfa11-5363-4ecc-8466-fc64fa80b8f2",
   "metadata": {},
   "source": [
    "## Continue with cleaning text"
   ]
  },
  {
   "cell_type": "code",
   "execution_count": 57,
   "id": "f162a3a9-1d01-4379-9e2e-cefb0fcdd874",
   "metadata": {},
   "outputs": [
    {
     "name": "stderr",
     "output_type": "stream",
     "text": [
      "100%|██████████████████████████████████████████████████████████████████████████████████████████████████████████████████████████████████████████| 6535/6535 [00:48<00:00, 134.84it/s]\n"
     ]
    }
   ],
   "source": [
    "df['words'] = df['text_clean'].progress_apply(\n",
    "    lambda x: tokenize(x, nlp_core, stopwords, join_str=None)\n",
    ")"
   ]
  },
  {
   "cell_type": "code",
   "execution_count": 60,
   "id": "48b3e24e-adff-47af-bab1-e3498169f126",
   "metadata": {},
   "outputs": [],
   "source": [
    "# df = df[df['words'].apply(len)>0]"
   ]
  },
  {
   "cell_type": "markdown",
   "id": "7d548cbc-1e7e-4f60-bab2-dc98252ea976",
   "metadata": {},
   "source": [
    "# Look for more stopwords"
   ]
  },
  {
   "cell_type": "code",
   "execution_count": 61,
   "id": "4937b1a9-e8c7-428b-93a1-23326e160e25",
   "metadata": {},
   "outputs": [],
   "source": [
    "df_one = df.copy()\n",
    "\n",
    "df_one = df_one[['words']].reset_index().explode('words')\n",
    "df_one['n'] = 1\n",
    "df_one['tokens'] = df_one['words'].apply( lambda x: re.sub(r\"[`'-.’0-9]\", \"\", x) )"
   ]
  },
  {
   "cell_type": "code",
   "execution_count": 62,
   "id": "a5d198a8-33ec-4e19-9068-54b556d1a23a",
   "metadata": {},
   "outputs": [
    {
     "data": {
      "image/png": "[encoded data removed]",
      "text/plain": [
       "<Figure size 400x600 with 1 Axes>"
      ]
     },
     "metadata": {},
     "output_type": "display_data"
    }
   ],
   "source": [
    "df_one = df_one[df_one['tokens'].str.len() > 1]\n",
    "\n",
    "f, ax = plt.subplots(figsize=(4,6));\n",
    "df_one.groupby('tokens').agg(n=('n','sum')).sort_values('n').tail(30).plot(kind='barh', ax=ax)\n",
    "plt.title('Trainig set')\n",
    "plt.show()"
   ]
  },
  {
   "cell_type": "code",
   "execution_count": 63,
   "id": "83360de7-d5dc-4b4d-b907-827dd4d9dab4",
   "metadata": {},
   "outputs": [],
   "source": [
    "extra_stop_words = set(['polska', \n",
    "                        'rok', \n",
    "                        'milion',]\n",
    "                        # 'miliard',] \n",
    "                        # 'polski', 'europejski', \n",
    "                        # 'prezydent', 'rząd', 'ustawa', 'procent', 'kraj'] \n",
    "                       + \n",
    "                       df_one.groupby('tokens').agg(n=('n','sum')).query('n<6').index.values.tolist())"
   ]
  },
  {
   "cell_type": "code",
   "execution_count": 64,
   "id": "41ce3eea-d410-44f9-9052-6691e23b305f",
   "metadata": {},
   "outputs": [
    {
     "data": {
      "text/plain": [
       "10389"
      ]
     },
     "execution_count": 64,
     "metadata": {},
     "output_type": "execute_result"
    }
   ],
   "source": [
    "len(extra_stop_words)"
   ]
  },
  {
   "cell_type": "code",
   "execution_count": 65,
   "id": "534738cc-ce4a-4d1d-ae4c-4555a19f745d",
   "metadata": {},
   "outputs": [
    {
     "name": "stderr",
     "output_type": "stream",
     "text": [
      "100%|███████████████████████████████████████████████████████████████████████████████████████████████████████████████████████████████████████| 6535/6535 [00:00<00:00, 347354.92it/s]\n"
     ]
    }
   ],
   "source": [
    "df['words_clean'] = df['words'].progress_apply(\n",
    "    lambda x: filter_stop_words(x, extra_stop_words, ' ')\n",
    ")"
   ]
  },
  {
   "cell_type": "markdown",
   "id": "2df64ebb-873f-4c0f-baf1-9835ba3e3eb1",
   "metadata": {},
   "source": [
    "## Delete rows without  any words"
   ]
  },
  {
   "cell_type": "code",
   "execution_count": 66,
   "id": "d48376b5-5b1e-4f19-8469-6f1601e9baec",
   "metadata": {},
   "outputs": [
    {
     "data": {
      "text/plain": [
       "6"
      ]
     },
     "execution_count": 66,
     "metadata": {},
     "output_type": "execute_result"
    }
   ],
   "source": [
    "(df['words_clean'].str.len() == 0).sum()"
   ]
  },
  {
   "cell_type": "code",
   "execution_count": 67,
   "id": "011f4d35-4f29-4194-bc61-cb63d6287970",
   "metadata": {},
   "outputs": [],
   "source": [
    "df = df[df['words_clean'].str.len() > 0].reset_index(drop=True)"
   ]
  },
  {
   "cell_type": "markdown",
   "id": "069ab686-7575-4f6c-8c9d-72a73fbc8531",
   "metadata": {},
   "source": [
    "# Stylommetric features"
   ]
  },
  {
   "cell_type": "code",
   "execution_count": 69,
   "id": "25c7584c-78ce-4c91-a572-7ddfa3d8c2bf",
   "metadata": {},
   "outputs": [
    {
     "name": "stdout",
     "output_type": "stream",
     "text": [
      "## Get lexical features ##\n"
     ]
    },
    {
     "name": "stderr",
     "output_type": "stream",
     "text": [
      "100%|████████████████████████████████████████████████████████████████████████████████████████████████████████████████████████████████████████| 6529/6529 [00:00<00:00, 98767.64it/s]\n",
      "100%|███████████████████████████████████████████████████████████████████████████████████████████████████████████████████████████████████████| 6529/6529 [00:00<00:00, 360860.37it/s]\n",
      "100%|███████████████████████████████████████████████████████████████████████████████████████████████████████████████████████████████████████| 6529/6529 [00:00<00:00, 280092.16it/s]\n",
      "100%|██████████████████████████████████████████████████████████████████████████████████████████████████████████████████████████████████████| 6529/6529 [00:00<00:00, 1094465.08it/s]\n",
      "100%|███████████████████████████████████████████████████████████████████████████████████████████████████████████████████████████████████████| 6529/6529 [00:00<00:00, 305522.70it/s]\n",
      "100%|████████████████████████████████████████████████████████████████████████████████████████████████████████████████████████████████████████| 6529/6529 [00:00<00:00, 52435.53it/s]\n"
     ]
    },
    {
     "name": "stdout",
     "output_type": "stream",
     "text": [
      "## Vocab richness ##\n"
     ]
    },
    {
     "name": "stderr",
     "output_type": "stream",
     "text": [
      "100%|██████████████████████████████████████████████████████████████████████████████████████████████████████████████████████████████████████████| 6529/6529 [00:35<00:00, 181.87it/s]\n"
     ]
    },
    {
     "name": "stdout",
     "output_type": "stream",
     "text": [
      "## Readability ##\n"
     ]
    },
    {
     "name": "stderr",
     "output_type": "stream",
     "text": [
      "100%|████████████████████████████████████████████████████████████████████████████████████████████████████████████████████████████████████████| 6529/6529 [00:00<00:00, 45031.07it/s]\n",
      "100%|████████████████████████████████████████████████████████████████████████████████████████████████████████████████████████████████████████| 6529/6529 [00:00<00:00, 45031.66it/s]\n",
      "100%|████████████████████████████████████████████████████████████████████████████████████████████████████████████████████████████████████████| 6529/6529 [00:00<00:00, 56137.98it/s]\n"
     ]
    },
    {
     "name": "stdout",
     "output_type": "stream",
     "text": [
      "## Add Sentiment ##\n"
     ]
    },
    {
     "name": "stderr",
     "output_type": "stream",
     "text": [
      "100%|███████████████████████████████████████████████████████████████████████████████████████████████████████████████████████████████████████████| 6529/6529 [09:54<00:00, 10.98it/s]\n"
     ]
    },
    {
     "name": "stdout",
     "output_type": "stream",
     "text": [
      "## Extra features ##\n"
     ]
    },
    {
     "name": "stderr",
     "output_type": "stream",
     "text": [
      "100%|██████████████████████████████████████████████████████████████████████████████████████████████████████████████████████████████████████████| 6529/6529 [00:35<00:00, 181.60it/s]\n",
      "100%|██████████████████████████████████████████████████████████████████████████████████████████████████████████████████████████████████████████| 6529/6529 [00:36<00:00, 178.64it/s]\n"
     ]
    },
    {
     "name": "stdout",
     "output_type": "stream",
     "text": [
      "## Add WORDS ##\n"
     ]
    },
    {
     "name": "stderr",
     "output_type": "stream",
     "text": [
      "100%|██████████████████████████████████████████████████████████████████████████████████████████████████████████████████████████████████████████| 6529/6529 [00:37<00:00, 176.26it/s]\n"
     ]
    },
    {
     "name": "stdout",
     "output_type": "stream",
     "text": [
      "## Add POS ##\n"
     ]
    },
    {
     "name": "stderr",
     "output_type": "stream",
     "text": [
      "100%|██████████████████████████████████████████████████████████████████████████████████████████████████████████████████████████████████████████| 6529/6529 [00:36<00:00, 180.41it/s]\n"
     ]
    }
   ],
   "source": [
    "df = get_stylometric_features(df,  nlp_core, model_sent, stopwords, 'words_clean', rerun_all=True)"
   ]
  },
  {
   "cell_type": "code",
   "execution_count": 70,
   "id": "f1645c02-53f3-4b42-9ddc-f9223f9cd26b",
   "metadata": {},
   "outputs": [
    {
     "data": {
      "text/plain": [
       "(6529, 38)"
      ]
     },
     "execution_count": 70,
     "metadata": {},
     "output_type": "execute_result"
    }
   ],
   "source": [
    "df.shape"
   ]
  },
  {
   "cell_type": "markdown",
   "id": "396b0300-848f-4b0b-ab59-90c019282800",
   "metadata": {},
   "source": [
    "## Save stylommetric features"
   ]
  },
  {
   "cell_type": "code",
   "execution_count": 71,
   "id": "7fd8595d-ba2a-4053-85b3-516008c278ac",
   "metadata": {},
   "outputs": [],
   "source": [
    "target_column = ['assestment']\n",
    "\n",
    "stylo_features = [\n",
    "    'avg_word_len',\n",
    "    'n_words', 'n_unique_words', 'p_unique_words', 'n_char',\n",
    "    'n_special_char', 'avg_n_vowels_per_word', 'hapax_legomena',\n",
    "    'hapax_dislegemena', 'honore_r', 'sichel_s', 'brunet_w', 'yule_k',\n",
    "    'shannon_entropy', 'simpson_idx_d', 'type_token_ratio', 'FR_score',\n",
    "    'FKG_level', 'Gunning_Fog_index', 'sentiment_all', 'sentiment_avg',\n",
    "    'n_stop_words', 'n_ent', 'p_adj', 'n_adj', 'p_adv', 'n_adv', 'p_noun',\n",
    "    'n_noun',\n",
    "]\n",
    "\n",
    "cols_for_other_f = ['text_clean', 'TEXT_WORD', 'TEXT_POS']"
   ]
  },
  {
   "cell_type": "code",
   "execution_count": 72,
   "id": "8d253df2-9b7f-4b61-823f-1e0e0e48181f",
   "metadata": {},
   "outputs": [
    {
     "data": {
      "text/plain": [
       "29"
      ]
     },
     "execution_count": 72,
     "metadata": {},
     "output_type": "execute_result"
    }
   ],
   "source": [
    "len(stylo_features)"
   ]
  },
  {
   "cell_type": "code",
   "execution_count": 73,
   "id": "efabae90-754d-4eb9-8fa0-0e40b744d3f1",
   "metadata": {},
   "outputs": [],
   "source": [
    "df[target_column+stylo_features].to_parquet('../datasets/used_data/02_classical_ml/03_01_statements_styllometric_features.parquet')"
   ]
  },
  {
   "cell_type": "markdown",
   "id": "bb13ee50-2f29-48db-ae9e-843fc9cb99e0",
   "metadata": {},
   "source": [
    "# Ngrams POS"
   ]
  },
  {
   "cell_type": "code",
   "execution_count": 74,
   "id": "c2b0abdc-ee4b-4a99-b64c-5693e965962f",
   "metadata": {},
   "outputs": [],
   "source": [
    "n_grams = 5\n",
    "min_pos = 5 "
   ]
  },
  {
   "cell_type": "code",
   "execution_count": 75,
   "id": "52255441-5ab9-4bfd-8ad5-a44d0bb3b84d",
   "metadata": {},
   "outputs": [
    {
     "name": "stderr",
     "output_type": "stream",
     "text": [
      "100%|███████████████████████████████████████████████████████████████████████████████████████████████████████████████████████████████████████████| 2646/2646 [00:32<00:00, 82.56it/s]\n"
     ]
    }
   ],
   "source": [
    "df_pos = df[target_column].copy()\n",
    "\n",
    "words =  sum(df['TEXT_POS'].str.split(' ').values.tolist(), [])\n",
    "\n",
    "n_list = []\n",
    "for n in range(n_grams):\n",
    "    n_i = pd.Series(nltk.ngrams(words, n+1)).value_counts()\n",
    "    n_i = n_i[n_i>min_pos]\n",
    "    n_list.append(n_i)\n",
    "\n",
    "n_iterator = []\n",
    "for n_i in n_list:\n",
    "    n_iterator += n_i.index.tolist()\n",
    "    \n",
    "col = {}\n",
    "    \n",
    "for n in tqdm(n_iterator):\n",
    "    x = df['TEXT_POS'].str.count(' '.join(n)) / df['TEXT_POS'].str.split(' ').str.len()\n",
    "\n",
    "    col[' '.join(n)] = x\n",
    "    col[' '.join(n)].name = ' '.join(n)\n",
    "            \n",
    "df_pos = pd.concat( [df_pos] + list( col.values() ), axis=1 )"
   ]
  },
  {
   "cell_type": "code",
   "execution_count": 76,
   "id": "2c352c5c-ed4a-47ef-bb3a-84e3e37b3713",
   "metadata": {},
   "outputs": [
    {
     "data": {
      "text/plain": [
       "(6529, 2647)"
      ]
     },
     "execution_count": 76,
     "metadata": {},
     "output_type": "execute_result"
    }
   ],
   "source": [
    "df_pos.shape"
   ]
  },
  {
   "cell_type": "code",
   "execution_count": 77,
   "id": "444f2591-e37d-49f5-ae0b-80a7730961ba",
   "metadata": {},
   "outputs": [],
   "source": [
    "df_pos.to_parquet('../datasets/used_data/02_classical_ml/03_02_statements_POS_ngrams.parquet')"
   ]
  },
  {
   "cell_type": "markdown",
   "id": "79e0a6b3-35b2-4d73-91a4-31aac9f99507",
   "metadata": {},
   "source": [
    "# Ngram words"
   ]
  },
  {
   "cell_type": "code",
   "execution_count": 78,
   "id": "15a607c0-e249-4ef7-9ed2-e1b4452e28b3",
   "metadata": {},
   "outputs": [
    {
     "name": "stderr",
     "output_type": "stream",
     "text": [
      "100%|███████████████████████████████████████████████████████████████████████████████████████████████████████████████████████████████████████████| 2769/2769 [00:42<00:00, 65.38it/s]\n"
     ]
    }
   ],
   "source": [
    "df_ngram = df[target_column + ['TEXT_WORD']].copy()\n",
    "\n",
    "words =  sum(df['TEXT_WORD'].str.split(' ').values.tolist(), [])\n",
    "\n",
    "n_list = []\n",
    "for n in range(n_grams):\n",
    "    n_i = pd.Series(nltk.ngrams(words, n+1)).value_counts()\n",
    "    n_i = n_i[n_i>min_pos]\n",
    "    n_list.append(n_i)\n",
    "\n",
    "n_iterator = []\n",
    "for n_i in n_list:\n",
    "    n_iterator += n_i.index.tolist()\n",
    "\n",
    "col = {}\n",
    "    \n",
    "for n in tqdm(n_iterator):\n",
    "    x = df['TEXT_WORD'].str.count(' '.join(n)) / df['TEXT_WORD'].str.split(' ').str.len()\n",
    "\n",
    "    col[' '.join(n)] = x\n",
    "    col[' '.join(n)].name = ' '.join(n)\n",
    "            \n",
    "df_ngram = pd.concat( [df_ngram] + list( col.values() ), axis=1 )"
   ]
  },
  {
   "cell_type": "code",
   "execution_count": 79,
   "id": "9c560cd7-e411-4ae7-a1e6-93c7f656e5cf",
   "metadata": {},
   "outputs": [
    {
     "data": {
      "text/plain": [
       "(6529, 2771)"
      ]
     },
     "execution_count": 79,
     "metadata": {},
     "output_type": "execute_result"
    }
   ],
   "source": [
    "df_ngram.shape"
   ]
  },
  {
   "cell_type": "code",
   "execution_count": 80,
   "id": "9a1578b7-020f-46dc-baea-b9553612dfcb",
   "metadata": {},
   "outputs": [],
   "source": [
    "df_ngram.to_parquet('../datasets/used_data/02_classical_ml/03_03_statements_words_ngrams.parquet')"
   ]
  },
  {
   "cell_type": "markdown",
   "id": "c37ead70-2554-4817-982f-1aa3f6e072c8",
   "metadata": {},
   "source": [
    "# HerBERT embeddgins"
   ]
  },
  {
   "cell_type": "code",
   "execution_count": 92,
   "id": "629426ba-9ffc-4562-a7a8-e12143cb923c",
   "metadata": {},
   "outputs": [
    {
     "data": {
      "text/plain": [
       "device(type='cuda')"
      ]
     },
     "execution_count": 92,
     "metadata": {},
     "output_type": "execute_result"
    }
   ],
   "source": [
    "device = torch.device('cuda' if torch.cuda.is_available() else 'cpu')\n",
    "device"
   ]
  },
  {
   "cell_type": "code",
   "execution_count": 93,
   "id": "ba845d2b-52d1-4d3e-b0fe-e21bbd45cfc6",
   "metadata": {},
   "outputs": [
    {
     "name": "stderr",
     "output_type": "stream",
     "text": [
      "Some weights of the model checkpoint at allegro/herbert-large-cased were not used when initializing BertModel: ['cls.predictions.transform.LayerNorm.weight', 'cls.predictions.bias', 'cls.predictions.decoder.weight', 'cls.predictions.decoder.bias', 'cls.sso.sso_relationship.bias', 'cls.sso.sso_relationship.weight', 'cls.predictions.transform.dense.bias', 'cls.predictions.transform.dense.weight', 'cls.predictions.transform.LayerNorm.bias']\n",
      "- This IS expected if you are initializing BertModel from the checkpoint of a model trained on another task or with another architecture (e.g. initializing a BertForSequenceClassification model from a BertForPreTraining model).\n",
      "- This IS NOT expected if you are initializing BertModel from the checkpoint of a model that you expect to be exactly identical (initializing a BertForSequenceClassification model from a BertForSequenceClassification model).\n"
     ]
    }
   ],
   "source": [
    "tokenizer = AutoTokenizer.from_pretrained(\"allegro/herbert-large-cased\")\n",
    "model = AutoModel.from_pretrained(\"allegro/herbert-large-cased\").to(device)"
   ]
  },
  {
   "cell_type": "code",
   "execution_count": 94,
   "id": "ea525cd4-9c23-493f-a4be-2f2b77dac288",
   "metadata": {},
   "outputs": [
    {
     "name": "stderr",
     "output_type": "stream",
     "text": [
      "100%|███████████████████████████████████████████████████████████████████████████████████████████████████████████████████████████████████████████| 6529/6529 [02:54<00:00, 37.38it/s]\n"
     ]
    }
   ],
   "source": [
    "embeddings_table = np.zeros((df.shape[0], 1024))\n",
    "\n",
    "for i, t in enumerate(tqdm(df['text_clean'].values)):\n",
    "    encoded_input = tokenizer(t, return_tensors='pt', truncation=True, padding=True).to(device)\n",
    "    output = model(**encoded_input)[0][:,0]\n",
    "    embeddings_table[i,:] = output.detach().to('cpu').numpy()"
   ]
  },
  {
   "cell_type": "code",
   "execution_count": 95,
   "id": "4a9fec0d-6f26-4861-8194-98f4fa8ad5c1",
   "metadata": {},
   "outputs": [],
   "source": [
    "with open('../datasets/used_data/02_classical_ml/03_04_statements_herbert.npy', 'wb') as f:\n",
    "    np.save(f, embeddings_table)"
   ]
  },
  {
   "cell_type": "markdown",
   "id": "cef457b3-4a7d-4498-af50-17a2a25504e8",
   "metadata": {},
   "source": [
    "# RoBERTa embeddgins"
   ]
  },
  {
   "cell_type": "code",
   "execution_count": 96,
   "id": "274064a7-2871-45cd-913c-9857131831f3",
   "metadata": {},
   "outputs": [
    {
     "data": {
      "application/vnd.jupyter.widget-view+json": {
       "model_id": "8b77e2d9ec64450f8f43aca73dc8c852",
       "version_major": 2,
       "version_minor": 0
      },
      "text/plain": [
       "tokenizer_config.json:   0%|          | 0.00/344 [00:00<?, ?B/s]"
      ]
     },
     "metadata": {},
     "output_type": "display_data"
    },
    {
     "data": {
      "application/vnd.jupyter.widget-view+json": {
       "model_id": "5da09bf5c3d845b39c3d08e5c3d17bfe",
       "version_major": 2,
       "version_minor": 0
      },
      "text/plain": [
       "tokenizer.json:   0%|          | 0.00/8.59M [00:00<?, ?B/s]"
      ]
     },
     "metadata": {},
     "output_type": "display_data"
    },
    {
     "data": {
      "application/vnd.jupyter.widget-view+json": {
       "model_id": "cf48659ae6e143988e8ea8108e52564a",
       "version_major": 2,
       "version_minor": 0
      },
      "text/plain": [
       "special_tokens_map.json:   0%|          | 0.00/239 [00:00<?, ?B/s]"
      ]
     },
     "metadata": {},
     "output_type": "display_data"
    },
    {
     "data": {
      "application/vnd.jupyter.widget-view+json": {
       "model_id": "bf54650d1b524ef2b05c4c872a5a8441",
       "version_major": 2,
       "version_minor": 0
      },
      "text/plain": [
       "config.json:   0%|          | 0.00/694 [00:00<?, ?B/s]"
      ]
     },
     "metadata": {},
     "output_type": "display_data"
    },
    {
     "data": {
      "application/vnd.jupyter.widget-view+json": {
       "model_id": "b5d3ca192baa4ecd9f15d69e642f1ada",
       "version_major": 2,
       "version_minor": 0
      },
      "text/plain": [
       "model.safetensors:   0%|          | 0.00/1.74G [00:00<?, ?B/s]"
      ]
     },
     "metadata": {},
     "output_type": "display_data"
    },
    {
     "name": "stderr",
     "output_type": "stream",
     "text": [
      "Some weights of RobertaModel were not initialized from the model checkpoint at sdadas/polish-roberta-large-v2 and are newly initialized: ['roberta.pooler.dense.weight', 'roberta.pooler.dense.bias']\n",
      "You should probably TRAIN this model on a down-stream task to be able to use it for predictions and inference.\n"
     ]
    }
   ],
   "source": [
    "tokenizer = AutoTokenizer.from_pretrained(\"sdadas/polish-roberta-large-v2\")\n",
    "model = AutoModel.from_pretrained(\"sdadas/polish-roberta-large-v2\").to(device)"
   ]
  },
  {
   "cell_type": "code",
   "execution_count": 97,
   "id": "40b875c3-3e8c-4224-83ba-6b2f4b1ce323",
   "metadata": {},
   "outputs": [
    {
     "name": "stderr",
     "output_type": "stream",
     "text": [
      "  0%|                                                                                                                                                      | 0/6529 [00:00<?, ?it/s]Asking to truncate to max_length but no maximum length is provided and the model has no predefined maximum length. Default to no truncation.\n",
      "100%|███████████████████████████████████████████████████████████████████████████████████████████████████████████████████████████████████████████| 6529/6529 [03:02<00:00, 35.85it/s]\n"
     ]
    }
   ],
   "source": [
    "embeddings_table = np.zeros((df.shape[0], 1024))\n",
    "\n",
    "for i, t in enumerate(tqdm(df['text_clean'].values)):\n",
    "    encoded_input = tokenizer(t, return_tensors='pt', truncation=True, padding=True).to(device)\n",
    "    output = model(**encoded_input)[0][:,0]\n",
    "    embeddings_table[i,:] = output.detach().to('cpu').numpy()"
   ]
  },
  {
   "cell_type": "code",
   "execution_count": 98,
   "id": "99330354-9724-4fa9-af57-f7d80a8665e7",
   "metadata": {},
   "outputs": [],
   "source": [
    "with open('../datasets/used_data/02_classical_ml/03_05_statements_roberta.npy', 'wb') as f:\n",
    "    np.save(f, embeddings_table)"
   ]
  },
  {
   "cell_type": "markdown",
   "id": "7bffadfd-d8dd-4f00-8a5d-c861a5336285",
   "metadata": {},
   "source": [
    "# Save just text after cleanings"
   ]
  },
  {
   "cell_type": "code",
   "execution_count": 100,
   "id": "71b6ab76-39d4-413d-baba-5dfa8ea2c1ac",
   "metadata": {},
   "outputs": [],
   "source": [
    "df[['assestment', 'text', 'text_clean']].to_parquet('../datasets/used_data/03_bert_like_models/01_basic_info_data.parquet')"
   ]
  },
  {
   "cell_type": "code",
   "execution_count": null,
   "id": "6bee149d-1de0-499c-8b68-b2fb710c729f",
   "metadata": {},
   "outputs": [],
   "source": []
  }
 ],
 "metadata": {
  "kernelspec": {
   "display_name": "Python 3 (ipykernel)",
   "language": "python",
   "name": "python3"
  },
  "language_info": {
   "codemirror_mode": {
    "name": "ipython",
    "version": 3
   },
   "file_extension": ".py",
   "mimetype": "text/x-python",
   "name": "python",
   "nbconvert_exporter": "python",
   "pygments_lexer": "ipython3",
   "version": "3.9.18"
  }
 },
 "nbformat": 4,
 "nbformat_minor": 5
}
