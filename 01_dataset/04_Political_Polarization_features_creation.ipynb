{
 "cells": [
  {
   "cell_type": "code",
   "execution_count": 1,
   "id": "0be99b0d-5b70-43ab-bff3-c7d27d2ab547",
   "metadata": {},
   "outputs": [
    {
     "name": "stderr",
     "output_type": "stream",
     "text": [
      "/home/marek/anaconda3/envs/nlp_test/lib/python3.9/site-packages/transformers/utils/generic.py:441: FutureWarning: `torch.utils._pytree._register_pytree_node` is deprecated. Please use `torch.utils._pytree.register_pytree_node` instead.\n",
      "  _torch_pytree._register_pytree_node(\n",
      "/home/marek/anaconda3/envs/nlp_test/lib/python3.9/site-packages/transformers/utils/generic.py:309: FutureWarning: `torch.utils._pytree._register_pytree_node` is deprecated. Please use `torch.utils._pytree.register_pytree_node` instead.\n",
      "  _torch_pytree._register_pytree_node(\n",
      "/home/marek/anaconda3/envs/nlp_test/lib/python3.9/site-packages/transformers/utils/generic.py:309: FutureWarning: `torch.utils._pytree._register_pytree_node` is deprecated. Please use `torch.utils._pytree.register_pytree_node` instead.\n",
      "  _torch_pytree._register_pytree_node(\n",
      "/home/marek/anaconda3/envs/nlp_test/lib/python3.9/site-packages/transformers/modeling_utils.py:484: FutureWarning: You are using `torch.load` with `weights_only=False` (the current default value), which uses the default pickle module implicitly. It is possible to construct malicious pickle data which will execute arbitrary code during unpickling (See https://github.com/pytorch/pytorch/blob/main/SECURITY.md#untrusted-models for more details). In a future release, the default value for `weights_only` will be flipped to `True`. This limits the functions that could be executed during unpickling. Arbitrary objects will no longer be allowed to be loaded via this mode unless they are explicitly allowlisted by the user via `torch.serialization.add_safe_globals`. We recommend you start setting `weights_only=True` for any use case where you don't have full control of the loaded file. Please open an issue on GitHub for any issues related to this experimental feature.\n",
      "  return torch.load(checkpoint_file, map_location=map_location)\n",
      "/home/marek/anaconda3/envs/nlp_test/lib/python3.9/site-packages/sentimentpl/models.py:33: FutureWarning: You are using `torch.load` with `weights_only=False` (the current default value), which uses the default pickle module implicitly. It is possible to construct malicious pickle data which will execute arbitrary code during unpickling (See https://github.com/pytorch/pytorch/blob/main/SECURITY.md#untrusted-models for more details). In a future release, the default value for `weights_only` will be flipped to `True`. This limits the functions that could be executed during unpickling. Arbitrary objects will no longer be allowed to be loaded via this mode unless they are explicitly allowlisted by the user via `torch.serialization.add_safe_globals`. We recommend you start setting `weights_only=True` for any use case where you don't have full control of the loaded file. Please open an issue on GitHub for any issues related to this experimental feature.\n",
      "  self.fc.load_state_dict(torch.load(f))\n"
     ]
    }
   ],
   "source": [
    "%load_ext autoreload\n",
    "%autoreload 2\n",
    "\n",
    "import pandas as pd\n",
    "import numpy as np\n",
    "import gensim\n",
    "import spacy\n",
    "import nltk\n",
    "\n",
    "from sentimentpl.models import SentimentPLModel\n",
    "import matplotlib.pyplot as plt\n",
    "\n",
    "import re\n",
    "import unicodedata\n",
    "from langdetect import detect\n",
    "import torch\n",
    "\n",
    "\n",
    "from tqdm import tqdm\n",
    "tqdm.pandas()\n",
    "\n",
    "import sys\n",
    "sys.path.append('..')\n",
    "\n",
    "from helpers.dataset import (\n",
    "    tokenize,\n",
    "    filter_stop_words,\n",
    "    deal_with_polish_sign,\n",
    "    clean_text,\n",
    "    get_stylometric_features,\n",
    "    get_sentiment\n",
    ")\n",
    "\n",
    "from transformers import AutoTokenizer, AutoModel\n",
    "\n",
    "nlp_core = spacy.load(\"pl_core_news_lg\")\n",
    "model_sent = SentimentPLModel(from_pretrained='latest')\n",
    "stopwords = nlp_core.Defaults.stop_words"
   ]
  },
  {
   "cell_type": "code",
   "execution_count": 2,
   "id": "0d3cbe2a-d9e4-4b7d-a417-1b43b2022fbb",
   "metadata": {},
   "outputs": [],
   "source": [
    "# !pip install langdetect"
   ]
  },
  {
   "cell_type": "markdown",
   "id": "e16d0324-9434-44a3-86a2-be760e911763",
   "metadata": {},
   "source": [
    "# Read data & clean text"
   ]
  },
  {
   "cell_type": "code",
   "execution_count": 3,
   "id": "567859fb-07a4-46a1-a8ae-257229857fd6",
   "metadata": {},
   "outputs": [
    {
     "name": "stdout",
     "output_type": "stream",
     "text": [
      "(204597, 2)\n",
      "(203719, 2)\n",
      "(202761, 2)\n",
      "(201204, 2)\n",
      "CPU times: user 19.7 s, sys: 1.02 s, total: 20.7 s\n",
      "Wall time: 25.4 s\n"
     ]
    }
   ],
   "source": [
    "%%time\n",
    "\n",
    "df_tvp = pd.read_csv('../datasets/The Polish Online News Corpus for Political Polarization Studies/data_frame_tvp_raw.csv', sep=',')\n",
    "df_tvn = pd.read_csv('../datasets/The Polish Online News Corpus for Political Polarization Studies/data_frame_tvn_raw.csv', sep=',')\n",
    "\n",
    "df_tvp['assestment'] = 1\n",
    "df_tvn['assestment'] = 0\n",
    "\n",
    "df = pd.concat(\n",
    "    [\n",
    "        df_tvp[['assestment', 'article']],\n",
    "        df_tvn[['assestment', 'article']],\n",
    "    ],\n",
    "    ignore_index = True\n",
    ")\n",
    "print(df.shape)\n",
    "\n",
    "df = df[df['article'].notna() ]\n",
    "print(df.shape)\n",
    "\n",
    "df = df[df['article'].apply(lambda x: len(set(x))) > 5]\n",
    "print(df.shape)\n",
    "\n",
    "df = df[df['article'].str.len() > 200 ]\n",
    "print(df.shape)"
   ]
  },
  {
   "cell_type": "code",
   "execution_count": 4,
   "id": "756ceec0-8a34-40b3-8598-aa8d132ade0b",
   "metadata": {},
   "outputs": [],
   "source": [
    "df = df.reset_index(drop=True)"
   ]
  },
  {
   "cell_type": "code",
   "execution_count": 5,
   "id": "31db45e0-7877-4832-b53c-435565a1db37",
   "metadata": {},
   "outputs": [],
   "source": [
    "df = df.sample(20_000, random_state=111)"
   ]
  },
  {
   "cell_type": "markdown",
   "id": "9fbcfa11-5363-4ecc-8466-fc64fa80b8f2",
   "metadata": {},
   "source": [
    "## Continue with cleaning text"
   ]
  },
  {
   "cell_type": "code",
   "execution_count": 6,
   "id": "f162a3a9-1d01-4379-9e2e-cefb0fcdd874",
   "metadata": {},
   "outputs": [
    {
     "name": "stderr",
     "output_type": "stream",
     "text": [
      "100%|█████████████████████████████████████████████████████████████████████████████████████████████████████████████████████████████████████████| 20000/20000 [13:55<00:00, 23.95it/s]\n"
     ]
    }
   ],
   "source": [
    "df['words'] = df['article'].progress_apply(\n",
    "    lambda x: tokenize(x, nlp_core, stopwords, join_str=None)\n",
    ")"
   ]
  },
  {
   "cell_type": "code",
   "execution_count": 7,
   "id": "48b3e24e-adff-47af-bab1-e3498169f126",
   "metadata": {},
   "outputs": [],
   "source": [
    "# df = df[df['words'].apply(len)>0]"
   ]
  },
  {
   "cell_type": "markdown",
   "id": "7d548cbc-1e7e-4f60-bab2-dc98252ea976",
   "metadata": {},
   "source": [
    "# Look for more stopwords"
   ]
  },
  {
   "cell_type": "code",
   "execution_count": 8,
   "id": "4937b1a9-e8c7-428b-93a1-23326e160e25",
   "metadata": {},
   "outputs": [],
   "source": [
    "df_one = df.copy()\n",
    "\n",
    "df_one = df_one[['words']].reset_index().explode('words')\n",
    "df_one['n'] = 1\n",
    "df_one['tokens'] = df_one['words'].apply( lambda x: re.sub(r\"[`'-.’0-9]\", \"\", x) )"
   ]
  },
  {
   "cell_type": "code",
   "execution_count": 9,
   "id": "a5d198a8-33ec-4e19-9068-54b556d1a23a",
   "metadata": {},
   "outputs": [
    {
     "data": {
      "image/png": "[encoded data removed]",
      "text/plain": [
       "<Figure size 400x600 with 1 Axes>"
      ]
     },
     "metadata": {},
     "output_type": "display_data"
    }
   ],
   "source": [
    "df_one = df_one[df_one['tokens'].str.len() > 1]\n",
    "\n",
    "f, ax = plt.subplots(figsize=(4,6));\n",
    "df_one.groupby('tokens').agg(n=('n','sum')).sort_values('n').tail(30).plot(kind='barh', ax=ax)\n",
    "plt.title('Trainig set')\n",
    "plt.show()"
   ]
  },
  {
   "cell_type": "code",
   "execution_count": 10,
   "id": "1b9d2d1d-3ab2-4b8f-9a28-b2172a199252",
   "metadata": {},
   "outputs": [
    {
     "data": {
      "image/png": "[encoded data removed]",
      "text/plain": [
       "<Figure size 400x600 with 1 Axes>"
      ]
     },
     "metadata": {},
     "output_type": "display_data"
    }
   ],
   "source": [
    "f, ax = plt.subplots(figsize=(4,6));\n",
    "df_one_p = df_one.groupby('tokens').agg(n=('n','sum')).sort_values('n').tail(30) / df.shape[0]\n",
    "df_one_p.plot(kind='barh', ax=ax)\n",
    "plt.title('Trainig set')\n",
    "plt.show()"
   ]
  },
  {
   "cell_type": "code",
   "execution_count": 11,
   "id": "83360de7-d5dc-4b4d-b907-827dd4d9dab4",
   "metadata": {},
   "outputs": [],
   "source": [
    "extra_stop_words = set(['osoba', \n",
    "                        'polska', \n",
    "                        'zostać',\n",
    "                        'rok',]\n",
    "                       + \n",
    "                       df_one.groupby('tokens').agg(n=('n','sum')).query('n<6').index.values.tolist())"
   ]
  },
  {
   "cell_type": "code",
   "execution_count": 12,
   "id": "41ce3eea-d410-44f9-9052-6691e23b305f",
   "metadata": {},
   "outputs": [
    {
     "data": {
      "text/plain": [
       "168961"
      ]
     },
     "execution_count": 12,
     "metadata": {},
     "output_type": "execute_result"
    }
   ],
   "source": [
    "len(extra_stop_words)"
   ]
  },
  {
   "cell_type": "code",
   "execution_count": 13,
   "id": "534738cc-ce4a-4d1d-ae4c-4555a19f745d",
   "metadata": {},
   "outputs": [
    {
     "name": "stderr",
     "output_type": "stream",
     "text": [
      "100%|████████████████████████████████████████████████████████████████████████████████████████████████████████████████████████████████████████| 20000/20000 [00:00<00:00, 40174.31it/s]\n"
     ]
    }
   ],
   "source": [
    "df['words_clean'] = df['words'].progress_apply(\n",
    "    lambda x: filter_stop_words(x, extra_stop_words, ' ')\n",
    ")"
   ]
  },
  {
   "cell_type": "markdown",
   "id": "2df64ebb-873f-4c0f-baf1-9835ba3e3eb1",
   "metadata": {},
   "source": [
    "## Delete rows without  any words"
   ]
  },
  {
   "cell_type": "code",
   "execution_count": 14,
   "id": "d48376b5-5b1e-4f19-8469-6f1601e9baec",
   "metadata": {},
   "outputs": [
    {
     "data": {
      "text/plain": [
       "0"
      ]
     },
     "execution_count": 14,
     "metadata": {},
     "output_type": "execute_result"
    }
   ],
   "source": [
    "(df['words_clean'].str.len() == 0).sum()"
   ]
  },
  {
   "cell_type": "code",
   "execution_count": 15,
   "id": "b5fb7195-8cc3-416e-93eb-37deca7c8237",
   "metadata": {},
   "outputs": [
    {
     "data": {
      "text/plain": [
       "(20000, 4)"
      ]
     },
     "execution_count": 15,
     "metadata": {},
     "output_type": "execute_result"
    }
   ],
   "source": [
    "df.shape"
   ]
  },
  {
   "cell_type": "code",
   "execution_count": 16,
   "id": "011f4d35-4f29-4194-bc61-cb63d6287970",
   "metadata": {},
   "outputs": [
    {
     "data": {
      "text/plain": [
       "(20000, 4)"
      ]
     },
     "execution_count": 16,
     "metadata": {},
     "output_type": "execute_result"
    }
   ],
   "source": [
    "df = df[df['words_clean'].str.len() > 5].reset_index(drop=True)\n",
    "df.shape"
   ]
  },
  {
   "cell_type": "markdown",
   "id": "069ab686-7575-4f6c-8c9d-72a73fbc8531",
   "metadata": {},
   "source": [
    "# Stylommetric features"
   ]
  },
  {
   "cell_type": "code",
   "execution_count": 17,
   "id": "25c7584c-78ce-4c91-a572-7ddfa3d8c2bf",
   "metadata": {},
   "outputs": [
    {
     "name": "stdout",
     "output_type": "stream",
     "text": [
      "## Get lexical features ##\n"
     ]
    },
    {
     "name": "stderr",
     "output_type": "stream",
     "text": [
      "100%|████████████████████████████████████████████████████████████████████████████████████████████████████████████████████████████████████████| 20000/20000 [00:01<00:00, 17010.47it/s]\n",
      "100%|████████████████████████████████████████████████████████████████████████████████████████████████████████████████████████████████████████| 20000/20000 [00:00<00:00, 28472.88it/s]\n",
      "100%|████████████████████████████████████████████████████████████████████████████████████████████████████████████████████████████████████████| 20000/20000 [00:00<00:00, 22296.08it/s]\n",
      "100%|██████████████████████████████████████████████████████████████████████████████████████████████████████████████████████████████████████| 20000/20000 [00:00<00:00, 1240753.15it/s]\n",
      "100%|████████████████████████████████████████████████████████████████████████████████████████████████████████████████████████████████████████| 20000/20000 [00:00<00:00, 24092.98it/s]\n",
      "100%|█████████████████████████████████████████████████████████████████████████████████████████████████████████████████████████████████████████| 20000/20000 [00:04<00:00, 4895.96it/s]\n"
     ]
    },
    {
     "name": "stdout",
     "output_type": "stream",
     "text": [
      "## Vocab richness ##\n"
     ]
    },
    {
     "name": "stderr",
     "output_type": "stream",
     "text": [
      "100%|███████████████████████████████████████████████████████████████████████████████████████████████████████████████████████████████████████████| 20000/20000 [07:34<00:00, 44.02it/s]\n"
     ]
    },
    {
     "name": "stdout",
     "output_type": "stream",
     "text": [
      "## Readability ##\n"
     ]
    },
    {
     "name": "stderr",
     "output_type": "stream",
     "text": [
      "100%|█████████████████████████████████████████████████████████████████████████████████████████████████████████████████████████████████████████| 20000/20000 [00:05<00:00, 3625.42it/s]\n",
      "100%|█████████████████████████████████████████████████████████████████████████████████████████████████████████████████████████████████████████| 20000/20000 [00:05<00:00, 3629.73it/s]\n",
      "100%|█████████████████████████████████████████████████████████████████████████████████████████████████████████████████████████████████████████| 20000/20000 [00:06<00:00, 3309.47it/s]\n"
     ]
    },
    {
     "name": "stdout",
     "output_type": "stream",
     "text": [
      "## Extra features ##\n"
     ]
    },
    {
     "name": "stderr",
     "output_type": "stream",
     "text": [
      "100%|███████████████████████████████████████████████████████████████████████████████████████████████████████████████████████████████████████████| 20000/20000 [07:29<00:00, 44.54it/s]\n",
      "100%|███████████████████████████████████████████████████████████████████████████████████████████████████████████████████████████████████████████| 20000/20000 [07:29<00:00, 44.49it/s]\n"
     ]
    },
    {
     "name": "stdout",
     "output_type": "stream",
     "text": [
      "## Add WORDS ##\n"
     ]
    },
    {
     "name": "stderr",
     "output_type": "stream",
     "text": [
      "100%|███████████████████████████████████████████████████████████████████████████████████████████████████████████████████████████████████████████| 20000/20000 [07:35<00:00, 43.90it/s]\n"
     ]
    },
    {
     "name": "stdout",
     "output_type": "stream",
     "text": [
      "## Add POS ##\n"
     ]
    },
    {
     "name": "stderr",
     "output_type": "stream",
     "text": [
      "100%|███████████████████████████████████████████████████████████████████████████████████████████████████████████████████████████████████████████| 20000/20000 [07:28<00:00, 44.56it/s]\n"
     ]
    }
   ],
   "source": [
    "df = get_stylometric_features(df,  nlp_core, model_sent, stopwords, 'words_clean', rerun_all=True)"
   ]
  },
  {
   "cell_type": "code",
   "execution_count": 18,
   "id": "f1645c02-53f3-4b42-9ddc-f9223f9cd26b",
   "metadata": {},
   "outputs": [
    {
     "data": {
      "text/plain": [
       "(20000, 33)"
      ]
     },
     "execution_count": 18,
     "metadata": {},
     "output_type": "execute_result"
    }
   ],
   "source": [
    "df.shape"
   ]
  },
  {
   "cell_type": "markdown",
   "id": "396b0300-848f-4b0b-ab59-90c019282800",
   "metadata": {},
   "source": [
    "## Save stylommetric features"
   ]
  },
  {
   "cell_type": "code",
   "execution_count": 19,
   "id": "7fd8595d-ba2a-4053-85b3-516008c278ac",
   "metadata": {},
   "outputs": [],
   "source": [
    "target_column = ['assestment']\n",
    "\n",
    "stylo_features = [\n",
    "    'avg_word_len',\n",
    "    'n_words', 'n_unique_words', 'p_unique_words', 'n_char',\n",
    "    'n_special_char', 'avg_n_vowels_per_word', 'hapax_legomena',\n",
    "    'hapax_dislegemena', 'honore_r', 'sichel_s', 'brunet_w', 'yule_k',\n",
    "    'shannon_entropy', 'simpson_idx_d', 'type_token_ratio', 'FR_score',\n",
    "    'FKG_level', 'Gunning_Fog_index', \n",
    "    # 'sentiment_all', 'sentiment_avg',\n",
    "    'n_stop_words', 'n_ent', 'p_adj', 'n_adj', 'p_adv', 'n_adv', 'p_noun',\n",
    "    'n_noun',\n",
    "]\n",
    "\n",
    "cols_for_other_f = ['text_clean', 'TEXT_WORD', 'TEXT_POS']"
   ]
  },
  {
   "cell_type": "code",
   "execution_count": 20,
   "id": "8d253df2-9b7f-4b61-823f-1e0e0e48181f",
   "metadata": {},
   "outputs": [
    {
     "data": {
      "text/plain": [
       "27"
      ]
     },
     "execution_count": 20,
     "metadata": {},
     "output_type": "execute_result"
    }
   ],
   "source": [
    "len(stylo_features)"
   ]
  },
  {
   "cell_type": "code",
   "execution_count": 21,
   "id": "efabae90-754d-4eb9-8fa0-0e40b744d3f1",
   "metadata": {},
   "outputs": [],
   "source": [
    "df[target_column+stylo_features].to_parquet('../datasets/used_data/02_classical_ml/04_01_political_polarization_10p_styllometric_features.parquet')"
   ]
  },
  {
   "cell_type": "markdown",
   "id": "bb13ee50-2f29-48db-ae9e-843fc9cb99e0",
   "metadata": {},
   "source": [
    "# Ngrams POS"
   ]
  },
  {
   "cell_type": "code",
   "execution_count": 52,
   "id": "c2b0abdc-ee4b-4a99-b64c-5693e965962f",
   "metadata": {},
   "outputs": [],
   "source": [
    "n_grams = 5\n",
    "min_pos = 100 # +-5%"
   ]
  },
  {
   "cell_type": "code",
   "execution_count": 53,
   "id": "52255441-5ab9-4bfd-8ad5-a44d0bb3b84d",
   "metadata": {},
   "outputs": [
    {
     "name": "stderr",
     "output_type": "stream",
     "text": [
      "100%|█████████████████████████████████████████████████████████████████████████████████████████████████████████████████████████████████████████████| 4998/4998 [33:12<00:00,  2.51it/s]\n"
     ]
    }
   ],
   "source": [
    "df_pos = df[target_column].copy()\n",
    "\n",
    "words =  sum(df['TEXT_POS'].str.split(' ').values.tolist(), [])\n",
    "\n",
    "n_list = []\n",
    "for n in range(n_grams):\n",
    "    n_i = pd.Series(nltk.ngrams(words, n+1)).value_counts()\n",
    "    n_i = n_i[n_i>min_pos]\n",
    "    n_list.append(n_i)\n",
    "\n",
    "n_iterator = []\n",
    "for n_i in n_list:\n",
    "    n_iterator += n_i.index.tolist()\n",
    "    \n",
    "col = {}\n",
    "    \n",
    "for n in tqdm(n_iterator):\n",
    "    x = df['TEXT_POS'].str.count(' '.join(n)) / df['TEXT_POS'].str.split(' ').str.len()\n",
    "\n",
    "    col[' '.join(n)] = x\n",
    "    col[' '.join(n)].name = ' '.join(n)\n",
    "            \n",
    "df_pos = pd.concat( [df_pos] + list( col.values() ), axis=1 )"
   ]
  },
  {
   "cell_type": "code",
   "execution_count": 54,
   "id": "2c352c5c-ed4a-47ef-bb3a-84e3e37b3713",
   "metadata": {},
   "outputs": [
    {
     "data": {
      "text/plain": [
       "(20000, 4999)"
      ]
     },
     "execution_count": 54,
     "metadata": {},
     "output_type": "execute_result"
    }
   ],
   "source": [
    "df_pos.shape"
   ]
  },
  {
   "cell_type": "code",
   "execution_count": 55,
   "id": "444f2591-e37d-49f5-ae0b-80a7730961ba",
   "metadata": {},
   "outputs": [],
   "source": [
    "df_pos.to_parquet('../datasets/used_data/02_classical_ml/04_02_political_polarization_10p_POS_ngrams.parquet')"
   ]
  },
  {
   "cell_type": "markdown",
   "id": "79e0a6b3-35b2-4d73-91a4-31aac9f99507",
   "metadata": {},
   "source": [
    "# Ngram words"
   ]
  },
  {
   "cell_type": "code",
   "execution_count": 48,
   "id": "d4438421-1673-4add-87c1-b40b5171bd5e",
   "metadata": {},
   "outputs": [],
   "source": [
    "n_grams = 5\n",
    "min_pos = 100"
   ]
  },
  {
   "cell_type": "code",
   "execution_count": 49,
   "id": "15a607c0-e249-4ef7-9ed2-e1b4452e28b3",
   "metadata": {},
   "outputs": [
    {
     "name": "stderr",
     "output_type": "stream",
     "text": [
      "100%|███████████████████████████████████████████████████████████████████████████████████████████████████████████████████████████████████████████| 6535/6535 [1:07:19<00:00,  1.62it/s]\n"
     ]
    }
   ],
   "source": [
    "df_ngram = df[target_column + ['TEXT_WORD']].copy()\n",
    "\n",
    "words =  sum(df['TEXT_WORD'].str.split(' ').values.tolist(), [])\n",
    "\n",
    "n_list = []\n",
    "for n in range(n_grams):\n",
    "    n_i = pd.Series(nltk.ngrams(words, n+1)).value_counts()\n",
    "    n_i = n_i[n_i>min_pos]\n",
    "    n_list.append(n_i)\n",
    "\n",
    "n_iterator = []\n",
    "for n_i in n_list:\n",
    "    n_iterator += n_i.index.tolist()\n",
    "\n",
    "col = {}\n",
    "    \n",
    "for n in tqdm(n_iterator):\n",
    "    x = df['TEXT_WORD'].str.count(' '.join(n)) / df['TEXT_WORD'].str.split(' ').str.len()\n",
    "\n",
    "    col[' '.join(n)] = x\n",
    "    col[' '.join(n)].name = ' '.join(n)\n",
    "            \n",
    "df_ngram = pd.concat( [df_ngram] + list( col.values() ), axis=1 )"
   ]
  },
  {
   "cell_type": "code",
   "execution_count": 50,
   "id": "9c560cd7-e411-4ae7-a1e6-93c7f656e5cf",
   "metadata": {},
   "outputs": [
    {
     "data": {
      "text/plain": [
       "(20000, 6537)"
      ]
     },
     "execution_count": 50,
     "metadata": {},
     "output_type": "execute_result"
    }
   ],
   "source": [
    "df_ngram.shape"
   ]
  },
  {
   "cell_type": "code",
   "execution_count": 51,
   "id": "9a1578b7-020f-46dc-baea-b9553612dfcb",
   "metadata": {},
   "outputs": [],
   "source": [
    "df_ngram.to_parquet('../datasets/used_data/02_classical_ml/04_03_political_polarization_10p_words_ngrams.parquet')"
   ]
  },
  {
   "cell_type": "markdown",
   "id": "c37ead70-2554-4817-982f-1aa3f6e072c8",
   "metadata": {},
   "source": [
    "# HerBERT embeddgins"
   ]
  },
  {
   "cell_type": "code",
   "execution_count": 30,
   "id": "629426ba-9ffc-4562-a7a8-e12143cb923c",
   "metadata": {},
   "outputs": [
    {
     "data": {
      "text/plain": [
       "device(type='cuda')"
      ]
     },
     "execution_count": 30,
     "metadata": {},
     "output_type": "execute_result"
    }
   ],
   "source": [
    "device = torch.device('cuda' if torch.cuda.is_available() else 'cpu')\n",
    "device"
   ]
  },
  {
   "cell_type": "code",
   "execution_count": 31,
   "id": "ba845d2b-52d1-4d3e-b0fe-e21bbd45cfc6",
   "metadata": {},
   "outputs": [
    {
     "name": "stderr",
     "output_type": "stream",
     "text": [
      "/home/marek/anaconda3/envs/nlp_test/lib/python3.9/site-packages/transformers/utils/generic.py:309: FutureWarning: `torch.utils._pytree._register_pytree_node` is deprecated. Please use `torch.utils._pytree.register_pytree_node` instead.\n",
      "  _torch_pytree._register_pytree_node(\n",
      "/home/marek/anaconda3/envs/nlp_test/lib/python3.9/site-packages/transformers/modeling_utils.py:484: FutureWarning: You are using `torch.load` with `weights_only=False` (the current default value), which uses the default pickle module implicitly. It is possible to construct malicious pickle data which will execute arbitrary code during unpickling (See https://github.com/pytorch/pytorch/blob/main/SECURITY.md#untrusted-models for more details). In a future release, the default value for `weights_only` will be flipped to `True`. This limits the functions that could be executed during unpickling. Arbitrary objects will no longer be allowed to be loaded via this mode unless they are explicitly allowlisted by the user via `torch.serialization.add_safe_globals`. We recommend you start setting `weights_only=True` for any use case where you don't have full control of the loaded file. Please open an issue on GitHub for any issues related to this experimental feature.\n",
      "  return torch.load(checkpoint_file, map_location=map_location)\n",
      "Some weights of the model checkpoint at allegro/herbert-large-cased were not used when initializing BertModel: ['cls.predictions.transform.dense.bias', 'cls.predictions.decoder.bias', 'cls.sso.sso_relationship.bias', 'cls.predictions.transform.LayerNorm.bias', 'cls.predictions.transform.LayerNorm.weight', 'cls.sso.sso_relationship.weight', 'cls.predictions.decoder.weight', 'cls.predictions.transform.dense.weight', 'cls.predictions.bias']\n",
      "- This IS expected if you are initializing BertModel from the checkpoint of a model trained on another task or with another architecture (e.g. initializing a BertForSequenceClassification model from a BertForPreTraining model).\n",
      "- This IS NOT expected if you are initializing BertModel from the checkpoint of a model that you expect to be exactly identical (initializing a BertForSequenceClassification model from a BertForSequenceClassification model).\n"
     ]
    }
   ],
   "source": [
    "tokenizer = AutoTokenizer.from_pretrained(\"allegro/herbert-large-cased\")\n",
    "model = AutoModel.from_pretrained(\"allegro/herbert-large-cased\").to(device)"
   ]
  },
  {
   "cell_type": "code",
   "execution_count": 33,
   "id": "ea525cd4-9c23-493f-a4be-2f2b77dac288",
   "metadata": {},
   "outputs": [
    {
     "name": "stderr",
     "output_type": "stream",
     "text": [
      "100%|█████████████████████████████████████████████████████████████████████████████████████████████████████████████████████████████████████████| 20000/20000 [34:27<00:00,  9.67it/s]\n"
     ]
    }
   ],
   "source": [
    "embeddings_table = np.zeros((df.shape[0], 1024))\n",
    "\n",
    "for i, t in enumerate(tqdm(df['article'].values)):\n",
    "    encoded_input = tokenizer(t, return_tensors='pt', truncation=True, padding=True).to(device)\n",
    "    output = model(**encoded_input)[0][:,0]\n",
    "    embeddings_table[i,:] = output.detach().to('cpu').numpy()"
   ]
  },
  {
   "cell_type": "code",
   "execution_count": 34,
   "id": "4a9fec0d-6f26-4861-8194-98f4fa8ad5c1",
   "metadata": {},
   "outputs": [],
   "source": [
    "with open('../datasets/used_data/02_classical_ml/04_05_political_polarization_10p_herbert.npy', 'wb') as f:\n",
    "    np.save(f, embeddings_table)"
   ]
  },
  {
   "cell_type": "markdown",
   "id": "cef457b3-4a7d-4498-af50-17a2a25504e8",
   "metadata": {},
   "source": [
    "# RoBERTa embeddgins"
   ]
  },
  {
   "cell_type": "code",
   "execution_count": 37,
   "id": "274064a7-2871-45cd-913c-9857131831f3",
   "metadata": {},
   "outputs": [],
   "source": [
    "# tokenizer = AutoTokenizer.from_pretrained(\"sdadas/polish-roberta-large-v2\")\n",
    "# model = AutoModel.from_pretrained(\"sdadas/polish-roberta-large-v2\").to(device)"
   ]
  },
  {
   "cell_type": "code",
   "execution_count": 38,
   "id": "40b875c3-3e8c-4224-83ba-6b2f4b1ce323",
   "metadata": {},
   "outputs": [],
   "source": [
    "# embeddings_table = np.zeros((df.shape[0], 1024))\n",
    "\n",
    "# for i, t in enumerate(tqdm(df['article'].values)):\n",
    "#     encoded_input = tokenizer(t, return_tensors='pt', truncation=True, padding=True).to(device)\n",
    "#     output = model(**encoded_input)[0][:,0]\n",
    "#     embeddings_table[i,:] = output.detach().to('cpu').numpy()"
   ]
  },
  {
   "cell_type": "code",
   "execution_count": 39,
   "id": "99330354-9724-4fa9-af57-f7d80a8665e7",
   "metadata": {},
   "outputs": [],
   "source": [
    "# with open('../datasets/used_data/02_classical_ml/04_06_political_polarization_10p_roberta.npy', 'wb') as f:\n",
    "#     np.save(f, embeddings_table)"
   ]
  },
  {
   "cell_type": "code",
   "execution_count": null,
   "id": "6bee149d-1de0-499c-8b68-b2fb710c729f",
   "metadata": {},
   "outputs": [],
   "source": []
  }
 ],
 "metadata": {
  "kernelspec": {
   "display_name": "Python 3 (ipykernel)",
   "language": "python",
   "name": "python3"
  },
  "language_info": {
   "codemirror_mode": {
    "name": "ipython",
    "version": 3
   },
   "file_extension": ".py",
   "mimetype": "text/x-python",
   "name": "python",
   "nbconvert_exporter": "python",
   "pygments_lexer": "ipython3",
   "version": "3.9.18"
  }
 },
 "nbformat": 4,
 "nbformat_minor": 5
}
