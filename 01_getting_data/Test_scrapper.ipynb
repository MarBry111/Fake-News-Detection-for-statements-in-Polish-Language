{
 "cells": [
  {
   "cell_type": "code",
   "execution_count": 93,
   "id": "1041ae77",
   "metadata": {},
   "outputs": [],
   "source": [
    "from bs4 import BeautifulSoup\n",
    "import requests\n",
    "import json\n",
    "\n",
    "import time\n",
    "import numpy as np\n",
    "import pandas as pd \n",
    "\n",
    "import re\n",
    "\n",
    "from tqdm import tqdm\n",
    "import unicodedata"
   ]
  },
  {
   "cell_type": "markdown",
   "id": "47e4e4ed",
   "metadata": {},
   "source": [
    "## Demagog"
   ]
  },
  {
   "cell_type": "code",
   "execution_count": 2,
   "id": "6e4aa604",
   "metadata": {},
   "outputs": [],
   "source": [
    "demagog_statements_url = 'https://demagog.org.pl/wypowiedzi/page/'\n",
    "page=requests.get(f'{demagog_statements_url}1')"
   ]
  },
  {
   "cell_type": "code",
   "execution_count": 3,
   "id": "087d8f6e",
   "metadata": {},
   "outputs": [],
   "source": [
    "soup = BeautifulSoup(page.content, 'html.parser')"
   ]
  },
  {
   "cell_type": "code",
   "execution_count": 4,
   "id": "49184a37",
   "metadata": {},
   "outputs": [
    {
     "data": {
      "text/plain": [
       "83"
      ]
     },
     "execution_count": 4,
     "metadata": {},
     "output_type": "execute_result"
    }
   ],
   "source": [
    "n_pages = int(soup.findAll(\"a\", class_=\"page-numbers\")[1].text)\n",
    "n_pages"
   ]
  },
  {
   "cell_type": "code",
   "execution_count": 5,
   "id": "a7f9c4f5",
   "metadata": {},
   "outputs": [
    {
     "name": "stderr",
     "output_type": "stream",
     "text": [
      "page 1 of 83:   0%|                                      | 0/60 [00:03<?, ?it/s]\n"
     ]
    }
   ],
   "source": [
    "txt_list = []\n",
    "assestment_list = []\n",
    "author_list = []\n",
    "source_list = []\n",
    "\n",
    "for i in range(1,n_pages+1):\n",
    "    \n",
    "    page=requests.get(f'{demagog_statements_url}{i}')\n",
    "    soup = BeautifulSoup(page.content, 'html.parser')\n",
    "    \n",
    "    for s in tqdm(soup.findAll(\"h2\", class_=\"mt-0 mb-1 title-archive\"), \n",
    "                  desc=f'page {i} of {n_pages}', \n",
    "                  position=0\n",
    "                 ):\n",
    "        statement_url = s.find('a').get(\"href\")\n",
    "\n",
    "        page_statement = requests.get(statement_url)\n",
    "        soup_statement = BeautifulSoup(page_statement.content, 'html.parser')\n",
    "\n",
    "        txt = unicodedata.normalize(soup_statement.find('blockquote', class_='hyphenate target-blank twitter-tweet') \\\n",
    "                .find('p').text)\n",
    "\n",
    "        assestment = unicodedata.normalize(soup_statement.find_all('p', {\"class\": \"ocena\"})[0].text)\n",
    "        author = unicodedata.normalize(\"NFKD\", \n",
    "                                       soup_statement.find('div', class_='h2 person-name mt-0 count-text').find('a').text)\n",
    "        source = unicodedata.normalize(\"NFKD\", \n",
    "                                       soup_statement.find('div', class_='w-100 text-right date-content target-blank').find('p').text)\n",
    "        \n",
    "        txt_list.append(txt)\n",
    "        assestment_list.append(assestment)\n",
    "        author_list.append(author)\n",
    "        source_list.append(source)\n",
    "        \n",
    "        time.sleep(1+np.random.randint(5)/5)"
   ]
  },
  {
   "cell_type": "code",
   "execution_count": 19,
   "id": "6ba5ce0b",
   "metadata": {},
   "outputs": [
    {
     "data": {
      "text/plain": [
       "'Poranna rozmowa w RMF FM, 18.05.2022'"
      ]
     },
     "execution_count": 19,
     "metadata": {},
     "output_type": "execute_result"
    }
   ],
   "source": [
    "unicodedata.normalize(\"NFKD\", \n",
    "soup_statement.find('div', class_='w-100 text-right date-content target-blank').find('p').text\n",
    "                     )"
   ]
  },
  {
   "cell_type": "code",
   "execution_count": 16,
   "id": "25d2f3e0",
   "metadata": {},
   "outputs": [
    {
     "ename": "LookupError",
     "evalue": "unknown encoding: string_escape",
     "output_type": "error",
     "traceback": [
      "\u001b[0;31m---------------------------------------------------------------------------\u001b[0m",
      "\u001b[0;31mLookupError\u001b[0m                               Traceback (most recent call last)",
      "\u001b[0;32m/tmp/ipykernel_9698/2983603976.py\u001b[0m in \u001b[0;36m<module>\u001b[0;34m\u001b[0m\n\u001b[0;32m----> 1\u001b[0;31m \u001b[0;34m'Poranna rozmowa w\\xa0RMF FM, 18.05.2022'\u001b[0m\u001b[0;34m.\u001b[0m\u001b[0mencode\u001b[0m\u001b[0;34m(\u001b[0m\u001b[0;34m\"string_escape\"\u001b[0m\u001b[0;34m)\u001b[0m\u001b[0;34m\u001b[0m\u001b[0;34m\u001b[0m\u001b[0m\n\u001b[0m",
      "\u001b[0;31mLookupError\u001b[0m: unknown encoding: string_escape"
     ]
    }
   ],
   "source": [
    "'Poranna rozmowa w\\xa0RMF FM, 18.05.2022'.decode(\"string_escape\")"
   ]
  },
  {
   "cell_type": "code",
   "execution_count": 72,
   "id": "1e395a07",
   "metadata": {},
   "outputs": [],
   "source": [
    "df_out = pd.DataFrame({'assestment' : assestment_list, 'text' : txt_list})\n",
    "df_out.to_csv('../datasets/demagog.csv', sep=';', index=False)"
   ]
  },
  {
   "cell_type": "markdown",
   "id": "f917a29e",
   "metadata": {},
   "source": [
    "## Oko.press"
   ]
  },
  {
   "cell_type": "code",
   "execution_count": 82,
   "id": "6691d0fc",
   "metadata": {},
   "outputs": [],
   "source": [
    "# https://stackoverflow.com/questions/48477688/scrape-page-with-load-more-results-button"
   ]
  },
  {
   "cell_type": "code",
   "execution_count": 81,
   "id": "a881138e",
   "metadata": {},
   "outputs": [],
   "source": [
    "oko_press_statements_url = 'https://oko.press/kategoria/prawda-czy-falsz/strona/'\n",
    "page=requests.get(f'{oko_press_statements_url}{1}')"
   ]
  },
  {
   "cell_type": "code",
   "execution_count": 78,
   "id": "d7903a41",
   "metadata": {},
   "outputs": [],
   "source": [
    "soup = BeautifulSoup(page.content, 'html.parser')"
   ]
  },
  {
   "cell_type": "code",
   "execution_count": 79,
   "id": "a48f7248",
   "metadata": {},
   "outputs": [
    {
     "data": {
      "text/plain": [
       "[<a class=\"text__quotation\" href=\"https://oko.press/wypowiedzi/morawiecki-konstytucja-3-maja-wykluczala-niewole/\" title=\"Mateusz Morawiecki\">\n",
       " <p>Zresztą, polska Konstytucja była nawet dalej idąca niż ta zza oceanu, bo wykluczała niewolnictwo.</p>\n",
       " </a>,\n",
       " <a class=\"text__quotation\" href=\"https://oko.press/wypowiedzi/morawiecki-o-ruskim-gazie/\" title=\"Mateusz Morawiecki\">\n",
       " <p>Od dzisiaj, kiedy Rosja przestała przesyłać swój gaz do Polski, przestaliśmy w jakikolwiek sposób od Rosji zależeć.</p>\n",
       " </a>,\n",
       " <a class=\"text__quotation\" href=\"https://oko.press/wypowiedzi/ilu-mamy-uchodzcow-w-polsce/\" title=\"Michał Dworczyk\">\n",
       " <p>Możemy powiedzieć, że mamy między 1,5 a 2 mln wojennych uchodźców w Polsce</p>\n",
       " </a>]"
      ]
     },
     "execution_count": 79,
     "metadata": {},
     "output_type": "execute_result"
    }
   ],
   "source": [
    "soup.find_all('a', {'class' : 'text__quotation'})"
   ]
  },
  {
   "cell_type": "markdown",
   "id": "a03c7706",
   "metadata": {},
   "source": [
    "## Fakehunter (only linkt to sources)"
   ]
  },
  {
   "cell_type": "code",
   "execution_count": 86,
   "id": "ff20dcb6",
   "metadata": {},
   "outputs": [],
   "source": [
    "fakehunter_statements_url = f'https://panel-api.fakehunter.pap.pl/news/published/news?page={j}'\n",
    "response = requests.get(fakehunter_statements_url)"
   ]
  },
  {
   "cell_type": "code",
   "execution_count": 94,
   "id": "529fede5",
   "metadata": {},
   "outputs": [
    {
     "name": "stderr",
     "output_type": "stream",
     "text": [
      "100%|█████████████████████████████████████████| 123/123 [01:17<00:00,  1.59it/s]\n"
     ]
    }
   ],
   "source": [
    "fake_hunter = []\n",
    "for j in tqdm(range(1, 124)):\n",
    "    fakehunter_statements_url = f'https://panel-api.fakehunter.pap.pl/news/published/news?page={j}'\n",
    "    response = requests.get(fakehunter_statements_url)\n",
    "\n",
    "    response_dict = response.json()\n",
    "    \n",
    "    for r in response_dict['results']:\n",
    "        verdict = r['expert_opinion']['verdict']\n",
    "        title = r['title']\n",
    "        url = r['url']\n",
    "        \n",
    "        fake_hunter.append([verdict, title, url])"
   ]
  },
  {
   "cell_type": "code",
   "execution_count": 96,
   "id": "4aa8e1b3",
   "metadata": {},
   "outputs": [
    {
     "data": {
      "text/plain": [
       "2459"
      ]
     },
     "execution_count": 96,
     "metadata": {},
     "output_type": "execute_result"
    }
   ],
   "source": [
    "len(fake_hunter)"
   ]
  },
  {
   "cell_type": "code",
   "execution_count": 100,
   "id": "0baac48d",
   "metadata": {},
   "outputs": [
    {
     "data": {
      "text/plain": [
       "(2459, 3)"
      ]
     },
     "execution_count": 100,
     "metadata": {},
     "output_type": "execute_result"
    }
   ],
   "source": [
    "df_fh = pd.DataFrame(fake_hunter, columns=['verdict', 'title', 'url'])\n",
    "df_fh.shape"
   ]
  },
  {
   "cell_type": "code",
   "execution_count": 103,
   "id": "9e0bb49b",
   "metadata": {},
   "outputs": [
    {
     "data": {
      "text/plain": [
       "(699, 3)"
      ]
     },
     "execution_count": 103,
     "metadata": {},
     "output_type": "execute_result"
    }
   ],
   "source": [
    "df_fh = df_fh[df_fh['url'].str.contains('twitter.com')]\n",
    "df_fh.shape"
   ]
  },
  {
   "cell_type": "code",
   "execution_count": 104,
   "id": "7f46cf17",
   "metadata": {},
   "outputs": [],
   "source": [
    "df_fh.to_csv('../datasets/scrapped/fake_hunter.csv')"
   ]
  },
  {
   "cell_type": "markdown",
   "id": "2765c23e",
   "metadata": {},
   "source": [
    "## fakenews.pl"
   ]
  },
  {
   "cell_type": "code",
   "execution_count": null,
   "id": "19c08f79",
   "metadata": {},
   "outputs": [],
   "source": []
  }
 ],
 "metadata": {
  "kernelspec": {
   "display_name": "Python 3 (ipykernel)",
   "language": "python",
   "name": "python3"
  },
  "language_info": {
   "codemirror_mode": {
    "name": "ipython",
    "version": 3
   },
   "file_extension": ".py",
   "mimetype": "text/x-python",
   "name": "python",
   "nbconvert_exporter": "python",
   "pygments_lexer": "ipython3",
   "version": "3.9.12"
  }
 },
 "nbformat": 4,
 "nbformat_minor": 5
}
