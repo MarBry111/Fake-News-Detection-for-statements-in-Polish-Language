{
 "cells": [
  {
   "cell_type": "code",
   "execution_count": 1,
   "id": "479ef316",
   "metadata": {},
   "outputs": [],
   "source": [
    "import tweepy\n",
    "import json"
   ]
  },
  {
   "cell_type": "code",
   "execution_count": 2,
   "id": "991a4a9d",
   "metadata": {},
   "outputs": [],
   "source": [
    "with open('../twitter_credentials.json') as f:\n",
    "    credentials = json.load(f)"
   ]
  },
  {
   "cell_type": "code",
   "execution_count": 3,
   "id": "1d2a4836",
   "metadata": {},
   "outputs": [],
   "source": [
    "auth = tweepy.OAuth2BearerHandler(credentials['token'])\n",
    "api = tweepy.API(auth)"
   ]
  },
  {
   "cell_type": "code",
   "execution_count": null,
   "id": "a617eccc",
   "metadata": {},
   "outputs": [],
   "source": [
    "# https://fakehunter.pap.pl/raport/0393bc47-30c4-46b5-b76b-bb0a16172303\n",
    "# https://mobile.twitter.com/Magdale50711683/status/1533723466318462977"
   ]
  },
  {
   "cell_type": "code",
   "execution_count": 10,
   "id": "7fce26bc",
   "metadata": {},
   "outputs": [
    {
     "name": "stdout",
     "output_type": "stream",
     "text": [
      "Do szkoły przyszedł rozkaz. Wszyscy Ukraińcy mają zdać. Co z tego, że większość nie chodzi na zajęcia albo nie jest w stanie nauczyć się przez 2 miesiące 20 słów z ang. Na pytanie, czy mam stawiać fikcyjne oceny, dyrektor powtarza jak katarynka, że jego to nie obchodzi -mają zdać\n"
     ]
    }
   ],
   "source": [
    "id_of_tweet = 1533723466318462977\n",
    "\n",
    "tweet = api.get_status(id_of_tweet, tweet_mode = \"extended\")\n",
    "print(tweet.full_text)"
   ]
  },
  {
   "cell_type": "code",
   "execution_count": null,
   "id": "d5bc2de0",
   "metadata": {},
   "outputs": [],
   "source": []
  }
 ],
 "metadata": {
  "kernelspec": {
   "display_name": "Python 3 (ipykernel)",
   "language": "python",
   "name": "python3"
  },
  "language_info": {
   "codemirror_mode": {
    "name": "ipython",
    "version": 3
   },
   "file_extension": ".py",
   "mimetype": "text/x-python",
   "name": "python",
   "nbconvert_exporter": "python",
   "pygments_lexer": "ipython3",
   "version": "3.9.12"
  }
 },
 "nbformat": 4,
 "nbformat_minor": 5
}
