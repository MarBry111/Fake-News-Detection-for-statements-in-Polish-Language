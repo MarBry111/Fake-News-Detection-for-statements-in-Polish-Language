{
 "cells": [
  {
   "cell_type": "markdown",
   "id": "beffabc2",
   "metadata": {},
   "source": [
    "- https://github.com/ksopyla/awesome-nlp-polish\n",
    "- Sentiment: https://pypi.org/project/sentimentpl/\n",
    "- Auto correct: https://github.com/filyp/autocorrect\n",
    "- other: https://github.com/sdadas/polish-nlp-resources\n",
    "- papers: https://homados.ipipan.waw.pl/?page_id=93"
   ]
  },
  {
   "cell_type": "code",
   "execution_count": 1,
   "id": "1652209b",
   "metadata": {},
   "outputs": [
    {
     "name": "stdout",
     "output_type": "stream",
     "text": [
      "INFO: Pandarallel will run on 7 workers.\n",
      "INFO: Pandarallel will use Memory file system to transfer data between the main process and workers.\n"
     ]
    }
   ],
   "source": [
    "import pandas as pd\n",
    "import numpy as np\n",
    "\n",
    "from tqdm import tqdm\n",
    "tqdm.pandas()\n",
    "from pandarallel import pandarallel\n",
    "pandarallel.initialize(nb_workers=7,progress_bar=True)\n",
    "\n",
    "from parallelbar import progress_map\n",
    "\n",
    "# import spacy\n",
    "# from sentimentpl.models import SentimentPLModel\n",
    "# from autocorrect import Speller\n",
    "\n",
    "# nlp_core = spacy.load(\"pl_core_news_lg\")\n",
    "# model = SentimentPLModel(from_pretrained='latest')\n",
    "# spell = Speller('pl')\n",
    "\n",
    "from utils import *"
   ]
  },
  {
   "cell_type": "markdown",
   "id": "6fb02727",
   "metadata": {},
   "source": [
    "# CZ data"
   ]
  },
  {
   "cell_type": "code",
   "execution_count": 2,
   "id": "4cfa81b2",
   "metadata": {},
   "outputs": [
    {
     "data": {
      "application/vnd.jupyter.widget-view+json": {
       "model_id": "133e1a7a034048ceb3b508ae5e729e55",
       "version_major": 2,
       "version_minor": 0
      },
      "text/plain": [
       "Core 1:   0%|          | 0/405 [00:00<?, ?it/s]"
      ]
     },
     "metadata": {},
     "output_type": "display_data"
    },
    {
     "data": {
      "application/vnd.jupyter.widget-view+json": {
       "model_id": "48793dd4c8fa414fa75616262ac6ba06",
       "version_major": 2,
       "version_minor": 0
      },
      "text/plain": [
       "Core 2:   0%|          | 0/405 [00:00<?, ?it/s]"
      ]
     },
     "metadata": {},
     "output_type": "display_data"
    },
    {
     "data": {
      "application/vnd.jupyter.widget-view+json": {
       "model_id": "c02afca8fc0d4c9581c79e79d088155f",
       "version_major": 2,
       "version_minor": 0
      },
      "text/plain": [
       "Core 3:   0%|          | 0/405 [00:00<?, ?it/s]"
      ]
     },
     "metadata": {},
     "output_type": "display_data"
    },
    {
     "data": {
      "application/vnd.jupyter.widget-view+json": {
       "model_id": "a93a82d4c8c0449882b55c55fda53323",
       "version_major": 2,
       "version_minor": 0
      },
      "text/plain": [
       "Core 4:   0%|          | 0/405 [00:00<?, ?it/s]"
      ]
     },
     "metadata": {},
     "output_type": "display_data"
    },
    {
     "data": {
      "application/vnd.jupyter.widget-view+json": {
       "model_id": "a760d92cc48349158b3d79da74a8b752",
       "version_major": 2,
       "version_minor": 0
      },
      "text/plain": [
       "Core 5:   0%|          | 0/405 [00:00<?, ?it/s]"
      ]
     },
     "metadata": {},
     "output_type": "display_data"
    },
    {
     "data": {
      "application/vnd.jupyter.widget-view+json": {
       "model_id": "11d68edd7a134f048a9379e550310034",
       "version_major": 2,
       "version_minor": 0
      },
      "text/plain": [
       "Core 6:   0%|          | 0/405 [00:00<?, ?it/s]"
      ]
     },
     "metadata": {},
     "output_type": "display_data"
    },
    {
     "data": {
      "application/vnd.jupyter.widget-view+json": {
       "model_id": "7b8de4a7cbd943988294462a466e2161",
       "version_major": 2,
       "version_minor": 0
      },
      "text/plain": [
       "Core 7:   0%|          | 0/405 [00:00<?, ?it/s]"
      ]
     },
     "metadata": {},
     "output_type": "display_data"
    }
   ],
   "source": [
    "df_pl_cz = pd.read_csv('../datasets/demagog_nlp_cz/converted-exp-PL.tsv', sep='\\t')\n",
    "\n",
    "df_pl_cz['text_clean'] = df_pl_cz['statementText'].apply(lambda x: clean_przyp(x))\n",
    "\n",
    "tasks = df_pl_cz['text_clean'].values.tolist()\n",
    "result = progress_map(extract_features, tasks, n_cpu=7, chunk_size=1, core_progress=True)"
   ]
  },
  {
   "cell_type": "code",
   "execution_count": 4,
   "id": "5ffba044",
   "metadata": {},
   "outputs": [],
   "source": [
    "df_pl_cz['raw_dict'] = result \n",
    "\n",
    "df_clean = (\n",
    "    df_pl_cz.join( \n",
    "        df_pl_cz['raw_dict']\n",
    "        .apply(pd.Series)\n",
    "    ).drop('raw_dict', axis=1)\n",
    ")\n",
    "\n",
    "df_clean['TEXT_POS'] = df_clean['TEXT_POS'].str.join(\" \")"
   ]
  },
  {
   "cell_type": "code",
   "execution_count": 5,
   "id": "aeea487c",
   "metadata": {},
   "outputs": [],
   "source": [
    "df_clean.to_csv('../datasets/ready2use/fake_news_features_cz.csv', sep=';', index=False, encoding='utf8')"
   ]
  },
  {
   "cell_type": "markdown",
   "id": "32386f33",
   "metadata": {},
   "source": [
    "# Demagog"
   ]
  },
  {
   "cell_type": "code",
   "execution_count": 6,
   "id": "b242da03",
   "metadata": {},
   "outputs": [
    {
     "data": {
      "application/vnd.jupyter.widget-view+json": {
       "model_id": "85f106215f304af6a447dd2b02027d8f",
       "version_major": 2,
       "version_minor": 0
      },
      "text/plain": [
       "Core 1:   0%|          | 0/703 [00:00<?, ?it/s]"
      ]
     },
     "metadata": {},
     "output_type": "display_data"
    },
    {
     "data": {
      "application/vnd.jupyter.widget-view+json": {
       "model_id": "704a6b1dc84047b696d01521d45925a8",
       "version_major": 2,
       "version_minor": 0
      },
      "text/plain": [
       "Core 2:   0%|          | 0/703 [00:00<?, ?it/s]"
      ]
     },
     "metadata": {},
     "output_type": "display_data"
    },
    {
     "data": {
      "application/vnd.jupyter.widget-view+json": {
       "model_id": "36924dd13e084a2084ad1dae0e8d0adb",
       "version_major": 2,
       "version_minor": 0
      },
      "text/plain": [
       "Core 3:   0%|          | 0/703 [00:00<?, ?it/s]"
      ]
     },
     "metadata": {},
     "output_type": "display_data"
    },
    {
     "data": {
      "application/vnd.jupyter.widget-view+json": {
       "model_id": "9ec9bd94b5384ed1a90babcff86da51f",
       "version_major": 2,
       "version_minor": 0
      },
      "text/plain": [
       "Core 4:   0%|          | 0/703 [00:00<?, ?it/s]"
      ]
     },
     "metadata": {},
     "output_type": "display_data"
    },
    {
     "data": {
      "application/vnd.jupyter.widget-view+json": {
       "model_id": "c8b2c48f789c4d16b5bb9c73b46aa726",
       "version_major": 2,
       "version_minor": 0
      },
      "text/plain": [
       "Core 5:   0%|          | 0/703 [00:00<?, ?it/s]"
      ]
     },
     "metadata": {},
     "output_type": "display_data"
    },
    {
     "data": {
      "application/vnd.jupyter.widget-view+json": {
       "model_id": "4f5b171c93a446f8a8e2548f87ae1ae2",
       "version_major": 2,
       "version_minor": 0
      },
      "text/plain": [
       "Core 6:   0%|          | 0/703 [00:00<?, ?it/s]"
      ]
     },
     "metadata": {},
     "output_type": "display_data"
    },
    {
     "data": {
      "application/vnd.jupyter.widget-view+json": {
       "model_id": "af8d94fccd19467db313b2a409e2ce4e",
       "version_major": 2,
       "version_minor": 0
      },
      "text/plain": [
       "Core 7:   0%|          | 0/703 [00:00<?, ?it/s]"
      ]
     },
     "metadata": {},
     "output_type": "display_data"
    },
    {
     "name": "stderr",
     "output_type": "stream",
     "text": [
      "\n",
      "KeyboardInterrupt\n",
      "\n"
     ]
    }
   ],
   "source": [
    "df = pd.read_csv('../datasets/scrapped/demagog.csv', sep=';')\n",
    "\n",
    "df = df.dropna()\n",
    "df = df[df['text'].str.len() > 0 ]\n",
    "\n",
    "df['text_clean'] = df['text'].apply(lambda x: clean_przyp(x))\n",
    "\n",
    "df = df[df['text_clean'].str.len() > 1 ]\n",
    "\n",
    "tasks = df['text_clean'].values.tolist()\n",
    "result = progress_map(extract_features, tasks, n_cpu=7, chunk_size=1, core_progress=True)"
   ]
  },
  {
   "cell_type": "code",
   "execution_count": null,
   "id": "eb273b5b",
   "metadata": {},
   "outputs": [],
   "source": [
    "df['raw_dict'] = result \n",
    "\n",
    "df_clean = (\n",
    "    df.join( \n",
    "        df['raw_dict']\n",
    "        .apply(pd.Series)\n",
    "#         .rename(columns={'sentiment_lemm' : 'uniq_lemm'}) \n",
    "    ).drop('raw_dict', axis=1)\n",
    ")\n",
    "\n",
    "df_clean['TEXT_POS'] = df_clean['TEXT_POS'].str.join(\" \")"
   ]
  },
  {
   "cell_type": "code",
   "execution_count": null,
   "id": "bf9dde6a",
   "metadata": {},
   "outputs": [],
   "source": [
    "df_clean.to_csv('../datasets/scrapped/demagog_features.csv', sep=';', index=False)"
   ]
  },
  {
   "cell_type": "markdown",
   "id": "b4551537",
   "metadata": {},
   "source": [
    "# OKO.press"
   ]
  },
  {
   "cell_type": "code",
   "execution_count": null,
   "id": "4d811236",
   "metadata": {},
   "outputs": [],
   "source": [
    "df_oko_raw = pd.read_csv('../datasets/oko.press/query_result.tsv', sep='\\t')\n",
    "\n",
    "print(df_oko_raw['Id wypowiedzi'].unique().shape)\n",
    "\n",
    "df_oko = pd.merge(\n",
    "    df_oko_raw.pivot(index=['Id wypowiedzi'], columns='Nazwa pola danych', values='Wartość pola danych').reset_index(),\n",
    "    df_oko_raw[~df_oko_raw['Autor Wypowiedzi'].isin(['Link do hasła', 'Nazwa słupka', 'Wesprzyj nas'])] \\\n",
    "        [['Id wypowiedzi', 'Autor Wypowiedzi']].dropna(),\n",
    "    on='Id wypowiedzi',\n",
    "    how='left'\n",
    ")\n",
    "\n",
    "print(df_oko.shape)"
   ]
  },
  {
   "cell_type": "code",
   "execution_count": null,
   "id": "24a239a6",
   "metadata": {},
   "outputs": [],
   "source": [
    "df_oko_fin = df_oko[['sub_napis', 'sub_stan_zegara', 'Autor Wypowiedzi']]\n",
    "\n",
    "df_oko_fin['text_clean'] = df_oko_fin['sub_napis'].progress_apply(lambda x: clean_przyp(x))\n",
    "\n",
    "tasks = df_oko_fin['text_clean'].values.tolist()\n",
    "result = progress_map(extract_features, tasks, n_cpu=7, chunk_size=1, core_progress=True)"
   ]
  },
  {
   "cell_type": "code",
   "execution_count": null,
   "id": "7177d9b9",
   "metadata": {},
   "outputs": [],
   "source": [
    "df_oko_fin['raw_dict'] = result\n",
    "\n",
    "df_oko_clean = df_oko_fin.join( df_oko_fin['raw_dict'].apply(pd.Series) ).drop('raw_dict', axis=1)\n",
    "\n",
    "df_oko_clean['TEXT_POS'] = df_oko_clean['TEXT_POS'].str.join(\" \")"
   ]
  },
  {
   "cell_type": "code",
   "execution_count": null,
   "id": "f2318365",
   "metadata": {},
   "outputs": [],
   "source": [
    "df_oko_clean.to_csv('../datasets/oko.press/okopress_features.csv', sep=';', index=False)"
   ]
  },
  {
   "cell_type": "code",
   "execution_count": null,
   "id": "4b43e59d",
   "metadata": {},
   "outputs": [],
   "source": []
  }
 ],
 "metadata": {
  "kernelspec": {
   "display_name": "Python 3 (ipykernel)",
   "language": "python",
   "name": "python3"
  },
  "language_info": {
   "codemirror_mode": {
    "name": "ipython",
    "version": 3
   },
   "file_extension": ".py",
   "mimetype": "text/x-python",
   "name": "python",
   "nbconvert_exporter": "python",
   "pygments_lexer": "ipython3",
   "version": "3.9.13"
  }
 },
 "nbformat": 4,
 "nbformat_minor": 5
}
