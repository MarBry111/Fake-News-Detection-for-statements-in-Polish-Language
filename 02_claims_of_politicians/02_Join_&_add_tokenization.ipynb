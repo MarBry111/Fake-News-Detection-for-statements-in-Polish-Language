{
 "cells": [
  {
   "cell_type": "code",
   "execution_count": 9,
   "id": "b82ca7be",
   "metadata": {},
   "outputs": [
    {
     "name": "stdout",
     "output_type": "stream",
     "text": [
      "INFO: Pandarallel will run on 7 workers.\n",
      "INFO: Pandarallel will use Memory file system to transfer data between the main process and workers.\n"
     ]
    }
   ],
   "source": [
    "import pandas as pd\n",
    "import numpy as np\n",
    "import spacy\n",
    "\n",
    "from tqdm import tqdm\n",
    "tqdm.pandas()\n",
    "from pandarallel import pandarallel\n",
    "pandarallel.initialize(nb_workers=7,progress_bar=True)\n",
    "\n",
    "from parallelbar import progress_map"
   ]
  },
  {
   "cell_type": "code",
   "execution_count": 2,
   "id": "12590b7a",
   "metadata": {},
   "outputs": [],
   "source": [
    "from sklearn.model_selection import train_test_split\n",
    "from sklearn import utils"
   ]
  },
  {
   "cell_type": "code",
   "execution_count": 2,
   "id": "978a110a",
   "metadata": {},
   "outputs": [],
   "source": [
    "nlp_pl = spacy.load(\"pl_core_news_lg\") # nlp\n",
    "# nlp_pl = spacy.load('pl_spacy_model') # nlp37"
   ]
  },
  {
   "cell_type": "markdown",
   "id": "5e53c32f",
   "metadata": {},
   "source": [
    "## Join data"
   ]
  },
  {
   "cell_type": "code",
   "execution_count": 3,
   "id": "1adf5c73",
   "metadata": {},
   "outputs": [],
   "source": [
    "# https://medium.com/wisio/a-gentle-introduction-to-doc2vec-db3e8c0cce5e"
   ]
  },
  {
   "cell_type": "code",
   "execution_count": 4,
   "id": "ecd4314f",
   "metadata": {},
   "outputs": [],
   "source": [
    "df_dem = pd.read_csv('../datasets/scrapped/demagog_features.csv', sep=';')\n",
    "df_oko = pd.read_csv('../datasets/oko.press/okopress_features.csv', sep=';')\n",
    "\n",
    "df = pd.concat(\n",
    "    [\n",
    "        df_dem[\n",
    "            ['assestment', 'author', 'text_clean', 'TEXT_POS',\n",
    "             'sentiment_all', 'sentiment_avg', 'uniq_words', 'uniq_lemm', \n",
    "             'err', 'net', \n",
    "             'ADJ', 'ADV', 'NOUN', \n",
    "             'words_start_upper', 'words_full_upper',\n",
    "             'exclamation_marks', 'question_marks', \n",
    "             'upper_letters', 'chars']\n",
    "        ],\n",
    "        (df_oko[\n",
    "            ['sub_stan_zegara', 'Autor Wypowiedzi', 'text_clean', 'TEXT_POS',\n",
    "             'sentiment_all', 'sentiment_avg', 'uniq_words', 'uniq_lemm', \n",
    "             'err', 'net', \n",
    "             'ADJ', 'ADV', 'NOUN', \n",
    "             'words_start_upper', 'words_full_upper',\n",
    "             'exclamation_marks', 'question_marks', \n",
    "             'upper_letters', 'chars']\n",
    "         ]\n",
    "         .rename(columns={'sub_stan_zegara':'assestment', 'Autor Wypowiedzi':'author'}))\n",
    "    ],\n",
    "    ignore_index = True\n",
    ")"
   ]
  },
  {
   "cell_type": "code",
   "execution_count": 5,
   "id": "c0775dae",
   "metadata": {},
   "outputs": [],
   "source": [
    "df.to_csv('../datasets/ready2use/fake_news_features_combined.csv', sep=';', index=False, encoding='utf8')"
   ]
  },
  {
   "cell_type": "markdown",
   "id": "3539a34e",
   "metadata": {},
   "source": [
    "## Create tokenizer"
   ]
  },
  {
   "cell_type": "code",
   "execution_count": 6,
   "id": "096389b7",
   "metadata": {},
   "outputs": [],
   "source": [
    "stopwords = nlp_pl.Defaults.stop_words"
   ]
  },
  {
   "cell_type": "code",
   "execution_count": 7,
   "id": "9cdc917b",
   "metadata": {},
   "outputs": [],
   "source": [
    "def tokenize(txt):\n",
    "    txt = (txt.replace('\\n', ' ')\n",
    "           .replace('ą', 'ą')\n",
    "           .replace('ć', 'ć')\n",
    "           .replace('ę', 'ę')\n",
    "           .replace('ń', 'ń')\n",
    "           .replace('ó', 'ó')\n",
    "           .replace('ś', 'ś')\n",
    "           .replace('ź', 'ź')\n",
    "           .replace('ż', 'ż'))\n",
    "\n",
    "    doc = nlp_pl(txt)\n",
    "    \n",
    "    words = [\n",
    "        token.lemma_.lower()\n",
    "        for token in doc \n",
    "        if \n",
    "            not token.is_stop \n",
    "            and not token.is_punct \n",
    "            and not token.is_stop \n",
    "            and token.text != ' '\n",
    "            and token.lemma_ not in stopwords\n",
    "            and len(token.text) > 1 ]\n",
    "    \n",
    "    return words"
   ]
  },
  {
   "cell_type": "code",
   "execution_count": 11,
   "id": "d9545b52",
   "metadata": {},
   "outputs": [
    {
     "data": {
      "application/vnd.jupyter.widget-view+json": {
       "model_id": "d3b4533b2185459d86c02474ce1d6c33",
       "version_major": 2,
       "version_minor": 0
      },
      "text/plain": [
       "Core 1:   0%|          | 0/1113 [00:00<?, ?it/s]"
      ]
     },
     "metadata": {},
     "output_type": "display_data"
    },
    {
     "data": {
      "application/vnd.jupyter.widget-view+json": {
       "model_id": "41d9750cb73e46d4a0aedad06ce03540",
       "version_major": 2,
       "version_minor": 0
      },
      "text/plain": [
       "Core 2:   0%|          | 0/1113 [00:00<?, ?it/s]"
      ]
     },
     "metadata": {},
     "output_type": "display_data"
    },
    {
     "data": {
      "application/vnd.jupyter.widget-view+json": {
       "model_id": "3bca13b5e1394353b003e1697c70f65b",
       "version_major": 2,
       "version_minor": 0
      },
      "text/plain": [
       "Core 3:   0%|          | 0/1113 [00:00<?, ?it/s]"
      ]
     },
     "metadata": {},
     "output_type": "display_data"
    },
    {
     "data": {
      "application/vnd.jupyter.widget-view+json": {
       "model_id": "4ce772097ead42d6896c68cb5b6a752f",
       "version_major": 2,
       "version_minor": 0
      },
      "text/plain": [
       "Core 4:   0%|          | 0/1113 [00:00<?, ?it/s]"
      ]
     },
     "metadata": {},
     "output_type": "display_data"
    },
    {
     "data": {
      "application/vnd.jupyter.widget-view+json": {
       "model_id": "d46d39463abf45cd9bdcfa422a6bc828",
       "version_major": 2,
       "version_minor": 0
      },
      "text/plain": [
       "Core 5:   0%|          | 0/1113 [00:00<?, ?it/s]"
      ]
     },
     "metadata": {},
     "output_type": "display_data"
    },
    {
     "data": {
      "application/vnd.jupyter.widget-view+json": {
       "model_id": "7101970ae7e94e978d289fd20ea3945a",
       "version_major": 2,
       "version_minor": 0
      },
      "text/plain": [
       "Core 6:   0%|          | 0/1113 [00:00<?, ?it/s]"
      ]
     },
     "metadata": {},
     "output_type": "display_data"
    },
    {
     "data": {
      "application/vnd.jupyter.widget-view+json": {
       "model_id": "0aed1b5e3d0c4099b10b1d7608ff01e3",
       "version_major": 2,
       "version_minor": 0
      },
      "text/plain": [
       "Core 7:   0%|          | 0/1113 [00:00<?, ?it/s]"
      ]
     },
     "metadata": {},
     "output_type": "display_data"
    }
   ],
   "source": [
    "tasks = df['text_clean'].values.tolist()\n",
    "result = progress_map(tokenize, tasks, n_cpu=7, chunk_size=1, core_progress=True)\n",
    "\n",
    "df['tokens'] = result"
   ]
  },
  {
   "cell_type": "code",
   "execution_count": 12,
   "id": "11c9d4dd",
   "metadata": {},
   "outputs": [
    {
     "data": {
      "application/vnd.jupyter.widget-view+json": {
       "model_id": "0409cdda1afa4283a00a1c27ab6cbe02",
       "version_major": 2,
       "version_minor": 0
      },
      "text/plain": [
       "Core 1:   0%|          | 0/1113 [00:00<?, ?it/s]"
      ]
     },
     "metadata": {},
     "output_type": "display_data"
    },
    {
     "data": {
      "application/vnd.jupyter.widget-view+json": {
       "model_id": "df6fadc5da9a4d2ba8ff4bdafab1df85",
       "version_major": 2,
       "version_minor": 0
      },
      "text/plain": [
       "Core 2:   0%|          | 0/1113 [00:00<?, ?it/s]"
      ]
     },
     "metadata": {},
     "output_type": "display_data"
    },
    {
     "data": {
      "application/vnd.jupyter.widget-view+json": {
       "model_id": "1ca68ca35bce481b9b4d4d4b23bc7d1a",
       "version_major": 2,
       "version_minor": 0
      },
      "text/plain": [
       "Core 3:   0%|          | 0/1113 [00:00<?, ?it/s]"
      ]
     },
     "metadata": {},
     "output_type": "display_data"
    },
    {
     "data": {
      "application/vnd.jupyter.widget-view+json": {
       "model_id": "a74182078c8c4b1892f415a3485c67a2",
       "version_major": 2,
       "version_minor": 0
      },
      "text/plain": [
       "Core 4:   0%|          | 0/1113 [00:00<?, ?it/s]"
      ]
     },
     "metadata": {},
     "output_type": "display_data"
    },
    {
     "data": {
      "application/vnd.jupyter.widget-view+json": {
       "model_id": "1d0cb4a0a26648a99e07fa06f9398625",
       "version_major": 2,
       "version_minor": 0
      },
      "text/plain": [
       "Core 5:   0%|          | 0/1113 [00:00<?, ?it/s]"
      ]
     },
     "metadata": {},
     "output_type": "display_data"
    },
    {
     "data": {
      "application/vnd.jupyter.widget-view+json": {
       "model_id": "25c17a643f5a411ba2792cdce953d165",
       "version_major": 2,
       "version_minor": 0
      },
      "text/plain": [
       "Core 6:   0%|          | 0/1113 [00:00<?, ?it/s]"
      ]
     },
     "metadata": {},
     "output_type": "display_data"
    },
    {
     "data": {
      "application/vnd.jupyter.widget-view+json": {
       "model_id": "86044455ece34eeeaecd06143403e310",
       "version_major": 2,
       "version_minor": 0
      },
      "text/plain": [
       "Core 7:   0%|          | 0/1113 [00:00<?, ?it/s]"
      ]
     },
     "metadata": {},
     "output_type": "display_data"
    }
   ],
   "source": [
    "# df['tokens_str'] = df['tokens'].progress_apply(\n",
    "#     lambda x: ' '.join(x))\n",
    "\n",
    "tasks = df['tokens'].values.tolist()\n",
    "result = progress_map(' '.join, tasks, n_cpu=7, chunk_size=1, core_progress=True)\n",
    "\n",
    "df['tokens_str'] = result"
   ]
  },
  {
   "cell_type": "code",
   "execution_count": 14,
   "id": "877454cb",
   "metadata": {},
   "outputs": [
    {
     "data": {
      "text/plain": [
       "Index(['assestment', 'author', 'text_clean', 'TEXT_POS', 'sentiment_all',\n",
       "       'sentiment_avg', 'uniq_words', 'uniq_lemm', 'err', 'net', 'ADJ', 'ADV',\n",
       "       'NOUN', 'words_start_upper', 'words_full_upper', 'exclamation_marks',\n",
       "       'question_marks', 'upper_letters', 'chars', 'tokens', 'tokens_str'],\n",
       "      dtype='object')"
      ]
     },
     "execution_count": 14,
     "metadata": {},
     "output_type": "execute_result"
    }
   ],
   "source": [
    "df.columns"
   ]
  },
  {
   "cell_type": "code",
   "execution_count": 15,
   "id": "ef3c7575",
   "metadata": {},
   "outputs": [],
   "source": [
    "df[\n",
    "    ['assestment', 'author', 'text_clean', \n",
    "     'sentiment_all', 'sentiment_avg', 'uniq_words', 'uniq_lemm', 'err', 'net', \n",
    "     'ADJ', 'ADV', 'NOUN', 'tokens_str']\n",
    "].to_csv('../datasets/ready2use/fake_news_features_tokens.csv', sep=';', index=False, encoding='utf8')"
   ]
  }
 ],
 "metadata": {
  "kernelspec": {
   "display_name": "Python 3 (ipykernel)",
   "language": "python",
   "name": "python3"
  },
  "language_info": {
   "codemirror_mode": {
    "name": "ipython",
    "version": 3
   },
   "file_extension": ".py",
   "mimetype": "text/x-python",
   "name": "python",
   "nbconvert_exporter": "python",
   "pygments_lexer": "ipython3",
   "version": "3.9.13"
  }
 },
 "nbformat": 4,
 "nbformat_minor": 5
}
