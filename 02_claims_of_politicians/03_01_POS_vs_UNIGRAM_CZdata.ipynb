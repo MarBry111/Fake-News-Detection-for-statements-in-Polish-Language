{
 "cells": [
  {
   "cell_type": "code",
   "execution_count": 1,
   "id": "cb3587c1",
   "metadata": {},
   "outputs": [
    {
     "name": "stderr",
     "output_type": "stream",
     "text": [
      "/home/marek/anaconda3/envs/nlp/lib/python3.9/site-packages/xgboost/compat.py:36: FutureWarning: pandas.Int64Index is deprecated and will be removed from pandas in a future version. Use pandas.Index with the appropriate dtype instead.\n",
      "  from pandas import MultiIndex, Int64Index\n"
     ]
    },
    {
     "name": "stdout",
     "output_type": "stream",
     "text": [
      "INFO: Pandarallel will run on 7 workers.\n",
      "INFO: Pandarallel will use Memory file system to transfer data between the main process and workers.\n"
     ]
    }
   ],
   "source": [
    "import pandas as pd\n",
    "import numpy as np\n",
    "import spacy\n",
    "\n",
    "import gensim\n",
    "from gensim.models.doc2vec import Doc2Vec, TaggedDocument\n",
    "from gensim.test.test_doc2vec import ConcatenatedDoc2Vec\n",
    "\n",
    "# import morfeusz2\n",
    "\n",
    "import matplotlib.pyplot as plt\n",
    "import seaborn as sns\n",
    "\n",
    "#from sentence_transformers import SentenceTransformer\n",
    "import umap\n",
    "import hdbscan\n",
    "\n",
    "import numpy as np\n",
    "from sklearn.feature_extraction.text import CountVectorizer\n",
    "\n",
    "from sklearn.model_selection import train_test_split\n",
    "from sklearn.model_selection import GridSearchCV, RandomizedSearchCV\n",
    "from sklearn import utils\n",
    "from sklearn.feature_extraction.text import TfidfTransformer\n",
    "\n",
    "from sklearn.linear_model import LogisticRegression\n",
    "\n",
    "import xgboost as xgb\n",
    "from xgboost import XGBClassifier\n",
    "from sklearn.metrics import (\n",
    "    accuracy_score, \n",
    "    f1_score, \n",
    "    recall_score,\n",
    "    precision_score,\n",
    "    roc_auc_score, confusion_matrix, roc_curve, classification_report\n",
    ")\n",
    "\n",
    "import re\n",
    "\n",
    "from wordcloud import WordCloud\n",
    "import shap\n",
    "\n",
    "from nltk import ngrams\n",
    "import nltk\n",
    "\n",
    "import scipy\n",
    "from sklearn.model_selection import cross_validate\n",
    "\n",
    "from utils import *\n",
    "\n",
    "from tqdm import tqdm\n",
    "tqdm.pandas()\n",
    "from pandarallel import pandarallel\n",
    "pandarallel.initialize(nb_workers=7,progress_bar=True)\n",
    "\n",
    "from parallelbar import progress_map\n",
    "\n",
    "\n",
    "from gensim.models import LdaModel, CoherenceModel\n",
    "from gensim import corpora\n",
    "\n",
    "from sklearn.ensemble import RandomForestClassifier\n",
    "\n",
    "from sklearn.base import clone as sklearn_clone"
   ]
  },
  {
   "cell_type": "markdown",
   "id": "2148d9d1",
   "metadata": {},
   "source": [
    "## Load data"
   ]
  },
  {
   "cell_type": "code",
   "execution_count": 2,
   "id": "8e578f6b",
   "metadata": {},
   "outputs": [],
   "source": [
    "df = pd.read_csv('../datasets/ready2use/fake_news_features_cz.csv', sep=';')\n",
    "\n",
    "df = df[ df['statementState'] != 'MISLEADING' ]\n",
    "df = df[ df['statementState'] != 'UNVERIFIABLE' ]\n",
    "\n",
    "df = df.reset_index(drop=True)\n",
    "\n",
    "df['assestment'] = df['statementState'].replace({\n",
    "    'FALSE' : 0,\n",
    "#     'Manipulacja' : 1,\n",
    "    'TRUE' : 1\n",
    "}).astype(int)\n",
    "\n",
    "y_train = df.copy()['assestment']\n",
    "X_train = df.copy().loc[:, df.columns != 'assestment']"
   ]
  },
  {
   "cell_type": "markdown",
   "id": "cfbfd960",
   "metadata": {},
   "source": [
    "## Analysis words frequencies"
   ]
  },
  {
   "cell_type": "code",
   "execution_count": 3,
   "id": "ecb05184",
   "metadata": {},
   "outputs": [
    {
     "data": {
      "application/vnd.jupyter.widget-view+json": {
       "model_id": "b1937ea039df477b88c4027c7c2c9d05",
       "version_major": 2,
       "version_minor": 0
      },
      "text/plain": [
       "Core 1:   0%|          | 0/345 [00:00<?, ?it/s]"
      ]
     },
     "metadata": {},
     "output_type": "display_data"
    },
    {
     "data": {
      "application/vnd.jupyter.widget-view+json": {
       "model_id": "716ffacd41b64e36b084a6d87781e03c",
       "version_major": 2,
       "version_minor": 0
      },
      "text/plain": [
       "Core 2:   0%|          | 0/345 [00:00<?, ?it/s]"
      ]
     },
     "metadata": {},
     "output_type": "display_data"
    },
    {
     "data": {
      "application/vnd.jupyter.widget-view+json": {
       "model_id": "113c7f6b94ff47f9a34249a2d0375a74",
       "version_major": 2,
       "version_minor": 0
      },
      "text/plain": [
       "Core 3:   0%|          | 0/345 [00:00<?, ?it/s]"
      ]
     },
     "metadata": {},
     "output_type": "display_data"
    },
    {
     "data": {
      "application/vnd.jupyter.widget-view+json": {
       "model_id": "cac1b773818d403697a3c631be1aa73c",
       "version_major": 2,
       "version_minor": 0
      },
      "text/plain": [
       "Core 4:   0%|          | 0/345 [00:00<?, ?it/s]"
      ]
     },
     "metadata": {},
     "output_type": "display_data"
    },
    {
     "data": {
      "application/vnd.jupyter.widget-view+json": {
       "model_id": "c35add1c74bc4c5197f8136879c7e472",
       "version_major": 2,
       "version_minor": 0
      },
      "text/plain": [
       "Core 5:   0%|          | 0/345 [00:00<?, ?it/s]"
      ]
     },
     "metadata": {},
     "output_type": "display_data"
    },
    {
     "data": {
      "application/vnd.jupyter.widget-view+json": {
       "model_id": "0dd8026010ee43639516fbac2591a375",
       "version_major": 2,
       "version_minor": 0
      },
      "text/plain": [
       "Core 6:   0%|          | 0/345 [00:00<?, ?it/s]"
      ]
     },
     "metadata": {},
     "output_type": "display_data"
    },
    {
     "data": {
      "application/vnd.jupyter.widget-view+json": {
       "model_id": "97022e6206464012b3b857f36f4d5f05",
       "version_major": 2,
       "version_minor": 0
      },
      "text/plain": [
       "Core 7:   0%|          | 0/345 [00:00<?, ?it/s]"
      ]
     },
     "metadata": {},
     "output_type": "display_data"
    }
   ],
   "source": [
    "tasks = X_train['text_clean'].values.tolist()\n",
    "result = progress_map(tokenize, tasks, n_cpu=7, chunk_size=1, core_progress=True)\n",
    "\n",
    "X_train['words'] = result"
   ]
  },
  {
   "cell_type": "code",
   "execution_count": 4,
   "id": "aa9d6b07",
   "metadata": {},
   "outputs": [],
   "source": [
    "df_one = X_train.copy()\n",
    "\n",
    "# df_one = df_one[['tokens']].reset_index().explode('tokens')\n",
    "df_one = df_one[['words']].reset_index().explode('words')\n",
    "df_one['n'] = 1\n",
    "df_one['tokens'] = df_one['words'].apply( lambda x: re.sub(r\"[`'-.’0-9]\", \"\", x) )"
   ]
  },
  {
   "cell_type": "code",
   "execution_count": 5,
   "id": "317fd651",
   "metadata": {},
   "outputs": [
    {
     "data": {
      "image/png": "[encoded data removed]",
      "text/plain": [
       "<Figure size 432x576 with 1 Axes>"
      ]
     },
     "metadata": {
      "needs_background": "light"
     },
     "output_type": "display_data"
    }
   ],
   "source": [
    "df_one = df_one[df_one['tokens'].str.len() > 1]\n",
    "\n",
    "f, ax = plt.subplots(figsize=(6,8));\n",
    "df_one.groupby('tokens').agg(n=('n','sum')).sort_values('n').tail(30).plot(kind='barh', ax=ax)\n",
    "plt.title('Trainig set')\n",
    "plt.show()"
   ]
  },
  {
   "cell_type": "markdown",
   "id": "7e3acaae",
   "metadata": {},
   "source": [
    "### Remove extra stopwords"
   ]
  },
  {
   "cell_type": "code",
   "execution_count": 6,
   "id": "9e21c834",
   "metadata": {},
   "outputs": [],
   "source": [
    "extra_stop_words = set(['polska', \n",
    "                        'rok', \n",
    "                        'milion', \n",
    "                        'miliard', \n",
    "                        'polski', 'europejski', \n",
    "                        'prezydent', 'rząd', 'ustawa', 'procent', 'kraj'] \n",
    "                       + \n",
    "                       df_one.groupby('tokens').agg(n=('n','sum')).query('n<6').index.values.tolist())"
   ]
  },
  {
   "cell_type": "code",
   "execution_count": 7,
   "id": "95b48e38",
   "metadata": {},
   "outputs": [
    {
     "data": {
      "application/vnd.jupyter.widget-view+json": {
       "model_id": "8d441c7a8dab4399b3549b1a474e1e89",
       "version_major": 2,
       "version_minor": 0
      },
      "text/plain": [
       "Core 1:   0%|          | 0/345 [00:00<?, ?it/s]"
      ]
     },
     "metadata": {},
     "output_type": "display_data"
    },
    {
     "data": {
      "application/vnd.jupyter.widget-view+json": {
       "model_id": "2b45634710fa409fadf2c7d839d1ee31",
       "version_major": 2,
       "version_minor": 0
      },
      "text/plain": [
       "Core 2:   0%|          | 0/345 [00:00<?, ?it/s]"
      ]
     },
     "metadata": {},
     "output_type": "display_data"
    },
    {
     "data": {
      "application/vnd.jupyter.widget-view+json": {
       "model_id": "ae5b1c3d6e2e45369948f40fb915ccb1",
       "version_major": 2,
       "version_minor": 0
      },
      "text/plain": [
       "Core 3:   0%|          | 0/345 [00:00<?, ?it/s]"
      ]
     },
     "metadata": {},
     "output_type": "display_data"
    },
    {
     "data": {
      "application/vnd.jupyter.widget-view+json": {
       "model_id": "e91f1abd53a94b78afd98a8434c99e1d",
       "version_major": 2,
       "version_minor": 0
      },
      "text/plain": [
       "Core 4:   0%|          | 0/345 [00:00<?, ?it/s]"
      ]
     },
     "metadata": {},
     "output_type": "display_data"
    },
    {
     "data": {
      "application/vnd.jupyter.widget-view+json": {
       "model_id": "f7f19705c8cd4be3946eb5acfb5fac4e",
       "version_major": 2,
       "version_minor": 0
      },
      "text/plain": [
       "Core 5:   0%|          | 0/345 [00:00<?, ?it/s]"
      ]
     },
     "metadata": {},
     "output_type": "display_data"
    },
    {
     "data": {
      "application/vnd.jupyter.widget-view+json": {
       "model_id": "9c4157e59f12401e9056f75087de74d6",
       "version_major": 2,
       "version_minor": 0
      },
      "text/plain": [
       "Core 6:   0%|          | 0/345 [00:00<?, ?it/s]"
      ]
     },
     "metadata": {},
     "output_type": "display_data"
    },
    {
     "data": {
      "application/vnd.jupyter.widget-view+json": {
       "model_id": "47185c227e834d4396cdb4b4fdc6423d",
       "version_major": 2,
       "version_minor": 0
      },
      "text/plain": [
       "Core 7:   0%|          | 0/345 [00:00<?, ?it/s]"
      ]
     },
     "metadata": {},
     "output_type": "display_data"
    }
   ],
   "source": [
    "def filter_stop_words(words, stop_words = extra_stop_words):\n",
    "    out = [x for x in words if x not in stop_words]\n",
    "    return out\n",
    "\n",
    "tasks = X_train['words'].values.tolist()\n",
    "result = progress_map(filter_stop_words, tasks, n_cpu=7, chunk_size=1, core_progress=True)\n",
    "\n",
    "X_train['words_clean'] = result"
   ]
  },
  {
   "cell_type": "markdown",
   "id": "a0985a23",
   "metadata": {},
   "source": [
    "### Add features"
   ]
  },
  {
   "cell_type": "code",
   "execution_count": 8,
   "id": "34c2a3b8",
   "metadata": {},
   "outputs": [],
   "source": [
    "n_grams = 5\n",
    "min_pos = 5 "
   ]
  },
  {
   "cell_type": "code",
   "execution_count": 9,
   "id": "5926e535",
   "metadata": {},
   "outputs": [
    {
     "name": "stderr",
     "output_type": "stream",
     "text": [
      "100%|███████████████████████████████████████| 4579/4579 [00:54<00:00, 83.70it/s]\n"
     ]
    }
   ],
   "source": [
    "X_pos = X_train[['TEXT_POS']].copy()\n",
    "\n",
    "words =  sum(X_pos['TEXT_POS'].str.split(' ').values.tolist(), [])\n",
    "\n",
    "n_list = []\n",
    "for n in range(n_grams):\n",
    "    n_i = pd.Series(nltk.ngrams(words, n+1)).value_counts()\n",
    "    n_i = n_i[n_i>min_pos]\n",
    "    n_list.append(n_i)\n",
    "\n",
    "n_iterator = []\n",
    "for n_i in n_list:\n",
    "    n_iterator += n_i.index.tolist()\n",
    "    \n",
    "col = {}\n",
    "    \n",
    "for n in tqdm(n_iterator):\n",
    "    x = X_pos['TEXT_POS'].str.count(' '.join(n)) / X_pos['TEXT_POS'].str.split(' ').str.len()\n",
    "\n",
    "    col[' '.join(n)] = x\n",
    "    col[' '.join(n)].name = ' '.join(n)\n",
    "            \n",
    "X_pos = pd.concat( [X_pos] + list( col.values() ), axis=1 ).drop('TEXT_POS', axis=1)"
   ]
  },
  {
   "cell_type": "code",
   "execution_count": 10,
   "id": "ea2ac656",
   "metadata": {},
   "outputs": [
    {
     "name": "stderr",
     "output_type": "stream",
     "text": [
      "100%|██████████████████████████████████████| 1121/1121 [00:08<00:00, 132.68it/s]\n"
     ]
    }
   ],
   "source": [
    "X_ngram = X_train[['words_clean']].copy()\n",
    "\n",
    "X_ngram['words_clean'] = X_ngram['words_clean'].apply(lambda l: \" \".join(l))\n",
    "\n",
    "words =  sum(X_ngram['words_clean'].str.split(' ').values.tolist(), [])\n",
    "\n",
    "n_list = []\n",
    "for n in range(n_grams):\n",
    "    n_i = pd.Series(nltk.ngrams(words, n+1)).value_counts()\n",
    "    n_i = n_i[n_i>min_pos]\n",
    "    n_list.append(n_i)\n",
    "\n",
    "n_iterator = []\n",
    "for n_i in n_list:\n",
    "    n_iterator += n_i.index.tolist()\n",
    "\n",
    "col = {}\n",
    "    \n",
    "for n in tqdm(n_iterator):\n",
    "    x = X_ngram['words_clean'].str.count(' '.join(n)) / X_ngram['words_clean'].str.split(' ').str.len()\n",
    "\n",
    "    col[' '.join(n)] = x\n",
    "    col[' '.join(n)].name = ' '.join(n)\n",
    "            \n",
    "X_ngram = pd.concat( [X_ngram] + list( col.values() ), axis=1 ).drop('words_clean', axis=1)"
   ]
  },
  {
   "cell_type": "markdown",
   "id": "ed20c751",
   "metadata": {},
   "source": [
    "## Make balanced datasets"
   ]
  },
  {
   "cell_type": "code",
   "execution_count": 11,
   "id": "eb5343ef",
   "metadata": {},
   "outputs": [],
   "source": [
    "n_0 = y_train.value_counts()[0]\n",
    "n_1 = y_train.value_counts()[1]"
   ]
  },
  {
   "cell_type": "code",
   "execution_count": 12,
   "id": "00c7b525",
   "metadata": {},
   "outputs": [],
   "source": [
    "n_lower = y_train.value_counts().min()\n",
    "n_upper = y_train.value_counts().max()\n",
    "\n",
    "np.random.seed(111)\n",
    "\n",
    "if True:\n",
    "    # undersampling    \n",
    "    index_0 = np.random.choice(y_train[y_train==0].index, n_lower, replace=False)\n",
    "    index_1 = np.random.choice(y_train[y_train==1].index, n_lower, replace=False)\n",
    "\n",
    "    y_train_u = y_train.iloc[ index_0.tolist()+index_1.tolist() ].sort_index()\n",
    "    \n",
    "    X_train_u = X_train.iloc[ index_0.tolist()+index_1.tolist() ].sort_index()\n",
    "    X_pos_u = X_pos.iloc[ index_0.tolist()+index_1.tolist() ].sort_index()\n",
    "    X_ngram_u = X_ngram.iloc[ index_0.tolist()+index_1.tolist() ].sort_index()\n",
    "else:\n",
    "    # oversampling\n",
    "    if n_0 < n_1:\n",
    "        index_0 = np.random.choice(y_train[y_train==0].index, n_1, replace=True)\n",
    "        index_1 = np.random.choice(y_train[y_train==1].index, n_1, replace=False)\n",
    "    else:\n",
    "        index_0 = np.random.choice(y_train[y_train==0].index, n_0, replace=False)\n",
    "        index_1 = np.random.choice(y_train[y_train==1].index, n_0, replace=True)\n",
    "\n",
    "    y_train_u = y_train.iloc[ index_0.tolist()+index_1.tolist() ].sort_index()\n",
    "    \n",
    "    X_train_u = X_train.iloc[ index_0.tolist()+index_1.tolist() ].sort_index()\n",
    "    X_pos_u = X_pos.iloc[ index_0.tolist()+index_1.tolist() ].sort_index()\n",
    "    X_ngram_u = X_ngram.iloc[ index_0.tolist()+index_1.tolist() ].sort_index()"
   ]
  },
  {
   "cell_type": "markdown",
   "id": "a73c34bd",
   "metadata": {},
   "source": [
    "## CV creation\n",
    "### LDA"
   ]
  },
  {
   "cell_type": "code",
   "execution_count": 24,
   "id": "a74ee952",
   "metadata": {},
   "outputs": [],
   "source": [
    "ideal_topic_num = 10"
   ]
  },
  {
   "cell_type": "code",
   "execution_count": 25,
   "id": "a02f856f",
   "metadata": {},
   "outputs": [
    {
     "name": "stderr",
     "output_type": "stream",
     "text": [
      "100%|█████████████████████████████████████| 1296/1296 [00:00<00:00, 7202.73it/s]\n"
     ]
    }
   ],
   "source": [
    "dictionary = gensim.corpora.Dictionary(X_train_u['words_clean'].values)\n",
    "\n",
    "bow_corpus = [dictionary.doc2bow(doc) for doc in X_train_u['words_clean'].values]\n",
    "\n",
    "\n",
    "lda_model =  gensim.models.LdaMulticore(bow_corpus, \n",
    "                                   num_topics = ideal_topic_num, \n",
    "                                   id2word = dictionary,                                    \n",
    "                                   passes = 10,\n",
    "                                   random_state=111,\n",
    "                                   workers = 7)\n",
    "\n",
    "topics = []\n",
    "\n",
    "for line in tqdm(X_train_u['words_clean'].values):\n",
    "    line_bow = dictionary.doc2bow(line)\n",
    "    doc_lda = lda_model[line_bow]\n",
    "    \n",
    "    topics.append( max(doc_lda, key=lambda x:x[1])[0] )\n",
    "\n",
    "X_train_u['topic'] = topics"
   ]
  },
  {
   "cell_type": "code",
   "execution_count": 26,
   "id": "fd65141c",
   "metadata": {},
   "outputs": [
    {
     "name": "stdout",
     "output_type": "stream",
     "text": [
      "0 0.018*\"człowiek\" + 0.017*\"wielki\" + 0.014*\"poseł\" + 0.013*\"brytania\" + 0.012*\"ukraina\"\n",
      "1 0.032*\"trybunał\" + 0.027*\"konstytucyjny\" + 0.026*\"polak\" + 0.025*\"sędzia\" + 0.020*\"czas\"\n",
      "2 0.016*\"strona\" + 0.014*\"tysiąc\" + 0.014*\"sprawa\" + 0.012*\"złoty\" + 0.011*\"minister\"\n",
      "3 0.028*\"miasto\" + 0.022*\"unia\" + 0.018*\"budżet\" + 0.017*\"kraków\" + 0.017*\"bezrobocie\"\n",
      "4 0.019*\"partia\" + 0.016*\"wybory\" + 0.015*\"osoba\" + 0.014*\"nato\" + 0.012*\"liczba\"\n",
      "5 0.018*\"państwo\" + 0.017*\"złoty\" + 0.017*\"projekt\" + 0.015*\"ciąg\" + 0.015*\"mieć\"\n",
      "6 0.024*\"zostać\" + 0.018*\"przyjąć\" + 0.012*\"wprowadzić\" + 0.011*\"ogół\" + 0.011*\"pis\"\n",
      "7 0.016*\"osoba\" + 0.015*\"poziom\" + 0.014*\"the\" + 0.014*\"dolar\" + 0.014*\"państwo\"\n",
      "8 0.012*\"mieć być\" + 0.012*\"euro\" + 0.011*\"poziom\" + 0.010*\"sprawa\" + 0.010*\"trzy\"\n",
      "9 0.023*\"tusk\" + 0.021*\"donald\" + 0.021*\"podatek\" + 0.013*\"węgiel\" + 0.011*\"rosja\"\n"
     ]
    }
   ],
   "source": [
    "x=lda_model.show_topics(num_topics=ideal_topic_num, num_words=5)\n",
    "\n",
    "for topic,word in x:\n",
    "    print(topic, word)"
   ]
  },
  {
   "cell_type": "code",
   "execution_count": 27,
   "id": "9351146f",
   "metadata": {},
   "outputs": [
    {
     "data": {
      "text/html": [
       "<div>\n",
       "<style scoped>\n",
       "    .dataframe tbody tr th:only-of-type {\n",
       "        vertical-align: middle;\n",
       "    }\n",
       "\n",
       "    .dataframe tbody tr th {\n",
       "        vertical-align: top;\n",
       "    }\n",
       "\n",
       "    .dataframe thead th {\n",
       "        text-align: right;\n",
       "    }\n",
       "</style>\n",
       "<table border=\"1\" class=\"dataframe\">\n",
       "  <thead>\n",
       "    <tr style=\"text-align: right;\">\n",
       "      <th>assestment</th>\n",
       "      <th>0</th>\n",
       "      <th>1</th>\n",
       "    </tr>\n",
       "    <tr>\n",
       "      <th>topic</th>\n",
       "      <th></th>\n",
       "      <th></th>\n",
       "    </tr>\n",
       "  </thead>\n",
       "  <tbody>\n",
       "    <tr>\n",
       "      <th>0</th>\n",
       "      <td>66</td>\n",
       "      <td>62</td>\n",
       "    </tr>\n",
       "    <tr>\n",
       "      <th>1</th>\n",
       "      <td>58</td>\n",
       "      <td>82</td>\n",
       "    </tr>\n",
       "    <tr>\n",
       "      <th>2</th>\n",
       "      <td>52</td>\n",
       "      <td>57</td>\n",
       "    </tr>\n",
       "    <tr>\n",
       "      <th>3</th>\n",
       "      <td>96</td>\n",
       "      <td>85</td>\n",
       "    </tr>\n",
       "    <tr>\n",
       "      <th>4</th>\n",
       "      <td>71</td>\n",
       "      <td>71</td>\n",
       "    </tr>\n",
       "    <tr>\n",
       "      <th>5</th>\n",
       "      <td>67</td>\n",
       "      <td>58</td>\n",
       "    </tr>\n",
       "    <tr>\n",
       "      <th>6</th>\n",
       "      <td>61</td>\n",
       "      <td>60</td>\n",
       "    </tr>\n",
       "    <tr>\n",
       "      <th>7</th>\n",
       "      <td>65</td>\n",
       "      <td>49</td>\n",
       "    </tr>\n",
       "    <tr>\n",
       "      <th>8</th>\n",
       "      <td>71</td>\n",
       "      <td>77</td>\n",
       "    </tr>\n",
       "    <tr>\n",
       "      <th>9</th>\n",
       "      <td>41</td>\n",
       "      <td>47</td>\n",
       "    </tr>\n",
       "  </tbody>\n",
       "</table>\n",
       "</div>"
      ],
      "text/plain": [
       "assestment   0   1\n",
       "topic             \n",
       "0           66  62\n",
       "1           58  82\n",
       "2           52  57\n",
       "3           96  85\n",
       "4           71  71\n",
       "5           67  58\n",
       "6           61  60\n",
       "7           65  49\n",
       "8           71  77\n",
       "9           41  47"
      ]
     },
     "execution_count": 27,
     "metadata": {},
     "output_type": "execute_result"
    }
   ],
   "source": [
    "y_train_u_test = pd.DataFrame(y_train_u.copy())\n",
    "y_train_u_test['topic'] = X_train_u['topic']\n",
    "y_train_u_test['n'] = 1\n",
    "y_train_u_test.groupby(['topic', 'assestment']).sum().reset_index().pivot('topic','assestment','n')"
   ]
  },
  {
   "cell_type": "markdown",
   "id": "06e17e0a",
   "metadata": {},
   "source": [
    "### Kfold"
   ]
  },
  {
   "cell_type": "code",
   "execution_count": 46,
   "id": "8829acdb",
   "metadata": {},
   "outputs": [],
   "source": [
    "cv_fold = []\n",
    "cv_fold_i = []\n",
    "\n",
    "for i in X_train_u['topic'].unique().reshape(10,-1):\n",
    "    train_cv = X_train_u.index[ ~np.isin(X_train_u[\"topic\"], i) ].values\n",
    "    test_cv = X_train_u.index[ np.isin(X_train_u[\"topic\"], i) ].values\n",
    "    \n",
    "    train_cv_i = X_train_u.reset_index().index[ ~np.isin(X_train_u[\"topic\"], i) ].values\n",
    "    test_cv_i = X_train_u.reset_index().index[ np.isin(X_train_u[\"topic\"], i) ].values\n",
    "    \n",
    "    cv_fold.append( [train_cv, test_cv])\n",
    "    cv_fold_i.append( [train_cv_i, test_cv_i])"
   ]
  },
  {
   "cell_type": "code",
   "execution_count": 47,
   "id": "bec90100",
   "metadata": {},
   "outputs": [],
   "source": [
    "from sklearn.model_selection import KFold\n",
    "\n",
    "kf = KFold(n_splits=10, shuffle=True)\n",
    "kf.get_n_splits(X_train_u)\n",
    "\n",
    "cv_Kfold = []\n",
    "cv_Kfold_i = []\n",
    "\n",
    "for train_index, test_index in kf.split(X_train_u):\n",
    "    train_cv = X_train_u.iloc[ train_index, : ].index.values\n",
    "    test_cv = X_train_u.iloc[ test_index, : ].index.values\n",
    "\n",
    "    train_cv_i= X_train_u.reset_index().iloc[ train_index, : ].index.values\n",
    "    test_cv_i = X_train_u.reset_index().iloc[ test_index, : ].index.values\n",
    "    \n",
    "    cv_Kfold.append( [train_cv, test_cv])\n",
    "    cv_Kfold_i.append( [train_cv_i, test_cv_i])"
   ]
  },
  {
   "cell_type": "markdown",
   "id": "05f0f426",
   "metadata": {},
   "source": [
    "## Run experiments"
   ]
  },
  {
   "cell_type": "code",
   "execution_count": 48,
   "id": "4ff6e568",
   "metadata": {},
   "outputs": [],
   "source": [
    "def run_experiment(X, y, cv, clf_org, r_min=0.05):\n",
    "\n",
    "    results = {\n",
    "        'test_accuracy' : [],\n",
    "        'test_precision' : [],\n",
    "        'test_recall' : [],\n",
    "        'test_f1' : []\n",
    "    }\n",
    "\n",
    "    c_matrix = np.zeros((2,2))\n",
    "\n",
    "    for train_cv, test_cv in cv:\n",
    "        clf = sklearn_clone(clf_org)\n",
    "    #     clf = RandomForestClassifier(random_state=111)\n",
    "\n",
    "        X_train_t = X[X.index.isin(train_cv)]\n",
    "        y_train_t = y[y.index.isin(train_cv)]\n",
    "\n",
    "        # keep only columns with corr > 0.05\n",
    "        col_keep = []\n",
    "        for c in X_train_t.columns:\n",
    "            min_v =X_train_t[c].values.min()\n",
    "            max_v = X_train_t[c].values.max()\n",
    "\n",
    "            if min_v < max_v:\n",
    "                r = scipy.stats.pearsonr(X_train_t[c].values, y_train_t)[0]\n",
    "                if ~np.isnan(r) and r > r_min:\n",
    "                    col_keep.append(c)\n",
    "        \n",
    "        if len(col_keep) == 0:\n",
    "            print('No values returned')\n",
    "        \n",
    "        X_train_t = X_train_t[col_keep]\n",
    "\n",
    "\n",
    "        X_test_t = X[X.index.isin(test_cv)]\n",
    "        y_test_t = y[y.index.isin(test_cv)]\n",
    "\n",
    "        X_test_t = X_test_t[col_keep]\n",
    "\n",
    "        clf.fit(X_train_t, y_train_t)\n",
    "\n",
    "        y_pred = clf.predict(X_test_t)\n",
    "\n",
    "        confusion = confusion_matrix(y_test_t, y_pred)\n",
    "        c_matrix += confusion\n",
    "\n",
    "    #     TN, FP = confusion[0, 0], confusion[0, 1]\n",
    "    #     FN, TP = confusion[1, 0], confusion[1, 1]\n",
    "\n",
    "        results['test_accuracy'].append( accuracy_score(y_test_t, y_pred) ) \n",
    "        results['test_precision'].append( precision_score(y_test_t, y_pred) ) \n",
    "        results['test_recall'].append( recall_score(y_test_t, y_pred) ) \n",
    "        results['test_f1'].append( f1_score(y_test_t, y_pred) ) \n",
    "\n",
    "    metrics = {\n",
    "        \"Accuracy\": np.array(results['test_accuracy']),\n",
    "    #     \"Precision\": np.array(results['test_precision']).mean(),\n",
    "    #     \"Recall\": np.array(results['test_recall']).mean(),\n",
    "        \"F1 Score\":  np.array(results['test_f1']),\n",
    "        }\n",
    "\n",
    "#     print(c_matrix)\n",
    "\n",
    "    return metrics"
   ]
  },
  {
   "cell_type": "code",
   "execution_count": 49,
   "id": "0ec50f36",
   "metadata": {},
   "outputs": [],
   "source": [
    "X_features = X_train_u[['sentiment_all', 'sentiment_avg', 'uniq_words',\n",
    "       'uniq_lemm', 'err', 'net', 'words_start_upper', 'words_full_upper',\n",
    "       'exclamation_marks', 'question_marks', 'upper_letters', 'chars']]"
   ]
  },
  {
   "cell_type": "markdown",
   "id": "87831898",
   "metadata": {},
   "source": [
    "## Topics Kfold"
   ]
  },
  {
   "cell_type": "code",
   "execution_count": 50,
   "id": "ecfff58d",
   "metadata": {},
   "outputs": [],
   "source": [
    "X_f_pos = X_features.reset_index().join(X_pos_u.reset_index(drop=True), how=\"left\").set_index('index')"
   ]
  },
  {
   "cell_type": "code",
   "execution_count": 51,
   "id": "923a0654",
   "metadata": {},
   "outputs": [
    {
     "name": "stdout",
     "output_type": "stream",
     "text": [
      "ngrams   lr C1 Accuracy 0.506+-0.043 F1 Score 0.487+-0.050\n",
      "features lr C1 Accuracy 0.517+-0.041 F1 Score 0.465+-0.058\n",
      "pos      lr C1 Accuracy 0.569+-0.039 F1 Score 0.570+-0.034\n",
      "f + pos  lr C1 Accuracy 0.550+-0.062 F1 Score 0.557+-0.057\n"
     ]
    }
   ],
   "source": [
    "clf_lr_1 = LogisticRegression(max_iter=5000, C=1, penalty='l2', solver='liblinear')\n",
    "clf_lr_01 = LogisticRegression(max_iter=5000, C=0.1, penalty='l2', solver='liblinear')\n",
    "\n",
    "for X_used, x_name in zip(\n",
    "    [X_ngram_u, X_features, X_pos_u, X_f_pos],\n",
    "    ['ngrams  ', 'features', 'pos     ', 'f + pos ']\n",
    "):\n",
    "    for clf_used, clf_name in zip(\n",
    "        [clf_lr_1],['lr C1']\n",
    "    ):\n",
    "        out = run_experiment(X_used, y_train_u, cv_fold, clf_used, 0.05)\n",
    "        print(\n",
    "            x_name, \n",
    "            clf_name,\n",
    "            f'Accuracy {out[\"Accuracy\"].mean():.3f}+-{out[\"Accuracy\"].std():.3f}',\n",
    "            f'F1 Score {out[\"F1 Score\"].mean():.3f}+-{out[\"F1 Score\"].std():.3f}'\n",
    "        )"
   ]
  },
  {
   "cell_type": "markdown",
   "id": "2ed30078",
   "metadata": {},
   "source": [
    "## Random Kfold"
   ]
  },
  {
   "cell_type": "code",
   "execution_count": 54,
   "id": "ea823de3",
   "metadata": {},
   "outputs": [
    {
     "name": "stdout",
     "output_type": "stream",
     "text": [
      "ngrams   lr C1 Accuracy 0.530+-0.023 F1 Score 0.511+-0.023\n",
      "features lr C1 Accuracy 0.530+-0.047 F1 Score 0.484+-0.052\n",
      "pos      lr C1 Accuracy 0.561+-0.036 F1 Score 0.560+-0.043\n",
      "f + pos  lr C1 Accuracy 0.539+-0.030 F1 Score 0.538+-0.046\n"
     ]
    }
   ],
   "source": [
    "clf_lr_1 = LogisticRegression(max_iter=5000, C=1, penalty='l2', solver='liblinear')\n",
    "clf_lr_01 = LogisticRegression(max_iter=5000, C=0.1, penalty='l2', solver='liblinear')\n",
    "        \n",
    "for X_used, x_name in zip(\n",
    "    [X_ngram_u, X_features, X_pos_u, X_f_pos],\n",
    "    ['ngrams  ', 'features', 'pos     ', 'f + pos ']\n",
    "):\n",
    "    for clf_used, clf_name in zip(\n",
    "        [clf_lr_1],['lr C1']\n",
    "    ):\n",
    "        out = run_experiment(X_used, y_train_u, cv_Kfold, clf_used, 0.03)\n",
    "        print(\n",
    "            x_name, \n",
    "            clf_name,\n",
    "            f'Accuracy {out[\"Accuracy\"].mean():.3f}+-{out[\"Accuracy\"].std():.3f}',\n",
    "            f'F1 Score {out[\"F1 Score\"].mean():.3f}+-{out[\"F1 Score\"].std():.3f}'\n",
    "        )"
   ]
  },
  {
   "cell_type": "markdown",
   "id": "918f0eb9",
   "metadata": {},
   "source": [
    "## Use all features "
   ]
  },
  {
   "cell_type": "code",
   "execution_count": 55,
   "id": "ae319d7e",
   "metadata": {},
   "outputs": [
    {
     "name": "stdout",
     "output_type": "stream",
     "text": [
      "ngrams   lr C1 Accuracy 0.541+-0.038 F1 Score 0.528+-0.042\n",
      "features lr C1 Accuracy 0.529+-0.047 F1 Score 0.478+-0.056\n",
      "pos      lr C1 Accuracy 0.571+-0.043 F1 Score 0.573+-0.043\n",
      "f + pos  lr C1 Accuracy 0.563+-0.056 F1 Score 0.565+-0.053\n"
     ]
    }
   ],
   "source": [
    "clf_lr_1 = LogisticRegression(max_iter=5000, C=1, penalty='l2', solver='liblinear')\n",
    "\n",
    "scoring = ['accuracy', 'precision', 'recall', 'f1']\n",
    "\n",
    "for X_used, x_name in zip(\n",
    "    [X_ngram_u, X_features, X_pos_u, X_f_pos],\n",
    "    ['ngrams  ', 'features', 'pos     ', 'f + pos ']\n",
    "):\n",
    "    \n",
    "    col_keep = []\n",
    "    for c in X_used.columns:\n",
    "        min_v =X_used[c].values.min()\n",
    "        max_v = X_used[c].values.max()\n",
    "\n",
    "        if min_v < max_v:\n",
    "            r = scipy.stats.pearsonr(X_used[c].values, y_train_u)[0]\n",
    "            if ~np.isnan(r) and r > 0.05:\n",
    "                col_keep.append(c)\n",
    "                    \n",
    "    results = cross_validate(estimator=clf_lr_1,\n",
    "                           X=X_used[col_keep],\n",
    "                           y=y_train_u,\n",
    "                           cv=cv_fold_i, #10,\n",
    "                           scoring=scoring,\n",
    "                           return_train_score=True)\n",
    "    print(\n",
    "        x_name, \n",
    "        'lr C1',\n",
    "        f'Accuracy {results[\"test_accuracy\"].mean():.3f}+-{results[\"test_accuracy\"].std():.3f}',\n",
    "        f'F1 Score {results[\"test_f1\"].mean():.3f}+-{results[\"test_f1\"].std():.3f}',\n",
    "    )"
   ]
  },
  {
   "cell_type": "code",
   "execution_count": 56,
   "id": "ed7ea9fb",
   "metadata": {},
   "outputs": [
    {
     "name": "stdout",
     "output_type": "stream",
     "text": [
      "ngrams   lr C1 Accuracy 0.554+-0.031 F1 Score 0.551+-0.024\n",
      "features lr C1 Accuracy 0.531+-0.043 F1 Score 0.473+-0.053\n",
      "pos      lr C1 Accuracy 0.578+-0.033 F1 Score 0.576+-0.045\n",
      "f + pos  lr C1 Accuracy 0.560+-0.024 F1 Score 0.563+-0.037\n"
     ]
    }
   ],
   "source": [
    "clf_lr_1 = LogisticRegression(max_iter=5000, C=1, penalty='l2', solver='liblinear')\n",
    "\n",
    "scoring = ['accuracy', 'precision', 'recall', 'f1']\n",
    "\n",
    "for X_used, x_name in zip(\n",
    "    [X_ngram_u, X_features, X_pos_u, X_f_pos],\n",
    "    ['ngrams  ', 'features', 'pos     ', 'f + pos ']\n",
    "):\n",
    "    \n",
    "    col_keep = []\n",
    "    for c in X_used.columns:\n",
    "        min_v =X_used[c].values.min()\n",
    "        max_v = X_used[c].values.max()\n",
    "\n",
    "        if min_v < max_v:\n",
    "            r = scipy.stats.pearsonr(X_used[c].values, y_train_u)[0]\n",
    "            if ~np.isnan(r) and r > 0.05:\n",
    "                col_keep.append(c)\n",
    "                    \n",
    "    results = cross_validate(estimator=clf_lr_1,\n",
    "                           X=X_used[col_keep],\n",
    "                           y=y_train_u,\n",
    "                           cv=cv_Kfold_i, #10,\n",
    "                           scoring=scoring,\n",
    "                           return_train_score=True)\n",
    "    print(\n",
    "        x_name, \n",
    "        'lr C1',\n",
    "        f'Accuracy {results[\"test_accuracy\"].mean():.3f}+-{results[\"test_accuracy\"].std():.3f}',\n",
    "        f'F1 Score {results[\"test_f1\"].mean():.3f}+-{results[\"test_f1\"].std():.3f}',\n",
    "    )"
   ]
  },
  {
   "cell_type": "code",
   "execution_count": null,
   "id": "9bcb0bf7",
   "metadata": {},
   "outputs": [],
   "source": []
  }
 ],
 "metadata": {
  "kernelspec": {
   "display_name": "Python 3 (ipykernel)",
   "language": "python",
   "name": "python3"
  },
  "language_info": {
   "codemirror_mode": {
    "name": "ipython",
    "version": 3
   },
   "file_extension": ".py",
   "mimetype": "text/x-python",
   "name": "python",
   "nbconvert_exporter": "python",
   "pygments_lexer": "ipython3",
   "version": "3.9.13"
  }
 },
 "nbformat": 4,
 "nbformat_minor": 5
}
