{
 "cells": [
  {
   "cell_type": "code",
   "execution_count": 1,
   "id": "17ea04c6",
   "metadata": {},
   "outputs": [
    {
     "name": "stderr",
     "output_type": "stream",
     "text": [
      "/home/marek/anaconda3/envs/nlp/lib/python3.9/site-packages/xgboost/compat.py:36: FutureWarning: pandas.Int64Index is deprecated and will be removed from pandas in a future version. Use pandas.Index with the appropriate dtype instead.\n",
      "  from pandas import MultiIndex, Int64Index\n"
     ]
    },
    {
     "name": "stdout",
     "output_type": "stream",
     "text": [
      "INFO: Pandarallel will run on 7 workers.\n",
      "INFO: Pandarallel will use Memory file system to transfer data between the main process and workers.\n"
     ]
    }
   ],
   "source": [
    "import pandas as pd\n",
    "import numpy as np\n",
    "import spacy\n",
    "\n",
    "import gensim\n",
    "from gensim.models.doc2vec import Doc2Vec, TaggedDocument\n",
    "from gensim.test.test_doc2vec import ConcatenatedDoc2Vec\n",
    "\n",
    "# import morfeusz2\n",
    "\n",
    "import matplotlib.pyplot as plt\n",
    "import seaborn as sns\n",
    "\n",
    "#from sentence_transformers import SentenceTransformer\n",
    "import umap\n",
    "import hdbscan\n",
    "\n",
    "import numpy as np\n",
    "from sklearn.feature_extraction.text import CountVectorizer\n",
    "\n",
    "from sklearn.model_selection import train_test_split\n",
    "from sklearn.model_selection import GridSearchCV, RandomizedSearchCV\n",
    "from sklearn import utils\n",
    "from sklearn.feature_extraction.text import TfidfTransformer\n",
    "\n",
    "from sklearn.linear_model import LogisticRegression\n",
    "\n",
    "import xgboost as xgb\n",
    "from xgboost import XGBClassifier\n",
    "from sklearn.metrics import (\n",
    "    accuracy_score, \n",
    "    f1_score, \n",
    "    recall_score,\n",
    "    precision_score,\n",
    "    roc_auc_score, confusion_matrix, roc_curve, classification_report\n",
    ")\n",
    "\n",
    "import re\n",
    "\n",
    "from wordcloud import WordCloud\n",
    "import shap\n",
    "\n",
    "from nltk import ngrams\n",
    "import nltk\n",
    "\n",
    "import scipy\n",
    "from sklearn.model_selection import cross_validate\n",
    "\n",
    "from utils import *\n",
    "\n",
    "from tqdm import tqdm\n",
    "tqdm.pandas()\n",
    "from pandarallel import pandarallel\n",
    "pandarallel.initialize(nb_workers=7,progress_bar=True)\n",
    "\n",
    "from parallelbar import progress_map\n",
    "\n",
    "\n",
    "from gensim.models import LdaModel, CoherenceModel\n",
    "from gensim import corpora\n",
    "\n",
    "from sklearn.ensemble import RandomForestClassifier\n",
    "\n",
    "from sklearn.base import clone as sklearn_clone\n",
    "\n",
    "from gensim.models import KeyedVectors\n",
    "from sklearn.feature_extraction.text import TfidfVectorizer\n",
    "\n",
    "import random"
   ]
  },
  {
   "cell_type": "markdown",
   "id": "7cc8f4cc",
   "metadata": {},
   "source": [
    "## Load data"
   ]
  },
  {
   "cell_type": "code",
   "execution_count": 2,
   "id": "aa8f71fb",
   "metadata": {},
   "outputs": [],
   "source": [
    "df = pd.read_csv('../datasets/ready2use/fake_news_features_combined.csv', sep=';')\n",
    "\n",
    "df = df[ df['assestment'] != 'brak' ]\n",
    "\n",
    "df.loc[:, 'assestment'] = df['assestment'].replace({\n",
    "    'falsz' : 'Fałsz',\n",
    "    'zbity_zegar' : 'Fałsz',\n",
    "    'raczej_falsz' : 'Fałsz',\n",
    "    'prawda' : 'Prawda',\n",
    "    'blisko_prawdy' : 'Prawda',\n",
    "    'polprawda' : 'Manipulacja',\n",
    "    'Częściowy fałsz' : 'Manipulacja'\n",
    "})\n",
    "\n",
    "df = df[ df['assestment'] != 'Nieweryfikowalne' ]\n",
    "df = df[ df['assestment'] != 'Manipulacja' ]\n",
    "\n",
    "df['assestment'] = df['assestment'].replace({\n",
    "    'Fałsz' : 0,\n",
    "#     'Manipulacja' : 1,\n",
    "    'Prawda' : 1\n",
    "}).astype(int)\n",
    "\n",
    "y_train = df.copy()['assestment']\n",
    "X_train = df.copy().loc[:, df.columns != 'assestment']"
   ]
  },
  {
   "cell_type": "code",
   "execution_count": 4,
   "id": "1acf85df",
   "metadata": {},
   "outputs": [
    {
     "data": {
      "text/plain": [
       "0    3439\n",
       "1    3103\n",
       "Name: assestment, dtype: int64"
      ]
     },
     "execution_count": 4,
     "metadata": {},
     "output_type": "execute_result"
    }
   ],
   "source": [
    "y_train.value_counts()"
   ]
  },
  {
   "cell_type": "code",
   "execution_count": 7,
   "id": "53a9f47b",
   "metadata": {},
   "outputs": [],
   "source": [
    "# X_train[['text_clean']].to_csv('../datasets/ready2use/text_celan_pl_dataset.csv', sep=';', header=None, index=False)"
   ]
  },
  {
   "cell_type": "markdown",
   "id": "f1253bde",
   "metadata": {},
   "source": [
    "## Analysis words frequencies"
   ]
  },
  {
   "cell_type": "code",
   "execution_count": 5,
   "id": "c4fdc401",
   "metadata": {},
   "outputs": [
    {
     "data": {
      "application/vnd.jupyter.widget-view+json": {
       "model_id": "0cf8fb11342e439793e035a76c22860d",
       "version_major": 2,
       "version_minor": 0
      },
      "text/plain": [
       "Core 1:   0%|          | 0/935 [00:00<?, ?it/s]"
      ]
     },
     "metadata": {},
     "output_type": "display_data"
    },
    {
     "data": {
      "application/vnd.jupyter.widget-view+json": {
       "model_id": "a7c72137754943439e9f5059e492aa0e",
       "version_major": 2,
       "version_minor": 0
      },
      "text/plain": [
       "Core 2:   0%|          | 0/935 [00:00<?, ?it/s]"
      ]
     },
     "metadata": {},
     "output_type": "display_data"
    },
    {
     "data": {
      "application/vnd.jupyter.widget-view+json": {
       "model_id": "ee59160632074a11a6e83aeebbbaed68",
       "version_major": 2,
       "version_minor": 0
      },
      "text/plain": [
       "Core 3:   0%|          | 0/935 [00:00<?, ?it/s]"
      ]
     },
     "metadata": {},
     "output_type": "display_data"
    },
    {
     "data": {
      "application/vnd.jupyter.widget-view+json": {
       "model_id": "55e85240453a459a82b692c482ab32a1",
       "version_major": 2,
       "version_minor": 0
      },
      "text/plain": [
       "Core 4:   0%|          | 0/935 [00:00<?, ?it/s]"
      ]
     },
     "metadata": {},
     "output_type": "display_data"
    },
    {
     "data": {
      "application/vnd.jupyter.widget-view+json": {
       "model_id": "cebb9f337a634a4c88b938e38b08fccf",
       "version_major": 2,
       "version_minor": 0
      },
      "text/plain": [
       "Core 5:   0%|          | 0/935 [00:00<?, ?it/s]"
      ]
     },
     "metadata": {},
     "output_type": "display_data"
    },
    {
     "data": {
      "application/vnd.jupyter.widget-view+json": {
       "model_id": "006e3225d2b24334a0929e33eb363855",
       "version_major": 2,
       "version_minor": 0
      },
      "text/plain": [
       "Core 6:   0%|          | 0/935 [00:00<?, ?it/s]"
      ]
     },
     "metadata": {},
     "output_type": "display_data"
    },
    {
     "data": {
      "application/vnd.jupyter.widget-view+json": {
       "model_id": "b6a7762a9da04d3a9cf8e989d1cbb589",
       "version_major": 2,
       "version_minor": 0
      },
      "text/plain": [
       "Core 7:   0%|          | 0/935 [00:00<?, ?it/s]"
      ]
     },
     "metadata": {},
     "output_type": "display_data"
    }
   ],
   "source": [
    "tasks = X_train['text_clean'].values.tolist()\n",
    "result = progress_map(tokenize, tasks, n_cpu=7, chunk_size=1, core_progress=True)\n",
    "\n",
    "X_train['words'] = result\n",
    "\n",
    "X_train = X_train[X_train['words'].apply(len)>0]\n",
    "y_train = y_train[y_train.index.isin(X_train.index)]"
   ]
  },
  {
   "cell_type": "code",
   "execution_count": 5,
   "id": "03de4f1c",
   "metadata": {},
   "outputs": [],
   "source": [
    "df_one = X_train.copy()\n",
    "\n",
    "# df_one = df_one[['tokens']].reset_index().explode('tokens')\n",
    "df_one = df_one[['words']].reset_index().explode('words')\n",
    "df_one['n'] = 1\n",
    "df_one['tokens'] = df_one['words'].apply( lambda x: re.sub(r\"[`'-.’0-9]\", \"\", x) )"
   ]
  },
  {
   "cell_type": "code",
   "execution_count": 6,
   "id": "56d2db78",
   "metadata": {},
   "outputs": [
    {
     "data": {
      "image/png": "[encoded data removed]",
      "text/plain": [
       "<Figure size 432x576 with 1 Axes>"
      ]
     },
     "metadata": {
      "needs_background": "light"
     },
     "output_type": "display_data"
    }
   ],
   "source": [
    "df_one = df_one[df_one['tokens'].str.len() > 1]\n",
    "\n",
    "f, ax = plt.subplots(figsize=(6,8));\n",
    "df_one.groupby('tokens').agg(n=('n','sum')).sort_values('n').tail(30).plot(kind='barh', ax=ax)\n",
    "plt.title('Trainig set')\n",
    "plt.show()"
   ]
  },
  {
   "cell_type": "markdown",
   "id": "7da79d75",
   "metadata": {},
   "source": [
    "### Remove extra stopwords"
   ]
  },
  {
   "cell_type": "code",
   "execution_count": 7,
   "id": "2170627a",
   "metadata": {},
   "outputs": [],
   "source": [
    "extra_stop_words = set(['polska', \n",
    "                        'rok', \n",
    "                        'polski', 'europejski', 'milion',\n",
    "                        'prawo', 'państwo', \n",
    "                        'procent', 'rząd', 'miliard', 'osoba', 'kraj', 'mowić'] \n",
    "                       + \n",
    "                       df_one.groupby('tokens').agg(n=('n','sum')).query('n<6').index.values.tolist())"
   ]
  },
  {
   "cell_type": "code",
   "execution_count": 8,
   "id": "e5b13136",
   "metadata": {},
   "outputs": [
    {
     "data": {
      "application/vnd.jupyter.widget-view+json": {
       "model_id": "e28d79ba7eaf4ef28651b5cebecfa694",
       "version_major": 2,
       "version_minor": 0
      },
      "text/plain": [
       "Core 1:   0%|          | 0/935 [00:00<?, ?it/s]"
      ]
     },
     "metadata": {},
     "output_type": "display_data"
    },
    {
     "data": {
      "application/vnd.jupyter.widget-view+json": {
       "model_id": "1748e62853ee49e18194e2aac0b75c45",
       "version_major": 2,
       "version_minor": 0
      },
      "text/plain": [
       "Core 2:   0%|          | 0/935 [00:00<?, ?it/s]"
      ]
     },
     "metadata": {},
     "output_type": "display_data"
    },
    {
     "data": {
      "application/vnd.jupyter.widget-view+json": {
       "model_id": "a1fd0fc7ff4b4cbb8ce02e55a31c7ae5",
       "version_major": 2,
       "version_minor": 0
      },
      "text/plain": [
       "Core 3:   0%|          | 0/935 [00:00<?, ?it/s]"
      ]
     },
     "metadata": {},
     "output_type": "display_data"
    },
    {
     "data": {
      "application/vnd.jupyter.widget-view+json": {
       "model_id": "f0d1cda5f2c244e58b48441b47d25581",
       "version_major": 2,
       "version_minor": 0
      },
      "text/plain": [
       "Core 4:   0%|          | 0/935 [00:00<?, ?it/s]"
      ]
     },
     "metadata": {},
     "output_type": "display_data"
    },
    {
     "data": {
      "application/vnd.jupyter.widget-view+json": {
       "model_id": "dff6ed76455b4ecf8b4b9f08f3cc4bfe",
       "version_major": 2,
       "version_minor": 0
      },
      "text/plain": [
       "Core 5:   0%|          | 0/935 [00:00<?, ?it/s]"
      ]
     },
     "metadata": {},
     "output_type": "display_data"
    },
    {
     "data": {
      "application/vnd.jupyter.widget-view+json": {
       "model_id": "25f8d392947b4aceb4a0bc3a25456638",
       "version_major": 2,
       "version_minor": 0
      },
      "text/plain": [
       "Core 6:   0%|          | 0/935 [00:00<?, ?it/s]"
      ]
     },
     "metadata": {},
     "output_type": "display_data"
    },
    {
     "data": {
      "application/vnd.jupyter.widget-view+json": {
       "model_id": "2005bfdc62204a12b7f4807fef5c43c3",
       "version_major": 2,
       "version_minor": 0
      },
      "text/plain": [
       "Core 7:   0%|          | 0/935 [00:00<?, ?it/s]"
      ]
     },
     "metadata": {},
     "output_type": "display_data"
    }
   ],
   "source": [
    "def filter_stop_words(words, stop_words = extra_stop_words):\n",
    "    out = [x for x in words if x not in stop_words]\n",
    "    return out\n",
    "\n",
    "tasks = X_train['words'].values.tolist()\n",
    "result = progress_map(filter_stop_words, tasks, n_cpu=7, chunk_size=1, core_progress=True)\n",
    "\n",
    "X_train['words_clean'] = result"
   ]
  },
  {
   "cell_type": "markdown",
   "id": "c337b74c",
   "metadata": {},
   "source": [
    "### Add features"
   ]
  },
  {
   "cell_type": "code",
   "execution_count": 9,
   "id": "a5541829",
   "metadata": {},
   "outputs": [],
   "source": [
    "n_grams = 5\n",
    "min_pos = 5 "
   ]
  },
  {
   "cell_type": "code",
   "execution_count": 13,
   "id": "f85c4c3a",
   "metadata": {},
   "outputs": [],
   "source": [
    "if False:\n",
    "    X_pos = X_train[['TEXT_POS']].copy()\n",
    "\n",
    "    words =  sum(X_pos['TEXT_POS'].str.split(' ').values.tolist(), [])\n",
    "\n",
    "    n_list = []\n",
    "    for n in range(n_grams):\n",
    "        n_i = pd.Series(nltk.ngrams(words, n+1)).value_counts()\n",
    "        n_i = n_i[n_i>min_pos]\n",
    "        n_list.append(n_i)\n",
    "\n",
    "    n_iterator = []\n",
    "    for n_i in n_list:\n",
    "        n_iterator += n_i.index.tolist()\n",
    "\n",
    "    col = {}\n",
    "\n",
    "    for n in tqdm(n_iterator):\n",
    "        x = X_pos['TEXT_POS'].str.count(' '.join(n)) / X_pos['TEXT_POS'].str.split(' ').str.len()\n",
    "\n",
    "        col[' '.join(n)] = x\n",
    "        col[' '.join(n)].name = ' '.join(n)\n",
    "\n",
    "    X_pos = pd.concat( [X_pos] + list( col.values() ), axis=1 ).drop('TEXT_POS', axis=1)\n",
    "else:\n",
    "    X_pos = pd.read_csv('../datasets/ready2use/pos_pl_dataset.csv', sep=';')\n",
    "    del X_pos['assestment']\n",
    "    X_pos.index = X_train.index"
   ]
  },
  {
   "cell_type": "code",
   "execution_count": 14,
   "id": "6e76710e",
   "metadata": {},
   "outputs": [
    {
     "name": "stderr",
     "output_type": "stream",
     "text": [
      "100%|███████████████████████████████████████| 2778/2778 [01:08<00:00, 40.57it/s]\n"
     ]
    }
   ],
   "source": [
    "X_ngram = X_train[['words_clean']].copy()\n",
    "\n",
    "X_ngram['words_clean'] = X_ngram['words_clean'].apply(lambda l: \" \".join(l))\n",
    "\n",
    "words =  sum(X_ngram['words_clean'].str.split(' ').values.tolist(), [])\n",
    "\n",
    "n_list = []\n",
    "for n in range(n_grams):\n",
    "    n_i = pd.Series(nltk.ngrams(words, n+1)).value_counts()\n",
    "    n_i = n_i[n_i>min_pos]\n",
    "    n_list.append(n_i)\n",
    "\n",
    "n_iterator = []\n",
    "for n_i in n_list:\n",
    "    n_iterator += n_i.index.tolist()\n",
    "\n",
    "col = {}\n",
    "    \n",
    "for n in tqdm(n_iterator):\n",
    "    x = X_ngram['words_clean'].str.count(' '.join(n)) / X_ngram['words_clean'].str.split(' ').str.len()\n",
    "\n",
    "    col[' '.join(n)] = x\n",
    "    col[' '.join(n)].name = ' '.join(n)\n",
    "            \n",
    "X_ngram = pd.concat( [X_ngram] + list( col.values() ), axis=1 ).drop('words_clean', axis=1)"
   ]
  },
  {
   "cell_type": "code",
   "execution_count": 15,
   "id": "e265d5c0",
   "metadata": {},
   "outputs": [],
   "source": [
    "y_train_u = y_train.sort_index()\n",
    "    \n",
    "X_train_u = X_train.sort_index()\n",
    "X_pos_u = X_pos.sort_index()\n",
    "X_ngram_u = X_ngram.sort_index()"
   ]
  },
  {
   "cell_type": "markdown",
   "id": "e9a0feea",
   "metadata": {},
   "source": [
    "## Create embeddings"
   ]
  },
  {
   "cell_type": "code",
   "execution_count": 16,
   "id": "3a2b8d4c",
   "metadata": {},
   "outputs": [],
   "source": [
    "word2vec = KeyedVectors.load(\"../word2vec/word2vec_100_3_polish.bin\")"
   ]
  },
  {
   "cell_type": "code",
   "execution_count": 17,
   "id": "dc9a97df",
   "metadata": {},
   "outputs": [
    {
     "data": {
      "application/vnd.jupyter.widget-view+json": {
       "model_id": "025cf5e1a77d4cf5982f7c1e060d485c",
       "version_major": 2,
       "version_minor": 0
      },
      "text/plain": [
       "Core 1:   0%|          | 0/935 [00:00<?, ?it/s]"
      ]
     },
     "metadata": {},
     "output_type": "display_data"
    },
    {
     "data": {
      "application/vnd.jupyter.widget-view+json": {
       "model_id": "36e5550e511a4db6b9d7aa703c9627ac",
       "version_major": 2,
       "version_minor": 0
      },
      "text/plain": [
       "Core 2:   0%|          | 0/935 [00:00<?, ?it/s]"
      ]
     },
     "metadata": {},
     "output_type": "display_data"
    },
    {
     "data": {
      "application/vnd.jupyter.widget-view+json": {
       "model_id": "e640a099a0ce4f86b06abc7673d9fa1b",
       "version_major": 2,
       "version_minor": 0
      },
      "text/plain": [
       "Core 3:   0%|          | 0/935 [00:00<?, ?it/s]"
      ]
     },
     "metadata": {},
     "output_type": "display_data"
    },
    {
     "data": {
      "application/vnd.jupyter.widget-view+json": {
       "model_id": "51e1035d082d4e18899fe908ffbff998",
       "version_major": 2,
       "version_minor": 0
      },
      "text/plain": [
       "Core 4:   0%|          | 0/935 [00:00<?, ?it/s]"
      ]
     },
     "metadata": {},
     "output_type": "display_data"
    },
    {
     "data": {
      "application/vnd.jupyter.widget-view+json": {
       "model_id": "af454dddac374503be7c31f803d0f3f8",
       "version_major": 2,
       "version_minor": 0
      },
      "text/plain": [
       "Core 5:   0%|          | 0/935 [00:00<?, ?it/s]"
      ]
     },
     "metadata": {},
     "output_type": "display_data"
    },
    {
     "data": {
      "application/vnd.jupyter.widget-view+json": {
       "model_id": "b95fa9766ea5433da455d1185e12010b",
       "version_major": 2,
       "version_minor": 0
      },
      "text/plain": [
       "Core 6:   0%|          | 0/935 [00:00<?, ?it/s]"
      ]
     },
     "metadata": {},
     "output_type": "display_data"
    },
    {
     "data": {
      "application/vnd.jupyter.widget-view+json": {
       "model_id": "854d38e16d834a919bd687d793c14deb",
       "version_major": 2,
       "version_minor": 0
      },
      "text/plain": [
       "Core 7:   0%|          | 0/935 [00:00<?, ?it/s]"
      ]
     },
     "metadata": {},
     "output_type": "display_data"
    }
   ],
   "source": [
    "def get_wor2vec_embeddings(words, w2v=word2vec):\n",
    "    emb = []\n",
    "    for x in words:\n",
    "        if x in word2vec.index_to_key:\n",
    "            emb.append( w2v[x].reshape(1,-1) )\n",
    "        else:\n",
    "            emb.append( np.zeros((1,100)) )\n",
    "    \n",
    "    if len(emb) == 0:\n",
    "        out = np.zeros((1,100))\n",
    "    else:\n",
    "        out = np.concatenate(emb, axis=0)\n",
    "    \n",
    "    return out\n",
    "\n",
    "tasks = X_train_u['words_clean'].values.tolist()\n",
    "result = progress_map(get_wor2vec_embeddings, tasks, n_cpu=7, chunk_size=1, core_progress=True)\n",
    "\n",
    "X_train_u['wor2vec'] = result\n",
    "\n",
    "X_w2v = X_train_u[['words_clean', 'wor2vec']]"
   ]
  },
  {
   "cell_type": "markdown",
   "id": "3ec77cac",
   "metadata": {},
   "source": [
    "## CV creation\n",
    "### LDA"
   ]
  },
  {
   "cell_type": "code",
   "execution_count": 18,
   "id": "e1eb2dfa",
   "metadata": {},
   "outputs": [],
   "source": [
    "ideal_topic_num = 10"
   ]
  },
  {
   "cell_type": "code",
   "execution_count": 19,
   "id": "a4e7fc58",
   "metadata": {},
   "outputs": [
    {
     "name": "stderr",
     "output_type": "stream",
     "text": [
      "100%|█████████████████████████████████████| 6541/6541 [00:01<00:00, 6492.01it/s]\n"
     ]
    }
   ],
   "source": [
    "dictionary = gensim.corpora.Dictionary(X_train_u['words_clean'].values)\n",
    "\n",
    "bow_corpus = [dictionary.doc2bow(doc) for doc in X_train_u['words_clean'].values]\n",
    "\n",
    "\n",
    "lda_model =  gensim.models.LdaMulticore(bow_corpus, \n",
    "                                   num_topics = ideal_topic_num, \n",
    "                                   id2word = dictionary,                                    \n",
    "                                   passes = 10,\n",
    "                                   random_state=111,\n",
    "                                   workers = 7)\n",
    "\n",
    "topics = []\n",
    "\n",
    "for line in tqdm(X_train_u['words_clean'].values):\n",
    "    line_bow = dictionary.doc2bow(line)\n",
    "    doc_lda = lda_model[line_bow]\n",
    "    \n",
    "    topics.append( max(doc_lda, key=lambda x:x[1])[0] )\n",
    "\n",
    "X_train_u['topic'] = topics"
   ]
  },
  {
   "cell_type": "code",
   "execution_count": 20,
   "id": "b9fe4171",
   "metadata": {},
   "outputs": [
    {
     "name": "stdout",
     "output_type": "stream",
     "text": [
      "0 0.023*\"ustawa\" + 0.015*\"trybunał\" + 0.013*\"konstytucja\" + 0.012*\"konstytucyjny\" + 0.010*\"prezydent\"\n",
      "1 0.017*\"tysiąc\" + 0.010*\"wiek\" + 0.008*\"problem\" + 0.008*\"polak\" + 0.008*\"płacić\"\n",
      "2 0.012*\"polak\" + 0.012*\"unia\" + 0.011*\"sytuacja\" + 0.010*\"wybory\" + 0.008*\"zostać\"\n",
      "3 0.016*\"pierwszy\" + 0.011*\"wybory\" + 0.010*\"prezydent\" + 0.008*\"konstytucja\" + 0.008*\"miejsce\"\n",
      "4 0.015*\"pkb\" + 0.011*\"wynosić\" + 0.010*\"miejsce\" + 0.010*\"poziom\" + 0.010*\"złoty\"\n",
      "5 0.016*\"mówić\" + 0.012*\"premier\" + 0.011*\"czas\" + 0.010*\"minister\" + 0.009*\"nauczyciel\"\n",
      "6 0.018*\"człowiek\" + 0.014*\"budżet\" + 0.009*\"polak\" + 0.009*\"złoty\" + 0.008*\"miesiąc\"\n",
      "7 0.011*\"prezydent\" + 0.007*\"swój\" + 0.007*\"wyborczy\" + 0.006*\"miejsce\" + 0.006*\"węgiel\"\n",
      "8 0.020*\"program\" + 0.016*\"dziecko\" + 0.010*\"kobieta\" + 0.010*\"sprawa\" + 0.009*\"red\"\n",
      "9 0.016*\"dziecko\" + 0.014*\"zostać\" + 0.009*\"gospodarczy\" + 0.009*\"komisja\" + 0.009*\"aborcja\"\n"
     ]
    }
   ],
   "source": [
    "x=lda_model.show_topics(num_topics=ideal_topic_num, num_words=5)\n",
    "\n",
    "for topic,word in x:\n",
    "    print(topic, word)"
   ]
  },
  {
   "cell_type": "code",
   "execution_count": 21,
   "id": "01ca74b1",
   "metadata": {},
   "outputs": [
    {
     "data": {
      "text/html": [
       "<div>\n",
       "<style scoped>\n",
       "    .dataframe tbody tr th:only-of-type {\n",
       "        vertical-align: middle;\n",
       "    }\n",
       "\n",
       "    .dataframe tbody tr th {\n",
       "        vertical-align: top;\n",
       "    }\n",
       "\n",
       "    .dataframe thead th {\n",
       "        text-align: right;\n",
       "    }\n",
       "</style>\n",
       "<table border=\"1\" class=\"dataframe\">\n",
       "  <thead>\n",
       "    <tr style=\"text-align: right;\">\n",
       "      <th>assestment</th>\n",
       "      <th>0</th>\n",
       "      <th>1</th>\n",
       "    </tr>\n",
       "    <tr>\n",
       "      <th>topic</th>\n",
       "      <th></th>\n",
       "      <th></th>\n",
       "    </tr>\n",
       "  </thead>\n",
       "  <tbody>\n",
       "    <tr>\n",
       "      <th>0</th>\n",
       "      <td>426</td>\n",
       "      <td>343</td>\n",
       "    </tr>\n",
       "    <tr>\n",
       "      <th>1</th>\n",
       "      <td>335</td>\n",
       "      <td>308</td>\n",
       "    </tr>\n",
       "    <tr>\n",
       "      <th>2</th>\n",
       "      <td>369</td>\n",
       "      <td>248</td>\n",
       "    </tr>\n",
       "    <tr>\n",
       "      <th>3</th>\n",
       "      <td>398</td>\n",
       "      <td>307</td>\n",
       "    </tr>\n",
       "    <tr>\n",
       "      <th>4</th>\n",
       "      <td>316</td>\n",
       "      <td>479</td>\n",
       "    </tr>\n",
       "    <tr>\n",
       "      <th>5</th>\n",
       "      <td>297</td>\n",
       "      <td>298</td>\n",
       "    </tr>\n",
       "    <tr>\n",
       "      <th>6</th>\n",
       "      <td>385</td>\n",
       "      <td>291</td>\n",
       "    </tr>\n",
       "    <tr>\n",
       "      <th>7</th>\n",
       "      <td>283</td>\n",
       "      <td>319</td>\n",
       "    </tr>\n",
       "    <tr>\n",
       "      <th>8</th>\n",
       "      <td>336</td>\n",
       "      <td>227</td>\n",
       "    </tr>\n",
       "    <tr>\n",
       "      <th>9</th>\n",
       "      <td>293</td>\n",
       "      <td>283</td>\n",
       "    </tr>\n",
       "  </tbody>\n",
       "</table>\n",
       "</div>"
      ],
      "text/plain": [
       "assestment    0    1\n",
       "topic               \n",
       "0           426  343\n",
       "1           335  308\n",
       "2           369  248\n",
       "3           398  307\n",
       "4           316  479\n",
       "5           297  298\n",
       "6           385  291\n",
       "7           283  319\n",
       "8           336  227\n",
       "9           293  283"
      ]
     },
     "execution_count": 21,
     "metadata": {},
     "output_type": "execute_result"
    }
   ],
   "source": [
    "y_train_u_test = pd.DataFrame(y_train_u.copy())\n",
    "y_train_u_test['topic'] = X_train_u['topic']\n",
    "y_train_u_test['n'] = 1\n",
    "y_train_u_test.groupby(['topic', 'assestment']).sum().reset_index().pivot('topic','assestment','n')"
   ]
  },
  {
   "cell_type": "markdown",
   "id": "b443a026",
   "metadata": {},
   "source": [
    "### Kfold"
   ]
  },
  {
   "cell_type": "code",
   "execution_count": 22,
   "id": "fe5785ec",
   "metadata": {},
   "outputs": [],
   "source": [
    "cv_fold = []\n",
    "cv_fold_i = []\n",
    "\n",
    "for i in X_train_u['topic'].unique().reshape(10,-1):\n",
    "    train_cv = X_train_u.index[ ~np.isin(X_train_u[\"topic\"], i) ].values\n",
    "    test_cv = X_train_u.index[ np.isin(X_train_u[\"topic\"], i) ].values\n",
    "    \n",
    "    train_cv_i = X_train_u.reset_index().index[ ~np.isin(X_train_u[\"topic\"], i) ].values\n",
    "    test_cv_i = X_train_u.reset_index().index[ np.isin(X_train_u[\"topic\"], i) ].values\n",
    "    \n",
    "    cv_fold.append( [train_cv, test_cv])\n",
    "    cv_fold_i.append( [train_cv_i, test_cv_i])"
   ]
  },
  {
   "cell_type": "code",
   "execution_count": 23,
   "id": "246680bd",
   "metadata": {},
   "outputs": [],
   "source": [
    "from sklearn.model_selection import KFold\n",
    "\n",
    "kf = KFold(n_splits=10, shuffle=True)\n",
    "kf.get_n_splits(X_train_u)\n",
    "\n",
    "cv_Kfold = []\n",
    "cv_Kfold_i = []\n",
    "\n",
    "for train_index, test_index in kf.split(X_train_u):\n",
    "    train_cv = X_train_u.iloc[ train_index, : ].index.values\n",
    "    test_cv = X_train_u.iloc[ test_index, : ].index.values\n",
    "\n",
    "    train_cv_i= X_train_u.reset_index().iloc[ train_index, : ].index.values\n",
    "    test_cv_i = X_train_u.reset_index().iloc[ test_index, : ].index.values\n",
    "    \n",
    "    cv_Kfold.append( [train_cv, test_cv])\n",
    "    cv_Kfold_i.append( [train_cv_i, test_cv_i])"
   ]
  },
  {
   "cell_type": "markdown",
   "id": "58a400b1",
   "metadata": {},
   "source": [
    "## Run experiments"
   ]
  },
  {
   "cell_type": "code",
   "execution_count": 24,
   "id": "e97f83b3",
   "metadata": {},
   "outputs": [],
   "source": [
    "def run_experiment(X, y, cv, clf_org, r_min=0.05):\n",
    "\n",
    "    results = {\n",
    "        'test_accuracy' : [],\n",
    "        'test_precision' : [],\n",
    "        'test_recall' : [],\n",
    "        'test_f1' : [],\n",
    "        'n_features': []\n",
    "    }\n",
    "\n",
    "    c_matrix = np.zeros((2,2))\n",
    "\n",
    "    for train_cv, test_cv in cv:\n",
    "        clf = sklearn_clone(clf_org)\n",
    "    #     clf = RandomForestClassifier(random_state=111)\n",
    "\n",
    "        X_train_t = X[X.index.isin(train_cv)]\n",
    "        y_train_t = y[y.index.isin(train_cv)]\n",
    "\n",
    "        # keep only columns with corr > 0.05\n",
    "        col_keep = []\n",
    "        for c in X_train_t.columns:\n",
    "            min_v =X_train_t[c].values.min()\n",
    "            max_v = X_train_t[c].values.max()\n",
    "\n",
    "            if min_v < max_v:\n",
    "                r = scipy.stats.pearsonr(X_train_t[c].values, y_train_t)[0]\n",
    "                if ~np.isnan(r) and r > r_min:\n",
    "                    col_keep.append(c)\n",
    "        \n",
    "        if len(col_keep) == 0:\n",
    "            print('No values returned')\n",
    "        \n",
    "        X_train_t = X_train_t[col_keep]\n",
    "\n",
    "\n",
    "        X_test_t = X[X.index.isin(test_cv)]\n",
    "        y_test_t = y[y.index.isin(test_cv)]\n",
    "\n",
    "        X_test_t = X_test_t[col_keep]\n",
    "\n",
    "        clf.fit(X_train_t, y_train_t)\n",
    "\n",
    "        y_pred = clf.predict(X_test_t)\n",
    "\n",
    "        confusion = confusion_matrix(y_test_t, y_pred)\n",
    "        c_matrix += confusion\n",
    "\n",
    "    #     TN, FP = confusion[0, 0], confusion[0, 1]\n",
    "    #     FN, TP = confusion[1, 0], confusion[1, 1]\n",
    "\n",
    "        results['test_accuracy'].append( accuracy_score(y_test_t, y_pred) ) \n",
    "        results['test_precision'].append( precision_score(y_test_t, y_pred) ) \n",
    "        results['test_recall'].append( recall_score(y_test_t, y_pred) ) \n",
    "        results['test_f1'].append( f1_score(y_test_t, y_pred) ) \n",
    "        results['n_features'].append( len(col_keep) ) \n",
    "\n",
    "    metrics = {\n",
    "        \"Accuracy\": np.array(results['test_accuracy']),\n",
    "        \"Precision\": np.array(results['test_precision']).mean(),\n",
    "        \"Recall\": np.array(results['test_recall']).mean(),\n",
    "        \"F1 Score\":  np.array(results['test_f1']),\n",
    "        \"N features\": np.array(results['n_features'])\n",
    "        }\n",
    "\n",
    "#     print(c_matrix)\n",
    "\n",
    "    return metrics"
   ]
  },
  {
   "cell_type": "code",
   "execution_count": 43,
   "id": "7d272308",
   "metadata": {},
   "outputs": [],
   "source": [
    "def run_experiment_w2v(X, y, cv, clf_org):\n",
    "\n",
    "    results = {\n",
    "        'test_accuracy' : [],\n",
    "        'test_precision' : [],\n",
    "        'test_recall' : [],\n",
    "        'test_f1' : []\n",
    "    }\n",
    "\n",
    "    c_matrix = np.zeros((2,2))\n",
    "\n",
    "    for train_cv, test_cv in cv:\n",
    "        clf = sklearn_clone(clf_org)\n",
    "\n",
    "        X_train_t = X[X.index.isin(train_cv)]\n",
    "        y_train_t = y[y.index.isin(train_cv)]\n",
    "        \n",
    "        vectorizer = TfidfVectorizer()\n",
    "        vectorizer.fit(X_train_t['words_clean'].apply(lambda l: \" \".join(l)).values)\n",
    "        \n",
    "        result = []\n",
    "        for words, vec in X_train_t[['words_clean','wor2vec']].values:\n",
    "            weigh_vec = []\n",
    "            for w in words:\n",
    "                if w in vectorizer.vocabulary_:\n",
    "                    weigh_vec.append(vectorizer.vocabulary_[w])\n",
    "                else: \n",
    "                    weigh_vec.append(0)\n",
    "            if vec.shape[0] > 1 and np.sum(weigh_vec) > 0:\n",
    "                result.append( np.average(vec, axis=0, weights=weigh_vec).reshape(1, -1) ) \n",
    "            elif np.sum(weigh_vec) > 0:\n",
    "                result.append( np.average(vec, axis=0).reshape(1, -1) )\n",
    "            else: \n",
    "                result.append( vec )\n",
    "\n",
    "        X_train_emb = np.concatenate(result)\n",
    "        \n",
    "        X_test_t = X[X.index.isin(test_cv)]\n",
    "        y_test_t = y[y.index.isin(test_cv)]\n",
    "        \n",
    "        assert X_test_t.shape[0] == y_test_t.shape[0]\n",
    "        \n",
    "        result = []\n",
    "        for words, vec in X_test_t[['words_clean','wor2vec']].values:\n",
    "            weigh_vec = []\n",
    "            for w in words:\n",
    "                if w in vectorizer.vocabulary_:\n",
    "                    weigh_vec.append(vectorizer.vocabulary_[w])\n",
    "                else: \n",
    "                    weigh_vec.append(0)\n",
    "            if vec.shape[0] > 1 and np.sum(weigh_vec) > 0:\n",
    "                result.append( np.average(vec, axis=0, weights=weigh_vec).reshape(1, -1) ) \n",
    "            elif vec.shape[0] > 1:\n",
    "                result.append( np.average(vec, axis=0).reshape(1, -1) )\n",
    "            else: \n",
    "                result.append( vec )\n",
    "                \n",
    "        X_test_emb = np.concatenate(result)\n",
    "        \n",
    "        assert X_test_t.shape[0] == X_test_emb.shape[0]\n",
    "        \n",
    "        clf.fit(X_train_emb, y_train_t)\n",
    "\n",
    "        y_pred = clf.predict(X_test_emb)\n",
    "        \n",
    "        confusion = confusion_matrix(y_test_t, y_pred)\n",
    "        c_matrix += confusion\n",
    "\n",
    "    #     TN, FP = confusion[0, 0], confusion[0, 1]\n",
    "    #     FN, TP = confusion[1, 0], confusion[1, 1]\n",
    "\n",
    "        results['test_accuracy'].append( accuracy_score(y_test_t, y_pred) ) \n",
    "        results['test_precision'].append( precision_score(y_test_t, y_pred) ) \n",
    "        results['test_recall'].append( recall_score(y_test_t, y_pred) ) \n",
    "        results['test_f1'].append( f1_score(y_test_t, y_pred) ) \n",
    "\n",
    "    metrics = {\n",
    "        \"Accuracy\": np.array(results['test_accuracy']),\n",
    "    #     \"Precision\": np.array(results['test_precision']).mean(),\n",
    "    #     \"Recall\": np.array(results['test_recall']).mean(),\n",
    "        \"F1 Score\":  np.array(results['test_f1']),\n",
    "        }\n",
    "\n",
    "#     print(c_matrix)\n",
    "\n",
    "    return metrics"
   ]
  },
  {
   "cell_type": "code",
   "execution_count": 44,
   "id": "f357a562",
   "metadata": {},
   "outputs": [],
   "source": [
    "X_features = X_train_u[['sentiment_all', 'sentiment_avg', 'uniq_words',\n",
    "       'uniq_lemm', 'err', 'net', 'words_start_upper', 'words_full_upper',\n",
    "       'exclamation_marks', 'question_marks', 'upper_letters', 'chars']]"
   ]
  },
  {
   "cell_type": "markdown",
   "id": "bd8a3ce0",
   "metadata": {},
   "source": [
    "## Topics Kfold"
   ]
  },
  {
   "cell_type": "code",
   "execution_count": 45,
   "id": "1ec1e21a",
   "metadata": {},
   "outputs": [],
   "source": [
    "X_f_pos = X_features.reset_index().join(X_pos_u.reset_index(drop=True), how=\"left\").set_index('index')"
   ]
  },
  {
   "cell_type": "code",
   "execution_count": 54,
   "id": "ca6d2615",
   "metadata": {},
   "outputs": [],
   "source": [
    "random.seed(111)"
   ]
  },
  {
   "cell_type": "code",
   "execution_count": 55,
   "id": "6ddc9606",
   "metadata": {},
   "outputs": [
    {
     "name": "stdout",
     "output_type": "stream",
     "text": [
      "ngrams   lr C1 Accuracy 0.538+-0.058 F1 Score 0.099+-0.065  0.538+-0.058 | 0.099+-0.065\n",
      "features lr C1 Accuracy 0.529+-0.038 F1 Score 0.345+-0.063  0.529+-0.038 | 0.345+-0.063\n",
      "pos      lr C1 Accuracy 0.620+-0.030 F1 Score 0.504+-0.075  0.620+-0.030 | 0.504+-0.075\n",
      "f + pos  lr C1 Accuracy 0.623+-0.026 F1 Score 0.529+-0.058  0.623+-0.026 | 0.529+-0.058\n",
      "word2vec lr C1 Accuracy 0.625+-0.022 F1 Score 0.574+-0.065  0.625+-0.022 | 0.574+-0.065\n"
     ]
    }
   ],
   "source": [
    "clf_lr_1 = LogisticRegression(max_iter=5000, C=1, penalty='l2', solver='liblinear')\n",
    "clf_lr_01 = LogisticRegression(max_iter=5000, C=0.1, penalty='l2', solver='liblinear')\n",
    "\n",
    "for X_used, x_name in zip(\n",
    "    [X_ngram_u, X_features, X_pos_u, X_f_pos],\n",
    "    ['ngrams  ', 'features', 'pos     ', 'f + pos ']\n",
    "):\n",
    "    for clf_used, clf_name in zip(\n",
    "        [clf_lr_1],['lr C1']\n",
    "    ):\n",
    "        out = run_experiment(X_used, y_train_u, cv_fold, clf_used, 0.05)\n",
    "        print(\n",
    "            x_name, \n",
    "            clf_name,\n",
    "            f'Accuracy {out[\"Accuracy\"].mean():.3f}+-{out[\"Accuracy\"].std():.3f}',\n",
    "            f'F1 Score {out[\"F1 Score\"].mean():.3f}+-{out[\"F1 Score\"].std():.3f}', \n",
    "            f' {out[\"Accuracy\"].mean():.3f}+-{out[\"Accuracy\"].std():.3f} | {out[\"F1 Score\"].mean():.3f}+-{out[\"F1 Score\"].std():.3f}'\n",
    "        )\n",
    "        \n",
    "out = run_experiment_w2v(X_w2v, y_train_u, cv_fold, clf_lr_1)\n",
    "print(\n",
    "    'word2vec lr C1',\n",
    "    f'Accuracy {out[\"Accuracy\"].mean():.3f}+-{out[\"Accuracy\"].std():.3f}',\n",
    "    f'F1 Score {out[\"F1 Score\"].mean():.3f}+-{out[\"F1 Score\"].std():.3f}',\n",
    "    f' {out[\"Accuracy\"].mean():.3f}+-{out[\"Accuracy\"].std():.3f} | {out[\"F1 Score\"].mean():.3f}+-{out[\"F1 Score\"].std():.3f}'\n",
    ")"
   ]
  },
  {
   "cell_type": "markdown",
   "id": "c83ae746",
   "metadata": {},
   "source": [
    "## Random Kfold"
   ]
  },
  {
   "cell_type": "code",
   "execution_count": 56,
   "id": "d9b9d421",
   "metadata": {},
   "outputs": [
    {
     "name": "stdout",
     "output_type": "stream",
     "text": [
      "ngrams   lr C1 Accuracy 0.601+-0.015 F1 Score 0.470+-0.019  0.601+-0.015 | 0.470+-0.019\n",
      "features lr C1 Accuracy 0.539+-0.017 F1 Score 0.381+-0.024  0.539+-0.017 | 0.381+-0.024\n",
      "pos      lr C1 Accuracy 0.624+-0.015 F1 Score 0.536+-0.026  0.624+-0.015 | 0.536+-0.026\n",
      "f + pos  lr C1 Accuracy 0.625+-0.014 F1 Score 0.554+-0.023  0.625+-0.014 | 0.554+-0.023\n",
      "word2vec lr C1 Accuracy 0.629+-0.019 F1 Score 0.593+-0.026  0.629+-0.019 | 0.593+-0.026\n"
     ]
    }
   ],
   "source": [
    "clf_lr_1 = LogisticRegression(max_iter=5000, C=1, penalty='l2', solver='liblinear')\n",
    "clf_lr_01 = LogisticRegression(max_iter=5000, C=0.1, penalty='l2', solver='liblinear')\n",
    "        \n",
    "for X_used, x_name in zip(\n",
    "    [X_ngram_u, X_features, X_pos_u, X_f_pos],\n",
    "    ['ngrams  ', 'features', 'pos     ', 'f + pos ']\n",
    "):\n",
    "    for clf_used, clf_name in zip(\n",
    "        [clf_lr_1],['lr C1']\n",
    "    ):\n",
    "        out = run_experiment(X_used, y_train_u, cv_Kfold, clf_used, 0.01)\n",
    "        print(\n",
    "            x_name, \n",
    "            clf_name,\n",
    "            f'Accuracy {out[\"Accuracy\"].mean():.3f}+-{out[\"Accuracy\"].std():.3f}',\n",
    "            f'F1 Score {out[\"F1 Score\"].mean():.3f}+-{out[\"F1 Score\"].std():.3f}',\n",
    "            f' {out[\"Accuracy\"].mean():.3f}+-{out[\"Accuracy\"].std():.3f} | {out[\"F1 Score\"].mean():.3f}+-{out[\"F1 Score\"].std():.3f}'\n",
    "        )\n",
    "        \n",
    "out = run_experiment_w2v(X_w2v, y_train_u, cv_Kfold, clf_lr_1)\n",
    "print(\n",
    "    'word2vec lr C1',\n",
    "    f'Accuracy {out[\"Accuracy\"].mean():.3f}+-{out[\"Accuracy\"].std():.3f}',\n",
    "    f'F1 Score {out[\"F1 Score\"].mean():.3f}+-{out[\"F1 Score\"].std():.3f}',\n",
    "    f' {out[\"Accuracy\"].mean():.3f}+-{out[\"Accuracy\"].std():.3f} | {out[\"F1 Score\"].mean():.3f}+-{out[\"F1 Score\"].std():.3f}'\n",
    ")"
   ]
  },
  {
   "cell_type": "markdown",
   "id": "da9388a6",
   "metadata": {},
   "source": [
    "## Use all features "
   ]
  },
  {
   "cell_type": "code",
   "execution_count": 42,
   "id": "bcc84caf",
   "metadata": {},
   "outputs": [
    {
     "name": "stdout",
     "output_type": "stream",
     "text": [
      "ngrams   lr C1 Accuracy 0.557+-0.039 F1 Score 0.322+-0.055\n",
      "features lr C1 Accuracy 0.564+-0.027 F1 Score 0.462+-0.040\n",
      "pos      lr C1 Accuracy 0.629+-0.029 F1 Score 0.536+-0.056\n",
      "f + pos  lr C1 Accuracy 0.634+-0.025 F1 Score 0.556+-0.056\n"
     ]
    }
   ],
   "source": [
    "clf_lr_1 = LogisticRegression(max_iter=5000, C=1, penalty='l2', solver='liblinear')\n",
    "\n",
    "scoring = ['accuracy', 'precision', 'recall', 'f1']\n",
    "\n",
    "for X_used, x_name in zip(\n",
    "    [X_ngram_u, X_features, X_pos_u, X_f_pos],\n",
    "    ['ngrams  ', 'features', 'pos     ', 'f + pos ']\n",
    "):\n",
    "    \n",
    "    col_keep = []\n",
    "    for c in X_used.columns:\n",
    "        min_v =X_used[c].values.min()\n",
    "        max_v = X_used[c].values.max()\n",
    "\n",
    "        if min_v < max_v:\n",
    "            r = scipy.stats.pearsonr(X_used[c].values, y_train_u)[0]\n",
    "            if ~np.isnan(r) and np.abs(r) > 0.05:\n",
    "                col_keep.append(c)\n",
    "                    \n",
    "    results = cross_validate(estimator=clf_lr_1,\n",
    "                           X=X_used[col_keep],\n",
    "                           y=y_train_u,\n",
    "                           cv=cv_fold_i, #10,\n",
    "                           scoring=scoring,\n",
    "                           return_train_score=True)\n",
    "    print(\n",
    "        x_name, \n",
    "        'lr C1',\n",
    "        f'Accuracy {results[\"test_accuracy\"].mean():.3f}+-{results[\"test_accuracy\"].std():.3f}',\n",
    "        f'F1 Score {results[\"test_f1\"].mean():.3f}+-{results[\"test_f1\"].std():.3f}',\n",
    "    )"
   ]
  },
  {
   "cell_type": "code",
   "execution_count": 43,
   "id": "19c2e9e6",
   "metadata": {},
   "outputs": [
    {
     "name": "stdout",
     "output_type": "stream",
     "text": [
      "ngrams   lr C1 Accuracy 0.553+-0.033 F1 Score 0.322+-0.045\n",
      "features lr C1 Accuracy 0.551+-0.048 F1 Score 0.458+-0.050\n",
      "pos      lr C1 Accuracy 0.625+-0.073 F1 Score 0.540+-0.093\n",
      "f + pos  lr C1 Accuracy 0.621+-0.066 F1 Score 0.548+-0.091\n"
     ]
    }
   ],
   "source": [
    "clf_lr_1 = LogisticRegression(max_iter=5000, C=1, penalty='l2', solver='liblinear')\n",
    "\n",
    "scoring = ['accuracy', 'precision', 'recall', 'f1']\n",
    "\n",
    "for X_used, x_name in zip(\n",
    "    [X_ngram_u, X_features, X_pos_u, X_f_pos],\n",
    "    ['ngrams  ', 'features', 'pos     ', 'f + pos ']\n",
    "):\n",
    "    \n",
    "    col_keep = []\n",
    "    for c in X_used.columns:\n",
    "        min_v =X_used[c].values.min()\n",
    "        max_v = X_used[c].values.max()\n",
    "\n",
    "        if min_v < max_v:\n",
    "            r = scipy.stats.pearsonr(X_used[c].values, y_train_u)[0]\n",
    "            if ~np.isnan(r) and np.abs(r) > 0.05:\n",
    "                col_keep.append(c)\n",
    "                    \n",
    "    results = cross_validate(estimator=clf_lr_1,\n",
    "                           X=X_used[col_keep],\n",
    "                           y=y_train_u,\n",
    "                           cv=10, #10,\n",
    "                           scoring=scoring,\n",
    "                           return_train_score=True)\n",
    "    print(\n",
    "        x_name, \n",
    "        'lr C1',\n",
    "        f'Accuracy {results[\"test_accuracy\"].mean():.3f}+-{results[\"test_accuracy\"].std():.3f}',\n",
    "        f'F1 Score {results[\"test_f1\"].mean():.3f}+-{results[\"test_f1\"].std():.3f}',\n",
    "    )"
   ]
  },
  {
   "cell_type": "code",
   "execution_count": null,
   "id": "11cf5f9b",
   "metadata": {},
   "outputs": [],
   "source": []
  },
  {
   "cell_type": "code",
   "execution_count": null,
   "id": "5f46b412",
   "metadata": {},
   "outputs": [],
   "source": []
  }
 ],
 "metadata": {
  "kernelspec": {
   "display_name": "Python 3 (ipykernel)",
   "language": "python",
   "name": "python3"
  },
  "language_info": {
   "codemirror_mode": {
    "name": "ipython",
    "version": 3
   },
   "file_extension": ".py",
   "mimetype": "text/x-python",
   "name": "python",
   "nbconvert_exporter": "python",
   "pygments_lexer": "ipython3",
   "version": "3.9.13"
  }
 },
 "nbformat": 4,
 "nbformat_minor": 5
}
