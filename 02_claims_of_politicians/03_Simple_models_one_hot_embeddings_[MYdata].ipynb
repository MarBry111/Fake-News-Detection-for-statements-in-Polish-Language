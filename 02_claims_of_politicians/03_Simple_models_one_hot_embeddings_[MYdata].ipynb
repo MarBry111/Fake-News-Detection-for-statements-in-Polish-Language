{
 "cells": [
  {
   "cell_type": "code",
   "execution_count": 104,
   "id": "af259dfd",
   "metadata": {},
   "outputs": [
    {
     "name": "stdout",
     "output_type": "stream",
     "text": [
      "INFO: Pandarallel will run on 7 workers.\n",
      "INFO: Pandarallel will use Memory file system to transfer data between the main process and workers.\n"
     ]
    }
   ],
   "source": [
    "import pandas as pd\n",
    "import numpy as np\n",
    "import spacy\n",
    "\n",
    "import gensim\n",
    "from gensim.models.doc2vec import Doc2Vec, TaggedDocument\n",
    "from gensim.test.test_doc2vec import ConcatenatedDoc2Vec\n",
    "\n",
    "# import morfeusz2\n",
    "\n",
    "import matplotlib.pyplot as plt\n",
    "import seaborn as sns\n",
    "\n",
    "#from sentence_transformers import SentenceTransformer\n",
    "import umap\n",
    "import hdbscan\n",
    "\n",
    "import numpy as np\n",
    "from sklearn.feature_extraction.text import CountVectorizer\n",
    "\n",
    "from sklearn.model_selection import train_test_split\n",
    "from sklearn.model_selection import GridSearchCV, RandomizedSearchCV\n",
    "from sklearn import utils\n",
    "from sklearn.feature_extraction.text import TfidfTransformer\n",
    "\n",
    "from sklearn.linear_model import LogisticRegression\n",
    "\n",
    "import xgboost as xgb\n",
    "from xgboost import XGBClassifier\n",
    "from sklearn.metrics import accuracy_score, f1_score, roc_auc_score, confusion_matrix, roc_curve, classification_report\n",
    "\n",
    "import re\n",
    "\n",
    "from wordcloud import WordCloud\n",
    "import shap\n",
    "\n",
    "from nltk import ngrams\n",
    "import nltk\n",
    "\n",
    "import scipy\n",
    "from sklearn.model_selection import cross_validate\n",
    "\n",
    "from utils import *\n",
    "\n",
    "from tqdm import tqdm\n",
    "tqdm.pandas()\n",
    "from pandarallel import pandarallel\n",
    "pandarallel.initialize(nb_workers=7,progress_bar=True)\n",
    "\n",
    "from parallelbar import progress_map\n",
    "\n",
    "\n",
    "from gensim.models import LdaModel, CoherenceModel\n",
    "from gensim import corpora"
   ]
  },
  {
   "cell_type": "markdown",
   "id": "a66e19bd",
   "metadata": {},
   "source": [
    "## Load data"
   ]
  },
  {
   "cell_type": "code",
   "execution_count": 105,
   "id": "05b7570f",
   "metadata": {},
   "outputs": [],
   "source": [
    "df = pd.read_csv('../datasets/ready2use/fake_news_features_combined.csv', sep=';')"
   ]
  },
  {
   "cell_type": "code",
   "execution_count": 106,
   "id": "1a395890",
   "metadata": {},
   "outputs": [],
   "source": [
    "df = df[ df['assestment'] != 'brak' ]"
   ]
  },
  {
   "cell_type": "code",
   "execution_count": 107,
   "id": "0ee7af34",
   "metadata": {},
   "outputs": [
    {
     "data": {
      "text/plain": [
       "Prawda               2831\n",
       "falsz                1308\n",
       "Fałsz                1136\n",
       "zbity_zegar           707\n",
       "Manipulacja           705\n",
       "raczej_falsz          288\n",
       "polprawda             254\n",
       "Nieweryfikowalne      236\n",
       "prawda                179\n",
       "blisko_prawdy          93\n",
       "Częściowy fałsz       9\n",
       "Name: assestment, dtype: int64"
      ]
     },
     "execution_count": 107,
     "metadata": {},
     "output_type": "execute_result"
    }
   ],
   "source": [
    "df['assestment'].value_counts()"
   ]
  },
  {
   "cell_type": "code",
   "execution_count": 108,
   "id": "0fc5bd7e",
   "metadata": {},
   "outputs": [
    {
     "data": {
      "text/plain": [
       "Fałsz               3439\n",
       "Prawda              3103\n",
       "Manipulacja          968\n",
       "Nieweryfikowalne     236\n",
       "Name: assestment, dtype: int64"
      ]
     },
     "execution_count": 108,
     "metadata": {},
     "output_type": "execute_result"
    }
   ],
   "source": [
    "df.loc[:, 'assestment'] = df['assestment'].replace({\n",
    "    'falsz' : 'Fałsz',\n",
    "    'zbity_zegar' : 'Fałsz',\n",
    "    'raczej_falsz' : 'Fałsz',\n",
    "    'prawda' : 'Prawda',\n",
    "    'blisko_prawdy' : 'Prawda',\n",
    "    'polprawda' : 'Manipulacja',\n",
    "    'Częściowy fałsz' : 'Manipulacja'\n",
    "})\n",
    "\n",
    "df['assestment'].value_counts()"
   ]
  },
  {
   "cell_type": "code",
   "execution_count": 109,
   "id": "64ac0ee4",
   "metadata": {},
   "outputs": [],
   "source": [
    "df = df[ df['assestment'] != 'Nieweryfikowalne' ]\n",
    "df = df[ df['assestment'] != 'Manipulacja' ]"
   ]
  },
  {
   "cell_type": "code",
   "execution_count": 110,
   "id": "3b188916",
   "metadata": {},
   "outputs": [],
   "source": [
    "df['assestment'] = df['assestment'].replace({\n",
    "    'Fałsz' : 0,\n",
    "#     'Manipulacja' : 1,\n",
    "    'Prawda' : 1\n",
    "}).astype(int)"
   ]
  },
  {
   "cell_type": "code",
   "execution_count": 112,
   "id": "dde530ff",
   "metadata": {},
   "outputs": [],
   "source": [
    "y_train = df.copy()['assestment']#.loc[id_train,:].copy()['assestment']"
   ]
  },
  {
   "cell_type": "markdown",
   "id": "99fb8a73",
   "metadata": {},
   "source": [
    "## Create POS ngrams embeddings"
   ]
  },
  {
   "cell_type": "code",
   "execution_count": 113,
   "id": "cbd3b82d",
   "metadata": {},
   "outputs": [],
   "source": [
    "words =  sum(df['TEXT_POS'].str.split(' ').values.tolist(), [])"
   ]
  },
  {
   "cell_type": "code",
   "execution_count": 114,
   "id": "9313182e",
   "metadata": {},
   "outputs": [],
   "source": [
    "n1 = (pd.Series(nltk.ngrams(words, 1)).value_counts()) \n",
    "n2 = (pd.Series(nltk.ngrams(words, 2)).value_counts()) \n",
    "n3 = (pd.Series(nltk.ngrams(words, 3)).value_counts()) "
   ]
  },
  {
   "cell_type": "code",
   "execution_count": 115,
   "id": "5093564e",
   "metadata": {},
   "outputs": [],
   "source": [
    "n1 = n1[n1>5]\n",
    "n2 = n2[n2>5]\n",
    "n3 = n3[n3>5]"
   ]
  },
  {
   "cell_type": "code",
   "execution_count": 116,
   "id": "487ccecd",
   "metadata": {},
   "outputs": [
    {
     "name": "stdout",
     "output_type": "stream",
     "text": [
      "(18,) (260,) (1955,)\n"
     ]
    }
   ],
   "source": [
    "print(\n",
    "    n1.shape,\n",
    "    n2.shape,\n",
    "    n3.shape\n",
    ")"
   ]
  },
  {
   "cell_type": "code",
   "execution_count": 117,
   "id": "39e80c97",
   "metadata": {},
   "outputs": [],
   "source": [
    "X_train_df = df.copy()"
   ]
  },
  {
   "cell_type": "code",
   "execution_count": 118,
   "id": "40ef0850",
   "metadata": {},
   "outputs": [
    {
     "name": "stderr",
     "output_type": "stream",
     "text": [
      " 72%|████████████████████████████▏          | 1614/2233 [01:48<00:35, 17.42it/s]An input array is constant; the correlation coefficient is not defined.\n",
      "100%|███████████████████████████████████████| 2233/2233 [02:33<00:00, 14.50it/s]\n"
     ]
    }
   ],
   "source": [
    "pos = {}\n",
    "y = y_train.values\n",
    "\n",
    "for n in tqdm(n1.index.tolist() + n2.index.tolist() + n3.index.tolist()):\n",
    "    x = X_train_df['TEXT_POS'].str.count(' '.join(n)) / X_train_df['TEXT_POS'].str.split(' ').str.len()\n",
    "    \n",
    "    r = scipy.stats.pearsonr(x.values, y)[0]\n",
    "    \n",
    "    if r > 0.05:\n",
    "        pos[' '.join(n)] = x\n",
    "        pos[' '.join(n)].name = ' '.join(n)"
   ]
  },
  {
   "cell_type": "code",
   "execution_count": 119,
   "id": "d309c2ef",
   "metadata": {},
   "outputs": [],
   "source": [
    "X_train_df = pd.concat( [X_train_df] + list( pos.values() ), axis=1 )"
   ]
  },
  {
   "cell_type": "code",
   "execution_count": 120,
   "id": "11276ad7",
   "metadata": {},
   "outputs": [
    {
     "data": {
      "text/plain": [
       "(6542, 65)"
      ]
     },
     "execution_count": 120,
     "metadata": {},
     "output_type": "execute_result"
    }
   ],
   "source": [
    "X_train_df.shape"
   ]
  },
  {
   "cell_type": "code",
   "execution_count": 121,
   "id": "7abf4595",
   "metadata": {},
   "outputs": [
    {
     "data": {
      "text/plain": [
       "dict_keys(['ADP', 'PROPN', 'X', 'NUM', 'SYM', 'X PUNCT', 'PROPN VERB', 'NUM X', 'NUM NOUN', 'NUM SYM', 'ADP NUM', 'PART NUM', 'PUNCT NUM', 'VERB NUM', 'NOUN NUM', 'ADJ X', 'SYM PUNCT', 'SYM NOUN', 'NUM PROPN', 'ADV NUM', 'SYM PROPN', 'X NUM', 'NUM X PUNCT', 'NUM NOUN PUNCT', 'ADJ X PUNCT', 'ADP PROPN VERB', 'PART NUM X', 'ADP NUM NOUN', 'X PUNCT ADP', 'PUNCT NUM X', 'NUM SYM PUNCT', 'VERB NUM X', 'NOUN ADP NUM', 'NUM X NOUN', 'PART NUM NOUN', 'NUM SYM NOUN', 'NOUN PUNCT NUM', 'VERB PART NUM', 'ADP NOUN NUM', 'PUNCT NUM SYM', 'NOUN VERB NUM', 'PROPN PROPN ADP', 'NUM SYM PROPN', 'ADP NUM SYM', 'VERB NUM SYM', 'CCONJ NUM X'])"
      ]
     },
     "execution_count": 121,
     "metadata": {},
     "output_type": "execute_result"
    }
   ],
   "source": [
    "pos.keys()"
   ]
  },
  {
   "cell_type": "code",
   "execution_count": 122,
   "id": "37b2a2a3",
   "metadata": {},
   "outputs": [],
   "source": [
    "col_use = (['sentiment_all', 'sentiment_avg', 'uniq_words', 'uniq_lemm', 'err', 'net', \n",
    "           'ADJ', 'ADV', 'NOUN', \n",
    "           'words_start_upper', 'words_full_upper', 'exclamation_marks', 'question_marks', 'upper_letters', 'chars'] \n",
    "        +\n",
    "           ['ADP', 'PROPN', 'X', 'NUM', 'SYM', 'X PUNCT', 'PROPN VERB', 'NUM X', 'NUM NOUN', 'NUM SYM', 'ADP NUM', 'PART NUM', 'PUNCT NUM', 'VERB NUM', 'NOUN NUM', 'ADJ X', 'SYM PUNCT', 'SYM NOUN', 'NUM PROPN', 'ADV NUM', 'SYM PROPN', 'X NUM', 'NUM X PUNCT', 'NUM NOUN PUNCT', 'ADJ X PUNCT', 'ADP PROPN VERB', 'PART NUM X', 'ADP NUM NOUN', 'X PUNCT ADP', 'PUNCT NUM X', 'NUM SYM PUNCT', 'VERB NUM X', 'NOUN ADP NUM', 'NUM X NOUN', 'PART NUM NOUN', 'NUM SYM NOUN', 'NOUN PUNCT NUM', 'VERB PART NUM', 'ADP NOUN NUM', 'PUNCT NUM SYM', 'NOUN VERB NUM', 'PROPN PROPN ADP', 'NUM SYM PROPN', 'ADP NUM SYM', 'VERB NUM SYM', 'CCONJ NUM X'])"
   ]
  },
  {
   "cell_type": "code",
   "execution_count": 123,
   "id": "1e95826a",
   "metadata": {},
   "outputs": [
    {
     "name": "stderr",
     "output_type": "stream",
     "text": [
      "100%|███████████████████████████████████████████| 46/46 [00:03<00:00, 11.91it/s]\n"
     ]
    }
   ],
   "source": [
    "X_test_df = df.copy()\n",
    "\n",
    "pos_test = {}\n",
    "\n",
    "for n in tqdm(list(pos.keys())):\n",
    "    x = X_test_df['TEXT_POS'].str.count(n) / X_test_df['TEXT_POS'].str.split(' ').str.len()\n",
    "    \n",
    "    pos_test[n] = x\n",
    "    pos_test[n].name = n\n",
    "\n",
    "X_test_df = pd.concat( [X_test_df] + list( pos_test.values() ), axis=1 )"
   ]
  },
  {
   "cell_type": "code",
   "execution_count": 170,
   "id": "166150a7",
   "metadata": {},
   "outputs": [
    {
     "data": {
      "text/plain": [
       "(6542, 65)"
      ]
     },
     "execution_count": 170,
     "metadata": {},
     "output_type": "execute_result"
    }
   ],
   "source": [
    "X_test_df.shape"
   ]
  },
  {
   "cell_type": "markdown",
   "id": "d7418153",
   "metadata": {},
   "source": [
    "## Undersampling data"
   ]
  },
  {
   "cell_type": "code",
   "execution_count": 124,
   "id": "455d6b70",
   "metadata": {},
   "outputs": [
    {
     "data": {
      "application/vnd.jupyter.widget-view+json": {
       "model_id": "3c9561f0928545ee9e40f0e0f2c6ebf4",
       "version_major": 2,
       "version_minor": 0
      },
      "text/plain": [
       "Core 1:   0%|          | 0/935 [00:00<?, ?it/s]"
      ]
     },
     "metadata": {},
     "output_type": "display_data"
    },
    {
     "data": {
      "application/vnd.jupyter.widget-view+json": {
       "model_id": "0cacdf0ac13e479793d0c6437989eac8",
       "version_major": 2,
       "version_minor": 0
      },
      "text/plain": [
       "Core 2:   0%|          | 0/935 [00:00<?, ?it/s]"
      ]
     },
     "metadata": {},
     "output_type": "display_data"
    },
    {
     "data": {
      "application/vnd.jupyter.widget-view+json": {
       "model_id": "8355a1a9fe4343489361ca1a5d482b4e",
       "version_major": 2,
       "version_minor": 0
      },
      "text/plain": [
       "Core 3:   0%|          | 0/935 [00:00<?, ?it/s]"
      ]
     },
     "metadata": {},
     "output_type": "display_data"
    },
    {
     "data": {
      "application/vnd.jupyter.widget-view+json": {
       "model_id": "35114e7d62c2446980707027ae8bf785",
       "version_major": 2,
       "version_minor": 0
      },
      "text/plain": [
       "Core 4:   0%|          | 0/935 [00:00<?, ?it/s]"
      ]
     },
     "metadata": {},
     "output_type": "display_data"
    },
    {
     "data": {
      "application/vnd.jupyter.widget-view+json": {
       "model_id": "3b9bdf26810347c48744f4421e6772ce",
       "version_major": 2,
       "version_minor": 0
      },
      "text/plain": [
       "Core 5:   0%|          | 0/935 [00:00<?, ?it/s]"
      ]
     },
     "metadata": {},
     "output_type": "display_data"
    },
    {
     "data": {
      "application/vnd.jupyter.widget-view+json": {
       "model_id": "1546bbdf0bb84f54bb25656b008bd535",
       "version_major": 2,
       "version_minor": 0
      },
      "text/plain": [
       "Core 6:   0%|          | 0/935 [00:00<?, ?it/s]"
      ]
     },
     "metadata": {},
     "output_type": "display_data"
    },
    {
     "data": {
      "application/vnd.jupyter.widget-view+json": {
       "model_id": "c70b4c93dc924d8b91df1d0f3c3f9f43",
       "version_major": 2,
       "version_minor": 0
      },
      "text/plain": [
       "Core 7:   0%|          | 0/935 [00:00<?, ?it/s]"
      ]
     },
     "metadata": {},
     "output_type": "display_data"
    }
   ],
   "source": [
    "tasks = X_train_df['text_clean'].values.tolist()\n",
    "result = progress_map(tokenize, tasks, n_cpu=7, chunk_size=1, core_progress=True)\n",
    "\n",
    "X_train_df['words'] = result"
   ]
  },
  {
   "cell_type": "code",
   "execution_count": 130,
   "id": "fd951c34",
   "metadata": {},
   "outputs": [],
   "source": [
    "X_train_df = X_train_df[X_train_df['words'].apply(len)>0]"
   ]
  },
  {
   "cell_type": "code",
   "execution_count": 131,
   "id": "5fce3277",
   "metadata": {},
   "outputs": [],
   "source": [
    "y_train = y_train[y_train.index.isin(X_train_df.index)]"
   ]
  },
  {
   "cell_type": "code",
   "execution_count": 132,
   "id": "e51dffe5",
   "metadata": {},
   "outputs": [],
   "source": [
    "logisticRegr = LogisticRegression(max_iter=1000)\n",
    "\n",
    "X_train = X_train_df[col_use].sort_index().values\n",
    "\n",
    "# undersampling\n",
    "\n",
    "n_lower = y_train.value_counts().min()\n",
    "\n",
    "# np.random.seed(111)\n",
    "# index_0 = np.random.choice(y_train[y_train==0].index, n_lower, replace=False)\n",
    "# index_1 = np.random.choice(y_train[y_train==1].index, n_lower, replace=False)\n",
    "\n",
    "y_train_b = y_train.sort_index()\n",
    "X_train_b = X_train_df[col_use+['words']].sort_index().reset_index()#.values"
   ]
  },
  {
   "cell_type": "markdown",
   "id": "f12765d6",
   "metadata": {},
   "source": [
    "## Analysis words frequencies"
   ]
  },
  {
   "cell_type": "code",
   "execution_count": 133,
   "id": "fc24b518",
   "metadata": {},
   "outputs": [],
   "source": [
    "df_one = X_train_b.copy()\n",
    "\n",
    "# df_one = df_one[['tokens']].reset_index().explode('tokens')\n",
    "df_one = df_one[['words']].reset_index().explode('words')\n",
    "df_one['n'] = 1"
   ]
  },
  {
   "cell_type": "code",
   "execution_count": 134,
   "id": "fda9a811",
   "metadata": {},
   "outputs": [],
   "source": [
    "df_one['tokens'] = df_one['words'].apply( lambda x: re.sub(r\"[`'-.’0-9]\", \"\", x) )"
   ]
  },
  {
   "cell_type": "code",
   "execution_count": 135,
   "id": "484b9445",
   "metadata": {},
   "outputs": [],
   "source": [
    "# df_one_trn = df_one.loc[id_train,:].copy()\n",
    "# df_one_tst = df_one.loc[id_test,:].copy()"
   ]
  },
  {
   "cell_type": "code",
   "execution_count": 136,
   "id": "110e9dc6",
   "metadata": {},
   "outputs": [
    {
     "data": {
      "image/png": "[encoded data removed]",
      "text/plain": [
       "<Figure size 432x576 with 1 Axes>"
      ]
     },
     "metadata": {
      "needs_background": "light"
     },
     "output_type": "display_data"
    }
   ],
   "source": [
    "df_one = df_one[df_one['tokens'].str.len() > 1]\n",
    "\n",
    "f, ax = plt.subplots(figsize=(6,8));\n",
    "df_one.groupby('tokens').agg(n=('n','sum')).sort_values('n').tail(30).plot(kind='barh', ax=ax)\n",
    "plt.title('Trainig set')\n",
    "plt.show()"
   ]
  },
  {
   "cell_type": "markdown",
   "id": "48494d14",
   "metadata": {},
   "source": [
    "### Filter out extra stop words"
   ]
  },
  {
   "cell_type": "code",
   "execution_count": 137,
   "id": "3ad4dc70",
   "metadata": {},
   "outputs": [],
   "source": [
    "extra_stop_words = set(['polska', 'rok', 'polski', 'europejski', 'milion'] \n",
    "                       + \n",
    "                       df_one.groupby('tokens').agg(n=('n','sum')).query('n==1').index.values.tolist())"
   ]
  },
  {
   "cell_type": "code",
   "execution_count": 138,
   "id": "9380cfc1",
   "metadata": {},
   "outputs": [
    {
     "data": {
      "application/vnd.jupyter.widget-view+json": {
       "model_id": "293708bdceb0423fa5f4d7a0505a25b0",
       "version_major": 2,
       "version_minor": 0
      },
      "text/plain": [
       "Core 1:   0%|          | 0/935 [00:00<?, ?it/s]"
      ]
     },
     "metadata": {},
     "output_type": "display_data"
    },
    {
     "data": {
      "application/vnd.jupyter.widget-view+json": {
       "model_id": "c71da05e5c02499fa181fc167e24b142",
       "version_major": 2,
       "version_minor": 0
      },
      "text/plain": [
       "Core 2:   0%|          | 0/935 [00:00<?, ?it/s]"
      ]
     },
     "metadata": {},
     "output_type": "display_data"
    },
    {
     "data": {
      "application/vnd.jupyter.widget-view+json": {
       "model_id": "b5296da1bb624c32a5ccfb0cf402c91b",
       "version_major": 2,
       "version_minor": 0
      },
      "text/plain": [
       "Core 3:   0%|          | 0/935 [00:00<?, ?it/s]"
      ]
     },
     "metadata": {},
     "output_type": "display_data"
    },
    {
     "data": {
      "application/vnd.jupyter.widget-view+json": {
       "model_id": "4bc0dd339a1743e2a134d4565b7dee6b",
       "version_major": 2,
       "version_minor": 0
      },
      "text/plain": [
       "Core 4:   0%|          | 0/935 [00:00<?, ?it/s]"
      ]
     },
     "metadata": {},
     "output_type": "display_data"
    },
    {
     "data": {
      "application/vnd.jupyter.widget-view+json": {
       "model_id": "e314a6362c904feca477f5984e67bc34",
       "version_major": 2,
       "version_minor": 0
      },
      "text/plain": [
       "Core 5:   0%|          | 0/935 [00:00<?, ?it/s]"
      ]
     },
     "metadata": {},
     "output_type": "display_data"
    },
    {
     "data": {
      "application/vnd.jupyter.widget-view+json": {
       "model_id": "b7374295832d4624a3670a834aa0979a",
       "version_major": 2,
       "version_minor": 0
      },
      "text/plain": [
       "Core 6:   0%|          | 0/935 [00:00<?, ?it/s]"
      ]
     },
     "metadata": {},
     "output_type": "display_data"
    },
    {
     "data": {
      "application/vnd.jupyter.widget-view+json": {
       "model_id": "a863850acd2b4d4b8083582954122282",
       "version_major": 2,
       "version_minor": 0
      },
      "text/plain": [
       "Core 7:   0%|          | 0/935 [00:00<?, ?it/s]"
      ]
     },
     "metadata": {},
     "output_type": "display_data"
    }
   ],
   "source": [
    "def filter_stop_words(words, stop_words = extra_stop_words):\n",
    "    out = [x for x in words if x not in stop_words]\n",
    "    return out\n",
    "\n",
    "tasks = X_train_b['words'].values.tolist()\n",
    "result = progress_map(filter_stop_words, tasks, n_cpu=7, chunk_size=1, core_progress=True)\n",
    "\n",
    "X_train_b['words_clean'] = result"
   ]
  },
  {
   "cell_type": "markdown",
   "id": "73692638",
   "metadata": {},
   "source": [
    "### LDA optimization"
   ]
  },
  {
   "cell_type": "markdown",
   "id": "63bb23e8",
   "metadata": {},
   "source": [
    "https://stackoverflow.com/questions/32313062/what-is-the-best-way-to-obtain-the-optimal-number-of-topics-for-a-lda-model-usin"
   ]
  },
  {
   "cell_type": "code",
   "execution_count": 139,
   "id": "a78d6e2a",
   "metadata": {},
   "outputs": [
    {
     "name": "stderr",
     "output_type": "stream",
     "text": [
      "100%|███████████████████████████████████████████| 16/16 [04:01<00:00, 15.12s/it]\n"
     ]
    }
   ],
   "source": [
    "dictionary = gensim.corpora.Dictionary(X_train_b['words_clean'].values)\n",
    "bow_corpus = [dictionary.doc2bow(doc) for doc in X_train_b['words_clean'].values]\n",
    "\n",
    "# Considering 1-15 topics, as the last is cut off\n",
    "num_keywords = 15\n",
    "num_topics = list(range(1,num_keywords+2))\n",
    "\n",
    "LDA_models = {}\n",
    "LDA_topics = {}\n",
    "for i in tqdm(num_topics):\n",
    "    LDA_models[i] = gensim.models.LdaMulticore(corpus=bow_corpus,\n",
    "                                             id2word=dictionary,\n",
    "                                             num_topics=i,\n",
    "#                                              update_every=1,\n",
    "#                                              chunksize=len(bow_corpus),\n",
    "                                             passes=10,\n",
    "#                                              alpha='auto',\n",
    "                                             random_state=111,\n",
    "                                             workers=7)\n",
    "    \n",
    "    \n",
    "\n",
    "    shown_topics = LDA_models[i].show_topics(num_topics=i, \n",
    "                                             num_words=num_keywords,\n",
    "                                             formatted=False)\n",
    "    \n",
    "    LDA_topics[i] = [[word[0] for word in topic[1]] for topic in shown_topics]"
   ]
  },
  {
   "cell_type": "code",
   "execution_count": 140,
   "id": "a3ab0150",
   "metadata": {},
   "outputs": [],
   "source": [
    "def jaccard_similarity(topic_1, topic_2):\n",
    "    \"\"\"\n",
    "    Derives the Jaccard similarity of two topics\n",
    "\n",
    "    Jaccard similarity:\n",
    "    - A statistic used for comparing the similarity and diversity of sample sets\n",
    "    - J(A,B) = (A ∩ B)/(A ∪ B)\n",
    "    - Goal is low Jaccard scores for coverage of the diverse elements\n",
    "    \"\"\"\n",
    "    intersection = set(topic_1).intersection(set(topic_2))\n",
    "    union = set(topic_1).union(set(topic_2))\n",
    "                    \n",
    "    return float(len(intersection))/float(len(union))"
   ]
  },
  {
   "cell_type": "code",
   "execution_count": 141,
   "id": "e081d9ea",
   "metadata": {},
   "outputs": [],
   "source": [
    "LDA_stability = {}\n",
    "for i in range(0, len(num_topics)-1):\n",
    "    jaccard_sims = []\n",
    "    for t1, topic1 in enumerate(LDA_topics[num_topics[i]]): # pylint: disable=unused-variable\n",
    "        sims = []\n",
    "        for t2, topic2 in enumerate(LDA_topics[num_topics[i+1]]): # pylint: disable=unused-variable\n",
    "            sims.append(jaccard_similarity(topic1, topic2))    \n",
    "        \n",
    "        jaccard_sims.append(sims)    \n",
    "    \n",
    "    LDA_stability[num_topics[i]] = jaccard_sims\n",
    "                \n",
    "mean_stabilities = [np.array(LDA_stability[i]).mean() for i in num_topics[:-1]]"
   ]
  },
  {
   "cell_type": "code",
   "execution_count": 142,
   "id": "faf13149",
   "metadata": {},
   "outputs": [
    {
     "name": "stderr",
     "output_type": "stream",
     "text": [
      "100%|███████████████████████████████████████████| 15/15 [00:22<00:00,  1.52s/it]\n"
     ]
    }
   ],
   "source": [
    "coherences = [CoherenceModel(model=LDA_models[i], \n",
    "                             texts=X_train_b['words_clean'].values, \n",
    "                             dictionary=dictionary, \n",
    "                             coherence='c_v').get_coherence()\\\n",
    "              for i in tqdm(num_topics[:-1])]"
   ]
  },
  {
   "cell_type": "code",
   "execution_count": 143,
   "id": "2737864e",
   "metadata": {},
   "outputs": [],
   "source": [
    "coh_sta_diffs = [coherences[i] - mean_stabilities[i] for i in range(num_keywords)[:-1]] \n",
    "# limit topic numbers to the number of keywords\n",
    "coh_sta_max = max(coh_sta_diffs)\n",
    "coh_sta_max_idxs = [i for i, j in enumerate(coh_sta_diffs) if j == coh_sta_max]\n",
    "ideal_topic_num_index = coh_sta_max_idxs[0] \n",
    "# choose less topics in case there's more than one max\n",
    "ideal_topic_num = num_topics[ideal_topic_num_index]"
   ]
  },
  {
   "cell_type": "code",
   "execution_count": 144,
   "id": "78822a61",
   "metadata": {},
   "outputs": [
    {
     "data": {
      "image/png": "[encoded data removed]",
      "text/plain": [
       "<Figure size 1440x720 with 1 Axes>"
      ]
     },
     "metadata": {
      "needs_background": "light"
     },
     "output_type": "display_data"
    }
   ],
   "source": [
    "plt.figure(figsize=(20,10))\n",
    "ax = sns.lineplot(x=num_topics[:-1], y=mean_stabilities, label='Average Topic Overlap')\n",
    "ax = sns.lineplot(x=num_topics[:-1], y=coherences, label='Topic Coherence')\n",
    "\n",
    "ax.axvline(x=ideal_topic_num, label='Ideal Number of Topics', color='black')\n",
    "ax.axvspan(xmin=ideal_topic_num - 1, xmax=ideal_topic_num + 1, alpha=0.5, facecolor='grey')\n",
    "\n",
    "y_max = max(max(mean_stabilities), max(coherences)) + (0.10 * max(max(mean_stabilities), max(coherences)))\n",
    "ax.set_ylim([0, y_max])\n",
    "ax.set_xlim([1, num_topics[-1]])\n",
    "                \n",
    "ax.axes.set_title('Model Metrics per Number of Topics', fontsize=25)\n",
    "ax.set_ylabel('Metric Level', fontsize=20)\n",
    "ax.set_xlabel('Number of Topics', fontsize=20)\n",
    "plt.legend(fontsize=20)\n",
    "plt.show()   "
   ]
  },
  {
   "cell_type": "markdown",
   "id": "bc1ed8cb",
   "metadata": {},
   "source": [
    "### Hierarchical Dirichlet Process "
   ]
  },
  {
   "cell_type": "code",
   "execution_count": 145,
   "id": "fc428022",
   "metadata": {},
   "outputs": [],
   "source": [
    "#TO DO"
   ]
  },
  {
   "cell_type": "markdown",
   "id": "8f4ef854",
   "metadata": {},
   "source": [
    "## Final number of topics"
   ]
  },
  {
   "cell_type": "code",
   "execution_count": 147,
   "id": "7cb709e5",
   "metadata": {},
   "outputs": [],
   "source": [
    "ideal_topic_num = 15"
   ]
  },
  {
   "cell_type": "code",
   "execution_count": 148,
   "id": "daa119ad",
   "metadata": {},
   "outputs": [
    {
     "name": "stderr",
     "output_type": "stream",
     "text": [
      "100%|█████████████████████████████████████| 6541/6541 [00:04<00:00, 1436.13it/s]\n"
     ]
    }
   ],
   "source": [
    "dictionary = gensim.corpora.Dictionary(X_train_b['words_clean'].values)\n",
    "\n",
    "bow_corpus = [dictionary.doc2bow(doc) for doc in X_train_b['words_clean'].values]\n",
    "\n",
    "\n",
    "lda_model =  gensim.models.LdaMulticore(bow_corpus, \n",
    "                                   num_topics = ideal_topic_num, \n",
    "                                   id2word = dictionary,                                    \n",
    "                                   passes = 10,\n",
    "                                   random_state=111,\n",
    "                                   workers = 7)\n",
    "\n",
    "topics = []\n",
    "\n",
    "for line in tqdm(X_train_b['words_clean'].values):\n",
    "    line_bow = dictionary.doc2bow(line)\n",
    "    doc_lda = lda_model[line_bow]\n",
    "    \n",
    "    topics.append( max(doc_lda, key=lambda x:x[1])[0] )\n",
    "\n",
    "X_train_b['topic'] = topics"
   ]
  },
  {
   "cell_type": "code",
   "execution_count": 149,
   "id": "81a9f7e8",
   "metadata": {},
   "outputs": [
    {
     "name": "stdout",
     "output_type": "stream",
     "text": [
      "0 0.011*\"polak\" + 0.010*\"podatek\" + 0.009*\"kraj\" + 0.008*\"chodzić\" + 0.008*\"unia\"\n",
      "1 0.019*\"człowiek\" + 0.011*\"dziecko\" + 0.009*\"rząd\" + 0.008*\"osoba\" + 0.007*\"tysiąc\"\n",
      "2 0.015*\"państwo\" + 0.011*\"prawo\" + 0.008*\"mówić\" + 0.008*\"procent\" + 0.007*\"komisja\"\n",
      "3 0.017*\"miejsce\" + 0.011*\"prawo\" + 0.007*\"osoba\" + 0.007*\"praca\" + 0.006*\"rząd\"\n",
      "4 0.037*\"miliard\" + 0.017*\"budżet\" + 0.013*\"euro\" + 0.009*\"państwo\" + 0.008*\"rocznie\"\n",
      "5 0.013*\"procent\" + 0.006*\"europa\" + 0.006*\"ustawa\" + 0.005*\"prezydent\" + 0.004*\"wiek\"\n",
      "6 0.025*\"trybunał\" + 0.019*\"konstytucyjny\" + 0.017*\"konstytucja\" + 0.014*\"prezydent\" + 0.013*\"sędzia\"\n",
      "7 0.010*\"kraków\" + 0.008*\"osoba\" + 0.006*\"tysiąc\" + 0.006*\"prawo\" + 0.006*\"miasto\"\n",
      "8 0.016*\"ostatni\" + 0.013*\"ciąg\" + 0.010*\"rząd\" + 0.010*\"miliard\" + 0.009*\"pierwszy\"\n",
      "9 0.010*\"państwo\" + 0.007*\"mówić\" + 0.007*\"wybory\" + 0.007*\"procent\" + 0.006*\"partia\"\n",
      "10 0.009*\"osoba\" + 0.007*\"czas\" + 0.007*\"państwo\" + 0.005*\"polak\" + 0.005*\"chodzić\"\n",
      "11 0.011*\"dziecko\" + 0.008*\"projekt\" + 0.007*\"rząd\" + 0.007*\"ustawa\" + 0.007*\"prezydent\"\n",
      "12 0.016*\"osoba\" + 0.010*\"tysiąc\" + 0.007*\"sprawa\" + 0.006*\"strona\" + 0.006*\"publiczny\"\n",
      "13 0.024*\"kraj\" + 0.009*\"pkb\" + 0.008*\"wzrost\" + 0.007*\"europa\" + 0.007*\"unia\"\n",
      "14 0.011*\"zostać\" + 0.009*\"ustawa\" + 0.006*\"rząd\" + 0.006*\"prawo\" + 0.006*\"emerytura\"\n"
     ]
    }
   ],
   "source": [
    "x=lda_model.show_topics(num_topics=ideal_topic_num, num_words=5)\n",
    "\n",
    "twords={}\n",
    "for topic,word in x:\n",
    "    print(topic, word)"
   ]
  },
  {
   "cell_type": "code",
   "execution_count": 150,
   "id": "5243c14d",
   "metadata": {},
   "outputs": [
    {
     "data": {
      "text/plain": [
       "2     561\n",
       "6     546\n",
       "13    531\n",
       "4     516\n",
       "11    498\n",
       "8     440\n",
       "1     438\n",
       "3     437\n",
       "5     410\n",
       "7     381\n",
       "14    372\n",
       "0     371\n",
       "10    355\n",
       "9     345\n",
       "12    340\n",
       "Name: topic, dtype: int64"
      ]
     },
     "execution_count": 150,
     "metadata": {},
     "output_type": "execute_result"
    }
   ],
   "source": [
    "X_train_b['topic'].value_counts()"
   ]
  },
  {
   "cell_type": "markdown",
   "id": "309b34aa",
   "metadata": {},
   "source": [
    "### Prepare CV"
   ]
  },
  {
   "cell_type": "code",
   "execution_count": 153,
   "id": "dbc5d247",
   "metadata": {},
   "outputs": [],
   "source": [
    "cv_fold = []\n",
    "\n",
    "for i in X_train_b['topic'].unique().reshape(5,-1):\n",
    "    train_cv = X_train_b.index[ ~np.isin(X_train_b[\"topic\"], i) ].values\n",
    "    test_cv = X_train_b.index[ np.isin(X_train_b[\"topic\"], i) ].values\n",
    "    \n",
    "    cv_fold.append( [train_cv, test_cv])"
   ]
  },
  {
   "cell_type": "code",
   "execution_count": 154,
   "id": "c7cfc17e",
   "metadata": {},
   "outputs": [],
   "source": [
    "X_train_v = X_train_b[col_use].values"
   ]
  },
  {
   "cell_type": "code",
   "execution_count": 158,
   "id": "9437e2b7",
   "metadata": {},
   "outputs": [
    {
     "data": {
      "text/plain": [
       "{'Accuracy': 0.621404753114134,\n",
       " 'Precision': 0.6303232068843686,\n",
       " 'Recall': 0.4879373862245438,\n",
       " 'F1 Score': 0.5490204920592857}"
      ]
     },
     "execution_count": 158,
     "metadata": {},
     "output_type": "execute_result"
    }
   ],
   "source": [
    "logisticRegr = LogisticRegression(max_iter=5000)\n",
    "\n",
    "scoring = ['accuracy', 'precision', 'recall', 'f1']\n",
    "\n",
    "results = cross_validate(estimator=logisticRegr,\n",
    "                       X=X_train_v,\n",
    "                       y=y_train_b.values,\n",
    "                       cv=cv_fold, #10,\n",
    "                       scoring=scoring,\n",
    "                       return_train_score=True)\n",
    "\n",
    "metrics = {\n",
    "    \"Accuracy\": results['test_accuracy'].mean(),\n",
    "#     \"Accuracy Std\": results['test_accuracy'].std(),\n",
    "    \"Precision\": results['test_precision'].mean(),\n",
    "#     \"Precision Std\": results['test_precision'].std(),\n",
    "    \"Recall\": results['test_recall'].mean(),\n",
    "#     \"Recall Std\": results['test_recall'].std(),\n",
    "    \"F1 Score\": results['test_f1'].mean(),\n",
    "#     \"F1 Score Std\": results['test_f1'].std()\n",
    "    }\n",
    "\n",
    "metrics"
   ]
  },
  {
   "cell_type": "code",
   "execution_count": 159,
   "id": "a4be4806",
   "metadata": {},
   "outputs": [
    {
     "data": {
      "text/plain": [
       "{'Accuracy': 0.6064960763287801,\n",
       " 'Precision': 0.6403767086006094,\n",
       " 'Recall': 0.47526518102955684,\n",
       " 'F1 Score': 0.5285288485837581}"
      ]
     },
     "execution_count": 159,
     "metadata": {},
     "output_type": "execute_result"
    }
   ],
   "source": [
    "scoring = ['accuracy', 'precision', 'recall', 'f1']\n",
    "\n",
    "results = cross_validate(estimator=logisticRegr,\n",
    "                       X=X_train_v,\n",
    "                       y=y_train_b.values,\n",
    "                       cv=5, \n",
    "                       scoring=scoring,\n",
    "                       return_train_score=True)\n",
    "\n",
    "metrics = {\n",
    "    \"Accuracy\": results['test_accuracy'].mean(),\n",
    "#     \"Accuracy Std\": results['test_accuracy'].std(),\n",
    "    \"Precision\": results['test_precision'].mean(),\n",
    "#     \"Precision Std\": results['test_precision'].std(),\n",
    "    \"Recall\": results['test_recall'].mean(),\n",
    "#     \"Recall Std\": results['test_recall'].std(),\n",
    "    \"F1 Score\": results['test_f1'].mean(),\n",
    "#     \"F1 Score Std\": results['test_f1'].std()\n",
    "    }\n",
    "\n",
    "metrics"
   ]
  },
  {
   "cell_type": "markdown",
   "id": "e188b4f0",
   "metadata": {},
   "source": [
    "## One-hot embeddings"
   ]
  },
  {
   "cell_type": "code",
   "execution_count": 161,
   "id": "1456f222",
   "metadata": {
    "scrolled": true
   },
   "outputs": [
    {
     "data": {
      "image/png": "[encoded data removed]",
      "text/plain": [
       "<Figure size 720x216 with 1 Axes>"
      ]
     },
     "metadata": {
      "needs_background": "light"
     },
     "output_type": "display_data"
    }
   ],
   "source": [
    "f, ax = plt.subplots(figsize=(10,3));\n",
    "df_one[\n",
    "    df_one['index'].isin(y_train_b[y_train_b==0].index.values)\n",
    "].groupby('tokens').agg(n=('n','sum')).sort_values('n').tail(30).plot(kind='bar', ax=ax)\n",
    "plt.xticks(rotation = 45) \n",
    "plt.title('Fake news')\n",
    "plt.show()"
   ]
  },
  {
   "cell_type": "code",
   "execution_count": 162,
   "id": "64791b21",
   "metadata": {},
   "outputs": [
    {
     "data": {
      "image/png": "[encoded data removed]",
      "text/plain": [
       "<Figure size 720x216 with 1 Axes>"
      ]
     },
     "metadata": {
      "needs_background": "light"
     },
     "output_type": "display_data"
    }
   ],
   "source": [
    "f, ax = plt.subplots(figsize=(10,3));\n",
    "df_one[\n",
    "    df_one['index'].isin(y_train_b[y_train_b==1].index.values)\n",
    "].groupby('tokens').agg(n=('n','sum')).sort_values('n').tail(30).plot(kind='bar', ax=ax)\n",
    "plt.xticks(rotation = 45) \n",
    "plt.title('Truth')\n",
    "plt.show()"
   ]
  },
  {
   "cell_type": "code",
   "execution_count": 163,
   "id": "feb75927",
   "metadata": {},
   "outputs": [
    {
     "data": {
      "text/html": [
       "<div>\n",
       "<style scoped>\n",
       "    .dataframe tbody tr th:only-of-type {\n",
       "        vertical-align: middle;\n",
       "    }\n",
       "\n",
       "    .dataframe tbody tr th {\n",
       "        vertical-align: top;\n",
       "    }\n",
       "\n",
       "    .dataframe thead th {\n",
       "        text-align: right;\n",
       "    }\n",
       "</style>\n",
       "<table border=\"1\" class=\"dataframe\">\n",
       "  <thead>\n",
       "    <tr style=\"text-align: right;\">\n",
       "      <th></th>\n",
       "      <th>index</th>\n",
       "      <th>words</th>\n",
       "      <th>n</th>\n",
       "      <th>tokens</th>\n",
       "    </tr>\n",
       "  </thead>\n",
       "  <tbody>\n",
       "    <tr>\n",
       "      <th>0</th>\n",
       "      <td>0</td>\n",
       "      <td>udzielć</td>\n",
       "      <td>1</td>\n",
       "      <td>udzielć</td>\n",
       "    </tr>\n",
       "    <tr>\n",
       "      <th>0</th>\n",
       "      <td>0</td>\n",
       "      <td>bank</td>\n",
       "      <td>1</td>\n",
       "      <td>bank</td>\n",
       "    </tr>\n",
       "    <tr>\n",
       "      <th>0</th>\n",
       "      <td>0</td>\n",
       "      <td>centralny</td>\n",
       "      <td>1</td>\n",
       "      <td>centralny</td>\n",
       "    </tr>\n",
       "    <tr>\n",
       "      <th>0</th>\n",
       "      <td>0</td>\n",
       "      <td>ukraina</td>\n",
       "      <td>1</td>\n",
       "      <td>ukraina</td>\n",
       "    </tr>\n",
       "    <tr>\n",
       "      <th>0</th>\n",
       "      <td>0</td>\n",
       "      <td>swapa</td>\n",
       "      <td>1</td>\n",
       "      <td>swapa</td>\n",
       "    </tr>\n",
       "    <tr>\n",
       "      <th>...</th>\n",
       "      <td>...</td>\n",
       "      <td>...</td>\n",
       "      <td>...</td>\n",
       "      <td>...</td>\n",
       "    </tr>\n",
       "    <tr>\n",
       "      <th>6540</th>\n",
       "      <td>6540</td>\n",
       "      <td>dziecko</td>\n",
       "      <td>1</td>\n",
       "      <td>dziecko</td>\n",
       "    </tr>\n",
       "    <tr>\n",
       "      <th>6540</th>\n",
       "      <td>6540</td>\n",
       "      <td>edukacja</td>\n",
       "      <td>1</td>\n",
       "      <td>edukacja</td>\n",
       "    </tr>\n",
       "    <tr>\n",
       "      <th>6540</th>\n",
       "      <td>6540</td>\n",
       "      <td>pierwszeństwo</td>\n",
       "      <td>1</td>\n",
       "      <td>pierwszeństwo</td>\n",
       "    </tr>\n",
       "    <tr>\n",
       "      <th>6540</th>\n",
       "      <td>6540</td>\n",
       "      <td>ukraińców</td>\n",
       "      <td>1</td>\n",
       "      <td>ukraińców</td>\n",
       "    </tr>\n",
       "    <tr>\n",
       "      <th>6540</th>\n",
       "      <td>6540</td>\n",
       "      <td>wydumać</td>\n",
       "      <td>1</td>\n",
       "      <td>wydumać</td>\n",
       "    </tr>\n",
       "  </tbody>\n",
       "</table>\n",
       "<p>81732 rows × 4 columns</p>\n",
       "</div>"
      ],
      "text/plain": [
       "      index          words  n         tokens\n",
       "0         0        udzielć  1        udzielć\n",
       "0         0           bank  1           bank\n",
       "0         0      centralny  1      centralny\n",
       "0         0        ukraina  1        ukraina\n",
       "0         0          swapa  1          swapa\n",
       "...     ...            ... ..            ...\n",
       "6540   6540        dziecko  1        dziecko\n",
       "6540   6540       edukacja  1       edukacja\n",
       "6540   6540  pierwszeństwo  1  pierwszeństwo\n",
       "6540   6540      ukraińców  1      ukraińców\n",
       "6540   6540        wydumać  1        wydumać\n",
       "\n",
       "[81732 rows x 4 columns]"
      ]
     },
     "execution_count": 163,
     "metadata": {},
     "output_type": "execute_result"
    }
   ],
   "source": [
    "df_one"
   ]
  },
  {
   "cell_type": "code",
   "execution_count": 171,
   "id": "e4fc70b8",
   "metadata": {},
   "outputs": [
    {
     "data": {
      "text/plain": [
       "(6541, 12914)"
      ]
     },
     "execution_count": 171,
     "metadata": {},
     "output_type": "execute_result"
    }
   ],
   "source": [
    "df_one_trn_p = (\n",
    "    df_one[['index','tokens','n']]\n",
    "    .drop_duplicates()\n",
    "    .pivot(index='index', columns='tokens', values='n')\n",
    "    .fillna(0)\n",
    ")\n",
    "df_one_trn_p.shape"
   ]
  },
  {
   "cell_type": "code",
   "execution_count": 172,
   "id": "92e228f7",
   "metadata": {},
   "outputs": [],
   "source": [
    "df_one_trn_p = df_one_trn_p.loc[:, ~df_one_trn_p.columns.isin( extra_stop_words )]"
   ]
  },
  {
   "cell_type": "code",
   "execution_count": 173,
   "id": "554f91d0",
   "metadata": {},
   "outputs": [
    {
     "data": {
      "text/plain": [
       "(6541, 5907)"
      ]
     },
     "execution_count": 173,
     "metadata": {},
     "output_type": "execute_result"
    }
   ],
   "source": [
    "df_one_trn_p = df_one_trn_p.loc[:, (df_one_trn_p.sum() > 1)]\n",
    "df_one_trn_p.shape"
   ]
  },
  {
   "cell_type": "code",
   "execution_count": 174,
   "id": "59bf22ce",
   "metadata": {},
   "outputs": [
    {
     "data": {
      "text/plain": [
       "(6541, 725)"
      ]
     },
     "execution_count": 174,
     "metadata": {},
     "output_type": "execute_result"
    }
   ],
   "source": [
    "df_one_trn_p_20 = df_one_trn_p.loc[:, (df_one_trn_p.sum() > 20)]\n",
    "df_one_trn_p_20.shape"
   ]
  },
  {
   "cell_type": "code",
   "execution_count": 175,
   "id": "c7204ee4",
   "metadata": {},
   "outputs": [
    {
     "data": {
      "image/png": "[encoded data removed]",
      "text/plain": [
       "<Figure size 576x576 with 1 Axes>"
      ]
     },
     "metadata": {
      "needs_background": "light"
     },
     "output_type": "display_data"
    }
   ],
   "source": [
    "wordcloud = WordCloud(background_color='white',\n",
    "                      max_words=30).generate_from_frequencies(df_one_trn_p.sum())\n",
    "\n",
    "f, ax = plt.subplots(figsize=(8,8));\n",
    "plt.imshow(wordcloud, interpolation='bilinear')\n",
    "plt.axis('off')\n",
    "plt.show()"
   ]
  },
  {
   "cell_type": "code",
   "execution_count": 176,
   "id": "bf88b371",
   "metadata": {},
   "outputs": [],
   "source": [
    "def get_tfidf(df):\n",
    "    tf = df.divide(df.sum(1).values, axis=0)\n",
    "    idf = np.log10( (df.shape[0]+1)/(df.sum()+1) )\n",
    "    tfidf = tf*idf\n",
    "    gtf = np.log10( df.sum()+1 )\n",
    "    tfidf_kindof = gtf * idf\n",
    "    \n",
    "    return tfidf, tfidf_kindof.sort_values(ascending=False)"
   ]
  },
  {
   "cell_type": "code",
   "execution_count": 181,
   "id": "49a8add1",
   "metadata": {},
   "outputs": [],
   "source": [
    "# tfidf_fn, tfidf_ko_fk =  get_tfidf(df_one_trn_p[y_train.sort_index()==0])\n",
    "# tfidf_t, tfidf_ko_t =  get_tfidf(df_one_trn_p[y_train.sort_index()==1])"
   ]
  },
  {
   "cell_type": "code",
   "execution_count": 182,
   "id": "d0c5650e",
   "metadata": {},
   "outputs": [],
   "source": [
    "# wordcloud = WordCloud(background_color='white',\n",
    "#                       max_words=50).generate_from_frequencies(tfidf_ko_t)\n",
    "\n",
    "# f, ax = plt.subplots(figsize=(10,6));\n",
    "# plt.imshow(wordcloud, interpolation='bilinear')\n",
    "# plt.title('Truth')\n",
    "# plt.axis('off')\n",
    "# plt.show()"
   ]
  },
  {
   "cell_type": "code",
   "execution_count": 183,
   "id": "7aa3dcb6",
   "metadata": {},
   "outputs": [],
   "source": [
    "# wordcloud = WordCloud(background_color='white',\n",
    "#                       max_words=50).generate_from_frequencies(tfidf_ko_fk)\n",
    "\n",
    "# f, ax = plt.subplots(figsize=(10,6));\n",
    "# plt.imshow(wordcloud, interpolation='bilinear')\n",
    "# plt.title('Fake news')\n",
    "# plt.axis('off')\n",
    "# plt.show()"
   ]
  },
  {
   "cell_type": "code",
   "execution_count": 184,
   "id": "ce8dfc3b",
   "metadata": {},
   "outputs": [
    {
     "data": {
      "text/html": [
       "<style>#sk-container-id-1 {color: black;background-color: white;}#sk-container-id-1 pre{padding: 0;}#sk-container-id-1 div.sk-toggleable {background-color: white;}#sk-container-id-1 label.sk-toggleable__label {cursor: pointer;display: block;width: 100%;margin-bottom: 0;padding: 0.3em;box-sizing: border-box;text-align: center;}#sk-container-id-1 label.sk-toggleable__label-arrow:before {content: \"▸\";float: left;margin-right: 0.25em;color: #696969;}#sk-container-id-1 label.sk-toggleable__label-arrow:hover:before {color: black;}#sk-container-id-1 div.sk-estimator:hover label.sk-toggleable__label-arrow:before {color: black;}#sk-container-id-1 div.sk-toggleable__content {max-height: 0;max-width: 0;overflow: hidden;text-align: left;background-color: #f0f8ff;}#sk-container-id-1 div.sk-toggleable__content pre {margin: 0.2em;color: black;border-radius: 0.25em;background-color: #f0f8ff;}#sk-container-id-1 input.sk-toggleable__control:checked~div.sk-toggleable__content {max-height: 200px;max-width: 100%;overflow: auto;}#sk-container-id-1 input.sk-toggleable__control:checked~label.sk-toggleable__label-arrow:before {content: \"▾\";}#sk-container-id-1 div.sk-estimator input.sk-toggleable__control:checked~label.sk-toggleable__label {background-color: #d4ebff;}#sk-container-id-1 div.sk-label input.sk-toggleable__control:checked~label.sk-toggleable__label {background-color: #d4ebff;}#sk-container-id-1 input.sk-hidden--visually {border: 0;clip: rect(1px 1px 1px 1px);clip: rect(1px, 1px, 1px, 1px);height: 1px;margin: -1px;overflow: hidden;padding: 0;position: absolute;width: 1px;}#sk-container-id-1 div.sk-estimator {font-family: monospace;background-color: #f0f8ff;border: 1px dotted black;border-radius: 0.25em;box-sizing: border-box;margin-bottom: 0.5em;}#sk-container-id-1 div.sk-estimator:hover {background-color: #d4ebff;}#sk-container-id-1 div.sk-parallel-item::after {content: \"\";width: 100%;border-bottom: 1px solid gray;flex-grow: 1;}#sk-container-id-1 div.sk-label:hover label.sk-toggleable__label {background-color: #d4ebff;}#sk-container-id-1 div.sk-serial::before {content: \"\";position: absolute;border-left: 1px solid gray;box-sizing: border-box;top: 0;bottom: 0;left: 50%;z-index: 0;}#sk-container-id-1 div.sk-serial {display: flex;flex-direction: column;align-items: center;background-color: white;padding-right: 0.2em;padding-left: 0.2em;position: relative;}#sk-container-id-1 div.sk-item {position: relative;z-index: 1;}#sk-container-id-1 div.sk-parallel {display: flex;align-items: stretch;justify-content: center;background-color: white;position: relative;}#sk-container-id-1 div.sk-item::before, #sk-container-id-1 div.sk-parallel-item::before {content: \"\";position: absolute;border-left: 1px solid gray;box-sizing: border-box;top: 0;bottom: 0;left: 50%;z-index: -1;}#sk-container-id-1 div.sk-parallel-item {display: flex;flex-direction: column;z-index: 1;position: relative;background-color: white;}#sk-container-id-1 div.sk-parallel-item:first-child::after {align-self: flex-end;width: 50%;}#sk-container-id-1 div.sk-parallel-item:last-child::after {align-self: flex-start;width: 50%;}#sk-container-id-1 div.sk-parallel-item:only-child::after {width: 0;}#sk-container-id-1 div.sk-dashed-wrapped {border: 1px dashed gray;margin: 0 0.4em 0.5em 0.4em;box-sizing: border-box;padding-bottom: 0.4em;background-color: white;}#sk-container-id-1 div.sk-label label {font-family: monospace;font-weight: bold;display: inline-block;line-height: 1.2em;}#sk-container-id-1 div.sk-label-container {text-align: center;}#sk-container-id-1 div.sk-container {/* jupyter's `normalize.less` sets `[hidden] { display: none; }` but bootstrap.min.css set `[hidden] { display: none !important; }` so we also need the `!important` here to be able to override the default hidden behavior on the sphinx rendered scikit-learn.org. See: https://github.com/scikit-learn/scikit-learn/issues/21755 */display: inline-block !important;position: relative;}#sk-container-id-1 div.sk-text-repr-fallback {display: none;}</style><div id=\"sk-container-id-1\" class=\"sk-top-container\"><div class=\"sk-text-repr-fallback\"><pre>LogisticRegression()</pre><b>In a Jupyter environment, please rerun this cell to show the HTML representation or trust the notebook. <br />On GitHub, the HTML representation is unable to render, please try loading this page with nbviewer.org.</b></div><div class=\"sk-container\" hidden><div class=\"sk-item\"><div class=\"sk-estimator sk-toggleable\"><input class=\"sk-toggleable__control sk-hidden--visually\" id=\"sk-estimator-id-1\" type=\"checkbox\" checked><label for=\"sk-estimator-id-1\" class=\"sk-toggleable__label sk-toggleable__label-arrow\">LogisticRegression</label><div class=\"sk-toggleable__content\"><pre>LogisticRegression()</pre></div></div></div></div></div>"
      ],
      "text/plain": [
       "LogisticRegression()"
      ]
     },
     "execution_count": 184,
     "metadata": {},
     "output_type": "execute_result"
    }
   ],
   "source": [
    "logisticRegr = LogisticRegression()\n",
    "\n",
    "X_train = df_one_trn_p.sort_index().values\n",
    "\n",
    "logisticRegr.fit(X_train, y_train_b.sort_index().values)"
   ]
  },
  {
   "cell_type": "code",
   "execution_count": 185,
   "id": "cff15d78",
   "metadata": {},
   "outputs": [
    {
     "data": {
      "text/plain": [
       "{'Accuracy': 0.6246835955351993,\n",
       " 'Precision': 0.6047291366173395,\n",
       " 'Recall': 0.6030446385156433,\n",
       " 'F1 Score': 0.6037087752521371}"
      ]
     },
     "execution_count": 185,
     "metadata": {},
     "output_type": "execute_result"
    }
   ],
   "source": [
    "# train_predictions = logisticRegr.predict(X_train)\n",
    "\n",
    "scoring = ['accuracy', 'precision', 'recall', 'f1']\n",
    "\n",
    "results = cross_validate(estimator=logisticRegr,\n",
    "                       X=X_train,\n",
    "                       y=y_train_b.values,\n",
    "                       cv=cv_fold, \n",
    "                       scoring=scoring,\n",
    "                       return_train_score=True)\n",
    "\n",
    "metrics = {\n",
    "    \"Accuracy\": results['test_accuracy'].mean(),\n",
    "#     \"Accuracy Std\": results['test_accuracy'].std(),\n",
    "    \"Precision\": results['test_precision'].mean(),\n",
    "#     \"Precision Std\": results['test_precision'].std(),\n",
    "    \"Recall\": results['test_recall'].mean(),\n",
    "#     \"Recall Std\": results['test_recall'].std(),\n",
    "    \"F1 Score\": results['test_f1'].mean(),\n",
    "#     \"F1 Score Std\": results['test_f1'].std()\n",
    "    }\n",
    "\n",
    "metrics"
   ]
  },
  {
   "cell_type": "code",
   "execution_count": 186,
   "id": "ee24361f",
   "metadata": {},
   "outputs": [
    {
     "data": {
      "text/plain": [
       "{'Accuracy': 0.5843264578558696,\n",
       " 'Precision': 0.5753213358840428,\n",
       " 'Recall': 0.5690805672432602,\n",
       " 'F1 Score': 0.5640116689778452}"
      ]
     },
     "execution_count": 186,
     "metadata": {},
     "output_type": "execute_result"
    }
   ],
   "source": [
    "# train_predictions = logisticRegr.predict(X_train)\n",
    "\n",
    "scoring = ['accuracy', 'precision', 'recall', 'f1']\n",
    "\n",
    "results = cross_validate(estimator=logisticRegr,\n",
    "                       X=X_train,\n",
    "                       y=y_train_b.values,\n",
    "                       cv=5,\n",
    "                       scoring=scoring,\n",
    "                       return_train_score=True)\n",
    "\n",
    "metrics = {\n",
    "    \"Accuracy\": results['test_accuracy'].mean(),\n",
    "#     \"Accuracy Std\": results['test_accuracy'].std(),\n",
    "    \"Precision\": results['test_precision'].mean(),\n",
    "#     \"Precision Std\": results['test_precision'].std(),\n",
    "    \"Recall\": results['test_recall'].mean(),\n",
    "#     \"Recall Std\": results['test_recall'].std(),\n",
    "    \"F1 Score\": results['test_f1'].mean(),\n",
    "#     \"F1 Score Std\": results['test_f1'].std()\n",
    "    }\n",
    "\n",
    "metrics"
   ]
  },
  {
   "cell_type": "code",
   "execution_count": null,
   "id": "6d035c28",
   "metadata": {},
   "outputs": [],
   "source": [
    "# https://quantifyinghealth.com/interpret-logistic-regression-coefficients/\n",
    "# https://stackoverflow.com/questions/22306341/python-sklearn-how-to-calculate-p-values\n",
    "from sklearn.feature_selection import chi2\n",
    "scores, pvalues = chi2(X_train, y_train.sort_index().values)\n",
    "scores, pvalues_20 = chi2(X_train_20, y_train.sort_index().values)"
   ]
  },
  {
   "cell_type": "code",
   "execution_count": 38,
   "id": "45be0b4a",
   "metadata": {},
   "outputs": [],
   "source": [
    "df_logreg_imp = pd.DataFrame(\n",
    "    {\n",
    "        'token' : df_one_trn_p.columns.values.tolist(),\n",
    "        'coef': importance,\n",
    "        'coef_abs': np.abs(importance),\n",
    "        'pvalue' : pvalues\n",
    "    }\n",
    ")"
   ]
  },
  {
   "cell_type": "code",
   "execution_count": 52,
   "id": "0f6f9c7c",
   "metadata": {},
   "outputs": [],
   "source": [
    "df_logreg_imp_20 = pd.DataFrame(\n",
    "    {\n",
    "        'token' : df_one_trn_p_20.columns.values.tolist(),\n",
    "        'coef': importance_20,\n",
    "        'coef_abs': np.abs(importance_20),\n",
    "        'pvalue' : pvalues_20\n",
    "    }\n",
    ")"
   ]
  },
  {
   "cell_type": "code",
   "execution_count": 39,
   "id": "0d3d5c77",
   "metadata": {},
   "outputs": [
    {
     "data": {
      "image/png": "[encoded data removed]",
      "text/plain": [
       "<Figure size 576x432 with 1 Axes>"
      ]
     },
     "metadata": {
      "needs_background": "light"
     },
     "output_type": "display_data"
    }
   ],
   "source": [
    "f, ax = plt.subplots(figsize=(8,6));\n",
    "\n",
    "df_logreg_imp[df_logreg_imp['pvalue']<0.05].sort_values('coef_abs').tail(30)[['token', 'coef']].set_index('token').plot(kind='barh', ax=ax)\n",
    "plt.show()"
   ]
  },
  {
   "cell_type": "code",
   "execution_count": 55,
   "id": "c80b6bbd",
   "metadata": {},
   "outputs": [
    {
     "data": {
      "image/png": "[encoded data removed]",
      "text/plain": [
       "<Figure size 576x432 with 1 Axes>"
      ]
     },
     "metadata": {
      "needs_background": "light"
     },
     "output_type": "display_data"
    }
   ],
   "source": [
    "f, ax = plt.subplots(figsize=(8,6));\n",
    "\n",
    "df_logreg_imp_20[df_logreg_imp_20['pvalue']<0.05].sort_values('coef_abs').tail(30)[['token', 'coef']].set_index('token').plot(kind='barh', ax=ax)\n",
    "plt.show()"
   ]
  },
  {
   "cell_type": "code",
   "execution_count": 40,
   "id": "e379fb55",
   "metadata": {},
   "outputs": [],
   "source": [
    "# masker = shap.maskers.Independent(data = X_train)\n",
    "# explainer = explainer = shap.LinearExplainer(logisticRegr, masker)\n",
    "# shap_values = explainer.shap_values(X_train)\n",
    "\n",
    "# shap.summary_plot(shap_values, X_train)"
   ]
  },
  {
   "cell_type": "markdown",
   "id": "828ab5d8",
   "metadata": {},
   "source": [
    "### XGBoost"
   ]
  },
  {
   "cell_type": "code",
   "execution_count": 56,
   "id": "61548c34",
   "metadata": {},
   "outputs": [],
   "source": [
    "#dictionary for collecting results\n",
    "results_dict = {}\n",
    "\n",
    "#obtaining default parameters by calling .fit() to XGBoost model instance\n",
    "xgbc0 = xgb.XGBClassifier(objective='multi:softmax' if False else 'binary:logistic',\n",
    "                          booster='gbtree',\n",
    "                          eval_metric='auc',\n",
    "                          tree_method='hist',\n",
    "                          grow_policy='lossguide',\n",
    "                          use_label_encoder=False)\n",
    "\n",
    "xgbc0.fit(X_train_20 , y_train.sort_index().values)\n",
    "\n",
    "train_predictions = xgbc0.predict(X_train_20)\n",
    "test_predictions = xgbc0.predict(X_test_20)"
   ]
  },
  {
   "cell_type": "code",
   "execution_count": 57,
   "id": "6edc9ad6",
   "metadata": {},
   "outputs": [
    {
     "name": "stdout",
     "output_type": "stream",
     "text": [
      "              precision    recall  f1-score   support\n",
      "\n",
      "           0       0.74      0.80      0.77      2303\n",
      "           1       0.76      0.68      0.72      2079\n",
      "\n",
      "    accuracy                           0.74      4382\n",
      "   macro avg       0.75      0.74      0.74      4382\n",
      "weighted avg       0.75      0.74      0.74      4382\n",
      "\n"
     ]
    }
   ],
   "source": [
    "print(classification_report(y_train.sort_index().values, train_predictions))"
   ]
  },
  {
   "cell_type": "code",
   "execution_count": 58,
   "id": "f6ee52fa",
   "metadata": {},
   "outputs": [
    {
     "name": "stdout",
     "output_type": "stream",
     "text": [
      "              precision    recall  f1-score   support\n",
      "\n",
      "           0       0.63      0.71      0.67      1135\n",
      "           1       0.63      0.54      0.58      1024\n",
      "\n",
      "    accuracy                           0.63      2159\n",
      "   macro avg       0.63      0.63      0.63      2159\n",
      "weighted avg       0.63      0.63      0.63      2159\n",
      "\n"
     ]
    }
   ],
   "source": [
    "print(classification_report(y_test.sort_index().values, test_predictions))"
   ]
  },
  {
   "cell_type": "code",
   "execution_count": 59,
   "id": "1da9127b",
   "metadata": {},
   "outputs": [
    {
     "data": {
      "image/png": "[encoded data removed]",
      "text/plain": [
       "<Figure size 576x432 with 1 Axes>"
      ]
     },
     "metadata": {
      "needs_background": "light"
     },
     "output_type": "display_data"
    }
   ],
   "source": [
    "#plotting feature importance\n",
    "features_list = df_one_trn_p_20.columns.values.tolist()\n",
    "\n",
    "f, ax = plt.subplots(figsize=(8,6));\n",
    "df_plot = pd.DataFrame({\n",
    "    'feature' : features_list,\n",
    "    'score' : xgbc0.feature_importances_\n",
    "}).set_index('feature')\n",
    "df_plot.sort_values('score').tail(30).plot(kind='barh', ax=ax)\n",
    "plt.show()"
   ]
  },
  {
   "cell_type": "markdown",
   "id": "aae02ad9",
   "metadata": {},
   "source": [
    "### TfIdf approach"
   ]
  },
  {
   "cell_type": "code",
   "execution_count": 67,
   "id": "f2038ec1",
   "metadata": {},
   "outputs": [
    {
     "name": "stdout",
     "output_type": "stream",
     "text": [
      "              precision    recall  f1-score   support\n",
      "\n",
      "           0       0.80      0.87      0.84      2303\n",
      "           1       0.84      0.76      0.80      2079\n",
      "\n",
      "    accuracy                           0.82      4382\n",
      "   macro avg       0.82      0.82      0.82      4382\n",
      "weighted avg       0.82      0.82      0.82      4382\n",
      "\n"
     ]
    }
   ],
   "source": [
    "logisticRegr = LogisticRegression()\n",
    "\n",
    "# cols = df_logreg_imp.sort_values('coef_abs').tail(2000)['token'].values\n",
    "tfidf, _ =  get_tfidf(df_one_trn_p)\n",
    "tfidf_tst, _ =  get_tfidf(df_one_tst_p)\n",
    "\n",
    "X_train = tfidf.sort_index().values\n",
    "X_test = tfidf_tst.sort_index().values\n",
    "\n",
    "logisticRegr.fit(X_train, y_train.sort_index().values)\n",
    "\n",
    "train_predictions = logisticRegr.predict(X_train)\n",
    "\n",
    "print(classification_report(y_train.sort_index().values, train_predictions))"
   ]
  },
  {
   "cell_type": "code",
   "execution_count": 76,
   "id": "6e5396e5",
   "metadata": {},
   "outputs": [],
   "source": [
    "X_test[np.isnan(X_test)] = 0"
   ]
  },
  {
   "cell_type": "code",
   "execution_count": 78,
   "id": "460ae86c",
   "metadata": {},
   "outputs": [
    {
     "name": "stdout",
     "output_type": "stream",
     "text": [
      "              precision    recall  f1-score   support\n",
      "\n",
      "           0       0.65      0.73      0.69      1135\n",
      "           1       0.65      0.56      0.60      1024\n",
      "\n",
      "    accuracy                           0.65      2159\n",
      "   macro avg       0.65      0.65      0.64      2159\n",
      "weighted avg       0.65      0.65      0.65      2159\n",
      "\n"
     ]
    }
   ],
   "source": [
    "test_predictions = logisticRegr.predict(X_test)\n",
    "\n",
    "print(classification_report(y_test.sort_index().values, test_predictions))"
   ]
  },
  {
   "cell_type": "markdown",
   "id": "ed166612",
   "metadata": {},
   "source": [
    "## Investigate ngrams"
   ]
  },
  {
   "cell_type": "code",
   "execution_count": 96,
   "id": "545bfaf2",
   "metadata": {},
   "outputs": [],
   "source": [
    "df_trn_p_fn = df_one_trn[df_one_trn['index'].isin(y_train[y_train==0].index)]\n",
    "df_trn_p_t = df_one_trn[df_one_trn['index'].isin(y_train[y_train==1].index)]"
   ]
  },
  {
   "cell_type": "code",
   "execution_count": 100,
   "id": "fe370950",
   "metadata": {},
   "outputs": [],
   "source": [
    "bigrams_fn = nltk.FreqDist(ngrams(df_trn_p_fn['tokens'].values, 2))\n",
    "trigrams_fn = nltk.FreqDist(ngrams(df_trn_p_fn['tokens'].values, 3))\n",
    "\n",
    "bigrams_t = nltk.FreqDist(ngrams(df_trn_p_t['tokens'].values, 2))\n",
    "trigrams_t = nltk.FreqDist(ngrams(df_trn_p_t['tokens'].values, 3))"
   ]
  },
  {
   "cell_type": "code",
   "execution_count": 98,
   "id": "a16cc89a",
   "metadata": {},
   "outputs": [
    {
     "data": {
      "text/plain": [
       "[(('unia', 'europejski'), 65),\n",
       " (('trybunał', 'konstytucyjny'), 35),\n",
       " (('miliard', 'złoty'), 34),\n",
       " (('komisja', 'europejski'), 29),\n",
       " (('donald', 'tusk'), 27),\n",
       " (('być', 'by'), 26),\n",
       " (('mieć', 'być'), 26),\n",
       " (('prawo', 'sprawiedliwość'), 23),\n",
       " (('na', 'przykład'), 23),\n",
       " (('milion', 'złoty'), 22),\n",
       " (('ostatni', 'rok'), 21),\n",
       " (('by', 'być'), 20),\n",
       " (('platforma', 'obywatelski'), 18),\n",
       " (('jarosław', 'kaczyński'), 16),\n",
       " (('wielki', 'brytania'), 16),\n",
       " (('być', 'być'), 16),\n",
       " (('państwo', 'członkowski'), 15),\n",
       " (('wymiar', 'sprawiedliwość'), 15),\n",
       " (('chcieć', 'by'), 14),\n",
       " (('miejsce', 'praca'), 14)]"
      ]
     },
     "execution_count": 98,
     "metadata": {},
     "output_type": "execute_result"
    }
   ],
   "source": [
    "bigrams_fn.most_common(20)"
   ]
  },
  {
   "cell_type": "code",
   "execution_count": 101,
   "id": "13f8f681",
   "metadata": {},
   "outputs": [
    {
     "data": {
      "text/plain": [
       "[(('miliard', 'złoty'), 80),\n",
       " (('unia', 'europejski'), 73),\n",
       " (('milion', 'złoty'), 45),\n",
       " (('trybunał', 'konstytucyjny'), 35),\n",
       " (('prawo', 'sprawiedliwość'), 33),\n",
       " (('na', 'przykład'), 29),\n",
       " (('ostatni', 'rok'), 26),\n",
       " (('mieć', 'być'), 24),\n",
       " (('przyp', 'red'), 22),\n",
       " (('wielki', 'brytania'), 20),\n",
       " (('miliard', 'euro'), 19),\n",
       " (('jarosław', 'kaczyński'), 17),\n",
       " (('procent', 'polak'), 16),\n",
       " (('ciąg', 'ostatni'), 16),\n",
       " (('stany', 'zjednoczone'), 15),\n",
       " (('andrzej', 'duda'), 14),\n",
       " (('lech', 'kaczyński'), 14),\n",
       " (('bronisław', 'komorowski'), 13),\n",
       " (('donald', 'tusk'), 13),\n",
       " (('między', 'innymi'), 13)]"
      ]
     },
     "execution_count": 101,
     "metadata": {},
     "output_type": "execute_result"
    }
   ],
   "source": [
    "bigrams_t.most_common(20)"
   ]
  },
  {
   "cell_type": "code",
   "execution_count": 99,
   "id": "b1e310c8",
   "metadata": {},
   "outputs": [
    {
     "data": {
      "text/plain": [
       "[(('chcieć', 'by', 'być'), 10),\n",
       " (('krajowy', 'rada', 'sądownictwo'), 8),\n",
       " (('kraj', 'unia', 'europejski'), 7),\n",
       " (('jan', 'paweł', 'ii'), 6),\n",
       " (('rząd', 'platforma', 'obywatelski'), 6),\n",
       " (('ciąg', 'ostatni', 'rok'), 6),\n",
       " (('rząd', 'prawo', 'sprawiedliwość'), 5),\n",
       " (('dziecko', 'zespół', 'down'), 5),\n",
       " (('mieć', 'być', 'czynić'), 5),\n",
       " (('rząd', 'donald', 'tusk'), 5),\n",
       " (('spółka', 'skarb', 'państwo'), 5),\n",
       " (('prezydent', 'andrzej', 'duda'), 4),\n",
       " (('ii', 'wojna', 'światowy'), 4),\n",
       " (('premier', 'beata', 'szydło'), 4),\n",
       " (('trybunał', 'sprawiedliwość', 'ue'), 4),\n",
       " (('warszawa', 'przyp', 'red'), 4),\n",
       " (('przewodniczący', 'rada', 'europejski'), 4),\n",
       " (('zgodnie', 'prawo', 'międzynarodowy'), 3),\n",
       " (('bliskiego', 'wschód', 'afryka'), 3),\n",
       " (('wschód', 'afryka', 'północny'), 3)]"
      ]
     },
     "execution_count": 99,
     "metadata": {},
     "output_type": "execute_result"
    }
   ],
   "source": [
    "trigrams_fn.most_common(20)"
   ]
  },
  {
   "cell_type": "code",
   "execution_count": 102,
   "id": "8f990be5",
   "metadata": {},
   "outputs": [
    {
     "data": {
      "text/plain": [
       "[(('ciąg', 'ostatni', 'rok'), 10),\n",
       " (('rząd', 'prawo', 'sprawiedliwość'), 10),\n",
       " (('kraj', 'unia', 'europejski'), 10),\n",
       " (('kwota', 'wolny', 'podatek'), 7),\n",
       " (('prezydent', 'bronisław', 'komorowski'), 6),\n",
       " (('hanna', 'gronkiewicz', 'waltz'), 6),\n",
       " (('plan', 'zagospodarować', 'przestrzenny'), 6),\n",
       " (('wysoki', 'izba', 'kontrola'), 5),\n",
       " (('chcieć', 'by', 'być'), 5),\n",
       " (('spółka', 'skarb', 'państwo'), 5),\n",
       " (('narodowy', 'bank', 'polska'), 5),\n",
       " (('miliard', 'złoty', 'budżet'), 5),\n",
       " (('międzynarodowy', 'fundusz', 'walutowy'), 5),\n",
       " (('główny', 'urząd', 'statystyczny'), 5),\n",
       " (('prezydent', 'lech', 'kaczyński'), 5),\n",
       " (('najwyższ', 'izba', 'kontrola'), 5),\n",
       " (('prezydent', 'andrzej', 'duda'), 5),\n",
       " (('procent', 'polak', 'uważać'), 4),\n",
       " (('milion', 'złoty', 'rocznie'), 4),\n",
       " (('program', 'in', 'vitro'), 4)]"
      ]
     },
     "execution_count": 102,
     "metadata": {},
     "output_type": "execute_result"
    }
   ],
   "source": [
    "trigrams_t.most_common(20)"
   ]
  },
  {
   "cell_type": "code",
   "execution_count": null,
   "id": "56876850",
   "metadata": {},
   "outputs": [],
   "source": []
  }
 ],
 "metadata": {
  "kernelspec": {
   "display_name": "Python 3 (ipykernel)",
   "language": "python",
   "name": "python3"
  },
  "language_info": {
   "codemirror_mode": {
    "name": "ipython",
    "version": 3
   },
   "file_extension": ".py",
   "mimetype": "text/x-python",
   "name": "python",
   "nbconvert_exporter": "python",
   "pygments_lexer": "ipython3",
   "version": "3.9.13"
  }
 },
 "nbformat": 4,
 "nbformat_minor": 5
}
