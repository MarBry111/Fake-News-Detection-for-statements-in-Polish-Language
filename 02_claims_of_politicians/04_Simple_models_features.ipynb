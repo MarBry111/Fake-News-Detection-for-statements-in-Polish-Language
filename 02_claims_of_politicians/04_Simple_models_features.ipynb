{
 "cells": [
  {
   "cell_type": "code",
   "execution_count": 60,
   "id": "af259dfd",
   "metadata": {},
   "outputs": [],
   "source": [
    "import pandas as pd\n",
    "import numpy as np\n",
    "import spacy\n",
    "\n",
    "import gensim\n",
    "from gensim.models.doc2vec import Doc2Vec, TaggedDocument\n",
    "from gensim.test.test_doc2vec import ConcatenatedDoc2Vec\n",
    "\n",
    "import morfeusz2\n",
    "\n",
    "import matplotlib.pyplot as plt\n",
    "import seaborn as sns\n",
    "from tqdm import tqdm\n",
    "tqdm.pandas()\n",
    "\n",
    "#from sentence_transformers import SentenceTransformer\n",
    "import umap\n",
    "import hdbscan\n",
    "\n",
    "import numpy as np\n",
    "from sklearn.feature_extraction.text import CountVectorizer\n",
    "\n",
    "from sklearn.model_selection import train_test_split\n",
    "from sklearn.model_selection import GridSearchCV, RandomizedSearchCV\n",
    "from sklearn import utils\n",
    "from sklearn.feature_extraction.text import TfidfTransformer\n",
    "\n",
    "from sklearn.linear_model import LogisticRegression\n",
    "\n",
    "import xgboost as xgb\n",
    "from xgboost import XGBClassifier\n",
    "from sklearn.metrics import accuracy_score, f1_score, roc_auc_score, confusion_matrix, roc_curve, classification_report\n",
    "\n",
    "import re\n",
    "\n",
    "from wordcloud import WordCloud\n",
    "import shap\n",
    "\n",
    "from nltk import ngrams"
   ]
  },
  {
   "cell_type": "markdown",
   "id": "a66e19bd",
   "metadata": {},
   "source": [
    "## Load data"
   ]
  },
  {
   "cell_type": "code",
   "execution_count": 2,
   "id": "05b7570f",
   "metadata": {},
   "outputs": [
    {
     "name": "stderr",
     "output_type": "stream",
     "text": [
      "100%|███████████████████████████████████| 7785/7785 [00:00<00:00, 355352.78it/s]\n"
     ]
    }
   ],
   "source": [
    "df = pd.read_csv('../datasets/ready2use/fake_news_features_tokens.csv', sep=';')\n",
    "\n",
    "df = df[~df['tokens_str'].isna()]\n",
    "\n",
    "df['tokens'] = df['tokens_str'].progress_apply(\n",
    "    lambda x: x.split(' ') \n",
    "#            .replace('ą', 'ą')\n",
    "#            .replace('ć', 'ć')\n",
    "#            .replace('ę', 'ę')\n",
    "#            .replace('ń', 'ń')\n",
    "#            .replace('ó', 'ó')\n",
    "#            .replace('ś', 'ś')\n",
    "#            .replace('ź', 'ź')\n",
    "#            .replace('ż', 'ż')\n",
    ")"
   ]
  },
  {
   "cell_type": "code",
   "execution_count": 3,
   "id": "eac16afa",
   "metadata": {},
   "outputs": [],
   "source": [
    "df = df[ df['assestment'] != 'brak' ]"
   ]
  },
  {
   "cell_type": "markdown",
   "id": "f11a432e",
   "metadata": {},
   "source": [
    "Na potrzeby Twojej pracy, wypowiedzi z oceną brak można odrzucić, zbity_zegar interpretować jako fałsz. Resztę danych w zależności od przyjętego modelu, jeśli ocena jest binarna to prawde i blisko_prawdy mozna polaczyc razem, tak samo jak raczej_falsz i falsz. Jeśli jednak ocena jest przedziałem to można pokusić się o przyjęcie wartości 1, 0.75, 0.5, 0.25, 0 zakładając ze 1 to prawda a 0 to pełny fałsz.\n",
    "sub_title_text_after to komentarz do wypowiedzi, moze pomóc rozwiać wątpliwości co do tego jak oceniane są wartości połówkowe i bliskie pełnych"
   ]
  },
  {
   "cell_type": "code",
   "execution_count": 4,
   "id": "0ee7af34",
   "metadata": {},
   "outputs": [
    {
     "data": {
      "text/plain": [
       "Prawda               2831\n",
       "falsz                1308\n",
       "Fałsz                1135\n",
       "zbity_zegar           707\n",
       "Manipulacja           705\n",
       "raczej_falsz          288\n",
       "polprawda             254\n",
       "Nieweryfikowalne      236\n",
       "prawda                179\n",
       "blisko_prawdy          93\n",
       "Częściowy fałsz       9\n",
       "Name: assestment, dtype: int64"
      ]
     },
     "execution_count": 4,
     "metadata": {},
     "output_type": "execute_result"
    }
   ],
   "source": [
    "df['assestment'].value_counts()"
   ]
  },
  {
   "cell_type": "code",
   "execution_count": 5,
   "id": "0852e59f",
   "metadata": {},
   "outputs": [],
   "source": [
    "df.loc[:, 'assestment'] = df['assestment'].replace({\n",
    "    'falsz' : 'Fałsz',\n",
    "    'zbity_zegar' : 'Fałsz',\n",
    "    'raczej_falsz' : 'Fałsz',\n",
    "    'prawda' : 'Prawda',\n",
    "    'blisko_prawdy' : 'Prawda',\n",
    "    'polprawda' : 'Manipulacja',\n",
    "    'Częściowy fałsz' : 'Manipulacja'\n",
    "})"
   ]
  },
  {
   "cell_type": "code",
   "execution_count": 6,
   "id": "d6ec3990",
   "metadata": {},
   "outputs": [
    {
     "data": {
      "text/plain": [
       "Fałsz               3438\n",
       "Prawda              3103\n",
       "Manipulacja          968\n",
       "Nieweryfikowalne     236\n",
       "Name: assestment, dtype: int64"
      ]
     },
     "execution_count": 6,
     "metadata": {},
     "output_type": "execute_result"
    }
   ],
   "source": [
    "df['assestment'].value_counts()"
   ]
  },
  {
   "cell_type": "code",
   "execution_count": 7,
   "id": "0fc5bd7e",
   "metadata": {},
   "outputs": [],
   "source": [
    "df = df[ df['assestment'] != 'Nieweryfikowalne' ]\n",
    "df = df[ df['assestment'] != 'Manipulacja' ]"
   ]
  },
  {
   "cell_type": "code",
   "execution_count": 8,
   "id": "3ab2cd37",
   "metadata": {},
   "outputs": [],
   "source": [
    "df = df.reset_index(drop=True)"
   ]
  },
  {
   "cell_type": "code",
   "execution_count": 9,
   "id": "06a867e5",
   "metadata": {},
   "outputs": [],
   "source": [
    "df['assestment'] = df['assestment'].replace({\n",
    "    'Fałsz' : 0,\n",
    "#     'Manipulacja' : 1,\n",
    "    'Prawda' : 1\n",
    "}).astype(int)"
   ]
  },
  {
   "cell_type": "code",
   "execution_count": 10,
   "id": "8ffb3320",
   "metadata": {},
   "outputs": [
    {
     "name": "stdout",
     "output_type": "stream",
     "text": [
      "<class 'pandas.core.frame.DataFrame'>\n",
      "RangeIndex: 6541 entries, 0 to 6540\n",
      "Data columns (total 14 columns):\n",
      " #   Column         Non-Null Count  Dtype  \n",
      "---  ------         --------------  -----  \n",
      " 0   assestment     6541 non-null   int64  \n",
      " 1   author         6511 non-null   object \n",
      " 2   text_clean     6541 non-null   object \n",
      " 3   sentiment_all  6541 non-null   float64\n",
      " 4   sentiment_avg  6541 non-null   float64\n",
      " 5   uniq_words     6541 non-null   float64\n",
      " 6   uniq_lemm      6541 non-null   float64\n",
      " 7   err            6541 non-null   float64\n",
      " 8   net            6541 non-null   float64\n",
      " 9   ADJ            6541 non-null   float64\n",
      " 10  ADV            6541 non-null   float64\n",
      " 11  NOUN           6541 non-null   float64\n",
      " 12  tokens_str     6541 non-null   object \n",
      " 13  tokens         6541 non-null   object \n",
      "dtypes: float64(9), int64(1), object(4)\n",
      "memory usage: 715.5+ KB\n"
     ]
    }
   ],
   "source": [
    "df.info()"
   ]
  },
  {
   "cell_type": "code",
   "execution_count": 11,
   "id": "4d4b3a0b",
   "metadata": {},
   "outputs": [],
   "source": [
    "id_train, id_test = train_test_split(\n",
    "    df.index.values.tolist(), \n",
    "    test_size=0.33, \n",
    "    stratify = df['assestment'].values,\n",
    "    random_state=0)\n",
    "\n",
    "y_train = df.loc[id_train,:].copy()['assestment']\n",
    "\n",
    "y_test = df.loc[id_test,:].copy()['assestment']"
   ]
  },
  {
   "cell_type": "markdown",
   "id": "20069cfa",
   "metadata": {},
   "source": [
    "## Doc2vec embeddings"
   ]
  },
  {
   "cell_type": "code",
   "execution_count": 12,
   "id": "83139088",
   "metadata": {},
   "outputs": [],
   "source": [
    "df_doc2vec = df.copy()\n",
    "\n",
    "df_doc2vec['documents'] = [TaggedDocument(doc, [str(i)]) for i, doc in enumerate(df_doc2vec['tokens'].values)]"
   ]
  },
  {
   "cell_type": "code",
   "execution_count": 13,
   "id": "4e0fcd2b",
   "metadata": {},
   "outputs": [],
   "source": [
    "vec_size = 3"
   ]
  },
  {
   "cell_type": "code",
   "execution_count": 14,
   "id": "c685efd9",
   "metadata": {},
   "outputs": [
    {
     "name": "stderr",
     "output_type": "stream",
     "text": [
      "100%|███████████████████████████████████| 4382/4382 [00:00<00:00, 698121.33it/s]\n",
      "100%|██████████████████████████████████████████| 30/30 [00:00<00:00, 139.94it/s]\n"
     ]
    }
   ],
   "source": [
    "model_dbow = Doc2Vec(dm=0, vector_size=vec_size, negative=5, hs=0, min_count=2, sample = 0, workers=-1)\n",
    "model_dbow.build_vocab([x for x in tqdm(df_doc2vec['documents'].values[id_train])])\n",
    "\n",
    "for epoch in tqdm(range(30)):\n",
    "    model_dbow.train(utils.shuffle([x for x in df_doc2vec['documents'].values[id_train]]), total_examples=len(id_train), epochs=1)\n",
    "    model_dbow.alpha -= 0.002\n",
    "    model_dbow.min_alpha = model_dbow.alpha"
   ]
  },
  {
   "cell_type": "code",
   "execution_count": 15,
   "id": "e40d00f9",
   "metadata": {},
   "outputs": [
    {
     "name": "stderr",
     "output_type": "stream",
     "text": [
      "100%|███████████████████████████████████| 4382/4382 [00:00<00:00, 655776.22it/s]\n",
      "100%|███████████████████████████████████████████| 30/30 [00:10<00:00,  2.97it/s]\n"
     ]
    }
   ],
   "source": [
    "model_dmm = Doc2Vec(dm=1, dm_mean=1, vector_size=vec_size, window=10, negative=5, min_count=1, workers=5, alpha=0.065, min_alpha=0.065)\n",
    "model_dmm.build_vocab([x for x in tqdm(df_doc2vec['documents'].values[id_train])])\n",
    "\n",
    "for epoch in tqdm(range(30)):\n",
    "    model_dmm.train(utils.shuffle([x for x in df_doc2vec['documents'].values[id_train]]), total_examples=len(id_train), epochs=1)\n",
    "    model_dmm.alpha -= 0.002\n",
    "    model_dmm.min_alpha = model_dmm.alpha"
   ]
  },
  {
   "cell_type": "code",
   "execution_count": 16,
   "id": "854da590",
   "metadata": {},
   "outputs": [],
   "source": [
    "new_model = ConcatenatedDoc2Vec([model_dbow, model_dmm])"
   ]
  },
  {
   "cell_type": "code",
   "execution_count": 17,
   "id": "3760eeca",
   "metadata": {},
   "outputs": [],
   "source": [
    "embeddings = [\n",
    "    new_model.infer_vector(d[0]).tolist() for d in df_doc2vec['documents'].values \n",
    "]"
   ]
  },
  {
   "cell_type": "code",
   "execution_count": 18,
   "id": "fc609f51",
   "metadata": {},
   "outputs": [],
   "source": [
    "if False:\n",
    "    vec_final_size = 5\n",
    "    \n",
    "    umap_embeddings = umap.UMAP(n_neighbors=15, \n",
    "                            n_components=vec_final_size, \n",
    "                            metric='cosine').fit_transform(embeddings)\n",
    "    \n",
    "    df_doc2vec[[ 'e'+str(i) for i in range(vec_final_size) ]] = umap_embeddings\n",
    "else:\n",
    "    vec_final_size = 2*vec_size\n",
    "    df_doc2vec[[ 'e'+str(i) for i in range(vec_final_size) ]] = embeddings"
   ]
  },
  {
   "cell_type": "code",
   "execution_count": 19,
   "id": "356c1a4c",
   "metadata": {},
   "outputs": [
    {
     "data": {
      "text/plain": [
       "Index(['assestment', 'author', 'text_clean', 'sentiment_all', 'sentiment_avg',\n",
       "       'uniq_words', 'uniq_lemm', 'err', 'net', 'ADJ', 'ADV', 'NOUN',\n",
       "       'tokens_str', 'tokens', 'documents', 'e0', 'e1', 'e2', 'e3', 'e4',\n",
       "       'e5'],\n",
       "      dtype='object')"
      ]
     },
     "execution_count": 19,
     "metadata": {},
     "output_type": "execute_result"
    }
   ],
   "source": [
    "df_doc2vec.columns"
   ]
  },
  {
   "cell_type": "code",
   "execution_count": 20,
   "id": "5fa8cd2e",
   "metadata": {},
   "outputs": [],
   "source": [
    "X_train = df_doc2vec.loc[id_train,\n",
    "    ['sentiment_all', 'sentiment_avg','uniq_words', 'uniq_lemm', 'err', 'net', \n",
    "     'ADJ', 'ADV', 'NOUN'] + [ 'e'+str(i) for i in range(vec_final_size) ]\n",
    "].copy().sort_index()\n",
    "\n",
    "X_test = df_doc2vec.loc[id_test,\n",
    "    ['sentiment_all', 'sentiment_avg','uniq_words', 'uniq_lemm', 'err', 'net', \n",
    "     'ADJ', 'ADV', 'NOUN'] + [ 'e'+str(i) for i in range(vec_final_size) ]\n",
    "].copy().sort_index()"
   ]
  },
  {
   "cell_type": "markdown",
   "id": "59ff3a2c",
   "metadata": {},
   "source": [
    "## XGBoost"
   ]
  },
  {
   "cell_type": "code",
   "execution_count": 21,
   "id": "fb78a059",
   "metadata": {},
   "outputs": [
    {
     "name": "stderr",
     "output_type": "stream",
     "text": [
      "pandas.Int64Index is deprecated and will be removed from pandas in a future version. Use pandas.Index with the appropriate dtype instead.\n"
     ]
    }
   ],
   "source": [
    "#dictionary for collecting results\n",
    "results_dict = {}\n",
    "\n",
    "#obtaining default parameters by calling .fit() to XGBoost model instance\n",
    "xgbc0 = xgb.XGBClassifier(objective='multi:softmax' if False else 'binary:logistic',\n",
    "                          booster='gbtree',\n",
    "                          eval_metric='auc',\n",
    "                          tree_method='hist',\n",
    "                          grow_policy='lossguide',\n",
    "                          use_label_encoder=False)\n",
    "\n",
    "xgbc0.fit(X_train , y_train.sort_index().values)\n",
    "\n",
    "train_predictions = xgbc0.predict(X_train)\n",
    "test_predictions = xgbc0.predict(X_test)"
   ]
  },
  {
   "cell_type": "code",
   "execution_count": 22,
   "id": "abc29de6",
   "metadata": {},
   "outputs": [
    {
     "name": "stdout",
     "output_type": "stream",
     "text": [
      "              precision    recall  f1-score   support\n",
      "\n",
      "           0       0.98      0.96      0.97      2303\n",
      "           1       0.96      0.98      0.97      2079\n",
      "\n",
      "    accuracy                           0.97      4382\n",
      "   macro avg       0.97      0.97      0.97      4382\n",
      "weighted avg       0.97      0.97      0.97      4382\n",
      "\n"
     ]
    }
   ],
   "source": [
    "print(classification_report(y_train.sort_index().values, train_predictions))"
   ]
  },
  {
   "cell_type": "code",
   "execution_count": 23,
   "id": "58d97bee",
   "metadata": {},
   "outputs": [
    {
     "data": {
      "text/plain": [
       "array([[2220,   83],\n",
       "       [  38, 2041]])"
      ]
     },
     "execution_count": 23,
     "metadata": {},
     "output_type": "execute_result"
    }
   ],
   "source": [
    "confusion_matrix(y_train.sort_index().values, train_predictions)"
   ]
  },
  {
   "cell_type": "code",
   "execution_count": 24,
   "id": "350fcd39",
   "metadata": {},
   "outputs": [
    {
     "name": "stdout",
     "output_type": "stream",
     "text": [
      "              precision    recall  f1-score   support\n",
      "\n",
      "           0       0.57      0.61      0.59      1135\n",
      "           1       0.53      0.50      0.52      1024\n",
      "\n",
      "    accuracy                           0.56      2159\n",
      "   macro avg       0.55      0.55      0.55      2159\n",
      "weighted avg       0.55      0.56      0.55      2159\n",
      "\n"
     ]
    }
   ],
   "source": [
    "print(classification_report(y_test.sort_index().values, test_predictions))"
   ]
  },
  {
   "cell_type": "code",
   "execution_count": 25,
   "id": "9a6bd652",
   "metadata": {},
   "outputs": [],
   "source": [
    "# from sklearn import preprocessing\n",
    "# scaler = preprocessing.StandardScaler().fit(X_train)\n",
    "# X_trn_scaled = scaler.transform(X_train)\n",
    "\n",
    "# logisticRegr = LogisticRegression()\n",
    "\n",
    "# logisticRegr.fit(X_trn_scaled, y_train.sort_index().values)\n",
    "\n",
    "# train_predictions = logisticRegr.predict(X_trn_scaled)\n",
    "\n",
    "# print(classification_report(y_train.sort_index().values, train_predictions))"
   ]
  },
  {
   "cell_type": "code",
   "execution_count": 26,
   "id": "0a0a4b0f",
   "metadata": {},
   "outputs": [
    {
     "data": {
      "text/plain": [
       "array([[627, 508],\n",
       "       [572, 452]])"
      ]
     },
     "execution_count": 26,
     "metadata": {},
     "output_type": "execute_result"
    }
   ],
   "source": [
    "confusion_matrix(y_test, test_predictions)"
   ]
  },
  {
   "cell_type": "code",
   "execution_count": 27,
   "id": "1933f7c7",
   "metadata": {},
   "outputs": [
    {
     "data": {
      "image/png": "[encoded data removed]",
      "text/plain": [
       "<Figure size 576x432 with 1 Axes>"
      ]
     },
     "metadata": {
      "needs_background": "light"
     },
     "output_type": "display_data"
    }
   ],
   "source": [
    "#plotting feature importance\n",
    "features_list = [\n",
    "    'sentiment_all', 'sentiment_avg','uniq_words', 'uniq_lemm', 'err', 'net', \n",
    "     'ADJ', 'ADV', 'NOUN'] + [ 'e'+str(i) for i in range(vec_final_size) ]\n",
    "\n",
    "f, ax = plt.subplots(figsize=(8,6));\n",
    "df_plot = pd.DataFrame({\n",
    "    'feature' : features_list,\n",
    "    'score' : xgbc0.feature_importances_\n",
    "}).set_index('feature')\n",
    "df_plot.sort_values('score').plot(kind='barh', ax=ax)\n",
    "plt.show()"
   ]
  },
  {
   "cell_type": "code",
   "execution_count": null,
   "id": "0534685e",
   "metadata": {},
   "outputs": [],
   "source": []
  },
  {
   "cell_type": "code",
   "execution_count": null,
   "id": "fe370950",
   "metadata": {},
   "outputs": [],
   "source": []
  }
 ],
 "metadata": {
  "kernelspec": {
   "display_name": "Python 3 (ipykernel)",
   "language": "python",
   "name": "python3"
  },
  "language_info": {
   "codemirror_mode": {
    "name": "ipython",
    "version": 3
   },
   "file_extension": ".py",
   "mimetype": "text/x-python",
   "name": "python",
   "nbconvert_exporter": "python",
   "pygments_lexer": "ipython3",
   "version": "3.9.12"
  }
 },
 "nbformat": 4,
 "nbformat_minor": 5
}
