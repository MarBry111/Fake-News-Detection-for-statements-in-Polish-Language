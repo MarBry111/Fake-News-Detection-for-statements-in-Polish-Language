{
 "cells": [
  {
   "cell_type": "code",
   "execution_count": 108,
   "id": "60e0531d",
   "metadata": {},
   "outputs": [
    {
     "name": "stdout",
     "output_type": "stream",
     "text": [
      "INFO: Pandarallel will run on 7 workers.\n",
      "INFO: Pandarallel will use Memory file system to transfer data between the main process and workers.\n"
     ]
    }
   ],
   "source": [
    "from polyglot.text import Text\n",
    "\n",
    "import pandas as pd\n",
    "import numpy as np\n",
    "\n",
    "from tqdm import tqdm\n",
    "tqdm.pandas()\n",
    "from pandarallel import pandarallel\n",
    "pandarallel.initialize(nb_workers=7,progress_bar=True)\n",
    "\n",
    "from parallelbar import progress_map\n",
    "\n",
    "from utils import *\n",
    "\n",
    "from nltk import ngrams\n",
    "import nltk\n",
    "\n",
    "import scipy\n",
    "from sklearn.model_selection import cross_validate\n",
    "\n",
    "from sklearn.linear_model import LogisticRegression\n",
    "from sklearn.ensemble import GradientBoostingClassifier, RandomForestClassifier\n",
    "import xgboost as xgb\n",
    "\n",
    "from sklearn.metrics import (\n",
    "    accuracy_score, \n",
    "    f1_score, \n",
    "    recall_score,\n",
    "    precision_score,\n",
    "    roc_auc_score, confusion_matrix, roc_curve, classification_report\n",
    ")"
   ]
  },
  {
   "cell_type": "markdown",
   "id": "aa0f731d",
   "metadata": {},
   "source": [
    "## POS CZ data"
   ]
  },
  {
   "cell_type": "code",
   "execution_count": 2,
   "id": "e79dbd56",
   "metadata": {},
   "outputs": [],
   "source": [
    "def extract_features_cz(txt):\n",
    "    \n",
    "    doc = Text(txt, hint_language_code='cs')\n",
    "\n",
    "    txt_pos = []\n",
    "    \n",
    "    for token in doc.pos_tags:\n",
    "        if token[1] not in ['SPACE', 'PUNCT']:\n",
    "            txt_pos.append(token[1])            \n",
    "    \n",
    "    return txt_pos"
   ]
  },
  {
   "cell_type": "code",
   "execution_count": 6,
   "id": "3e9ddf29",
   "metadata": {},
   "outputs": [
    {
     "data": {
      "application/vnd.jupyter.widget-view+json": {
       "model_id": "53e12ac6c12f44bfad195e48de180c69",
       "version_major": 2,
       "version_minor": 0
      },
      "text/plain": [
       "Core 1:   0%|          | 0/1298 [00:00<?, ?it/s]"
      ]
     },
     "metadata": {},
     "output_type": "display_data"
    },
    {
     "data": {
      "application/vnd.jupyter.widget-view+json": {
       "model_id": "a608c37f507a4deb857861bae7455ca4",
       "version_major": 2,
       "version_minor": 0
      },
      "text/plain": [
       "Core 2:   0%|          | 0/1298 [00:00<?, ?it/s]"
      ]
     },
     "metadata": {},
     "output_type": "display_data"
    },
    {
     "data": {
      "application/vnd.jupyter.widget-view+json": {
       "model_id": "557754d452c24ddeb33ece6de57c06bc",
       "version_major": 2,
       "version_minor": 0
      },
      "text/plain": [
       "Core 3:   0%|          | 0/1298 [00:00<?, ?it/s]"
      ]
     },
     "metadata": {},
     "output_type": "display_data"
    },
    {
     "data": {
      "application/vnd.jupyter.widget-view+json": {
       "model_id": "d9b7471752514a7a841ff49e2641dc8c",
       "version_major": 2,
       "version_minor": 0
      },
      "text/plain": [
       "Core 4:   0%|          | 0/1298 [00:00<?, ?it/s]"
      ]
     },
     "metadata": {},
     "output_type": "display_data"
    },
    {
     "data": {
      "application/vnd.jupyter.widget-view+json": {
       "model_id": "1a67b4bbd4eb492b9e9b32cc08f4ce47",
       "version_major": 2,
       "version_minor": 0
      },
      "text/plain": [
       "Core 5:   0%|          | 0/1298 [00:00<?, ?it/s]"
      ]
     },
     "metadata": {},
     "output_type": "display_data"
    },
    {
     "data": {
      "application/vnd.jupyter.widget-view+json": {
       "model_id": "4bf61557920446d5baac2134661177a7",
       "version_major": 2,
       "version_minor": 0
      },
      "text/plain": [
       "Core 6:   0%|          | 0/1298 [00:00<?, ?it/s]"
      ]
     },
     "metadata": {},
     "output_type": "display_data"
    },
    {
     "data": {
      "application/vnd.jupyter.widget-view+json": {
       "model_id": "49c0b236dc144078a25a3ba355c70aed",
       "version_major": 2,
       "version_minor": 0
      },
      "text/plain": [
       "Core 7:   0%|          | 0/1298 [00:00<?, ?it/s]"
      ]
     },
     "metadata": {},
     "output_type": "display_data"
    }
   ],
   "source": [
    "df_cz_cz = pd.read_csv('../datasets/demagog_nlp_cz/converted-exp-CZ.tsv', sep='\\t')\n",
    "\n",
    "df_cz_cz['text_clean'] = df_cz_cz['statementText'].apply(lambda x: clean_przyp(x))\n",
    "\n",
    "tasks = df_cz_cz['text_clean'].values.tolist()\n",
    "result = progress_map(extract_features_cz, tasks, n_cpu=7, chunk_size=1, core_progress=True)"
   ]
  },
  {
   "cell_type": "code",
   "execution_count": 7,
   "id": "4e9a4d48",
   "metadata": {},
   "outputs": [],
   "source": [
    "df_cz_cz['TEXT_POS'] = result\n",
    "\n",
    "df_cz_cz['TEXT_POS'] = df_cz_cz['TEXT_POS'].str.join(\" \")"
   ]
  },
  {
   "cell_type": "code",
   "execution_count": 8,
   "id": "2be3f820",
   "metadata": {},
   "outputs": [
    {
     "data": {
      "text/plain": [
       "0       PROPN PROPN PROPN PROPN NOUN PROPN NOUN ADP PR...\n",
       "1       PROPN PROPN PROPN ADV PROPN PROPN CONJ PROPN P...\n",
       "2       PROPN PRON NOUN PROPN PROPN PROPN PROPN PROPN ...\n",
       "3       PROPN PROPN PROPN PROPN PRON PRON PROPN PROPN ...\n",
       "4       PART ADV PROPN ADP PROPN PROPN PROPN PROPN PRO...\n",
       "                              ...                        \n",
       "9077                           PRON PROPN PROPN ADP PROPN\n",
       "9078    PROPN PRON PROPN CONJ NOUN PROPN PROPN NOUN PR...\n",
       "9079    PRON PROPN PROPN PRON PRON PROPN ADP NOUN NOUN...\n",
       "9080    PROPN PRON PROPN ADJ NOUN PROPN ADJ NOUN ADP N...\n",
       "9081    PROPN DET ADJ NOUN PROPN CONJ ADJ NOUN ADJ NUM...\n",
       "Name: TEXT_POS, Length: 9082, dtype: object"
      ]
     },
     "execution_count": 8,
     "metadata": {},
     "output_type": "execute_result"
    }
   ],
   "source": [
    "df_cz_cz['TEXT_POS']"
   ]
  },
  {
   "cell_type": "code",
   "execution_count": 9,
   "id": "b59dc003",
   "metadata": {},
   "outputs": [],
   "source": [
    "df_cz_cz.to_csv('../datasets/ready2use/fake_news_features_cz_CZ.csv', sep=';', index=False, encoding='utf8')"
   ]
  },
  {
   "cell_type": "code",
   "execution_count": 11,
   "id": "56816374",
   "metadata": {},
   "outputs": [
    {
     "data": {
      "text/plain": [
       "(9082, 10)"
      ]
     },
     "execution_count": 11,
     "metadata": {},
     "output_type": "execute_result"
    }
   ],
   "source": [
    "df_cz_cz.shape"
   ]
  },
  {
   "cell_type": "code",
   "execution_count": 18,
   "id": "5e075c6b",
   "metadata": {},
   "outputs": [
    {
     "data": {
      "text/plain": [
       "array(['TRUE', 'UNVERIFIABLE', 'FALSE', 'MISLEADING', 'null'],\n",
       "      dtype=object)"
      ]
     },
     "execution_count": 18,
     "metadata": {},
     "output_type": "execute_result"
    }
   ],
   "source": [
    "df['statementState'].unique()"
   ]
  },
  {
   "cell_type": "code",
   "execution_count": 127,
   "id": "e07bba91",
   "metadata": {},
   "outputs": [],
   "source": [
    "df_cz_cz['statementState'] = df_cz_cz['statementState'].str.strip()\n",
    "\n",
    "df_cz_cz = df_cz_cz[ df_cz_cz['statementState'] != 'MISLEADING' ]\n",
    "df_cz_cz = df_cz_cz[ df_cz_cz['statementState'] != 'UNVERIFIABLE' ]\n",
    "df_cz_cz = df_cz_cz[ df_cz_cz['statementState'] != 'null' ]\n",
    "\n",
    "df_cz = df_cz_cz.reset_index(drop=True)\n",
    "\n",
    "df_cz['assestment'] = df_cz['statementState'].replace({\n",
    "    'FALSE' : 0,\n",
    "#     'Manipulacja' : 1,\n",
    "    'TRUE' : 1\n",
    "}).astype(int)"
   ]
  },
  {
   "cell_type": "markdown",
   "id": "ae391d7c",
   "metadata": {},
   "source": [
    "## POS ENG data"
   ]
  },
  {
   "cell_type": "code",
   "execution_count": 26,
   "id": "36e300a5",
   "metadata": {},
   "outputs": [],
   "source": [
    "nlp_core_en = spacy.load(\"en_core_web_lg\")"
   ]
  },
  {
   "cell_type": "code",
   "execution_count": 47,
   "id": "6cdd85a4",
   "metadata": {},
   "outputs": [],
   "source": [
    "df_en = pd.concat(\n",
    "[\n",
    "    pd.read_csv('../datasets/liar/train.tsv', sep='\\t', header=None),\n",
    "    pd.read_csv('../datasets/liar/valid.tsv', sep='\\t', header=None),\n",
    "    pd.read_csv('../datasets/liar/test.tsv', sep='\\t', header=None)\n",
    "]\n",
    ").iloc[:,:3]\n",
    "\n",
    "df_en.columns = [\n",
    "    'id',\n",
    "    'label',\n",
    "    'statement'\n",
    "]\n",
    "\n",
    "df_en.loc[:, 'label'] = df_en['label'].replace({\n",
    "    'half-true' : 'true',\n",
    "    'mostly-true' : 'true',\n",
    "    'barely-true' : 'false',\n",
    "    'pants-fire' : 'false',\n",
    "})"
   ]
  },
  {
   "cell_type": "code",
   "execution_count": 48,
   "id": "ae7feabf",
   "metadata": {},
   "outputs": [
    {
     "data": {
      "text/plain": [
       "true     7134\n",
       "false    5657\n",
       "Name: label, dtype: int64"
      ]
     },
     "execution_count": 48,
     "metadata": {},
     "output_type": "execute_result"
    }
   ],
   "source": [
    "df_en['label'].value_counts()"
   ]
  },
  {
   "cell_type": "code",
   "execution_count": 61,
   "id": "38c9335e",
   "metadata": {},
   "outputs": [],
   "source": [
    "def extract_features_en(txt, nlp_core=nlp_core_en):\n",
    "    \n",
    "    doc = nlp_core(txt)\n",
    "    \n",
    "    txt_pos = []\n",
    "    for token in doc:\n",
    "        if token.pos_ not in ['SPACE', 'PUNCT']:\n",
    "            txt_pos.append(token.pos_)            \n",
    "    \n",
    "    return txt_pos"
   ]
  },
  {
   "cell_type": "code",
   "execution_count": 62,
   "id": "bdeda851",
   "metadata": {},
   "outputs": [
    {
     "data": {
      "application/vnd.jupyter.widget-view+json": {
       "model_id": "e8161296fbc14f0ea9ee4915b99c6fe9",
       "version_major": 2,
       "version_minor": 0
      },
      "text/plain": [
       "Core 1:   0%|          | 0/1828 [00:00<?, ?it/s]"
      ]
     },
     "metadata": {},
     "output_type": "display_data"
    },
    {
     "data": {
      "application/vnd.jupyter.widget-view+json": {
       "model_id": "07175dd5f25548efba8eff1b05fd9345",
       "version_major": 2,
       "version_minor": 0
      },
      "text/plain": [
       "Core 2:   0%|          | 0/1828 [00:00<?, ?it/s]"
      ]
     },
     "metadata": {},
     "output_type": "display_data"
    },
    {
     "data": {
      "application/vnd.jupyter.widget-view+json": {
       "model_id": "5ad6a1ceb6b8405f96e086eb3a64f1c9",
       "version_major": 2,
       "version_minor": 0
      },
      "text/plain": [
       "Core 3:   0%|          | 0/1828 [00:00<?, ?it/s]"
      ]
     },
     "metadata": {},
     "output_type": "display_data"
    },
    {
     "data": {
      "application/vnd.jupyter.widget-view+json": {
       "model_id": "2aec750841084841bbe836c2230af964",
       "version_major": 2,
       "version_minor": 0
      },
      "text/plain": [
       "Core 4:   0%|          | 0/1828 [00:00<?, ?it/s]"
      ]
     },
     "metadata": {},
     "output_type": "display_data"
    },
    {
     "data": {
      "application/vnd.jupyter.widget-view+json": {
       "model_id": "4855649b72284e429343506bb72ce1ba",
       "version_major": 2,
       "version_minor": 0
      },
      "text/plain": [
       "Core 5:   0%|          | 0/1828 [00:00<?, ?it/s]"
      ]
     },
     "metadata": {},
     "output_type": "display_data"
    },
    {
     "data": {
      "application/vnd.jupyter.widget-view+json": {
       "model_id": "4933f3c4d7e444549e4c203b1a194c8b",
       "version_major": 2,
       "version_minor": 0
      },
      "text/plain": [
       "Core 6:   0%|          | 0/1828 [00:00<?, ?it/s]"
      ]
     },
     "metadata": {},
     "output_type": "display_data"
    },
    {
     "data": {
      "application/vnd.jupyter.widget-view+json": {
       "model_id": "d71bec1de2584f7eaef0b831e2349d23",
       "version_major": 2,
       "version_minor": 0
      },
      "text/plain": [
       "Core 7:   0%|          | 0/1828 [00:00<?, ?it/s]"
      ]
     },
     "metadata": {},
     "output_type": "display_data"
    }
   ],
   "source": [
    "df_en['text_clean'] = df_en['statement'].apply(lambda x: clean_przyp(x))\n",
    "\n",
    "tasks = df_en['text_clean'].values.tolist()\n",
    "result = progress_map(extract_features_en, tasks, n_cpu=7, chunk_size=1, core_progress=True)"
   ]
  },
  {
   "cell_type": "code",
   "execution_count": 63,
   "id": "aa7fb256",
   "metadata": {},
   "outputs": [],
   "source": [
    "df_en['TEXT_POS'] = result\n",
    "\n",
    "df_en['TEXT_POS'] = df_en['TEXT_POS'].str.join(\" \")"
   ]
  },
  {
   "cell_type": "code",
   "execution_count": 64,
   "id": "d18544a2",
   "metadata": {},
   "outputs": [
    {
     "data": {
      "text/plain": [
       "Index(['id', 'label', 'statement', 'text_clean', 'TEXT_POS'], dtype='object')"
      ]
     },
     "execution_count": 64,
     "metadata": {},
     "output_type": "execute_result"
    }
   ],
   "source": [
    "df_en.columns"
   ]
  },
  {
   "cell_type": "markdown",
   "id": "f78fa60f",
   "metadata": {},
   "source": [
    "## Use EN/CZ data as training"
   ]
  },
  {
   "cell_type": "code",
   "execution_count": 65,
   "id": "dac4ac18",
   "metadata": {},
   "outputs": [],
   "source": [
    "df_en['assestment'] = df_en['label'].replace({\n",
    "    'false' : 0,\n",
    "#     'Manipulacja' : 1,\n",
    "    'true' : 1\n",
    "}).astype(int)\n",
    "\n",
    "y_train = df_en.copy()['assestment']\n",
    "X_train = df_en.copy()[['TEXT_POS']]"
   ]
  },
  {
   "cell_type": "code",
   "execution_count": 128,
   "id": "a76ff4dc",
   "metadata": {},
   "outputs": [],
   "source": [
    "y_train = df_cz.copy()['assestment']\n",
    "X_train = df_cz.copy().loc[:, df_cz.columns != 'assestment']"
   ]
  },
  {
   "cell_type": "code",
   "execution_count": 129,
   "id": "e0a2ca9e",
   "metadata": {},
   "outputs": [],
   "source": [
    "n_grams = 5\n",
    "min_pos = 5 "
   ]
  },
  {
   "cell_type": "code",
   "execution_count": 130,
   "id": "30f9ddf4",
   "metadata": {},
   "outputs": [
    {
     "name": "stderr",
     "output_type": "stream",
     "text": [
      "100%|███████████████████████████████████████| 9420/9420 [06:50<00:00, 22.96it/s]\n"
     ]
    }
   ],
   "source": [
    "X_pos = X_train[['TEXT_POS']].copy()\n",
    "\n",
    "words =  sum(X_pos['TEXT_POS'].str.split(' ').values.tolist(), [])\n",
    "\n",
    "n_list = []\n",
    "for n in range(n_grams):\n",
    "    n_i = pd.Series(nltk.ngrams(words, n+1)).value_counts()\n",
    "    n_i = n_i[n_i>min_pos]\n",
    "    n_list.append(n_i)\n",
    "\n",
    "n_iterator = []\n",
    "for n_i in n_list:\n",
    "    n_iterator += n_i.index.tolist()\n",
    "    \n",
    "col = {}\n",
    "    \n",
    "for n in tqdm(n_iterator):\n",
    "    x = X_pos['TEXT_POS'].str.count(' '.join(n)) / X_pos['TEXT_POS'].str.split(' ').str.len()\n",
    "\n",
    "    col[' '.join(n)] = x\n",
    "    col[' '.join(n)].name = ' '.join(n)\n",
    "            \n",
    "X_pos = pd.concat( [X_pos] + list( col.values() ), axis=1 ).drop('TEXT_POS', axis=1)"
   ]
  },
  {
   "cell_type": "code",
   "execution_count": 102,
   "id": "8acfd112",
   "metadata": {},
   "outputs": [],
   "source": [
    "# X_pos.join(y_train).to_csv('../datasets/ready2use/pos_en_train_dataset.csv', sep=';', index=False, encoding='utf8')"
   ]
  },
  {
   "cell_type": "code",
   "execution_count": 142,
   "id": "853964b7",
   "metadata": {},
   "outputs": [
    {
     "data": {
      "text/plain": [
       "186"
      ]
     },
     "execution_count": 142,
     "metadata": {},
     "output_type": "execute_result"
    }
   ],
   "source": [
    "scoring = ['accuracy', \n",
    "           'precision', 'recall', \n",
    "           'f1']\n",
    "\n",
    "col_keep = []\n",
    "for c in X_pos.columns:\n",
    "    min_v = X_pos[c].values.min()\n",
    "    max_v = X_pos[c].values.max()\n",
    "\n",
    "    if min_v < max_v:\n",
    "        r = scipy.stats.pearsonr(X_pos[c].values, y_train)[0]\n",
    "        if ~np.isnan(r) and np.abs(r) > 0.03:\n",
    "            col_keep.append(c)\n",
    "            \n",
    "len(col_keep)"
   ]
  },
  {
   "cell_type": "code",
   "execution_count": 133,
   "id": "2f850253",
   "metadata": {},
   "outputs": [
    {
     "data": {
      "text/plain": [
       "(46,)"
      ]
     },
     "execution_count": 133,
     "metadata": {},
     "output_type": "execute_result"
    }
   ],
   "source": [
    "col_keep_test = np.array(col_keep)[np.isin(col_keep, X_test.columns.values)]\n",
    "col_keep_test.shape"
   ]
  },
  {
   "cell_type": "code",
   "execution_count": 148,
   "id": "70aa07b2",
   "metadata": {},
   "outputs": [
    {
     "name": "stdout",
     "output_type": "stream",
     "text": [
      "log_regC1 Accuracy 0.823 Precision 0.823 Recall 1.000 F1 Score 0.903\n",
      "grd_boost Accuracy 0.798 Precision 0.830 Recall 0.947 F1 Score 0.885\n",
      "rand_frst Accuracy 0.823 Precision 0.823 Recall 1.000 F1 Score 0.903\n"
     ]
    }
   ],
   "source": [
    "clf_lr_1 = LogisticRegression(max_iter=5000, C=0.1, penalty='l2', solver='liblinear')\n",
    "clf_gb = GradientBoostingClassifier(n_estimators=100, learning_rate=1.0, max_depth=3, random_state=111)\n",
    "clf_rf = RandomForestClassifier(max_depth=3, random_state=111)\n",
    "# xgb_cl = xgb.XGBClassifier(objective='binary:logistic', verbosity=0)\n",
    "\n",
    "for c, n in zip(\n",
    "    [clf_lr_1, clf_gb, clf_rf], \n",
    "    ['log_regC1', 'grd_boost', 'rand_frst']\n",
    "):\n",
    "    results = cross_validate(estimator=c,\n",
    "                           X=X_pos[col_keep_test],\n",
    "                           y=y_train,\n",
    "                           cv=5,\n",
    "                           scoring=scoring,\n",
    "                           return_train_score=True)\n",
    "    print(\n",
    "        n,\n",
    "        f'Accuracy {results[\"test_accuracy\"].mean():.3f}',\n",
    "        f'Precision {results[\"test_precision\"].mean():.3f}',\n",
    "        f'Recall {results[\"test_recall\"].mean():.3f}',\n",
    "        f'F1 Score {results[\"test_f1\"].mean():.3f}',\n",
    "    )"
   ]
  },
  {
   "cell_type": "markdown",
   "id": "7b062f86",
   "metadata": {},
   "source": [
    "## Test on PL data"
   ]
  },
  {
   "cell_type": "code",
   "execution_count": 135,
   "id": "b3eb9121",
   "metadata": {},
   "outputs": [],
   "source": [
    "X_test = pd.read_csv('../datasets/ready2use/pos_pl_dataset.csv', sep=';')\n",
    "y_test = X_test['assestment']\n",
    "X_test = X_test.drop('assestment', axis=1)"
   ]
  },
  {
   "cell_type": "code",
   "execution_count": 136,
   "id": "2f52db81",
   "metadata": {},
   "outputs": [
    {
     "data": {
      "text/plain": [
       "(6541, 13668)"
      ]
     },
     "execution_count": 136,
     "metadata": {},
     "output_type": "execute_result"
    }
   ],
   "source": [
    "X_test.shape"
   ]
  },
  {
   "cell_type": "markdown",
   "id": "6bc0004e",
   "metadata": {},
   "source": [
    "### train -> test"
   ]
  },
  {
   "cell_type": "code",
   "execution_count": 144,
   "id": "7bba0302",
   "metadata": {},
   "outputs": [
    {
     "data": {
      "text/html": [
       "<style>#sk-container-id-8 {color: black;background-color: white;}#sk-container-id-8 pre{padding: 0;}#sk-container-id-8 div.sk-toggleable {background-color: white;}#sk-container-id-8 label.sk-toggleable__label {cursor: pointer;display: block;width: 100%;margin-bottom: 0;padding: 0.3em;box-sizing: border-box;text-align: center;}#sk-container-id-8 label.sk-toggleable__label-arrow:before {content: \"▸\";float: left;margin-right: 0.25em;color: #696969;}#sk-container-id-8 label.sk-toggleable__label-arrow:hover:before {color: black;}#sk-container-id-8 div.sk-estimator:hover label.sk-toggleable__label-arrow:before {color: black;}#sk-container-id-8 div.sk-toggleable__content {max-height: 0;max-width: 0;overflow: hidden;text-align: left;background-color: #f0f8ff;}#sk-container-id-8 div.sk-toggleable__content pre {margin: 0.2em;color: black;border-radius: 0.25em;background-color: #f0f8ff;}#sk-container-id-8 input.sk-toggleable__control:checked~div.sk-toggleable__content {max-height: 200px;max-width: 100%;overflow: auto;}#sk-container-id-8 input.sk-toggleable__control:checked~label.sk-toggleable__label-arrow:before {content: \"▾\";}#sk-container-id-8 div.sk-estimator input.sk-toggleable__control:checked~label.sk-toggleable__label {background-color: #d4ebff;}#sk-container-id-8 div.sk-label input.sk-toggleable__control:checked~label.sk-toggleable__label {background-color: #d4ebff;}#sk-container-id-8 input.sk-hidden--visually {border: 0;clip: rect(1px 1px 1px 1px);clip: rect(1px, 1px, 1px, 1px);height: 1px;margin: -1px;overflow: hidden;padding: 0;position: absolute;width: 1px;}#sk-container-id-8 div.sk-estimator {font-family: monospace;background-color: #f0f8ff;border: 1px dotted black;border-radius: 0.25em;box-sizing: border-box;margin-bottom: 0.5em;}#sk-container-id-8 div.sk-estimator:hover {background-color: #d4ebff;}#sk-container-id-8 div.sk-parallel-item::after {content: \"\";width: 100%;border-bottom: 1px solid gray;flex-grow: 1;}#sk-container-id-8 div.sk-label:hover label.sk-toggleable__label {background-color: #d4ebff;}#sk-container-id-8 div.sk-serial::before {content: \"\";position: absolute;border-left: 1px solid gray;box-sizing: border-box;top: 0;bottom: 0;left: 50%;z-index: 0;}#sk-container-id-8 div.sk-serial {display: flex;flex-direction: column;align-items: center;background-color: white;padding-right: 0.2em;padding-left: 0.2em;position: relative;}#sk-container-id-8 div.sk-item {position: relative;z-index: 1;}#sk-container-id-8 div.sk-parallel {display: flex;align-items: stretch;justify-content: center;background-color: white;position: relative;}#sk-container-id-8 div.sk-item::before, #sk-container-id-8 div.sk-parallel-item::before {content: \"\";position: absolute;border-left: 1px solid gray;box-sizing: border-box;top: 0;bottom: 0;left: 50%;z-index: -1;}#sk-container-id-8 div.sk-parallel-item {display: flex;flex-direction: column;z-index: 1;position: relative;background-color: white;}#sk-container-id-8 div.sk-parallel-item:first-child::after {align-self: flex-end;width: 50%;}#sk-container-id-8 div.sk-parallel-item:last-child::after {align-self: flex-start;width: 50%;}#sk-container-id-8 div.sk-parallel-item:only-child::after {width: 0;}#sk-container-id-8 div.sk-dashed-wrapped {border: 1px dashed gray;margin: 0 0.4em 0.5em 0.4em;box-sizing: border-box;padding-bottom: 0.4em;background-color: white;}#sk-container-id-8 div.sk-label label {font-family: monospace;font-weight: bold;display: inline-block;line-height: 1.2em;}#sk-container-id-8 div.sk-label-container {text-align: center;}#sk-container-id-8 div.sk-container {/* jupyter's `normalize.less` sets `[hidden] { display: none; }` but bootstrap.min.css set `[hidden] { display: none !important; }` so we also need the `!important` here to be able to override the default hidden behavior on the sphinx rendered scikit-learn.org. See: https://github.com/scikit-learn/scikit-learn/issues/21755 */display: inline-block !important;position: relative;}#sk-container-id-8 div.sk-text-repr-fallback {display: none;}</style><div id=\"sk-container-id-8\" class=\"sk-top-container\"><div class=\"sk-text-repr-fallback\"><pre>LogisticRegression(C=1, max_iter=5000, solver=&#x27;liblinear&#x27;)</pre><b>In a Jupyter environment, please rerun this cell to show the HTML representation or trust the notebook. <br />On GitHub, the HTML representation is unable to render, please try loading this page with nbviewer.org.</b></div><div class=\"sk-container\" hidden><div class=\"sk-item\"><div class=\"sk-estimator sk-toggleable\"><input class=\"sk-toggleable__control sk-hidden--visually\" id=\"sk-estimator-id-8\" type=\"checkbox\" checked><label for=\"sk-estimator-id-8\" class=\"sk-toggleable__label sk-toggleable__label-arrow\">LogisticRegression</label><div class=\"sk-toggleable__content\"><pre>LogisticRegression(C=1, max_iter=5000, solver=&#x27;liblinear&#x27;)</pre></div></div></div></div></div>"
      ],
      "text/plain": [
       "LogisticRegression(C=1, max_iter=5000, solver='liblinear')"
      ]
     },
     "execution_count": 144,
     "metadata": {},
     "output_type": "execute_result"
    }
   ],
   "source": [
    "clf_lr = LogisticRegression(max_iter=5000, C=1, penalty='l2', solver='liblinear')\n",
    "clf_lr.fit(X_pos[col_keep_test], y_train)"
   ]
  },
  {
   "cell_type": "code",
   "execution_count": 156,
   "id": "e75cf311",
   "metadata": {},
   "outputs": [
    {
     "name": "stderr",
     "output_type": "stream",
     "text": [
      "No artists with labels found to put in legend.  Note that artists whose label start with an underscore are ignored when legend() is called with no argument.\n"
     ]
    },
    {
     "data": {
      "image/png": "[encoded data removed]",
      "text/plain": [
       "<Figure size 432x288 with 1 Axes>"
      ]
     },
     "metadata": {
      "needs_background": "light"
     },
     "output_type": "display_data"
    }
   ],
   "source": [
    "scores = clf_lr.predict_proba(X_pos[col_keep_test])[:,1]\n",
    "fpr, tpr, thresholds = roc_curve(y_train, scores)\n",
    "\n",
    "import matplotlib.pyplot as plt\n",
    "plt.title('Receiver Operating Characteristic')\n",
    "plt.plot(fpr, tpr, 'b')\n",
    "plt.legend(loc = 'lower right')\n",
    "plt.plot([0, 1], [0, 1],'r--')\n",
    "plt.xlim([0, 1])\n",
    "plt.ylim([0, 1])\n",
    "plt.ylabel('True Positive Rate')\n",
    "plt.xlabel('False Positive Rate')\n",
    "plt.show()"
   ]
  },
  {
   "cell_type": "code",
   "execution_count": 174,
   "id": "c2d1fb65",
   "metadata": {},
   "outputs": [
    {
     "data": {
      "text/plain": [
       "0.826540905588971"
      ]
     },
     "execution_count": 174,
     "metadata": {},
     "output_type": "execute_result"
    }
   ],
   "source": [
    "thresholds[fpr<0.5][-1]"
   ]
  },
  {
   "cell_type": "code",
   "execution_count": null,
   "id": "f6132e2d",
   "metadata": {},
   "outputs": [],
   "source": []
  },
  {
   "cell_type": "code",
   "execution_count": 175,
   "id": "df1c52a1",
   "metadata": {},
   "outputs": [],
   "source": [
    "y_pred = clf_lr.predict(X_test[col_keep_test])\n",
    "y_pred = clf_lr.predict_proba(X_test[col_keep_test])[:,1]\n",
    "y_pred[y_pred>0.826540905588971] = 1\n",
    "y_pred[y_pred<1] = 0"
   ]
  },
  {
   "cell_type": "code",
   "execution_count": 176,
   "id": "a5968494",
   "metadata": {},
   "outputs": [
    {
     "data": {
      "text/plain": [
       "array([[1073, 2365],\n",
       "       [1687, 1416]])"
      ]
     },
     "execution_count": 176,
     "metadata": {},
     "output_type": "execute_result"
    }
   ],
   "source": [
    "confusion_matrix(y_test, y_pred)"
   ]
  },
  {
   "cell_type": "code",
   "execution_count": 177,
   "id": "e4288054",
   "metadata": {},
   "outputs": [
    {
     "name": "stdout",
     "output_type": "stream",
     "text": [
      "rand_frst Accuracy 0.381 Precision 0.375 Recall 0.456 F1 Score 0.411\n"
     ]
    }
   ],
   "source": [
    "print(\n",
    "    n,\n",
    "    f'Accuracy {accuracy_score(y_test, y_pred):.3f}',\n",
    "    f'Precision {precision_score(y_test, y_pred):.3f}',\n",
    "    f'Recall {recall_score(y_test, y_pred):.3f}',\n",
    "    f'F1 Score {f1_score(y_test, y_pred):.3f}',\n",
    ")"
   ]
  },
  {
   "cell_type": "code",
   "execution_count": null,
   "id": "a355d31e",
   "metadata": {},
   "outputs": [],
   "source": []
  }
 ],
 "metadata": {
  "kernelspec": {
   "display_name": "Python 3 (ipykernel)",
   "language": "python",
   "name": "python3"
  },
  "language_info": {
   "codemirror_mode": {
    "name": "ipython",
    "version": 3
   },
   "file_extension": ".py",
   "mimetype": "text/x-python",
   "name": "python",
   "nbconvert_exporter": "python",
   "pygments_lexer": "ipython3",
   "version": "3.9.13"
  }
 },
 "nbformat": 4,
 "nbformat_minor": 5
}
