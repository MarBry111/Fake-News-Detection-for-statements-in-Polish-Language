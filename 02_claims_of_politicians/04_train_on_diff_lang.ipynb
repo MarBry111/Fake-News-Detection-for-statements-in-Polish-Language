{
 "cells": [
  {
   "cell_type": "code",
   "execution_count": 2,
   "id": "60e0531d",
   "metadata": {},
   "outputs": [
    {
     "name": "stdout",
     "output_type": "stream",
     "text": [
      "INFO: Pandarallel will run on 7 workers.\n",
      "INFO: Pandarallel will use Memory file system to transfer data between the main process and workers.\n"
     ]
    },
    {
     "name": "stderr",
     "output_type": "stream",
     "text": [
      "/home/marek/anaconda3/envs/nlp/lib/python3.9/site-packages/xgboost/compat.py:36: FutureWarning: pandas.Int64Index is deprecated and will be removed from pandas in a future version. Use pandas.Index with the appropriate dtype instead.\n",
      "  from pandas import MultiIndex, Int64Index\n"
     ]
    }
   ],
   "source": [
    "from polyglot.text import Text\n",
    "\n",
    "import pandas as pd\n",
    "import numpy as np\n",
    "\n",
    "from tqdm import tqdm\n",
    "tqdm.pandas()\n",
    "from pandarallel import pandarallel\n",
    "pandarallel.initialize(nb_workers=7,progress_bar=True)\n",
    "\n",
    "from parallelbar import progress_map\n",
    "\n",
    "from utils import *\n",
    "\n",
    "from nltk import ngrams\n",
    "import nltk\n",
    "\n",
    "import scipy\n",
    "from sklearn.model_selection import cross_validate\n",
    "\n",
    "from sklearn.linear_model import LogisticRegression\n",
    "from sklearn.ensemble import GradientBoostingClassifier, RandomForestClassifier, VotingClassifier\n",
    "import xgboost as xgb\n",
    "\n",
    "from sklearn.metrics import (\n",
    "    accuracy_score, \n",
    "    f1_score, \n",
    "    recall_score,\n",
    "    precision_score,\n",
    "    roc_auc_score, confusion_matrix, roc_curve, classification_report\n",
    ")\n"
   ]
  },
  {
   "cell_type": "markdown",
   "id": "aa0f731d",
   "metadata": {},
   "source": [
    "## POS CZ data"
   ]
  },
  {
   "cell_type": "code",
   "execution_count": 3,
   "id": "e79dbd56",
   "metadata": {},
   "outputs": [],
   "source": [
    "def extract_features_cz(txt):\n",
    "    \n",
    "    doc = Text(txt, hint_language_code='cs')\n",
    "\n",
    "    txt_pos = []\n",
    "    \n",
    "    for token in doc.pos_tags:\n",
    "        if token[1] not in ['SPACE', 'PUNCT']:\n",
    "            txt_pos.append(token[1])            \n",
    "    \n",
    "    return txt_pos"
   ]
  },
  {
   "cell_type": "code",
   "execution_count": 4,
   "id": "3e9ddf29",
   "metadata": {},
   "outputs": [],
   "source": [
    "if False:\n",
    "    df_cz_cz = pd.read_csv('../datasets/demagog_nlp_cz/converted-exp-CZ.tsv', sep='\\t')\n",
    "\n",
    "    df_cz_cz['text_clean'] = df_cz_cz['statementText'].apply(lambda x: clean_przyp(x))\n",
    "\n",
    "    tasks = df_cz_cz['text_clean'].values.tolist()\n",
    "    result = progress_map(extract_features_cz, tasks, n_cpu=7, chunk_size=1, core_progress=True)\n",
    "    \n",
    "    df_cz_cz['TEXT_POS'] = result\n",
    "\n",
    "    df_cz_cz['TEXT_POS'] = df_cz_cz['TEXT_POS'].str.join(\" \")\n",
    "    \n",
    "    df_cz_cz.to_csv('../datasets/ready2use/fake_news_features_cz_CZ.csv', sep=';', index=False, encoding='utf8')\n",
    "else:\n",
    "    df_cz_cz = pd.read_csv('../datasets/ready2use/fake_news_features_cz_CZ.csv', sep=';')"
   ]
  },
  {
   "cell_type": "markdown",
   "id": "6d748a09",
   "metadata": {},
   "source": [
    "### The same code for SK data"
   ]
  },
  {
   "cell_type": "code",
   "execution_count": 5,
   "id": "19861f1c",
   "metadata": {},
   "outputs": [
    {
     "data": {
      "application/vnd.jupyter.widget-view+json": {
       "model_id": "e1a2f7e15a38482eba2a27ae6158d852",
       "version_major": 2,
       "version_minor": 0
      },
      "text/plain": [
       "Core 1:   0%|          | 0/1794 [00:00<?, ?it/s]"
      ]
     },
     "metadata": {},
     "output_type": "display_data"
    },
    {
     "data": {
      "application/vnd.jupyter.widget-view+json": {
       "model_id": "860503074e34401396639cb85cd4134e",
       "version_major": 2,
       "version_minor": 0
      },
      "text/plain": [
       "Core 2:   0%|          | 0/1794 [00:00<?, ?it/s]"
      ]
     },
     "metadata": {},
     "output_type": "display_data"
    },
    {
     "data": {
      "application/vnd.jupyter.widget-view+json": {
       "model_id": "cbc2014d28a14378a32809717136fe2a",
       "version_major": 2,
       "version_minor": 0
      },
      "text/plain": [
       "Core 3:   0%|          | 0/1794 [00:00<?, ?it/s]"
      ]
     },
     "metadata": {},
     "output_type": "display_data"
    },
    {
     "data": {
      "application/vnd.jupyter.widget-view+json": {
       "model_id": "1b2b4add6e74400fa39d6a2a6e002632",
       "version_major": 2,
       "version_minor": 0
      },
      "text/plain": [
       "Core 4:   0%|          | 0/1794 [00:00<?, ?it/s]"
      ]
     },
     "metadata": {},
     "output_type": "display_data"
    },
    {
     "data": {
      "application/vnd.jupyter.widget-view+json": {
       "model_id": "96aaf00bccce456cb8de1920ff1f8fa5",
       "version_major": 2,
       "version_minor": 0
      },
      "text/plain": [
       "Core 5:   0%|          | 0/1794 [00:00<?, ?it/s]"
      ]
     },
     "metadata": {},
     "output_type": "display_data"
    },
    {
     "data": {
      "application/vnd.jupyter.widget-view+json": {
       "model_id": "b99ebdf504f344e0b8f61c3be14f87e1",
       "version_major": 2,
       "version_minor": 0
      },
      "text/plain": [
       "Core 6:   0%|          | 0/1794 [00:00<?, ?it/s]"
      ]
     },
     "metadata": {},
     "output_type": "display_data"
    },
    {
     "data": {
      "application/vnd.jupyter.widget-view+json": {
       "model_id": "af0be039ea6a49a1a5eb2368ff04837e",
       "version_major": 2,
       "version_minor": 0
      },
      "text/plain": [
       "Core 7:   0%|          | 0/1794 [00:00<?, ?it/s]"
      ]
     },
     "metadata": {},
     "output_type": "display_data"
    }
   ],
   "source": [
    "if True:\n",
    "    df_cz_sk = pd.read_csv('../datasets/demagog_nlp_cz/converted-exp-SK.tsv', sep='\\t')\n",
    "\n",
    "    df_cz_sk['text_clean'] = df_cz_sk['statementText'].apply(lambda x: clean_przyp(x))\n",
    "\n",
    "    tasks = df_cz_sk['text_clean'].values.tolist()\n",
    "    result = progress_map(extract_features_cz, tasks, n_cpu=7, chunk_size=1, core_progress=True)\n",
    "    \n",
    "    df_cz_sk['TEXT_POS'] = result\n",
    "\n",
    "    df_cz_sk['TEXT_POS'] = df_cz_sk['TEXT_POS'].str.join(\" \")\n",
    "    \n",
    "    df_cz_sk.to_csv('../datasets/ready2use/fake_news_features_cz_SK.csv', sep=';', index=False, encoding='utf8')\n",
    "else:\n",
    "    df_cz_sk = pd.read_csv('../datasets/ready2use/fake_news_features_cz_SK.csv', sep=';')"
   ]
  },
  {
   "cell_type": "code",
   "execution_count": 6,
   "id": "496cad42",
   "metadata": {},
   "outputs": [
    {
     "data": {
      "text/plain": [
       "(12554, 10)"
      ]
     },
     "execution_count": 6,
     "metadata": {},
     "output_type": "execute_result"
    }
   ],
   "source": [
    "df_cz_sk.shape"
   ]
  },
  {
   "cell_type": "code",
   "execution_count": 7,
   "id": "56816374",
   "metadata": {},
   "outputs": [
    {
     "data": {
      "text/plain": [
       "(9082, 10)"
      ]
     },
     "execution_count": 7,
     "metadata": {},
     "output_type": "execute_result"
    }
   ],
   "source": [
    "df_cz_cz.shape"
   ]
  },
  {
   "cell_type": "code",
   "execution_count": 8,
   "id": "55548faf",
   "metadata": {},
   "outputs": [
    {
     "data": {
      "text/plain": [
       "(25108, 10)"
      ]
     },
     "execution_count": 8,
     "metadata": {},
     "output_type": "execute_result"
    }
   ],
   "source": [
    "df_cz = pd.concat([df_cz_sk, df_cz_sk])\n",
    "df_cz.shape"
   ]
  },
  {
   "cell_type": "code",
   "execution_count": 9,
   "id": "e07bba91",
   "metadata": {},
   "outputs": [],
   "source": [
    "df_cz['statementState'] = df_cz['statementState'].str.strip()\n",
    "\n",
    "df_cz = df_cz[ df_cz['statementState'] != 'MISLEADING' ]\n",
    "df_cz = df_cz[ df_cz['statementState'] != 'UNVERIFIABLE' ]\n",
    "df_cz = df_cz[ df_cz['statementState'] != 'null' ]\n",
    "\n",
    "df_cz = df_cz.reset_index(drop=True)\n",
    "\n",
    "df_cz['assestment'] = df_cz['statementState'].replace({\n",
    "    'FALSE' : 0,\n",
    "#     'Manipulacja' : 1,\n",
    "    'TRUE' : 1\n",
    "}).astype(int)"
   ]
  },
  {
   "cell_type": "code",
   "execution_count": 10,
   "id": "822c3e01",
   "metadata": {},
   "outputs": [
    {
     "data": {
      "text/plain": [
       "1    15974\n",
       "0     3340\n",
       "Name: assestment, dtype: int64"
      ]
     },
     "execution_count": 10,
     "metadata": {},
     "output_type": "execute_result"
    }
   ],
   "source": [
    "df_cz['assestment'].value_counts()"
   ]
  },
  {
   "cell_type": "markdown",
   "id": "ae391d7c",
   "metadata": {},
   "source": [
    "## POS ENG data"
   ]
  },
  {
   "cell_type": "code",
   "execution_count": 11,
   "id": "38c9335e",
   "metadata": {},
   "outputs": [],
   "source": [
    "nlp_core_en = spacy.load(\"en_core_web_lg\")\n",
    "def extract_features_en(txt, nlp_core=nlp_core_en):\n",
    "    \n",
    "    doc = nlp_core(txt)\n",
    "    \n",
    "    txt_pos = []\n",
    "    for token in doc:\n",
    "        if token.pos_ not in ['SPACE', 'PUNCT']:\n",
    "            txt_pos.append(token.pos_)            \n",
    "    \n",
    "    return txt_pos"
   ]
  },
  {
   "cell_type": "code",
   "execution_count": 12,
   "id": "36e300a5",
   "metadata": {},
   "outputs": [
    {
     "data": {
      "application/vnd.jupyter.widget-view+json": {
       "model_id": "b9c91d305691400991e958be988133c8",
       "version_major": 2,
       "version_minor": 0
      },
      "text/plain": [
       "Core 1:   0%|          | 0/2736 [00:00<?, ?it/s]"
      ]
     },
     "metadata": {},
     "output_type": "display_data"
    },
    {
     "data": {
      "application/vnd.jupyter.widget-view+json": {
       "model_id": "ed3b7048b5064beb802e4f85cdba5be1",
       "version_major": 2,
       "version_minor": 0
      },
      "text/plain": [
       "Core 2:   0%|          | 0/2736 [00:00<?, ?it/s]"
      ]
     },
     "metadata": {},
     "output_type": "display_data"
    },
    {
     "data": {
      "application/vnd.jupyter.widget-view+json": {
       "model_id": "7beab9f96f764e418ad7a4bbb9269086",
       "version_major": 2,
       "version_minor": 0
      },
      "text/plain": [
       "Core 3:   0%|          | 0/2736 [00:00<?, ?it/s]"
      ]
     },
     "metadata": {},
     "output_type": "display_data"
    },
    {
     "data": {
      "application/vnd.jupyter.widget-view+json": {
       "model_id": "3a27ab7420b84f6eb6efbed9d19f410c",
       "version_major": 2,
       "version_minor": 0
      },
      "text/plain": [
       "Core 4:   0%|          | 0/2736 [00:00<?, ?it/s]"
      ]
     },
     "metadata": {},
     "output_type": "display_data"
    },
    {
     "data": {
      "application/vnd.jupyter.widget-view+json": {
       "model_id": "5340fd424e4045c09770128fbf0285e9",
       "version_major": 2,
       "version_minor": 0
      },
      "text/plain": [
       "Core 5:   0%|          | 0/2736 [00:00<?, ?it/s]"
      ]
     },
     "metadata": {},
     "output_type": "display_data"
    },
    {
     "data": {
      "application/vnd.jupyter.widget-view+json": {
       "model_id": "360ce0f32c8b4f16856b64ee4061bc07",
       "version_major": 2,
       "version_minor": 0
      },
      "text/plain": [
       "Core 6:   0%|          | 0/2736 [00:00<?, ?it/s]"
      ]
     },
     "metadata": {},
     "output_type": "display_data"
    },
    {
     "data": {
      "application/vnd.jupyter.widget-view+json": {
       "model_id": "4a526ae0a81449819ffeb8a7108faea6",
       "version_major": 2,
       "version_minor": 0
      },
      "text/plain": [
       "Core 7:   0%|          | 0/2736 [00:00<?, ?it/s]"
      ]
     },
     "metadata": {},
     "output_type": "display_data"
    }
   ],
   "source": [
    "df_en = pd.read_csv('../datasets/politifact/politifact.csv', sep=',', index_col=0)\n",
    "\n",
    "df_en.loc[:, 'fact'] = df_en['fact'].replace({\n",
    "    'half-true' : 'true',\n",
    "    'mostly-true' : 'true',\n",
    "    'barely-true' : 'false',\n",
    "    'pants-fire' : 'false',\n",
    "})\n",
    "\n",
    "df_en = df_en[df_en['fact'].isin(['true', 'false'])]\n",
    "\n",
    "df_en = df_en[['sources_quote', 'fact']]\n",
    "df_en.columns  = [\n",
    "    'statement',\n",
    "    'label'\n",
    "]\n",
    "\n",
    "df_en['text_clean'] = df_en['statement'].apply(lambda x: clean_przyp(x))\n",
    "\n",
    "tasks = df_en['text_clean'].values.tolist()\n",
    "result = progress_map(extract_features_en, tasks, n_cpu=7, chunk_size=1, core_progress=True)\n",
    "\n",
    "df_en['TEXT_POS'] = result\n",
    "\n",
    "df_en['TEXT_POS'] = df_en['TEXT_POS'].str.join(\" \")\n",
    "\n",
    "df_en['assestment'] = df_en['label'].replace({\n",
    "    'false' : 0,\n",
    "#     'Manipulacja' : 1,\n",
    "    'true' : 1\n",
    "}).astype(int)"
   ]
  },
  {
   "cell_type": "code",
   "execution_count": 13,
   "id": "6cdd85a4",
   "metadata": {},
   "outputs": [],
   "source": [
    "# df_en = pd.concat(\n",
    "# [\n",
    "#     pd.read_csv('../datasets/liar/train.tsv', sep='\\t', header=None),\n",
    "#     pd.read_csv('../datasets/liar/valid.tsv', sep='\\t', header=None),\n",
    "#     pd.read_csv('../datasets/liar/test.tsv', sep='\\t', header=None)\n",
    "# ]\n",
    "# ).iloc[:,:3]\n",
    "\n",
    "# df_en.columns = [\n",
    "#     'id',\n",
    "#     'label',\n",
    "#     'statement'\n",
    "# ]\n",
    "\n",
    "# df_en.loc[:, 'label'] = df_en['label'].replace({\n",
    "#     'half-true' : 'true',\n",
    "#     'mostly-true' : 'true',\n",
    "#     'barely-true' : 'false',\n",
    "#     'pants-fire' : 'false',\n",
    "# })"
   ]
  },
  {
   "cell_type": "markdown",
   "id": "f78fa60f",
   "metadata": {},
   "source": [
    "## Use EN/CZ data as training"
   ]
  },
  {
   "cell_type": "code",
   "execution_count": 14,
   "id": "d18544a2",
   "metadata": {},
   "outputs": [
    {
     "data": {
      "text/plain": [
       "Index(['statement', 'label', 'text_clean', 'TEXT_POS', 'assestment'], dtype='object')"
      ]
     },
     "execution_count": 14,
     "metadata": {},
     "output_type": "execute_result"
    }
   ],
   "source": [
    "df_en.columns"
   ]
  },
  {
   "cell_type": "code",
   "execution_count": 15,
   "id": "7d3be601",
   "metadata": {},
   "outputs": [
    {
     "data": {
      "text/plain": [
       "Index(['politicianID', 'name', 'party', 'statementID', 'statementText',\n",
       "       'statementState', 'statementExplanClean', 'statementExplan    ',\n",
       "       'text_clean', 'TEXT_POS', 'assestment'],\n",
       "      dtype='object')"
      ]
     },
     "execution_count": 15,
     "metadata": {},
     "output_type": "execute_result"
    }
   ],
   "source": [
    "df_cz.columns"
   ]
  },
  {
   "cell_type": "code",
   "execution_count": 16,
   "id": "83e9c691",
   "metadata": {},
   "outputs": [],
   "source": [
    "df_all = pd.concat([df_en[['assestment', 'TEXT_POS']], df_cz[['assestment', 'TEXT_POS']]])"
   ]
  },
  {
   "cell_type": "code",
   "execution_count": 17,
   "id": "eb7a6115",
   "metadata": {},
   "outputs": [
    {
     "data": {
      "text/plain": [
       "1    25033\n",
       "0    13432\n",
       "Name: assestment, dtype: int64"
      ]
     },
     "execution_count": 17,
     "metadata": {},
     "output_type": "execute_result"
    }
   ],
   "source": [
    "df_all['assestment'].value_counts()"
   ]
  },
  {
   "cell_type": "code",
   "execution_count": 18,
   "id": "dac4ac18",
   "metadata": {},
   "outputs": [],
   "source": [
    "y_train = df_all.copy()['assestment']\n",
    "X_train = df_all.copy()[['TEXT_POS']]"
   ]
  },
  {
   "cell_type": "code",
   "execution_count": 19,
   "id": "a76ff4dc",
   "metadata": {},
   "outputs": [],
   "source": [
    "# y_train = df_cz.copy()['assestment']\n",
    "# X_train = df_cz.copy().loc[:, df_cz.columns != 'assestment']"
   ]
  },
  {
   "cell_type": "code",
   "execution_count": 20,
   "id": "e0a2ca9e",
   "metadata": {},
   "outputs": [],
   "source": [
    "n_grams = 5\n",
    "min_pos = 5 "
   ]
  },
  {
   "cell_type": "code",
   "execution_count": 21,
   "id": "30f9ddf4",
   "metadata": {},
   "outputs": [],
   "source": [
    "X_pos = X_train[['TEXT_POS']].copy()\n",
    "\n",
    "words =  sum(X_pos['TEXT_POS'].str.split(' ').values.tolist(), [])\n",
    "\n",
    "n_list = []\n",
    "for n in range(n_grams):\n",
    "    n_i = pd.Series(nltk.ngrams(words, n+1)).value_counts()\n",
    "    n_i = n_i[n_i>min_pos]\n",
    "    n_list.append(n_i)\n",
    "\n",
    "n_iterator = []\n",
    "for n_i in n_list:\n",
    "    n_iterator += n_i.index.tolist()"
   ]
  },
  {
   "cell_type": "code",
   "execution_count": 22,
   "id": "ce0c6342",
   "metadata": {},
   "outputs": [
    {
     "data": {
      "application/vnd.jupyter.widget-view+json": {
       "model_id": "3e405644802742c79694c23532e946f5",
       "version_major": 2,
       "version_minor": 0
      },
      "text/plain": [
       "Core 1:   0%|          | 0/3911 [00:00<?, ?it/s]"
      ]
     },
     "metadata": {},
     "output_type": "display_data"
    },
    {
     "data": {
      "application/vnd.jupyter.widget-view+json": {
       "model_id": "ddd66f8e3f2a408da1767311546d09df",
       "version_major": 2,
       "version_minor": 0
      },
      "text/plain": [
       "Core 2:   0%|          | 0/3911 [00:00<?, ?it/s]"
      ]
     },
     "metadata": {},
     "output_type": "display_data"
    },
    {
     "data": {
      "application/vnd.jupyter.widget-view+json": {
       "model_id": "dd37d30a5d61484d9e4aff29e37975fa",
       "version_major": 2,
       "version_minor": 0
      },
      "text/plain": [
       "Core 3:   0%|          | 0/3911 [00:00<?, ?it/s]"
      ]
     },
     "metadata": {},
     "output_type": "display_data"
    },
    {
     "data": {
      "application/vnd.jupyter.widget-view+json": {
       "model_id": "bee526afb6674ae59947543ec7535df4",
       "version_major": 2,
       "version_minor": 0
      },
      "text/plain": [
       "Core 4:   0%|          | 0/3911 [00:00<?, ?it/s]"
      ]
     },
     "metadata": {},
     "output_type": "display_data"
    },
    {
     "data": {
      "application/vnd.jupyter.widget-view+json": {
       "model_id": "6eb7df350945414fac84654a384146fc",
       "version_major": 2,
       "version_minor": 0
      },
      "text/plain": [
       "Core 5:   0%|          | 0/3911 [00:00<?, ?it/s]"
      ]
     },
     "metadata": {},
     "output_type": "display_data"
    },
    {
     "data": {
      "application/vnd.jupyter.widget-view+json": {
       "model_id": "731987272d8c478dad0c91c1a830cc73",
       "version_major": 2,
       "version_minor": 0
      },
      "text/plain": [
       "Core 6:   0%|          | 0/3911 [00:00<?, ?it/s]"
      ]
     },
     "metadata": {},
     "output_type": "display_data"
    },
    {
     "data": {
      "application/vnd.jupyter.widget-view+json": {
       "model_id": "7f0e300063c24058a8969605de020006",
       "version_major": 2,
       "version_minor": 0
      },
      "text/plain": [
       "Core 7:   0%|          | 0/3911 [00:00<?, ?it/s]"
      ]
     },
     "metadata": {},
     "output_type": "display_data"
    }
   ],
   "source": [
    "def get_pos_features_para(n):\n",
    "    x = X_pos['TEXT_POS'].str.count(' '.join(n)) / X_pos['TEXT_POS'].str.split(' ').str.len()\n",
    "    min_v = x.min()\n",
    "    max_v = x.max()\n",
    "\n",
    "    if min_v < max_v:\n",
    "        r = scipy.stats.pearsonr(x, y_train)[0]\n",
    "        if ~np.isnan(r) and np.abs(r) > 0.01: \n",
    "            return x\n",
    "    \n",
    "    return None\n",
    "\n",
    "result = progress_map(get_pos_features_para, n_iterator, n_cpu=7, chunk_size=1, core_progress=True)"
   ]
  },
  {
   "cell_type": "code",
   "execution_count": 23,
   "id": "6a607adf",
   "metadata": {},
   "outputs": [
    {
     "name": "stderr",
     "output_type": "stream",
     "text": [
      "27373it [00:00, 624639.88it/s]\n"
     ]
    }
   ],
   "source": [
    "col = {}\n",
    "    \n",
    "for x, n in tqdm(zip(result, n_iterator)):\n",
    "    if x is not None:\n",
    "        col[' '.join(n)] = x\n",
    "        col[' '.join(n)].name = ' '.join(n)"
   ]
  },
  {
   "cell_type": "code",
   "execution_count": 24,
   "id": "ff0e529c",
   "metadata": {},
   "outputs": [],
   "source": [
    "X_pos = pd.concat( [X_pos] + list( col.values() ), axis=1 ).drop('TEXT_POS', axis=1)"
   ]
  },
  {
   "cell_type": "code",
   "execution_count": 25,
   "id": "8acfd112",
   "metadata": {},
   "outputs": [],
   "source": [
    "out_pos = X_pos.join(y_train)"
   ]
  },
  {
   "cell_type": "code",
   "execution_count": 26,
   "id": "b60dc8a8",
   "metadata": {},
   "outputs": [],
   "source": [
    "# out_pos.to_csv('../datasets/ready2use/pos_en_cz_train_dataset.csv',  \n",
    "#                chunksize=100000,\n",
    "#                compression='gzip',\n",
    "#                sep=';', index=False, encoding='utf8')"
   ]
  },
  {
   "cell_type": "code",
   "execution_count": 31,
   "id": "ad183ed2",
   "metadata": {},
   "outputs": [],
   "source": [
    "# out_pos.to_hdf(r'../datasets/ready2use/pos_en_cz_train.h5', key='stage', mode='w')"
   ]
  },
  {
   "cell_type": "code",
   "execution_count": 29,
   "id": "0285d758",
   "metadata": {},
   "outputs": [],
   "source": [
    "# np.savetxt('../datasets/ready2use/pos_en_cz_train_header.csv', out_pos.columns.values, delimiter=\";\", fmt=\"%s\")\n",
    "# np.savetxt('../datasets/ready2use/pos_en_cz_train_data.csv', out_pos.values, delimiter=\";\")"
   ]
  },
  {
   "cell_type": "markdown",
   "id": "d9be5ecf",
   "metadata": {},
   "source": [
    "### Read training data"
   ]
  },
  {
   "cell_type": "code",
   "execution_count": null,
   "id": "ebe046b5",
   "metadata": {},
   "outputs": [],
   "source": [
    "# X_pos = pd.read_hdf('../datasets/ready2use/pos_en_cz_train.h5', key='stage', mode='r')\n",
    "# y_train = X_pos['assestment']\n",
    "# X_pos = X_pos.drop('assestment', axis=1)"
   ]
  },
  {
   "cell_type": "code",
   "execution_count": 95,
   "id": "853964b7",
   "metadata": {},
   "outputs": [
    {
     "name": "stderr",
     "output_type": "stream",
     "text": [
      "100%|█████████████████████████████████████| 9219/9219 [00:07<00:00, 1212.12it/s]\n"
     ]
    },
    {
     "data": {
      "text/plain": [
       "87"
      ]
     },
     "execution_count": 95,
     "metadata": {},
     "output_type": "execute_result"
    }
   ],
   "source": [
    "col_keep = []\n",
    "for c in tqdm(X_pos.columns):\n",
    "    min_v = X_pos[c].values.min()\n",
    "    max_v = X_pos[c].values.max()\n",
    "\n",
    "    if min_v < max_v:\n",
    "        r = scipy.stats.pearsonr(X_pos[c].values, y_train)[0]\n",
    "        if ~np.isnan(r) and np.abs(r) > 0.1:\n",
    "            col_keep.append(c)\n",
    "            \n",
    "len(col_keep)"
   ]
  },
  {
   "cell_type": "markdown",
   "id": "3ff3be07",
   "metadata": {},
   "source": [
    "### Load test data"
   ]
  },
  {
   "cell_type": "code",
   "execution_count": 85,
   "id": "80b89e59",
   "metadata": {},
   "outputs": [],
   "source": [
    "y_train.reset_index(drop=True, inplace=True)\n",
    "X_pos.reset_index(drop=True, inplace=True)"
   ]
  },
  {
   "cell_type": "code",
   "execution_count": 32,
   "id": "294a6372",
   "metadata": {},
   "outputs": [],
   "source": [
    "X_test = pd.read_csv('../datasets/ready2use/pos_pl_dataset.csv', sep=';')\n",
    "y_test = X_test['assestment']\n",
    "X_test = X_test.drop('assestment', axis=1)"
   ]
  },
  {
   "cell_type": "markdown",
   "id": "1f0d5fe4",
   "metadata": {},
   "source": [
    "### Keep cols"
   ]
  },
  {
   "cell_type": "code",
   "execution_count": 96,
   "id": "2f850253",
   "metadata": {},
   "outputs": [
    {
     "data": {
      "text/plain": [
       "(69,)"
      ]
     },
     "execution_count": 96,
     "metadata": {},
     "output_type": "execute_result"
    }
   ],
   "source": [
    "col_keep_test = np.array(col_keep)[np.isin(col_keep, X_test.columns.values)]\n",
    "col_keep_test.shape"
   ]
  },
  {
   "cell_type": "code",
   "execution_count": 97,
   "id": "7cb4cd1b",
   "metadata": {},
   "outputs": [],
   "source": [
    "n_lower = y_train.value_counts().min()\n",
    "n_upper = y_train.value_counts().max()\n",
    "\n",
    "np.random.seed(111)\n",
    "\n",
    "# undersampling    \n",
    "index_0 = np.random.choice(y_train[y_train==0].index, n_lower, replace=False)\n",
    "index_1 = np.random.choice(y_train[y_train==1].index, n_lower, replace=False)\n",
    "\n",
    "y_train_u = y_train.iloc[ index_0.tolist()+index_1.tolist() ].sort_index()\n",
    "\n",
    "X_pos_u = X_pos.iloc[ index_0.tolist()+index_1.tolist() ].sort_index()"
   ]
  },
  {
   "cell_type": "code",
   "execution_count": 117,
   "id": "0a4d0fdf",
   "metadata": {},
   "outputs": [
    {
     "data": {
      "text/plain": [
       "1    25033\n",
       "0    13432\n",
       "Name: assestment, dtype: int64"
      ]
     },
     "execution_count": 117,
     "metadata": {},
     "output_type": "execute_result"
    }
   ],
   "source": [
    "y_train.value_counts()"
   ]
  },
  {
   "cell_type": "code",
   "execution_count": 129,
   "id": "fd8e8f6c",
   "metadata": {},
   "outputs": [],
   "source": [
    "class_weight = {\n",
    "    1 : 1,\n",
    "    0 : 1 # n_upper/n_lower\n",
    "}"
   ]
  },
  {
   "cell_type": "code",
   "execution_count": 130,
   "id": "70aa07b2",
   "metadata": {},
   "outputs": [
    {
     "name": "stdout",
     "output_type": "stream",
     "text": [
      "log_regC1 Accuracy 0.588 Precision 0.689 Recall 0.678 F1 Score 0.600\n",
      "rand_frst Accuracy 0.557 Precision 0.664 Recall 0.660 F1 Score 0.568\n"
     ]
    }
   ],
   "source": [
    "import warnings\n",
    "warnings.filterwarnings(\"ignore\")\n",
    "\n",
    "scoring = ['accuracy', \n",
    "           'precision', 'recall', \n",
    "           'f1']\n",
    "\n",
    "clf_lr = LogisticRegression(max_iter=5000, C=1, penalty='l2', solver='liblinear', \n",
    "                            class_weight=class_weight)\n",
    "clf_gb = GradientBoostingClassifier(n_estimators=100, learning_rate=1.0, max_depth=3, random_state=111)\n",
    "clf_rf = RandomForestClassifier(n_estimators=100, max_depth=3, random_state=111)\n",
    "clf_xgb = xgb.XGBClassifier(objective='binary:logistic', verbosity=0, silent=True)\n",
    "\n",
    "for c, n in zip(\n",
    "    [clf_lr, \n",
    "#      clf_gb, \n",
    "     clf_rf, \n",
    "#      clf_xgb, \n",
    "    ], \n",
    "    ['log_regC1', \n",
    "#      'grd_boost', \n",
    "     'rand_frst', \n",
    "#      'xgboost  ', \n",
    "    ]\n",
    "):\n",
    "    results = cross_validate(estimator=c,\n",
    "                           X=X_pos[col_keep_test],\n",
    "                           y=y_train,\n",
    "                           cv=5,\n",
    "                           scoring=scoring,\n",
    "                           return_train_score=True)\n",
    "    print(\n",
    "        n,\n",
    "        f'Accuracy {results[\"test_accuracy\"].mean():.3f}',\n",
    "        f'Precision {results[\"test_precision\"].mean():.3f}',\n",
    "        f'Recall {results[\"test_recall\"].mean():.3f}',\n",
    "        f'F1 Score {results[\"test_f1\"].mean():.3f}',\n",
    "    )"
   ]
  },
  {
   "cell_type": "code",
   "execution_count": 131,
   "id": "abf8b5fb",
   "metadata": {},
   "outputs": [],
   "source": [
    "# clf_v = VotingClassifier(estimators=[\n",
    "#     ('lr', clf_lr), \n",
    "#     ('gb', clf_gb), \n",
    "#     ('rf', clf_rf), \n",
    "# #     ('xgb', clf_xgb)\n",
    "# ], voting='hard')\n",
    "\n",
    "# results = cross_validate(estimator=clf_v,\n",
    "#                        X=X_pos[col_keep_test],\n",
    "#                        y=y_train,\n",
    "#                        cv=5,\n",
    "#                        scoring=scoring,\n",
    "#                        return_train_score=True)\n",
    "# print(\n",
    "#     'voting  ',\n",
    "#     f'Accuracy {results[\"test_accuracy\"].mean():.3f}',\n",
    "#     f'Precision {results[\"test_precision\"].mean():.3f}',\n",
    "#     f'Recall {results[\"test_recall\"].mean():.3f}',\n",
    "#     f'F1 Score {results[\"test_f1\"].mean():.3f}',\n",
    "# )"
   ]
  },
  {
   "cell_type": "code",
   "execution_count": 132,
   "id": "d56f2226",
   "metadata": {},
   "outputs": [],
   "source": [
    "clf_out = clf_lr"
   ]
  },
  {
   "cell_type": "markdown",
   "id": "7b062f86",
   "metadata": {},
   "source": [
    "## Test on PL data"
   ]
  },
  {
   "cell_type": "markdown",
   "id": "6bc0004e",
   "metadata": {},
   "source": [
    "### train -> test"
   ]
  },
  {
   "cell_type": "code",
   "execution_count": 133,
   "id": "7bba0302",
   "metadata": {},
   "outputs": [
    {
     "data": {
      "text/html": [
       "<style>#sk-container-id-9 {color: black;background-color: white;}#sk-container-id-9 pre{padding: 0;}#sk-container-id-9 div.sk-toggleable {background-color: white;}#sk-container-id-9 label.sk-toggleable__label {cursor: pointer;display: block;width: 100%;margin-bottom: 0;padding: 0.3em;box-sizing: border-box;text-align: center;}#sk-container-id-9 label.sk-toggleable__label-arrow:before {content: \"▸\";float: left;margin-right: 0.25em;color: #696969;}#sk-container-id-9 label.sk-toggleable__label-arrow:hover:before {color: black;}#sk-container-id-9 div.sk-estimator:hover label.sk-toggleable__label-arrow:before {color: black;}#sk-container-id-9 div.sk-toggleable__content {max-height: 0;max-width: 0;overflow: hidden;text-align: left;background-color: #f0f8ff;}#sk-container-id-9 div.sk-toggleable__content pre {margin: 0.2em;color: black;border-radius: 0.25em;background-color: #f0f8ff;}#sk-container-id-9 input.sk-toggleable__control:checked~div.sk-toggleable__content {max-height: 200px;max-width: 100%;overflow: auto;}#sk-container-id-9 input.sk-toggleable__control:checked~label.sk-toggleable__label-arrow:before {content: \"▾\";}#sk-container-id-9 div.sk-estimator input.sk-toggleable__control:checked~label.sk-toggleable__label {background-color: #d4ebff;}#sk-container-id-9 div.sk-label input.sk-toggleable__control:checked~label.sk-toggleable__label {background-color: #d4ebff;}#sk-container-id-9 input.sk-hidden--visually {border: 0;clip: rect(1px 1px 1px 1px);clip: rect(1px, 1px, 1px, 1px);height: 1px;margin: -1px;overflow: hidden;padding: 0;position: absolute;width: 1px;}#sk-container-id-9 div.sk-estimator {font-family: monospace;background-color: #f0f8ff;border: 1px dotted black;border-radius: 0.25em;box-sizing: border-box;margin-bottom: 0.5em;}#sk-container-id-9 div.sk-estimator:hover {background-color: #d4ebff;}#sk-container-id-9 div.sk-parallel-item::after {content: \"\";width: 100%;border-bottom: 1px solid gray;flex-grow: 1;}#sk-container-id-9 div.sk-label:hover label.sk-toggleable__label {background-color: #d4ebff;}#sk-container-id-9 div.sk-serial::before {content: \"\";position: absolute;border-left: 1px solid gray;box-sizing: border-box;top: 0;bottom: 0;left: 50%;z-index: 0;}#sk-container-id-9 div.sk-serial {display: flex;flex-direction: column;align-items: center;background-color: white;padding-right: 0.2em;padding-left: 0.2em;position: relative;}#sk-container-id-9 div.sk-item {position: relative;z-index: 1;}#sk-container-id-9 div.sk-parallel {display: flex;align-items: stretch;justify-content: center;background-color: white;position: relative;}#sk-container-id-9 div.sk-item::before, #sk-container-id-9 div.sk-parallel-item::before {content: \"\";position: absolute;border-left: 1px solid gray;box-sizing: border-box;top: 0;bottom: 0;left: 50%;z-index: -1;}#sk-container-id-9 div.sk-parallel-item {display: flex;flex-direction: column;z-index: 1;position: relative;background-color: white;}#sk-container-id-9 div.sk-parallel-item:first-child::after {align-self: flex-end;width: 50%;}#sk-container-id-9 div.sk-parallel-item:last-child::after {align-self: flex-start;width: 50%;}#sk-container-id-9 div.sk-parallel-item:only-child::after {width: 0;}#sk-container-id-9 div.sk-dashed-wrapped {border: 1px dashed gray;margin: 0 0.4em 0.5em 0.4em;box-sizing: border-box;padding-bottom: 0.4em;background-color: white;}#sk-container-id-9 div.sk-label label {font-family: monospace;font-weight: bold;display: inline-block;line-height: 1.2em;}#sk-container-id-9 div.sk-label-container {text-align: center;}#sk-container-id-9 div.sk-container {/* jupyter's `normalize.less` sets `[hidden] { display: none; }` but bootstrap.min.css set `[hidden] { display: none !important; }` so we also need the `!important` here to be able to override the default hidden behavior on the sphinx rendered scikit-learn.org. See: https://github.com/scikit-learn/scikit-learn/issues/21755 */display: inline-block !important;position: relative;}#sk-container-id-9 div.sk-text-repr-fallback {display: none;}</style><div id=\"sk-container-id-9\" class=\"sk-top-container\"><div class=\"sk-text-repr-fallback\"><pre>LogisticRegression(C=1, class_weight={0: 1, 1: 1}, max_iter=5000,\n",
       "                   solver=&#x27;liblinear&#x27;)</pre><b>In a Jupyter environment, please rerun this cell to show the HTML representation or trust the notebook. <br />On GitHub, the HTML representation is unable to render, please try loading this page with nbviewer.org.</b></div><div class=\"sk-container\" hidden><div class=\"sk-item\"><div class=\"sk-estimator sk-toggleable\"><input class=\"sk-toggleable__control sk-hidden--visually\" id=\"sk-estimator-id-9\" type=\"checkbox\" checked><label for=\"sk-estimator-id-9\" class=\"sk-toggleable__label sk-toggleable__label-arrow\">LogisticRegression</label><div class=\"sk-toggleable__content\"><pre>LogisticRegression(C=1, class_weight={0: 1, 1: 1}, max_iter=5000,\n",
       "                   solver=&#x27;liblinear&#x27;)</pre></div></div></div></div></div>"
      ],
      "text/plain": [
       "LogisticRegression(C=1, class_weight={0: 1, 1: 1}, max_iter=5000,\n",
       "                   solver='liblinear')"
      ]
     },
     "execution_count": 133,
     "metadata": {},
     "output_type": "execute_result"
    }
   ],
   "source": [
    "clf_out.fit(X_pos[col_keep_test], y_train)"
   ]
  },
  {
   "cell_type": "code",
   "execution_count": 134,
   "id": "e75cf311",
   "metadata": {},
   "outputs": [],
   "source": [
    "# scores = clf_lr.predict_proba(X_pos[col_keep_test])[:,1]\n",
    "# fpr, tpr, thresholds = roc_curve(y_train, scores)\n",
    "\n",
    "# import matplotlib.pyplot as plt\n",
    "# plt.title('Receiver Operating Characteristic')\n",
    "# plt.plot(fpr, tpr, 'b')\n",
    "# plt.legend(loc = 'lower right')\n",
    "# plt.plot([0, 1], [0, 1],'r--')\n",
    "# plt.xlim([0, 1])\n",
    "# plt.ylim([0, 1])\n",
    "# plt.ylabel('True Positive Rate')\n",
    "# plt.xlabel('False Positive Rate')\n",
    "# plt.show()"
   ]
  },
  {
   "cell_type": "code",
   "execution_count": 135,
   "id": "df1c52a1",
   "metadata": {},
   "outputs": [],
   "source": [
    "# y_pred_lr = clf_lr.predict(X_test[col_keep_test])\n",
    "# y_pred_gb = clf_gb.predict(X_test[col_keep_test])\n",
    "# y_pred_rf = clf_rf.predict(X_test[col_keep_test])\n",
    "\n",
    "# y_pred = []\n",
    "# for y1, y2, y3 in zip(y_pred_lr, y_pred_gb, y_pred_rf):\n",
    "#     if y1+y2+y3 > 1:\n",
    "#         y_pred.append(1)\n",
    "#     else:\n",
    "#         y_pred.append(0)\n",
    "\n",
    "y_pred = clf_out.predict(X_test[col_keep_test])"
   ]
  },
  {
   "cell_type": "code",
   "execution_count": 136,
   "id": "a5968494",
   "metadata": {},
   "outputs": [
    {
     "data": {
      "text/plain": [
       "array([[ 326, 3112],\n",
       "       [ 184, 2919]])"
      ]
     },
     "execution_count": 136,
     "metadata": {},
     "output_type": "execute_result"
    }
   ],
   "source": [
    "confusion_matrix(y_test, y_pred)"
   ]
  },
  {
   "cell_type": "code",
   "execution_count": 137,
   "id": "e4288054",
   "metadata": {},
   "outputs": [
    {
     "name": "stdout",
     "output_type": "stream",
     "text": [
      "rand_frst \n",
      "\t Accuracy  0.496\n",
      "\t Precision 0.484\n",
      "\t Recall    0.941\n",
      "\t F1 Score  0.639\n",
      "\t\n"
     ]
    }
   ],
   "source": [
    "print(\n",
    "    n, '\\n\\t',\n",
    "    f'Accuracy  {accuracy_score(y_test, y_pred):.3f}\\n\\t',\n",
    "    f'Precision {precision_score(y_test, y_pred):.3f}\\n\\t',\n",
    "    f'Recall    {recall_score(y_test, y_pred):.3f}\\n\\t',\n",
    "    f'F1 Score  {f1_score(y_test, y_pred):.3f}\\n\\t',\n",
    ")"
   ]
  },
  {
   "cell_type": "code",
   "execution_count": null,
   "id": "b2c1d7b4",
   "metadata": {},
   "outputs": [],
   "source": []
  },
  {
   "cell_type": "code",
   "execution_count": null,
   "id": "922fd332",
   "metadata": {},
   "outputs": [],
   "source": []
  }
 ],
 "metadata": {
  "kernelspec": {
   "display_name": "Python 3 (ipykernel)",
   "language": "python",
   "name": "python3"
  },
  "language_info": {
   "codemirror_mode": {
    "name": "ipython",
    "version": 3
   },
   "file_extension": ".py",
   "mimetype": "text/x-python",
   "name": "python",
   "nbconvert_exporter": "python",
   "pygments_lexer": "ipython3",
   "version": "3.9.13"
  }
 },
 "nbformat": 4,
 "nbformat_minor": 5
}
