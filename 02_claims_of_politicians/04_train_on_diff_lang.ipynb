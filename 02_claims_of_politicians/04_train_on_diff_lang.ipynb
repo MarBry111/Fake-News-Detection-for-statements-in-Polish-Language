{
 "cells": [
  {
   "cell_type": "code",
   "execution_count": 5,
   "id": "da28bcbf",
   "metadata": {},
   "outputs": [
    {
     "name": "stdout",
     "output_type": "stream",
     "text": [
      "INFO: Pandarallel will run on 7 workers.\n",
      "INFO: Pandarallel will use Memory file system to transfer data between the main process and workers.\n"
     ]
    }
   ],
   "source": [
    "from polyglot.text import Text\n",
    "\n",
    "import pandas as pd\n",
    "import numpy as np\n",
    "\n",
    "from tqdm import tqdm\n",
    "tqdm.pandas()\n",
    "from pandarallel import pandarallel\n",
    "pandarallel.initialize(nb_workers=7,progress_bar=True)\n",
    "\n",
    "from parallelbar import progress_map\n",
    "\n",
    "from utils import *\n",
    "\n",
    "r = RDRPOSTagger()\n",
    "\n",
    "# Load the POS tagging model for French\n",
    "\n",
    "r.constructSCRDRtreeFromRDRfile(\"../Models/POS/French.RDR\")\n",
    "\n",
    "# Load the lexicon for French\n",
    "\n",
    "DICT = readDictionary(\"../Models/POS/French.DICT\")\n",
    "\n",
    "# Tag a tokenized/word-segmented sentence\n",
    "\n",
    "r.tagRawSentence(DICT, \"Cette annonce a fait l' effet d' une véritable bombe .\") "
   ]
  },
  {
   "cell_type": "markdown",
   "id": "a328eb98",
   "metadata": {},
   "source": [
    "## Prepear POS CZ data"
   ]
  },
  {
   "cell_type": "code",
   "execution_count": 2,
   "id": "70e73c39",
   "metadata": {},
   "outputs": [],
   "source": [
    "def extract_features_cz(txt):\n",
    "    \n",
    "    doc = Text(txt, hint_language_code='cs')\n",
    "\n",
    "    txt_pos = []\n",
    "    \n",
    "    for token in doc.pos_tags:\n",
    "        if token[1] not in ['SPACE', 'PUNCT']:\n",
    "            txt_pos.append(token[1])            \n",
    "    \n",
    "    return txt_pos"
   ]
  },
  {
   "cell_type": "code",
   "execution_count": 6,
   "id": "50eef101",
   "metadata": {},
   "outputs": [
    {
     "data": {
      "application/vnd.jupyter.widget-view+json": {
       "model_id": "53e12ac6c12f44bfad195e48de180c69",
       "version_major": 2,
       "version_minor": 0
      },
      "text/plain": [
       "Core 1:   0%|          | 0/1298 [00:00<?, ?it/s]"
      ]
     },
     "metadata": {},
     "output_type": "display_data"
    },
    {
     "data": {
      "application/vnd.jupyter.widget-view+json": {
       "model_id": "a608c37f507a4deb857861bae7455ca4",
       "version_major": 2,
       "version_minor": 0
      },
      "text/plain": [
       "Core 2:   0%|          | 0/1298 [00:00<?, ?it/s]"
      ]
     },
     "metadata": {},
     "output_type": "display_data"
    },
    {
     "data": {
      "application/vnd.jupyter.widget-view+json": {
       "model_id": "557754d452c24ddeb33ece6de57c06bc",
       "version_major": 2,
       "version_minor": 0
      },
      "text/plain": [
       "Core 3:   0%|          | 0/1298 [00:00<?, ?it/s]"
      ]
     },
     "metadata": {},
     "output_type": "display_data"
    },
    {
     "data": {
      "application/vnd.jupyter.widget-view+json": {
       "model_id": "d9b7471752514a7a841ff49e2641dc8c",
       "version_major": 2,
       "version_minor": 0
      },
      "text/plain": [
       "Core 4:   0%|          | 0/1298 [00:00<?, ?it/s]"
      ]
     },
     "metadata": {},
     "output_type": "display_data"
    },
    {
     "data": {
      "application/vnd.jupyter.widget-view+json": {
       "model_id": "1a67b4bbd4eb492b9e9b32cc08f4ce47",
       "version_major": 2,
       "version_minor": 0
      },
      "text/plain": [
       "Core 5:   0%|          | 0/1298 [00:00<?, ?it/s]"
      ]
     },
     "metadata": {},
     "output_type": "display_data"
    },
    {
     "data": {
      "application/vnd.jupyter.widget-view+json": {
       "model_id": "4bf61557920446d5baac2134661177a7",
       "version_major": 2,
       "version_minor": 0
      },
      "text/plain": [
       "Core 6:   0%|          | 0/1298 [00:00<?, ?it/s]"
      ]
     },
     "metadata": {},
     "output_type": "display_data"
    },
    {
     "data": {
      "application/vnd.jupyter.widget-view+json": {
       "model_id": "49c0b236dc144078a25a3ba355c70aed",
       "version_major": 2,
       "version_minor": 0
      },
      "text/plain": [
       "Core 7:   0%|          | 0/1298 [00:00<?, ?it/s]"
      ]
     },
     "metadata": {},
     "output_type": "display_data"
    }
   ],
   "source": [
    "df_cz_cz = pd.read_csv('../datasets/demagog_nlp_cz/converted-exp-CZ.tsv', sep='\\t')\n",
    "\n",
    "df_cz_cz['text_clean'] = df_cz_cz['statementText'].apply(lambda x: clean_przyp(x))\n",
    "\n",
    "tasks = df_cz_cz['text_clean'].values.tolist()\n",
    "result = progress_map(extract_features_cz, tasks, n_cpu=7, chunk_size=1, core_progress=True)"
   ]
  },
  {
   "cell_type": "code",
   "execution_count": 7,
   "id": "1896cd2a",
   "metadata": {},
   "outputs": [],
   "source": [
    "df_cz_cz['TEXT_POS'] = result\n",
    "\n",
    "df_cz_cz['TEXT_POS'] = df_cz_cz['TEXT_POS'].str.join(\" \")"
   ]
  },
  {
   "cell_type": "code",
   "execution_count": 8,
   "id": "8043fad9",
   "metadata": {},
   "outputs": [
    {
     "data": {
      "text/plain": [
       "0       PROPN PROPN PROPN PROPN NOUN PROPN NOUN ADP PR...\n",
       "1       PROPN PROPN PROPN ADV PROPN PROPN CONJ PROPN P...\n",
       "2       PROPN PRON NOUN PROPN PROPN PROPN PROPN PROPN ...\n",
       "3       PROPN PROPN PROPN PROPN PRON PRON PROPN PROPN ...\n",
       "4       PART ADV PROPN ADP PROPN PROPN PROPN PROPN PRO...\n",
       "                              ...                        \n",
       "9077                           PRON PROPN PROPN ADP PROPN\n",
       "9078    PROPN PRON PROPN CONJ NOUN PROPN PROPN NOUN PR...\n",
       "9079    PRON PROPN PROPN PRON PRON PROPN ADP NOUN NOUN...\n",
       "9080    PROPN PRON PROPN ADJ NOUN PROPN ADJ NOUN ADP N...\n",
       "9081    PROPN DET ADJ NOUN PROPN CONJ ADJ NOUN ADJ NUM...\n",
       "Name: TEXT_POS, Length: 9082, dtype: object"
      ]
     },
     "execution_count": 8,
     "metadata": {},
     "output_type": "execute_result"
    }
   ],
   "source": [
    "df_cz_cz['TEXT_POS']"
   ]
  },
  {
   "cell_type": "code",
   "execution_count": 9,
   "id": "bec9ff8c",
   "metadata": {},
   "outputs": [],
   "source": [
    "df_cz_cz.to_csv('../datasets/ready2use/fake_news_features_cz_CZ.csv', sep=';', index=False, encoding='utf8')"
   ]
  },
  {
   "cell_type": "code",
   "execution_count": 11,
   "id": "6e059277",
   "metadata": {},
   "outputs": [
    {
     "data": {
      "text/plain": [
       "(9082, 10)"
      ]
     },
     "execution_count": 11,
     "metadata": {},
     "output_type": "execute_result"
    }
   ],
   "source": [
    "df_cz_cz.shape"
   ]
  },
  {
   "cell_type": "markdown",
   "id": "3a25d7d4",
   "metadata": {},
   "source": [
    "## Use CZ data as training"
   ]
  },
  {
   "cell_type": "code",
   "execution_count": 18,
   "id": "1ec7d268",
   "metadata": {},
   "outputs": [
    {
     "data": {
      "text/plain": [
       "array(['TRUE', 'UNVERIFIABLE', 'FALSE', 'MISLEADING', 'null'],\n",
       "      dtype=object)"
      ]
     },
     "execution_count": 18,
     "metadata": {},
     "output_type": "execute_result"
    }
   ],
   "source": [
    "df['statementState'].unique()"
   ]
  },
  {
   "cell_type": "code",
   "execution_count": 19,
   "id": "fb51d1d8",
   "metadata": {},
   "outputs": [],
   "source": [
    "df_cz_cz['statementState'] = df_cz_cz['statementState'].str.strip()\n",
    "\n",
    "df_cz_cz = df_cz_cz[ df_cz_cz['statementState'] != 'MISLEADING' ]\n",
    "df_cz_cz = df_cz_cz[ df_cz_cz['statementState'] != 'UNVERIFIABLE' ]\n",
    "df_cz_cz = df_cz_cz[ df_cz_cz['statementState'] != 'null' ]\n",
    "\n",
    "df = df_cz_cz.reset_index(drop=True)\n",
    "\n",
    "df['assestment'] = df['statementState'].replace({\n",
    "    'FALSE' : 0,\n",
    "#     'Manipulacja' : 1,\n",
    "    'TRUE' : 1\n",
    "}).astype(int)\n",
    "\n",
    "y_train = df.copy()['assestment']\n",
    "X_train = df.copy().loc[:, df.columns != 'assestment']"
   ]
  },
  {
   "cell_type": "code",
   "execution_count": 22,
   "id": "16357055",
   "metadata": {},
   "outputs": [
    {
     "data": {
      "text/plain": [
       "1    5669\n",
       "0    1222\n",
       "Name: assestment, dtype: int64"
      ]
     },
     "execution_count": 22,
     "metadata": {},
     "output_type": "execute_result"
    }
   ],
   "source": [
    "y_train.value_counts()"
   ]
  },
  {
   "cell_type": "code",
   "execution_count": null,
   "id": "121a2814",
   "metadata": {},
   "outputs": [],
   "source": []
  }
 ],
 "metadata": {
  "kernelspec": {
   "display_name": "Python 3 (ipykernel)",
   "language": "python",
   "name": "python3"
  },
  "language_info": {
   "codemirror_mode": {
    "name": "ipython",
    "version": 3
   },
   "file_extension": ".py",
   "mimetype": "text/x-python",
   "name": "python",
   "nbconvert_exporter": "python",
   "pygments_lexer": "ipython3",
   "version": "3.9.13"
  }
 },
 "nbformat": 4,
 "nbformat_minor": 5
}
