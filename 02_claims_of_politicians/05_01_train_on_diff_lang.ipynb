{
 "cells": [
  {
   "cell_type": "code",
   "execution_count": 1,
   "id": "60e0531d",
   "metadata": {},
   "outputs": [
    {
     "name": "stdout",
     "output_type": "stream",
     "text": [
      "INFO: Pandarallel will run on 7 workers.\n",
      "INFO: Pandarallel will use Memory file system to transfer data between the main process and workers.\n"
     ]
    },
    {
     "name": "stderr",
     "output_type": "stream",
     "text": [
      "/home/marek/anaconda3/envs/nlp/lib/python3.9/site-packages/huggingface_hub/snapshot_download.py:6: FutureWarning: snapshot_download.py has been made private and will no longer be available from version 0.11. Please use `from huggingface_hub import snapshot_download` to import the only public function in this module. Other members of the file may be changed without a deprecation notice.\n",
      "  warnings.warn(\n"
     ]
    }
   ],
   "source": [
    "from polyglot.text import Text\n",
    "\n",
    "import pandas as pd\n",
    "import numpy as np\n",
    "\n",
    "from tqdm import tqdm\n",
    "tqdm.pandas()\n",
    "from pandarallel import pandarallel\n",
    "pandarallel.initialize(nb_workers=7,progress_bar=True)\n",
    "\n",
    "from parallelbar import progress_map\n",
    "\n",
    "from utils import *\n",
    "\n",
    "from nltk import ngrams\n",
    "import nltk\n",
    "\n",
    "import scipy\n",
    "from sklearn.model_selection import cross_validate\n",
    "\n",
    "from sklearn.linear_model import LogisticRegression\n",
    "from sklearn.ensemble import GradientBoostingClassifier, RandomForestClassifier, VotingClassifier\n",
    "import xgboost as xgb\n",
    "\n",
    "from sklearn.metrics import (\n",
    "    accuracy_score, \n",
    "    f1_score, \n",
    "    recall_score,\n",
    "    precision_score,\n",
    "    roc_auc_score, confusion_matrix, roc_curve, classification_report\n",
    ")\n",
    "\n",
    "from sentence_transformers import SentenceTransformer\n",
    "# https://huggingface.co/sentence-transformers/LaBSE\n",
    "\n",
    "from sklearn.decomposition import PCA\n",
    "\n",
    "from sklearn import clone\n",
    "\n",
    "from sklearn.pipeline import make_pipeline\n",
    "from sklearn.preprocessing import StandardScaler\n",
    "from sklearn.svm import SVC\n",
    "\n",
    "from sklearn.naive_bayes import GaussianNB\n",
    "from sklearn.neighbors import KNeighborsClassifier\n",
    "\n",
    "import random"
   ]
  },
  {
   "cell_type": "markdown",
   "id": "aa0f731d",
   "metadata": {},
   "source": [
    "## POS CZ data"
   ]
  },
  {
   "cell_type": "code",
   "execution_count": 2,
   "id": "e79dbd56",
   "metadata": {},
   "outputs": [],
   "source": [
    "def extract_features_cz(txt):\n",
    "    \n",
    "    doc = Text(txt, hint_language_code='cs')\n",
    "\n",
    "    txt_pos = []\n",
    "    \n",
    "    for token in doc.pos_tags:\n",
    "        if token[1] not in ['SPACE', 'PUNCT']:\n",
    "            txt_pos.append(token[1])            \n",
    "    \n",
    "    return txt_pos"
   ]
  },
  {
   "cell_type": "code",
   "execution_count": 3,
   "id": "3e9ddf29",
   "metadata": {},
   "outputs": [],
   "source": [
    "if False:\n",
    "    df_cz_cz = pd.read_csv('../datasets/demagog_nlp_cz/converted-exp-CZ.tsv', sep='\\t')\n",
    "\n",
    "    df_cz_cz['text_clean'] = df_cz_cz['statementText'].apply(lambda x: clean_przyp(x))\n",
    "\n",
    "    tasks = df_cz_cz['text_clean'].values.tolist()\n",
    "    result = progress_map(extract_features_cz, tasks, n_cpu=7, chunk_size=1, core_progress=True)\n",
    "    \n",
    "    df_cz_cz['TEXT_POS'] = result\n",
    "\n",
    "    df_cz_cz['TEXT_POS'] = df_cz_cz['TEXT_POS'].str.join(\" \")\n",
    "    \n",
    "    df_cz_cz.to_csv('../datasets/ready2use/fake_news_features_cz_CZ.csv', sep=';', index=False, encoding='utf8')\n",
    "else:\n",
    "    df_cz_cz = pd.read_csv('../datasets/ready2use/fake_news_features_cz_CZ.csv', sep=';')"
   ]
  },
  {
   "cell_type": "code",
   "execution_count": 4,
   "id": "1b1c1726",
   "metadata": {},
   "outputs": [
    {
     "data": {
      "text/plain": [
       "(9082, 10)"
      ]
     },
     "execution_count": 4,
     "metadata": {},
     "output_type": "execute_result"
    }
   ],
   "source": [
    "df_cz_cz.shape"
   ]
  },
  {
   "cell_type": "markdown",
   "id": "6d748a09",
   "metadata": {},
   "source": [
    "### The same code for SK data"
   ]
  },
  {
   "cell_type": "code",
   "execution_count": 5,
   "id": "19861f1c",
   "metadata": {},
   "outputs": [],
   "source": [
    "if False:\n",
    "    df_cz_sk = pd.read_csv('../datasets/demagog_nlp_cz/converted-exp-SK.tsv', sep='\\t')\n",
    "\n",
    "    df_cz_sk['text_clean'] = df_cz_sk['statementText'].apply(lambda x: clean_przyp(x))\n",
    "\n",
    "    tasks = df_cz_sk['text_clean'].values.tolist()\n",
    "    result = progress_map(extract_features_cz, tasks, n_cpu=7, chunk_size=1, core_progress=True)\n",
    "    \n",
    "    df_cz_sk['TEXT_POS'] = result\n",
    "\n",
    "    df_cz_sk['TEXT_POS'] = df_cz_sk['TEXT_POS'].str.join(\" \")\n",
    "    \n",
    "    df_cz_sk.to_csv('../datasets/ready2use/fake_news_features_cz_SK.csv', sep=';', index=False, encoding='utf8')\n",
    "else:\n",
    "    df_cz_sk = pd.read_csv('../datasets/ready2use/fake_news_features_cz_SK.csv', sep=';')"
   ]
  },
  {
   "cell_type": "code",
   "execution_count": 6,
   "id": "496cad42",
   "metadata": {},
   "outputs": [
    {
     "data": {
      "text/plain": [
       "(12554, 10)"
      ]
     },
     "execution_count": 6,
     "metadata": {},
     "output_type": "execute_result"
    }
   ],
   "source": [
    "df_cz_sk.shape"
   ]
  },
  {
   "cell_type": "code",
   "execution_count": 7,
   "id": "55548faf",
   "metadata": {},
   "outputs": [
    {
     "data": {
      "text/plain": [
       "(25108, 10)"
      ]
     },
     "execution_count": 7,
     "metadata": {},
     "output_type": "execute_result"
    }
   ],
   "source": [
    "df_cz = pd.concat([df_cz_sk, df_cz_sk])\n",
    "df_cz.shape"
   ]
  },
  {
   "cell_type": "code",
   "execution_count": 8,
   "id": "e07bba91",
   "metadata": {},
   "outputs": [],
   "source": [
    "df_cz['statementState'] = df_cz['statementState'].str.strip()\n",
    "\n",
    "df_cz = df_cz[ df_cz['statementState'] != 'MISLEADING' ]\n",
    "df_cz = df_cz[ df_cz['statementState'] != 'UNVERIFIABLE' ]\n",
    "df_cz = df_cz[ df_cz['statementState'] != 'null' ]\n",
    "\n",
    "df_cz = df_cz.reset_index(drop=True)\n",
    "\n",
    "df_cz['assestment'] = df_cz['statementState'].replace({\n",
    "    'FALSE' : 0,\n",
    "#     'Manipulacja' : 1,\n",
    "    'TRUE' : 1\n",
    "}).astype(int)"
   ]
  },
  {
   "cell_type": "code",
   "execution_count": 9,
   "id": "822c3e01",
   "metadata": {},
   "outputs": [
    {
     "data": {
      "text/plain": [
       "1    15974\n",
       "0     3340\n",
       "Name: assestment, dtype: int64"
      ]
     },
     "execution_count": 9,
     "metadata": {},
     "output_type": "execute_result"
    }
   ],
   "source": [
    "df_cz['assestment'].value_counts()"
   ]
  },
  {
   "cell_type": "markdown",
   "id": "ae391d7c",
   "metadata": {},
   "source": [
    "## POS ENG data"
   ]
  },
  {
   "cell_type": "code",
   "execution_count": 10,
   "id": "38c9335e",
   "metadata": {},
   "outputs": [],
   "source": [
    "nlp_core_en = spacy.load(\"en_core_web_lg\")\n",
    "def extract_features_en(txt, nlp_core=nlp_core_en):\n",
    "    \n",
    "    doc = nlp_core(txt)\n",
    "    \n",
    "    txt_pos = []\n",
    "    for token in doc:\n",
    "        if token.pos_ not in ['SPACE', 'PUNCT']:\n",
    "            txt_pos.append(token.pos_)            \n",
    "    \n",
    "    return txt_pos"
   ]
  },
  {
   "cell_type": "code",
   "execution_count": 11,
   "id": "cb6bd22d",
   "metadata": {},
   "outputs": [],
   "source": [
    "df_en = pd.read_csv('../datasets/politifact/politifact.csv', sep=',', index_col=0)\n",
    "\n",
    "df_en.loc[:, 'fact'] = df_en['fact'].replace({\n",
    "    'half-true' : 'true',\n",
    "    'mostly-true' : 'true',\n",
    "    'barely-true' : 'false',\n",
    "    'pants-fire' : 'false',\n",
    "})\n",
    "\n",
    "df_en = df_en[df_en['fact'].isin(['true', 'false'])]"
   ]
  },
  {
   "cell_type": "code",
   "execution_count": 12,
   "id": "da94f94a",
   "metadata": {},
   "outputs": [
    {
     "data": {
      "text/plain": [
       "(19151, 11)"
      ]
     },
     "execution_count": 12,
     "metadata": {},
     "output_type": "execute_result"
    }
   ],
   "source": [
    "df_en.shape"
   ]
  },
  {
   "cell_type": "code",
   "execution_count": 13,
   "id": "36e300a5",
   "metadata": {},
   "outputs": [
    {
     "data": {
      "application/vnd.jupyter.widget-view+json": {
       "model_id": "d7dd8ccf6d2a402cb03ada88039df8ad",
       "version_major": 2,
       "version_minor": 0
      },
      "text/plain": [
       "Core 1:   0%|          | 0/2736 [00:00<?, ?it/s]"
      ]
     },
     "metadata": {},
     "output_type": "display_data"
    },
    {
     "data": {
      "application/vnd.jupyter.widget-view+json": {
       "model_id": "b80d4bb7027a49a591e14aff6021bce6",
       "version_major": 2,
       "version_minor": 0
      },
      "text/plain": [
       "Core 2:   0%|          | 0/2736 [00:00<?, ?it/s]"
      ]
     },
     "metadata": {},
     "output_type": "display_data"
    },
    {
     "data": {
      "application/vnd.jupyter.widget-view+json": {
       "model_id": "87509e1a7c6d40c88902b9c70fa6cc14",
       "version_major": 2,
       "version_minor": 0
      },
      "text/plain": [
       "Core 3:   0%|          | 0/2736 [00:00<?, ?it/s]"
      ]
     },
     "metadata": {},
     "output_type": "display_data"
    },
    {
     "data": {
      "application/vnd.jupyter.widget-view+json": {
       "model_id": "20b19d1c60cf421aa574544f38275034",
       "version_major": 2,
       "version_minor": 0
      },
      "text/plain": [
       "Core 4:   0%|          | 0/2736 [00:00<?, ?it/s]"
      ]
     },
     "metadata": {},
     "output_type": "display_data"
    },
    {
     "data": {
      "application/vnd.jupyter.widget-view+json": {
       "model_id": "aa70b4422f1348089d9b9448b2b76c19",
       "version_major": 2,
       "version_minor": 0
      },
      "text/plain": [
       "Core 5:   0%|          | 0/2736 [00:00<?, ?it/s]"
      ]
     },
     "metadata": {},
     "output_type": "display_data"
    },
    {
     "data": {
      "application/vnd.jupyter.widget-view+json": {
       "model_id": "c24b05a523fa4731bc9c317532bdf1d5",
       "version_major": 2,
       "version_minor": 0
      },
      "text/plain": [
       "Core 6:   0%|          | 0/2736 [00:00<?, ?it/s]"
      ]
     },
     "metadata": {},
     "output_type": "display_data"
    },
    {
     "data": {
      "application/vnd.jupyter.widget-view+json": {
       "model_id": "937df09b5e8246c3a0f09de3e58000cc",
       "version_major": 2,
       "version_minor": 0
      },
      "text/plain": [
       "Core 7:   0%|          | 0/2736 [00:00<?, ?it/s]"
      ]
     },
     "metadata": {},
     "output_type": "display_data"
    }
   ],
   "source": [
    "df_en = df_en[['sources_quote', 'fact']]\n",
    "df_en.columns  = [\n",
    "    'statement',\n",
    "    'label'\n",
    "]\n",
    "\n",
    "df_en['text_clean'] = df_en['statement'].apply(lambda x: clean_przyp(x))\n",
    "\n",
    "tasks = df_en['text_clean'].values.tolist()\n",
    "result = progress_map(extract_features_en, tasks, n_cpu=7, chunk_size=1, core_progress=True)\n",
    "\n",
    "df_en['TEXT_POS'] = result\n",
    "\n",
    "df_en['TEXT_POS'] = df_en['TEXT_POS'].str.join(\" \")\n",
    "\n",
    "df_en['assestment'] = df_en['label'].replace({\n",
    "    'false' : 0,\n",
    "#     'Manipulacja' : 1,\n",
    "    'true' : 1\n",
    "}).astype(int)"
   ]
  },
  {
   "cell_type": "code",
   "execution_count": 14,
   "id": "6cdd85a4",
   "metadata": {},
   "outputs": [],
   "source": [
    "# df_en = pd.concat(\n",
    "# [\n",
    "#     pd.read_csv('../datasets/liar/train.tsv', sep='\\t', header=None),\n",
    "#     pd.read_csv('../datasets/liar/valid.tsv', sep='\\t', header=None),\n",
    "#     pd.read_csv('../datasets/liar/test.tsv', sep='\\t', header=None)\n",
    "# ]\n",
    "# ).iloc[:,:3]\n",
    "\n",
    "# df_en.columns = [\n",
    "#     'id',\n",
    "#     'label',\n",
    "#     'statement'\n",
    "# ]\n",
    "\n",
    "# df_en.loc[:, 'label'] = df_en['label'].replace({\n",
    "#     'half-true' : 'true',\n",
    "#     'mostly-true' : 'true',\n",
    "#     'barely-true' : 'false',\n",
    "#     'pants-fire' : 'false',\n",
    "# })"
   ]
  },
  {
   "cell_type": "markdown",
   "id": "f78fa60f",
   "metadata": {},
   "source": [
    "## Use EN/CZ data as training"
   ]
  },
  {
   "cell_type": "code",
   "execution_count": 15,
   "id": "d18544a2",
   "metadata": {},
   "outputs": [
    {
     "data": {
      "text/plain": [
       "Index(['statement', 'label', 'text_clean', 'TEXT_POS', 'assestment'], dtype='object')"
      ]
     },
     "execution_count": 15,
     "metadata": {},
     "output_type": "execute_result"
    }
   ],
   "source": [
    "df_en.columns"
   ]
  },
  {
   "cell_type": "code",
   "execution_count": 16,
   "id": "7d3be601",
   "metadata": {},
   "outputs": [
    {
     "data": {
      "text/plain": [
       "Index(['politicianID', 'name', 'party', 'statementID', 'statementText',\n",
       "       'statementState', 'statementExplanClean', 'statementExplan    ',\n",
       "       'text_clean', 'TEXT_POS', 'assestment'],\n",
       "      dtype='object')"
      ]
     },
     "execution_count": 16,
     "metadata": {},
     "output_type": "execute_result"
    }
   ],
   "source": [
    "df_cz.columns"
   ]
  },
  {
   "cell_type": "code",
   "execution_count": 17,
   "id": "83e9c691",
   "metadata": {},
   "outputs": [],
   "source": [
    "df_all = pd.concat([df_en[['assestment', 'TEXT_POS', 'text_clean']], \n",
    "                    df_cz[['assestment', 'TEXT_POS', 'text_clean']]])"
   ]
  },
  {
   "cell_type": "code",
   "execution_count": 18,
   "id": "eb7a6115",
   "metadata": {},
   "outputs": [
    {
     "data": {
      "text/plain": [
       "1    25033\n",
       "0    13432\n",
       "Name: assestment, dtype: int64"
      ]
     },
     "execution_count": 18,
     "metadata": {},
     "output_type": "execute_result"
    }
   ],
   "source": [
    "df_all['assestment'].value_counts()"
   ]
  },
  {
   "cell_type": "code",
   "execution_count": 19,
   "id": "dac4ac18",
   "metadata": {},
   "outputs": [],
   "source": [
    "y_train = df_all.copy()['assestment']\n",
    "X_train = df_all.copy()[['TEXT_POS']]"
   ]
  },
  {
   "cell_type": "code",
   "execution_count": 20,
   "id": "e0a2ca9e",
   "metadata": {},
   "outputs": [],
   "source": [
    "n_grams = 5\n",
    "min_pos = 5 "
   ]
  },
  {
   "cell_type": "code",
   "execution_count": 25,
   "id": "30f9ddf4",
   "metadata": {},
   "outputs": [],
   "source": [
    "X_pos = X_train[['TEXT_POS']].copy()\n",
    "\n",
    "words =  sum(X_pos['TEXT_POS'].str.split(' ').values.tolist(), [])\n",
    "\n",
    "n_list = []\n",
    "for n in range(n_grams):\n",
    "    n_i = pd.Series(nltk.ngrams(words, n+1)).value_counts()\n",
    "    n_i = n_i[n_i>min_pos]\n",
    "    n_list.append(n_i)\n",
    "\n",
    "n_iterator = []\n",
    "for n_i in n_list:\n",
    "    n_iterator += n_i.index.tolist()"
   ]
  },
  {
   "cell_type": "code",
   "execution_count": 27,
   "id": "ce0c6342",
   "metadata": {},
   "outputs": [
    {
     "data": {
      "application/vnd.jupyter.widget-view+json": {
       "model_id": "1fffdff62fe349d3b6f7e862a7adae0e",
       "version_major": 2,
       "version_minor": 0
      },
      "text/plain": [
       "Core 1:   0%|          | 0/3911 [00:00<?, ?it/s]"
      ]
     },
     "metadata": {},
     "output_type": "display_data"
    },
    {
     "data": {
      "application/vnd.jupyter.widget-view+json": {
       "model_id": "d656bf9354d648ae8ea1c23a8aa15c29",
       "version_major": 2,
       "version_minor": 0
      },
      "text/plain": [
       "Core 2:   0%|          | 0/3911 [00:00<?, ?it/s]"
      ]
     },
     "metadata": {},
     "output_type": "display_data"
    },
    {
     "data": {
      "application/vnd.jupyter.widget-view+json": {
       "model_id": "adcd7649ced942d7bef443190b420730",
       "version_major": 2,
       "version_minor": 0
      },
      "text/plain": [
       "Core 3:   0%|          | 0/3911 [00:00<?, ?it/s]"
      ]
     },
     "metadata": {},
     "output_type": "display_data"
    },
    {
     "data": {
      "application/vnd.jupyter.widget-view+json": {
       "model_id": "806d911b495e4683ab41d18de6481a87",
       "version_major": 2,
       "version_minor": 0
      },
      "text/plain": [
       "Core 4:   0%|          | 0/3911 [00:00<?, ?it/s]"
      ]
     },
     "metadata": {},
     "output_type": "display_data"
    },
    {
     "data": {
      "application/vnd.jupyter.widget-view+json": {
       "model_id": "9d8cafc035de45f1b838a31fbb0478ca",
       "version_major": 2,
       "version_minor": 0
      },
      "text/plain": [
       "Core 5:   0%|          | 0/3911 [00:00<?, ?it/s]"
      ]
     },
     "metadata": {},
     "output_type": "display_data"
    },
    {
     "data": {
      "application/vnd.jupyter.widget-view+json": {
       "model_id": "612f184e4ef2422faf042b572f085f28",
       "version_major": 2,
       "version_minor": 0
      },
      "text/plain": [
       "Core 6:   0%|          | 0/3911 [00:00<?, ?it/s]"
      ]
     },
     "metadata": {},
     "output_type": "display_data"
    },
    {
     "data": {
      "application/vnd.jupyter.widget-view+json": {
       "model_id": "fc62b4035e58464989ea17ae972fd69e",
       "version_major": 2,
       "version_minor": 0
      },
      "text/plain": [
       "Core 7:   0%|          | 0/3911 [00:00<?, ?it/s]"
      ]
     },
     "metadata": {},
     "output_type": "display_data"
    }
   ],
   "source": [
    "def get_pos_features_para(n):\n",
    "    x = X_pos['TEXT_POS'].str.count(' '.join(n)) / X_pos['TEXT_POS'].str.split(' ').str.len()\n",
    "    min_v = x.min()\n",
    "    max_v = x.max()\n",
    "\n",
    "    if min_v < max_v:\n",
    "        r = scipy.stats.pearsonr(x, y_train)[0]\n",
    "        if ~np.isnan(r) and np.abs(r) > 0.01: \n",
    "            return x\n",
    "    \n",
    "    return None\n",
    "\n",
    "result = progress_map(get_pos_features_para, n_iterator, n_cpu=7, chunk_size=1, core_progress=True)"
   ]
  },
  {
   "cell_type": "code",
   "execution_count": 28,
   "id": "6a607adf",
   "metadata": {},
   "outputs": [
    {
     "name": "stderr",
     "output_type": "stream",
     "text": [
      "\n",
      "\n",
      "\n",
      "\n",
      "\n",
      "\n",
      "\n",
      "27373it [00:00, 880686.41it/s]\u001b[A\u001b[A\u001b[A\n"
     ]
    }
   ],
   "source": [
    "col = {}\n",
    "    \n",
    "for x, n in tqdm(zip(result, n_iterator)):\n",
    "    if x is not None:\n",
    "        col[' '.join(n)] = x\n",
    "        col[' '.join(n)].name = ' '.join(n)"
   ]
  },
  {
   "cell_type": "code",
   "execution_count": 29,
   "id": "ff0e529c",
   "metadata": {},
   "outputs": [],
   "source": [
    "X_pos = pd.concat( [X_pos] + list( col.values() ), axis=1 ).drop('TEXT_POS', axis=1)"
   ]
  },
  {
   "cell_type": "code",
   "execution_count": 30,
   "id": "0a11f638",
   "metadata": {},
   "outputs": [],
   "source": [
    "y_train.reset_index(drop=True, inplace=True)\n",
    "X_pos.reset_index(drop=True, inplace=True)"
   ]
  },
  {
   "cell_type": "code",
   "execution_count": 31,
   "id": "8acfd112",
   "metadata": {},
   "outputs": [],
   "source": [
    "out_pos = X_pos.join(y_train)"
   ]
  },
  {
   "cell_type": "code",
   "execution_count": 32,
   "id": "0cae67a5",
   "metadata": {},
   "outputs": [
    {
     "data": {
      "text/plain": [
       "(38465, 9219)"
      ]
     },
     "execution_count": 32,
     "metadata": {},
     "output_type": "execute_result"
    }
   ],
   "source": [
    "X_pos.shape"
   ]
  },
  {
   "cell_type": "code",
   "execution_count": 33,
   "id": "ad183ed2",
   "metadata": {},
   "outputs": [],
   "source": [
    "out_pos.to_hdf(r'../datasets/ready2use/pos_en_cz_train.h5', key='stage', mode='w')"
   ]
  },
  {
   "cell_type": "markdown",
   "id": "64406dc7",
   "metadata": {},
   "source": [
    "## Create sentences embeddings"
   ]
  },
  {
   "cell_type": "code",
   "execution_count": 26,
   "id": "c3c7aee9",
   "metadata": {},
   "outputs": [
    {
     "data": {
      "application/vnd.jupyter.widget-view+json": {
       "model_id": "30a885a6f50a4b44b91b9c4f4d72d6da",
       "version_major": 2,
       "version_minor": 0
      },
      "text/plain": [
       "Downloading:   0%|          | 0.00/1.18k [00:00<?, ?B/s]"
      ]
     },
     "metadata": {},
     "output_type": "display_data"
    },
    {
     "data": {
      "application/vnd.jupyter.widget-view+json": {
       "model_id": "df01bfbf14374b56997f43726f999087",
       "version_major": 2,
       "version_minor": 0
      },
      "text/plain": [
       "Downloading:   0%|          | 0.00/190 [00:00<?, ?B/s]"
      ]
     },
     "metadata": {},
     "output_type": "display_data"
    },
    {
     "data": {
      "application/vnd.jupyter.widget-view+json": {
       "model_id": "0851124c4f3047a6a191861de224c227",
       "version_major": 2,
       "version_minor": 0
      },
      "text/plain": [
       "Downloading:   0%|          | 0.00/10.6k [00:00<?, ?B/s]"
      ]
     },
     "metadata": {},
     "output_type": "display_data"
    },
    {
     "data": {
      "application/vnd.jupyter.widget-view+json": {
       "model_id": "b438890a34b74fb38073ec9ae50d9121",
       "version_major": 2,
       "version_minor": 0
      },
      "text/plain": [
       "Downloading:   0%|          | 0.00/571 [00:00<?, ?B/s]"
      ]
     },
     "metadata": {},
     "output_type": "display_data"
    },
    {
     "data": {
      "application/vnd.jupyter.widget-view+json": {
       "model_id": "7698d36457b748eba9e85e1d92f8fe29",
       "version_major": 2,
       "version_minor": 0
      },
      "text/plain": [
       "Downloading:   0%|          | 0.00/116 [00:00<?, ?B/s]"
      ]
     },
     "metadata": {},
     "output_type": "display_data"
    },
    {
     "data": {
      "application/vnd.jupyter.widget-view+json": {
       "model_id": "6b361d54efa94a2484252ab2284657ea",
       "version_major": 2,
       "version_minor": 0
      },
      "text/plain": [
       "Downloading:   0%|          | 0.00/39.3k [00:00<?, ?B/s]"
      ]
     },
     "metadata": {},
     "output_type": "display_data"
    },
    {
     "data": {
      "application/vnd.jupyter.widget-view+json": {
       "model_id": "9cc7fd94f11945a89d5e0a152dddaa66",
       "version_major": 2,
       "version_minor": 0
      },
      "text/plain": [
       "Downloading:   0%|          | 0.00/349 [00:00<?, ?B/s]"
      ]
     },
     "metadata": {},
     "output_type": "display_data"
    },
    {
     "data": {
      "application/vnd.jupyter.widget-view+json": {
       "model_id": "949bb7ba351c41749cd42aeddea6d35e",
       "version_major": 2,
       "version_minor": 0
      },
      "text/plain": [
       "Downloading:   0%|          | 0.00/438M [00:00<?, ?B/s]"
      ]
     },
     "metadata": {},
     "output_type": "display_data"
    },
    {
     "data": {
      "application/vnd.jupyter.widget-view+json": {
       "model_id": "ef7c8a47c3f74f7c8b2c6c0f5ad1393f",
       "version_major": 2,
       "version_minor": 0
      },
      "text/plain": [
       "Downloading:   0%|          | 0.00/53.0 [00:00<?, ?B/s]"
      ]
     },
     "metadata": {},
     "output_type": "display_data"
    },
    {
     "data": {
      "application/vnd.jupyter.widget-view+json": {
       "model_id": "6724d3116e7441dfaaddf46b47bbdcb5",
       "version_major": 2,
       "version_minor": 0
      },
      "text/plain": [
       "Downloading:   0%|          | 0.00/239 [00:00<?, ?B/s]"
      ]
     },
     "metadata": {},
     "output_type": "display_data"
    },
    {
     "data": {
      "application/vnd.jupyter.widget-view+json": {
       "model_id": "3c3b584edf274e7fb33de513b52d2b09",
       "version_major": 2,
       "version_minor": 0
      },
      "text/plain": [
       "Downloading:   0%|          | 0.00/466k [00:00<?, ?B/s]"
      ]
     },
     "metadata": {},
     "output_type": "display_data"
    },
    {
     "data": {
      "application/vnd.jupyter.widget-view+json": {
       "model_id": "595ff65464424041bd435674ce0f5362",
       "version_major": 2,
       "version_minor": 0
      },
      "text/plain": [
       "Downloading:   0%|          | 0.00/363 [00:00<?, ?B/s]"
      ]
     },
     "metadata": {},
     "output_type": "display_data"
    },
    {
     "data": {
      "application/vnd.jupyter.widget-view+json": {
       "model_id": "f77d59dbe92b4d9b882e7de16d913a91",
       "version_major": 2,
       "version_minor": 0
      },
      "text/plain": [
       "Downloading:   0%|          | 0.00/13.1k [00:00<?, ?B/s]"
      ]
     },
     "metadata": {},
     "output_type": "display_data"
    },
    {
     "data": {
      "application/vnd.jupyter.widget-view+json": {
       "model_id": "3bd2e4d2dc15463da14a2dddb132091e",
       "version_major": 2,
       "version_minor": 0
      },
      "text/plain": [
       "Downloading:   0%|          | 0.00/232k [00:00<?, ?B/s]"
      ]
     },
     "metadata": {},
     "output_type": "display_data"
    }
   ],
   "source": [
    "model = SentenceTransformer('sentence-transformers/all-mpnet-base-v2')\n",
    "#'sentence-transformers/distiluse-base-multilingual-cased-v2')\n",
    "#'sentence-transformers/LaBSE')"
   ]
  },
  {
   "cell_type": "code",
   "execution_count": 27,
   "id": "00eabc6b",
   "metadata": {},
   "outputs": [],
   "source": [
    "def get_emebeddings(x):\n",
    "    embedding = model.encode(x)\n",
    "    return embedding"
   ]
  },
  {
   "cell_type": "code",
   "execution_count": 29,
   "id": "0b14fff0",
   "metadata": {},
   "outputs": [
    {
     "name": "stderr",
     "output_type": "stream",
     "text": [
      "100%|█████████████████████████████████████| 38465/38465 [09:06<00:00, 70.37it/s]\n"
     ]
    }
   ],
   "source": [
    "result = [ get_emebeddings(x) for x in tqdm(df_all['text_clean'].values, position=0, leave=True) ]"
   ]
  },
  {
   "cell_type": "code",
   "execution_count": 30,
   "id": "af75eef4",
   "metadata": {
    "scrolled": true
   },
   "outputs": [],
   "source": [
    "# result = progress_map(get_emebeddings, df_all['text_clean'].values, \n",
    "#                       n_cpu=7, chunk_size=1, core_progress=True)"
   ]
  },
  {
   "cell_type": "code",
   "execution_count": 42,
   "id": "734dd537",
   "metadata": {},
   "outputs": [],
   "source": [
    "df_emb = df_all[['text_clean']].reset_index(drop=True)\n",
    "df_emb['emb'] = result #f_all['text_clean'].progress_apply(lambda x: get_emebeddings(x))\n",
    "# [ get_emebeddings(x) for x in tqdm(df_all['text_clean'].values, position=0, leave=True) ]"
   ]
  },
  {
   "cell_type": "code",
   "execution_count": 43,
   "id": "1e7ddbc7",
   "metadata": {},
   "outputs": [],
   "source": [
    "df_emb_full = pd.DataFrame(df_emb['emb'].tolist(), index= df_emb.index)"
   ]
  },
  {
   "cell_type": "code",
   "execution_count": 44,
   "id": "2f0d1ee7",
   "metadata": {},
   "outputs": [],
   "source": [
    "df_emb_full.to_hdf(r'../datasets/ready2use/pos_en_cz_embeddings_2.h5', key='stage', mode='w')"
   ]
  },
  {
   "cell_type": "code",
   "execution_count": 35,
   "id": "0285d758",
   "metadata": {},
   "outputs": [],
   "source": [
    "# np.savetxt('../datasets/ready2use/pos_en_cz_train_header.csv', out_pos.columns.values, delimiter=\";\", fmt=\"%s\")\n",
    "# np.savetxt('../datasets/ready2use/pos_en_cz_train_data.csv', out_pos.values, delimiter=\";\")"
   ]
  },
  {
   "cell_type": "markdown",
   "id": "d9be5ecf",
   "metadata": {},
   "source": [
    "### Read training data"
   ]
  },
  {
   "cell_type": "code",
   "execution_count": 46,
   "id": "3315e5be",
   "metadata": {},
   "outputs": [],
   "source": [
    "X_emb = pd.read_hdf(r'../datasets/ready2use/pos_en_cz_embeddings_2.h5', key='stage', mode='r')"
   ]
  },
  {
   "cell_type": "code",
   "execution_count": 47,
   "id": "ebe046b5",
   "metadata": {},
   "outputs": [],
   "source": [
    "X_pos = pd.read_hdf('../datasets/ready2use/pos_en_cz_train.h5', key='stage', mode='r')\n",
    "# header = pd.read_csv('../datasets/ready2use/pos_en_cz_train_header.csv', header=None, sep=';').values\n",
    "# X_pos = pd.read_csv('../datasets/ready2use/pos_en_cz_train_data.csv', header=None, sep=';')\n",
    "# X_pos.columns = header\n",
    "y_train = X_pos['assestment']\n",
    "X_pos = X_pos.drop('assestment', axis=1)\n",
    "\n",
    "X_emb.index = X_pos.index"
   ]
  },
  {
   "cell_type": "code",
   "execution_count": 48,
   "id": "853964b7",
   "metadata": {},
   "outputs": [],
   "source": [
    "# col_keep = []\n",
    "# for c in tqdm(X_pos.columns, position=0, leave=True):\n",
    "#     min_v = X_pos[c].values.min()\n",
    "#     max_v = X_pos[c].values.max()\n",
    "\n",
    "#     if min_v < max_v:\n",
    "#         r = scipy.stats.pearsonr(X_pos[c].values, y_train)[0]\n",
    "#         if ~np.isnan(r) and np.abs(r) > 0.1:\n",
    "#             col_keep.append(c)\n",
    "            \n",
    "# len(col_keep)"
   ]
  },
  {
   "cell_type": "markdown",
   "id": "3ff3be07",
   "metadata": {},
   "source": [
    "### Load test data"
   ]
  },
  {
   "cell_type": "code",
   "execution_count": 53,
   "id": "ba403210",
   "metadata": {},
   "outputs": [
    {
     "name": "stderr",
     "output_type": "stream",
     "text": [
      "100%|███████████████████████████████████████| 6542/6542 [01:17<00:00, 84.28it/s]\n"
     ]
    }
   ],
   "source": [
    "if True:\n",
    "    df_test_emb = pd.read_csv('../datasets/ready2use/text_celan_pl_dataset.csv', sep=';', header=None)\n",
    "    df_test_emb.columns = ['index', 'text_clean', 'label']\n",
    "\n",
    "    result = [ get_emebeddings(x) for x in tqdm(df_test_emb['text_clean'].values, position=0, leave=True) ]\n",
    "    \n",
    "    X_emb_test = pd.DataFrame(result, index = df_test_emb.index)\n",
    "    \n",
    "    X_emb_test.to_csv('../datasets/ready2use/embeddings_pl_dataset_2.csv', sep=';', header=None, index=False)\n",
    "    \n",
    "    y_test = df_test_emb['label'].values"
   ]
  },
  {
   "cell_type": "code",
   "execution_count": 54,
   "id": "294a6372",
   "metadata": {},
   "outputs": [],
   "source": [
    "# X_emb_test = pd.read_csv('../datasets/ready2use/embeddings_pl_dataset_2.csv', sep=';', \n",
    "#                          low_memory=False, header=None)\n",
    "\n",
    "# X_test = pd.read_csv('../datasets/ready2use/pos_pl_dataset.csv', sep=';')\n",
    "# y_test = X_test['assestment']\n",
    "# X_test = X_test.drop('assestment', axis=1)\n",
    "\n",
    "# # X_emb_test.index = X_test.index"
   ]
  },
  {
   "cell_type": "markdown",
   "id": "1f0d5fe4",
   "metadata": {},
   "source": [
    "### Keep cols"
   ]
  },
  {
   "cell_type": "code",
   "execution_count": 55,
   "id": "2f850253",
   "metadata": {},
   "outputs": [],
   "source": [
    "# col_keep_test = np.array(col_keep)[np.isin(col_keep, X_test.columns.values)]\n",
    "# col_keep_test.shape"
   ]
  },
  {
   "cell_type": "markdown",
   "id": "3a602296",
   "metadata": {},
   "source": [
    "## Undersampling"
   ]
  },
  {
   "cell_type": "code",
   "execution_count": 56,
   "id": "7cb4cd1b",
   "metadata": {},
   "outputs": [],
   "source": [
    "n_lower = y_train.value_counts().min()\n",
    "n_upper = y_train.value_counts().max()\n",
    "\n",
    "np.random.seed(111)\n",
    "\n",
    "# undersampling    \n",
    "index_0 = np.random.choice(y_train[y_train==0].index, n_lower, replace=False)\n",
    "index_1 = np.random.choice(y_train[y_train==1].index, n_lower, replace=False)\n",
    "\n",
    "y_train_u = y_train.iloc[ index_0.tolist()+index_1.tolist() ].sort_index()\n",
    "\n",
    "# X_pos_u = X_pos.iloc[ index_0.tolist()+index_1.tolist() ].sort_index()\n",
    "\n",
    "# # select columns from the undersamplet daatset\n",
    "# col_keep_u = []\n",
    "# for c in tqdm(X_pos_u.columns, position=0, leave=True):\n",
    "#     min_v = X_pos_u[c].values.min()\n",
    "#     max_v = X_pos_u[c].values.max()\n",
    "\n",
    "#     if min_v < max_v:\n",
    "#         r = scipy.stats.pearsonr(X_pos_u[c].values, y_train_u)[0]\n",
    "#         if ~np.isnan(r) and np.abs(r) > 0.1:\n",
    "#             col_keep_u.append(c)\n",
    "            \n",
    "# print('Train', len(col_keep_u))\n",
    "\n",
    "# col_keep_test_u = np.array(col_keep_u)[np.isin(col_keep_u, X_test.columns.values)]\n",
    "# print('Test', col_keep_test_u.shape)"
   ]
  },
  {
   "cell_type": "code",
   "execution_count": 57,
   "id": "4707dd51",
   "metadata": {},
   "outputs": [],
   "source": [
    "X_emb_u = X_emb.iloc[ index_0.tolist()+index_1.tolist() ].sort_index()"
   ]
  },
  {
   "cell_type": "code",
   "execution_count": 69,
   "id": "4094d6b2",
   "metadata": {},
   "outputs": [
    {
     "data": {
      "text/plain": [
       "0.564135"
      ]
     },
     "execution_count": 69,
     "metadata": {},
     "output_type": "execute_result"
    }
   ],
   "source": [
    "pca = PCA(n_components=100)\n",
    "pca.fit(X_emb_u)\n",
    "\n",
    "X_emb_pca = pca.transform(X_emb_u)\n",
    "X_emb_test_pca = pca.transform(X_emb_test)\n",
    "\n",
    "np.cumsum( pca.explained_variance_ )[-1]"
   ]
  },
  {
   "cell_type": "markdown",
   "id": "92a05aff",
   "metadata": {},
   "source": [
    "### Can create weights of dataset"
   ]
  },
  {
   "cell_type": "code",
   "execution_count": 70,
   "id": "0a4d0fdf",
   "metadata": {},
   "outputs": [
    {
     "data": {
      "text/plain": [
       "1    25033\n",
       "0    13432\n",
       "Name: assestment, dtype: int64"
      ]
     },
     "execution_count": 70,
     "metadata": {},
     "output_type": "execute_result"
    }
   ],
   "source": [
    "y_train.value_counts()"
   ]
  },
  {
   "cell_type": "code",
   "execution_count": 71,
   "id": "4a1ab6f6",
   "metadata": {},
   "outputs": [
    {
     "data": {
      "text/plain": [
       "(38465,)"
      ]
     },
     "execution_count": 71,
     "metadata": {},
     "output_type": "execute_result"
    }
   ],
   "source": [
    "y_train.shape"
   ]
  },
  {
   "cell_type": "code",
   "execution_count": 72,
   "id": "a840c8bf",
   "metadata": {},
   "outputs": [
    {
     "data": {
      "text/plain": [
       "(26864,)"
      ]
     },
     "execution_count": 72,
     "metadata": {},
     "output_type": "execute_result"
    }
   ],
   "source": [
    "y_train_u.shape"
   ]
  },
  {
   "cell_type": "code",
   "execution_count": 73,
   "id": "fd8e8f6c",
   "metadata": {},
   "outputs": [],
   "source": [
    "class_weight = {\n",
    "    1 : 1,\n",
    "    0 : 1 # n_upper/n_lower\n",
    "}"
   ]
  },
  {
   "cell_type": "markdown",
   "id": "b82f33b1",
   "metadata": {},
   "source": [
    "## Cross validation of models"
   ]
  },
  {
   "cell_type": "code",
   "execution_count": 74,
   "id": "a3c38dce",
   "metadata": {},
   "outputs": [],
   "source": [
    "random.seed(111)"
   ]
  },
  {
   "cell_type": "code",
   "execution_count": 75,
   "id": "447d08de",
   "metadata": {},
   "outputs": [
    {
     "data": {
      "text/plain": [
       "163"
      ]
     },
     "execution_count": 75,
     "metadata": {},
     "output_type": "execute_result"
    }
   ],
   "source": [
    "k = int( np.sqrt(y_train_u.shape[0]) )\n",
    "k"
   ]
  },
  {
   "cell_type": "code",
   "execution_count": 76,
   "id": "70aa07b2",
   "metadata": {},
   "outputs": [],
   "source": [
    "import warnings\n",
    "warnings.filterwarnings(\"ignore\")\n",
    "\n",
    "scoring = ['accuracy', \n",
    "           'precision', 'recall', \n",
    "           'f1']\n",
    "\n",
    "clf_lr = LogisticRegression(max_iter=5000, C=1, penalty='l2', solver='liblinear', \n",
    "                            class_weight=class_weight)\n",
    "clf_gnb = GaussianNB()\n",
    "clf_knn = KNeighborsClassifier(n_neighbors=k)\n",
    "clf_rf = RandomForestClassifier(n_estimators=100, max_depth=3, random_state=111)\n",
    "clf_svm = make_pipeline(StandardScaler(), SVC(gamma='auto'))\n",
    "clf_xgb = xgb.XGBClassifier(objective='binary:logistic', verbosity=0, silent=True, n_jobs=-1)\n",
    "\n",
    "# for c, n in zip(\n",
    "#     [clf_lr, \n",
    "#      clf_gnb, \n",
    "#      clf_knn,\n",
    "#      clf_rf, \n",
    "#      clf_svm,\n",
    "#      clf_xgb, \n",
    "#     ], \n",
    "#     ['log_regC1', \n",
    "#      'gauss_nb ', \n",
    "#      f'knn_{k}  ', \n",
    "#      'rand_frst',\n",
    "#      'svm_gamma', \n",
    "#      'xgboost  ', \n",
    "#     ]\n",
    "# ):\n",
    "#     results = cross_validate(estimator=c,\n",
    "#                            X=X_pos_u[col_keep_test_u],\n",
    "#                            y=y_train_u,\n",
    "#                            cv=5,\n",
    "#                            scoring=scoring,\n",
    "#                            return_train_score=True)\n",
    "#     print(\n",
    "#         n,\n",
    "#         f'Accuracy {results[\"test_accuracy\"].mean():.3f}+-{results[\"test_accuracy\"].std():.3f}',\n",
    "# #         f'Precision {results[\"test_precision\"].mean():.3f}',\n",
    "# #         f'Recall {results[\"test_recall\"].mean():.3f}',\n",
    "#         f'F1 Score {results[\"test_f1\"].mean():.3f}+-{results[\"test_f1\"].std():.3f}',\n",
    "#         f'          {results[\"test_accuracy\"].mean():.3f}+-{results[\"test_accuracy\"].std():.3f} |',\n",
    "#         f'{results[\"test_f1\"].mean():.3f}+-{results[\"test_f1\"].std():.3f}'\n",
    "#     )"
   ]
  },
  {
   "cell_type": "code",
   "execution_count": 77,
   "id": "20fed1d6",
   "metadata": {},
   "outputs": [
    {
     "name": "stdout",
     "output_type": "stream",
     "text": [
      "log_regC1 Accuracy 0.624+-0.123 F1 Score 0.519+-0.317           0.624+-0.123 | 0.519+-0.317\n",
      "gauss_nb  Accuracy 0.669+-0.178 F1 Score 0.552+-0.350           0.669+-0.178 | 0.552+-0.350\n",
      "knn_163   Accuracy 0.638+-0.137 F1 Score 0.525+-0.325           0.638+-0.137 | 0.525+-0.325\n",
      "rand_frst Accuracy 0.674+-0.184 F1 Score 0.555+-0.356           0.674+-0.184 | 0.555+-0.356\n",
      "svm_gamma Accuracy 0.616+-0.115 F1 Score 0.514+-0.313           0.616+-0.115 | 0.514+-0.313\n",
      "xgboost   Accuracy 0.624+-0.109 F1 Score 0.547+-0.276           0.624+-0.109 | 0.547+-0.276\n"
     ]
    }
   ],
   "source": [
    "for c, n in zip(\n",
    "    [clf_lr, \n",
    "     clf_gnb, \n",
    "     clf_knn,\n",
    "     clf_rf, \n",
    "     clf_svm,\n",
    "     clf_xgb, \n",
    "    ], \n",
    "    ['log_regC1', \n",
    "     'gauss_nb ', \n",
    "     f'knn_{k}  ', \n",
    "     'rand_frst',\n",
    "     'svm_gamma', \n",
    "     'xgboost  ', \n",
    "    ]\n",
    "):\n",
    "    results = cross_validate(estimator=c,\n",
    "                           X=X_emb_pca,\n",
    "                           y=y_train_u,\n",
    "                           cv=5,\n",
    "                           scoring=scoring,\n",
    "                           return_train_score=True)\n",
    "    print(\n",
    "        n,\n",
    "        f'Accuracy {results[\"test_accuracy\"].mean():.3f}+-{results[\"test_accuracy\"].std():.3f}',\n",
    "#         f'Precision {results[\"test_precision\"].mean():.3f}',\n",
    "#         f'Recall {results[\"test_recall\"].mean():.3f}',\n",
    "        f'F1 Score {results[\"test_f1\"].mean():.3f}+-{results[\"test_f1\"].std():.3f}',\n",
    "        f'          {results[\"test_accuracy\"].mean():.3f}+-{results[\"test_accuracy\"].std():.3f} |',\n",
    "        f'{results[\"test_f1\"].mean():.3f}+-{results[\"test_f1\"].std():.3f}'\n",
    "    )"
   ]
  },
  {
   "cell_type": "code",
   "execution_count": 81,
   "id": "869b776c",
   "metadata": {},
   "outputs": [
    {
     "name": "stdout",
     "output_type": "stream",
     "text": [
      "log_regC1 Accuracy 0.612+-0.110 F1 Score 0.514+-0.306           0.612+-0.110 | 0.514+-0.306\n",
      "gauss_nb  Accuracy 0.693+-0.207 F1 Score 0.572+-0.373           0.693+-0.207 | 0.572+-0.373\n",
      "knn_163   Accuracy 0.631+-0.128 F1 Score 0.521+-0.320           0.631+-0.128 | 0.521+-0.320\n",
      "rand_frst Accuracy 0.693+-0.207 F1 Score 0.571+-0.373           0.693+-0.207 | 0.571+-0.373\n",
      "svm_gamma Accuracy 0.612+-0.111 F1 Score 0.511+-0.311           0.612+-0.111 | 0.511+-0.311\n",
      "xgboost   Accuracy 0.640+-0.114 F1 Score 0.554+-0.287           0.640+-0.114 | 0.554+-0.287\n"
     ]
    }
   ],
   "source": [
    "for c, n in zip(\n",
    "    [clf_lr, \n",
    "     clf_gnb, \n",
    "     clf_knn,\n",
    "     clf_rf, \n",
    "     clf_svm,\n",
    "     clf_xgb, \n",
    "    ], \n",
    "    ['log_regC1', \n",
    "     'gauss_nb ', \n",
    "     f'knn_{k}  ', \n",
    "     'rand_frst',\n",
    "     'svm_gamma', \n",
    "     'xgboost  ', \n",
    "    ]\n",
    "):\n",
    "    results = cross_validate(estimator=c,\n",
    "                           X=X_emb_u,\n",
    "                           y=y_train_u,\n",
    "                           cv=5,\n",
    "                           scoring=scoring,\n",
    "                           return_train_score=True)\n",
    "    print(\n",
    "        n,\n",
    "        f'Accuracy {results[\"test_accuracy\"].mean():.3f}+-{results[\"test_accuracy\"].std():.3f}',\n",
    "#         f'Precision {results[\"test_precision\"].mean():.3f}',\n",
    "#         f'Recall {results[\"test_recall\"].mean():.3f}',\n",
    "        f'F1 Score {results[\"test_f1\"].mean():.3f}+-{results[\"test_f1\"].std():.3f}',\n",
    "        f'          {results[\"test_accuracy\"].mean():.3f}+-{results[\"test_accuracy\"].std():.3f} |',\n",
    "        f'{results[\"test_f1\"].mean():.3f}+-{results[\"test_f1\"].std():.3f}'\n",
    "    )"
   ]
  },
  {
   "cell_type": "code",
   "execution_count": 82,
   "id": "abf8b5fb",
   "metadata": {},
   "outputs": [],
   "source": [
    "clf_v = VotingClassifier(estimators=[\n",
    "    ('lr', clf_lr), \n",
    "    ('gnb', clf_gnb), \n",
    "    ('knn', clf_knn), \n",
    "    ('rf', clf_rf),\n",
    "    ('svm', clf_svm),\n",
    "    ('xgb', clf_xgb)\n",
    "], voting='hard')\n",
    "\n",
    "# results = cross_validate(estimator=clf_v,\n",
    "#                        X=X_pos_u[col_keep_test_u],\n",
    "#                        y=y_train_u,\n",
    "#                        cv=5,\n",
    "#                        scoring=scoring,\n",
    "#                        return_train_score=True)\n",
    "# print(\n",
    "#     'voting',\n",
    "#     f'Accuracy {results[\"test_accuracy\"].mean():.3f}+-{results[\"test_accuracy\"].std():.3f}',\n",
    "#     f'F1 Score {results[\"test_f1\"].mean():.3f}+-{results[\"test_f1\"].std():.3f}',\n",
    "#     f'          {results[\"test_accuracy\"].mean():.3f}+-{results[\"test_accuracy\"].std():.3f} |',\n",
    "#     f'{results[\"test_f1\"].mean():.3f}+-{results[\"test_f1\"].std():.3f}'\n",
    "# )"
   ]
  },
  {
   "cell_type": "code",
   "execution_count": 83,
   "id": "98985aa9",
   "metadata": {},
   "outputs": [
    {
     "name": "stdout",
     "output_type": "stream",
     "text": [
      "voting Accuracy 0.661+-0.167 F1 Score 0.544+-0.345           0.661+-0.167 | 0.544+-0.345\n"
     ]
    }
   ],
   "source": [
    "results = cross_validate(estimator=clf_v,\n",
    "                       X=X_emb_pca,\n",
    "                       y=y_train_u,\n",
    "                       cv=5,\n",
    "                       scoring=scoring,\n",
    "                       return_train_score=True)\n",
    "\n",
    "print(\n",
    "    'voting',\n",
    "    f'Accuracy {results[\"test_accuracy\"].mean():.3f}+-{results[\"test_accuracy\"].std():.3f}',\n",
    "    f'F1 Score {results[\"test_f1\"].mean():.3f}+-{results[\"test_f1\"].std():.3f}',\n",
    "    f'          {results[\"test_accuracy\"].mean():.3f}+-{results[\"test_accuracy\"].std():.3f} |',\n",
    "    f'{results[\"test_f1\"].mean():.3f}+-{results[\"test_f1\"].std():.3f}'\n",
    ")"
   ]
  },
  {
   "cell_type": "code",
   "execution_count": 84,
   "id": "ffabf0bc",
   "metadata": {},
   "outputs": [
    {
     "name": "stdout",
     "output_type": "stream",
     "text": [
      "voting Accuracy 0.664+-0.170 F1 Score 0.547+-0.347           0.664+-0.170 | 0.547+-0.347\n"
     ]
    }
   ],
   "source": [
    "results = cross_validate(estimator=clf_v,\n",
    "                       X=X_emb_u,\n",
    "                       y=y_train_u,\n",
    "                       cv=5,\n",
    "                       scoring=scoring,\n",
    "                       return_train_score=True)\n",
    "\n",
    "print(\n",
    "    'voting',\n",
    "    f'Accuracy {results[\"test_accuracy\"].mean():.3f}+-{results[\"test_accuracy\"].std():.3f}',\n",
    "    f'F1 Score {results[\"test_f1\"].mean():.3f}+-{results[\"test_f1\"].std():.3f}',\n",
    "    f'          {results[\"test_accuracy\"].mean():.3f}+-{results[\"test_accuracy\"].std():.3f} |',\n",
    "    f'{results[\"test_f1\"].mean():.3f}+-{results[\"test_f1\"].std():.3f}'\n",
    ")"
   ]
  },
  {
   "cell_type": "markdown",
   "id": "7b062f86",
   "metadata": {},
   "source": [
    "## Test on PL data"
   ]
  },
  {
   "cell_type": "markdown",
   "id": "4995c862",
   "metadata": {},
   "source": [
    "## Voting"
   ]
  },
  {
   "cell_type": "code",
   "execution_count": 88,
   "id": "d56f2226",
   "metadata": {},
   "outputs": [],
   "source": [
    "clf_out = clone(clf_v)\n",
    "clf_emb = clone(clf_v)\n",
    "clf_pca = clone(clf_v)"
   ]
  },
  {
   "cell_type": "markdown",
   "id": "6bc0004e",
   "metadata": {},
   "source": [
    "### train -> test"
   ]
  },
  {
   "cell_type": "code",
   "execution_count": 89,
   "id": "7bba0302",
   "metadata": {},
   "outputs": [],
   "source": [
    "# clf_out.fit(X_pos_u[col_keep_test_u], y_train_u)"
   ]
  },
  {
   "cell_type": "code",
   "execution_count": 90,
   "id": "f6f57f22",
   "metadata": {},
   "outputs": [
    {
     "data": {
      "text/html": [
       "<style>#sk-container-id-1 {color: black;background-color: white;}#sk-container-id-1 pre{padding: 0;}#sk-container-id-1 div.sk-toggleable {background-color: white;}#sk-container-id-1 label.sk-toggleable__label {cursor: pointer;display: block;width: 100%;margin-bottom: 0;padding: 0.3em;box-sizing: border-box;text-align: center;}#sk-container-id-1 label.sk-toggleable__label-arrow:before {content: \"▸\";float: left;margin-right: 0.25em;color: #696969;}#sk-container-id-1 label.sk-toggleable__label-arrow:hover:before {color: black;}#sk-container-id-1 div.sk-estimator:hover label.sk-toggleable__label-arrow:before {color: black;}#sk-container-id-1 div.sk-toggleable__content {max-height: 0;max-width: 0;overflow: hidden;text-align: left;background-color: #f0f8ff;}#sk-container-id-1 div.sk-toggleable__content pre {margin: 0.2em;color: black;border-radius: 0.25em;background-color: #f0f8ff;}#sk-container-id-1 input.sk-toggleable__control:checked~div.sk-toggleable__content {max-height: 200px;max-width: 100%;overflow: auto;}#sk-container-id-1 input.sk-toggleable__control:checked~label.sk-toggleable__label-arrow:before {content: \"▾\";}#sk-container-id-1 div.sk-estimator input.sk-toggleable__control:checked~label.sk-toggleable__label {background-color: #d4ebff;}#sk-container-id-1 div.sk-label input.sk-toggleable__control:checked~label.sk-toggleable__label {background-color: #d4ebff;}#sk-container-id-1 input.sk-hidden--visually {border: 0;clip: rect(1px 1px 1px 1px);clip: rect(1px, 1px, 1px, 1px);height: 1px;margin: -1px;overflow: hidden;padding: 0;position: absolute;width: 1px;}#sk-container-id-1 div.sk-estimator {font-family: monospace;background-color: #f0f8ff;border: 1px dotted black;border-radius: 0.25em;box-sizing: border-box;margin-bottom: 0.5em;}#sk-container-id-1 div.sk-estimator:hover {background-color: #d4ebff;}#sk-container-id-1 div.sk-parallel-item::after {content: \"\";width: 100%;border-bottom: 1px solid gray;flex-grow: 1;}#sk-container-id-1 div.sk-label:hover label.sk-toggleable__label {background-color: #d4ebff;}#sk-container-id-1 div.sk-serial::before {content: \"\";position: absolute;border-left: 1px solid gray;box-sizing: border-box;top: 0;bottom: 0;left: 50%;z-index: 0;}#sk-container-id-1 div.sk-serial {display: flex;flex-direction: column;align-items: center;background-color: white;padding-right: 0.2em;padding-left: 0.2em;position: relative;}#sk-container-id-1 div.sk-item {position: relative;z-index: 1;}#sk-container-id-1 div.sk-parallel {display: flex;align-items: stretch;justify-content: center;background-color: white;position: relative;}#sk-container-id-1 div.sk-item::before, #sk-container-id-1 div.sk-parallel-item::before {content: \"\";position: absolute;border-left: 1px solid gray;box-sizing: border-box;top: 0;bottom: 0;left: 50%;z-index: -1;}#sk-container-id-1 div.sk-parallel-item {display: flex;flex-direction: column;z-index: 1;position: relative;background-color: white;}#sk-container-id-1 div.sk-parallel-item:first-child::after {align-self: flex-end;width: 50%;}#sk-container-id-1 div.sk-parallel-item:last-child::after {align-self: flex-start;width: 50%;}#sk-container-id-1 div.sk-parallel-item:only-child::after {width: 0;}#sk-container-id-1 div.sk-dashed-wrapped {border: 1px dashed gray;margin: 0 0.4em 0.5em 0.4em;box-sizing: border-box;padding-bottom: 0.4em;background-color: white;}#sk-container-id-1 div.sk-label label {font-family: monospace;font-weight: bold;display: inline-block;line-height: 1.2em;}#sk-container-id-1 div.sk-label-container {text-align: center;}#sk-container-id-1 div.sk-container {/* jupyter's `normalize.less` sets `[hidden] { display: none; }` but bootstrap.min.css set `[hidden] { display: none !important; }` so we also need the `!important` here to be able to override the default hidden behavior on the sphinx rendered scikit-learn.org. See: https://github.com/scikit-learn/scikit-learn/issues/21755 */display: inline-block !important;position: relative;}#sk-container-id-1 div.sk-text-repr-fallback {display: none;}</style><div id=\"sk-container-id-1\" class=\"sk-top-container\"><div class=\"sk-text-repr-fallback\"><pre>VotingClassifier(estimators=[(&#x27;lr&#x27;,\n",
       "                              LogisticRegression(C=1, class_weight={0: 1, 1: 1},\n",
       "                                                 max_iter=5000,\n",
       "                                                 solver=&#x27;liblinear&#x27;)),\n",
       "                             (&#x27;gnb&#x27;, GaussianNB()),\n",
       "                             (&#x27;knn&#x27;, KNeighborsClassifier(n_neighbors=163)),\n",
       "                             (&#x27;rf&#x27;,\n",
       "                              RandomForestClassifier(max_depth=3,\n",
       "                                                     random_state=111)),\n",
       "                             (&#x27;svm&#x27;,\n",
       "                              Pipeline(steps=[(&#x27;standardscaler&#x27;,\n",
       "                                               StandardScaler()),\n",
       "                                              (&#x27;svc&#x27;, SVC(gamma=&#x27;auto&#x27;))])),\n",
       "                             (&#x27;xgb&#x27;,\n",
       "                              XGBClassifie...\n",
       "                                            gpu_id=None, grow_policy=None,\n",
       "                                            importance_type=None,\n",
       "                                            interaction_constraints=None,\n",
       "                                            learning_rate=None, max_bin=None,\n",
       "                                            max_cat_to_onehot=None,\n",
       "                                            max_delta_step=None, max_depth=None,\n",
       "                                            max_leaves=None,\n",
       "                                            min_child_weight=None, missing=nan,\n",
       "                                            monotone_constraints=None,\n",
       "                                            n_estimators=100, n_jobs=-1,\n",
       "                                            num_parallel_tree=None,\n",
       "                                            predictor=None, random_state=None,\n",
       "                                            reg_alpha=None, reg_lambda=None, ...))])</pre><b>In a Jupyter environment, please rerun this cell to show the HTML representation or trust the notebook. <br />On GitHub, the HTML representation is unable to render, please try loading this page with nbviewer.org.</b></div><div class=\"sk-container\" hidden><div class=\"sk-item sk-dashed-wrapped\"><div class=\"sk-label-container\"><div class=\"sk-label sk-toggleable\"><input class=\"sk-toggleable__control sk-hidden--visually\" id=\"sk-estimator-id-1\" type=\"checkbox\" ><label for=\"sk-estimator-id-1\" class=\"sk-toggleable__label sk-toggleable__label-arrow\">VotingClassifier</label><div class=\"sk-toggleable__content\"><pre>VotingClassifier(estimators=[(&#x27;lr&#x27;,\n",
       "                              LogisticRegression(C=1, class_weight={0: 1, 1: 1},\n",
       "                                                 max_iter=5000,\n",
       "                                                 solver=&#x27;liblinear&#x27;)),\n",
       "                             (&#x27;gnb&#x27;, GaussianNB()),\n",
       "                             (&#x27;knn&#x27;, KNeighborsClassifier(n_neighbors=163)),\n",
       "                             (&#x27;rf&#x27;,\n",
       "                              RandomForestClassifier(max_depth=3,\n",
       "                                                     random_state=111)),\n",
       "                             (&#x27;svm&#x27;,\n",
       "                              Pipeline(steps=[(&#x27;standardscaler&#x27;,\n",
       "                                               StandardScaler()),\n",
       "                                              (&#x27;svc&#x27;, SVC(gamma=&#x27;auto&#x27;))])),\n",
       "                             (&#x27;xgb&#x27;,\n",
       "                              XGBClassifie...\n",
       "                                            gpu_id=None, grow_policy=None,\n",
       "                                            importance_type=None,\n",
       "                                            interaction_constraints=None,\n",
       "                                            learning_rate=None, max_bin=None,\n",
       "                                            max_cat_to_onehot=None,\n",
       "                                            max_delta_step=None, max_depth=None,\n",
       "                                            max_leaves=None,\n",
       "                                            min_child_weight=None, missing=nan,\n",
       "                                            monotone_constraints=None,\n",
       "                                            n_estimators=100, n_jobs=-1,\n",
       "                                            num_parallel_tree=None,\n",
       "                                            predictor=None, random_state=None,\n",
       "                                            reg_alpha=None, reg_lambda=None, ...))])</pre></div></div></div><div class=\"sk-parallel\"><div class=\"sk-parallel-item\"><div class=\"sk-item\"><div class=\"sk-label-container\"><div class=\"sk-label sk-toggleable\"><label>lr</label></div></div><div class=\"sk-serial\"><div class=\"sk-item\"><div class=\"sk-estimator sk-toggleable\"><input class=\"sk-toggleable__control sk-hidden--visually\" id=\"sk-estimator-id-2\" type=\"checkbox\" ><label for=\"sk-estimator-id-2\" class=\"sk-toggleable__label sk-toggleable__label-arrow\">LogisticRegression</label><div class=\"sk-toggleable__content\"><pre>LogisticRegression(C=1, class_weight={0: 1, 1: 1}, max_iter=5000,\n",
       "                   solver=&#x27;liblinear&#x27;)</pre></div></div></div></div></div></div><div class=\"sk-parallel-item\"><div class=\"sk-item\"><div class=\"sk-label-container\"><div class=\"sk-label sk-toggleable\"><label>gnb</label></div></div><div class=\"sk-serial\"><div class=\"sk-item\"><div class=\"sk-estimator sk-toggleable\"><input class=\"sk-toggleable__control sk-hidden--visually\" id=\"sk-estimator-id-3\" type=\"checkbox\" ><label for=\"sk-estimator-id-3\" class=\"sk-toggleable__label sk-toggleable__label-arrow\">GaussianNB</label><div class=\"sk-toggleable__content\"><pre>GaussianNB()</pre></div></div></div></div></div></div><div class=\"sk-parallel-item\"><div class=\"sk-item\"><div class=\"sk-label-container\"><div class=\"sk-label sk-toggleable\"><label>knn</label></div></div><div class=\"sk-serial\"><div class=\"sk-item\"><div class=\"sk-estimator sk-toggleable\"><input class=\"sk-toggleable__control sk-hidden--visually\" id=\"sk-estimator-id-4\" type=\"checkbox\" ><label for=\"sk-estimator-id-4\" class=\"sk-toggleable__label sk-toggleable__label-arrow\">KNeighborsClassifier</label><div class=\"sk-toggleable__content\"><pre>KNeighborsClassifier(n_neighbors=163)</pre></div></div></div></div></div></div><div class=\"sk-parallel-item\"><div class=\"sk-item\"><div class=\"sk-label-container\"><div class=\"sk-label sk-toggleable\"><label>rf</label></div></div><div class=\"sk-serial\"><div class=\"sk-item\"><div class=\"sk-estimator sk-toggleable\"><input class=\"sk-toggleable__control sk-hidden--visually\" id=\"sk-estimator-id-5\" type=\"checkbox\" ><label for=\"sk-estimator-id-5\" class=\"sk-toggleable__label sk-toggleable__label-arrow\">RandomForestClassifier</label><div class=\"sk-toggleable__content\"><pre>RandomForestClassifier(max_depth=3, random_state=111)</pre></div></div></div></div></div></div><div class=\"sk-parallel-item\"><div class=\"sk-item\"><div class=\"sk-label-container\"><div class=\"sk-label sk-toggleable\"><label>svm</label></div></div><div class=\"sk-serial\"><div class=\"sk-item\"><div class=\"sk-serial\"><div class=\"sk-item\"><div class=\"sk-estimator sk-toggleable\"><input class=\"sk-toggleable__control sk-hidden--visually\" id=\"sk-estimator-id-6\" type=\"checkbox\" ><label for=\"sk-estimator-id-6\" class=\"sk-toggleable__label sk-toggleable__label-arrow\">StandardScaler</label><div class=\"sk-toggleable__content\"><pre>StandardScaler()</pre></div></div></div><div class=\"sk-item\"><div class=\"sk-estimator sk-toggleable\"><input class=\"sk-toggleable__control sk-hidden--visually\" id=\"sk-estimator-id-7\" type=\"checkbox\" ><label for=\"sk-estimator-id-7\" class=\"sk-toggleable__label sk-toggleable__label-arrow\">SVC</label><div class=\"sk-toggleable__content\"><pre>SVC(gamma=&#x27;auto&#x27;)</pre></div></div></div></div></div></div></div></div><div class=\"sk-parallel-item\"><div class=\"sk-item\"><div class=\"sk-label-container\"><div class=\"sk-label sk-toggleable\"><label>xgb</label></div></div><div class=\"sk-serial\"><div class=\"sk-item\"><div class=\"sk-estimator sk-toggleable\"><input class=\"sk-toggleable__control sk-hidden--visually\" id=\"sk-estimator-id-8\" type=\"checkbox\" ><label for=\"sk-estimator-id-8\" class=\"sk-toggleable__label sk-toggleable__label-arrow\">XGBClassifier</label><div class=\"sk-toggleable__content\"><pre>XGBClassifier(base_score=None, booster=None, callbacks=None,\n",
       "              colsample_bylevel=None, colsample_bynode=None,\n",
       "              colsample_bytree=None, early_stopping_rounds=None,\n",
       "              enable_categorical=False, eval_metric=None, gamma=None,\n",
       "              gpu_id=None, grow_policy=None, importance_type=None,\n",
       "              interaction_constraints=None, learning_rate=None, max_bin=None,\n",
       "              max_cat_to_onehot=None, max_delta_step=None, max_depth=None,\n",
       "              max_leaves=None, min_child_weight=None, missing=nan,\n",
       "              monotone_constraints=None, n_estimators=100, n_jobs=-1,\n",
       "              num_parallel_tree=None, predictor=None, random_state=None,\n",
       "              reg_alpha=None, reg_lambda=None, ...)</pre></div></div></div></div></div></div></div></div></div></div>"
      ],
      "text/plain": [
       "VotingClassifier(estimators=[('lr',\n",
       "                              LogisticRegression(C=1, class_weight={0: 1, 1: 1},\n",
       "                                                 max_iter=5000,\n",
       "                                                 solver='liblinear')),\n",
       "                             ('gnb', GaussianNB()),\n",
       "                             ('knn', KNeighborsClassifier(n_neighbors=163)),\n",
       "                             ('rf',\n",
       "                              RandomForestClassifier(max_depth=3,\n",
       "                                                     random_state=111)),\n",
       "                             ('svm',\n",
       "                              Pipeline(steps=[('standardscaler',\n",
       "                                               StandardScaler()),\n",
       "                                              ('svc', SVC(gamma='auto'))])),\n",
       "                             ('xgb',\n",
       "                              XGBClassifie...\n",
       "                                            gpu_id=None, grow_policy=None,\n",
       "                                            importance_type=None,\n",
       "                                            interaction_constraints=None,\n",
       "                                            learning_rate=None, max_bin=None,\n",
       "                                            max_cat_to_onehot=None,\n",
       "                                            max_delta_step=None, max_depth=None,\n",
       "                                            max_leaves=None,\n",
       "                                            min_child_weight=None, missing=nan,\n",
       "                                            monotone_constraints=None,\n",
       "                                            n_estimators=100, n_jobs=-1,\n",
       "                                            num_parallel_tree=None,\n",
       "                                            predictor=None, random_state=None,\n",
       "                                            reg_alpha=None, reg_lambda=None, ...))])"
      ]
     },
     "execution_count": 90,
     "metadata": {},
     "output_type": "execute_result"
    }
   ],
   "source": [
    "clf_pca.fit(X_emb_pca, y_train_u)\n",
    "clf_emb.fit(X_emb_u, y_train_u)"
   ]
  },
  {
   "cell_type": "code",
   "execution_count": 91,
   "id": "df1c52a1",
   "metadata": {},
   "outputs": [],
   "source": [
    "# y_pred = clf_out.predict(X_test[col_keep_test_u])\n",
    "y_pred_e = clf_emb.predict(X_emb_test)\n",
    "y_pred_p = clf_pca.predict(X_emb_test_pca)"
   ]
  },
  {
   "cell_type": "code",
   "execution_count": 97,
   "id": "a5968494",
   "metadata": {},
   "outputs": [
    {
     "data": {
      "text/plain": [
       "array([[ 122, 3317],\n",
       "       [ 114, 2989]])"
      ]
     },
     "execution_count": 97,
     "metadata": {},
     "output_type": "execute_result"
    }
   ],
   "source": [
    "confusion_matrix(y_test, y_pred_p)"
   ]
  },
  {
   "cell_type": "code",
   "execution_count": 98,
   "id": "74f5dce3",
   "metadata": {},
   "outputs": [
    {
     "data": {
      "text/plain": [
       "array([[   7, 3432],\n",
       "       [  15, 3088]])"
      ]
     },
     "execution_count": 98,
     "metadata": {},
     "output_type": "execute_result"
    }
   ],
   "source": [
    "confusion_matrix(y_test, y_pred_e)"
   ]
  },
  {
   "cell_type": "code",
   "execution_count": 94,
   "id": "e4288054",
   "metadata": {},
   "outputs": [],
   "source": [
    "# print(\n",
    "#     n, '\\n\\t',\n",
    "#     f'Accuracy  {accuracy_score(y_test, y_pred):.3f}\\n\\t',\n",
    "#     f'Precision {precision_score(y_test, y_pred):.3f}\\n\\t',\n",
    "#     f'Recall    {recall_score(y_test, y_pred):.3f}\\n\\t',\n",
    "#     f'F1 Score  {f1_score(y_test, y_pred):.3f}\\n\\t',\n",
    "# )"
   ]
  },
  {
   "cell_type": "code",
   "execution_count": 95,
   "id": "b59e16f2",
   "metadata": {},
   "outputs": [
    {
     "name": "stdout",
     "output_type": "stream",
     "text": [
      "xgboost   \n",
      "\t Accuracy  0.476\n",
      "\t Precision 0.474\n",
      "\t Recall    0.963\n",
      "\t F1 Score  0.635\n",
      "\t\n"
     ]
    }
   ],
   "source": [
    "print(\n",
    "    n, '\\n\\t',\n",
    "    f'Accuracy  {accuracy_score(y_test, y_pred_p):.3f}\\n\\t',\n",
    "    f'Precision {precision_score(y_test, y_pred_p):.3f}\\n\\t',\n",
    "    f'Recall    {recall_score(y_test, y_pred_p):.3f}\\n\\t',\n",
    "    f'F1 Score  {f1_score(y_test, y_pred_p):.3f}\\n\\t',\n",
    ")"
   ]
  },
  {
   "cell_type": "code",
   "execution_count": 96,
   "id": "b2c1d7b4",
   "metadata": {},
   "outputs": [
    {
     "name": "stdout",
     "output_type": "stream",
     "text": [
      "xgboost   \n",
      "\t Accuracy  0.473\n",
      "\t Precision 0.474\n",
      "\t Recall    0.995\n",
      "\t F1 Score  0.642\n",
      "\t\n"
     ]
    }
   ],
   "source": [
    "print(\n",
    "    n, '\\n\\t',\n",
    "    f'Accuracy  {accuracy_score(y_test, y_pred_e):.3f}\\n\\t',\n",
    "    f'Precision {precision_score(y_test, y_pred_e):.3f}\\n\\t',\n",
    "    f'Recall    {recall_score(y_test, y_pred_e):.3f}\\n\\t',\n",
    "    f'F1 Score  {f1_score(y_test, y_pred_e):.3f}\\n\\t',\n",
    ")"
   ]
  },
  {
   "cell_type": "code",
   "execution_count": null,
   "id": "0de24a5e",
   "metadata": {},
   "outputs": [],
   "source": []
  }
 ],
 "metadata": {
  "kernelspec": {
   "display_name": "Python 3 (ipykernel)",
   "language": "python",
   "name": "python3"
  },
  "language_info": {
   "codemirror_mode": {
    "name": "ipython",
    "version": 3
   },
   "file_extension": ".py",
   "mimetype": "text/x-python",
   "name": "python",
   "nbconvert_exporter": "python",
   "pygments_lexer": "ipython3",
   "version": "3.9.13"
  }
 },
 "nbformat": 4,
 "nbformat_minor": 5
}
