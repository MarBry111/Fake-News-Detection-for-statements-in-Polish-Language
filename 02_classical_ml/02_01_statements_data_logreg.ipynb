{
 "cells": [
  {
   "cell_type": "code",
   "execution_count": 47,
   "id": "cb3587c1",
   "metadata": {},
   "outputs": [
    {
     "name": "stdout",
     "output_type": "stream",
     "text": [
      "The autoreload extension is already loaded. To reload it, use:\n",
      "  %reload_ext autoreload\n"
     ]
    }
   ],
   "source": [
    "%load_ext autoreload\n",
    "%autoreload 2\n",
    "\n",
    "import pandas as pd\n",
    "import numpy as np\n",
    "import spacy\n",
    "import gensim\n",
    "import nltk\n",
    "import scipy\n",
    "import matplotlib.pyplot as plt\n",
    "import json\n",
    "\n",
    "from sklearn.linear_model import LogisticRegression\n",
    "import xgboost as xgb\n",
    "from sklearn.ensemble import RandomForestClassifier\n",
    "\n",
    "from sklearn.metrics import (\n",
    "    accuracy_score, \n",
    "    f1_score, \n",
    "    recall_score,\n",
    "    precision_score,\n",
    "    roc_auc_score, confusion_matrix, roc_curve, classification_report\n",
    ")\n",
    "from sklearn.model_selection import cross_validate\n",
    "from sklearn.base import clone as sklearn_clone\n",
    "from sklearn.model_selection import KFold\n",
    "\n",
    "from tqdm import tqdm\n",
    "tqdm.pandas()\n",
    "\n",
    "import random\n",
    "\n",
    "import sys\n",
    "sys.path.append('..')\n",
    "\n",
    "from helpers.model import (\n",
    "    balance_data\n",
    ")"
   ]
  },
  {
   "cell_type": "markdown",
   "id": "2148d9d1",
   "metadata": {},
   "source": [
    "## Load data"
   ]
  },
  {
   "cell_type": "code",
   "execution_count": 2,
   "id": "8e578f6b",
   "metadata": {},
   "outputs": [],
   "source": [
    "df_styl = pd.read_parquet('../datasets/used_data/02_classical_ml/03_01_statements_styllometric_features.parquet')\n",
    "df_pos = pd.read_parquet('../datasets/used_data/02_classical_ml/03_02_statements_POS_ngrams.parquet')\n",
    "df_ngram = pd.read_parquet('../datasets/used_data/02_classical_ml/03_03_statements_words_ngrams.parquet')\n",
    "\n",
    "with open('../datasets/used_data/02_classical_ml/03_04_statements_herbert.npy', 'rb') as f:\n",
    "    df_herbert = pd.DataFrame(np.load(f))\n",
    "\n",
    "with open('../datasets/used_data/02_classical_ml/03_05_statements_roberta.npy', 'rb') as f:\n",
    "    df_roberta = pd.DataFrame(np.load(f))"
   ]
  },
  {
   "cell_type": "code",
   "execution_count": 3,
   "id": "2a25689c-b8ad-4f22-a2cd-7582b90b060b",
   "metadata": {},
   "outputs": [
    {
     "name": "stdout",
     "output_type": "stream",
     "text": [
      "(6529, 30) (6529, 2647) (6529, 2771) (6529, 1024)\n"
     ]
    }
   ],
   "source": [
    "print(df_styl.shape, df_pos.shape, df_ngram.shape, df_herbert.shape)"
   ]
  },
  {
   "cell_type": "code",
   "execution_count": 4,
   "id": "f170b532-6dc2-4d45-bf76-b9d826eca059",
   "metadata": {},
   "outputs": [],
   "source": [
    "y_train = df_styl['assestment']"
   ]
  },
  {
   "cell_type": "code",
   "execution_count": 5,
   "id": "5a75d7c2-0507-4735-9353-1345233c5073",
   "metadata": {},
   "outputs": [
    {
     "data": {
      "text/plain": [
       "assestment\n",
       "1    3434\n",
       "0    3095\n",
       "Name: count, dtype: int64"
      ]
     },
     "execution_count": 5,
     "metadata": {},
     "output_type": "execute_result"
    }
   ],
   "source": [
    "y_train.value_counts()"
   ]
  },
  {
   "cell_type": "code",
   "execution_count": 6,
   "id": "2ae97f2f-5d81-4c7b-a388-b011d3400fe1",
   "metadata": {},
   "outputs": [],
   "source": [
    "df_styl.pop('assestment');\n",
    "df_pos.pop('assestment');\n",
    "df_ngram.pop('assestment');"
   ]
  },
  {
   "cell_type": "markdown",
   "id": "ed20c751",
   "metadata": {},
   "source": [
    "## Make balanced datasets"
   ]
  },
  {
   "cell_type": "code",
   "execution_count": 7,
   "id": "eb5343ef",
   "metadata": {},
   "outputs": [],
   "source": [
    "X_train_u = df_styl\n",
    "X_pos_u = df_pos \n",
    "X_ngram_u = df_ngram\n",
    "X_herbert_u = df_herbert\n",
    "X_roberta_u = df_roberta\n",
    "\n",
    "y_train_u = y_train "
   ]
  },
  {
   "cell_type": "code",
   "execution_count": 8,
   "id": "6e696f3d-a547-4694-aca5-4ebe6ae3fc75",
   "metadata": {},
   "outputs": [],
   "source": [
    "words = X_ngram_u['TEXT_WORD'].str.split(' ').values\n",
    "X_ngram_u.pop('TEXT_WORD');"
   ]
  },
  {
   "cell_type": "markdown",
   "id": "a73c34bd",
   "metadata": {},
   "source": [
    "## CV creation\n",
    "### LDA"
   ]
  },
  {
   "cell_type": "code",
   "execution_count": 9,
   "id": "a74ee952",
   "metadata": {},
   "outputs": [],
   "source": [
    "ideal_topic_num = 10"
   ]
  },
  {
   "cell_type": "code",
   "execution_count": 10,
   "id": "a02f856f",
   "metadata": {},
   "outputs": [
    {
     "name": "stderr",
     "output_type": "stream",
     "text": [
      "100%|█████████████████████████████████████████████████████████████████████████████████████████████████████████████████████████████████████████| 6529/6529 [00:00<00:00, 7168.81it/s]\n"
     ]
    }
   ],
   "source": [
    "dictionary = gensim.corpora.Dictionary(words)\n",
    "\n",
    "bow_corpus = [dictionary.doc2bow(doc) for doc in words]\n",
    "\n",
    "\n",
    "lda_model =  gensim.models.LdaMulticore(bow_corpus, \n",
    "                                   num_topics = ideal_topic_num, \n",
    "                                   id2word = dictionary,                                    \n",
    "                                   passes = 10,\n",
    "                                   random_state=111,\n",
    "                                   workers = 7)\n",
    "\n",
    "topics = []\n",
    "\n",
    "for line in tqdm(words):\n",
    "    line_bow = dictionary.doc2bow(line)\n",
    "    doc_lda = lda_model[line_bow]\n",
    "    \n",
    "    topics.append( max(doc_lda, key=lambda x:x[1])[0] )\n",
    "\n",
    "# X_train_u['topic'] = topics"
   ]
  },
  {
   "cell_type": "code",
   "execution_count": 11,
   "id": "fd65141c",
   "metadata": {},
   "outputs": [
    {
     "name": "stdout",
     "output_type": "stream",
     "text": [
      "0 0.033*\"europejski\" + 0.021*\"unia\" + 0.014*\"komisja\" + 0.011*\"sprawa\" + 0.010*\"europa\"\n",
      "1 0.021*\"prawo\" + 0.014*\"trybunał\" + 0.013*\"ustawa\" + 0.013*\"konstytucja\" + 0.013*\"polski\"\n",
      "2 0.016*\"procent\" + 0.013*\"minister\" + 0.009*\"polak\" + 0.008*\"bezrobocie\" + 0.007*\"europejski\"\n",
      "3 0.018*\"państwo\" + 0.015*\"kraj\" + 0.015*\"budżet\" + 0.013*\"prezydent\" + 0.012*\"europejski\"\n",
      "4 0.016*\"wybory\" + 0.014*\"osoba\" + 0.012*\"rząd\" + 0.010*\"poseł\" + 0.010*\"sejm\"\n",
      "5 0.017*\"sędzia\" + 0.012*\"sąd\" + 0.010*\"trybunał\" + 0.009*\"konstytucyjny\" + 0.008*\"duży\"\n",
      "6 0.013*\"mówić\" + 0.013*\"miejsce\" + 0.010*\"osoba\" + 0.009*\"polak\" + 0.009*\"program\"\n",
      "7 0.021*\"procent\" + 0.021*\"pkb\" + 0.016*\"wzrost\" + 0.013*\"poziom\" + 0.011*\"wzrosnąć\"\n",
      "8 0.038*\"dziecko\" + 0.024*\"złoty\" + 0.012*\"warszawa\" + 0.012*\"chodzić\" + 0.012*\"miasto\"\n",
      "9 0.021*\"człowiek\" + 0.013*\"osoba\" + 0.012*\"kraj\" + 0.008*\"europejski\" + 0.008*\"mówić\"\n"
     ]
    }
   ],
   "source": [
    "x = lda_model.show_topics(num_topics=ideal_topic_num, num_words=5)\n",
    "\n",
    "for topic,word in x:\n",
    "    print(topic, word)"
   ]
  },
  {
   "cell_type": "code",
   "execution_count": 12,
   "id": "9351146f",
   "metadata": {},
   "outputs": [
    {
     "data": {
      "text/html": [
       "<div>\n",
       "<style scoped>\n",
       "    .dataframe tbody tr th:only-of-type {\n",
       "        vertical-align: middle;\n",
       "    }\n",
       "\n",
       "    .dataframe tbody tr th {\n",
       "        vertical-align: top;\n",
       "    }\n",
       "\n",
       "    .dataframe thead th {\n",
       "        text-align: right;\n",
       "    }\n",
       "</style>\n",
       "<table border=\"1\" class=\"dataframe\">\n",
       "  <thead>\n",
       "    <tr style=\"text-align: right;\">\n",
       "      <th>assestment</th>\n",
       "      <th>0</th>\n",
       "      <th>1</th>\n",
       "    </tr>\n",
       "    <tr>\n",
       "      <th>topic</th>\n",
       "      <th></th>\n",
       "      <th></th>\n",
       "    </tr>\n",
       "  </thead>\n",
       "  <tbody>\n",
       "    <tr>\n",
       "      <th>0</th>\n",
       "      <td>255</td>\n",
       "      <td>335</td>\n",
       "    </tr>\n",
       "    <tr>\n",
       "      <th>1</th>\n",
       "      <td>345</td>\n",
       "      <td>560</td>\n",
       "    </tr>\n",
       "    <tr>\n",
       "      <th>2</th>\n",
       "      <td>355</td>\n",
       "      <td>268</td>\n",
       "    </tr>\n",
       "    <tr>\n",
       "      <th>3</th>\n",
       "      <td>341</td>\n",
       "      <td>311</td>\n",
       "    </tr>\n",
       "    <tr>\n",
       "      <th>4</th>\n",
       "      <td>293</td>\n",
       "      <td>330</td>\n",
       "    </tr>\n",
       "    <tr>\n",
       "      <th>5</th>\n",
       "      <td>241</td>\n",
       "      <td>307</td>\n",
       "    </tr>\n",
       "    <tr>\n",
       "      <th>6</th>\n",
       "      <td>284</td>\n",
       "      <td>372</td>\n",
       "    </tr>\n",
       "    <tr>\n",
       "      <th>7</th>\n",
       "      <td>347</td>\n",
       "      <td>285</td>\n",
       "    </tr>\n",
       "    <tr>\n",
       "      <th>8</th>\n",
       "      <td>353</td>\n",
       "      <td>315</td>\n",
       "    </tr>\n",
       "    <tr>\n",
       "      <th>9</th>\n",
       "      <td>281</td>\n",
       "      <td>351</td>\n",
       "    </tr>\n",
       "  </tbody>\n",
       "</table>\n",
       "</div>"
      ],
      "text/plain": [
       "assestment    0    1\n",
       "topic               \n",
       "0           255  335\n",
       "1           345  560\n",
       "2           355  268\n",
       "3           341  311\n",
       "4           293  330\n",
       "5           241  307\n",
       "6           284  372\n",
       "7           347  285\n",
       "8           353  315\n",
       "9           281  351"
      ]
     },
     "execution_count": 12,
     "metadata": {},
     "output_type": "execute_result"
    }
   ],
   "source": [
    "y_train_u_topics = pd.DataFrame(y_train_u.copy())\n",
    "y_train_u_topics['topic'] = topics\n",
    "y_train_u_topics['n'] = 1\n",
    "y_train_u_topics.groupby(['topic', 'assestment']).sum().reset_index().pivot(index='topic',columns='assestment',values='n')"
   ]
  },
  {
   "cell_type": "code",
   "execution_count": 13,
   "id": "43054ea4-ee02-445e-b6f7-6522025f50f7",
   "metadata": {},
   "outputs": [],
   "source": [
    "df_plot = y_train_u_topics.groupby(['topic', 'assestment']).sum().reset_index().pivot(index='topic',columns='assestment',values='n')\n",
    "# df_plot[1] = -df_plot[1]"
   ]
  },
  {
   "cell_type": "code",
   "execution_count": 14,
   "id": "5004c8d1-ef41-44f3-a74a-da83ee0f4af8",
   "metadata": {},
   "outputs": [
    {
     "data": {
      "image/png": "[encoded data removed]",
      "text/plain": [
       "<Figure size 640x480 with 1 Axes>"
      ]
     },
     "metadata": {},
     "output_type": "display_data"
    }
   ],
   "source": [
    "# Transpose the DataFrame\n",
    "# df_plot = df_plot.transpose()\n",
    "\n",
    "# Plotting bidirectional bar plot\n",
    "fig, ax = plt.subplots()\n",
    "df_plot.plot(kind='barh', stacked=False, ax=ax)\n",
    "\n",
    "# Adjusting labels and legend\n",
    "ax.set_ylabel('Topic')\n",
    "ax.set_xlabel('Number of claims in given topic')\n",
    "# ax.set_title('Bidirectional Bar Plot')\n",
    "# ax.legend(title='Assessment', bbox_to_anchor=(1.05, 1), loc='upper left')\n",
    "\n",
    "plt.show()"
   ]
  },
  {
   "cell_type": "code",
   "execution_count": 15,
   "id": "6435e1cb-7062-4911-893e-f05e29353090",
   "metadata": {},
   "outputs": [],
   "source": [
    "# with open('../datasets/used_data/03_bert_like_models/02_topics.npy', 'wb') as f:\n",
    "#     np.save(f, np.array(topics))"
   ]
  },
  {
   "cell_type": "markdown",
   "id": "06e17e0a",
   "metadata": {},
   "source": [
    "### Kfold"
   ]
  },
  {
   "cell_type": "code",
   "execution_count": 16,
   "id": "8829acdb",
   "metadata": {},
   "outputs": [],
   "source": [
    "cv_fold = []\n",
    "cv_fold_i = []\n",
    "\n",
    "for i in y_train_u_topics['topic'].unique().reshape(10,-1):\n",
    "    train_cv = X_train_u.index[ ~np.isin(y_train_u_topics[\"topic\"], i) ].values\n",
    "    test_cv = X_train_u.index[ np.isin(y_train_u_topics[\"topic\"], i) ].values\n",
    "    \n",
    "    # train_cv_i = X_train_u.reset_index().index[ ~np.isin(X_train_u[\"topic\"], i) ].values\n",
    "    # test_cv_i = X_train_u.reset_index().index[ np.isin(X_train_u[\"topic\"], i) ].values\n",
    "    \n",
    "    cv_fold.append( [train_cv, test_cv])\n",
    "    # cv_fold_i.append( [train_cv_i, test_cv_i])"
   ]
  },
  {
   "cell_type": "code",
   "execution_count": 17,
   "id": "bec90100",
   "metadata": {},
   "outputs": [],
   "source": [
    "kf = KFold(n_splits=10, shuffle=True)\n",
    "kf.get_n_splits(X_train_u)\n",
    "\n",
    "cv_Kfold = []\n",
    "cv_Kfold_i = []\n",
    "\n",
    "for train_index, test_index in kf.split(X_train_u):\n",
    "    train_cv = X_train_u.iloc[ train_index, : ].index.values\n",
    "    test_cv = X_train_u.iloc[ test_index, : ].index.values\n",
    "\n",
    "    # train_cv_i= X_train_u.reset_index().iloc[ train_index, : ].index.values\n",
    "    # test_cv_i = X_train_u.reset_index().iloc[ test_index, : ].index.values\n",
    "    \n",
    "    cv_Kfold.append( [train_cv, test_cv])\n",
    "    # cv_Kfold_i.append( [train_cv_i, test_cv_i])"
   ]
  },
  {
   "cell_type": "code",
   "execution_count": null,
   "id": "7bfaec6d-b62d-4038-a719-b5fa237cb0d5",
   "metadata": {},
   "outputs": [],
   "source": [
    "with open(\"../datasets/used_data/cv_fold.txt\", 'w') as fp:\n",
    "    json.dump(cv_fold, fp)"
   ]
  },
  {
   "cell_type": "markdown",
   "id": "05f0f426",
   "metadata": {},
   "source": [
    "## Run experiments"
   ]
  },
  {
   "cell_type": "code",
   "execution_count": 18,
   "id": "4ff6e568",
   "metadata": {},
   "outputs": [],
   "source": [
    "def run_experiment(X, y, cv, clf_org, r_min=0.05):\n",
    "\n",
    "    results = {\n",
    "        'test_accuracy' : [],\n",
    "        'test_precision' : [],\n",
    "        'test_recall' : [],\n",
    "        'test_f1' : [],\n",
    "        'col_keep' : []\n",
    "    }\n",
    "\n",
    "    c_matrix = np.zeros((2,2))\n",
    "\n",
    "    for train_cv, test_cv in cv:\n",
    "        clf = sklearn_clone(clf_org)\n",
    "        \n",
    "        X_train_t = X[X.index.isin(train_cv)]\n",
    "        y_train_t = y[y.index.isin(train_cv)]\n",
    "\n",
    "        # keep only columns with corr > 0.05\n",
    "        if r_min:\n",
    "            col_keep = []\n",
    "            for c in X_train_t.columns:\n",
    "                min_v =X_train_t[c].values.min()\n",
    "                max_v = X_train_t[c].values.max()\n",
    "    \n",
    "                if min_v < max_v:\n",
    "                    r = scipy.stats.pearsonr(X_train_t[c].values, y_train_t)[0]\n",
    "                    if ~np.isnan(r) and r > r_min:\n",
    "                        col_keep.append(c)\n",
    "            \n",
    "            if len(col_keep) == 0:\n",
    "                print('No values returned')\n",
    "        \n",
    "            X_train_t = X_train_t[col_keep]\n",
    "        else:\n",
    "            col_keep =  X_train_t.columns.values.tolist()\n",
    "\n",
    "\n",
    "        X_test_t = X[X.index.isin(test_cv)]\n",
    "        y_test_t = y[y.index.isin(test_cv)]\n",
    "        \n",
    "        if r_min:\n",
    "            X_test_t = X_test_t[col_keep]\n",
    "\n",
    "        clf.fit(X_train_t, y_train_t)\n",
    "\n",
    "        y_pred = clf.predict(X_test_t)\n",
    "\n",
    "        confusion = confusion_matrix(y_test_t, y_pred)\n",
    "        c_matrix += confusion\n",
    "\n",
    "    #     TN, FP = confusion[0, 0], confusion[0, 1]\n",
    "    #     FN, TP = confusion[1, 0], confusion[1, 1]\n",
    "\n",
    "        results['test_accuracy'].append( accuracy_score(y_test_t, y_pred) ) \n",
    "        results['test_precision'].append( precision_score(y_test_t, y_pred) ) \n",
    "        results['test_recall'].append( recall_score(y_test_t, y_pred) ) \n",
    "        results['test_f1'].append( f1_score(y_test_t, y_pred) ) \n",
    "        results['col_keep'].append( len(col_keep)) \n",
    "    \n",
    "    metrics = {\n",
    "        \"Accuracy\": np.array(results['test_accuracy']),\n",
    "        \"Precision\": np.array(results['test_precision']).mean(),\n",
    "        \"Recall\": np.array(results['test_recall']).mean(),\n",
    "        \"F1 Score\":  np.array(results['test_f1']),\n",
    "        \"Cols used\": np.array(results['col_keep']),\n",
    "        }\n",
    "\n",
    "#     print(c_matrix)\n",
    "\n",
    "    return metrics"
   ]
  },
  {
   "cell_type": "markdown",
   "id": "87831898",
   "metadata": {},
   "source": [
    "## Topics Kfold"
   ]
  },
  {
   "cell_type": "code",
   "execution_count": 19,
   "id": "dd76287f",
   "metadata": {},
   "outputs": [],
   "source": [
    "random.seed(111)"
   ]
  },
  {
   "cell_type": "code",
   "execution_count": 20,
   "id": "0310f565-87d2-41a2-8d35-644c848cfa7c",
   "metadata": {},
   "outputs": [],
   "source": [
    "clf_lr_1 = LogisticRegression(max_iter=5000, C=1, penalty='l2', solver='liblinear')\n",
    "clf_lr_01 = LogisticRegression(max_iter=5000, C=0.1, penalty='l2', solver='liblinear')\n",
    "clf_rf = RandomForestClassifier(random_state=111, max_depth=5)"
   ]
  },
  {
   "cell_type": "code",
   "execution_count": 21,
   "id": "923a0654",
   "metadata": {},
   "outputs": [
    {
     "name": "stdout",
     "output_type": "stream",
     "text": [
      "ngrams  None lr C1 Accuracy 0.62+-0.02 F1 Score 0.67+-0.06 Cols used 2769+-0\n",
      "ngrams  0.03 lr C1 Accuracy 0.60+-0.02 F1 Score 0.62+-0.06 Cols used 162+-6\n",
      "features     lr C1 Accuracy 0.55+-0.03 F1 Score 0.62+-0.04 Cols used 29+-0\n",
      "pos     None lr C1 Accuracy 0.54+-0.03 F1 Score 0.60+-0.04 Cols used 2646+-0\n",
      "pos     0.03 lr C1 Accuracy 0.53+-0.02 F1 Score 0.59+-0.04 Cols used 70+-6\n",
      "\n"
     ]
    }
   ],
   "source": [
    "for clf_used, clf_name in zip(\n",
    "    [\n",
    "        clf_lr_1, \n",
    "        # clf_rf, #clf_xgb\n",
    "    ],[\n",
    "        'lr C1', \n",
    "        # 'rf d5', #'xgb  '\n",
    "    ]\n",
    "):\n",
    "        \n",
    "    for X_used, x_name, r_min in zip(\n",
    "        # [X_ngram_u, X_train_u, X_pos_u, X_herbert_u],\n",
    "        # ['ngrams  ', 'features', 'pos     ', 'herbert '],\n",
    "        # [0.01, None, 0.01, None]\n",
    "        [X_ngram_u, \n",
    "         X_ngram_u, \n",
    "         # X_ngram_u, \n",
    "         # X_ngram_u, \n",
    "         X_train_u, \n",
    "         X_pos_u, \n",
    "         X_pos_u, \n",
    "         # X_pos_u, \n",
    "         # X_pos_u, \n",
    "         ],\n",
    "        ['ngrams  None', \n",
    "         # 'ngrams  0.01', \n",
    "         'ngrams  0.03', \n",
    "         # 'ngrams  0.05', \n",
    "         'features    ', \n",
    "         'pos     None', \n",
    "         # 'pos     0.01', \n",
    "         'pos     0.03', \n",
    "         # 'pos     0.05', \n",
    "        ],\n",
    "        [None, \n",
    "         # 0.01, \n",
    "         0.03,\n",
    "         # 0.05, \n",
    "         None, \n",
    "         None, \n",
    "         # 0.01, \n",
    "         0.03, \n",
    "         # 0.05, \n",
    "         ]\n",
    "    ):\n",
    "        out = run_experiment(X_used, y_train_u, cv_fold, clf_used, r_min)\n",
    "        print(\n",
    "            x_name, \n",
    "            clf_name,\n",
    "            f'Accuracy {out[\"Accuracy\"].mean():.2f}+-{out[\"Accuracy\"].std():.2f}',\n",
    "            f'F1 Score {out[\"F1 Score\"].mean():.2f}+-{out[\"F1 Score\"].std():.2f}',\n",
    "            f'Cols used {out[\"Cols used\"].mean().round(0):.0f}+-{out[\"Cols used\"].std().round(0):.0f}',\n",
    "            # f'Cols used {len(out[\"Cols used\"])}',\n",
    "            # f'\\n\\tPrecision {out[\"Precision\"].mean():.2f}+-{out[\"Precision\"].std():.2f}',\n",
    "            # f'\\n\\tRecall {out[\"Recall\"].mean():.2f}+-{out[\"Recall\"].std():.2f}',\n",
    "            # f' {out[\"Accuracy\"].mean():.3f}+-{out[\"Accuracy\"].std():.3f} | {out[\"F1 Score\"].mean():.3f}+-{out[\"F1 Score\"].std():.3f}'\n",
    "        )\n",
    "        \n",
    "    print()"
   ]
  },
  {
   "cell_type": "markdown",
   "id": "2ed30078",
   "metadata": {},
   "source": [
    "## Random Kfold"
   ]
  },
  {
   "cell_type": "code",
   "execution_count": 22,
   "id": "191ccf91-7937-44c5-bf2d-b7e30d422bbc",
   "metadata": {},
   "outputs": [
    {
     "name": "stdout",
     "output_type": "stream",
     "text": [
      "ngrams  None lr C1 Accuracy 0.63+-0.02 F1 Score 0.68+-0.02 Cols used 2769+-0\n",
      "ngrams  0.03 lr C1 Accuracy 0.61+-0.01 F1 Score 0.63+-0.02 Cols used 160+-7\n",
      "features     lr C1 Accuracy 0.56+-0.02 F1 Score 0.63+-0.01 Cols used 29+-0\n",
      "pos     None lr C1 Accuracy 0.54+-0.01 F1 Score 0.61+-0.01 Cols used 2646+-0\n",
      "pos     0.03 lr C1 Accuracy 0.54+-0.02 F1 Score 0.60+-0.02 Cols used 72+-4\n",
      "\n"
     ]
    }
   ],
   "source": [
    "for clf_used, clf_name in zip(\n",
    "    [\n",
    "        clf_lr_1, \n",
    "        # clf_rf, # clf_xgb\n",
    "    ],[\n",
    "        'lr C1', \n",
    "        # 'rf d5', # 'xgb  '\n",
    "    ]\n",
    "):\n",
    "        \n",
    "    for X_used, x_name, r_min in zip(\n",
    "        [X_ngram_u, \n",
    "         X_ngram_u, \n",
    "         # X_ngram_u, \n",
    "         # X_ngram_u, \n",
    "         X_train_u, \n",
    "         X_pos_u, \n",
    "         X_pos_u, \n",
    "         # X_pos_u, \n",
    "         # X_pos_u, \n",
    "         ],\n",
    "        ['ngrams  None', \n",
    "         # 'ngrams  0.01', \n",
    "         'ngrams  0.03', \n",
    "         # 'ngrams  0.05', \n",
    "         'features    ', \n",
    "         'pos     None', \n",
    "         # 'pos     0.01', \n",
    "         'pos     0.03', \n",
    "         # 'pos     0.05', \n",
    "        ],\n",
    "        [None, \n",
    "         # 0.01, \n",
    "         0.03,\n",
    "         # 0.05, \n",
    "         None, \n",
    "         None, \n",
    "         # 0.01, \n",
    "         0.03, \n",
    "         # 0.05, \n",
    "         ]\n",
    "    ):\n",
    "        out = run_experiment(X_used, y_train_u, cv_Kfold, clf_used, r_min)\n",
    "        print(\n",
    "            x_name, \n",
    "            clf_name,\n",
    "            f'Accuracy {out[\"Accuracy\"].mean():.2f}+-{out[\"Accuracy\"].std():.2f}',\n",
    "            f'F1 Score {out[\"F1 Score\"].mean():.2f}+-{out[\"F1 Score\"].std():.2f}',\n",
    "            f'Cols used {out[\"Cols used\"].mean().round(0):.0f}+-{out[\"Cols used\"].std().round(0):.0f}',\n",
    "            # f'Cols used {len(out[\"Cols used\"])}',\n",
    "            # f'\\n\\tPrecision {out[\"Precision\"].mean():.2f}+-{out[\"Precision\"].std():.2f}',\n",
    "            # f'\\n\\tRecall {out[\"Recall\"].mean():.2f}+-{out[\"Recall\"].std():.2f}',\n",
    "            # f' {out[\"Accuracy\"].mean():.3f}+-{out[\"Accuracy\"].std():.3f} | {out[\"F1 Score\"].mean():.3f}+-{out[\"F1 Score\"].std():.3f}'\n",
    "        )\n",
    "        \n",
    "    print()"
   ]
  },
  {
   "cell_type": "code",
   "execution_count": null,
   "id": "a6d53dea-83a7-4622-8b0f-ea0fae52b963",
   "metadata": {},
   "outputs": [],
   "source": []
  }
 ],
 "metadata": {
  "kernelspec": {
   "display_name": "Python 3 (ipykernel)",
   "language": "python",
   "name": "python3"
  },
  "language_info": {
   "codemirror_mode": {
    "name": "ipython",
    "version": 3
   },
   "file_extension": ".py",
   "mimetype": "text/x-python",
   "name": "python",
   "nbconvert_exporter": "python",
   "pygments_lexer": "ipython3",
   "version": "3.9.18"
  }
 },
 "nbformat": 4,
 "nbformat_minor": 5
}
