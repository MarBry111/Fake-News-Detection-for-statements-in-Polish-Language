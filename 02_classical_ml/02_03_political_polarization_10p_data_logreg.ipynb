{
 "cells": [
  {
   "cell_type": "code",
   "execution_count": 1,
   "id": "cb3587c1",
   "metadata": {},
   "outputs": [],
   "source": [
    "%load_ext autoreload\n",
    "%autoreload 2\n",
    "\n",
    "import pandas as pd\n",
    "import numpy as np\n",
    "import spacy\n",
    "import gensim\n",
    "import nltk\n",
    "import scipy\n",
    "import matplotlib.pyplot as plt\n",
    "import json\n",
    "\n",
    "from sklearn.linear_model import LogisticRegression\n",
    "import xgboost as xgb\n",
    "from sklearn.ensemble import RandomForestClassifier\n",
    "\n",
    "from sklearn.metrics import (\n",
    "    accuracy_score, \n",
    "    f1_score, \n",
    "    recall_score,\n",
    "    precision_score,\n",
    "    roc_auc_score, confusion_matrix, roc_curve, classification_report\n",
    ")\n",
    "from sklearn.model_selection import cross_validate\n",
    "from sklearn.base import clone as sklearn_clone\n",
    "from sklearn.model_selection import KFold\n",
    "\n",
    "from tqdm import tqdm\n",
    "tqdm.pandas()\n",
    "\n",
    "import random\n",
    "\n",
    "import sys\n",
    "sys.path.append('..')\n",
    "\n",
    "from helpers.model import (\n",
    "    balance_data\n",
    ")"
   ]
  },
  {
   "cell_type": "markdown",
   "id": "2148d9d1",
   "metadata": {},
   "source": [
    "## Load data"
   ]
  },
  {
   "cell_type": "code",
   "execution_count": 4,
   "id": "8e578f6b",
   "metadata": {},
   "outputs": [],
   "source": [
    "df_styl = pd.read_parquet('../datasets/used_data/02_classical_ml/04_01_political_polarization_10p_styllometric_features.parquet')\n",
    "df_pos = pd.read_parquet('../datasets/used_data/02_classical_ml/04_02_political_polarization_10p_POS_ngrams.parquet')\n",
    "df_ngram = pd.read_parquet('../datasets/used_data/02_classical_ml/04_03_political_polarization_10p_words_ngrams.parquet')\n",
    "\n",
    "with open('../datasets/used_data/02_classical_ml/04_05_political_polarization_10p_herbert.npy', 'rb') as f:\n",
    "    df_herbert = pd.DataFrame(np.load(f))\n",
    "\n",
    "# with open('../datasets/used_data/02_classical_ml/04_05_political_polarization_10p_roberta.npy', 'rb') as f:\n",
    "#     df_roberta = pd.DataFrame(np.load(f))"
   ]
  },
  {
   "cell_type": "code",
   "execution_count": 5,
   "id": "2a25689c-b8ad-4f22-a2cd-7582b90b060b",
   "metadata": {},
   "outputs": [
    {
     "name": "stdout",
     "output_type": "stream",
     "text": [
      "(20000, 28) (20000, 3386) (20000, 3746) (20000, 1024)\n"
     ]
    }
   ],
   "source": [
    "print(df_styl.shape, df_pos.shape, df_ngram.shape, df_herbert.shape)"
   ]
  },
  {
   "cell_type": "code",
   "execution_count": 6,
   "id": "f170b532-6dc2-4d45-bf76-b9d826eca059",
   "metadata": {},
   "outputs": [],
   "source": [
    "y_train = df_styl['assestment']"
   ]
  },
  {
   "cell_type": "code",
   "execution_count": 7,
   "id": "5a75d7c2-0507-4735-9353-1345233c5073",
   "metadata": {},
   "outputs": [
    {
     "data": {
      "text/plain": [
       "assestment\n",
       "0    12096\n",
       "1     7904\n",
       "Name: count, dtype: int64"
      ]
     },
     "execution_count": 7,
     "metadata": {},
     "output_type": "execute_result"
    }
   ],
   "source": [
    "y_train.value_counts()"
   ]
  },
  {
   "cell_type": "code",
   "execution_count": 8,
   "id": "2ae97f2f-5d81-4c7b-a388-b011d3400fe1",
   "metadata": {},
   "outputs": [],
   "source": [
    "df_styl.pop('assestment');\n",
    "df_pos.pop('assestment');\n",
    "df_ngram.pop('assestment');"
   ]
  },
  {
   "cell_type": "markdown",
   "id": "ed20c751",
   "metadata": {},
   "source": [
    "## Make balanced datasets"
   ]
  },
  {
   "cell_type": "code",
   "execution_count": 10,
   "id": "eb5343ef",
   "metadata": {},
   "outputs": [],
   "source": [
    "X_train_u = df_styl\n",
    "X_pos_u = df_pos \n",
    "X_ngram_u = df_ngram\n",
    "X_herbert_u = df_herbert\n",
    "# X_roberta_u = df_roberta\n",
    "\n",
    "y_train_u = y_train "
   ]
  },
  {
   "cell_type": "code",
   "execution_count": 11,
   "id": "6e696f3d-a547-4694-aca5-4ebe6ae3fc75",
   "metadata": {},
   "outputs": [],
   "source": [
    "words = X_ngram_u['TEXT_WORD'].str.split(' ').values\n",
    "X_ngram_u.pop('TEXT_WORD');"
   ]
  },
  {
   "cell_type": "markdown",
   "id": "a73c34bd",
   "metadata": {},
   "source": [
    "## CV creation\n",
    "### LDA"
   ]
  },
  {
   "cell_type": "code",
   "execution_count": 12,
   "id": "a74ee952",
   "metadata": {},
   "outputs": [],
   "source": [
    "ideal_topic_num = 10"
   ]
  },
  {
   "cell_type": "code",
   "execution_count": 13,
   "id": "a02f856f",
   "metadata": {},
   "outputs": [
    {
     "name": "stderr",
     "output_type": "stream",
     "text": [
      "100%|█████████████████████████████████████████████████████████████████████████████████████████████████████████████████████████████████████████| 20000/20000 [00:08<00:00, 2384.48it/s]\n"
     ]
    }
   ],
   "source": [
    "dictionary = gensim.corpora.Dictionary(words)\n",
    "\n",
    "bow_corpus = [dictionary.doc2bow(doc) for doc in words]\n",
    "\n",
    "\n",
    "lda_model =  gensim.models.LdaMulticore(bow_corpus, \n",
    "                                   num_topics = ideal_topic_num, \n",
    "                                   id2word = dictionary,                                    \n",
    "                                   passes = 10,\n",
    "                                   random_state=111,\n",
    "                                   workers = 7)\n",
    "\n",
    "topics = []\n",
    "\n",
    "for line in tqdm(words):\n",
    "    line_bow = dictionary.doc2bow(line)\n",
    "    doc_lda = lda_model[line_bow]\n",
    "    \n",
    "    topics.append( max(doc_lda, key=lambda x:x[1])[0] )\n",
    "\n",
    "# X_train_u['topic'] = topics"
   ]
  },
  {
   "cell_type": "code",
   "execution_count": 14,
   "id": "fd65141c",
   "metadata": {},
   "outputs": [
    {
     "name": "stdout",
     "output_type": "stream",
     "text": [
      "0 0.011*\"prezydent\" + 0.007*\"wybory\" + 0.007*\"mówić\" + 0.007*\"powiedzieć\" + 0.006*\"europejski\"\n",
      "1 0.015*\"procent\" + 0.007*\"ustawa\" + 0.005*\"projekt\" + 0.005*\"rząd\" + 0.004*\"zmiana\"\n",
      "2 0.016*\"wiatr\" + 0.011*\"deszcz\" + 0.011*\"temperatura\" + 0.010*\"opad\" + 0.010*\"umiarkować\"\n",
      "3 0.007*\"koronawirus\" + 0.006*\"zdrowie\" + 0.005*\"covid\" + 0.005*\"przypadek\" + 0.005*\"zakażenie\"\n",
      "4 0.011*\"sąd\" + 0.010*\"policja\" + 0.009*\"mężczyzna\" + 0.007*\"sędzia\" + 0.006*\"miejsce\"\n",
      "5 0.009*\"województwo\" + 0.008*\"bank\" + 0.005*\"nowy\" + 0.004*\"poinformować\" + 0.004*\"woda\"\n",
      "6 0.008*\"mecz\" + 0.007*\"pierwszy\" + 0.005*\"miejsce\" + 0.005*\"drugi\" + 0.005*\"grać\"\n",
      "7 0.010*\"sprawa\" + 0.005*\"prawo\" + 0.005*\"mówić\" + 0.005*\"prokuratura\" + 0.004*\"powiedzieć\"\n",
      "8 0.008*\"granica\" + 0.007*\"rosja\" + 0.006*\"rosyjski\" + 0.006*\"ukraina\" + 0.005*\"samolot\"\n",
      "9 0.006*\"usa\" + 0.005*\"amerykański\" + 0.004*\"kraj\" + 0.003*\"władza\" + 0.003*\"swój\"\n"
     ]
    }
   ],
   "source": [
    "x = lda_model.show_topics(num_topics=ideal_topic_num, num_words=5)\n",
    "\n",
    "for topic,word in x:\n",
    "    print(topic, word)"
   ]
  },
  {
   "cell_type": "code",
   "execution_count": 15,
   "id": "9351146f",
   "metadata": {},
   "outputs": [
    {
     "data": {
      "text/html": [
       "<div>\n",
       "<style scoped>\n",
       "    .dataframe tbody tr th:only-of-type {\n",
       "        vertical-align: middle;\n",
       "    }\n",
       "\n",
       "    .dataframe tbody tr th {\n",
       "        vertical-align: top;\n",
       "    }\n",
       "\n",
       "    .dataframe thead th {\n",
       "        text-align: right;\n",
       "    }\n",
       "</style>\n",
       "<table border=\"1\" class=\"dataframe\">\n",
       "  <thead>\n",
       "    <tr style=\"text-align: right;\">\n",
       "      <th>assestment</th>\n",
       "      <th>0</th>\n",
       "      <th>1</th>\n",
       "    </tr>\n",
       "    <tr>\n",
       "      <th>topic</th>\n",
       "      <th></th>\n",
       "      <th></th>\n",
       "    </tr>\n",
       "  </thead>\n",
       "  <tbody>\n",
       "    <tr>\n",
       "      <th>0</th>\n",
       "      <td>1376</td>\n",
       "      <td>1534</td>\n",
       "    </tr>\n",
       "    <tr>\n",
       "      <th>1</th>\n",
       "      <td>988</td>\n",
       "      <td>689</td>\n",
       "    </tr>\n",
       "    <tr>\n",
       "      <th>2</th>\n",
       "      <td>618</td>\n",
       "      <td>221</td>\n",
       "    </tr>\n",
       "    <tr>\n",
       "      <th>3</th>\n",
       "      <td>1716</td>\n",
       "      <td>1223</td>\n",
       "    </tr>\n",
       "    <tr>\n",
       "      <th>4</th>\n",
       "      <td>2070</td>\n",
       "      <td>1129</td>\n",
       "    </tr>\n",
       "    <tr>\n",
       "      <th>5</th>\n",
       "      <td>497</td>\n",
       "      <td>291</td>\n",
       "    </tr>\n",
       "    <tr>\n",
       "      <th>6</th>\n",
       "      <td>2371</td>\n",
       "      <td>446</td>\n",
       "    </tr>\n",
       "    <tr>\n",
       "      <th>7</th>\n",
       "      <td>728</td>\n",
       "      <td>771</td>\n",
       "    </tr>\n",
       "    <tr>\n",
       "      <th>8</th>\n",
       "      <td>512</td>\n",
       "      <td>446</td>\n",
       "    </tr>\n",
       "    <tr>\n",
       "      <th>9</th>\n",
       "      <td>1220</td>\n",
       "      <td>1154</td>\n",
       "    </tr>\n",
       "  </tbody>\n",
       "</table>\n",
       "</div>"
      ],
      "text/plain": [
       "assestment     0     1\n",
       "topic                 \n",
       "0           1376  1534\n",
       "1            988   689\n",
       "2            618   221\n",
       "3           1716  1223\n",
       "4           2070  1129\n",
       "5            497   291\n",
       "6           2371   446\n",
       "7            728   771\n",
       "8            512   446\n",
       "9           1220  1154"
      ]
     },
     "execution_count": 15,
     "metadata": {},
     "output_type": "execute_result"
    }
   ],
   "source": [
    "y_train_u_topics = pd.DataFrame(y_train_u.copy())\n",
    "y_train_u_topics['topic'] = topics\n",
    "y_train_u_topics['n'] = 1\n",
    "y_train_u_topics.groupby(['topic', 'assestment']).sum().reset_index().pivot(index='topic',columns='assestment',values='n')"
   ]
  },
  {
   "cell_type": "code",
   "execution_count": 16,
   "id": "43054ea4-ee02-445e-b6f7-6522025f50f7",
   "metadata": {},
   "outputs": [],
   "source": [
    "df_plot = y_train_u_topics.groupby(['topic', 'assestment']).sum().reset_index().pivot(index='topic',columns='assestment',values='n')\n",
    "# df_plot[1] = -df_plot[1]"
   ]
  },
  {
   "cell_type": "code",
   "execution_count": 17,
   "id": "5004c8d1-ef41-44f3-a74a-da83ee0f4af8",
   "metadata": {},
   "outputs": [
    {
     "data": {
      "image/png": "[encoded data removed]",
      "text/plain": [
       "<Figure size 640x480 with 1 Axes>"
      ]
     },
     "metadata": {},
     "output_type": "display_data"
    }
   ],
   "source": [
    "# Transpose the DataFrame\n",
    "# df_plot = df_plot.transpose()\n",
    "\n",
    "# Plotting bidirectional bar plot\n",
    "fig, ax = plt.subplots()\n",
    "df_plot.plot(kind='barh', stacked=False, ax=ax)\n",
    "\n",
    "# Adjusting labels and legend\n",
    "ax.set_ylabel('Topic')\n",
    "ax.set_xlabel('Number of claims in given topic')\n",
    "# ax.set_title('Bidirectional Bar Plot')\n",
    "# ax.legend(title='Assessment', bbox_to_anchor=(1.05, 1), loc='upper left')\n",
    "\n",
    "plt.show()"
   ]
  },
  {
   "cell_type": "code",
   "execution_count": 30,
   "id": "6435e1cb-7062-4911-893e-f05e29353090",
   "metadata": {},
   "outputs": [],
   "source": [
    "# with open('../datasets/used_data/03_bert_like_models/03_topics_plytical_polarization.npy', 'wb') as f:\n",
    "#     np.save(f, np.array(topics))"
   ]
  },
  {
   "cell_type": "markdown",
   "id": "06e17e0a",
   "metadata": {},
   "source": [
    "### Kfold"
   ]
  },
  {
   "cell_type": "code",
   "execution_count": 19,
   "id": "8829acdb",
   "metadata": {},
   "outputs": [],
   "source": [
    "cv_fold = []\n",
    "cv_fold_i = []\n",
    "\n",
    "for i in y_train_u_topics['topic'].unique().reshape(10,-1):\n",
    "    train_cv = X_train_u.index[ ~np.isin(y_train_u_topics[\"topic\"], i) ].values\n",
    "    test_cv = X_train_u.index[ np.isin(y_train_u_topics[\"topic\"], i) ].values\n",
    "    \n",
    "    # train_cv_i = X_train_u.reset_index().index[ ~np.isin(X_train_u[\"topic\"], i) ].values\n",
    "    # test_cv_i = X_train_u.reset_index().index[ np.isin(X_train_u[\"topic\"], i) ].values\n",
    "    \n",
    "    cv_fold.append( [train_cv, test_cv])\n",
    "    # cv_fold_i.append( [train_cv_i, test_cv_i])"
   ]
  },
  {
   "cell_type": "code",
   "execution_count": 20,
   "id": "bec90100",
   "metadata": {},
   "outputs": [],
   "source": [
    "kf = KFold(n_splits=10, shuffle=True, random_state=111)\n",
    "kf.get_n_splits(X_train_u)\n",
    "\n",
    "cv_Kfold = []\n",
    "cv_Kfold_i = []\n",
    "\n",
    "for train_index, test_index in kf.split(X_train_u):\n",
    "    train_cv = X_train_u.iloc[ train_index, : ].index.values\n",
    "    test_cv = X_train_u.iloc[ test_index, : ].index.values\n",
    "\n",
    "    # train_cv_i= X_train_u.reset_index().iloc[ train_index, : ].index.values\n",
    "    # test_cv_i = X_train_u.reset_index().iloc[ test_index, : ].index.values\n",
    "    \n",
    "    cv_Kfold.append( [train_cv, test_cv])\n",
    "    # cv_Kfold_i.append( [train_cv_i, test_cv_i])"
   ]
  },
  {
   "cell_type": "code",
   "execution_count": 21,
   "id": "7bfaec6d-b62d-4038-a719-b5fa237cb0d5",
   "metadata": {},
   "outputs": [],
   "source": [
    "# with open(\"../datasets/used_data/cv_fold.txt\", 'w') as fp:\n",
    "#     json.dump(cv_fold, fp)"
   ]
  },
  {
   "cell_type": "markdown",
   "id": "05f0f426",
   "metadata": {},
   "source": [
    "## Run experiments"
   ]
  },
  {
   "cell_type": "code",
   "execution_count": 22,
   "id": "4ff6e568",
   "metadata": {},
   "outputs": [],
   "source": [
    "def run_experiment(X, y, cv, clf_org, r_min=0.05):\n",
    "\n",
    "    results = {\n",
    "        'test_accuracy' : [],\n",
    "        'test_precision' : [],\n",
    "        'test_recall' : [],\n",
    "        'test_f1' : [],\n",
    "        'col_keep' : []\n",
    "    }\n",
    "\n",
    "    c_matrix = np.zeros((2,2))\n",
    "\n",
    "    for train_cv, test_cv in cv:\n",
    "        clf = sklearn_clone(clf_org)\n",
    "        \n",
    "        X_train_t = X[X.index.isin(train_cv)]\n",
    "        y_train_t = y[y.index.isin(train_cv)]\n",
    "\n",
    "        # keep only columns with corr > 0.05\n",
    "        if r_min:\n",
    "            col_keep = []\n",
    "            for c in X_train_t.columns:\n",
    "                min_v =X_train_t[c].values.min()\n",
    "                max_v = X_train_t[c].values.max()\n",
    "    \n",
    "                if min_v < max_v:\n",
    "                    r = scipy.stats.pearsonr(X_train_t[c].values, y_train_t)[0]\n",
    "                    if ~np.isnan(r) and r > r_min:\n",
    "                        col_keep.append(c)\n",
    "            \n",
    "            if len(col_keep) == 0:\n",
    "                print('No values returned')\n",
    "        \n",
    "            X_train_t = X_train_t[col_keep]\n",
    "        else:\n",
    "            col_keep =  X_train_t.columns.values.tolist()\n",
    "\n",
    "\n",
    "        X_test_t = X[X.index.isin(test_cv)]\n",
    "        y_test_t = y[y.index.isin(test_cv)]\n",
    "        \n",
    "        if r_min:\n",
    "            X_test_t = X_test_t[col_keep]\n",
    "\n",
    "        clf.fit(X_train_t, y_train_t)\n",
    "\n",
    "        y_pred = clf.predict(X_test_t)\n",
    "\n",
    "        confusion = confusion_matrix(y_test_t, y_pred)\n",
    "        c_matrix += confusion\n",
    "\n",
    "    #     TN, FP = confusion[0, 0], confusion[0, 1]\n",
    "    #     FN, TP = confusion[1, 0], confusion[1, 1]\n",
    "\n",
    "        results['test_accuracy'].append( accuracy_score(y_test_t, y_pred) ) \n",
    "        results['test_precision'].append( precision_score(y_test_t, y_pred) ) \n",
    "        results['test_recall'].append( recall_score(y_test_t, y_pred) ) \n",
    "        results['test_f1'].append( f1_score(y_test_t, y_pred) ) \n",
    "        results['col_keep'].append( len(col_keep)) \n",
    "    \n",
    "    metrics = {\n",
    "        \"Accuracy\": np.array(results['test_accuracy']),\n",
    "        \"Precision\": np.array(results['test_precision']).mean(),\n",
    "        \"Recall\": np.array(results['test_recall']).mean(),\n",
    "        \"F1 Score\":  np.array(results['test_f1']),\n",
    "        \"Cols used\": np.array(results['col_keep']),\n",
    "        }\n",
    "\n",
    "#     print(c_matrix)\n",
    "\n",
    "    return metrics"
   ]
  },
  {
   "cell_type": "markdown",
   "id": "87831898",
   "metadata": {},
   "source": [
    "## Topics Kfold"
   ]
  },
  {
   "cell_type": "code",
   "execution_count": 26,
   "id": "dd76287f",
   "metadata": {},
   "outputs": [],
   "source": [
    "random.seed(111)"
   ]
  },
  {
   "cell_type": "code",
   "execution_count": 27,
   "id": "0310f565-87d2-41a2-8d35-644c848cfa7c",
   "metadata": {},
   "outputs": [],
   "source": [
    "clf_lr_1 = LogisticRegression(max_iter=5000, C=1, penalty='l2', solver='liblinear')\n",
    "clf_lr_01 = LogisticRegression(max_iter=5000, C=0.1, penalty='l2', solver='liblinear')\n",
    "clf_rf = RandomForestClassifier(random_state=111, max_depth=5)"
   ]
  },
  {
   "cell_type": "code",
   "execution_count": 28,
   "id": "923a0654",
   "metadata": {},
   "outputs": [
    {
     "name": "stdout",
     "output_type": "stream",
     "text": [
      "ngrams  None lr C1 Accuracy 0.68+-0.07 F1 Score 0.37+-0.13 Cols used 3744+-0\n",
      "ngrams  0.03 lr C1 Accuracy 0.64+-0.10 F1 Score 0.19+-0.11 Cols used 411+-50\n",
      "features     lr C1 Accuracy 0.61+-0.04 F1 Score 0.40+-0.08 Cols used 27+-0\n",
      "pos     None lr C1 Accuracy 0.60+-0.08 F1 Score 0.12+-0.05 Cols used 3385+-0\n",
      "pos     0.03 lr C1 Accuracy 0.60+-0.09 F1 Score 0.08+-0.06 Cols used 87+-15\n",
      "herbert      lr C1 Accuracy 0.98+-0.01 F1 Score 0.97+-0.03 Cols used 1024+-0\n",
      "\n"
     ]
    }
   ],
   "source": [
    "for clf_used, clf_name in zip(\n",
    "    [\n",
    "        clf_lr_1, \n",
    "        # clf_rf, #clf_xgb\n",
    "    ],[\n",
    "        'lr C1', \n",
    "        # 'rf d5', #'xgb  '\n",
    "    ]\n",
    "):\n",
    "        \n",
    "    for X_used, x_name, r_min in zip(\n",
    "        [X_ngram_u, \n",
    "         X_ngram_u, \n",
    "         # X_ngram_u, \n",
    "         # X_ngram_u, \n",
    "         X_train_u, \n",
    "         X_pos_u, \n",
    "         X_pos_u, \n",
    "         # X_pos_u, \n",
    "         # X_pos_u, \n",
    "         X_herbert_u\n",
    "         ],\n",
    "        ['ngrams  None', \n",
    "         # 'ngrams  0.01', \n",
    "         'ngrams  0.03', \n",
    "         # 'ngrams  0.05', \n",
    "         'features    ', \n",
    "         'pos     None', \n",
    "         # 'pos     0.01', \n",
    "         'pos     0.03', \n",
    "         # 'pos     0.05', \n",
    "         'herbert     '\n",
    "        ],\n",
    "        [None, \n",
    "         # 0.01, \n",
    "         0.03,\n",
    "         # 0.05, \n",
    "         None, \n",
    "         None, \n",
    "         # 0.01, \n",
    "         0.03, \n",
    "         # 0.05, \n",
    "         None\n",
    "         ]\n",
    "    ):\n",
    "        out = run_experiment(X_used, y_train_u, cv_fold, clf_used, r_min)\n",
    "        print(\n",
    "            x_name, \n",
    "            clf_name,\n",
    "            f'Accuracy {out[\"Accuracy\"].mean():.2f}+-{out[\"Accuracy\"].std():.2f}',\n",
    "            f'F1 Score {out[\"F1 Score\"].mean():.2f}+-{out[\"F1 Score\"].std():.2f}',\n",
    "            f'Cols used {out[\"Cols used\"].mean().round(0):.0f}+-{out[\"Cols used\"].std().round(0):.0f}',\n",
    "            # f'Cols used {len(out[\"Cols used\"])}',\n",
    "            # f'\\n\\tPrecision {out[\"Precision\"].mean():.2f}+-{out[\"Precision\"].std():.2f}',\n",
    "            # f'\\n\\tRecall {out[\"Recall\"].mean():.2f}+-{out[\"Recall\"].std():.2f}',\n",
    "            # f' {out[\"Accuracy\"].mean():.3f}+-{out[\"Accuracy\"].std():.3f} | {out[\"F1 Score\"].mean():.3f}+-{out[\"F1 Score\"].std():.3f}'\n",
    "        )\n",
    "        \n",
    "    print()"
   ]
  },
  {
   "cell_type": "markdown",
   "id": "2ed30078",
   "metadata": {},
   "source": [
    "## Random Kfold"
   ]
  },
  {
   "cell_type": "code",
   "execution_count": 29,
   "id": "191ccf91-7937-44c5-bf2d-b7e30d422bbc",
   "metadata": {},
   "outputs": [
    {
     "name": "stdout",
     "output_type": "stream",
     "text": [
      "ngrams  None lr C1 Accuracy 0.72+-0.01 F1 Score 0.46+-0.01 Cols used 3744+-0\n",
      "ngrams  0.03 lr C1 Accuracy 0.65+-0.01 F1 Score 0.23+-0.02 Cols used 404+-5\n",
      "features     lr C1 Accuracy 0.65+-0.01 F1 Score 0.44+-0.01 Cols used 27+-0\n",
      "pos     None lr C1 Accuracy 0.62+-0.01 F1 Score 0.11+-0.02 Cols used 3385+-0\n",
      "pos     0.03 lr C1 Accuracy 0.61+-0.01 F1 Score 0.06+-0.01 Cols used 74+-4\n",
      "herbert      lr C1 Accuracy 0.99+-0.00 F1 Score 0.98+-0.00 Cols used 1024+-0\n",
      "\n"
     ]
    }
   ],
   "source": [
    "for clf_used, clf_name in zip(\n",
    "    [\n",
    "        clf_lr_1, \n",
    "        # clf_rf, # clf_xgb\n",
    "    ],[\n",
    "        'lr C1', \n",
    "        # 'rf d5', # 'xgb  '\n",
    "    ]\n",
    "):\n",
    "        \n",
    "    for X_used, x_name, r_min in zip(\n",
    "        [X_ngram_u, \n",
    "         X_ngram_u, \n",
    "         # X_ngram_u, \n",
    "         # X_ngram_u, \n",
    "         X_train_u, \n",
    "         X_pos_u, \n",
    "         X_pos_u, \n",
    "         # X_pos_u, \n",
    "         # X_pos_u, \n",
    "         X_herbert_u\n",
    "         ],\n",
    "        ['ngrams  None', \n",
    "         # 'ngrams  0.01', \n",
    "         'ngrams  0.03', \n",
    "         # 'ngrams  0.05', \n",
    "         'features    ', \n",
    "         'pos     None', \n",
    "         # 'pos     0.01', \n",
    "         'pos     0.03', \n",
    "         # 'pos     0.05', \n",
    "         'herbert     '\n",
    "        ],\n",
    "        [None, \n",
    "         # 0.01, \n",
    "         0.03,\n",
    "         # 0.05, \n",
    "         None, \n",
    "         None, \n",
    "         # 0.01, \n",
    "         0.03, \n",
    "         # 0.05, \n",
    "         None\n",
    "         ]\n",
    "    ):\n",
    "        out = run_experiment(X_used, y_train_u, cv_Kfold, clf_used, r_min)\n",
    "        print(\n",
    "            x_name, \n",
    "            clf_name,\n",
    "            f'Accuracy {out[\"Accuracy\"].mean():.2f}+-{out[\"Accuracy\"].std():.2f}',\n",
    "            f'F1 Score {out[\"F1 Score\"].mean():.2f}+-{out[\"F1 Score\"].std():.2f}',\n",
    "            f'Cols used {out[\"Cols used\"].mean().round(0):.0f}+-{out[\"Cols used\"].std().round(0):.0f}',\n",
    "            # f'Cols used {len(out[\"Cols used\"])}',\n",
    "            # f'\\n\\tPrecision {out[\"Precision\"].mean():.2f}+-{out[\"Precision\"].std():.2f}',\n",
    "            # f'\\n\\tRecall {out[\"Recall\"].mean():.2f}+-{out[\"Recall\"].std():.2f}',\n",
    "            # f' {out[\"Accuracy\"].mean():.3f}+-{out[\"Accuracy\"].std():.3f} | {out[\"F1 Score\"].mean():.3f}+-{out[\"F1 Score\"].std():.3f}'\n",
    "        )\n",
    "        \n",
    "    print()"
   ]
  },
  {
   "cell_type": "code",
   "execution_count": null,
   "id": "a6d53dea-83a7-4622-8b0f-ea0fae52b963",
   "metadata": {},
   "outputs": [],
   "source": []
  },
  {
   "cell_type": "code",
   "execution_count": null,
   "id": "61061665-231c-4827-bde1-b94f39b2419f",
   "metadata": {},
   "outputs": [],
   "source": []
  }
 ],
 "metadata": {
  "kernelspec": {
   "display_name": "Python 3 (ipykernel)",
   "language": "python",
   "name": "python3"
  },
  "language_info": {
   "codemirror_mode": {
    "name": "ipython",
    "version": 3
   },
   "file_extension": ".py",
   "mimetype": "text/x-python",
   "name": "python",
   "nbconvert_exporter": "python",
   "pygments_lexer": "ipython3",
   "version": "3.9.18"
  }
 },
 "nbformat": 4,
 "nbformat_minor": 5
}
