{
 "cells": [
  {
   "cell_type": "code",
   "execution_count": 21,
   "metadata": {
    "execution": {
     "iopub.execute_input": "2022-11-25T15:40:13.437971Z",
     "iopub.status.busy": "2022-11-25T15:40:13.437599Z",
     "iopub.status.idle": "2022-11-25T15:40:13.445997Z",
     "shell.execute_reply": "2022-11-25T15:40:13.445040Z",
     "shell.execute_reply.started": "2022-11-25T15:40:13.437939Z"
    }
   },
   "outputs": [],
   "source": [
    "import time\n",
    "import torch\n",
    "import random\n",
    "import numpy as np\n",
    "import pandas as pd\n",
    "import torch.nn as nn\n",
    "import torch.optim as optim\n",
    "from tqdm.notebook import tqdm\n",
    "import matplotlib.pyplot as plt\n",
    "\n",
    "from torch.utils.data import DataLoader, Dataset\n",
    "\n",
    "from sklearn.model_selection import KFold, train_test_split\n",
    "from sklearn.linear_model import LogisticRegression\n",
    "\n",
    "from sklearn.base import clone as sklearn_clone\n",
    "\n",
    "from sklearn.metrics import (\n",
    "    accuracy_score, \n",
    "    f1_score, \n",
    "    recall_score,\n",
    "    precision_score,\n",
    "    roc_auc_score, confusion_matrix, roc_curve, classification_report\n",
    ")\n",
    "\n",
    "from sentence_transformers import SentenceTransformer\n",
    "from transformers import AutoTokenizer, AutoModel, HerbertTokenizer, BatchEncoding\n",
    "\n",
    "import gc\n",
    "\n",
    "import umap.umap_ as umap\n",
    "from sklearn.preprocessing import StandardScaler"
   ]
  },
  {
   "cell_type": "code",
   "execution_count": 22,
   "metadata": {
    "execution": {
     "iopub.execute_input": "2022-11-25T15:36:55.698281Z",
     "iopub.status.busy": "2022-11-25T15:36:55.697473Z",
     "iopub.status.idle": "2022-11-25T15:36:55.776305Z",
     "shell.execute_reply": "2022-11-25T15:36:55.775445Z",
     "shell.execute_reply.started": "2022-11-25T15:36:55.698241Z"
    }
   },
   "outputs": [
    {
     "data": {
      "text/plain": [
       "'cuda'"
      ]
     },
     "execution_count": 22,
     "metadata": {},
     "output_type": "execute_result"
    }
   ],
   "source": [
    "torch.manual_seed(111)\n",
    "np.random.seed(111)\n",
    "random.seed(111)\n",
    "device = torch.device(\"cuda\" if torch.cuda.is_available() else \"cpu\")\n",
    "\n",
    "if device.type == \"cuda\":\n",
    "    torch.cuda.get_device_name()\n",
    "    \n",
    "device.type"
   ]
  },
  {
   "cell_type": "markdown",
   "metadata": {},
   "source": [
    "## Get data"
   ]
  },
  {
   "cell_type": "code",
   "execution_count": 23,
   "metadata": {
    "execution": {
     "iopub.execute_input": "2022-11-25T15:38:14.083633Z",
     "iopub.status.busy": "2022-11-25T15:38:14.083237Z",
     "iopub.status.idle": "2022-11-25T15:38:14.110566Z",
     "shell.execute_reply": "2022-11-25T15:38:14.109742Z",
     "shell.execute_reply.started": "2022-11-25T15:38:14.083596Z"
    }
   },
   "outputs": [],
   "source": [
    "df_topics = pd.read_csv('../datasets/ready2use/topics.csv', index_col=0)"
   ]
  },
  {
   "cell_type": "code",
   "execution_count": 24,
   "metadata": {
    "execution": {
     "iopub.execute_input": "2022-11-25T15:38:14.112464Z",
     "iopub.status.busy": "2022-11-25T15:38:14.111809Z",
     "iopub.status.idle": "2022-11-25T15:38:14.325561Z",
     "shell.execute_reply": "2022-11-25T15:38:14.324586Z",
     "shell.execute_reply.started": "2022-11-25T15:38:14.112427Z"
    }
   },
   "outputs": [],
   "source": [
    "df = pd.read_csv('../datasets/ready2use/fake_news_features_combined.csv', sep=';')\n",
    "\n",
    "df = df[ df['assestment'] != 'brak' ]\n",
    "\n",
    "df.loc[:, 'assestment'] = df['assestment'].replace({\n",
    "    'falsz' : 'Fałsz',\n",
    "    'zbity_zegar' : 'Fałsz',\n",
    "    'raczej_falsz' : 'Fałsz',\n",
    "    'prawda' : 'Prawda',\n",
    "    'blisko_prawdy' : 'Prawda',\n",
    "    'polprawda' : 'Manipulacja',\n",
    "    'Częściowy fałsz' : 'Manipulacja'\n",
    "})\n",
    "\n",
    "df = df[ df['assestment'] != 'Nieweryfikowalne' ]\n",
    "df = df[ df['assestment'] != 'Manipulacja' ]\n",
    "\n",
    "df['assestment'] = df['assestment'].replace({\n",
    "    'Fałsz' : 0,\n",
    "#     'Manipulacja' : 1,\n",
    "    'Prawda' : 1\n",
    "}).astype(int)\n",
    "\n",
    "df = df.copy()[['assestment', 'text_clean']][df.index.isin(df_topics.index)].reset_index(drop=True)"
   ]
  },
  {
   "cell_type": "code",
   "execution_count": 25,
   "metadata": {
    "execution": {
     "iopub.execute_input": "2022-11-25T15:38:14.327366Z",
     "iopub.status.busy": "2022-11-25T15:38:14.327024Z",
     "iopub.status.idle": "2022-11-25T15:38:17.833150Z",
     "shell.execute_reply": "2022-11-25T15:38:17.832116Z",
     "shell.execute_reply.started": "2022-11-25T15:38:14.327331Z"
    }
   },
   "outputs": [],
   "source": [
    "embeddings_table = pd.read_csv('../datasets/ready2use/embeddings_pl_herbert.csv', sep=\",\", header=None).values"
   ]
  },
  {
   "cell_type": "code",
   "execution_count": 26,
   "metadata": {
    "execution": {
     "iopub.execute_input": "2022-11-25T15:38:17.835128Z",
     "iopub.status.busy": "2022-11-25T15:38:17.834747Z",
     "iopub.status.idle": "2022-11-25T15:38:17.844064Z",
     "shell.execute_reply": "2022-11-25T15:38:17.842788Z",
     "shell.execute_reply.started": "2022-11-25T15:38:17.835084Z"
    }
   },
   "outputs": [],
   "source": [
    "class FakeNews(Dataset):\n",
    "    def __init__(self, emb_dt, y_dt, index_to_use):\n",
    "        self.emb = emb_dt[index_to_use]\n",
    "        \n",
    "        self.labels = y_dt[index_to_use]\n",
    "        \n",
    "        self.index = np.arange(index_to_use.shape[0])\n",
    "        \n",
    "    def __len__(self):\n",
    "        return len(self.emb)\n",
    "    \n",
    "    def __getitem__(self, item):\n",
    "        anchor_label = self.labels[item]\n",
    "\n",
    "        positive_list = self.index[self.index!=item][self.labels[self.index!=item]==anchor_label]\n",
    "\n",
    "        positive_item = random.choice(positive_list)\n",
    "        \n",
    "        negative_list = self.index[self.index!=item][self.labels[self.index!=item]!=anchor_label]\n",
    "        negative_item = random.choice(negative_list)\n",
    "        \n",
    "        anchor_claim = self.emb[item].astype(np.float32)\n",
    "        positive_claim = self.emb[positive_item].astype(np.float32)\n",
    "        negative_claim = self.emb[negative_item].astype(np.float32)\n",
    "\n",
    "        anchor_label = anchor_label.astype(np.float32)\n",
    "\n",
    "        return anchor_claim, positive_claim, negative_claim, anchor_label"
   ]
  },
  {
   "cell_type": "markdown",
   "metadata": {},
   "source": [
    "## Kfold"
   ]
  },
  {
   "cell_type": "code",
   "execution_count": 27,
   "metadata": {
    "execution": {
     "iopub.execute_input": "2022-11-25T15:42:22.663544Z",
     "iopub.status.busy": "2022-11-25T15:42:22.663115Z",
     "iopub.status.idle": "2022-11-25T15:42:22.694910Z",
     "shell.execute_reply": "2022-11-25T15:42:22.693758Z",
     "shell.execute_reply.started": "2022-11-25T15:42:22.663509Z"
    }
   },
   "outputs": [],
   "source": [
    "cv_fold = []\n",
    "cv_fold_i = []\n",
    "\n",
    "for i in df_topics['topic'].unique().reshape(10,-1):\n",
    "    train_cv = df_topics.index[ ~np.isin(df_topics[\"topic\"], [i, np.mod(i+1,10)]) ].values\n",
    "    val_cv = df_topics.index[ ~np.isin(df_topics[\"topic\"], np.mod(i+1,10)) ].values\n",
    "    test_cv = df_topics.index[ np.isin(df_topics[\"topic\"], i) ].values\n",
    "    \n",
    "    train_cv_i = df_topics.reset_index().index[ ~np.isin(df_topics[\"topic\"], [i, np.mod(i+1,10)]) ].values\n",
    "    val_cv_i = df_topics.reset_index().index[ ~np.isin(df_topics[\"topic\"], np.mod(i+1,10)) ].values\n",
    "    test_cv_i = df_topics.reset_index().index[ np.isin(df_topics[\"topic\"], i) ].values\n",
    "    \n",
    "    cv_fold.append( [train_cv, val_cv, test_cv])\n",
    "    cv_fold_i.append( [train_cv_i, val_cv_i, test_cv_i])"
   ]
  },
  {
   "cell_type": "code",
   "execution_count": 28,
   "metadata": {
    "execution": {
     "iopub.execute_input": "2022-11-25T15:43:04.406355Z",
     "iopub.status.busy": "2022-11-25T15:43:04.405834Z",
     "iopub.status.idle": "2022-11-25T15:43:04.468153Z",
     "shell.execute_reply": "2022-11-25T15:43:04.467163Z",
     "shell.execute_reply.started": "2022-11-25T15:43:04.406308Z"
    }
   },
   "outputs": [],
   "source": [
    "kf = KFold(n_splits=10, shuffle=True)\n",
    "kf.get_n_splits(df_topics)\n",
    "\n",
    "cv_Kfold = []\n",
    "cv_Kfold_i = []\n",
    "\n",
    "for train_index, test_index in kf.split(df_topics):\n",
    "    train_index, val_index = train_test_split(train_index, test_size=1/9, shuffle=True)\n",
    "    train_cv = df_topics.iloc[ train_index, : ].index.values\n",
    "    val_cv = df_topics.iloc[ val_index, : ].index.values\n",
    "    test_cv = df_topics.iloc[ test_index, : ].index.values\n",
    "\n",
    "    train_cv_i= df_topics.reset_index().iloc[ train_index, : ].index.values\n",
    "    val_cv_i = df_topics.reset_index().iloc[ val_index, : ].index.values\n",
    "    test_cv_i = df_topics.reset_index().iloc[ test_index, : ].index.values\n",
    "    \n",
    "    cv_Kfold.append( [train_cv, val_cv, test_cv])\n",
    "    cv_Kfold_i.append( [train_cv_i, val_cv_i, test_cv_i])"
   ]
  },
  {
   "cell_type": "markdown",
   "metadata": {},
   "source": [
    "## Train"
   ]
  },
  {
   "cell_type": "markdown",
   "metadata": {},
   "source": [
    "## TripletLoss"
   ]
  },
  {
   "cell_type": "code",
   "execution_count": 29,
   "metadata": {
    "execution": {
     "iopub.execute_input": "2022-11-25T15:43:09.882702Z",
     "iopub.status.busy": "2022-11-25T15:43:09.881582Z",
     "iopub.status.idle": "2022-11-25T15:43:09.893361Z",
     "shell.execute_reply": "2022-11-25T15:43:09.892257Z",
     "shell.execute_reply.started": "2022-11-25T15:43:09.882662Z"
    }
   },
   "outputs": [],
   "source": [
    "class TripletLoss(nn.Module):\n",
    "    def __init__(self, margin=1.0):\n",
    "        super(TripletLoss, self).__init__()\n",
    "        self.margin = margin\n",
    "        \n",
    "    def calc_euclidean(self, x1, x2):\n",
    "        return (x1 - x2).pow(2).sum(1)\n",
    "    \n",
    "    def forward(self, anchor: torch.Tensor, positive: torch.Tensor, negative: torch.Tensor) -> torch.Tensor:\n",
    "        distance_positive = self.calc_euclidean(anchor, positive)\n",
    "        distance_negative = self.calc_euclidean(anchor, negative)\n",
    "        losses = torch.relu(distance_positive - distance_negative + self.margin)\n",
    "\n",
    "        return losses.mean()"
   ]
  },
  {
   "cell_type": "markdown",
   "metadata": {},
   "source": [
    "## Define Net"
   ]
  },
  {
   "cell_type": "code",
   "execution_count": 30,
   "metadata": {
    "execution": {
     "iopub.execute_input": "2022-11-25T15:43:33.556998Z",
     "iopub.status.busy": "2022-11-25T15:43:33.556642Z",
     "iopub.status.idle": "2022-11-25T15:43:33.564182Z",
     "shell.execute_reply": "2022-11-25T15:43:33.563082Z",
     "shell.execute_reply.started": "2022-11-25T15:43:33.556967Z"
    }
   },
   "outputs": [],
   "source": [
    "class Network(nn.Module):\n",
    "    def __init__(self, emb_dim=128):\n",
    "        super(Network, self).__init__()\n",
    "        \n",
    "        self.fc = nn.Sequential(\n",
    "#             nn.Linear(1024, 1024),\n",
    "#             nn.BatchNorm1d(1024),\n",
    "#             nn.ReLU(),\n",
    "#             nn.Dropout(0.2),\n",
    "            \n",
    "            nn.Linear(1024, 512),\n",
    "            nn.BatchNorm1d(512),\n",
    "            nn.ReLU(),\n",
    "            nn.Dropout(0.5),\n",
    "            \n",
    "#             nn.Linear(512, 512),\n",
    "#             nn.BatchNorm1d(512),\n",
    "#             nn.ReLU(),\n",
    "#             nn.Dropout(0.5),\n",
    "            \n",
    "            nn.Linear(512, 256),\n",
    "            nn.BatchNorm1d(256),\n",
    "            nn.ReLU(),\n",
    "            nn.Dropout(0.5),\n",
    "            nn.Linear(256, emb_dim)\n",
    "        )\n",
    "        \n",
    "    def forward(self, x):\n",
    "        x = x.view(-1, 1024)\n",
    "        x = self.fc(x)\n",
    "        return x"
   ]
  },
  {
   "cell_type": "markdown",
   "metadata": {},
   "source": [
    "## Some testing one one kfold"
   ]
  },
  {
   "cell_type": "code",
   "execution_count": 49,
   "metadata": {
    "execution": {
     "iopub.execute_input": "2022-11-25T17:49:59.573165Z",
     "iopub.status.busy": "2022-11-25T17:49:59.572790Z",
     "iopub.status.idle": "2022-11-25T17:49:59.578964Z",
     "shell.execute_reply": "2022-11-25T17:49:59.577462Z",
     "shell.execute_reply.started": "2022-11-25T17:49:59.573135Z"
    }
   },
   "outputs": [],
   "source": [
    "embedding_dims = 128\n",
    "batch_size = 128\n",
    "epochs = 200\n",
    "n_workers = 8"
   ]
  },
  {
   "cell_type": "code",
   "execution_count": 34,
   "metadata": {
    "execution": {
     "iopub.execute_input": "2022-11-25T17:50:00.306658Z",
     "iopub.status.busy": "2022-11-25T17:50:00.306285Z",
     "iopub.status.idle": "2022-11-25T17:50:00.311409Z",
     "shell.execute_reply": "2022-11-25T17:50:00.310456Z",
     "shell.execute_reply.started": "2022-11-25T17:50:00.306618Z"
    }
   },
   "outputs": [],
   "source": [
    "train_index, val_index, test_index = cv_fold_i[0]"
   ]
  },
  {
   "cell_type": "code",
   "execution_count": 35,
   "metadata": {
    "execution": {
     "iopub.execute_input": "2022-11-25T17:50:00.621156Z",
     "iopub.status.busy": "2022-11-25T17:50:00.620791Z",
     "iopub.status.idle": "2022-11-25T17:50:00.688990Z",
     "shell.execute_reply": "2022-11-25T17:50:00.687871Z",
     "shell.execute_reply.started": "2022-11-25T17:50:00.621127Z"
    }
   },
   "outputs": [],
   "source": [
    "train_ds = FakeNews(embeddings_table, df['assestment'].values, train_index)\n",
    "train_loader = DataLoader(train_ds, batch_size=batch_size, shuffle=True, num_workers=n_workers)\n",
    "\n",
    "val_ds = FakeNews(embeddings_table, df['assestment'].values, val_index)\n",
    "val_loader = DataLoader(val_ds, batch_size=batch_size, shuffle=True, num_workers=n_workers)\n",
    "\n",
    "test_ds = FakeNews(embeddings_table, df['assestment'].values, test_index)\n",
    "test_loader = DataLoader(test_ds, batch_size=batch_size, shuffle=False, num_workers=n_workers)"
   ]
  },
  {
   "cell_type": "code",
   "execution_count": 36,
   "metadata": {
    "execution": {
     "iopub.execute_input": "2022-11-25T17:50:01.064295Z",
     "iopub.status.busy": "2022-11-25T17:50:01.063889Z",
     "iopub.status.idle": "2022-11-25T17:50:01.080125Z",
     "shell.execute_reply": "2022-11-25T17:50:01.079230Z",
     "shell.execute_reply.started": "2022-11-25T17:50:01.064262Z"
    }
   },
   "outputs": [],
   "source": [
    "model = Network(embedding_dims)\n",
    "# model = torch.nn.DataParallel(model)\n",
    "# model = torch.jit.script(model).to(device)\n",
    "model = model.to(device)\n",
    "\n",
    "optimizer = optim.Adam(model.parameters(), lr=0.001)\n",
    "# criterion = torch.jit.script(TripletLoss())\n",
    "criterion = TripletLoss()"
   ]
  },
  {
   "cell_type": "markdown",
   "metadata": {},
   "source": [
    "## Training loop"
   ]
  },
  {
   "cell_type": "code",
   "execution_count": 50,
   "metadata": {
    "execution": {
     "iopub.execute_input": "2022-11-25T17:50:02.053550Z",
     "iopub.status.busy": "2022-11-25T17:50:02.053159Z",
     "iopub.status.idle": "2022-11-25T18:23:51.850472Z",
     "shell.execute_reply": "2022-11-25T18:23:51.849377Z",
     "shell.execute_reply.started": "2022-11-25T17:50:02.053515Z"
    }
   },
   "outputs": [
    {
     "data": {
      "application/vnd.jupyter.widget-view+json": {
       "model_id": "9df5879958dd4ec3877ab0c46df017a3",
       "version_major": 2,
       "version_minor": 0
      },
      "text/plain": [
       "Epochs:   0%|          | 0/200 [00:00<?, ?it/s]"
      ]
     },
     "metadata": {},
     "output_type": "display_data"
    },
    {
     "name": "stdout",
     "output_type": "stream",
     "text": [
      "0 Epoch: 1/200 - Train Loss: 0.0546;  Val Loss: 0.2862 Best Val Loss 0.2862\n",
      "10 Epoch: 11/200 - Train Loss: 0.0523;  Val Loss: 0.2779 Best Val Loss 0.2668\n",
      "20 Epoch: 21/200 - Train Loss: 0.0514;  Val Loss: 0.2850 Best Val Loss 0.2592\n",
      "30 Epoch: 31/200 - Train Loss: 0.0515;  Val Loss: 0.2769 Best Val Loss 0.2592\n",
      "40 Epoch: 41/200 - Train Loss: 0.0532;  Val Loss: 0.2867 Best Val Loss 0.2592\n",
      "50 Epoch: 51/200 - Train Loss: 0.0576;  Val Loss: 0.2775 Best Val Loss 0.2592\n",
      "60 Epoch: 61/200 - Train Loss: 0.0645;  Val Loss: 0.2945 Best Val Loss 0.2555\n",
      "70 Epoch: 71/200 - Train Loss: 0.0542;  Val Loss: 0.2914 Best Val Loss 0.2555\n",
      "80 Epoch: 81/200 - Train Loss: 0.0457;  Val Loss: 0.3079 Best Val Loss 0.2555\n",
      "90 Epoch: 91/200 - Train Loss: 0.0538;  Val Loss: 0.3195 Best Val Loss 0.2555\n",
      "100 Epoch: 101/200 - Train Loss: 0.0539;  Val Loss: 0.2871 Best Val Loss 0.2555\n",
      "110 Epoch: 111/200 - Train Loss: 0.0579;  Val Loss: 0.2807 Best Val Loss 0.2555\n",
      "120 Epoch: 121/200 - Train Loss: 0.0475;  Val Loss: 0.3027 Best Val Loss 0.2555\n",
      "130 Epoch: 131/200 - Train Loss: 0.0612;  Val Loss: 0.2614 Best Val Loss 0.2555\n",
      "140 Epoch: 141/200 - Train Loss: 0.0566;  Val Loss: 0.2637 Best Val Loss 0.2555\n",
      "150 Epoch: 151/200 - Train Loss: 0.0953;  Val Loss: 0.2800 Best Val Loss 0.2555\n",
      "160 Epoch: 161/200 - Train Loss: 0.0701;  Val Loss: 0.2901 Best Val Loss 0.2555\n",
      "170 Epoch: 171/200 - Train Loss: 0.0608;  Val Loss: 0.3150 Best Val Loss 0.2555\n",
      "180 Epoch: 181/200 - Train Loss: 0.0580;  Val Loss: 0.2587 Best Val Loss 0.2555\n",
      "190 Epoch: 191/200 - Train Loss: 0.0555;  Val Loss: 0.2855 Best Val Loss 0.2555\n"
     ]
    }
   ],
   "source": [
    "train_loss_out = []\n",
    "val_loss_out = []\n",
    "\n",
    "val_prev = np.inf\n",
    "\n",
    "model.train()\n",
    "for j, epoch in tqdm(enumerate(range(epochs)), desc=\"Epochs\", total=epochs):\n",
    "    running_loss = []\n",
    "    for step, (anchor_claim, positive_claim, negative_claim, anchor_label) in enumerate(train_loader):\n",
    "        anchor_claim = (anchor_claim / torch.norm(anchor_claim) ).to(device)\n",
    "        positive_claim = (positive_claim / torch.norm(positive_claim) ).to(device)\n",
    "        negative_claim = (negative_claim / torch.norm(negative_claim) ).to(device)\n",
    "\n",
    "        optimizer.zero_grad()\n",
    "        anchor_out = model(anchor_claim)\n",
    "        positive_out = model(positive_claim)\n",
    "        negative_out = model(negative_claim)\n",
    "        \n",
    "        loss = criterion(anchor_out, positive_out, negative_out)\n",
    "        loss.backward()\n",
    "        optimizer.step()\n",
    "        \n",
    "        running_loss.append(loss.cpu().detach().numpy())\n",
    "        \n",
    "    \n",
    "    model.eval()\n",
    "    \n",
    "    val_loss = []\n",
    "    for anchor_claim, positive_claim, negative_claim, _ in val_loader:\n",
    "        anchor_claim = (anchor_claim / torch.norm(anchor_claim) ).to(device)\n",
    "        positive_claim = (positive_claim / torch.norm(positive_claim) ).to(device)\n",
    "        negative_claim = (negative_claim / torch.norm(negative_claim) ).to(device)\n",
    "\n",
    "        anchor_out = model(anchor_claim)\n",
    "        positive_out = model(positive_claim)\n",
    "        negative_out = model(negative_claim)\n",
    "        \n",
    "        loss = criterion(anchor_out, positive_out, negative_out)\n",
    "        val_loss.append(loss.cpu().detach().numpy())\n",
    "    \n",
    "    model.train()\n",
    "    \n",
    "    train_loss_out.append(np.mean(running_loss))\n",
    "    val_loss_out.append(np.mean(val_loss))\n",
    "    \n",
    "    if np.mean(val_loss) < val_prev:\n",
    "#         print(epoch, f'saved {np.mean(val_loss):.4f} < {val_prev:.4f}')\n",
    "        val_prev = np.mean(val_loss)\n",
    "        torch.save(model, 'models/model_01.pt')\n",
    "        \n",
    "    if epoch%10 == 0:\n",
    "        print(f\"{j} Epoch: {epoch+1}/{epochs} - Train Loss: {np.mean(running_loss):.4f};\",\n",
    "              f\" Val Loss: {np.mean(val_loss):.4f} Best Val Loss {val_prev:.4f}\")\n"
   ]
  },
  {
   "cell_type": "code",
   "execution_count": 51,
   "metadata": {},
   "outputs": [],
   "source": [
    "model = torch.load('models/model_01.pt')"
   ]
  },
  {
   "cell_type": "code",
   "execution_count": 52,
   "metadata": {
    "execution": {
     "iopub.execute_input": "2022-11-25T17:39:27.127066Z",
     "iopub.status.busy": "2022-11-25T17:39:27.126681Z",
     "iopub.status.idle": "2022-11-25T17:39:28.052090Z",
     "shell.execute_reply": "2022-11-25T17:39:28.050962Z",
     "shell.execute_reply.started": "2022-11-25T17:39:27.127033Z"
    }
   },
   "outputs": [
    {
     "data": {
      "application/vnd.jupyter.widget-view+json": {
       "model_id": "d66e46fe5b964f16b269f98b78523369",
       "version_major": 2,
       "version_minor": 0
      },
      "text/plain": [
       "  0%|          | 0/42 [00:00<?, ?it/s]"
      ]
     },
     "metadata": {},
     "output_type": "display_data"
    },
    {
     "data": {
      "text/plain": [
       "(5270, 128)"
      ]
     },
     "execution_count": 52,
     "metadata": {},
     "output_type": "execute_result"
    }
   ],
   "source": [
    "train_results = []\n",
    "labels = []\n",
    "\n",
    "model.eval()\n",
    "with torch.no_grad():\n",
    "    for claim, _, _, label in tqdm(train_loader):\n",
    "        anchor_claim = claim.to(device)\n",
    "        \n",
    "        train_results.append(model(anchor_claim).cpu().numpy())\n",
    "        labels.append(label)\n",
    "        \n",
    "#         del anchor_claim \n",
    "#         gc.collect()\n",
    "#         torch.cuda.empty_cache()\n",
    "\n",
    "train_results = np.concatenate(train_results) \n",
    "labels = np.concatenate(labels)\n",
    "train_results.shape"
   ]
  },
  {
   "cell_type": "code",
   "execution_count": 53,
   "metadata": {
    "execution": {
     "iopub.execute_input": "2022-11-25T17:39:28.947834Z",
     "iopub.status.busy": "2022-11-25T17:39:28.946996Z",
     "iopub.status.idle": "2022-11-25T17:39:29.239448Z",
     "shell.execute_reply": "2022-11-25T17:39:29.238351Z",
     "shell.execute_reply.started": "2022-11-25T17:39:28.947786Z"
    }
   },
   "outputs": [],
   "source": [
    "# plt.figure(figsize=(8, 6), facecolor=\"azure\")\n",
    "# for label in np.unique(labels):\n",
    "#     tmp = train_results[labels==label]\n",
    "#     plt.scatter(tmp[:, 0], tmp[:, 1], label=label)\n",
    "\n",
    "# plt.legend()\n",
    "# plt.show()"
   ]
  },
  {
   "cell_type": "code",
   "execution_count": 54,
   "metadata": {
    "execution": {
     "iopub.execute_input": "2022-11-25T17:39:29.535947Z",
     "iopub.status.busy": "2022-11-25T17:39:29.535169Z",
     "iopub.status.idle": "2022-11-25T17:39:30.428012Z",
     "shell.execute_reply": "2022-11-25T17:39:30.426730Z",
     "shell.execute_reply.started": "2022-11-25T17:39:29.535901Z"
    }
   },
   "outputs": [
    {
     "data": {
      "application/vnd.jupyter.widget-view+json": {
       "model_id": "c20595167f4a4df4bbd95d107a9b12b1",
       "version_major": 2,
       "version_minor": 0
      },
      "text/plain": [
       "  0%|          | 0/5 [00:00<?, ?it/s]"
      ]
     },
     "metadata": {},
     "output_type": "display_data"
    },
    {
     "data": {
      "text/plain": [
       "(595, 128)"
      ]
     },
     "execution_count": 54,
     "metadata": {},
     "output_type": "execute_result"
    }
   ],
   "source": [
    "test_results = []\n",
    "test_labels = []\n",
    "\n",
    "model.eval()\n",
    "with torch.no_grad():\n",
    "    for claim, _, _, label in tqdm(test_loader):\n",
    "        anchor_claim = claim.to(device)\n",
    "        \n",
    "        test_results.append(model(anchor_claim).cpu().numpy())\n",
    "        test_labels.append(label)\n",
    "        \n",
    "#         del anchor_claim \n",
    "#         gc.collect()\n",
    "#         torch.cuda.empty_cache()\n",
    "\n",
    "test_results = np.concatenate(test_results)\n",
    "test_labels = np.concatenate(test_labels)\n",
    "test_results.shape"
   ]
  },
  {
   "cell_type": "code",
   "execution_count": 55,
   "metadata": {
    "execution": {
     "iopub.execute_input": "2022-11-25T17:39:36.111976Z",
     "iopub.status.busy": "2022-11-25T17:39:36.111588Z",
     "iopub.status.idle": "2022-11-25T17:39:36.364122Z",
     "shell.execute_reply": "2022-11-25T17:39:36.363182Z",
     "shell.execute_reply.started": "2022-11-25T17:39:36.111944Z"
    }
   },
   "outputs": [],
   "source": [
    "# plt.figure(figsize=(8, 6), facecolor=\"azure\")\n",
    "# for label in np.unique(test_labels):\n",
    "#     tmp = test_results[test_labels==label]\n",
    "#     plt.scatter(tmp[:, 0], tmp[:, 1], label=label)\n",
    "\n",
    "# plt.legend()\n",
    "# plt.show()"
   ]
  },
  {
   "cell_type": "code",
   "execution_count": 56,
   "metadata": {},
   "outputs": [
    {
     "name": "stderr",
     "output_type": "stream",
     "text": [
      "/home/marek/anaconda3/envs/nlp/lib/python3.9/site-packages/scipy/sparse/_index.py:146: SparseEfficiencyWarning: Changing the sparsity structure of a csr_matrix is expensive. lil_matrix is more efficient.\n",
      "  self._set_arrayXarray(i, j, x)\n"
     ]
    }
   ],
   "source": [
    "reducer_nn = umap.UMAP()\n",
    "scaler_nn = StandardScaler().fit(train_results)\n",
    "\n",
    "umap_nn_train = reducer_nn.fit_transform(scaler_nn.transform(train_results))\n",
    "umap_nn_test = reducer_nn.transform(scaler_nn.transform(test_results))"
   ]
  },
  {
   "cell_type": "code",
   "execution_count": 57,
   "metadata": {},
   "outputs": [
    {
     "data": {
      "image/png": "[encoded data removed]",
      "text/plain": [
       "<Figure size 1400x600 with 2 Axes>"
      ]
     },
     "metadata": {},
     "output_type": "display_data"
    }
   ],
   "source": [
    "plt.figure(figsize=(14, 6), facecolor=\"azure\")\n",
    "\n",
    "plt.subplot(1, 2, 1)\n",
    "for label in np.unique(labels):\n",
    "    tmp = umap_nn_train[labels==label]\n",
    "    plt.scatter(tmp[:, 0], tmp[:, 1], label=label)\n",
    "    plt.title('Train')\n",
    "\n",
    "plt.subplot(1, 2, 2)\n",
    "for label in np.unique(test_labels):\n",
    "    tmp = umap_nn_test[test_labels==label]\n",
    "    plt.scatter(tmp[:, 0], tmp[:, 1], label=label)\n",
    "    plt.title('Test')\n",
    "\n",
    "plt.legend()\n",
    "plt.show()"
   ]
  },
  {
   "cell_type": "markdown",
   "metadata": {},
   "source": [
    "### Run logreg"
   ]
  },
  {
   "cell_type": "code",
   "execution_count": 58,
   "metadata": {
    "execution": {
     "iopub.execute_input": "2022-11-25T17:39:42.999456Z",
     "iopub.status.busy": "2022-11-25T17:39:42.999065Z",
     "iopub.status.idle": "2022-11-25T17:39:43.004662Z",
     "shell.execute_reply": "2022-11-25T17:39:43.003458Z",
     "shell.execute_reply.started": "2022-11-25T17:39:42.999420Z"
    }
   },
   "outputs": [],
   "source": [
    "clf_lr_1 = LogisticRegression(max_iter=5000, C=1, penalty='l2', solver='liblinear')"
   ]
  },
  {
   "cell_type": "code",
   "execution_count": 59,
   "metadata": {
    "execution": {
     "iopub.execute_input": "2022-11-25T17:39:43.348374Z",
     "iopub.status.busy": "2022-11-25T17:39:43.347418Z",
     "iopub.status.idle": "2022-11-25T17:39:44.046816Z",
     "shell.execute_reply": "2022-11-25T17:39:44.045309Z",
     "shell.execute_reply.started": "2022-11-25T17:39:43.348325Z"
    }
   },
   "outputs": [],
   "source": [
    "results = {\n",
    "    'test_accuracy' : [],\n",
    "    'test_precision' : [],\n",
    "    'test_recall' : [],\n",
    "    'test_f1' : []\n",
    "}\n",
    "\n",
    "\n",
    "y_train_t = labels\n",
    "X_train_t = train_results\n",
    "y_test_t = test_labels\n",
    "X_test_t = test_results\n",
    "\n",
    "clf_lr_1.fit(X_train_t, y_train_t)\n",
    "\n",
    "y_pred = clf_lr_1.predict(X_test_t)\n",
    "\n",
    "results['test_accuracy'].append( accuracy_score(y_test_t, y_pred) ) \n",
    "results['test_precision'].append( precision_score(y_test_t, y_pred) ) \n",
    "results['test_recall'].append( recall_score(y_test_t, y_pred) ) \n",
    "results['test_f1'].append( f1_score(y_test_t, y_pred) ) \n",
    "\n",
    "metrics = {\n",
    "    \"Accuracy\": np.array(results['test_accuracy']),\n",
    "#     \"Precision\": np.array(results['test_precision']).mean(),\n",
    "#     \"Recall\": np.array(results['test_recall']).mean(),\n",
    "    \"F1 Score\":  np.array(results['test_f1']),\n",
    "    }"
   ]
  },
  {
   "cell_type": "code",
   "execution_count": 60,
   "metadata": {
    "execution": {
     "iopub.execute_input": "2022-11-25T17:40:30.151032Z",
     "iopub.status.busy": "2022-11-25T17:40:30.150662Z",
     "iopub.status.idle": "2022-11-25T17:40:30.168181Z",
     "shell.execute_reply": "2022-11-25T17:40:30.167248Z",
     "shell.execute_reply.started": "2022-11-25T17:40:30.151002Z"
    }
   },
   "outputs": [
    {
     "data": {
      "text/plain": [
       "array([[190, 107],\n",
       "       [102, 196]])"
      ]
     },
     "execution_count": 60,
     "metadata": {},
     "output_type": "execute_result"
    }
   ],
   "source": [
    "confusion_matrix(y_test_t, y_pred)"
   ]
  },
  {
   "cell_type": "code",
   "execution_count": 61,
   "metadata": {
    "execution": {
     "iopub.execute_input": "2022-11-25T17:39:44.531303Z",
     "iopub.status.busy": "2022-11-25T17:39:44.530933Z",
     "iopub.status.idle": "2022-11-25T17:39:44.538376Z",
     "shell.execute_reply": "2022-11-25T17:39:44.537303Z",
     "shell.execute_reply.started": "2022-11-25T17:39:44.531270Z"
    }
   },
   "outputs": [
    {
     "data": {
      "text/plain": [
       "{'Accuracy': array([0.6487395]), 'F1 Score': array([0.65224626])}"
      ]
     },
     "execution_count": 61,
     "metadata": {},
     "output_type": "execute_result"
    }
   ],
   "source": [
    "metrics"
   ]
  },
  {
   "cell_type": "markdown",
   "metadata": {},
   "source": [
    "# Test using CV"
   ]
  },
  {
   "cell_type": "code",
   "execution_count": null,
   "metadata": {
    "execution": {
     "iopub.execute_input": "2022-11-25T18:28:29.816271Z",
     "iopub.status.busy": "2022-11-25T18:28:29.815893Z"
    }
   },
   "outputs": [
    {
     "data": {
      "application/vnd.jupyter.widget-view+json": {
       "model_id": "117b509b3efc443b949c809c0159fc41",
       "version_major": 2,
       "version_minor": 0
      },
      "text/plain": [
       "Epochs 0:   0%|          | 0/1000 [00:00<?, ?it/s]"
      ]
     },
     "metadata": {},
     "output_type": "display_data"
    },
    {
     "name": "stdout",
     "output_type": "stream",
     "text": [
      "0 Epoch: 1/1000 - Train Loss: 5.3953;  Val Loss: 1.5809 Val loss best 1.5809\n",
      "0 Epoch: 101/1000 - Train Loss: 0.3121;  Val Loss: 0.2545 Val loss best 0.2500\n",
      "0 Epoch: 201/1000 - Train Loss: 0.0900;  Val Loss: 0.1797 Val loss best 0.1569\n",
      "0 Epoch: 301/1000 - Train Loss: 0.0616;  Val Loss: 0.1770 Val loss best 0.1559\n",
      "0 Epoch: 401/1000 - Train Loss: 0.0517;  Val Loss: 0.1785 Val loss best 0.1559\n",
      "0 Epoch: 501/1000 - Train Loss: 0.0316;  Val Loss: 0.2004 Val loss best 0.1553\n",
      "0 Epoch: 601/1000 - Train Loss: 0.0272;  Val Loss: 0.2018 Val loss best 0.1553\n",
      "0 Epoch: 701/1000 - Train Loss: 0.0312;  Val Loss: 0.1836 Val loss best 0.1553\n",
      "0 Epoch: 801/1000 - Train Loss: 0.0329;  Val Loss: 0.1713 Val loss best 0.1553\n",
      "0 Epoch: 901/1000 - Train Loss: 0.0187;  Val Loss: 0.1868 Val loss best 0.1553\n"
     ]
    },
    {
     "data": {
      "application/vnd.jupyter.widget-view+json": {
       "model_id": "54cc9d0c856c424db31d8553a2da3709",
       "version_major": 2,
       "version_minor": 0
      },
      "text/plain": [
       "Epochs 1:   0%|          | 0/1000 [00:00<?, ?it/s]"
      ]
     },
     "metadata": {},
     "output_type": "display_data"
    },
    {
     "name": "stdout",
     "output_type": "stream",
     "text": [
      "1 Epoch: 1/1000 - Train Loss: 5.3432;  Val Loss: 1.2841 Val loss best 1.2841\n",
      "1 Epoch: 101/1000 - Train Loss: 0.3023;  Val Loss: 0.2756 Val loss best 0.2727\n",
      "1 Epoch: 201/1000 - Train Loss: 0.0987;  Val Loss: 0.2393 Val loss best 0.2102\n",
      "1 Epoch: 301/1000 - Train Loss: 0.0675;  Val Loss: 0.2212 Val loss best 0.2102\n",
      "1 Epoch: 401/1000 - Train Loss: 0.0312;  Val Loss: 0.2725 Val loss best 0.2102\n",
      "1 Epoch: 501/1000 - Train Loss: 0.0369;  Val Loss: 0.2500 Val loss best 0.2102\n",
      "1 Epoch: 601/1000 - Train Loss: 0.0237;  Val Loss: 0.2525 Val loss best 0.2102\n",
      "1 Epoch: 701/1000 - Train Loss: 0.0270;  Val Loss: 0.2628 Val loss best 0.2102\n",
      "1 Epoch: 801/1000 - Train Loss: 0.0219;  Val Loss: 0.2662 Val loss best 0.2102\n",
      "1 Epoch: 901/1000 - Train Loss: 0.0229;  Val Loss: 0.2825 Val loss best 0.2102\n"
     ]
    },
    {
     "data": {
      "application/vnd.jupyter.widget-view+json": {
       "model_id": "8eb3fcb0ff0f47b79340a32eec956614",
       "version_major": 2,
       "version_minor": 0
      },
      "text/plain": [
       "Epochs 2:   0%|          | 0/1000 [00:00<?, ?it/s]"
      ]
     },
     "metadata": {},
     "output_type": "display_data"
    },
    {
     "name": "stdout",
     "output_type": "stream",
     "text": [
      "2 Epoch: 1/1000 - Train Loss: 5.5180;  Val Loss: 1.4256 Val loss best 1.4256\n",
      "2 Epoch: 101/1000 - Train Loss: 0.5640;  Val Loss: 0.4180 Val loss best 0.3884\n",
      "2 Epoch: 201/1000 - Train Loss: 0.1523;  Val Loss: 0.2043 Val loss best 0.1800\n",
      "2 Epoch: 301/1000 - Train Loss: 0.1713;  Val Loss: 0.1975 Val loss best 0.1743\n",
      "2 Epoch: 401/1000 - Train Loss: 0.0619;  Val Loss: 0.2017 Val loss best 0.1743\n",
      "2 Epoch: 501/1000 - Train Loss: 0.0731;  Val Loss: 0.1877 Val loss best 0.1743\n",
      "2 Epoch: 601/1000 - Train Loss: 0.0600;  Val Loss: 0.2083 Val loss best 0.1743\n",
      "2 Epoch: 701/1000 - Train Loss: 0.0602;  Val Loss: 0.2017 Val loss best 0.1743\n",
      "2 Epoch: 801/1000 - Train Loss: 0.0492;  Val Loss: 0.2053 Val loss best 0.1743\n",
      "2 Epoch: 901/1000 - Train Loss: 0.0367;  Val Loss: 0.2262 Val loss best 0.1743\n"
     ]
    },
    {
     "data": {
      "application/vnd.jupyter.widget-view+json": {
       "model_id": "822098b51e49493eb75d68b884ed2c1e",
       "version_major": 2,
       "version_minor": 0
      },
      "text/plain": [
       "Epochs 3:   0%|          | 0/1000 [00:00<?, ?it/s]"
      ]
     },
     "metadata": {},
     "output_type": "display_data"
    },
    {
     "name": "stdout",
     "output_type": "stream",
     "text": [
      "3 Epoch: 1/1000 - Train Loss: 5.5525;  Val Loss: 1.3904 Val loss best 1.3904\n",
      "3 Epoch: 101/1000 - Train Loss: 0.2920;  Val Loss: 0.2203 Val loss best 0.2155\n",
      "3 Epoch: 201/1000 - Train Loss: 0.0869;  Val Loss: 0.1734 Val loss best 0.1465\n",
      "3 Epoch: 301/1000 - Train Loss: 0.0547;  Val Loss: 0.1673 Val loss best 0.1408\n",
      "3 Epoch: 401/1000 - Train Loss: 0.0356;  Val Loss: 0.1710 Val loss best 0.1408\n",
      "3 Epoch: 501/1000 - Train Loss: 0.0279;  Val Loss: 0.1808 Val loss best 0.1408\n",
      "3 Epoch: 601/1000 - Train Loss: 0.0213;  Val Loss: 0.1926 Val loss best 0.1408\n",
      "3 Epoch: 701/1000 - Train Loss: 0.0184;  Val Loss: 0.1691 Val loss best 0.1408\n",
      "3 Epoch: 801/1000 - Train Loss: 0.0207;  Val Loss: 0.1681 Val loss best 0.1408\n",
      "3 Epoch: 901/1000 - Train Loss: 0.0182;  Val Loss: 0.1790 Val loss best 0.1408\n"
     ]
    },
    {
     "data": {
      "application/vnd.jupyter.widget-view+json": {
       "model_id": "bc034149f4f544d6a7b62aca002be0ae",
       "version_major": 2,
       "version_minor": 0
      },
      "text/plain": [
       "Epochs 4:   0%|          | 0/1000 [00:00<?, ?it/s]"
      ]
     },
     "metadata": {},
     "output_type": "display_data"
    },
    {
     "name": "stdout",
     "output_type": "stream",
     "text": [
      "4 Epoch: 1/1000 - Train Loss: 5.5864;  Val Loss: 1.4618 Val loss best 1.4618\n",
      "4 Epoch: 101/1000 - Train Loss: 0.2885;  Val Loss: 0.2313 Val loss best 0.2216\n",
      "4 Epoch: 201/1000 - Train Loss: 0.0891;  Val Loss: 0.1730 Val loss best 0.1463\n",
      "4 Epoch: 301/1000 - Train Loss: 0.0617;  Val Loss: 0.1769 Val loss best 0.1463\n",
      "4 Epoch: 401/1000 - Train Loss: 0.0343;  Val Loss: 0.1558 Val loss best 0.1463\n",
      "4 Epoch: 501/1000 - Train Loss: 0.0257;  Val Loss: 0.1740 Val loss best 0.1463\n",
      "4 Epoch: 601/1000 - Train Loss: 0.0251;  Val Loss: 0.1891 Val loss best 0.1463\n",
      "4 Epoch: 701/1000 - Train Loss: 0.0181;  Val Loss: 0.1792 Val loss best 0.1463\n",
      "4 Epoch: 801/1000 - Train Loss: 0.0183;  Val Loss: 0.1784 Val loss best 0.1463\n",
      "4 Epoch: 901/1000 - Train Loss: 0.0184;  Val Loss: 0.1662 Val loss best 0.1463\n"
     ]
    },
    {
     "data": {
      "application/vnd.jupyter.widget-view+json": {
       "model_id": "fa746df1001743f88846219aa4582d74",
       "version_major": 2,
       "version_minor": 0
      },
      "text/plain": [
       "Epochs 5:   0%|          | 0/1000 [00:00<?, ?it/s]"
      ]
     },
     "metadata": {},
     "output_type": "display_data"
    },
    {
     "name": "stdout",
     "output_type": "stream",
     "text": [
      "5 Epoch: 1/1000 - Train Loss: 5.4133;  Val Loss: 1.4566 Val loss best 1.4566\n",
      "5 Epoch: 101/1000 - Train Loss: 0.3202;  Val Loss: 0.2397 Val loss best 0.2386\n",
      "5 Epoch: 201/1000 - Train Loss: 0.0870;  Val Loss: 0.1883 Val loss best 0.1733\n",
      "5 Epoch: 301/1000 - Train Loss: 0.0559;  Val Loss: 0.2129 Val loss best 0.1570\n",
      "5 Epoch: 401/1000 - Train Loss: 0.0436;  Val Loss: 0.1941 Val loss best 0.1570\n",
      "5 Epoch: 501/1000 - Train Loss: 0.0245;  Val Loss: 0.1900 Val loss best 0.1570\n",
      "5 Epoch: 601/1000 - Train Loss: 0.0253;  Val Loss: 0.1974 Val loss best 0.1570\n",
      "5 Epoch: 701/1000 - Train Loss: 0.0184;  Val Loss: 0.2275 Val loss best 0.1570\n",
      "5 Epoch: 801/1000 - Train Loss: 0.0121;  Val Loss: 0.2107 Val loss best 0.1570\n",
      "5 Epoch: 901/1000 - Train Loss: 0.0135;  Val Loss: 0.2123 Val loss best 0.1570\n"
     ]
    },
    {
     "data": {
      "application/vnd.jupyter.widget-view+json": {
       "model_id": "baa14d85546a439582bbea67d8f9a6f0",
       "version_major": 2,
       "version_minor": 0
      },
      "text/plain": [
       "Epochs 6:   0%|          | 0/1000 [00:00<?, ?it/s]"
      ]
     },
     "metadata": {},
     "output_type": "display_data"
    },
    {
     "name": "stdout",
     "output_type": "stream",
     "text": [
      "6 Epoch: 1/1000 - Train Loss: 5.4043;  Val Loss: 1.3594 Val loss best 1.3594\n",
      "6 Epoch: 101/1000 - Train Loss: 0.2897;  Val Loss: 0.2265 Val loss best 0.2148\n",
      "6 Epoch: 201/1000 - Train Loss: 0.0863;  Val Loss: 0.1589 Val loss best 0.1436\n",
      "6 Epoch: 301/1000 - Train Loss: 0.0488;  Val Loss: 0.1709 Val loss best 0.1435\n",
      "6 Epoch: 401/1000 - Train Loss: 0.0372;  Val Loss: 0.1969 Val loss best 0.1435\n",
      "6 Epoch: 501/1000 - Train Loss: 0.0290;  Val Loss: 0.1718 Val loss best 0.1435\n",
      "6 Epoch: 601/1000 - Train Loss: 0.0257;  Val Loss: 0.1684 Val loss best 0.1435\n",
      "6 Epoch: 701/1000 - Train Loss: 0.0226;  Val Loss: 0.1727 Val loss best 0.1435\n",
      "6 Epoch: 801/1000 - Train Loss: 0.0177;  Val Loss: 0.1695 Val loss best 0.1435\n",
      "6 Epoch: 901/1000 - Train Loss: 0.0175;  Val Loss: 0.1632 Val loss best 0.1435\n"
     ]
    },
    {
     "data": {
      "application/vnd.jupyter.widget-view+json": {
       "model_id": "b8c4c951b4ed4be8a0fbb66b4aab712a",
       "version_major": 2,
       "version_minor": 0
      },
      "text/plain": [
       "Epochs 7:   0%|          | 0/1000 [00:00<?, ?it/s]"
      ]
     },
     "metadata": {},
     "output_type": "display_data"
    },
    {
     "name": "stdout",
     "output_type": "stream",
     "text": [
      "7 Epoch: 1/1000 - Train Loss: 5.3916;  Val Loss: 1.4020 Val loss best 1.4020\n",
      "7 Epoch: 101/1000 - Train Loss: 0.3424;  Val Loss: 0.2224 Val loss best 0.2224\n",
      "7 Epoch: 201/1000 - Train Loss: 0.0908;  Val Loss: 0.1562 Val loss best 0.1342\n",
      "7 Epoch: 301/1000 - Train Loss: 0.0694;  Val Loss: 0.1417 Val loss best 0.1271\n"
     ]
    }
   ],
   "source": [
    "results = {\n",
    "    'test_accuracy' : [],\n",
    "    'test_precision' : [],\n",
    "    'test_recall' : [],\n",
    "    'test_f1' : []\n",
    "}\n",
    "\n",
    "embedding_dims = 100\n",
    "batch_size = 128\n",
    "epochs = 500\n",
    "lr = 0.001\n",
    "\n",
    "for j, (train_index, val_index, test_index) in enumerate(cv_fold_i):\n",
    "    train_ds = FakeNews(embeddings_table, df['assestment'].values, train_index)\n",
    "    train_loader = DataLoader(train_ds, batch_size=batch_size, shuffle=True, num_workers=2)\n",
    "    \n",
    "    val_ds = FakeNews(embeddings_table, df['assestment'].values, val_index)\n",
    "    val_loader = DataLoader(val_ds, batch_size=batch_size, shuffle=True, num_workers=2)\n",
    "\n",
    "    test_ds = FakeNews(embeddings_table, df['assestment'].values, test_index)\n",
    "    test_loader = DataLoader(test_ds, batch_size=batch_size//2, shuffle=False, num_workers=2)\n",
    "\n",
    "    \n",
    "    model = Network(embedding_dims)\n",
    "    model = model.to(device)\n",
    "\n",
    "    optimizer = optim.Adam(model.parameters(), lr=lr)\n",
    "    criterion = TripletLoss()\n",
    "\n",
    "    val_prev = np.inf\n",
    "    \n",
    "    model.train()\n",
    "    for epoch in tqdm(range(epochs), desc=f\"Epochs {j}\"):\n",
    "        running_loss = []\n",
    "        for step, (anchor_claim, positive_claim, negative_claim, anchor_label) in enumerate(train_loader):\n",
    "            anchor_claim = anchor_claim.to(device)\n",
    "            positive_claim = positive_claim.to(device)\n",
    "            negative_claim = negative_claim.to(device)\n",
    "\n",
    "            optimizer.zero_grad()\n",
    "            anchor_out = model(anchor_claim)\n",
    "            positive_out = model(positive_claim)\n",
    "            negative_out = model(negative_claim)\n",
    "\n",
    "            loss = criterion(anchor_out, positive_out, negative_out)\n",
    "            loss.backward()\n",
    "            optimizer.step()\n",
    "\n",
    "            running_loss.append(loss.cpu().detach().numpy())\n",
    "\n",
    "        model.eval()\n",
    "    \n",
    "        val_loss = []\n",
    "        for anchor_claim, positive_claim, negative_claim, _ in val_loader:\n",
    "            anchor_claim = anchor_claim.to(device)\n",
    "            positive_claim = positive_claim.to(device)\n",
    "            negative_claim = negative_claim.to(device)\n",
    "\n",
    "            anchor_out = model(anchor_claim)\n",
    "            positive_out = model(positive_claim)\n",
    "            negative_out = model(negative_claim)\n",
    "\n",
    "            loss = criterion(anchor_out, positive_out, negative_out)\n",
    "            val_loss.append(loss.cpu().detach().numpy())\n",
    "\n",
    "        model.train()\n",
    "        \n",
    "        if np.mean(val_loss) < val_prev:\n",
    "            val_prev = np.mean(val_loss)\n",
    "            torch.save(model, f'model_cv{j}.pt')\n",
    "        \n",
    "        if epoch%100 == 0:\n",
    "            print(f\"{j} Epoch: {epoch+1}/{epochs} - Train Loss: {np.mean(running_loss):.4f};\",\n",
    "                  f\" Val Loss: {np.mean(val_loss):.4f} Val loss best {val_prev:.4f}\"\n",
    "             )\n",
    "            \n",
    "    \n",
    "    train_results = []\n",
    "    labels = []\n",
    "\n",
    "    model.eval()\n",
    "    with torch.no_grad():\n",
    "        for claim, _, _, label in train_loader:\n",
    "            anchor_claim = claim.to(device)\n",
    "\n",
    "            train_results.append(model(anchor_claim).cpu().numpy())\n",
    "            labels.append(label)\n",
    "\n",
    "\n",
    "    train_results = np.concatenate(train_results) \n",
    "    labels = np.concatenate(labels)\n",
    "\n",
    "    \n",
    "    test_results = []\n",
    "    test_labels = []\n",
    "\n",
    "    model.eval()\n",
    "    with torch.no_grad():\n",
    "        for claim, _, _, label in test_loader:\n",
    "            anchor_claim = claim.to(device)\n",
    "\n",
    "            test_results.append(model(anchor_claim).cpu().numpy())\n",
    "            test_labels.append(label)\n",
    "\n",
    "\n",
    "    test_results = np.concatenate(test_results)\n",
    "    test_labels = np.concatenate(test_labels)\n",
    "\n",
    "    \n",
    "    clf_lr_1 = LogisticRegression(max_iter=5000, C=1, penalty='l2', solver='liblinear')\n",
    "\n",
    "    y_train_t = labels\n",
    "    X_train_t = train_results\n",
    "    y_test_t = test_labels\n",
    "    X_test_t = test_results\n",
    "\n",
    "    clf_lr_1.fit(X_train_t, y_train_t)\n",
    "\n",
    "    y_pred = clf_lr_1.predict(X_test_t)\n",
    "\n",
    "    results['test_accuracy'].append( accuracy_score(y_test_t, y_pred) ) \n",
    "    results['test_precision'].append( precision_score(y_test_t, y_pred) ) \n",
    "    results['test_recall'].append( recall_score(y_test_t, y_pred) ) \n",
    "    results['test_f1'].append( f1_score(y_test_t, y_pred) ) \n",
    "\n",
    "\n",
    "out = {\n",
    "    \"Accuracy\": np.array(results['test_accuracy']),\n",
    "#     \"Precision\": np.array(results['test_precision']).mean(),\n",
    "#     \"Recall\": np.array(results['test_recall']).mean(),\n",
    "    \"F1 Score\":  np.array(results['test_f1']),\n",
    "    }\n",
    "\n",
    "print(\n",
    "    'triplet loss lr C1',\n",
    "    f'Accuracy {out[\"Accuracy\"].mean():.3f}+-{out[\"Accuracy\"].std():.3f}',\n",
    "    f'F1 Score {out[\"F1 Score\"].mean():.3f}+-{out[\"F1 Score\"].std():.3f}',\n",
    "    f' {out[\"Accuracy\"].mean():.3f}+-{out[\"Accuracy\"].std():.3f} | {out[\"F1 Score\"].mean():.3f}+-{out[\"F1 Score\"].std():.3f}'\n",
    ")    "
   ]
  },
  {
   "cell_type": "markdown",
   "metadata": {},
   "source": [
    "### Get use best models"
   ]
  },
  {
   "cell_type": "code",
   "execution_count": null,
   "metadata": {},
   "outputs": [],
   "source": [
    "results = {\n",
    "    'test_accuracy' : [],\n",
    "    'test_precision' : [],\n",
    "    'test_recall' : [],\n",
    "    'test_f1' : []\n",
    "}\n",
    "\n",
    "\n",
    "for j, (train_index, val_index, test_index) in enumerate(cv_fold_i):\n",
    "    train_ds = FakeNews(embeddings_table, df['assestment'].values, train_index)\n",
    "    train_loader = DataLoader(train_ds, batch_size=batch_size, shuffle=True, num_workers=2)\n",
    "    \n",
    "    val_ds = FakeNews(embeddings_table, df['assestment'].values, val_index)\n",
    "    val_loader = DataLoader(val_ds, batch_size=batch_size, shuffle=True, num_workers=2)\n",
    "\n",
    "    test_ds = FakeNews(embeddings_table, df['assestment'].values, test_index)\n",
    "    test_loader = DataLoader(test_ds, batch_size=batch_size//2, shuffle=False, num_workers=2)\n",
    "\n",
    "    \n",
    "    model = Network(embedding_dims)\n",
    "    model = torch.load(f'model_cv{j}.pt')\n",
    "    model = model.to(device)\n",
    "\n",
    "    model.eval()\n",
    "   \n",
    "    train_results = []\n",
    "    labels = []\n",
    "\n",
    "    model.eval()\n",
    "    with torch.no_grad():\n",
    "        for claim, _, _, label in train_loader:\n",
    "            anchor_claim = claim.to(device)\n",
    "\n",
    "            train_results.append(model(anchor_claim).cpu().numpy())\n",
    "            labels.append(label)\n",
    "\n",
    "\n",
    "    train_results = np.concatenate(train_results) \n",
    "    labels = np.concatenate(labels)\n",
    "\n",
    "    \n",
    "    test_results = []\n",
    "    test_labels = []\n",
    "\n",
    "    model.eval()\n",
    "    with torch.no_grad():\n",
    "        for claim, _, _, label in test_loader:\n",
    "            anchor_claim = claim.to(device)\n",
    "\n",
    "            test_results.append(model(anchor_claim).cpu().numpy())\n",
    "            test_labels.append(label)\n",
    "\n",
    "\n",
    "    test_results = np.concatenate(test_results)\n",
    "    test_labels = np.concatenate(test_labels)\n",
    "\n",
    "    \n",
    "    clf_lr_1 = LogisticRegression(max_iter=5000, C=1, penalty='l2', solver='liblinear')\n",
    "\n",
    "    y_train_t = labels\n",
    "    X_train_t = train_results\n",
    "    y_test_t = test_labels\n",
    "    X_test_t = test_results\n",
    "\n",
    "    clf_lr_1.fit(X_train_t, y_train_t)\n",
    "\n",
    "    y_pred = clf_lr_1.predict(X_test_t)\n",
    "\n",
    "    results['test_accuracy'].append( accuracy_score(y_test_t, y_pred) ) \n",
    "    results['test_precision'].append( precision_score(y_test_t, y_pred) ) \n",
    "    results['test_recall'].append( recall_score(y_test_t, y_pred) ) \n",
    "    results['test_f1'].append( f1_score(y_test_t, y_pred) ) \n",
    "\n",
    "\n",
    "out = {\n",
    "    \"Accuracy\": np.array(results['test_accuracy']),\n",
    "#     \"Precision\": np.array(results['test_precision']).mean(),\n",
    "#     \"Recall\": np.array(results['test_recall']).mean(),\n",
    "    \"F1 Score\":  np.array(results['test_f1']),\n",
    "    }\n",
    "\n",
    "print(\n",
    "    'triplet loss lr C1',\n",
    "    f'Accuracy {out[\"Accuracy\"].mean():.3f}+-{out[\"Accuracy\"].std():.3f}',\n",
    "    f'F1 Score {out[\"F1 Score\"].mean():.3f}+-{out[\"F1 Score\"].std():.3f}',\n",
    "    f' {out[\"Accuracy\"].mean():.3f}+-{out[\"Accuracy\"].std():.3f} | {out[\"F1 Score\"].mean():.3f}+-{out[\"F1 Score\"].std():.3f}'\n",
    ")    "
   ]
  },
  {
   "cell_type": "code",
   "execution_count": null,
   "metadata": {},
   "outputs": [],
   "source": [
    "results = {\n",
    "    'test_accuracy' : [],\n",
    "    'test_precision' : [],\n",
    "    'test_recall' : [],\n",
    "    'test_f1' : []\n",
    "}\n",
    "\n",
    "embedding_dims = 100\n",
    "batch_size = 128\n",
    "epochs = 1000\n",
    "lr = 0.001\n",
    "\n",
    "for j, (train_index, val_index, test_index) in enumerate(cv_Kfold_i):\n",
    "    train_ds = FakeNews(embeddings_table, df['assestment'].values, train_index)\n",
    "    train_loader = DataLoader(train_ds, batch_size=batch_size, shuffle=True, num_workers=2)\n",
    "    \n",
    "    val_ds = FakeNews(embeddings_table, df['assestment'].values, val_index)\n",
    "    val_loader = DataLoader(val_ds, batch_size=batch_size, shuffle=True, num_workers=2)\n",
    "\n",
    "    test_ds = FakeNews(embeddings_table, df['assestment'].values, test_index)\n",
    "    test_loader = DataLoader(test_ds, batch_size=batch_size//2, shuffle=False, num_workers=2)\n",
    "\n",
    "    \n",
    "    model = Network(embedding_dims)\n",
    "    model = model.to(device)\n",
    "\n",
    "    optimizer = optim.Adam(model.parameters(), lr=lr)\n",
    "    criterion = TripletLoss()\n",
    "\n",
    "    val_prev = np.inf\n",
    "    \n",
    "    model.train()\n",
    "    for epoch in tqdm(range(epochs), desc=f\"Epochs {j}\"):\n",
    "        running_loss = []\n",
    "        for step, (anchor_claim, positive_claim, negative_claim, anchor_label) in enumerate(train_loader):\n",
    "            anchor_claim = anchor_claim.to(device)\n",
    "            positive_claim = positive_claim.to(device)\n",
    "            negative_claim = negative_claim.to(device)\n",
    "\n",
    "            optimizer.zero_grad()\n",
    "            anchor_out = model(anchor_claim)\n",
    "            positive_out = model(positive_claim)\n",
    "            negative_out = model(negative_claim)\n",
    "\n",
    "            loss = criterion(anchor_out, positive_out, negative_out)\n",
    "            loss.backward()\n",
    "            optimizer.step()\n",
    "\n",
    "            running_loss.append(loss.cpu().detach().numpy())\n",
    "\n",
    "        model.eval()\n",
    "    \n",
    "        val_loss = []\n",
    "        for anchor_claim, positive_claim, negative_claim, _ in val_loader:\n",
    "            anchor_claim = anchor_claim.to(device)\n",
    "            positive_claim = positive_claim.to(device)\n",
    "            negative_claim = negative_claim.to(device)\n",
    "\n",
    "            anchor_out = model(anchor_claim)\n",
    "            positive_out = model(positive_claim)\n",
    "            negative_out = model(negative_claim)\n",
    "\n",
    "            loss = criterion(anchor_out, positive_out, negative_out)\n",
    "            val_loss.append(loss.cpu().detach().numpy())\n",
    "\n",
    "        model.train()\n",
    "        \n",
    "        if np.mean(val_loss) < val_prev:\n",
    "            val_prev = np.mean(val_loss)\n",
    "            torch.save(model, f'model_cv{j}.pt')\n",
    "        \n",
    "        if epoch%100 == 0:\n",
    "            print(f\"{j} Epoch: {epoch+1}/{epochs} - Train Loss: {np.mean(running_loss):.4f};\",\n",
    "                  f\" Val Loss: {np.mean(val_loss):.4f} Val loss best {val_prev:.4f}\"\n",
    "             )\n",
    "            \n",
    "    \n",
    "    train_results = []\n",
    "    labels = []\n",
    "\n",
    "    model.eval()\n",
    "    with torch.no_grad():\n",
    "        for claim, _, _, label in train_loader:\n",
    "            anchor_claim = claim.to(device)\n",
    "\n",
    "            train_results.append(model(anchor_claim).cpu().numpy())\n",
    "            labels.append(label)\n",
    "\n",
    "\n",
    "    train_results = np.concatenate(train_results) \n",
    "    labels = np.concatenate(labels)\n",
    "\n",
    "    \n",
    "    test_results = []\n",
    "    test_labels = []\n",
    "\n",
    "    model.eval()\n",
    "    with torch.no_grad():\n",
    "        for claim, _, _, label in test_loader:\n",
    "            anchor_claim = claim.to(device)\n",
    "\n",
    "            test_results.append(model(anchor_claim).cpu().numpy())\n",
    "            test_labels.append(label)\n",
    "\n",
    "\n",
    "    test_results = np.concatenate(test_results)\n",
    "    test_labels = np.concatenate(test_labels)\n",
    "\n",
    "    \n",
    "    clf_lr_1 = LogisticRegression(max_iter=5000, C=1, penalty='l2', solver='liblinear')\n",
    "\n",
    "    y_train_t = labels\n",
    "    X_train_t = train_results\n",
    "    y_test_t = test_labels\n",
    "    X_test_t = test_results\n",
    "\n",
    "    clf_lr_1.fit(X_train_t, y_train_t)\n",
    "\n",
    "    y_pred = clf_lr_1.predict(X_test_t)\n",
    "\n",
    "    results['test_accuracy'].append( accuracy_score(y_test_t, y_pred) ) \n",
    "    results['test_precision'].append( precision_score(y_test_t, y_pred) ) \n",
    "    results['test_recall'].append( recall_score(y_test_t, y_pred) ) \n",
    "    results['test_f1'].append( f1_score(y_test_t, y_pred) ) \n",
    "\n",
    "\n",
    "out = {\n",
    "    \"Accuracy\": np.array(results['test_accuracy']),\n",
    "#     \"Precision\": np.array(results['test_precision']).mean(),\n",
    "#     \"Recall\": np.array(results['test_recall']).mean(),\n",
    "    \"F1 Score\":  np.array(results['test_f1']),\n",
    "    }\n",
    "\n",
    "print(\n",
    "    'triplet loss lr C1',\n",
    "    f'Accuracy {out[\"Accuracy\"].mean():.3f}+-{out[\"Accuracy\"].std():.3f}',\n",
    "    f'F1 Score {out[\"F1 Score\"].mean():.3f}+-{out[\"F1 Score\"].std():.3f}',\n",
    "    f' {out[\"Accuracy\"].mean():.3f}+-{out[\"Accuracy\"].std():.3f} | {out[\"F1 Score\"].mean():.3f}+-{out[\"F1 Score\"].std():.3f}'\n",
    ")    "
   ]
  },
  {
   "cell_type": "code",
   "execution_count": null,
   "metadata": {},
   "outputs": [],
   "source": []
  }
 ],
 "metadata": {
  "kernelspec": {
   "display_name": "Python 3 (ipykernel)",
   "language": "python",
   "name": "python3"
  },
  "language_info": {
   "codemirror_mode": {
    "name": "ipython",
    "version": 3
   },
   "file_extension": ".py",
   "mimetype": "text/x-python",
   "name": "python",
   "nbconvert_exporter": "python",
   "pygments_lexer": "ipython3",
   "version": "3.9.13"
  }
 },
 "nbformat": 4,
 "nbformat_minor": 4
}
