{
 "cells": [
  {
   "cell_type": "code",
   "execution_count": 1,
   "metadata": {
    "execution": {
     "iopub.execute_input": "2022-11-27T15:07:27.818624Z",
     "iopub.status.busy": "2022-11-27T15:07:27.817841Z",
     "iopub.status.idle": "2022-11-27T15:08:17.770628Z",
     "shell.execute_reply": "2022-11-27T15:08:17.769130Z",
     "shell.execute_reply.started": "2022-11-27T15:07:27.818577Z"
    }
   },
   "outputs": [],
   "source": [
    "# !pip install sentence-transformers\n",
    "# !pip install transformers\n",
    "# !pip install sacremoses\n",
    "# !pip install umap-learn\n",
    "# # !pip install hdbscan"
   ]
  },
  {
   "cell_type": "code",
   "execution_count": 2,
   "metadata": {
    "execution": {
     "iopub.execute_input": "2022-11-27T15:08:17.772784Z",
     "iopub.status.busy": "2022-11-27T15:08:17.772405Z",
     "iopub.status.idle": "2022-11-27T15:08:43.369468Z",
     "shell.execute_reply": "2022-11-27T15:08:43.368328Z",
     "shell.execute_reply.started": "2022-11-27T15:08:17.772745Z"
    }
   },
   "outputs": [
    {
     "name": "stderr",
     "output_type": "stream",
     "text": [
      "/home/marek/anaconda3/envs/nlp/lib/python3.9/site-packages/huggingface_hub/snapshot_download.py:6: FutureWarning: snapshot_download.py has been made private and will no longer be available from version 0.11. Please use `from huggingface_hub import snapshot_download` to import the only public function in this module. Other members of the file may be changed without a deprecation notice.\n",
      "  warnings.warn(\n"
     ]
    }
   ],
   "source": [
    "import time\n",
    "import torch\n",
    "import random\n",
    "import numpy as np\n",
    "import pandas as pd\n",
    "import torch.nn as nn\n",
    "import torch.optim as optim\n",
    "from tqdm.notebook import tqdm\n",
    "import matplotlib.pyplot as plt\n",
    "\n",
    "from torch.utils.data import DataLoader, Dataset\n",
    "\n",
    "from sklearn.model_selection import KFold, train_test_split\n",
    "from sklearn.linear_model import LogisticRegression\n",
    "\n",
    "from sklearn.base import clone as sklearn_clone\n",
    "\n",
    "from sklearn.metrics import (\n",
    "    accuracy_score, \n",
    "    f1_score, \n",
    "    recall_score,\n",
    "    precision_score,\n",
    "    roc_auc_score, confusion_matrix, roc_curve, classification_report\n",
    ")\n",
    "\n",
    "from sentence_transformers import SentenceTransformer\n",
    "from transformers import AutoTokenizer, AutoModel, HerbertTokenizer, BatchEncoding\n",
    "\n",
    "import gc\n",
    "from sklearn.neighbors import KNeighborsClassifier\n",
    "\n",
    "from scipy import spatial\n",
    "import umap.umap_ as umap"
   ]
  },
  {
   "cell_type": "code",
   "execution_count": 3,
   "metadata": {
    "execution": {
     "iopub.execute_input": "2022-11-27T15:08:43.373442Z",
     "iopub.status.busy": "2022-11-27T15:08:43.372540Z",
     "iopub.status.idle": "2022-11-27T15:08:43.390384Z",
     "shell.execute_reply": "2022-11-27T15:08:43.388887Z",
     "shell.execute_reply.started": "2022-11-27T15:08:43.373390Z"
    }
   },
   "outputs": [
    {
     "data": {
      "text/plain": [
       "'cuda'"
      ]
     },
     "execution_count": 3,
     "metadata": {},
     "output_type": "execute_result"
    }
   ],
   "source": [
    "torch.manual_seed(111)\n",
    "np.random.seed(111)\n",
    "random.seed(111)\n",
    "device = torch.device(\"cuda\" if torch.cuda.is_available() else \"cpu\")\n",
    "\n",
    "if device.type == \"cuda\":\n",
    "    torch.cuda.get_device_name()\n",
    "    \n",
    "device.type"
   ]
  },
  {
   "cell_type": "markdown",
   "metadata": {},
   "source": [
    "## Get data"
   ]
  },
  {
   "cell_type": "code",
   "execution_count": 4,
   "metadata": {
    "execution": {
     "iopub.execute_input": "2022-11-27T15:08:43.393489Z",
     "iopub.status.busy": "2022-11-27T15:08:43.392592Z",
     "iopub.status.idle": "2022-11-27T15:08:43.451933Z",
     "shell.execute_reply": "2022-11-27T15:08:43.450432Z",
     "shell.execute_reply.started": "2022-11-27T15:08:43.393432Z"
    }
   },
   "outputs": [],
   "source": [
    "df_topics = pd.read_csv('../datasets/ready2use/topics.csv', index_col=0)"
   ]
  },
  {
   "cell_type": "code",
   "execution_count": 5,
   "metadata": {
    "execution": {
     "iopub.execute_input": "2022-11-27T15:08:43.456831Z",
     "iopub.status.busy": "2022-11-27T15:08:43.456352Z",
     "iopub.status.idle": "2022-11-27T15:08:43.636702Z",
     "shell.execute_reply": "2022-11-27T15:08:43.635861Z",
     "shell.execute_reply.started": "2022-11-27T15:08:43.456788Z"
    }
   },
   "outputs": [],
   "source": [
    "df = pd.read_csv('../datasets/ready2use/fake_news_features_combined.csv', sep=';')\n",
    "\n",
    "df = df[ df['assestment'] != 'brak' ]\n",
    "\n",
    "df.loc[:, 'assestment'] = df['assestment'].replace({\n",
    "    'falsz' : 'Fałsz',\n",
    "    'zbity_zegar' : 'Fałsz',\n",
    "    'raczej_falsz' : 'Fałsz',\n",
    "    'prawda' : 'Prawda',\n",
    "    'blisko_prawdy' : 'Prawda',\n",
    "    'polprawda' : 'Manipulacja',\n",
    "    'Częściowy fałsz' : 'Manipulacja'\n",
    "})\n",
    "\n",
    "df = df[ df['assestment'] != 'Nieweryfikowalne' ]\n",
    "df = df[ df['assestment'] != 'Manipulacja' ]\n",
    "\n",
    "df['assestment'] = df['assestment'].replace({\n",
    "    'Fałsz' : 0,\n",
    "#     'Manipulacja' : 1,\n",
    "    'Prawda' : 1\n",
    "}).astype(int)\n",
    "\n",
    "df = df.copy()[['assestment', 'text_clean']][df.index.isin(df_topics.index)].reset_index(drop=True)"
   ]
  },
  {
   "cell_type": "code",
   "execution_count": 6,
   "metadata": {
    "execution": {
     "iopub.execute_input": "2022-11-27T15:08:43.639187Z",
     "iopub.status.busy": "2022-11-27T15:08:43.638194Z",
     "iopub.status.idle": "2022-11-27T15:08:47.592832Z",
     "shell.execute_reply": "2022-11-27T15:08:47.591208Z",
     "shell.execute_reply.started": "2022-11-27T15:08:43.639139Z"
    }
   },
   "outputs": [],
   "source": [
    "embeddings_table = pd.read_csv('../datasets/ready2use/embeddings_pl_herbert.csv', sep=\",\", header=None).values"
   ]
  },
  {
   "cell_type": "markdown",
   "metadata": {},
   "source": [
    "## Kfold"
   ]
  },
  {
   "cell_type": "code",
   "execution_count": 7,
   "metadata": {
    "execution": {
     "iopub.execute_input": "2022-11-27T15:08:47.594715Z",
     "iopub.status.busy": "2022-11-27T15:08:47.594342Z",
     "iopub.status.idle": "2022-11-27T15:08:47.632847Z",
     "shell.execute_reply": "2022-11-27T15:08:47.631805Z",
     "shell.execute_reply.started": "2022-11-27T15:08:47.594681Z"
    }
   },
   "outputs": [],
   "source": [
    "cv_fold = []\n",
    "cv_fold_i = []\n",
    "\n",
    "for i in df_topics['topic'].unique().reshape(10,-1):\n",
    "    train_cv = df_topics.index[ ~np.isin(df_topics[\"topic\"], [i, np.mod(i+1,10)]) ].values\n",
    "    val_cv = df_topics.index[ ~np.isin(df_topics[\"topic\"], np.mod(i+1,10)) ].values\n",
    "    test_cv = df_topics.index[ np.isin(df_topics[\"topic\"], i) ].values\n",
    "    \n",
    "    train_cv_i = df_topics.reset_index().index[ ~np.isin(df_topics[\"topic\"], [i, np.mod(i+1,10)]) ].values\n",
    "    val_cv_i = df_topics.reset_index().index[ ~np.isin(df_topics[\"topic\"], np.mod(i+1,10)) ].values\n",
    "    test_cv_i = df_topics.reset_index().index[ np.isin(df_topics[\"topic\"], i) ].values\n",
    "    \n",
    "    cv_fold.append( [train_cv, val_cv, test_cv])\n",
    "    cv_fold_i.append( [train_cv_i, val_cv_i, test_cv_i])"
   ]
  },
  {
   "cell_type": "code",
   "execution_count": 8,
   "metadata": {
    "execution": {
     "iopub.execute_input": "2022-11-27T15:08:47.635075Z",
     "iopub.status.busy": "2022-11-27T15:08:47.634315Z",
     "iopub.status.idle": "2022-11-27T15:08:47.687480Z",
     "shell.execute_reply": "2022-11-27T15:08:47.686035Z",
     "shell.execute_reply.started": "2022-11-27T15:08:47.635025Z"
    }
   },
   "outputs": [],
   "source": [
    "kf = KFold(n_splits=10, shuffle=True)\n",
    "kf.get_n_splits(df_topics)\n",
    "\n",
    "cv_Kfold = []\n",
    "cv_Kfold_i = []\n",
    "\n",
    "for train_index, test_index in kf.split(df_topics):\n",
    "    train_index, val_index = train_test_split(train_index, test_size=1/9, shuffle=True)\n",
    "    train_cv = df_topics.iloc[ train_index, : ].index.values\n",
    "    val_cv = df_topics.iloc[ val_index, : ].index.values\n",
    "    test_cv = df_topics.iloc[ test_index, : ].index.values\n",
    "\n",
    "    train_cv_i= df_topics.reset_index().iloc[ train_index, : ].index.values\n",
    "    val_cv_i = df_topics.reset_index().iloc[ val_index, : ].index.values\n",
    "    test_cv_i = df_topics.reset_index().iloc[ test_index, : ].index.values\n",
    "    \n",
    "    cv_Kfold.append( [train_cv, val_cv, test_cv])\n",
    "    cv_Kfold_i.append( [train_cv_i, val_cv_i, test_cv_i])"
   ]
  },
  {
   "cell_type": "markdown",
   "metadata": {},
   "source": [
    "## Train"
   ]
  },
  {
   "cell_type": "markdown",
   "metadata": {},
   "source": [
    "## TripletLoss"
   ]
  },
  {
   "cell_type": "code",
   "execution_count": 9,
   "metadata": {
    "execution": {
     "iopub.execute_input": "2022-11-27T15:08:47.690737Z",
     "iopub.status.busy": "2022-11-27T15:08:47.690348Z",
     "iopub.status.idle": "2022-11-27T15:08:47.699188Z",
     "shell.execute_reply": "2022-11-27T15:08:47.697851Z",
     "shell.execute_reply.started": "2022-11-27T15:08:47.690701Z"
    }
   },
   "outputs": [],
   "source": [
    "class TripletLoss(nn.Module):\n",
    "    def __init__(self, margin=1.0):\n",
    "        super(TripletLoss, self).__init__()\n",
    "        self.margin = margin\n",
    "        \n",
    "    def calc_euclidean(self, x1, x2):\n",
    "        return (x1 - x2).pow(2).sum(1)\n",
    "    \n",
    "    def forward(self, anchor: torch.Tensor, positive: torch.Tensor, negative: torch.Tensor) -> torch.Tensor:\n",
    "        distance_positive = self.calc_euclidean(anchor, positive)\n",
    "        distance_negative = self.calc_euclidean(anchor, negative)\n",
    "        losses = torch.relu(distance_positive - distance_negative + self.margin)\n",
    "\n",
    "        return losses.mean()"
   ]
  },
  {
   "cell_type": "code",
   "execution_count": 78,
   "metadata": {},
   "outputs": [],
   "source": [
    "class TripletLossVector():\n",
    "    def __init__(self, margin=1.0):\n",
    "        self.margin = margin\n",
    "        \n",
    "    def calc_euclidean(self, x1, x2):\n",
    "        return (x1 - x2).pow(2).sum(1)\n",
    "    \n",
    "    def get_loss(self, anchor: torch.Tensor, positive: torch.Tensor, negative: torch.Tensor) -> torch.Tensor:\n",
    "        distance_positive = self.calc_euclidean(anchor, positive)\n",
    "        distance_negative = self.calc_euclidean(anchor, negative)\n",
    "        losses = torch.relu(distance_positive - distance_negative + self.margin)\n",
    "        \n",
    "        return losses"
   ]
  },
  {
   "cell_type": "markdown",
   "metadata": {},
   "source": [
    "## Visualise test with UMAP"
   ]
  },
  {
   "cell_type": "code",
   "execution_count": 11,
   "metadata": {
    "execution": {
     "iopub.execute_input": "2022-11-27T15:22:18.979414Z",
     "iopub.status.busy": "2022-11-27T15:22:18.978968Z",
     "iopub.status.idle": "2022-11-27T15:22:18.985841Z",
     "shell.execute_reply": "2022-11-27T15:22:18.984054Z",
     "shell.execute_reply.started": "2022-11-27T15:22:18.979381Z"
    }
   },
   "outputs": [],
   "source": [
    "from sklearn.preprocessing import StandardScaler"
   ]
  },
  {
   "cell_type": "code",
   "execution_count": 12,
   "metadata": {
    "execution": {
     "iopub.execute_input": "2022-11-27T15:23:25.203144Z",
     "iopub.status.busy": "2022-11-27T15:23:25.201974Z",
     "iopub.status.idle": "2022-11-27T15:23:25.286637Z",
     "shell.execute_reply": "2022-11-27T15:23:25.285233Z",
     "shell.execute_reply.started": "2022-11-27T15:23:25.203099Z"
    }
   },
   "outputs": [
    {
     "name": "stdout",
     "output_type": "stream",
     "text": [
      "[[   0 2756]\n",
      " [   1 2514]]\n"
     ]
    }
   ],
   "source": [
    "train_index, val_index, test_index = cv_fold_i[0]\n",
    "y_train = df['assestment'].values[train_index]\n",
    "y_val = df['assestment'].values[val_index]\n",
    "y_test = df['assestment'].values[test_index]\n",
    "\n",
    "unique, counts = np.unique(y_train, return_counts=True)\n",
    "print(np.asarray((unique, counts)).T)\n",
    "\n",
    "scaler = StandardScaler().fit(embeddings_table[train_index])"
   ]
  },
  {
   "cell_type": "code",
   "execution_count": 13,
   "metadata": {
    "execution": {
     "iopub.execute_input": "2022-11-27T15:23:25.983756Z",
     "iopub.status.busy": "2022-11-27T15:23:25.983353Z",
     "iopub.status.idle": "2022-11-27T15:23:50.249313Z",
     "shell.execute_reply": "2022-11-27T15:23:50.247873Z",
     "shell.execute_reply.started": "2022-11-27T15:23:25.983724Z"
    }
   },
   "outputs": [],
   "source": [
    "reducer = umap.UMAP()\n",
    "umap_train = reducer.fit_transform(scaler.transform(embeddings_table[train_index]), y=y_train)\n",
    "umap_val = reducer.transform(scaler.transform(embeddings_table[val_index]))\n",
    "umap_test = reducer.transform(scaler.transform(embeddings_table[test_index]))"
   ]
  },
  {
   "cell_type": "code",
   "execution_count": 14,
   "metadata": {
    "execution": {
     "iopub.execute_input": "2022-11-27T15:23:50.251910Z",
     "iopub.status.busy": "2022-11-27T15:23:50.251548Z",
     "iopub.status.idle": "2022-11-27T15:23:50.824941Z",
     "shell.execute_reply": "2022-11-27T15:23:50.823693Z",
     "shell.execute_reply.started": "2022-11-27T15:23:50.251879Z"
    }
   },
   "outputs": [
    {
     "data": {
      "image/png": "[encoded data removed]",
      "text/plain": [
       "<Figure size 2000x600 with 3 Axes>"
      ]
     },
     "metadata": {},
     "output_type": "display_data"
    }
   ],
   "source": [
    "plt.figure(figsize=(20, 6), facecolor=\"azure\")\n",
    "\n",
    "plt.subplot(1, 3, 1)\n",
    "for label in np.unique(y_train):\n",
    "    tmp = umap_train[y_train==label]\n",
    "    plt.scatter(tmp[:, 0], tmp[:, 1], label=label)\n",
    "    plt.title('Train')\n",
    "    \n",
    "plt.subplot(1, 3, 2)\n",
    "for label in np.unique(y_val):\n",
    "    tmp = umap_val[y_val==label]\n",
    "    plt.scatter(tmp[:, 0], tmp[:, 1], label=label)\n",
    "    plt.title('Val')\n",
    "\n",
    "plt.subplot(1, 3, 3)\n",
    "for label in np.unique(y_test):\n",
    "    tmp = umap_test[y_test==label]\n",
    "    plt.scatter(tmp[:, 0], tmp[:, 1], label=label)\n",
    "    plt.title('Test')\n",
    "\n",
    "plt.legend()\n",
    "plt.show()"
   ]
  },
  {
   "cell_type": "markdown",
   "metadata": {},
   "source": [
    "## Run KNN and determine badly calssified"
   ]
  },
  {
   "cell_type": "code",
   "execution_count": 15,
   "metadata": {
    "execution": {
     "iopub.execute_input": "2022-11-27T15:25:10.853093Z",
     "iopub.status.busy": "2022-11-27T15:25:10.852605Z",
     "iopub.status.idle": "2022-11-27T15:25:10.861531Z",
     "shell.execute_reply": "2022-11-27T15:25:10.859442Z",
     "shell.execute_reply.started": "2022-11-27T15:25:10.853044Z"
    }
   },
   "outputs": [],
   "source": [
    "# neigh = KNeighborsClassifier(n_neighbors=int(np.sqrt(train_index.shape[0])))\n",
    "# neigh.fit(embeddings_table[train_index], y_train)\n",
    "\n",
    "# predict = neigh.predict(embeddings_table[train_index])\n",
    "\n",
    "# problem_idx = np.arange(train_index.shape[0])[y_train != predict]\n",
    "# problematic_points = embeddings_table[train_index][problem_idx, :]\n",
    "\n",
    "# p = problem_idx[0]\n",
    "\n",
    "# print(p, y_train[p])\n",
    "\n",
    "# print( spatial.KDTree(embeddings_table[train_index][y_train==y_train[p]]).query(problematic_points[p], k=3)[1])\n",
    "\n",
    "# print( spatial.KDTree(embeddings_table[train_index][y_train!=y_train[p]]).query(problematic_points[p], k=3)[1] )"
   ]
  },
  {
   "cell_type": "code",
   "execution_count": 141,
   "metadata": {
    "execution": {
     "iopub.execute_input": "2022-11-26T15:31:53.151297Z",
     "iopub.status.busy": "2022-11-26T15:31:53.150687Z",
     "iopub.status.idle": "2022-11-26T15:31:53.165067Z",
     "shell.execute_reply": "2022-11-26T15:31:53.164082Z",
     "shell.execute_reply.started": "2022-11-26T15:31:53.151191Z"
    }
   },
   "outputs": [],
   "source": [
    "class FakeNews(Dataset):\n",
    "    def __init__(self, emb_dt, y_dt, index_to_use, factor=5):\n",
    "        self.emb = emb_dt[index_to_use]\n",
    "        \n",
    "        self.labels = y_dt[index_to_use]\n",
    "        \n",
    "        self.index = np.repeat( [np.arange(index_to_use.shape[0])], factor, axis=0).reshape(-1)\n",
    "        \n",
    "        self.idx = np.arange(index_to_use.shape[0])\n",
    "        \n",
    "    def __len__(self):\n",
    "        return len(self.index)\n",
    "    \n",
    "    def __getitem__(self, idx): \n",
    "        item = self.index[idx]\n",
    "        \n",
    "        anchor_label = self.labels[item]\n",
    "\n",
    "        positive_list = self.idx[self.idx!=item][self.labels[self.idx!=item]==anchor_label]\n",
    "\n",
    "        positive_item = random.choice(positive_list)\n",
    "        \n",
    "        negative_list = self.idx[self.idx!=item][self.labels[self.idx!=item]!=anchor_label]\n",
    "        negative_item = random.choice(negative_list)\n",
    "        \n",
    "        anchor_claim = self.emb[item].astype(np.float32)\n",
    "        positive_claim = self.emb[positive_item].astype(np.float32)\n",
    "        negative_claim = self.emb[negative_item].astype(np.float32)\n",
    "\n",
    "        anchor_label = anchor_label.astype(np.float32)\n",
    "\n",
    "        return anchor_claim, positive_claim, negative_claim, anchor_label\n",
    "\n",
    "class FakeNewsLabel(Dataset):\n",
    "    def __init__(self, emb_dt, y_dt, index_to_use):\n",
    "        self.emb = emb_dt[index_to_use]\n",
    "        \n",
    "        self.labels = y_dt[index_to_use]\n",
    "        \n",
    "        self.index = np.arange(index_to_use.shape[0])\n",
    "        \n",
    "    def __len__(self):\n",
    "        return len(self.emb)\n",
    "    \n",
    "    def __getitem__(self, item):\n",
    "        anchor_label = self.labels[item]\n",
    "        \n",
    "        anchor_claim = self.emb[item].astype(np.float32)\n",
    "\n",
    "        anchor_label = anchor_label.astype(np.float32)\n",
    "\n",
    "        return anchor_claim, anchor_label"
   ]
  },
  {
   "cell_type": "code",
   "execution_count": 156,
   "metadata": {
    "execution": {
     "iopub.execute_input": "2022-11-26T15:31:53.167520Z",
     "iopub.status.busy": "2022-11-26T15:31:53.166464Z",
     "iopub.status.idle": "2022-11-26T15:31:53.174640Z",
     "shell.execute_reply": "2022-11-26T15:31:53.173820Z",
     "shell.execute_reply.started": "2022-11-26T15:31:53.167485Z"
    }
   },
   "outputs": [],
   "source": [
    "embedding_dims = 128\n",
    "batch_size = 512\n",
    "epochs = 100\n",
    "n_workers = 8"
   ]
  },
  {
   "cell_type": "code",
   "execution_count": 157,
   "metadata": {
    "execution": {
     "iopub.execute_input": "2022-11-26T15:31:53.176596Z",
     "iopub.status.busy": "2022-11-26T15:31:53.175822Z",
     "iopub.status.idle": "2022-11-26T15:31:53.262936Z",
     "shell.execute_reply": "2022-11-26T15:31:53.261933Z",
     "shell.execute_reply.started": "2022-11-26T15:31:53.176562Z"
    }
   },
   "outputs": [],
   "source": [
    "train_ds = FakeNews(embeddings_table, df['assestment'].values, train_index, 10)\n",
    "train_loader = DataLoader(train_ds, batch_size=batch_size, shuffle=True, num_workers=n_workers)\n",
    "\n",
    "train_ds_label = FakeNewsLabel(embeddings_table, df['assestment'].values, train_index)\n",
    "train_loader_label = DataLoader(train_ds_label, batch_size=batch_size, shuffle=True, num_workers=n_workers)\n",
    "\n",
    "val_ds = FakeNews(embeddings_table, df['assestment'].values, val_index, 1)\n",
    "val_loader = DataLoader(val_ds, batch_size=batch_size, shuffle=True, num_workers=n_workers)\n",
    "\n",
    "test_ds = FakeNewsLabel(embeddings_table, df['assestment'].values, test_index)\n",
    "test_loader = DataLoader(test_ds, batch_size=batch_size, shuffle=False, num_workers=n_workers)"
   ]
  },
  {
   "cell_type": "markdown",
   "metadata": {},
   "source": [
    "## Define Net"
   ]
  },
  {
   "cell_type": "code",
   "execution_count": 158,
   "metadata": {
    "execution": {
     "iopub.execute_input": "2022-11-27T15:08:47.701490Z",
     "iopub.status.busy": "2022-11-27T15:08:47.701050Z",
     "iopub.status.idle": "2022-11-27T15:08:47.710932Z",
     "shell.execute_reply": "2022-11-27T15:08:47.709828Z",
     "shell.execute_reply.started": "2022-11-27T15:08:47.701455Z"
    }
   },
   "outputs": [],
   "source": [
    "class Network(nn.Module):\n",
    "    def __init__(self, emb_dim=128):\n",
    "        super(Network, self).__init__()\n",
    "        \n",
    "        self.fc = nn.Sequential(\n",
    "# #             nn.Linear(1024, 1024),\n",
    "# #             nn.BatchNorm1d(1024),\n",
    "# #             nn.ReLU(),\n",
    "# #             nn.Dropout(0.5),\n",
    "            \n",
    "            nn.Linear(1024, 512),\n",
    "            nn.BatchNorm1d(512),\n",
    "            nn.ReLU(),\n",
    "            nn.Dropout(0.5),\n",
    "            \n",
    "#             nn.Linear(512, 512),\n",
    "#             nn.BatchNorm1d(512),\n",
    "#             nn.ReLU(),\n",
    "#             nn.Dropout(0.5),\n",
    "            \n",
    "            nn.Linear(512, 256),\n",
    "            nn.BatchNorm1d(256),\n",
    "            nn.ReLU(),\n",
    "            nn.Dropout(0.5),\n",
    "            nn.Linear(256, emb_dim)\n",
    "            \n",
    "#             nn.Linear(1024, emb_dim),\n",
    "#             nn.BatchNorm1d(emb_dim),\n",
    "#             nn.ReLU(),\n",
    "#             nn.Dropout(0.5),\n",
    "        )\n",
    "        \n",
    "    def forward(self, x):\n",
    "        x = x.view(-1, 1024)\n",
    "        x = self.fc(x)\n",
    "        return x"
   ]
  },
  {
   "cell_type": "code",
   "execution_count": 159,
   "metadata": {
    "execution": {
     "iopub.execute_input": "2022-11-26T15:31:53.265004Z",
     "iopub.status.busy": "2022-11-26T15:31:53.264315Z",
     "iopub.status.idle": "2022-11-26T15:31:55.885828Z",
     "shell.execute_reply": "2022-11-26T15:31:55.884697Z",
     "shell.execute_reply.started": "2022-11-26T15:31:53.264967Z"
    }
   },
   "outputs": [],
   "source": [
    "model = Network(embedding_dims)\n",
    "# model = torch.nn.DataParallel(model)\n",
    "# model = torch.jit.script(model).to(device)\n",
    "model = model.to(device)\n",
    "\n",
    "optimizer = optim.Adam(model.parameters(), lr=0.001)\n",
    "# criterion = torch.jit.script(TripletLoss())\n",
    "criterion = TripletLoss()"
   ]
  },
  {
   "cell_type": "markdown",
   "metadata": {},
   "source": [
    "## Training loop"
   ]
  },
  {
   "cell_type": "code",
   "execution_count": 160,
   "metadata": {
    "execution": {
     "iopub.execute_input": "2022-11-26T15:31:55.916175Z",
     "iopub.status.busy": "2022-11-26T15:31:55.915536Z",
     "iopub.status.idle": "2022-11-26T15:53:15.543110Z",
     "shell.execute_reply": "2022-11-26T15:53:15.541293Z",
     "shell.execute_reply.started": "2022-11-26T15:31:55.916135Z"
    }
   },
   "outputs": [
    {
     "data": {
      "application/vnd.jupyter.widget-view+json": {
       "model_id": "4c6bab5c2cf64c00b41778c847b978c9",
       "version_major": 2,
       "version_minor": 0
      },
      "text/plain": [
       "Epochs:   0%|          | 0/100 [00:00<?, ?it/s]"
      ]
     },
     "metadata": {},
     "output_type": "display_data"
    },
    {
     "name": "stdout",
     "output_type": "stream",
     "text": [
      "Epoch: 1/100 - Train Loss: 3.6940;  Val Loss: 1.0204 Best Val loss 1.0204\n",
      "Epoch: 11/100 - Train Loss: 0.5294;  Val Loss: 0.9833 Best Val loss 0.9329\n",
      "Epoch: 21/100 - Train Loss: 0.0778;  Val Loss: 0.9337 Best Val loss 0.9002\n",
      "Epoch: 31/100 - Train Loss: 0.0453;  Val Loss: 0.9592 Best Val loss 0.8795\n",
      "Epoch: 41/100 - Train Loss: 0.0074;  Val Loss: 0.2396 Best Val loss 0.2074\n",
      "Epoch: 51/100 - Train Loss: 0.0052;  Val Loss: 0.2251 Best Val loss 0.2074\n",
      "Epoch: 61/100 - Train Loss: 0.0054;  Val Loss: 0.2291 Best Val loss 0.2074\n",
      "Epoch: 71/100 - Train Loss: 0.0043;  Val Loss: 0.2439 Best Val loss 0.2074\n",
      "Epoch: 81/100 - Train Loss: 0.0031;  Val Loss: 0.2493 Best Val loss 0.2074\n",
      "Epoch: 91/100 - Train Loss: 0.0031;  Val Loss: 0.2533 Best Val loss 0.2074\n"
     ]
    }
   ],
   "source": [
    "train_loss_out = []\n",
    "val_loss_out = []\n",
    "\n",
    "val_prev = np.inf\n",
    "\n",
    "if_norm = False\n",
    "loss_vec = TripletLossVector()\n",
    "k_top = 50\n",
    "\n",
    "model.train()\n",
    "for epoch in tqdm(range(epochs), desc=\"Epochs\"):\n",
    "    running_loss = []\n",
    "    for step, (anchor_claim, positive_claim, negative_claim, anchor_label) in enumerate(train_loader):\n",
    "        anchor_claim = anchor_claim.to(device) if if_norm else (anchor_claim / torch.norm(anchor_claim) ).to(device)\n",
    "        positive_claim = positive_claim.to(device) if if_norm else (positive_claim / torch.norm(positive_claim) ).to(device)\n",
    "        negative_claim = negative_claim.to(device) if if_norm else (negative_claim / torch.norm(negative_claim) ).to(device)\n",
    "        \n",
    "        if k_top:\n",
    "            losses_order = torch.argsort(\n",
    "                loss_vec.get_loss(anchor_claim, positive_claim, negative_claim),\n",
    "                descending=True\n",
    "            )[:-k_top]\n",
    "\n",
    "            anchor_claim = anchor_claim[losses_order]\n",
    "            positive_claim = positive_claim[losses_order]\n",
    "            negative_claim = negative_claim[losses_order]\n",
    "                \n",
    "        optimizer.zero_grad()\n",
    "        anchor_out = model(anchor_claim)\n",
    "        positive_out = model(positive_claim)\n",
    "        negative_out = model(negative_claim)\n",
    "        \n",
    "        loss = criterion(anchor_out, positive_out, negative_out)\n",
    "        loss.backward()\n",
    "        optimizer.step()\n",
    "        \n",
    "        running_loss.append(loss.cpu().detach().numpy())\n",
    "    model.eval()\n",
    "    \n",
    "    val_loss = []\n",
    "    for anchor_claim, positive_claim, negative_claim, _ in val_loader:\n",
    "        anchor_claim = anchor_claim.to(device) if if_norm else (anchor_claim / torch.norm(anchor_claim) ).to(device)\n",
    "        positive_claim = positive_claim.to(device) if if_norm else (positive_claim / torch.norm(positive_claim) ).to(device)\n",
    "        negative_claim = negative_claim.to(device) if if_norm else (negative_claim / torch.norm(negative_claim) ).to(device)\n",
    "\n",
    "        anchor_out = model(anchor_claim)\n",
    "        positive_out = model(positive_claim)\n",
    "        negative_out = model(negative_claim)\n",
    "        \n",
    "        loss = criterion(anchor_out, positive_out, negative_out)\n",
    "        val_loss.append(loss.cpu().detach().numpy())\n",
    "    \n",
    "    model.train()\n",
    "    \n",
    "    train_loss_out.append(np.mean(running_loss))\n",
    "    val_loss_out.append(np.mean(val_loss))\n",
    "    \n",
    "    if np.mean(val_loss) < val_prev:\n",
    "#         print(epoch, f'saved {np.mean(val_loss):.4f} < {val_prev:.4f}')\n",
    "        val_prev = np.mean(val_loss)\n",
    "        torch.save(model, 'models/model_test.pt')\n",
    "        \n",
    "    if epoch%10 == 0:\n",
    "        print(f\"Epoch: {epoch+1}/{epochs} - Train Loss: {np.mean(running_loss):.4f};\",\n",
    "              f\" Val Loss: {np.mean(val_loss):.4f} Best Val loss {val_prev:.4f}\")\n",
    "        \n",
    "    if epoch%30 == 0 and epoch>1:\n",
    "        for param_group in optimizer.param_groups:\n",
    "            param_group['lr'] = param_group['lr'] * 0.1"
   ]
  },
  {
   "cell_type": "code",
   "execution_count": 161,
   "metadata": {
    "execution": {
     "iopub.execute_input": "2022-11-26T15:53:22.761139Z",
     "iopub.status.busy": "2022-11-26T15:53:22.760751Z",
     "iopub.status.idle": "2022-11-26T15:53:22.779695Z",
     "shell.execute_reply": "2022-11-26T15:53:22.778795Z",
     "shell.execute_reply.started": "2022-11-26T15:53:22.761106Z"
    }
   },
   "outputs": [],
   "source": [
    "model = torch.load('models/model_test.pt')"
   ]
  },
  {
   "cell_type": "code",
   "execution_count": 162,
   "metadata": {
    "execution": {
     "iopub.execute_input": "2022-11-26T15:53:23.103530Z",
     "iopub.status.busy": "2022-11-26T15:53:23.103194Z",
     "iopub.status.idle": "2022-11-26T15:53:23.338509Z",
     "shell.execute_reply": "2022-11-26T15:53:23.337437Z",
     "shell.execute_reply.started": "2022-11-26T15:53:23.103502Z"
    }
   },
   "outputs": [
    {
     "data": {
      "application/vnd.jupyter.widget-view+json": {
       "model_id": "fd6917c8370840309a6c2c33282c68bc",
       "version_major": 2,
       "version_minor": 0
      },
      "text/plain": [
       "  0%|          | 0/11 [00:00<?, ?it/s]"
      ]
     },
     "metadata": {},
     "output_type": "display_data"
    },
    {
     "data": {
      "text/plain": [
       "(5270, 128)"
      ]
     },
     "execution_count": 162,
     "metadata": {},
     "output_type": "execute_result"
    }
   ],
   "source": [
    "train_results = []\n",
    "labels = []\n",
    "\n",
    "model.eval()\n",
    "with torch.no_grad():\n",
    "    for claim, label in tqdm(train_loader_label):\n",
    "        anchor_claim = claim.to(device)\n",
    "        \n",
    "        train_results.append(model(anchor_claim).cpu().numpy())\n",
    "        labels.append(label)\n",
    "\n",
    "train_results = np.concatenate(train_results) \n",
    "labels = np.concatenate(labels)\n",
    "train_results.shape"
   ]
  },
  {
   "cell_type": "code",
   "execution_count": 163,
   "metadata": {
    "execution": {
     "iopub.execute_input": "2022-11-26T15:53:27.431015Z",
     "iopub.status.busy": "2022-11-26T15:53:27.430648Z",
     "iopub.status.idle": "2022-11-26T15:53:27.592049Z",
     "shell.execute_reply": "2022-11-26T15:53:27.590934Z",
     "shell.execute_reply.started": "2022-11-26T15:53:27.430984Z"
    }
   },
   "outputs": [
    {
     "data": {
      "application/vnd.jupyter.widget-view+json": {
       "model_id": "6f4fefc41a054f10af3c2877b883b644",
       "version_major": 2,
       "version_minor": 0
      },
      "text/plain": [
       "  0%|          | 0/2 [00:00<?, ?it/s]"
      ]
     },
     "metadata": {},
     "output_type": "display_data"
    },
    {
     "data": {
      "text/plain": [
       "(595, 128)"
      ]
     },
     "execution_count": 163,
     "metadata": {},
     "output_type": "execute_result"
    }
   ],
   "source": [
    "test_results = []\n",
    "test_labels = []\n",
    "\n",
    "model.eval()\n",
    "with torch.no_grad():\n",
    "    for claim, label in tqdm(test_loader):\n",
    "        anchor_claim = claim.to(device)\n",
    "        \n",
    "        test_results.append(model(anchor_claim).cpu().numpy())\n",
    "        test_labels.append(label)\n",
    "        \n",
    "test_results = np.concatenate(test_results)\n",
    "test_labels = np.concatenate(test_labels)\n",
    "test_results.shape"
   ]
  },
  {
   "cell_type": "code",
   "execution_count": 164,
   "metadata": {},
   "outputs": [
    {
     "name": "stderr",
     "output_type": "stream",
     "text": [
      "/home/marek/anaconda3/envs/nlp/lib/python3.9/site-packages/scipy/sparse/_index.py:146: SparseEfficiencyWarning: Changing the sparsity structure of a csr_matrix is expensive. lil_matrix is more efficient.\n",
      "  self._set_arrayXarray(i, j, x)\n"
     ]
    }
   ],
   "source": [
    "reducer_nn = umap.UMAP()\n",
    "scaler_nn = StandardScaler().fit(train_results)\n",
    "\n",
    "umap_nn_train = reducer_nn.fit_transform(scaler_nn.transform(train_results))\n",
    "umap_nn_test = reducer_nn.transform(scaler_nn.transform(test_results))"
   ]
  },
  {
   "cell_type": "code",
   "execution_count": 165,
   "metadata": {},
   "outputs": [
    {
     "data": {
      "image/png": "[encoded data removed]",
      "text/plain": [
       "<Figure size 1400x600 with 2 Axes>"
      ]
     },
     "metadata": {},
     "output_type": "display_data"
    }
   ],
   "source": [
    "plt.figure(figsize=(14, 6), facecolor=\"azure\")\n",
    "\n",
    "plt.subplot(1, 2, 1)\n",
    "for label in np.unique(labels):\n",
    "    tmp = umap_nn_train[labels==label]\n",
    "    plt.scatter(tmp[:, 0], tmp[:, 1], label=label)\n",
    "    plt.title('Train')\n",
    "\n",
    "plt.subplot(1, 2, 2)\n",
    "for label in np.unique(test_labels):\n",
    "    tmp = umap_nn_test[test_labels==label]\n",
    "    plt.scatter(tmp[:, 0], tmp[:, 1], label=label)\n",
    "    plt.title('Test')\n",
    "\n",
    "plt.legend()\n",
    "plt.show()"
   ]
  },
  {
   "cell_type": "code",
   "execution_count": 166,
   "metadata": {
    "execution": {
     "iopub.execute_input": "2022-11-26T15:53:33.387287Z",
     "iopub.status.busy": "2022-11-26T15:53:33.386511Z",
     "iopub.status.idle": "2022-11-26T15:53:33.402885Z",
     "shell.execute_reply": "2022-11-26T15:53:33.401582Z",
     "shell.execute_reply.started": "2022-11-26T15:53:33.387245Z"
    }
   },
   "outputs": [],
   "source": [
    "clf_lr_1 = LogisticRegression(max_iter=5000, C=1, penalty='l2', solver='liblinear')"
   ]
  },
  {
   "cell_type": "code",
   "execution_count": 167,
   "metadata": {
    "execution": {
     "iopub.execute_input": "2022-11-26T15:53:34.027251Z",
     "iopub.status.busy": "2022-11-26T15:53:34.026899Z",
     "iopub.status.idle": "2022-11-26T15:53:34.163303Z",
     "shell.execute_reply": "2022-11-26T15:53:34.161895Z",
     "shell.execute_reply.started": "2022-11-26T15:53:34.027223Z"
    }
   },
   "outputs": [],
   "source": [
    "results = {\n",
    "    'test_accuracy' : [],\n",
    "    'test_precision' : [],\n",
    "    'test_recall' : [],\n",
    "    'test_f1' : []\n",
    "}\n",
    "\n",
    "\n",
    "y_train_t = labels\n",
    "X_train_t = train_results\n",
    "y_test_t = test_labels\n",
    "X_test_t = test_results\n",
    "\n",
    "clf_lr_1.fit(X_train_t, y_train_t)\n",
    "\n",
    "y_pred = clf_lr_1.predict(X_test_t)\n",
    "\n",
    "results['test_accuracy'].append( accuracy_score(y_test_t, y_pred) ) \n",
    "results['test_precision'].append( precision_score(y_test_t, y_pred) ) \n",
    "results['test_recall'].append( recall_score(y_test_t, y_pred) ) \n",
    "results['test_f1'].append( f1_score(y_test_t, y_pred) ) \n",
    "\n",
    "metrics = {\n",
    "    \"Accuracy\": np.array(results['test_accuracy']),\n",
    "#     \"Precision\": np.array(results['test_precision']).mean(),\n",
    "#     \"Recall\": np.array(results['test_recall']).mean(),\n",
    "    \"F1 Score\":  np.array(results['test_f1']),\n",
    "    }"
   ]
  },
  {
   "cell_type": "code",
   "execution_count": 168,
   "metadata": {
    "execution": {
     "iopub.execute_input": "2022-11-26T15:53:34.788113Z",
     "iopub.status.busy": "2022-11-26T15:53:34.787753Z",
     "iopub.status.idle": "2022-11-26T15:53:34.799721Z",
     "shell.execute_reply": "2022-11-26T15:53:34.798092Z",
     "shell.execute_reply.started": "2022-11-26T15:53:34.788083Z"
    }
   },
   "outputs": [
    {
     "data": {
      "text/plain": [
       "array([[ 69, 228],\n",
       "       [ 37, 261]])"
      ]
     },
     "execution_count": 168,
     "metadata": {},
     "output_type": "execute_result"
    }
   ],
   "source": [
    "confusion_matrix(y_test_t, y_pred)"
   ]
  },
  {
   "cell_type": "code",
   "execution_count": 169,
   "metadata": {
    "execution": {
     "iopub.execute_input": "2022-11-26T15:53:36.407665Z",
     "iopub.status.busy": "2022-11-26T15:53:36.406494Z",
     "iopub.status.idle": "2022-11-26T15:53:36.415616Z",
     "shell.execute_reply": "2022-11-26T15:53:36.414441Z",
     "shell.execute_reply.started": "2022-11-26T15:53:36.407618Z"
    }
   },
   "outputs": [
    {
     "data": {
      "text/plain": [
       "{'Accuracy': array([0.55462185]), 'F1 Score': array([0.66327827])}"
      ]
     },
     "execution_count": 169,
     "metadata": {},
     "output_type": "execute_result"
    }
   ],
   "source": [
    "metrics"
   ]
  },
  {
   "cell_type": "markdown",
   "metadata": {},
   "source": [
    "# Test using CV"
   ]
  },
  {
   "cell_type": "code",
   "execution_count": null,
   "metadata": {
    "execution": {
     "iopub.execute_input": "2022-11-25T18:28:29.816271Z",
     "iopub.status.busy": "2022-11-25T18:28:29.815893Z"
    }
   },
   "outputs": [],
   "source": [
    "results = {\n",
    "    'test_accuracy' : [],\n",
    "    'test_precision' : [],\n",
    "    'test_recall' : [],\n",
    "    'test_f1' : []\n",
    "}\n",
    "\n",
    "embedding_dims = 100\n",
    "batch_size = 128\n",
    "epochs = 1000\n",
    "lr = 0.001\n",
    "\n",
    "for j, (train_index, val_index, test_index) in enumerate(cv_fold_i):\n",
    "    train_ds = FakeNews(embeddings_table, df['assestment'].values, train_index)\n",
    "    train_loader = DataLoader(train_ds, batch_size=batch_size, shuffle=True, num_workers=2)\n",
    "    \n",
    "    val_ds = FakeNews(embeddings_table, df['assestment'].values, val_index)\n",
    "    val_loader = DataLoader(val_ds, batch_size=batch_size, shuffle=True, num_workers=2)\n",
    "\n",
    "    test_ds = FakeNews(embeddings_table, df['assestment'].values, test_index)\n",
    "    test_loader = DataLoader(test_ds, batch_size=batch_size//2, shuffle=False, num_workers=2)\n",
    "\n",
    "    \n",
    "    model = Network(embedding_dims)\n",
    "    model = model.to(device)\n",
    "\n",
    "    optimizer = optim.Adam(model.parameters(), lr=lr)\n",
    "    criterion = TripletLoss()\n",
    "\n",
    "    val_prev = np.inf\n",
    "    \n",
    "    model.train()\n",
    "    for epoch in tqdm(range(epochs), desc=f\"Epochs {j}\"):\n",
    "        running_loss = []\n",
    "        for step, (anchor_claim, positive_claim, negative_claim, anchor_label) in enumerate(train_loader):\n",
    "            anchor_claim = anchor_claim.to(device)\n",
    "            positive_claim = positive_claim.to(device)\n",
    "            negative_claim = negative_claim.to(device)\n",
    "\n",
    "            optimizer.zero_grad()\n",
    "            anchor_out = model(anchor_claim)\n",
    "            positive_out = model(positive_claim)\n",
    "            negative_out = model(negative_claim)\n",
    "\n",
    "            loss = criterion(anchor_out, positive_out, negative_out)\n",
    "            loss.backward()\n",
    "            optimizer.step()\n",
    "\n",
    "            running_loss.append(loss.cpu().detach().numpy())\n",
    "\n",
    "        model.eval()\n",
    "    \n",
    "        val_loss = []\n",
    "        for anchor_claim, positive_claim, negative_claim, _ in val_loader:\n",
    "            anchor_claim = anchor_claim.to(device)\n",
    "            positive_claim = positive_claim.to(device)\n",
    "            negative_claim = negative_claim.to(device)\n",
    "\n",
    "            anchor_out = model(anchor_claim)\n",
    "            positive_out = model(positive_claim)\n",
    "            negative_out = model(negative_claim)\n",
    "\n",
    "            loss = criterion(anchor_out, positive_out, negative_out)\n",
    "            val_loss.append(loss.cpu().detach().numpy())\n",
    "\n",
    "        model.train()\n",
    "        \n",
    "        if np.mean(val_loss) < val_prev:\n",
    "            val_prev = np.mean(val_loss)\n",
    "            torch.save(model, f'model_cv{j}.pt')\n",
    "        \n",
    "        if epoch%100 == 0:\n",
    "            print(f\"{j} Epoch: {epoch+1}/{epochs} - Train Loss: {np.mean(running_loss):.4f};\",\n",
    "                  f\" Val Loss: {np.mean(val_loss):.4f} Val loss best {val_prev:.4f}\"\n",
    "             )\n",
    "            \n",
    "    \n",
    "    train_results = []\n",
    "    labels = []\n",
    "\n",
    "    model.eval()\n",
    "    with torch.no_grad():\n",
    "        for claim, _, _, label in train_loader:\n",
    "            anchor_claim = claim.to(device)\n",
    "\n",
    "            train_results.append(model(anchor_claim).cpu().numpy())\n",
    "            labels.append(label)\n",
    "\n",
    "\n",
    "    train_results = np.concatenate(train_results) \n",
    "    labels = np.concatenate(labels)\n",
    "\n",
    "    \n",
    "    test_results = []\n",
    "    test_labels = []\n",
    "\n",
    "    model.eval()\n",
    "    with torch.no_grad():\n",
    "        for claim, _, _, label in test_loader:\n",
    "            anchor_claim = claim.to(device)\n",
    "\n",
    "            test_results.append(model(anchor_claim).cpu().numpy())\n",
    "            test_labels.append(label)\n",
    "\n",
    "\n",
    "    test_results = np.concatenate(test_results)\n",
    "    test_labels = np.concatenate(test_labels)\n",
    "\n",
    "    \n",
    "    clf_lr_1 = LogisticRegression(max_iter=5000, C=1, penalty='l2', solver='liblinear')\n",
    "\n",
    "    y_train_t = labels\n",
    "    X_train_t = train_results\n",
    "    y_test_t = test_labels\n",
    "    X_test_t = test_results\n",
    "\n",
    "    clf_lr_1.fit(X_train_t, y_train_t)\n",
    "\n",
    "    y_pred = clf_lr_1.predict(X_test_t)\n",
    "\n",
    "    results['test_accuracy'].append( accuracy_score(y_test_t, y_pred) ) \n",
    "    results['test_precision'].append( precision_score(y_test_t, y_pred) ) \n",
    "    results['test_recall'].append( recall_score(y_test_t, y_pred) ) \n",
    "    results['test_f1'].append( f1_score(y_test_t, y_pred) ) \n",
    "\n",
    "\n",
    "out = {\n",
    "    \"Accuracy\": np.array(results['test_accuracy']),\n",
    "#     \"Precision\": np.array(results['test_precision']).mean(),\n",
    "#     \"Recall\": np.array(results['test_recall']).mean(),\n",
    "    \"F1 Score\":  np.array(results['test_f1']),\n",
    "    }\n",
    "\n",
    "print(\n",
    "    'triplet loss lr C1',\n",
    "    f'Accuracy {out[\"Accuracy\"].mean():.3f}+-{out[\"Accuracy\"].std():.3f}',\n",
    "    f'F1 Score {out[\"F1 Score\"].mean():.3f}+-{out[\"F1 Score\"].std():.3f}',\n",
    "    f' {out[\"Accuracy\"].mean():.3f}+-{out[\"Accuracy\"].std():.3f} | {out[\"F1 Score\"].mean():.3f}+-{out[\"F1 Score\"].std():.3f}'\n",
    ")    "
   ]
  },
  {
   "cell_type": "markdown",
   "metadata": {},
   "source": [
    "### Get use best models"
   ]
  },
  {
   "cell_type": "code",
   "execution_count": null,
   "metadata": {},
   "outputs": [],
   "source": [
    "results = {\n",
    "    'test_accuracy' : [],\n",
    "    'test_precision' : [],\n",
    "    'test_recall' : [],\n",
    "    'test_f1' : []\n",
    "}\n",
    "\n",
    "\n",
    "for j, (train_index, val_index, test_index) in enumerate(cv_fold_i):\n",
    "    train_ds = FakeNews(embeddings_table, df['assestment'].values, train_index)\n",
    "    train_loader = DataLoader(train_ds, batch_size=batch_size, shuffle=True, num_workers=2)\n",
    "    \n",
    "    val_ds = FakeNews(embeddings_table, df['assestment'].values, val_index)\n",
    "    val_loader = DataLoader(val_ds, batch_size=batch_size, shuffle=True, num_workers=2)\n",
    "\n",
    "    test_ds = FakeNews(embeddings_table, df['assestment'].values, test_index)\n",
    "    test_loader = DataLoader(test_ds, batch_size=batch_size//2, shuffle=False, num_workers=2)\n",
    "\n",
    "    \n",
    "    model = Network(embedding_dims)\n",
    "    model = torch.load(f'model_cv{j}.pt')\n",
    "    model = model.to(device)\n",
    "\n",
    "    model.eval()\n",
    "   \n",
    "    train_results = []\n",
    "    labels = []\n",
    "\n",
    "    model.eval()\n",
    "    with torch.no_grad():\n",
    "        for claim, _, _, label in train_loader:\n",
    "            anchor_claim = claim.to(device)\n",
    "\n",
    "            train_results.append(model(anchor_claim).cpu().numpy())\n",
    "            labels.append(label)\n",
    "\n",
    "\n",
    "    train_results = np.concatenate(train_results) \n",
    "    labels = np.concatenate(labels)\n",
    "\n",
    "    \n",
    "    test_results = []\n",
    "    test_labels = []\n",
    "\n",
    "    model.eval()\n",
    "    with torch.no_grad():\n",
    "        for claim, _, _, label in test_loader:\n",
    "            anchor_claim = claim.to(device)\n",
    "\n",
    "            test_results.append(model(anchor_claim).cpu().numpy())\n",
    "            test_labels.append(label)\n",
    "\n",
    "\n",
    "    test_results = np.concatenate(test_results)\n",
    "    test_labels = np.concatenate(test_labels)\n",
    "\n",
    "    \n",
    "    clf_lr_1 = LogisticRegression(max_iter=5000, C=1, penalty='l2', solver='liblinear')\n",
    "\n",
    "    y_train_t = labels\n",
    "    X_train_t = train_results\n",
    "    y_test_t = test_labels\n",
    "    X_test_t = test_results\n",
    "\n",
    "    clf_lr_1.fit(X_train_t, y_train_t)\n",
    "\n",
    "    y_pred = clf_lr_1.predict(X_test_t)\n",
    "\n",
    "    results['test_accuracy'].append( accuracy_score(y_test_t, y_pred) ) \n",
    "    results['test_precision'].append( precision_score(y_test_t, y_pred) ) \n",
    "    results['test_recall'].append( recall_score(y_test_t, y_pred) ) \n",
    "    results['test_f1'].append( f1_score(y_test_t, y_pred) ) \n",
    "\n",
    "\n",
    "out = {\n",
    "    \"Accuracy\": np.array(results['test_accuracy']),\n",
    "#     \"Precision\": np.array(results['test_precision']).mean(),\n",
    "#     \"Recall\": np.array(results['test_recall']).mean(),\n",
    "    \"F1 Score\":  np.array(results['test_f1']),\n",
    "    }\n",
    "\n",
    "print(\n",
    "    'triplet loss lr C1',\n",
    "    f'Accuracy {out[\"Accuracy\"].mean():.3f}+-{out[\"Accuracy\"].std():.3f}',\n",
    "    f'F1 Score {out[\"F1 Score\"].mean():.3f}+-{out[\"F1 Score\"].std():.3f}',\n",
    "    f' {out[\"Accuracy\"].mean():.3f}+-{out[\"Accuracy\"].std():.3f} | {out[\"F1 Score\"].mean():.3f}+-{out[\"F1 Score\"].std():.3f}'\n",
    ")    "
   ]
  },
  {
   "cell_type": "code",
   "execution_count": null,
   "metadata": {},
   "outputs": [],
   "source": [
    "results = {\n",
    "    'test_accuracy' : [],\n",
    "    'test_precision' : [],\n",
    "    'test_recall' : [],\n",
    "    'test_f1' : []\n",
    "}\n",
    "\n",
    "embedding_dims = 100\n",
    "batch_size = 128\n",
    "epochs = 1000\n",
    "lr = 0.001\n",
    "\n",
    "for j, (train_index, val_index, test_index) in enumerate(cv_Kfold_i):\n",
    "    train_ds = FakeNews(embeddings_table, df['assestment'].values, train_index)\n",
    "    train_loader = DataLoader(train_ds, batch_size=batch_size, shuffle=True, num_workers=2)\n",
    "    \n",
    "    val_ds = FakeNews(embeddings_table, df['assestment'].values, val_index)\n",
    "    val_loader = DataLoader(val_ds, batch_size=batch_size, shuffle=True, num_workers=2)\n",
    "\n",
    "    test_ds = FakeNews(embeddings_table, df['assestment'].values, test_index)\n",
    "    test_loader = DataLoader(test_ds, batch_size=batch_size//2, shuffle=False, num_workers=2)\n",
    "\n",
    "    \n",
    "    model = Network(embedding_dims)\n",
    "    model = model.to(device)\n",
    "\n",
    "    optimizer = optim.Adam(model.parameters(), lr=lr)\n",
    "    criterion = TripletLoss()\n",
    "\n",
    "    val_prev = np.inf\n",
    "    \n",
    "    model.train()\n",
    "    for epoch in tqdm(range(epochs), desc=f\"Epochs {j}\"):\n",
    "        running_loss = []\n",
    "        for step, (anchor_claim, positive_claim, negative_claim, anchor_label) in enumerate(train_loader):\n",
    "            anchor_claim = anchor_claim.to(device)\n",
    "            positive_claim = positive_claim.to(device)\n",
    "            negative_claim = negative_claim.to(device)\n",
    "\n",
    "            optimizer.zero_grad()\n",
    "            anchor_out = model(anchor_claim)\n",
    "            positive_out = model(positive_claim)\n",
    "            negative_out = model(negative_claim)\n",
    "\n",
    "            loss = criterion(anchor_out, positive_out, negative_out)\n",
    "            loss.backward()\n",
    "            optimizer.step()\n",
    "\n",
    "            running_loss.append(loss.cpu().detach().numpy())\n",
    "\n",
    "        model.eval()\n",
    "    \n",
    "        val_loss = []\n",
    "        for anchor_claim, positive_claim, negative_claim, _ in val_loader:\n",
    "            anchor_claim = anchor_claim.to(device)\n",
    "            positive_claim = positive_claim.to(device)\n",
    "            negative_claim = negative_claim.to(device)\n",
    "\n",
    "            anchor_out = model(anchor_claim)\n",
    "            positive_out = model(positive_claim)\n",
    "            negative_out = model(negative_claim)\n",
    "\n",
    "            loss = criterion(anchor_out, positive_out, negative_out)\n",
    "            val_loss.append(loss.cpu().detach().numpy())\n",
    "\n",
    "        model.train()\n",
    "        \n",
    "        if np.mean(val_loss) < val_prev:\n",
    "            val_prev = np.mean(val_loss)\n",
    "            torch.save(model, f'model_cv{j}.pt')\n",
    "        \n",
    "        if epoch%100 == 0:\n",
    "            print(f\"{j} Epoch: {epoch+1}/{epochs} - Train Loss: {np.mean(running_loss):.4f};\",\n",
    "                  f\" Val Loss: {np.mean(val_loss):.4f} Val loss best {val_prev:.4f}\"\n",
    "             )\n",
    "            \n",
    "    \n",
    "    train_results = []\n",
    "    labels = []\n",
    "\n",
    "    model.eval()\n",
    "    with torch.no_grad():\n",
    "        for claim, _, _, label in train_loader:\n",
    "            anchor_claim = claim.to(device)\n",
    "\n",
    "            train_results.append(model(anchor_claim).cpu().numpy())\n",
    "            labels.append(label)\n",
    "\n",
    "\n",
    "    train_results = np.concatenate(train_results) \n",
    "    labels = np.concatenate(labels)\n",
    "\n",
    "    \n",
    "    test_results = []\n",
    "    test_labels = []\n",
    "\n",
    "    model.eval()\n",
    "    with torch.no_grad():\n",
    "        for claim, _, _, label in test_loader:\n",
    "            anchor_claim = claim.to(device)\n",
    "\n",
    "            test_results.append(model(anchor_claim).cpu().numpy())\n",
    "            test_labels.append(label)\n",
    "\n",
    "\n",
    "    test_results = np.concatenate(test_results)\n",
    "    test_labels = np.concatenate(test_labels)\n",
    "\n",
    "    \n",
    "    clf_lr_1 = LogisticRegression(max_iter=5000, C=1, penalty='l2', solver='liblinear')\n",
    "\n",
    "    y_train_t = labels\n",
    "    X_train_t = train_results\n",
    "    y_test_t = test_labels\n",
    "    X_test_t = test_results\n",
    "\n",
    "    clf_lr_1.fit(X_train_t, y_train_t)\n",
    "\n",
    "    y_pred = clf_lr_1.predict(X_test_t)\n",
    "\n",
    "    results['test_accuracy'].append( accuracy_score(y_test_t, y_pred) ) \n",
    "    results['test_precision'].append( precision_score(y_test_t, y_pred) ) \n",
    "    results['test_recall'].append( recall_score(y_test_t, y_pred) ) \n",
    "    results['test_f1'].append( f1_score(y_test_t, y_pred) ) \n",
    "\n",
    "\n",
    "out = {\n",
    "    \"Accuracy\": np.array(results['test_accuracy']),\n",
    "#     \"Precision\": np.array(results['test_precision']).mean(),\n",
    "#     \"Recall\": np.array(results['test_recall']).mean(),\n",
    "    \"F1 Score\":  np.array(results['test_f1']),\n",
    "    }\n",
    "\n",
    "print(\n",
    "    'triplet loss lr C1',\n",
    "    f'Accuracy {out[\"Accuracy\"].mean():.3f}+-{out[\"Accuracy\"].std():.3f}',\n",
    "    f'F1 Score {out[\"F1 Score\"].mean():.3f}+-{out[\"F1 Score\"].std():.3f}',\n",
    "    f' {out[\"Accuracy\"].mean():.3f}+-{out[\"Accuracy\"].std():.3f} | {out[\"F1 Score\"].mean():.3f}+-{out[\"F1 Score\"].std():.3f}'\n",
    ")    "
   ]
  },
  {
   "cell_type": "code",
   "execution_count": null,
   "metadata": {},
   "outputs": [],
   "source": []
  }
 ],
 "metadata": {
  "kernelspec": {
   "display_name": "Python 3 (ipykernel)",
   "language": "python",
   "name": "python3"
  },
  "language_info": {
   "codemirror_mode": {
    "name": "ipython",
    "version": 3
   },
   "file_extension": ".py",
   "mimetype": "text/x-python",
   "name": "python",
   "nbconvert_exporter": "python",
   "pygments_lexer": "ipython3",
   "version": "3.9.13"
  }
 },
 "nbformat": 4,
 "nbformat_minor": 4
}
