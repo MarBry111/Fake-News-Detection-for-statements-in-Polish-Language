{
 "cells": [
  {
   "cell_type": "code",
   "execution_count": 41,
   "metadata": {
    "execution": {
     "iopub.execute_input": "2022-11-27T15:08:17.772784Z",
     "iopub.status.busy": "2022-11-27T15:08:17.772405Z",
     "iopub.status.idle": "2022-11-27T15:08:43.369468Z",
     "shell.execute_reply": "2022-11-27T15:08:43.368328Z",
     "shell.execute_reply.started": "2022-11-27T15:08:17.772745Z"
    }
   },
   "outputs": [],
   "source": [
    "import time\n",
    "import torch\n",
    "import random\n",
    "import numpy as np\n",
    "import pandas as pd\n",
    "import torch.nn as nn\n",
    "import torch.optim as optim\n",
    "from tqdm.notebook import tqdm\n",
    "import matplotlib.pyplot as plt\n",
    "\n",
    "from torch.utils.data import DataLoader, Dataset\n",
    "\n",
    "from sklearn.model_selection import KFold, train_test_split\n",
    "from sklearn.linear_model import LogisticRegression\n",
    "\n",
    "from sklearn.base import clone as sklearn_clone\n",
    "\n",
    "from sklearn.metrics import (\n",
    "    accuracy_score, \n",
    "    f1_score, \n",
    "    recall_score,\n",
    "    precision_score,\n",
    "    roc_auc_score, confusion_matrix, roc_curve, classification_report\n",
    ")\n",
    "\n",
    "from sentence_transformers import SentenceTransformer\n",
    "from transformers import AutoTokenizer, AutoModel, HerbertTokenizer, BatchEncoding\n",
    "\n",
    "import gc\n",
    "from sklearn.neighbors import KNeighborsClassifier\n",
    "\n",
    "import scipy\n",
    "from scipy import spatial\n",
    "\n",
    "from sklearn.preprocessing import StandardScaler\n",
    "import umap.umap_ as umap"
   ]
  },
  {
   "cell_type": "code",
   "execution_count": null,
   "metadata": {},
   "outputs": [],
   "source": [
    "# # https://stackoverflow.com/questions/42704283/l1-l2-regularization-in-pytorch\n",
    "# #try add l1 tregularisation\n",
    "\n",
    "# loss = loss_fn(outputs, labels)\n",
    "# l1_lambda = 0.001\n",
    "# l1_norm = sum(torch.linalg.norm(p, 1) for p in model.parameters())\n",
    "\n",
    "# loss = loss + l1_lambda * l1_norm"
   ]
  },
  {
   "cell_type": "code",
   "execution_count": 42,
   "metadata": {
    "execution": {
     "iopub.execute_input": "2022-11-27T15:08:43.373442Z",
     "iopub.status.busy": "2022-11-27T15:08:43.372540Z",
     "iopub.status.idle": "2022-11-27T15:08:43.390384Z",
     "shell.execute_reply": "2022-11-27T15:08:43.388887Z",
     "shell.execute_reply.started": "2022-11-27T15:08:43.373390Z"
    }
   },
   "outputs": [
    {
     "data": {
      "text/plain": [
       "'cuda'"
      ]
     },
     "execution_count": 42,
     "metadata": {},
     "output_type": "execute_result"
    }
   ],
   "source": [
    "torch.manual_seed(111)\n",
    "np.random.seed(111)\n",
    "random.seed(111)\n",
    "device = torch.device(\"cuda\" if torch.cuda.is_available() else \"cpu\")\n",
    "\n",
    "if device.type == \"cuda\":\n",
    "    torch.cuda.get_device_name()\n",
    "    \n",
    "device.type"
   ]
  },
  {
   "cell_type": "markdown",
   "metadata": {},
   "source": [
    "## Get data"
   ]
  },
  {
   "cell_type": "code",
   "execution_count": 43,
   "metadata": {
    "execution": {
     "iopub.execute_input": "2022-11-27T15:08:43.393489Z",
     "iopub.status.busy": "2022-11-27T15:08:43.392592Z",
     "iopub.status.idle": "2022-11-27T15:08:43.451933Z",
     "shell.execute_reply": "2022-11-27T15:08:43.450432Z",
     "shell.execute_reply.started": "2022-11-27T15:08:43.393432Z"
    }
   },
   "outputs": [],
   "source": [
    "df_topics = pd.read_csv('../datasets/ready2use/topics.csv', index_col=0)"
   ]
  },
  {
   "cell_type": "code",
   "execution_count": 44,
   "metadata": {
    "execution": {
     "iopub.execute_input": "2022-11-27T15:08:43.456831Z",
     "iopub.status.busy": "2022-11-27T15:08:43.456352Z",
     "iopub.status.idle": "2022-11-27T15:08:43.636702Z",
     "shell.execute_reply": "2022-11-27T15:08:43.635861Z",
     "shell.execute_reply.started": "2022-11-27T15:08:43.456788Z"
    }
   },
   "outputs": [],
   "source": [
    "df = pd.read_csv('../datasets/ready2use/fake_news_features_combined.csv', sep=';')\n",
    "\n",
    "df = df[ df['assestment'] != 'brak' ]\n",
    "\n",
    "df.loc[:, 'assestment'] = df['assestment'].replace({\n",
    "    'falsz' : 'Fałsz',\n",
    "    'zbity_zegar' : 'Fałsz',\n",
    "    'raczej_falsz' : 'Fałsz',\n",
    "    'prawda' : 'Prawda',\n",
    "    'blisko_prawdy' : 'Prawda',\n",
    "    'polprawda' : 'Manipulacja',\n",
    "    'Częściowy fałsz' : 'Manipulacja'\n",
    "})\n",
    "\n",
    "df = df[ df['assestment'] != 'Nieweryfikowalne' ]\n",
    "df = df[ df['assestment'] != 'Manipulacja' ]\n",
    "\n",
    "df['assestment'] = df['assestment'].replace({\n",
    "    'Fałsz' : 0,\n",
    "#     'Manipulacja' : 1,\n",
    "    'Prawda' : 1\n",
    "}).astype(int)\n",
    "\n",
    "df = df.copy()[['assestment', 'text_clean']][df.index.isin(df_topics.index)].reset_index(drop=True)"
   ]
  },
  {
   "cell_type": "code",
   "execution_count": 45,
   "metadata": {},
   "outputs": [],
   "source": [
    "with open('../datasets/ready2use/style_emb_pl.npy', 'rb') as f:\n",
    "    emb_style = np.load(f)"
   ]
  },
  {
   "cell_type": "code",
   "execution_count": 46,
   "metadata": {
    "execution": {
     "iopub.execute_input": "2022-11-27T15:08:43.639187Z",
     "iopub.status.busy": "2022-11-27T15:08:43.638194Z",
     "iopub.status.idle": "2022-11-27T15:08:47.592832Z",
     "shell.execute_reply": "2022-11-27T15:08:47.591208Z",
     "shell.execute_reply.started": "2022-11-27T15:08:43.639139Z"
    }
   },
   "outputs": [
    {
     "data": {
      "text/plain": [
       "(6541, 1024)"
      ]
     },
     "execution_count": 46,
     "metadata": {},
     "output_type": "execute_result"
    }
   ],
   "source": [
    "embeddings_table = pd.read_csv('../datasets/ready2use/embeddings_pl_herbert.csv', sep=\",\", header=None).values\n",
    "embeddings_table.shape"
   ]
  },
  {
   "cell_type": "code",
   "execution_count": 47,
   "metadata": {},
   "outputs": [
    {
     "data": {
      "text/plain": [
       "(65410, 1024)"
      ]
     },
     "execution_count": 47,
     "metadata": {},
     "output_type": "execute_result"
    }
   ],
   "source": [
    "with open('../datasets/ready2use/embeddings_pl_herbert_aug.npy', 'rb') as f:\n",
    "    embeddings_table_aug = np.load(f)\n",
    "\n",
    "embeddings_table_aug.shape"
   ]
  },
  {
   "cell_type": "code",
   "execution_count": 48,
   "metadata": {},
   "outputs": [],
   "source": [
    "# embeddings_table = np.concatenate([embeddings_table, emb_style],1)\n",
    "# embeddings_table.shape"
   ]
  },
  {
   "cell_type": "code",
   "execution_count": 49,
   "metadata": {},
   "outputs": [],
   "source": [
    "# X_pos = pd.read_csv('../datasets/ready2use/pos_pl_dataset.csv', sep=';')\n",
    "# del X_pos['assestment']\n",
    "# print( X_pos.shape )\n",
    "\n",
    "# corr_score = []\n",
    "# for c in X_pos.columns:\n",
    "#     min_v = X_pos[c].values[train_index].min()\n",
    "#     max_v = X_pos[c].values[train_index].max()\n",
    "\n",
    "#     if min_v < max_v:\n",
    "#         r = scipy.stats.pearsonr(X_pos[c].values[train_index], y_train)[0]\n",
    "#         if ~np.isnan(r):\n",
    "#             corr_score.append(r)\n",
    "#         else:\n",
    "#             corr_score.append(0)\n",
    "#     else:\n",
    "#         corr_score.append(0)\n",
    "        \n",
    "        \n",
    "# embeddings_table = X_pos.values[ :, np.argsort(corr_score)[-1024:] ]\n",
    "# embeddings_table.shape"
   ]
  },
  {
   "cell_type": "markdown",
   "metadata": {},
   "source": [
    "## Kfold"
   ]
  },
  {
   "cell_type": "code",
   "execution_count": 50,
   "metadata": {
    "execution": {
     "iopub.execute_input": "2022-11-27T15:08:47.594715Z",
     "iopub.status.busy": "2022-11-27T15:08:47.594342Z",
     "iopub.status.idle": "2022-11-27T15:08:47.632847Z",
     "shell.execute_reply": "2022-11-27T15:08:47.631805Z",
     "shell.execute_reply.started": "2022-11-27T15:08:47.594681Z"
    }
   },
   "outputs": [],
   "source": [
    "cv_fold = []\n",
    "cv_fold_i = []\n",
    "\n",
    "for i in df_topics['topic'].unique().reshape(10,-1):\n",
    "    train_cv = df_topics.index[ ~np.isin(df_topics[\"topic\"], [i, np.mod(i+1,10)]) ].values\n",
    "    val_cv = df_topics.index[ ~np.isin(df_topics[\"topic\"], np.mod(i+1,10)) ].values\n",
    "    test_cv = df_topics.index[ np.isin(df_topics[\"topic\"], i) ].values\n",
    "    \n",
    "    train_cv_i = df_topics.reset_index().index[ ~np.isin(df_topics[\"topic\"], [i, np.mod(i+1,10)]) ].values\n",
    "    val_cv_i = df_topics.reset_index().index[ ~np.isin(df_topics[\"topic\"], np.mod(i+1,10)) ].values\n",
    "    test_cv_i = df_topics.reset_index().index[ np.isin(df_topics[\"topic\"], i) ].values\n",
    "    \n",
    "    cv_fold.append( [train_cv, val_cv, test_cv])\n",
    "    cv_fold_i.append( [train_cv_i, val_cv_i, test_cv_i])"
   ]
  },
  {
   "cell_type": "code",
   "execution_count": 51,
   "metadata": {
    "execution": {
     "iopub.execute_input": "2022-11-27T15:08:47.635075Z",
     "iopub.status.busy": "2022-11-27T15:08:47.634315Z",
     "iopub.status.idle": "2022-11-27T15:08:47.687480Z",
     "shell.execute_reply": "2022-11-27T15:08:47.686035Z",
     "shell.execute_reply.started": "2022-11-27T15:08:47.635025Z"
    }
   },
   "outputs": [],
   "source": [
    "kf = KFold(n_splits=10, shuffle=True)\n",
    "kf.get_n_splits(df_topics)\n",
    "\n",
    "cv_Kfold = []\n",
    "cv_Kfold_i = []\n",
    "\n",
    "for train_index, test_index in kf.split(df_topics):\n",
    "    train_index, val_index = train_test_split(train_index, test_size=1/9, shuffle=True)\n",
    "    train_cv = df_topics.iloc[ train_index, : ].index.values\n",
    "    val_cv = df_topics.iloc[ val_index, : ].index.values\n",
    "    test_cv = df_topics.iloc[ test_index, : ].index.values\n",
    "\n",
    "    train_cv_i= df_topics.reset_index().iloc[ train_index, : ].index.values\n",
    "    val_cv_i = df_topics.reset_index().iloc[ val_index, : ].index.values\n",
    "    test_cv_i = df_topics.reset_index().iloc[ test_index, : ].index.values\n",
    "    \n",
    "    cv_Kfold.append( [train_cv, val_cv, test_cv])\n",
    "    cv_Kfold_i.append( [train_cv_i, val_cv_i, test_cv_i])"
   ]
  },
  {
   "cell_type": "markdown",
   "metadata": {},
   "source": [
    "## Train"
   ]
  },
  {
   "cell_type": "markdown",
   "metadata": {},
   "source": [
    "## TripletLoss"
   ]
  },
  {
   "cell_type": "code",
   "execution_count": 52,
   "metadata": {
    "execution": {
     "iopub.execute_input": "2022-11-27T15:08:47.690737Z",
     "iopub.status.busy": "2022-11-27T15:08:47.690348Z",
     "iopub.status.idle": "2022-11-27T15:08:47.699188Z",
     "shell.execute_reply": "2022-11-27T15:08:47.697851Z",
     "shell.execute_reply.started": "2022-11-27T15:08:47.690701Z"
    }
   },
   "outputs": [],
   "source": [
    "class TripletLoss(nn.Module):\n",
    "    def __init__(self, margin=1.0):\n",
    "        super(TripletLoss, self).__init__()\n",
    "        self.margin = margin\n",
    "        \n",
    "    def calc_euclidean(self, x1, x2):\n",
    "        return (x1 - x2).pow(2).sum(1)\n",
    "    \n",
    "    def forward(self, anchor: torch.Tensor, positive: torch.Tensor, negative: torch.Tensor) -> torch.Tensor:\n",
    "        distance_positive = self.calc_euclidean(anchor, positive)\n",
    "        distance_negative = self.calc_euclidean(anchor, negative)\n",
    "        losses = torch.relu(distance_positive - distance_negative + self.margin)\n",
    "\n",
    "        return losses.mean()"
   ]
  },
  {
   "cell_type": "code",
   "execution_count": 53,
   "metadata": {},
   "outputs": [],
   "source": [
    "class TripletLossVector():\n",
    "    def __init__(self, margin=1.0):\n",
    "        self.margin = margin\n",
    "        \n",
    "    def calc_euclidean(self, x1, x2):\n",
    "        return (x1 - x2).pow(2).sum(1)\n",
    "    \n",
    "    def get_loss(self, anchor: torch.Tensor, positive: torch.Tensor, negative: torch.Tensor) -> torch.Tensor:\n",
    "        distance_positive = self.calc_euclidean(anchor, positive)\n",
    "        distance_negative = self.calc_euclidean(anchor, negative)\n",
    "        losses = torch.relu(distance_positive - distance_negative + self.margin)\n",
    "        \n",
    "        return losses"
   ]
  },
  {
   "cell_type": "markdown",
   "metadata": {},
   "source": [
    "## Visualise test with UMAP"
   ]
  },
  {
   "cell_type": "code",
   "execution_count": 54,
   "metadata": {
    "execution": {
     "iopub.execute_input": "2022-11-27T15:23:25.203144Z",
     "iopub.status.busy": "2022-11-27T15:23:25.201974Z",
     "iopub.status.idle": "2022-11-27T15:23:25.286637Z",
     "shell.execute_reply": "2022-11-27T15:23:25.285233Z",
     "shell.execute_reply.started": "2022-11-27T15:23:25.203099Z"
    }
   },
   "outputs": [
    {
     "name": "stdout",
     "output_type": "stream",
     "text": [
      "[[   0 2764]\n",
      " [   1 2468]]\n"
     ]
    }
   ],
   "source": [
    "train_index, val_index, test_index = cv_Kfold_i[np.random.randint(10)]\n",
    "y_train = df['assestment'].values[train_index]\n",
    "y_val = df['assestment'].values[val_index]\n",
    "y_test = df['assestment'].values[test_index]\n",
    "\n",
    "unique, counts = np.unique(y_train, return_counts=True)\n",
    "print(np.asarray((unique, counts)).T)\n",
    "\n",
    "scaler = StandardScaler().fit(embeddings_table[train_index])"
   ]
  },
  {
   "cell_type": "code",
   "execution_count": 55,
   "metadata": {
    "execution": {
     "iopub.execute_input": "2022-11-27T15:23:25.983756Z",
     "iopub.status.busy": "2022-11-27T15:23:25.983353Z",
     "iopub.status.idle": "2022-11-27T15:23:50.249313Z",
     "shell.execute_reply": "2022-11-27T15:23:50.247873Z",
     "shell.execute_reply.started": "2022-11-27T15:23:25.983724Z"
    }
   },
   "outputs": [],
   "source": [
    "reducer = umap.UMAP()\n",
    "umap_train = reducer.fit_transform(scaler.transform(embeddings_table[train_index]), y=y_train)\n",
    "umap_val = reducer.transform(scaler.transform(embeddings_table[val_index]))\n",
    "umap_test = reducer.transform(scaler.transform(embeddings_table[test_index]))"
   ]
  },
  {
   "cell_type": "code",
   "execution_count": 56,
   "metadata": {
    "execution": {
     "iopub.execute_input": "2022-11-27T15:23:50.251910Z",
     "iopub.status.busy": "2022-11-27T15:23:50.251548Z",
     "iopub.status.idle": "2022-11-27T15:23:50.824941Z",
     "shell.execute_reply": "2022-11-27T15:23:50.823693Z",
     "shell.execute_reply.started": "2022-11-27T15:23:50.251879Z"
    }
   },
   "outputs": [
    {
     "data": {
      "image/png": "[encoded data removed]",
      "text/plain": [
       "<Figure size 2000x600 with 3 Axes>"
      ]
     },
     "metadata": {},
     "output_type": "display_data"
    }
   ],
   "source": [
    "plt.figure(figsize=(20, 6), facecolor=\"azure\")\n",
    "\n",
    "plt.subplot(1, 3, 1)\n",
    "for label in np.unique(y_train):\n",
    "    tmp = umap_train[y_train==label]\n",
    "    plt.scatter(tmp[:, 0], tmp[:, 1], label=label)\n",
    "    plt.title('Train')\n",
    "    \n",
    "plt.subplot(1, 3, 2)\n",
    "for label in np.unique(y_val):\n",
    "    tmp = umap_val[y_val==label]\n",
    "    plt.scatter(tmp[:, 0], tmp[:, 1], label=label)\n",
    "    plt.title('Val')\n",
    "\n",
    "plt.subplot(1, 3, 3)\n",
    "for label in np.unique(y_test):\n",
    "    tmp = umap_test[y_test==label]\n",
    "    plt.scatter(tmp[:, 0], tmp[:, 1], label=label)\n",
    "    plt.title('Test')\n",
    "\n",
    "plt.legend()\n",
    "plt.show()"
   ]
  },
  {
   "cell_type": "markdown",
   "metadata": {},
   "source": [
    "## Dataloader"
   ]
  },
  {
   "cell_type": "code",
   "execution_count": 57,
   "metadata": {
    "execution": {
     "iopub.execute_input": "2022-11-26T15:31:53.151297Z",
     "iopub.status.busy": "2022-11-26T15:31:53.150687Z",
     "iopub.status.idle": "2022-11-26T15:31:53.165067Z",
     "shell.execute_reply": "2022-11-26T15:31:53.164082Z",
     "shell.execute_reply.started": "2022-11-26T15:31:53.151191Z"
    }
   },
   "outputs": [],
   "source": [
    "class FakeNews(Dataset):\n",
    "    def __init__(self, emb_dt, y_dt, index_to_use, factor=1):\n",
    "        self.emb = emb_dt[index_to_use]\n",
    "        \n",
    "        self.labels = y_dt[index_to_use]\n",
    "        \n",
    "        self.index = np.repeat( [np.arange(index_to_use.shape[0])], factor, axis=0).reshape(-1)\n",
    "        \n",
    "        self.idx = np.arange(index_to_use.shape[0])\n",
    "        \n",
    "    def __len__(self):\n",
    "        return len(self.index)\n",
    "    \n",
    "    def __getitem__(self, idx): \n",
    "        item = self.index[idx]\n",
    "                \n",
    "        anchor_label = self.labels[item]\n",
    "\n",
    "        positive_list = self.idx[self.idx!=item][self.labels[self.idx!=item]==anchor_label]\n",
    "\n",
    "        positive_item = random.choice(positive_list)\n",
    "        \n",
    "        negative_list = self.idx[self.idx!=item][self.labels[self.idx!=item]!=anchor_label]\n",
    "        negative_item = random.choice(negative_list)\n",
    "        \n",
    "        anchor_claim = self.emb[item].astype(np.float32)\n",
    "        positive_claim = self.emb[positive_item].astype(np.float32)\n",
    "        negative_claim = self.emb[negative_item].astype(np.float32)\n",
    "\n",
    "        anchor_label = anchor_label.astype(np.float32)\n",
    "\n",
    "        return anchor_claim, positive_claim, negative_claim, anchor_label\n",
    "\n",
    "class FakeNewsLabel(Dataset):\n",
    "    def __init__(self, emb_dt, y_dt, index_to_use):\n",
    "        self.emb = emb_dt[index_to_use]\n",
    "        \n",
    "        self.labels = y_dt[index_to_use]\n",
    "        \n",
    "        self.index = np.arange(index_to_use.shape[0])\n",
    "        \n",
    "    def __len__(self):\n",
    "        return len(self.emb)\n",
    "    \n",
    "    def __getitem__(self, item):\n",
    "        anchor_label = self.labels[item]\n",
    "        \n",
    "        anchor_claim = self.emb[item].astype(np.float32)\n",
    "\n",
    "        anchor_label = anchor_label.astype(np.float32)\n",
    "\n",
    "        return anchor_claim, anchor_label"
   ]
  },
  {
   "cell_type": "code",
   "execution_count": 58,
   "metadata": {
    "execution": {
     "iopub.execute_input": "2022-11-26T15:31:53.167520Z",
     "iopub.status.busy": "2022-11-26T15:31:53.166464Z",
     "iopub.status.idle": "2022-11-26T15:31:53.174640Z",
     "shell.execute_reply": "2022-11-26T15:31:53.173820Z",
     "shell.execute_reply.started": "2022-11-26T15:31:53.167485Z"
    }
   },
   "outputs": [],
   "source": [
    "embedding_dims = 20\n",
    "batch_size = 512\n",
    "epochs = 200\n",
    "n_workers = 8"
   ]
  },
  {
   "cell_type": "code",
   "execution_count": 59,
   "metadata": {
    "execution": {
     "iopub.execute_input": "2022-11-26T15:31:53.176596Z",
     "iopub.status.busy": "2022-11-26T15:31:53.175822Z",
     "iopub.status.idle": "2022-11-26T15:31:53.262936Z",
     "shell.execute_reply": "2022-11-26T15:31:53.261933Z",
     "shell.execute_reply.started": "2022-11-26T15:31:53.176562Z"
    }
   },
   "outputs": [],
   "source": [
    "def prepare_loaders(emb_tab=embeddings_table, \n",
    "                    emb_tab_train=embeddings_table_aug,\n",
    "                    y_column=df['assestment'].values, \n",
    "                    batch_size=batch_size,\n",
    "                    index_llist = [train_index, val_index, test_index],\n",
    "                    sizes= [10,3],\n",
    "                    n_workers=n_workers\n",
    "                   ):\n",
    "    train_index, val_index, test_index = index_llist\n",
    "    \n",
    "    train_index_more = np.concatenate([train_index.reshape(-1, 1)*10+i for i in range(10)], 1).reshape(-1)\n",
    "    \n",
    "    train_ds = FakeNews(emb_tab_train, np.repeat(y_column, 10), train_index_more, 1)\n",
    "    train_loader = DataLoader(train_ds, batch_size=batch_size, shuffle=True, num_workers=n_workers)\n",
    "\n",
    "    train_ds_label = FakeNewsLabel(emb_tab, y_column, train_index)\n",
    "    train_loader_label = DataLoader(train_ds_label, batch_size=batch_size, shuffle=True, num_workers=n_workers)\n",
    "\n",
    "    val_ds = FakeNews(emb_tab, y_column, val_index, 1)\n",
    "    val_loader = DataLoader(val_ds, batch_size=batch_size, shuffle=True, num_workers=n_workers)\n",
    "\n",
    "    test_ds = FakeNewsLabel(emb_tab, y_column, test_index)\n",
    "    test_loader = DataLoader(test_ds, batch_size=batch_size, shuffle=False, num_workers=n_workers)\n",
    "    \n",
    "    return train_loader, train_loader_label, val_loader, test_loader"
   ]
  },
  {
   "cell_type": "code",
   "execution_count": 60,
   "metadata": {},
   "outputs": [],
   "source": [
    "train_loader, train_loader_label, val_loader, test_loader = prepare_loaders(\n",
    "    emb_tab=embeddings_table, \n",
    "    emb_tab_train=embeddings_table_aug,\n",
    "    y_column=df['assestment'].values, \n",
    "    batch_size=batch_size,\n",
    "    index_llist = [train_index, val_index, test_index],\n",
    "    sizes= [10,3],\n",
    "    n_workers=n_workers\n",
    ")"
   ]
  },
  {
   "cell_type": "markdown",
   "metadata": {},
   "source": [
    "## Define Net"
   ]
  },
  {
   "cell_type": "code",
   "execution_count": 61,
   "metadata": {
    "execution": {
     "iopub.execute_input": "2022-11-27T15:08:47.701490Z",
     "iopub.status.busy": "2022-11-27T15:08:47.701050Z",
     "iopub.status.idle": "2022-11-27T15:08:47.710932Z",
     "shell.execute_reply": "2022-11-27T15:08:47.709828Z",
     "shell.execute_reply.started": "2022-11-27T15:08:47.701455Z"
    }
   },
   "outputs": [],
   "source": [
    "class Network(nn.Module):\n",
    "    def __init__(self, emb_dim=128, in_shape=1024):\n",
    "        super(Network, self).__init__()\n",
    "        \n",
    "        self.in_shape = in_shape\n",
    "        \n",
    "        self.fc = nn.Sequential(\n",
    "#             nn.Linear(1024, 1024),\n",
    "#             nn.BatchNorm1d(1024),\n",
    "#             nn.ReLU(),\n",
    "#             nn.Dropout(0.5),\n",
    "            \n",
    "            nn.Linear(in_shape, 512),\n",
    "            nn.BatchNorm1d(512),\n",
    "            nn.ReLU(),\n",
    "            nn.Dropout(0.5),\n",
    "            \n",
    "#             nn.Linear(512, 512),\n",
    "#             nn.BatchNorm1d(512),\n",
    "#             nn.ReLU(),\n",
    "#             nn.Dropout(0.5),\n",
    "            \n",
    "            nn.Linear(512, 256),\n",
    "            nn.BatchNorm1d(256),\n",
    "            nn.ReLU(),\n",
    "            nn.Dropout(0.5),\n",
    "            nn.Linear(256, emb_dim)\n",
    "            \n",
    "#             nn.Linear(1024, emb_dim),\n",
    "#             nn.BatchNorm1d(emb_dim),\n",
    "#             nn.ReLU(),\n",
    "#             nn.Dropout(0.5),\n",
    "        )\n",
    "        \n",
    "    def forward(self, x):\n",
    "        x = x.view(-1, self.in_shape)\n",
    "        x = self.fc(x)\n",
    "        return x"
   ]
  },
  {
   "cell_type": "code",
   "execution_count": 62,
   "metadata": {
    "execution": {
     "iopub.execute_input": "2022-11-26T15:31:53.265004Z",
     "iopub.status.busy": "2022-11-26T15:31:53.264315Z",
     "iopub.status.idle": "2022-11-26T15:31:55.885828Z",
     "shell.execute_reply": "2022-11-26T15:31:55.884697Z",
     "shell.execute_reply.started": "2022-11-26T15:31:53.264967Z"
    }
   },
   "outputs": [],
   "source": [
    "model = Network(embedding_dims,embeddings_table.shape[1])\n",
    "# model = torch.nn.DataParallel(model)\n",
    "# model = torch.jit.script(model).to(device)\n",
    "model = model.to(device)\n",
    "\n",
    "optimizer = optim.Adam(model.parameters(), lr=1e-4, weight_decay=1e-5)\n",
    "# optimizer = optim.SGD(model.parameters(), lr=0.01, momentum=0.5)\n",
    "# criterion = torch.jit.script(TripletLoss())\n",
    "criterion = TripletLoss()"
   ]
  },
  {
   "cell_type": "markdown",
   "metadata": {},
   "source": [
    "## Training loop"
   ]
  },
  {
   "cell_type": "code",
   "execution_count": 63,
   "metadata": {},
   "outputs": [],
   "source": [
    "def train_loop(\n",
    "    model=model,\n",
    "    train_loader=train_loader,\n",
    "    val_loader=val_loader,\n",
    "    epochs=1000,\n",
    "    n_print=100,\n",
    "    if_norm=False,\n",
    "    optimizer=optim.Adam(model.parameters(), lr=1e-4, weight_decay=1e-5),\n",
    "    criterion=TripletLoss(),\n",
    "    n_model=0,\n",
    "    model_name='model_X.pt'\n",
    "):\n",
    "    val_prev = np.inf\n",
    "    \n",
    "    model.train()\n",
    "    for epoch in tqdm(range(epochs), desc=\"Epochs\"):\n",
    "        running_loss = []\n",
    "        for step, (anchor_claim, positive_claim, negative_claim, anchor_label) in enumerate(train_loader):\n",
    "            anchor_claim = anchor_claim.to(device) if if_norm else (anchor_claim / torch.norm(anchor_claim) ).to(device)\n",
    "            positive_claim = positive_claim.to(device) if if_norm else (positive_claim / torch.norm(positive_claim) ).to(device)\n",
    "            negative_claim = negative_claim.to(device) if if_norm else (negative_claim / torch.norm(negative_claim) ).to(device)\n",
    "            \n",
    "            optimizer.zero_grad()\n",
    "            anchor_out = model(anchor_claim)\n",
    "            positive_out = model(positive_claim)\n",
    "            negative_out = model(negative_claim)\n",
    "\n",
    "            loss = criterion(anchor_out, positive_out, negative_out)\n",
    "            loss.backward()\n",
    "            optimizer.step()\n",
    "\n",
    "            running_loss.append(loss.cpu().detach().numpy())\n",
    "        model.eval()\n",
    "        \n",
    "        val_loss = []\n",
    "        for anchor_claim, positive_claim, negative_claim, _ in val_loader:\n",
    "            anchor_claim = anchor_claim.to(device) if if_norm else (anchor_claim / torch.norm(anchor_claim) ).to(device)\n",
    "            positive_claim = positive_claim.to(device) if if_norm else (positive_claim / torch.norm(positive_claim) ).to(device)\n",
    "            negative_claim = negative_claim.to(device) if if_norm else (negative_claim / torch.norm(negative_claim) ).to(device)\n",
    "\n",
    "            anchor_out = model(anchor_claim)\n",
    "            positive_out = model(positive_claim)\n",
    "            negative_out = model(negative_claim)\n",
    "\n",
    "            loss = criterion(anchor_out, positive_out, negative_out)\n",
    "            val_loss.append(loss.cpu().detach().numpy())\n",
    "\n",
    "        model.train()\n",
    "        \n",
    "        if np.mean(val_loss) < val_prev:\n",
    "            val_prev = np.mean(val_loss)\n",
    "            torch.save(model, f'models/{model_name}')\n",
    "\n",
    "        if epoch%n_print == 0:\n",
    "            print(f\"{n_model} Epoch: {epoch+1}/{epochs} - Train Loss: {np.mean(running_loss):.4f};\",\n",
    "                  f\" Val Loss: {np.mean(val_loss):.4f} Best Val loss {val_prev:.4f}\")\n"
   ]
  },
  {
   "cell_type": "code",
   "execution_count": 64,
   "metadata": {},
   "outputs": [],
   "source": [
    "# train_loop(\n",
    "#     model=model,\n",
    "#     train_loader=train_loader,\n",
    "#     val_loader=val_loader,\n",
    "#     epochs=1000,\n",
    "#     n_print=100,\n",
    "#     if_norm=False,\n",
    "#     optimizer=optim.Adam(model.parameters(), lr=1e-4, weight_decay=1e-5),\n",
    "#     criterion=TripletLoss(),\n",
    "#     n_model=0,\n",
    "#     model_name='model_XXX.pt'\n",
    "# )"
   ]
  },
  {
   "cell_type": "code",
   "execution_count": 51,
   "metadata": {
    "execution": {
     "iopub.execute_input": "2022-11-26T15:31:55.916175Z",
     "iopub.status.busy": "2022-11-26T15:31:55.915536Z",
     "iopub.status.idle": "2022-11-26T15:53:15.543110Z",
     "shell.execute_reply": "2022-11-26T15:53:15.541293Z",
     "shell.execute_reply.started": "2022-11-26T15:31:55.916135Z"
    }
   },
   "outputs": [],
   "source": [
    "# # train_loss_out = []\n",
    "# # val_loss_out = []\n",
    "\n",
    "# val_prev = np.inf\n",
    "\n",
    "# if_norm = False\n",
    "# loss_vec = TripletLossVector()\n",
    "# k_top = None\n",
    "\n",
    "# model.train()\n",
    "# for epoch in tqdm(range(epochs), desc=\"Epochs\"):\n",
    "#     running_loss = []\n",
    "#     for step, (anchor_claim, positive_claim, negative_claim, anchor_label) in enumerate(train_loader):\n",
    "#         anchor_claim = anchor_claim.to(device) if if_norm else (anchor_claim / torch.norm(anchor_claim) ).to(device)\n",
    "#         positive_claim = positive_claim.to(device) if if_norm else (positive_claim / torch.norm(positive_claim) ).to(device)\n",
    "#         negative_claim = negative_claim.to(device) if if_norm else (negative_claim / torch.norm(negative_claim) ).to(device)\n",
    "        \n",
    "#         if k_top:\n",
    "#             losses_order = torch.argsort(\n",
    "#                 loss_vec.get_loss(anchor_claim, positive_claim, negative_claim),\n",
    "#                 descending=True\n",
    "#             )[-k_top:]\n",
    "\n",
    "#             anchor_claim = anchor_claim[losses_order]\n",
    "#             positive_claim = positive_claim[losses_order]\n",
    "#             negative_claim = negative_claim[losses_order]\n",
    "                \n",
    "#         optimizer.zero_grad()\n",
    "#         anchor_out = model(anchor_claim)\n",
    "#         positive_out = model(positive_claim)\n",
    "#         negative_out = model(negative_claim)\n",
    "        \n",
    "#         loss = criterion(anchor_out, positive_out, negative_out)\n",
    "#         loss.backward()\n",
    "#         optimizer.step()\n",
    "        \n",
    "#         running_loss.append(loss.cpu().detach().numpy())\n",
    "#     model.eval()\n",
    "    \n",
    "#     val_loss = []\n",
    "#     for anchor_claim, positive_claim, negative_claim, _ in val_loader:\n",
    "#         anchor_claim = anchor_claim.to(device) if if_norm else (anchor_claim / torch.norm(anchor_claim) ).to(device)\n",
    "#         positive_claim = positive_claim.to(device) if if_norm else (positive_claim / torch.norm(positive_claim) ).to(device)\n",
    "#         negative_claim = negative_claim.to(device) if if_norm else (negative_claim / torch.norm(negative_claim) ).to(device)\n",
    "\n",
    "#         anchor_out = model(anchor_claim)\n",
    "#         positive_out = model(positive_claim)\n",
    "#         negative_out = model(negative_claim)\n",
    "        \n",
    "#         loss = criterion(anchor_out, positive_out, negative_out)\n",
    "#         val_loss.append(loss.cpu().detach().numpy())\n",
    "    \n",
    "#     model.train()\n",
    "    \n",
    "# #     train_loss_out.append(np.mean(running_loss))\n",
    "# #     val_loss_out.append(np.mean(val_loss))\n",
    "    \n",
    "#     if np.mean(val_loss) < val_prev:\n",
    "# #         print(epoch, f'saved {np.mean(val_loss):.4f} < {val_prev:.4f}')\n",
    "#         val_prev = np.mean(val_loss)\n",
    "#         torch.save(model, 'models/model_03.pt')\n",
    "        \n",
    "#     if epoch%10 == 0:\n",
    "#         print(f\"Epoch: {epoch+1}/{epochs} - Train Loss: {np.mean(running_loss):.4f};\",\n",
    "#               f\" Val Loss: {np.mean(val_loss):.4f} Best Val loss {val_prev:.4f}\")\n",
    "        \n",
    "# #     if epoch == 20:\n",
    "# #         for param_group in optimizer.param_groups:\n",
    "# #             param_group['lr'] = 0.001\n",
    "# #     elif epoch == 50:\n",
    "# #         for param_group in optimizer.param_groups:\n",
    "# #             param_group['lr'] = 0.0001\n",
    "# #     elif epoch == 300:\n",
    "# #         for param_group in optimizer.param_groups:\n",
    "# #             param_group['lr'] = 0.00001"
   ]
  },
  {
   "cell_type": "code",
   "execution_count": 52,
   "metadata": {
    "execution": {
     "iopub.execute_input": "2022-11-26T15:53:22.761139Z",
     "iopub.status.busy": "2022-11-26T15:53:22.760751Z",
     "iopub.status.idle": "2022-11-26T15:53:22.779695Z",
     "shell.execute_reply": "2022-11-26T15:53:22.778795Z",
     "shell.execute_reply.started": "2022-11-26T15:53:22.761106Z"
    }
   },
   "outputs": [],
   "source": [
    "model = torch.load('models/model_XX.pt')"
   ]
  },
  {
   "cell_type": "code",
   "execution_count": 53,
   "metadata": {
    "execution": {
     "iopub.execute_input": "2022-11-26T15:53:23.103530Z",
     "iopub.status.busy": "2022-11-26T15:53:23.103194Z",
     "iopub.status.idle": "2022-11-26T15:53:23.338509Z",
     "shell.execute_reply": "2022-11-26T15:53:23.337437Z",
     "shell.execute_reply.started": "2022-11-26T15:53:23.103502Z"
    }
   },
   "outputs": [
    {
     "data": {
      "application/vnd.jupyter.widget-view+json": {
       "model_id": "d047e4dfa35742cca20d5cd03f977de8",
       "version_major": 2,
       "version_minor": 0
      },
      "text/plain": [
       "  0%|          | 0/11 [00:00<?, ?it/s]"
      ]
     },
     "metadata": {},
     "output_type": "display_data"
    },
    {
     "data": {
      "text/plain": [
       "(5232, 20)"
      ]
     },
     "execution_count": 53,
     "metadata": {},
     "output_type": "execute_result"
    }
   ],
   "source": [
    "train_results = []\n",
    "labels = []\n",
    "\n",
    "if_norm = False\n",
    "\n",
    "model.eval()\n",
    "with torch.no_grad():\n",
    "    for anchor_claim, label in tqdm(train_loader_label):\n",
    "        anchor_claim = anchor_claim.to(device) if if_norm else (anchor_claim / torch.norm(anchor_claim) ).to(device)\n",
    "        \n",
    "        train_results.append(model(anchor_claim).cpu().numpy())\n",
    "        labels.append(label)\n",
    "\n",
    "train_results = np.concatenate(train_results) \n",
    "labels = np.concatenate(labels)\n",
    "train_results.shape"
   ]
  },
  {
   "cell_type": "code",
   "execution_count": 54,
   "metadata": {
    "execution": {
     "iopub.execute_input": "2022-11-26T15:53:27.431015Z",
     "iopub.status.busy": "2022-11-26T15:53:27.430648Z",
     "iopub.status.idle": "2022-11-26T15:53:27.592049Z",
     "shell.execute_reply": "2022-11-26T15:53:27.590934Z",
     "shell.execute_reply.started": "2022-11-26T15:53:27.430984Z"
    }
   },
   "outputs": [
    {
     "data": {
      "application/vnd.jupyter.widget-view+json": {
       "model_id": "6c780daa0c9b468682394bf58f2f41f1",
       "version_major": 2,
       "version_minor": 0
      },
      "text/plain": [
       "  0%|          | 0/2 [00:00<?, ?it/s]"
      ]
     },
     "metadata": {},
     "output_type": "display_data"
    },
    {
     "data": {
      "text/plain": [
       "(654, 20)"
      ]
     },
     "execution_count": 54,
     "metadata": {},
     "output_type": "execute_result"
    }
   ],
   "source": [
    "test_results = []\n",
    "test_labels = []\n",
    "\n",
    "model.eval()\n",
    "with torch.no_grad():\n",
    "    for anchor_claim, label in tqdm(test_loader):\n",
    "        anchor_claim = anchor_claim.to(device) if if_norm else (anchor_claim / torch.norm(anchor_claim) ).to(device)\n",
    "        \n",
    "        test_results.append(model(anchor_claim).cpu().numpy())\n",
    "        test_labels.append(label)\n",
    "        \n",
    "test_results = np.concatenate(test_results)\n",
    "test_labels = np.concatenate(test_labels)\n",
    "test_results.shape"
   ]
  },
  {
   "cell_type": "code",
   "execution_count": 55,
   "metadata": {},
   "outputs": [],
   "source": [
    "reducer_nn = umap.UMAP()\n",
    "scaler_nn = StandardScaler().fit(train_results)\n",
    "\n",
    "umap_nn_train = train_results if True else reducer_nn.fit_transform(train_results)\n",
    "umap_nn_test = test_results if True else reducer_nn.transform(test_results)"
   ]
  },
  {
   "cell_type": "code",
   "execution_count": 56,
   "metadata": {},
   "outputs": [
    {
     "data": {
      "image/png": "[encoded data removed]",
      "text/plain": [
       "<Figure size 1400x600 with 2 Axes>"
      ]
     },
     "metadata": {},
     "output_type": "display_data"
    }
   ],
   "source": [
    "plt.figure(figsize=(14, 6), facecolor=\"azure\")\n",
    "\n",
    "plt.subplot(1, 2, 1)\n",
    "for label in np.unique(labels):\n",
    "    tmp = umap_nn_train[labels==label]\n",
    "    plt.scatter(tmp[:, 0], tmp[:, 1], label=label)\n",
    "    plt.title('Train')\n",
    "\n",
    "plt.subplot(1, 2, 2)\n",
    "for label in np.unique(test_labels):\n",
    "    tmp = umap_nn_test[test_labels==label]\n",
    "    plt.scatter(tmp[:, 0], tmp[:, 1], label=label)\n",
    "    plt.title('Test')\n",
    "\n",
    "plt.legend()\n",
    "plt.show()"
   ]
  },
  {
   "cell_type": "code",
   "execution_count": 57,
   "metadata": {
    "execution": {
     "iopub.execute_input": "2022-11-26T15:53:33.387287Z",
     "iopub.status.busy": "2022-11-26T15:53:33.386511Z",
     "iopub.status.idle": "2022-11-26T15:53:33.402885Z",
     "shell.execute_reply": "2022-11-26T15:53:33.401582Z",
     "shell.execute_reply.started": "2022-11-26T15:53:33.387245Z"
    }
   },
   "outputs": [],
   "source": [
    "clf_lr_1 = LogisticRegression(max_iter=5000, C=1, penalty='l2', solver='liblinear')"
   ]
  },
  {
   "cell_type": "code",
   "execution_count": 58,
   "metadata": {
    "execution": {
     "iopub.execute_input": "2022-11-26T15:53:34.027251Z",
     "iopub.status.busy": "2022-11-26T15:53:34.026899Z",
     "iopub.status.idle": "2022-11-26T15:53:34.163303Z",
     "shell.execute_reply": "2022-11-26T15:53:34.161895Z",
     "shell.execute_reply.started": "2022-11-26T15:53:34.027223Z"
    }
   },
   "outputs": [],
   "source": [
    "results = {\n",
    "    'test_accuracy' : [],\n",
    "    'test_precision' : [],\n",
    "    'test_recall' : [],\n",
    "    'test_f1' : []\n",
    "}\n",
    "\n",
    "\n",
    "y_train_t = labels\n",
    "X_train_t = train_results\n",
    "y_test_t = test_labels\n",
    "X_test_t = test_results\n",
    "\n",
    "clf_lr_1.fit(X_train_t, y_train_t)\n",
    "\n",
    "y_pred = clf_lr_1.predict(X_test_t)\n",
    "\n",
    "results['test_accuracy'].append( accuracy_score(y_test_t, y_pred) ) \n",
    "results['test_precision'].append( precision_score(y_test_t, y_pred) ) \n",
    "results['test_recall'].append( recall_score(y_test_t, y_pred) ) \n",
    "results['test_f1'].append( f1_score(y_test_t, y_pred) ) \n",
    "\n",
    "metrics = {\n",
    "    \"Accuracy\": np.array(results['test_accuracy']),\n",
    "#     \"Precision\": np.array(results['test_precision']).mean(),\n",
    "#     \"Recall\": np.array(results['test_recall']).mean(),\n",
    "    \"F1 Score\":  np.array(results['test_f1']),\n",
    "    }"
   ]
  },
  {
   "cell_type": "code",
   "execution_count": 59,
   "metadata": {
    "execution": {
     "iopub.execute_input": "2022-11-26T15:53:34.788113Z",
     "iopub.status.busy": "2022-11-26T15:53:34.787753Z",
     "iopub.status.idle": "2022-11-26T15:53:34.799721Z",
     "shell.execute_reply": "2022-11-26T15:53:34.798092Z",
     "shell.execute_reply.started": "2022-11-26T15:53:34.788083Z"
    }
   },
   "outputs": [
    {
     "data": {
      "text/plain": [
       "array([[237, 100],\n",
       "       [ 98, 219]])"
      ]
     },
     "execution_count": 59,
     "metadata": {},
     "output_type": "execute_result"
    }
   ],
   "source": [
    "confusion_matrix(y_test_t, y_pred)"
   ]
  },
  {
   "cell_type": "code",
   "execution_count": 60,
   "metadata": {
    "execution": {
     "iopub.execute_input": "2022-11-26T15:53:36.407665Z",
     "iopub.status.busy": "2022-11-26T15:53:36.406494Z",
     "iopub.status.idle": "2022-11-26T15:53:36.415616Z",
     "shell.execute_reply": "2022-11-26T15:53:36.414441Z",
     "shell.execute_reply.started": "2022-11-26T15:53:36.407618Z"
    }
   },
   "outputs": [
    {
     "data": {
      "text/plain": [
       "{'Accuracy': array([0.69724771]), 'F1 Score': array([0.68867925])}"
      ]
     },
     "execution_count": 60,
     "metadata": {},
     "output_type": "execute_result"
    }
   ],
   "source": [
    "metrics"
   ]
  },
  {
   "cell_type": "markdown",
   "metadata": {},
   "source": [
    "# Test using CV"
   ]
  },
  {
   "cell_type": "code",
   "execution_count": 65,
   "metadata": {
    "execution": {
     "iopub.execute_input": "2022-11-25T18:28:29.816271Z",
     "iopub.status.busy": "2022-11-25T18:28:29.815893Z"
    }
   },
   "outputs": [
    {
     "data": {
      "application/vnd.jupyter.widget-view+json": {
       "model_id": "5370ff3b9b674ef3b62ddf4a85be5544",
       "version_major": 2,
       "version_minor": 0
      },
      "text/plain": [
       "Epochs:   0%|          | 0/1000 [00:00<?, ?it/s]"
      ]
     },
     "metadata": {},
     "output_type": "display_data"
    },
    {
     "name": "stdout",
     "output_type": "stream",
     "text": [
      "0 Epoch: 1/1000 - Train Loss: 6.5345;  Val Loss: 1.2993 Best Val loss 1.2993\n",
      "0 Epoch: 101/1000 - Train Loss: 0.3581;  Val Loss: 0.5225 Best Val loss 0.5225\n",
      "0 Epoch: 201/1000 - Train Loss: 0.0521;  Val Loss: 0.4065 Best Val loss 0.4024\n",
      "0 Epoch: 301/1000 - Train Loss: 0.0261;  Val Loss: 0.4140 Best Val loss 0.3967\n",
      "0 Epoch: 401/1000 - Train Loss: 0.0191;  Val Loss: 0.4168 Best Val loss 0.3605\n",
      "0 Epoch: 501/1000 - Train Loss: 0.0148;  Val Loss: 0.4195 Best Val loss 0.3586\n",
      "0 Epoch: 601/1000 - Train Loss: 0.0131;  Val Loss: 0.4066 Best Val loss 0.3586\n",
      "0 Epoch: 701/1000 - Train Loss: 0.0121;  Val Loss: 0.4092 Best Val loss 0.3419\n",
      "0 Epoch: 801/1000 - Train Loss: 0.0106;  Val Loss: 0.3746 Best Val loss 0.3360\n",
      "0 Epoch: 901/1000 - Train Loss: 0.0094;  Val Loss: 0.4010 Best Val loss 0.3360\n"
     ]
    },
    {
     "data": {
      "application/vnd.jupyter.widget-view+json": {
       "model_id": "7bc72671cd114b989d7adf66e9aba2ec",
       "version_major": 2,
       "version_minor": 0
      },
      "text/plain": [
       "  0%|          | 0/11 [00:00<?, ?it/s]"
      ]
     },
     "metadata": {},
     "output_type": "display_data"
    },
    {
     "data": {
      "application/vnd.jupyter.widget-view+json": {
       "model_id": "ac262fa6507f49278eb73134744d9ad1",
       "version_major": 2,
       "version_minor": 0
      },
      "text/plain": [
       "  0%|          | 0/2 [00:00<?, ?it/s]"
      ]
     },
     "metadata": {},
     "output_type": "display_data"
    },
    {
     "data": {
      "application/vnd.jupyter.widget-view+json": {
       "model_id": "25c10b1f83d64d7cb1e114c68ab609f7",
       "version_major": 2,
       "version_minor": 0
      },
      "text/plain": [
       "Epochs:   0%|          | 0/1000 [00:00<?, ?it/s]"
      ]
     },
     "metadata": {},
     "output_type": "display_data"
    },
    {
     "name": "stdout",
     "output_type": "stream",
     "text": [
      "0 Epoch: 1/1000 - Train Loss: 6.2847;  Val Loss: 1.2688 Best Val loss 1.2688\n",
      "0 Epoch: 101/1000 - Train Loss: 0.3520;  Val Loss: 0.6069 Best Val loss 0.5931\n",
      "0 Epoch: 201/1000 - Train Loss: 0.0528;  Val Loss: 0.5675 Best Val loss 0.4764\n",
      "0 Epoch: 301/1000 - Train Loss: 0.0276;  Val Loss: 0.5088 Best Val loss 0.4647\n",
      "0 Epoch: 401/1000 - Train Loss: 0.0208;  Val Loss: 0.5275 Best Val loss 0.4647\n",
      "0 Epoch: 501/1000 - Train Loss: 0.0187;  Val Loss: 0.5472 Best Val loss 0.4647\n",
      "0 Epoch: 601/1000 - Train Loss: 0.0142;  Val Loss: 0.5377 Best Val loss 0.4647\n",
      "0 Epoch: 701/1000 - Train Loss: 0.0119;  Val Loss: 0.5587 Best Val loss 0.4647\n",
      "0 Epoch: 801/1000 - Train Loss: 0.0105;  Val Loss: 0.5708 Best Val loss 0.4647\n",
      "0 Epoch: 901/1000 - Train Loss: 0.0107;  Val Loss: 0.5488 Best Val loss 0.4647\n"
     ]
    },
    {
     "data": {
      "application/vnd.jupyter.widget-view+json": {
       "model_id": "49febb4ee31948878aef1382cbb45fdb",
       "version_major": 2,
       "version_minor": 0
      },
      "text/plain": [
       "  0%|          | 0/11 [00:00<?, ?it/s]"
      ]
     },
     "metadata": {},
     "output_type": "display_data"
    },
    {
     "data": {
      "application/vnd.jupyter.widget-view+json": {
       "model_id": "197ac8b905294eb29f7d36efd03a363d",
       "version_major": 2,
       "version_minor": 0
      },
      "text/plain": [
       "  0%|          | 0/2 [00:00<?, ?it/s]"
      ]
     },
     "metadata": {},
     "output_type": "display_data"
    },
    {
     "data": {
      "application/vnd.jupyter.widget-view+json": {
       "model_id": "c9fef0ced19749508faf9ad3eb6b033a",
       "version_major": 2,
       "version_minor": 0
      },
      "text/plain": [
       "Epochs:   0%|          | 0/1000 [00:00<?, ?it/s]"
      ]
     },
     "metadata": {},
     "output_type": "display_data"
    },
    {
     "name": "stdout",
     "output_type": "stream",
     "text": [
      "0 Epoch: 1/1000 - Train Loss: 6.5368;  Val Loss: 1.2520 Best Val loss 1.2520\n",
      "0 Epoch: 101/1000 - Train Loss: 0.3970;  Val Loss: 0.9334 Best Val loss 0.9150\n",
      "0 Epoch: 201/1000 - Train Loss: 0.0589;  Val Loss: 0.7416 Best Val loss 0.7345\n",
      "0 Epoch: 301/1000 - Train Loss: 0.0330;  Val Loss: 0.7322 Best Val loss 0.7100\n",
      "0 Epoch: 401/1000 - Train Loss: 0.0248;  Val Loss: 0.7015 Best Val loss 0.6484\n",
      "0 Epoch: 501/1000 - Train Loss: 0.0199;  Val Loss: 0.7099 Best Val loss 0.6484\n"
     ]
    },
    {
     "ename": "KeyboardInterrupt",
     "evalue": "",
     "output_type": "error",
     "traceback": [
      "\u001b[0;31m---------------------------------------------------------------------------\u001b[0m",
      "\u001b[0;31mKeyboardInterrupt\u001b[0m                         Traceback (most recent call last)",
      "Cell \u001b[0;32mIn [65], line 29\u001b[0m\n\u001b[1;32m     25\u001b[0m model \u001b[38;5;241m=\u001b[39m model\u001b[38;5;241m.\u001b[39mto(device)\n\u001b[1;32m     27\u001b[0m if_norm \u001b[38;5;241m=\u001b[39m \u001b[38;5;28;01mFalse\u001b[39;00m \n\u001b[0;32m---> 29\u001b[0m \u001b[43mtrain_loop\u001b[49m\u001b[43m(\u001b[49m\n\u001b[1;32m     30\u001b[0m \u001b[43m    \u001b[49m\u001b[43mmodel\u001b[49m\u001b[38;5;241;43m=\u001b[39;49m\u001b[43mmodel\u001b[49m\u001b[43m,\u001b[49m\n\u001b[1;32m     31\u001b[0m \u001b[43m    \u001b[49m\u001b[43mtrain_loader\u001b[49m\u001b[38;5;241;43m=\u001b[39;49m\u001b[43mtrain_loader\u001b[49m\u001b[43m,\u001b[49m\n\u001b[1;32m     32\u001b[0m \u001b[43m    \u001b[49m\u001b[43mval_loader\u001b[49m\u001b[38;5;241;43m=\u001b[39;49m\u001b[43mval_loader\u001b[49m\u001b[43m,\u001b[49m\n\u001b[1;32m     33\u001b[0m \u001b[43m    \u001b[49m\u001b[43mepochs\u001b[49m\u001b[38;5;241;43m=\u001b[39;49m\u001b[38;5;241;43m1000\u001b[39;49m\u001b[43m,\u001b[49m\n\u001b[1;32m     34\u001b[0m \u001b[43m    \u001b[49m\u001b[43mn_print\u001b[49m\u001b[38;5;241;43m=\u001b[39;49m\u001b[38;5;241;43m100\u001b[39;49m\u001b[43m,\u001b[49m\n\u001b[1;32m     35\u001b[0m \u001b[43m    \u001b[49m\u001b[43mif_norm\u001b[49m\u001b[38;5;241;43m=\u001b[39;49m\u001b[43mif_norm\u001b[49m\u001b[43m,\u001b[49m\n\u001b[1;32m     36\u001b[0m \u001b[43m    \u001b[49m\u001b[43moptimizer\u001b[49m\u001b[38;5;241;43m=\u001b[39;49m\u001b[43moptim\u001b[49m\u001b[38;5;241;43m.\u001b[39;49m\u001b[43mAdam\u001b[49m\u001b[43m(\u001b[49m\u001b[43mmodel\u001b[49m\u001b[38;5;241;43m.\u001b[39;49m\u001b[43mparameters\u001b[49m\u001b[43m(\u001b[49m\u001b[43m)\u001b[49m\u001b[43m,\u001b[49m\u001b[43m \u001b[49m\u001b[43mlr\u001b[49m\u001b[38;5;241;43m=\u001b[39;49m\u001b[38;5;241;43m1e-4\u001b[39;49m\u001b[43m,\u001b[49m\u001b[43m \u001b[49m\u001b[43mweight_decay\u001b[49m\u001b[38;5;241;43m=\u001b[39;49m\u001b[38;5;241;43m1e-5\u001b[39;49m\u001b[43m)\u001b[49m\u001b[43m,\u001b[49m\n\u001b[1;32m     37\u001b[0m \u001b[43m    \u001b[49m\u001b[43mcriterion\u001b[49m\u001b[38;5;241;43m=\u001b[39;49m\u001b[43mTripletLoss\u001b[49m\u001b[43m(\u001b[49m\u001b[43m)\u001b[49m\u001b[43m,\u001b[49m\n\u001b[1;32m     38\u001b[0m \u001b[43m    \u001b[49m\u001b[43mn_model\u001b[49m\u001b[38;5;241;43m=\u001b[39;49m\u001b[38;5;241;43m0\u001b[39;49m\u001b[43m,\u001b[49m\n\u001b[1;32m     39\u001b[0m \u001b[43m    \u001b[49m\u001b[43mmodel_name\u001b[49m\u001b[38;5;241;43m=\u001b[39;49m\u001b[38;5;124;43m'\u001b[39;49m\u001b[38;5;124;43mmodel_X.pt\u001b[39;49m\u001b[38;5;124;43m'\u001b[39;49m\n\u001b[1;32m     40\u001b[0m \u001b[43m\u001b[49m\u001b[43m)\u001b[49m\n\u001b[1;32m     42\u001b[0m model \u001b[38;5;241m=\u001b[39m torch\u001b[38;5;241m.\u001b[39mload(\u001b[38;5;124m'\u001b[39m\u001b[38;5;124mmodels/model_X.pt\u001b[39m\u001b[38;5;124m'\u001b[39m)\n\u001b[1;32m     45\u001b[0m train_results \u001b[38;5;241m=\u001b[39m []\n",
      "Cell \u001b[0;32mIn [63], line 24\u001b[0m, in \u001b[0;36mtrain_loop\u001b[0;34m(model, train_loader, val_loader, epochs, n_print, if_norm, optimizer, criterion, n_model, model_name)\u001b[0m\n\u001b[1;32m     21\u001b[0m negative_claim \u001b[38;5;241m=\u001b[39m negative_claim\u001b[38;5;241m.\u001b[39mto(device) \u001b[38;5;28;01mif\u001b[39;00m if_norm \u001b[38;5;28;01melse\u001b[39;00m (negative_claim \u001b[38;5;241m/\u001b[39m torch\u001b[38;5;241m.\u001b[39mnorm(negative_claim) )\u001b[38;5;241m.\u001b[39mto(device)\n\u001b[1;32m     23\u001b[0m optimizer\u001b[38;5;241m.\u001b[39mzero_grad()\n\u001b[0;32m---> 24\u001b[0m anchor_out \u001b[38;5;241m=\u001b[39m \u001b[43mmodel\u001b[49m\u001b[43m(\u001b[49m\u001b[43manchor_claim\u001b[49m\u001b[43m)\u001b[49m\n\u001b[1;32m     25\u001b[0m positive_out \u001b[38;5;241m=\u001b[39m model(positive_claim)\n\u001b[1;32m     26\u001b[0m negative_out \u001b[38;5;241m=\u001b[39m model(negative_claim)\n",
      "File \u001b[0;32m~/anaconda3/envs/nlp/lib/python3.9/site-packages/torch/nn/modules/module.py:1130\u001b[0m, in \u001b[0;36mModule._call_impl\u001b[0;34m(self, *input, **kwargs)\u001b[0m\n\u001b[1;32m   1126\u001b[0m \u001b[38;5;66;03m# If we don't have any hooks, we want to skip the rest of the logic in\u001b[39;00m\n\u001b[1;32m   1127\u001b[0m \u001b[38;5;66;03m# this function, and just call forward.\u001b[39;00m\n\u001b[1;32m   1128\u001b[0m \u001b[38;5;28;01mif\u001b[39;00m \u001b[38;5;129;01mnot\u001b[39;00m (\u001b[38;5;28mself\u001b[39m\u001b[38;5;241m.\u001b[39m_backward_hooks \u001b[38;5;129;01mor\u001b[39;00m \u001b[38;5;28mself\u001b[39m\u001b[38;5;241m.\u001b[39m_forward_hooks \u001b[38;5;129;01mor\u001b[39;00m \u001b[38;5;28mself\u001b[39m\u001b[38;5;241m.\u001b[39m_forward_pre_hooks \u001b[38;5;129;01mor\u001b[39;00m _global_backward_hooks\n\u001b[1;32m   1129\u001b[0m         \u001b[38;5;129;01mor\u001b[39;00m _global_forward_hooks \u001b[38;5;129;01mor\u001b[39;00m _global_forward_pre_hooks):\n\u001b[0;32m-> 1130\u001b[0m     \u001b[38;5;28;01mreturn\u001b[39;00m \u001b[43mforward_call\u001b[49m\u001b[43m(\u001b[49m\u001b[38;5;241;43m*\u001b[39;49m\u001b[38;5;28;43minput\u001b[39;49m\u001b[43m,\u001b[49m\u001b[43m \u001b[49m\u001b[38;5;241;43m*\u001b[39;49m\u001b[38;5;241;43m*\u001b[39;49m\u001b[43mkwargs\u001b[49m\u001b[43m)\u001b[49m\n\u001b[1;32m   1131\u001b[0m \u001b[38;5;66;03m# Do not call functions when jit is used\u001b[39;00m\n\u001b[1;32m   1132\u001b[0m full_backward_hooks, non_full_backward_hooks \u001b[38;5;241m=\u001b[39m [], []\n",
      "Cell \u001b[0;32mIn [61], line 37\u001b[0m, in \u001b[0;36mNetwork.forward\u001b[0;34m(self, x)\u001b[0m\n\u001b[1;32m     35\u001b[0m \u001b[38;5;28;01mdef\u001b[39;00m \u001b[38;5;21mforward\u001b[39m(\u001b[38;5;28mself\u001b[39m, x):\n\u001b[1;32m     36\u001b[0m     x \u001b[38;5;241m=\u001b[39m x\u001b[38;5;241m.\u001b[39mview(\u001b[38;5;241m-\u001b[39m\u001b[38;5;241m1\u001b[39m, \u001b[38;5;28mself\u001b[39m\u001b[38;5;241m.\u001b[39min_shape)\n\u001b[0;32m---> 37\u001b[0m     x \u001b[38;5;241m=\u001b[39m \u001b[38;5;28;43mself\u001b[39;49m\u001b[38;5;241;43m.\u001b[39;49m\u001b[43mfc\u001b[49m\u001b[43m(\u001b[49m\u001b[43mx\u001b[49m\u001b[43m)\u001b[49m\n\u001b[1;32m     38\u001b[0m     \u001b[38;5;28;01mreturn\u001b[39;00m x\n",
      "File \u001b[0;32m~/anaconda3/envs/nlp/lib/python3.9/site-packages/torch/nn/modules/module.py:1130\u001b[0m, in \u001b[0;36mModule._call_impl\u001b[0;34m(self, *input, **kwargs)\u001b[0m\n\u001b[1;32m   1126\u001b[0m \u001b[38;5;66;03m# If we don't have any hooks, we want to skip the rest of the logic in\u001b[39;00m\n\u001b[1;32m   1127\u001b[0m \u001b[38;5;66;03m# this function, and just call forward.\u001b[39;00m\n\u001b[1;32m   1128\u001b[0m \u001b[38;5;28;01mif\u001b[39;00m \u001b[38;5;129;01mnot\u001b[39;00m (\u001b[38;5;28mself\u001b[39m\u001b[38;5;241m.\u001b[39m_backward_hooks \u001b[38;5;129;01mor\u001b[39;00m \u001b[38;5;28mself\u001b[39m\u001b[38;5;241m.\u001b[39m_forward_hooks \u001b[38;5;129;01mor\u001b[39;00m \u001b[38;5;28mself\u001b[39m\u001b[38;5;241m.\u001b[39m_forward_pre_hooks \u001b[38;5;129;01mor\u001b[39;00m _global_backward_hooks\n\u001b[1;32m   1129\u001b[0m         \u001b[38;5;129;01mor\u001b[39;00m _global_forward_hooks \u001b[38;5;129;01mor\u001b[39;00m _global_forward_pre_hooks):\n\u001b[0;32m-> 1130\u001b[0m     \u001b[38;5;28;01mreturn\u001b[39;00m \u001b[43mforward_call\u001b[49m\u001b[43m(\u001b[49m\u001b[38;5;241;43m*\u001b[39;49m\u001b[38;5;28;43minput\u001b[39;49m\u001b[43m,\u001b[49m\u001b[43m \u001b[49m\u001b[38;5;241;43m*\u001b[39;49m\u001b[38;5;241;43m*\u001b[39;49m\u001b[43mkwargs\u001b[49m\u001b[43m)\u001b[49m\n\u001b[1;32m   1131\u001b[0m \u001b[38;5;66;03m# Do not call functions when jit is used\u001b[39;00m\n\u001b[1;32m   1132\u001b[0m full_backward_hooks, non_full_backward_hooks \u001b[38;5;241m=\u001b[39m [], []\n",
      "File \u001b[0;32m~/anaconda3/envs/nlp/lib/python3.9/site-packages/torch/nn/modules/container.py:139\u001b[0m, in \u001b[0;36mSequential.forward\u001b[0;34m(self, input)\u001b[0m\n\u001b[1;32m    137\u001b[0m \u001b[38;5;28;01mdef\u001b[39;00m \u001b[38;5;21mforward\u001b[39m(\u001b[38;5;28mself\u001b[39m, \u001b[38;5;28minput\u001b[39m):\n\u001b[1;32m    138\u001b[0m     \u001b[38;5;28;01mfor\u001b[39;00m module \u001b[38;5;129;01min\u001b[39;00m \u001b[38;5;28mself\u001b[39m:\n\u001b[0;32m--> 139\u001b[0m         \u001b[38;5;28minput\u001b[39m \u001b[38;5;241m=\u001b[39m \u001b[43mmodule\u001b[49m\u001b[43m(\u001b[49m\u001b[38;5;28;43minput\u001b[39;49m\u001b[43m)\u001b[49m\n\u001b[1;32m    140\u001b[0m     \u001b[38;5;28;01mreturn\u001b[39;00m \u001b[38;5;28minput\u001b[39m\n",
      "File \u001b[0;32m~/anaconda3/envs/nlp/lib/python3.9/site-packages/torch/nn/modules/module.py:1125\u001b[0m, in \u001b[0;36mModule._call_impl\u001b[0;34m(self, *input, **kwargs)\u001b[0m\n\u001b[1;32m   1124\u001b[0m \u001b[38;5;28;01mdef\u001b[39;00m \u001b[38;5;21m_call_impl\u001b[39m(\u001b[38;5;28mself\u001b[39m, \u001b[38;5;241m*\u001b[39m\u001b[38;5;28minput\u001b[39m, \u001b[38;5;241m*\u001b[39m\u001b[38;5;241m*\u001b[39mkwargs):\n\u001b[0;32m-> 1125\u001b[0m     forward_call \u001b[38;5;241m=\u001b[39m (\u001b[38;5;28mself\u001b[39m\u001b[38;5;241m.\u001b[39m_slow_forward \u001b[38;5;28;01mif\u001b[39;00m torch\u001b[38;5;241m.\u001b[39m_C\u001b[38;5;241m.\u001b[39m_get_tracing_state() \u001b[38;5;28;01melse\u001b[39;00m \u001b[38;5;28;43mself\u001b[39;49m\u001b[38;5;241;43m.\u001b[39;49m\u001b[43mforward\u001b[49m)\n\u001b[1;32m   1126\u001b[0m     \u001b[38;5;66;03m# If we don't have any hooks, we want to skip the rest of the logic in\u001b[39;00m\n\u001b[1;32m   1127\u001b[0m     \u001b[38;5;66;03m# this function, and just call forward.\u001b[39;00m\n\u001b[1;32m   1128\u001b[0m     \u001b[38;5;28;01mif\u001b[39;00m \u001b[38;5;129;01mnot\u001b[39;00m (\u001b[38;5;28mself\u001b[39m\u001b[38;5;241m.\u001b[39m_backward_hooks \u001b[38;5;129;01mor\u001b[39;00m \u001b[38;5;28mself\u001b[39m\u001b[38;5;241m.\u001b[39m_forward_hooks \u001b[38;5;129;01mor\u001b[39;00m \u001b[38;5;28mself\u001b[39m\u001b[38;5;241m.\u001b[39m_forward_pre_hooks \u001b[38;5;129;01mor\u001b[39;00m _global_backward_hooks\n\u001b[1;32m   1129\u001b[0m             \u001b[38;5;129;01mor\u001b[39;00m _global_forward_hooks \u001b[38;5;129;01mor\u001b[39;00m _global_forward_pre_hooks):\n",
      "\u001b[0;31mKeyboardInterrupt\u001b[0m: "
     ]
    }
   ],
   "source": [
    "results = {\n",
    "    'test_accuracy' : [],\n",
    "    'test_precision' : [],\n",
    "    'test_recall' : [],\n",
    "    'test_f1' : []\n",
    "}\n",
    "\n",
    "embedding_dims = 100\n",
    "batch_size = 512\n",
    "epochs = 1000\n",
    "n_workers = 8\n",
    "\n",
    "for j, (train_index, val_index, test_index) in enumerate(cv_fold_i):\n",
    "    train_loader, train_loader_label, val_loader, test_loader = prepare_loaders(\n",
    "        emb_tab=embeddings_table, \n",
    "        emb_tab_train=embeddings_table_aug,\n",
    "        y_column=df['assestment'].values, \n",
    "        batch_size=batch_size,\n",
    "        index_llist = [train_index, val_index, test_index],\n",
    "        sizes= [10,3],\n",
    "        n_workers=n_workers,\n",
    "        n_model=j\n",
    "    )\n",
    "    \n",
    "    model = Network(embedding_dims)\n",
    "    model = model.to(device)\n",
    "    \n",
    "    if_norm = False \n",
    "    \n",
    "    train_loop(\n",
    "        model=model,\n",
    "        train_loader=train_loader,\n",
    "        val_loader=val_loader,\n",
    "        epochs=1000,\n",
    "        n_print=100,\n",
    "        if_norm=if_norm,\n",
    "        optimizer=optim.Adam(model.parameters(), lr=1e-4, weight_decay=1e-5),\n",
    "        criterion=TripletLoss(),\n",
    "        n_model=0,\n",
    "        model_name='model_X.pt'\n",
    "    )\n",
    "    \n",
    "    model = torch.load('models/model_X.pt')\n",
    "    \n",
    "    \n",
    "    train_results = []\n",
    "    labels = []\n",
    "\n",
    "    model.eval()\n",
    "    with torch.no_grad():\n",
    "        for anchor_claim, label in tqdm(train_loader_label):\n",
    "            anchor_claim = anchor_claim.to(device) if if_norm else (anchor_claim / torch.norm(anchor_claim) ).to(device)\n",
    "\n",
    "            train_results.append(model(anchor_claim).cpu().numpy())\n",
    "            labels.append(label)\n",
    "\n",
    "    train_results = np.concatenate(train_results) \n",
    "    labels = np.concatenate(labels)\n",
    "    train_results.shape\n",
    "\n",
    "    \n",
    "    test_results = []\n",
    "    test_labels = []\n",
    "\n",
    "    model.eval()\n",
    "    with torch.no_grad():\n",
    "        for anchor_claim, label in tqdm(test_loader):\n",
    "            anchor_claim = anchor_claim.to(device) if if_norm else (anchor_claim / torch.norm(anchor_claim) ).to(device)\n",
    "\n",
    "            test_results.append(model(anchor_claim).cpu().numpy())\n",
    "            test_labels.append(label)\n",
    "\n",
    "    test_results = np.concatenate(test_results)\n",
    "    test_labels = np.concatenate(test_labels)\n",
    "    test_results.shape\n",
    "\n",
    "    \n",
    "    clf_lr_1 = LogisticRegression(max_iter=5000, C=1, penalty='l2', solver='liblinear')\n",
    "\n",
    "    y_train_t = labels\n",
    "    X_train_t = train_results\n",
    "    y_test_t = test_labels\n",
    "    X_test_t = test_results\n",
    "\n",
    "    clf_lr_1.fit(X_train_t, y_train_t)\n",
    "\n",
    "    y_pred = clf_lr_1.predict(X_test_t)\n",
    "\n",
    "    results['test_accuracy'].append( accuracy_score(y_test_t, y_pred) ) \n",
    "    results['test_precision'].append( precision_score(y_test_t, y_pred) ) \n",
    "    results['test_recall'].append( recall_score(y_test_t, y_pred) ) \n",
    "    results['test_f1'].append( f1_score(y_test_t, y_pred) ) \n",
    "\n",
    "\n",
    "out = {\n",
    "    \"Accuracy\": np.array(results['test_accuracy']),\n",
    "#     \"Precision\": np.array(results['test_precision']).mean(),\n",
    "#     \"Recall\": np.array(results['test_recall']).mean(),\n",
    "    \"F1 Score\":  np.array(results['test_f1']),\n",
    "    }\n",
    "\n",
    "print(\n",
    "    'triplet loss lr C1',\n",
    "    f'Accuracy {out[\"Accuracy\"].mean():.3f}+-{out[\"Accuracy\"].std():.3f}',\n",
    "    f'F1 Score {out[\"F1 Score\"].mean():.3f}+-{out[\"F1 Score\"].std():.3f}',\n",
    "    f' {out[\"Accuracy\"].mean():.3f}+-{out[\"Accuracy\"].std():.3f} | {out[\"F1 Score\"].mean():.3f}+-{out[\"F1 Score\"].std():.3f}'\n",
    ")    "
   ]
  },
  {
   "cell_type": "markdown",
   "metadata": {},
   "source": [
    "### Get use best models"
   ]
  },
  {
   "cell_type": "code",
   "execution_count": 51,
   "metadata": {},
   "outputs": [
    {
     "data": {
      "application/vnd.jupyter.widget-view+json": {
       "model_id": "644cac8e794f4cb69b79d83ba8650efe",
       "version_major": 2,
       "version_minor": 0
      },
      "text/plain": [
       "Epochs:   0%|          | 0/1000 [00:00<?, ?it/s]"
      ]
     },
     "metadata": {},
     "output_type": "display_data"
    },
    {
     "name": "stdout",
     "output_type": "stream",
     "text": [
      "0 Epoch: 1/1000 - Train Loss: 5.6703;  Val Loss: 1.2954 Best Val loss 1.2954\n",
      "0 Epoch: 101/1000 - Train Loss: 0.0166;  Val Loss: 0.9712 Best Val loss 0.9415\n",
      "0 Epoch: 201/1000 - Train Loss: 0.0080;  Val Loss: 0.9636 Best Val loss 0.9397\n",
      "0 Epoch: 301/1000 - Train Loss: 0.0058;  Val Loss: 0.9690 Best Val loss 0.9238\n",
      "0 Epoch: 401/1000 - Train Loss: 0.0056;  Val Loss: 0.9351 Best Val loss 0.9118\n",
      "0 Epoch: 501/1000 - Train Loss: 0.0040;  Val Loss: 0.9093 Best Val loss 0.9019\n",
      "0 Epoch: 601/1000 - Train Loss: 0.0041;  Val Loss: 0.9109 Best Val loss 0.8879\n",
      "0 Epoch: 701/1000 - Train Loss: 0.0022;  Val Loss: 1.0005 Best Val loss 0.8863\n",
      "0 Epoch: 801/1000 - Train Loss: 0.0030;  Val Loss: 1.0027 Best Val loss 0.8863\n",
      "0 Epoch: 901/1000 - Train Loss: 0.0026;  Val Loss: 0.9688 Best Val loss 0.8863\n"
     ]
    },
    {
     "data": {
      "application/vnd.jupyter.widget-view+json": {
       "model_id": "c8b65bd1879942a1b2fd5fb60f725ae6",
       "version_major": 2,
       "version_minor": 0
      },
      "text/plain": [
       "  0%|          | 0/11 [00:00<?, ?it/s]"
      ]
     },
     "metadata": {},
     "output_type": "display_data"
    },
    {
     "data": {
      "application/vnd.jupyter.widget-view+json": {
       "model_id": "403f7d32e6cc49a5a85b5b454265d9cf",
       "version_major": 2,
       "version_minor": 0
      },
      "text/plain": [
       "  0%|          | 0/2 [00:00<?, ?it/s]"
      ]
     },
     "metadata": {},
     "output_type": "display_data"
    },
    {
     "data": {
      "application/vnd.jupyter.widget-view+json": {
       "model_id": "013eaf0b14394ed7b6db8e94da3f13c1",
       "version_major": 2,
       "version_minor": 0
      },
      "text/plain": [
       "Epochs:   0%|          | 0/1000 [00:00<?, ?it/s]"
      ]
     },
     "metadata": {},
     "output_type": "display_data"
    },
    {
     "name": "stdout",
     "output_type": "stream",
     "text": [
      "0 Epoch: 1/1000 - Train Loss: 5.6029;  Val Loss: 1.4145 Best Val loss 1.4145\n",
      "0 Epoch: 101/1000 - Train Loss: 0.0243;  Val Loss: 0.9719 Best Val loss 0.9512\n",
      "0 Epoch: 201/1000 - Train Loss: 0.0066;  Val Loss: 0.9553 Best Val loss 0.9315\n",
      "0 Epoch: 301/1000 - Train Loss: 0.0067;  Val Loss: 0.9424 Best Val loss 0.9078\n",
      "0 Epoch: 401/1000 - Train Loss: 0.0053;  Val Loss: 0.8994 Best Val loss 0.8994\n",
      "0 Epoch: 501/1000 - Train Loss: 0.0036;  Val Loss: 0.9018 Best Val loss 0.8771\n",
      "0 Epoch: 601/1000 - Train Loss: 0.0041;  Val Loss: 0.9445 Best Val loss 0.8648\n",
      "0 Epoch: 701/1000 - Train Loss: 0.0045;  Val Loss: 0.9446 Best Val loss 0.8648\n",
      "0 Epoch: 801/1000 - Train Loss: 0.0034;  Val Loss: 0.9362 Best Val loss 0.8648\n",
      "0 Epoch: 901/1000 - Train Loss: 0.0041;  Val Loss: 0.9752 Best Val loss 0.8648\n"
     ]
    },
    {
     "data": {
      "application/vnd.jupyter.widget-view+json": {
       "model_id": "a58d85f403fb4566a066a5b041673b59",
       "version_major": 2,
       "version_minor": 0
      },
      "text/plain": [
       "  0%|          | 0/11 [00:00<?, ?it/s]"
      ]
     },
     "metadata": {},
     "output_type": "display_data"
    },
    {
     "data": {
      "application/vnd.jupyter.widget-view+json": {
       "model_id": "7bfbef6186a64a6bb051706cf51d52c2",
       "version_major": 2,
       "version_minor": 0
      },
      "text/plain": [
       "  0%|          | 0/2 [00:00<?, ?it/s]"
      ]
     },
     "metadata": {},
     "output_type": "display_data"
    },
    {
     "data": {
      "application/vnd.jupyter.widget-view+json": {
       "model_id": "22f6a4368b2b41279141a95d0ae6d2e7",
       "version_major": 2,
       "version_minor": 0
      },
      "text/plain": [
       "Epochs:   0%|          | 0/1000 [00:00<?, ?it/s]"
      ]
     },
     "metadata": {},
     "output_type": "display_data"
    },
    {
     "name": "stdout",
     "output_type": "stream",
     "text": [
      "0 Epoch: 1/1000 - Train Loss: 5.4580;  Val Loss: 1.4915 Best Val loss 1.4915\n",
      "0 Epoch: 101/1000 - Train Loss: 0.0169;  Val Loss: 0.9889 Best Val loss 0.9566\n",
      "0 Epoch: 201/1000 - Train Loss: 0.0093;  Val Loss: 0.9911 Best Val loss 0.9566\n",
      "0 Epoch: 301/1000 - Train Loss: 0.0057;  Val Loss: 0.9576 Best Val loss 0.9488\n",
      "0 Epoch: 401/1000 - Train Loss: 0.0052;  Val Loss: 0.9575 Best Val loss 0.9406\n",
      "0 Epoch: 501/1000 - Train Loss: 0.0058;  Val Loss: 0.9392 Best Val loss 0.9144\n",
      "0 Epoch: 601/1000 - Train Loss: 0.0033;  Val Loss: 0.9463 Best Val loss 0.9142\n",
      "0 Epoch: 701/1000 - Train Loss: 0.0037;  Val Loss: 0.9263 Best Val loss 0.9142\n",
      "0 Epoch: 801/1000 - Train Loss: 0.0028;  Val Loss: 0.9612 Best Val loss 0.9100\n",
      "0 Epoch: 901/1000 - Train Loss: 0.0037;  Val Loss: 0.9971 Best Val loss 0.9100\n"
     ]
    },
    {
     "data": {
      "application/vnd.jupyter.widget-view+json": {
       "model_id": "e803baa36fa84b99a0bad5252dae6562",
       "version_major": 2,
       "version_minor": 0
      },
      "text/plain": [
       "  0%|          | 0/11 [00:00<?, ?it/s]"
      ]
     },
     "metadata": {},
     "output_type": "display_data"
    },
    {
     "data": {
      "application/vnd.jupyter.widget-view+json": {
       "model_id": "1667756427c546e3ba7cec9c4d1a0f0d",
       "version_major": 2,
       "version_minor": 0
      },
      "text/plain": [
       "  0%|          | 0/2 [00:00<?, ?it/s]"
      ]
     },
     "metadata": {},
     "output_type": "display_data"
    },
    {
     "data": {
      "application/vnd.jupyter.widget-view+json": {
       "model_id": "d854e069f29742c5b60da1db62868c77",
       "version_major": 2,
       "version_minor": 0
      },
      "text/plain": [
       "Epochs:   0%|          | 0/1000 [00:00<?, ?it/s]"
      ]
     },
     "metadata": {},
     "output_type": "display_data"
    },
    {
     "name": "stdout",
     "output_type": "stream",
     "text": [
      "0 Epoch: 1/1000 - Train Loss: 5.4317;  Val Loss: 1.3873 Best Val loss 1.3873\n",
      "0 Epoch: 101/1000 - Train Loss: 0.0163;  Val Loss: 0.9753 Best Val loss 0.9598\n",
      "0 Epoch: 201/1000 - Train Loss: 0.0095;  Val Loss: 0.9805 Best Val loss 0.9593\n",
      "0 Epoch: 301/1000 - Train Loss: 0.0054;  Val Loss: 0.9413 Best Val loss 0.9354\n",
      "0 Epoch: 401/1000 - Train Loss: 0.0061;  Val Loss: 0.9942 Best Val loss 0.9169\n",
      "0 Epoch: 501/1000 - Train Loss: 0.0045;  Val Loss: 0.9639 Best Val loss 0.9087\n",
      "0 Epoch: 601/1000 - Train Loss: 0.0037;  Val Loss: 0.9829 Best Val loss 0.9087\n",
      "0 Epoch: 701/1000 - Train Loss: 0.0045;  Val Loss: 0.9351 Best Val loss 0.9068\n",
      "0 Epoch: 801/1000 - Train Loss: 0.0035;  Val Loss: 0.9813 Best Val loss 0.9068\n",
      "0 Epoch: 901/1000 - Train Loss: 0.0029;  Val Loss: 1.0686 Best Val loss 0.9068\n"
     ]
    },
    {
     "data": {
      "application/vnd.jupyter.widget-view+json": {
       "model_id": "807511c52b41496eb2f22c44a0b8e428",
       "version_major": 2,
       "version_minor": 0
      },
      "text/plain": [
       "  0%|          | 0/11 [00:00<?, ?it/s]"
      ]
     },
     "metadata": {},
     "output_type": "display_data"
    },
    {
     "data": {
      "application/vnd.jupyter.widget-view+json": {
       "model_id": "39e7179795374f08be96d3fbe07938a1",
       "version_major": 2,
       "version_minor": 0
      },
      "text/plain": [
       "  0%|          | 0/2 [00:00<?, ?it/s]"
      ]
     },
     "metadata": {},
     "output_type": "display_data"
    },
    {
     "data": {
      "application/vnd.jupyter.widget-view+json": {
       "model_id": "a6e480221dc94d73a73a8b257099d7ec",
       "version_major": 2,
       "version_minor": 0
      },
      "text/plain": [
       "Epochs:   0%|          | 0/1000 [00:00<?, ?it/s]"
      ]
     },
     "metadata": {},
     "output_type": "display_data"
    },
    {
     "name": "stdout",
     "output_type": "stream",
     "text": [
      "0 Epoch: 1/1000 - Train Loss: 5.5111;  Val Loss: 1.3362 Best Val loss 1.3362\n",
      "0 Epoch: 101/1000 - Train Loss: 0.0177;  Val Loss: 0.9846 Best Val loss 0.9476\n",
      "0 Epoch: 201/1000 - Train Loss: 0.0061;  Val Loss: 0.9783 Best Val loss 0.9476\n",
      "0 Epoch: 301/1000 - Train Loss: 0.0047;  Val Loss: 0.9614 Best Val loss 0.9428\n",
      "0 Epoch: 401/1000 - Train Loss: 0.0029;  Val Loss: 0.9573 Best Val loss 0.9182\n",
      "0 Epoch: 501/1000 - Train Loss: 0.0026;  Val Loss: 0.9222 Best Val loss 0.9030\n",
      "0 Epoch: 601/1000 - Train Loss: 0.0028;  Val Loss: 0.9609 Best Val loss 0.8930\n",
      "0 Epoch: 701/1000 - Train Loss: 0.0041;  Val Loss: 1.0528 Best Val loss 0.8930\n",
      "0 Epoch: 801/1000 - Train Loss: 0.0022;  Val Loss: 1.0297 Best Val loss 0.8930\n",
      "0 Epoch: 901/1000 - Train Loss: 0.0017;  Val Loss: 1.0161 Best Val loss 0.8930\n"
     ]
    },
    {
     "data": {
      "application/vnd.jupyter.widget-view+json": {
       "model_id": "a6c74effe3504654a9130ada18381f5a",
       "version_major": 2,
       "version_minor": 0
      },
      "text/plain": [
       "  0%|          | 0/11 [00:00<?, ?it/s]"
      ]
     },
     "metadata": {},
     "output_type": "display_data"
    },
    {
     "data": {
      "application/vnd.jupyter.widget-view+json": {
       "model_id": "03cd53d75fd448778e03f50d5c2888ac",
       "version_major": 2,
       "version_minor": 0
      },
      "text/plain": [
       "  0%|          | 0/2 [00:00<?, ?it/s]"
      ]
     },
     "metadata": {},
     "output_type": "display_data"
    },
    {
     "data": {
      "application/vnd.jupyter.widget-view+json": {
       "model_id": "36cc2c57ff87493180c971f8cdd6d80f",
       "version_major": 2,
       "version_minor": 0
      },
      "text/plain": [
       "Epochs:   0%|          | 0/1000 [00:00<?, ?it/s]"
      ]
     },
     "metadata": {},
     "output_type": "display_data"
    },
    {
     "name": "stdout",
     "output_type": "stream",
     "text": [
      "0 Epoch: 1/1000 - Train Loss: 5.2926;  Val Loss: 1.2223 Best Val loss 1.2223\n",
      "0 Epoch: 101/1000 - Train Loss: 0.0156;  Val Loss: 0.9898 Best Val loss 0.9606\n",
      "0 Epoch: 201/1000 - Train Loss: 0.0066;  Val Loss: 0.9831 Best Val loss 0.9606\n",
      "0 Epoch: 301/1000 - Train Loss: 0.0044;  Val Loss: 0.9615 Best Val loss 0.9479\n",
      "0 Epoch: 401/1000 - Train Loss: 0.0064;  Val Loss: 0.9745 Best Val loss 0.9370\n",
      "0 Epoch: 501/1000 - Train Loss: 0.0048;  Val Loss: 0.9422 Best Val loss 0.9205\n",
      "0 Epoch: 601/1000 - Train Loss: 0.0048;  Val Loss: 0.9872 Best Val loss 0.9205\n",
      "0 Epoch: 701/1000 - Train Loss: 0.0027;  Val Loss: 0.9954 Best Val loss 0.9205\n",
      "0 Epoch: 801/1000 - Train Loss: 0.0030;  Val Loss: 0.9960 Best Val loss 0.9205\n",
      "0 Epoch: 901/1000 - Train Loss: 0.0035;  Val Loss: 1.0238 Best Val loss 0.9205\n"
     ]
    },
    {
     "data": {
      "application/vnd.jupyter.widget-view+json": {
       "model_id": "4723b6fffa894949a83add33d94e8db5",
       "version_major": 2,
       "version_minor": 0
      },
      "text/plain": [
       "  0%|          | 0/11 [00:00<?, ?it/s]"
      ]
     },
     "metadata": {},
     "output_type": "display_data"
    },
    {
     "data": {
      "application/vnd.jupyter.widget-view+json": {
       "model_id": "6608a471200c455ab9d1325734e5eb95",
       "version_major": 2,
       "version_minor": 0
      },
      "text/plain": [
       "  0%|          | 0/2 [00:00<?, ?it/s]"
      ]
     },
     "metadata": {},
     "output_type": "display_data"
    },
    {
     "data": {
      "application/vnd.jupyter.widget-view+json": {
       "model_id": "f3eb2c0975044521bfc60893668ed971",
       "version_major": 2,
       "version_minor": 0
      },
      "text/plain": [
       "Epochs:   0%|          | 0/1000 [00:00<?, ?it/s]"
      ]
     },
     "metadata": {},
     "output_type": "display_data"
    },
    {
     "name": "stdout",
     "output_type": "stream",
     "text": [
      "0 Epoch: 1/1000 - Train Loss: 5.6293;  Val Loss: 1.4478 Best Val loss 1.4478\n",
      "0 Epoch: 101/1000 - Train Loss: 0.0191;  Val Loss: 0.9864 Best Val loss 0.9488\n",
      "0 Epoch: 201/1000 - Train Loss: 0.0081;  Val Loss: 0.9534 Best Val loss 0.9488\n",
      "0 Epoch: 301/1000 - Train Loss: 0.0055;  Val Loss: 0.9226 Best Val loss 0.9226\n",
      "0 Epoch: 401/1000 - Train Loss: 0.0044;  Val Loss: 0.9178 Best Val loss 0.9032\n",
      "0 Epoch: 501/1000 - Train Loss: 0.0032;  Val Loss: 0.9677 Best Val loss 0.9032\n",
      "0 Epoch: 601/1000 - Train Loss: 0.0035;  Val Loss: 0.9839 Best Val loss 0.9032\n",
      "0 Epoch: 701/1000 - Train Loss: 0.0029;  Val Loss: 0.9293 Best Val loss 0.9032\n",
      "0 Epoch: 801/1000 - Train Loss: 0.0026;  Val Loss: 1.0252 Best Val loss 0.9032\n",
      "0 Epoch: 901/1000 - Train Loss: 0.0042;  Val Loss: 1.1247 Best Val loss 0.9032\n"
     ]
    },
    {
     "data": {
      "application/vnd.jupyter.widget-view+json": {
       "model_id": "532dbdd374c140598cd85f41ddf6c6ff",
       "version_major": 2,
       "version_minor": 0
      },
      "text/plain": [
       "  0%|          | 0/11 [00:00<?, ?it/s]"
      ]
     },
     "metadata": {},
     "output_type": "display_data"
    },
    {
     "data": {
      "application/vnd.jupyter.widget-view+json": {
       "model_id": "ec6d1ed02b4f48bdb18a8a10789cde96",
       "version_major": 2,
       "version_minor": 0
      },
      "text/plain": [
       "  0%|          | 0/2 [00:00<?, ?it/s]"
      ]
     },
     "metadata": {},
     "output_type": "display_data"
    },
    {
     "data": {
      "application/vnd.jupyter.widget-view+json": {
       "model_id": "e2536802dad248c7b37041047fa82e32",
       "version_major": 2,
       "version_minor": 0
      },
      "text/plain": [
       "Epochs:   0%|          | 0/1000 [00:00<?, ?it/s]"
      ]
     },
     "metadata": {},
     "output_type": "display_data"
    },
    {
     "name": "stdout",
     "output_type": "stream",
     "text": [
      "0 Epoch: 1/1000 - Train Loss: 5.4919;  Val Loss: 1.3163 Best Val loss 1.3163\n",
      "0 Epoch: 101/1000 - Train Loss: 0.0189;  Val Loss: 0.9858 Best Val loss 0.9451\n",
      "0 Epoch: 201/1000 - Train Loss: 0.0062;  Val Loss: 0.9894 Best Val loss 0.9451\n",
      "0 Epoch: 301/1000 - Train Loss: 0.0068;  Val Loss: 0.9660 Best Val loss 0.9446\n",
      "0 Epoch: 401/1000 - Train Loss: 0.0038;  Val Loss: 0.9460 Best Val loss 0.9207\n",
      "0 Epoch: 501/1000 - Train Loss: 0.0044;  Val Loss: 0.9012 Best Val loss 0.9012\n",
      "0 Epoch: 601/1000 - Train Loss: 0.0039;  Val Loss: 0.9217 Best Val loss 0.8980\n",
      "0 Epoch: 701/1000 - Train Loss: 0.0028;  Val Loss: 0.9707 Best Val loss 0.8973\n",
      "0 Epoch: 801/1000 - Train Loss: 0.0045;  Val Loss: 0.9580 Best Val loss 0.8973\n",
      "0 Epoch: 901/1000 - Train Loss: 0.0030;  Val Loss: 1.0051 Best Val loss 0.8973\n"
     ]
    },
    {
     "data": {
      "application/vnd.jupyter.widget-view+json": {
       "model_id": "0e66ade43f41430e83ee9b8c8541d7c6",
       "version_major": 2,
       "version_minor": 0
      },
      "text/plain": [
       "  0%|          | 0/11 [00:00<?, ?it/s]"
      ]
     },
     "metadata": {},
     "output_type": "display_data"
    },
    {
     "data": {
      "application/vnd.jupyter.widget-view+json": {
       "model_id": "823499e41d894d58b1cdd1408f05defb",
       "version_major": 2,
       "version_minor": 0
      },
      "text/plain": [
       "  0%|          | 0/2 [00:00<?, ?it/s]"
      ]
     },
     "metadata": {},
     "output_type": "display_data"
    },
    {
     "data": {
      "application/vnd.jupyter.widget-view+json": {
       "model_id": "2513b258903d43db96bb5869dfc75383",
       "version_major": 2,
       "version_minor": 0
      },
      "text/plain": [
       "Epochs:   0%|          | 0/1000 [00:00<?, ?it/s]"
      ]
     },
     "metadata": {},
     "output_type": "display_data"
    },
    {
     "name": "stdout",
     "output_type": "stream",
     "text": [
      "0 Epoch: 1/1000 - Train Loss: 5.4186;  Val Loss: 1.3113 Best Val loss 1.3113\n",
      "0 Epoch: 101/1000 - Train Loss: 0.0204;  Val Loss: 0.9950 Best Val loss 0.9690\n",
      "0 Epoch: 201/1000 - Train Loss: 0.0091;  Val Loss: 0.9875 Best Val loss 0.9690\n",
      "0 Epoch: 301/1000 - Train Loss: 0.0079;  Val Loss: 0.9773 Best Val loss 0.9599\n",
      "0 Epoch: 401/1000 - Train Loss: 0.0070;  Val Loss: 0.9179 Best Val loss 0.9179\n",
      "0 Epoch: 501/1000 - Train Loss: 0.0049;  Val Loss: 0.9714 Best Val loss 0.9179\n",
      "0 Epoch: 601/1000 - Train Loss: 0.0042;  Val Loss: 0.9963 Best Val loss 0.9179\n",
      "0 Epoch: 701/1000 - Train Loss: 0.0044;  Val Loss: 0.9556 Best Val loss 0.9156\n",
      "0 Epoch: 801/1000 - Train Loss: 0.0050;  Val Loss: 0.9697 Best Val loss 0.9156\n",
      "0 Epoch: 901/1000 - Train Loss: 0.0035;  Val Loss: 0.9961 Best Val loss 0.9156\n"
     ]
    },
    {
     "data": {
      "application/vnd.jupyter.widget-view+json": {
       "model_id": "a49c578dca1949eca6a4fb87fb6a1b9d",
       "version_major": 2,
       "version_minor": 0
      },
      "text/plain": [
       "  0%|          | 0/11 [00:00<?, ?it/s]"
      ]
     },
     "metadata": {},
     "output_type": "display_data"
    },
    {
     "data": {
      "application/vnd.jupyter.widget-view+json": {
       "model_id": "f193ffa4c284421a9f35cf5745718c27",
       "version_major": 2,
       "version_minor": 0
      },
      "text/plain": [
       "  0%|          | 0/2 [00:00<?, ?it/s]"
      ]
     },
     "metadata": {},
     "output_type": "display_data"
    },
    {
     "data": {
      "application/vnd.jupyter.widget-view+json": {
       "model_id": "3f921313bc7e4f7c9084cd4f50cf1998",
       "version_major": 2,
       "version_minor": 0
      },
      "text/plain": [
       "Epochs:   0%|          | 0/1000 [00:00<?, ?it/s]"
      ]
     },
     "metadata": {},
     "output_type": "display_data"
    },
    {
     "name": "stdout",
     "output_type": "stream",
     "text": [
      "0 Epoch: 1/1000 - Train Loss: 5.5356;  Val Loss: 1.4370 Best Val loss 1.4370\n",
      "0 Epoch: 101/1000 - Train Loss: 0.0222;  Val Loss: 0.9846 Best Val loss 0.9434\n",
      "0 Epoch: 201/1000 - Train Loss: 0.0086;  Val Loss: 0.9872 Best Val loss 0.9434\n",
      "0 Epoch: 301/1000 - Train Loss: 0.0058;  Val Loss: 0.9804 Best Val loss 0.9434\n",
      "0 Epoch: 401/1000 - Train Loss: 0.0051;  Val Loss: 0.9713 Best Val loss 0.9434\n",
      "0 Epoch: 501/1000 - Train Loss: 0.0048;  Val Loss: 0.9620 Best Val loss 0.9259\n",
      "0 Epoch: 601/1000 - Train Loss: 0.0027;  Val Loss: 0.9535 Best Val loss 0.9259\n",
      "0 Epoch: 701/1000 - Train Loss: 0.0037;  Val Loss: 0.9527 Best Val loss 0.9259\n",
      "0 Epoch: 801/1000 - Train Loss: 0.0041;  Val Loss: 0.9523 Best Val loss 0.9228\n",
      "0 Epoch: 901/1000 - Train Loss: 0.0035;  Val Loss: 0.9519 Best Val loss 0.9228\n"
     ]
    },
    {
     "data": {
      "application/vnd.jupyter.widget-view+json": {
       "model_id": "4240b5c8afb44cffba303a0f28b8f019",
       "version_major": 2,
       "version_minor": 0
      },
      "text/plain": [
       "  0%|          | 0/11 [00:00<?, ?it/s]"
      ]
     },
     "metadata": {},
     "output_type": "display_data"
    },
    {
     "data": {
      "application/vnd.jupyter.widget-view+json": {
       "model_id": "c9853dc6052242e7b39411656dc111c5",
       "version_major": 2,
       "version_minor": 0
      },
      "text/plain": [
       "  0%|          | 0/2 [00:00<?, ?it/s]"
      ]
     },
     "metadata": {},
     "output_type": "display_data"
    },
    {
     "name": "stdout",
     "output_type": "stream",
     "text": [
      "triplet loss lr C1 Accuracy 0.691+-0.062 F1 Score 0.677+-0.041  0.691+-0.062 | 0.677+-0.041\n"
     ]
    }
   ],
   "source": [
    "results = {\n",
    "    'test_accuracy' : [],\n",
    "    'test_precision' : [],\n",
    "    'test_recall' : [],\n",
    "    'test_f1' : []\n",
    "}\n",
    "\n",
    "embedding_dims = 100\n",
    "batch_size = 512\n",
    "epochs = 1000\n",
    "n_workers = 8\n",
    "\n",
    "for j, (train_index, val_index, test_index) in enumerate(cv_Kfold_i):\n",
    "    train_loader, train_loader_label, val_loader, test_loader = prepare_loaders(\n",
    "        emb_tab=embeddings_table, \n",
    "        emb_tab_train=embeddings_table_aug,\n",
    "        y_column=df['assestment'].values, \n",
    "        batch_size=batch_size,\n",
    "        index_llist = [train_index, val_index, test_index],\n",
    "        sizes= [10,3],\n",
    "        n_workers=n_workers\n",
    "    )\n",
    "    \n",
    "    model = Network(embedding_dims)\n",
    "    model = model.to(device)\n",
    "\n",
    "    train_loop(\n",
    "        model=model,\n",
    "        train_loader=train_loader,\n",
    "        val_loader=val_loader,\n",
    "        epochs=1000,\n",
    "        n_print=100,\n",
    "        if_norm=False,\n",
    "        optimizer=optim.Adam(model.parameters(), lr=1e-4, weight_decay=1e-5),\n",
    "        criterion=TripletLoss(),\n",
    "        n_model=0,\n",
    "        model_name='model_X.pt'\n",
    "    )\n",
    "    \n",
    "    model = torch.load('models/model_X.pt')\n",
    "    \n",
    "    \n",
    "    train_results = []\n",
    "    labels = []\n",
    "\n",
    "    model.eval()\n",
    "    with torch.no_grad():\n",
    "        for anchor_claim, label in tqdm(train_loader_label):\n",
    "            anchor_claim = anchor_claim.to(device) if if_norm else (anchor_claim / torch.norm(anchor_claim) ).to(device)\n",
    "\n",
    "            train_results.append(model(anchor_claim).cpu().numpy())\n",
    "            labels.append(label)\n",
    "\n",
    "    train_results = np.concatenate(train_results) \n",
    "    labels = np.concatenate(labels)\n",
    "    train_results.shape\n",
    "\n",
    "    \n",
    "    test_results = []\n",
    "    test_labels = []\n",
    "\n",
    "    model.eval()\n",
    "    with torch.no_grad():\n",
    "        for anchor_claim, label in tqdm(test_loader):\n",
    "            anchor_claim = anchor_claim.to(device) if if_norm else (anchor_claim / torch.norm(anchor_claim) ).to(device)\n",
    "\n",
    "            test_results.append(model(anchor_claim).cpu().numpy())\n",
    "            test_labels.append(label)\n",
    "\n",
    "    test_results = np.concatenate(test_results)\n",
    "    test_labels = np.concatenate(test_labels)\n",
    "    test_results.shape\n",
    "\n",
    "    \n",
    "    clf_lr_1 = LogisticRegression(max_iter=5000, C=1, penalty='l2', solver='liblinear')\n",
    "\n",
    "    y_train_t = labels\n",
    "    X_train_t = train_results\n",
    "    y_test_t = test_labels\n",
    "    X_test_t = test_results\n",
    "\n",
    "    clf_lr_1.fit(X_train_t, y_train_t)\n",
    "\n",
    "    y_pred = clf_lr_1.predict(X_test_t)\n",
    "\n",
    "    results['test_accuracy'].append( accuracy_score(y_test_t, y_pred) ) \n",
    "    results['test_precision'].append( precision_score(y_test_t, y_pred) ) \n",
    "    results['test_recall'].append( recall_score(y_test_t, y_pred) ) \n",
    "    results['test_f1'].append( f1_score(y_test_t, y_pred) ) \n",
    "\n",
    "\n",
    "out = {\n",
    "    \"Accuracy\": np.array(results['test_accuracy']),\n",
    "#     \"Precision\": np.array(results['test_precision']).mean(),\n",
    "#     \"Recall\": np.array(results['test_recall']).mean(),\n",
    "    \"F1 Score\":  np.array(results['test_f1']),\n",
    "    }\n",
    "\n",
    "print(\n",
    "    'triplet loss lr C1',\n",
    "    f'Accuracy {out[\"Accuracy\"].mean():.3f}+-{out[\"Accuracy\"].std():.3f}',\n",
    "    f'F1 Score {out[\"F1 Score\"].mean():.3f}+-{out[\"F1 Score\"].std():.3f}',\n",
    "    f' {out[\"Accuracy\"].mean():.3f}+-{out[\"Accuracy\"].std():.3f} | {out[\"F1 Score\"].mean():.3f}+-{out[\"F1 Score\"].std():.3f}'\n",
    ")    "
   ]
  },
  {
   "cell_type": "code",
   "execution_count": null,
   "metadata": {},
   "outputs": [],
   "source": []
  }
 ],
 "metadata": {
  "kernelspec": {
   "display_name": "Python 3 (ipykernel)",
   "language": "python",
   "name": "python3"
  },
  "language_info": {
   "codemirror_mode": {
    "name": "ipython",
    "version": 3
   },
   "file_extension": ".py",
   "mimetype": "text/x-python",
   "name": "python",
   "nbconvert_exporter": "python",
   "pygments_lexer": "ipython3",
   "version": "3.9.13"
  }
 },
 "nbformat": 4,
 "nbformat_minor": 4
}
