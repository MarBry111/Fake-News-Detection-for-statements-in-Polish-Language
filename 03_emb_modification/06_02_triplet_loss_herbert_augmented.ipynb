{
 "cells": [
  {
   "cell_type": "code",
   "execution_count": 1,
   "metadata": {
    "execution": {
     "iopub.execute_input": "2022-11-27T15:08:17.772784Z",
     "iopub.status.busy": "2022-11-27T15:08:17.772405Z",
     "iopub.status.idle": "2022-11-27T15:08:43.369468Z",
     "shell.execute_reply": "2022-11-27T15:08:43.368328Z",
     "shell.execute_reply.started": "2022-11-27T15:08:17.772745Z"
    }
   },
   "outputs": [
    {
     "name": "stderr",
     "output_type": "stream",
     "text": [
      "/home/marek/anaconda3/envs/nlp/lib/python3.9/site-packages/huggingface_hub/snapshot_download.py:6: FutureWarning: snapshot_download.py has been made private and will no longer be available from version 0.11. Please use `from huggingface_hub import snapshot_download` to import the only public function in this module. Other members of the file may be changed without a deprecation notice.\n",
      "  warnings.warn(\n"
     ]
    }
   ],
   "source": [
    "import time\n",
    "import torch\n",
    "import random\n",
    "import numpy as np\n",
    "import pandas as pd\n",
    "import torch.nn as nn\n",
    "import torch.optim as optim\n",
    "from tqdm.notebook import tqdm\n",
    "import matplotlib.pyplot as plt\n",
    "\n",
    "from torch.utils.data import DataLoader, Dataset\n",
    "\n",
    "from sklearn.model_selection import KFold, train_test_split\n",
    "from sklearn.linear_model import LogisticRegression\n",
    "\n",
    "from sklearn.base import clone as sklearn_clone\n",
    "\n",
    "from sklearn.metrics import (\n",
    "    accuracy_score, \n",
    "    f1_score, \n",
    "    recall_score,\n",
    "    precision_score,\n",
    "    roc_auc_score, confusion_matrix, roc_curve, classification_report\n",
    ")\n",
    "\n",
    "from sentence_transformers import SentenceTransformer\n",
    "from transformers import AutoTokenizer, AutoModel, HerbertTokenizer, BatchEncoding\n",
    "\n",
    "import gc\n",
    "from sklearn.neighbors import KNeighborsClassifier\n",
    "\n",
    "import scipy\n",
    "from scipy import spatial\n",
    "\n",
    "from sklearn.preprocessing import StandardScaler\n",
    "import umap.umap_ as umap"
   ]
  },
  {
   "cell_type": "code",
   "execution_count": 2,
   "metadata": {},
   "outputs": [],
   "source": [
    "# # https://stackoverflow.com/questions/42704283/l1-l2-regularization-in-pytorch\n",
    "# #try add l1 tregularisation\n",
    "\n",
    "# loss = loss_fn(outputs, labels)\n",
    "# l1_lambda = 0.001\n",
    "# l1_norm = sum(torch.linalg.norm(p, 1) for p in model.parameters())\n",
    "\n",
    "# loss = loss + l1_lambda * l1_norm"
   ]
  },
  {
   "cell_type": "code",
   "execution_count": 3,
   "metadata": {
    "execution": {
     "iopub.execute_input": "2022-11-27T15:08:43.373442Z",
     "iopub.status.busy": "2022-11-27T15:08:43.372540Z",
     "iopub.status.idle": "2022-11-27T15:08:43.390384Z",
     "shell.execute_reply": "2022-11-27T15:08:43.388887Z",
     "shell.execute_reply.started": "2022-11-27T15:08:43.373390Z"
    }
   },
   "outputs": [
    {
     "data": {
      "text/plain": [
       "'cuda'"
      ]
     },
     "execution_count": 3,
     "metadata": {},
     "output_type": "execute_result"
    }
   ],
   "source": [
    "torch.manual_seed(111)\n",
    "np.random.seed(111)\n",
    "random.seed(111)\n",
    "device = torch.device(\"cuda\" if torch.cuda.is_available() else \"cpu\")\n",
    "\n",
    "if device.type == \"cuda\":\n",
    "    torch.cuda.get_device_name()\n",
    "    \n",
    "device.type"
   ]
  },
  {
   "cell_type": "markdown",
   "metadata": {},
   "source": [
    "## Get data"
   ]
  },
  {
   "cell_type": "code",
   "execution_count": 4,
   "metadata": {
    "execution": {
     "iopub.execute_input": "2022-11-27T15:08:43.393489Z",
     "iopub.status.busy": "2022-11-27T15:08:43.392592Z",
     "iopub.status.idle": "2022-11-27T15:08:43.451933Z",
     "shell.execute_reply": "2022-11-27T15:08:43.450432Z",
     "shell.execute_reply.started": "2022-11-27T15:08:43.393432Z"
    }
   },
   "outputs": [],
   "source": [
    "df_topics = pd.read_csv('../datasets/ready2use/topics.csv', index_col=0)"
   ]
  },
  {
   "cell_type": "code",
   "execution_count": 5,
   "metadata": {
    "execution": {
     "iopub.execute_input": "2022-11-27T15:08:43.456831Z",
     "iopub.status.busy": "2022-11-27T15:08:43.456352Z",
     "iopub.status.idle": "2022-11-27T15:08:43.636702Z",
     "shell.execute_reply": "2022-11-27T15:08:43.635861Z",
     "shell.execute_reply.started": "2022-11-27T15:08:43.456788Z"
    }
   },
   "outputs": [],
   "source": [
    "df = pd.read_csv('../datasets/ready2use/fake_news_features_combined.csv', sep=';')\n",
    "\n",
    "df = df[ df['assestment'] != 'brak' ]\n",
    "\n",
    "df.loc[:, 'assestment'] = df['assestment'].replace({\n",
    "    'falsz' : 'Fałsz',\n",
    "    'zbity_zegar' : 'Fałsz',\n",
    "    'raczej_falsz' : 'Fałsz',\n",
    "    'prawda' : 'Prawda',\n",
    "    'blisko_prawdy' : 'Prawda',\n",
    "    'polprawda' : 'Manipulacja',\n",
    "    'Częściowy fałsz' : 'Manipulacja'\n",
    "})\n",
    "\n",
    "df = df[ df['assestment'] != 'Nieweryfikowalne' ]\n",
    "df = df[ df['assestment'] != 'Manipulacja' ]\n",
    "\n",
    "df['assestment'] = df['assestment'].replace({\n",
    "    'Fałsz' : 0,\n",
    "#     'Manipulacja' : 1,\n",
    "    'Prawda' : 1\n",
    "}).astype(int)\n",
    "\n",
    "df = df.copy()[['assestment', 'text_clean']][df.index.isin(df_topics.index)].reset_index(drop=True)"
   ]
  },
  {
   "cell_type": "code",
   "execution_count": 6,
   "metadata": {},
   "outputs": [],
   "source": [
    "with open('../datasets/ready2use/style_emb_pl.npy', 'rb') as f:\n",
    "    emb_style = np.load(f)"
   ]
  },
  {
   "cell_type": "code",
   "execution_count": 7,
   "metadata": {
    "execution": {
     "iopub.execute_input": "2022-11-27T15:08:43.639187Z",
     "iopub.status.busy": "2022-11-27T15:08:43.638194Z",
     "iopub.status.idle": "2022-11-27T15:08:47.592832Z",
     "shell.execute_reply": "2022-11-27T15:08:47.591208Z",
     "shell.execute_reply.started": "2022-11-27T15:08:43.639139Z"
    }
   },
   "outputs": [
    {
     "data": {
      "text/plain": [
       "(6541, 1024)"
      ]
     },
     "execution_count": 7,
     "metadata": {},
     "output_type": "execute_result"
    }
   ],
   "source": [
    "embeddings_table = pd.read_csv('../datasets/ready2use/embeddings_pl_herbert.csv', sep=\",\", header=None).values\n",
    "embeddings_table.shape"
   ]
  },
  {
   "cell_type": "code",
   "execution_count": 8,
   "metadata": {},
   "outputs": [
    {
     "data": {
      "text/plain": [
       "(65410, 1024)"
      ]
     },
     "execution_count": 8,
     "metadata": {},
     "output_type": "execute_result"
    }
   ],
   "source": [
    "with open('../datasets/ready2use/embeddings_pl_herbert_aug.npy', 'rb') as f:\n",
    "    embeddings_table_aug = np.load(f)\n",
    "\n",
    "embeddings_table_aug.shape"
   ]
  },
  {
   "cell_type": "code",
   "execution_count": 9,
   "metadata": {},
   "outputs": [],
   "source": [
    "# embeddings_table = np.concatenate([embeddings_table, emb_style],1)\n",
    "# embeddings_table.shape"
   ]
  },
  {
   "cell_type": "code",
   "execution_count": 10,
   "metadata": {},
   "outputs": [],
   "source": [
    "# X_pos = pd.read_csv('../datasets/ready2use/pos_pl_dataset.csv', sep=';')\n",
    "# del X_pos['assestment']\n",
    "# print( X_pos.shape )\n",
    "\n",
    "# corr_score = []\n",
    "# for c in X_pos.columns:\n",
    "#     min_v = X_pos[c].values[train_index].min()\n",
    "#     max_v = X_pos[c].values[train_index].max()\n",
    "\n",
    "#     if min_v < max_v:\n",
    "#         r = scipy.stats.pearsonr(X_pos[c].values[train_index], y_train)[0]\n",
    "#         if ~np.isnan(r):\n",
    "#             corr_score.append(r)\n",
    "#         else:\n",
    "#             corr_score.append(0)\n",
    "#     else:\n",
    "#         corr_score.append(0)\n",
    "        \n",
    "        \n",
    "# embeddings_table = X_pos.values[ :, np.argsort(corr_score)[-1024:] ]\n",
    "# embeddings_table.shape"
   ]
  },
  {
   "cell_type": "markdown",
   "metadata": {},
   "source": [
    "## Kfold"
   ]
  },
  {
   "cell_type": "code",
   "execution_count": 11,
   "metadata": {
    "execution": {
     "iopub.execute_input": "2022-11-27T15:08:47.594715Z",
     "iopub.status.busy": "2022-11-27T15:08:47.594342Z",
     "iopub.status.idle": "2022-11-27T15:08:47.632847Z",
     "shell.execute_reply": "2022-11-27T15:08:47.631805Z",
     "shell.execute_reply.started": "2022-11-27T15:08:47.594681Z"
    }
   },
   "outputs": [],
   "source": [
    "cv_fold = []\n",
    "cv_fold_i = []\n",
    "\n",
    "for i in df_topics['topic'].unique().reshape(10,-1):\n",
    "    train_cv = df_topics.index[ ~np.isin(df_topics[\"topic\"], [i, np.mod(i+1,10)]) ].values\n",
    "    val_cv = df_topics.index[ ~np.isin(df_topics[\"topic\"], np.mod(i+1,10)) ].values\n",
    "    test_cv = df_topics.index[ np.isin(df_topics[\"topic\"], i) ].values\n",
    "    \n",
    "    train_cv_i = df_topics.reset_index().index[ ~np.isin(df_topics[\"topic\"], [i, np.mod(i+1,10)]) ].values\n",
    "    val_cv_i = df_topics.reset_index().index[ ~np.isin(df_topics[\"topic\"], np.mod(i+1,10)) ].values\n",
    "    test_cv_i = df_topics.reset_index().index[ np.isin(df_topics[\"topic\"], i) ].values\n",
    "    \n",
    "    cv_fold.append( [train_cv, val_cv, test_cv])\n",
    "    cv_fold_i.append( [train_cv_i, val_cv_i, test_cv_i])"
   ]
  },
  {
   "cell_type": "code",
   "execution_count": 12,
   "metadata": {
    "execution": {
     "iopub.execute_input": "2022-11-27T15:08:47.635075Z",
     "iopub.status.busy": "2022-11-27T15:08:47.634315Z",
     "iopub.status.idle": "2022-11-27T15:08:47.687480Z",
     "shell.execute_reply": "2022-11-27T15:08:47.686035Z",
     "shell.execute_reply.started": "2022-11-27T15:08:47.635025Z"
    }
   },
   "outputs": [],
   "source": [
    "kf = KFold(n_splits=10, shuffle=True)\n",
    "kf.get_n_splits(df_topics)\n",
    "\n",
    "cv_Kfold = []\n",
    "cv_Kfold_i = []\n",
    "\n",
    "for train_index, test_index in kf.split(df_topics):\n",
    "    train_index, val_index = train_test_split(train_index, test_size=1/9, shuffle=True)\n",
    "    train_cv = df_topics.iloc[ train_index, : ].index.values\n",
    "    val_cv = df_topics.iloc[ val_index, : ].index.values\n",
    "    test_cv = df_topics.iloc[ test_index, : ].index.values\n",
    "\n",
    "    train_cv_i= df_topics.reset_index().iloc[ train_index, : ].index.values\n",
    "    val_cv_i = df_topics.reset_index().iloc[ val_index, : ].index.values\n",
    "    test_cv_i = df_topics.reset_index().iloc[ test_index, : ].index.values\n",
    "    \n",
    "    cv_Kfold.append( [train_cv, val_cv, test_cv])\n",
    "    cv_Kfold_i.append( [train_cv_i, val_cv_i, test_cv_i])"
   ]
  },
  {
   "cell_type": "markdown",
   "metadata": {},
   "source": [
    "## Train"
   ]
  },
  {
   "cell_type": "markdown",
   "metadata": {},
   "source": [
    "## TripletLoss"
   ]
  },
  {
   "cell_type": "code",
   "execution_count": 13,
   "metadata": {
    "execution": {
     "iopub.execute_input": "2022-11-27T15:08:47.690737Z",
     "iopub.status.busy": "2022-11-27T15:08:47.690348Z",
     "iopub.status.idle": "2022-11-27T15:08:47.699188Z",
     "shell.execute_reply": "2022-11-27T15:08:47.697851Z",
     "shell.execute_reply.started": "2022-11-27T15:08:47.690701Z"
    }
   },
   "outputs": [],
   "source": [
    "class TripletLoss(nn.Module):\n",
    "    def __init__(self, margin=1.0):\n",
    "        super(TripletLoss, self).__init__()\n",
    "        self.margin = margin\n",
    "        \n",
    "    def calc_euclidean(self, x1, x2):\n",
    "        return (x1 - x2).pow(2).sum(1)\n",
    "    \n",
    "    def forward(self, anchor: torch.Tensor, positive: torch.Tensor, negative: torch.Tensor) -> torch.Tensor:\n",
    "        distance_positive = self.calc_euclidean(anchor, positive)\n",
    "        distance_negative = self.calc_euclidean(anchor, negative)\n",
    "        losses = torch.relu(distance_positive - distance_negative + self.margin)\n",
    "\n",
    "        return losses.mean()"
   ]
  },
  {
   "cell_type": "code",
   "execution_count": 14,
   "metadata": {},
   "outputs": [],
   "source": [
    "class TripletLossVector():\n",
    "    def __init__(self, margin=1.0):\n",
    "        self.margin = margin\n",
    "        \n",
    "    def calc_euclidean(self, x1, x2):\n",
    "        return (x1 - x2).pow(2).sum(1)\n",
    "    \n",
    "    def get_loss(self, anchor: torch.Tensor, positive: torch.Tensor, negative: torch.Tensor) -> torch.Tensor:\n",
    "        distance_positive = self.calc_euclidean(anchor, positive)\n",
    "        distance_negative = self.calc_euclidean(anchor, negative)\n",
    "        losses = torch.relu(distance_positive - distance_negative + self.margin)\n",
    "        \n",
    "        return losses"
   ]
  },
  {
   "cell_type": "markdown",
   "metadata": {},
   "source": [
    "## Visualise test with UMAP"
   ]
  },
  {
   "cell_type": "code",
   "execution_count": 15,
   "metadata": {
    "execution": {
     "iopub.execute_input": "2022-11-27T15:23:25.203144Z",
     "iopub.status.busy": "2022-11-27T15:23:25.201974Z",
     "iopub.status.idle": "2022-11-27T15:23:25.286637Z",
     "shell.execute_reply": "2022-11-27T15:23:25.285233Z",
     "shell.execute_reply.started": "2022-11-27T15:23:25.203099Z"
    }
   },
   "outputs": [
    {
     "name": "stdout",
     "output_type": "stream",
     "text": [
      "[[   0 2764]\n",
      " [   1 2468]]\n"
     ]
    }
   ],
   "source": [
    "train_index, val_index, test_index = cv_Kfold_i[np.random.randint(10)]\n",
    "y_train = df['assestment'].values[train_index]\n",
    "y_val = df['assestment'].values[val_index]\n",
    "y_test = df['assestment'].values[test_index]\n",
    "\n",
    "unique, counts = np.unique(y_train, return_counts=True)\n",
    "print(np.asarray((unique, counts)).T)\n",
    "\n",
    "scaler = StandardScaler().fit(embeddings_table[train_index])"
   ]
  },
  {
   "cell_type": "code",
   "execution_count": 16,
   "metadata": {
    "execution": {
     "iopub.execute_input": "2022-11-27T15:23:25.983756Z",
     "iopub.status.busy": "2022-11-27T15:23:25.983353Z",
     "iopub.status.idle": "2022-11-27T15:23:50.249313Z",
     "shell.execute_reply": "2022-11-27T15:23:50.247873Z",
     "shell.execute_reply.started": "2022-11-27T15:23:25.983724Z"
    }
   },
   "outputs": [],
   "source": [
    "reducer = umap.UMAP()\n",
    "umap_train = reducer.fit_transform(scaler.transform(embeddings_table[train_index]), y=y_train)\n",
    "umap_val = reducer.transform(scaler.transform(embeddings_table[val_index]))\n",
    "umap_test = reducer.transform(scaler.transform(embeddings_table[test_index]))"
   ]
  },
  {
   "cell_type": "code",
   "execution_count": 17,
   "metadata": {
    "execution": {
     "iopub.execute_input": "2022-11-27T15:23:50.251910Z",
     "iopub.status.busy": "2022-11-27T15:23:50.251548Z",
     "iopub.status.idle": "2022-11-27T15:23:50.824941Z",
     "shell.execute_reply": "2022-11-27T15:23:50.823693Z",
     "shell.execute_reply.started": "2022-11-27T15:23:50.251879Z"
    }
   },
   "outputs": [
    {
     "data": {
      "image/png": "[encoded data removed]",
      "text/plain": [
       "<Figure size 2000x600 with 3 Axes>"
      ]
     },
     "metadata": {},
     "output_type": "display_data"
    }
   ],
   "source": [
    "plt.figure(figsize=(20, 6), facecolor=\"azure\")\n",
    "\n",
    "plt.subplot(1, 3, 1)\n",
    "for label in np.unique(y_train):\n",
    "    tmp = umap_train[y_train==label]\n",
    "    plt.scatter(tmp[:, 0], tmp[:, 1], label=label)\n",
    "    plt.title('Train')\n",
    "    \n",
    "plt.subplot(1, 3, 2)\n",
    "for label in np.unique(y_val):\n",
    "    tmp = umap_val[y_val==label]\n",
    "    plt.scatter(tmp[:, 0], tmp[:, 1], label=label)\n",
    "    plt.title('Val')\n",
    "\n",
    "plt.subplot(1, 3, 3)\n",
    "for label in np.unique(y_test):\n",
    "    tmp = umap_test[y_test==label]\n",
    "    plt.scatter(tmp[:, 0], tmp[:, 1], label=label)\n",
    "    plt.title('Test')\n",
    "\n",
    "plt.legend()\n",
    "plt.show()"
   ]
  },
  {
   "cell_type": "markdown",
   "metadata": {},
   "source": [
    "## Dataloader"
   ]
  },
  {
   "cell_type": "code",
   "execution_count": 18,
   "metadata": {
    "execution": {
     "iopub.execute_input": "2022-11-26T15:31:53.151297Z",
     "iopub.status.busy": "2022-11-26T15:31:53.150687Z",
     "iopub.status.idle": "2022-11-26T15:31:53.165067Z",
     "shell.execute_reply": "2022-11-26T15:31:53.164082Z",
     "shell.execute_reply.started": "2022-11-26T15:31:53.151191Z"
    }
   },
   "outputs": [],
   "source": [
    "class FakeNews(Dataset):\n",
    "    def __init__(self, emb_dt, y_dt, index_to_use, factor=1):\n",
    "        self.emb = emb_dt[index_to_use]\n",
    "        \n",
    "        self.labels = y_dt[index_to_use]\n",
    "        \n",
    "        self.index = np.repeat( [np.arange(index_to_use.shape[0])], factor, axis=0).reshape(-1)\n",
    "        \n",
    "        self.idx = np.arange(index_to_use.shape[0])\n",
    "        \n",
    "    def __len__(self):\n",
    "        return len(self.index)\n",
    "    \n",
    "    def __getitem__(self, idx): \n",
    "        item = self.index[idx]\n",
    "                \n",
    "        anchor_label = self.labels[item]\n",
    "\n",
    "        positive_list = self.idx[self.idx!=item][self.labels[self.idx!=item]==anchor_label]\n",
    "\n",
    "        positive_item = random.choice(positive_list)\n",
    "        \n",
    "        negative_list = self.idx[self.idx!=item][self.labels[self.idx!=item]!=anchor_label]\n",
    "        negative_item = random.choice(negative_list)\n",
    "        \n",
    "        anchor_claim = self.emb[item].astype(np.float32)\n",
    "        positive_claim = self.emb[positive_item].astype(np.float32)\n",
    "        negative_claim = self.emb[negative_item].astype(np.float32)\n",
    "\n",
    "        anchor_label = anchor_label.astype(np.float32)\n",
    "\n",
    "        return anchor_claim, positive_claim, negative_claim, anchor_label\n",
    "\n",
    "class FakeNewsLabel(Dataset):\n",
    "    def __init__(self, emb_dt, y_dt, index_to_use):\n",
    "        self.emb = emb_dt[index_to_use]\n",
    "        \n",
    "        self.labels = y_dt[index_to_use]\n",
    "        \n",
    "        self.index = np.arange(index_to_use.shape[0])\n",
    "        \n",
    "    def __len__(self):\n",
    "        return len(self.emb)\n",
    "    \n",
    "    def __getitem__(self, item):\n",
    "        anchor_label = self.labels[item]\n",
    "        \n",
    "        anchor_claim = self.emb[item].astype(np.float32)\n",
    "\n",
    "        anchor_label = anchor_label.astype(np.float32)\n",
    "\n",
    "        return anchor_claim, anchor_label"
   ]
  },
  {
   "cell_type": "code",
   "execution_count": 19,
   "metadata": {
    "execution": {
     "iopub.execute_input": "2022-11-26T15:31:53.167520Z",
     "iopub.status.busy": "2022-11-26T15:31:53.166464Z",
     "iopub.status.idle": "2022-11-26T15:31:53.174640Z",
     "shell.execute_reply": "2022-11-26T15:31:53.173820Z",
     "shell.execute_reply.started": "2022-11-26T15:31:53.167485Z"
    }
   },
   "outputs": [],
   "source": [
    "embedding_dims = 20\n",
    "batch_size = 512\n",
    "epochs = 200\n",
    "n_workers = 8"
   ]
  },
  {
   "cell_type": "code",
   "execution_count": 20,
   "metadata": {
    "execution": {
     "iopub.execute_input": "2022-11-26T15:31:53.176596Z",
     "iopub.status.busy": "2022-11-26T15:31:53.175822Z",
     "iopub.status.idle": "2022-11-26T15:31:53.262936Z",
     "shell.execute_reply": "2022-11-26T15:31:53.261933Z",
     "shell.execute_reply.started": "2022-11-26T15:31:53.176562Z"
    }
   },
   "outputs": [],
   "source": [
    "def prepare_loaders(emb_tab=embeddings_table, \n",
    "                    emb_tab_train=embeddings_table_aug,\n",
    "                    y_column=df['assestment'].values, \n",
    "                    batch_size=batch_size,\n",
    "                    index_llist = [train_index, val_index, test_index],\n",
    "                    sizes= [10,3],\n",
    "                    n_workers=n_workers\n",
    "                   ):\n",
    "    train_index, val_index, test_index = index_llist\n",
    "    \n",
    "    train_index_more = np.concatenate([train_index.reshape(-1, 1)*10+i for i in range(10)], 1).reshape(-1)\n",
    "    \n",
    "    train_ds = FakeNews(emb_tab_train, np.repeat(y_column, 10), train_index_more, 1)\n",
    "    train_loader = DataLoader(train_ds, batch_size=batch_size, shuffle=True, num_workers=n_workers)\n",
    "\n",
    "    train_ds_label = FakeNewsLabel(emb_tab, y_column, train_index)\n",
    "    train_loader_label = DataLoader(train_ds_label, batch_size=batch_size, shuffle=True, num_workers=n_workers)\n",
    "\n",
    "    val_ds = FakeNews(emb_tab, y_column, val_index, 1)\n",
    "    val_loader = DataLoader(val_ds, batch_size=batch_size, shuffle=True, num_workers=n_workers)\n",
    "\n",
    "    test_ds = FakeNewsLabel(emb_tab, y_column, test_index)\n",
    "    test_loader = DataLoader(test_ds, batch_size=batch_size, shuffle=False, num_workers=n_workers)\n",
    "    \n",
    "    return train_loader, train_loader_label, val_loader, test_loader"
   ]
  },
  {
   "cell_type": "code",
   "execution_count": 21,
   "metadata": {},
   "outputs": [],
   "source": [
    "train_loader, train_loader_label, val_loader, test_loader = prepare_loaders(\n",
    "    emb_tab=embeddings_table, \n",
    "    emb_tab_train=embeddings_table_aug,\n",
    "    y_column=df['assestment'].values, \n",
    "    batch_size=batch_size,\n",
    "    index_llist = [train_index, val_index, test_index],\n",
    "    sizes= [10,3],\n",
    "    n_workers=n_workers\n",
    ")"
   ]
  },
  {
   "cell_type": "markdown",
   "metadata": {},
   "source": [
    "## Define Net"
   ]
  },
  {
   "cell_type": "code",
   "execution_count": 22,
   "metadata": {
    "execution": {
     "iopub.execute_input": "2022-11-27T15:08:47.701490Z",
     "iopub.status.busy": "2022-11-27T15:08:47.701050Z",
     "iopub.status.idle": "2022-11-27T15:08:47.710932Z",
     "shell.execute_reply": "2022-11-27T15:08:47.709828Z",
     "shell.execute_reply.started": "2022-11-27T15:08:47.701455Z"
    }
   },
   "outputs": [],
   "source": [
    "class Network(nn.Module):\n",
    "    def __init__(self, emb_dim=128, in_shape=1024):\n",
    "        super(Network, self).__init__()\n",
    "        \n",
    "        self.in_shape = in_shape\n",
    "        \n",
    "        self.fc = nn.Sequential(\n",
    "#             nn.Linear(1024, 1024),\n",
    "#             nn.BatchNorm1d(1024),\n",
    "#             nn.ReLU(),\n",
    "#             nn.Dropout(0.5),\n",
    "            \n",
    "            nn.Linear(in_shape, 512),\n",
    "            nn.BatchNorm1d(512),\n",
    "            nn.ReLU(),\n",
    "            nn.Dropout(0.5),\n",
    "            \n",
    "#             nn.Linear(512, 512),\n",
    "#             nn.BatchNorm1d(512),\n",
    "#             nn.ReLU(),\n",
    "#             nn.Dropout(0.5),\n",
    "            \n",
    "            nn.Linear(512, 256),\n",
    "            nn.BatchNorm1d(256),\n",
    "            nn.ReLU(),\n",
    "            nn.Dropout(0.5),\n",
    "            nn.Linear(256, emb_dim)\n",
    "            \n",
    "#             nn.Linear(1024, emb_dim),\n",
    "#             nn.BatchNorm1d(emb_dim),\n",
    "#             nn.ReLU(),\n",
    "#             nn.Dropout(0.5),\n",
    "        )\n",
    "        \n",
    "    def forward(self, x):\n",
    "        x = x.view(-1, self.in_shape)\n",
    "        x = self.fc(x)\n",
    "        return x"
   ]
  },
  {
   "cell_type": "code",
   "execution_count": 23,
   "metadata": {
    "execution": {
     "iopub.execute_input": "2022-11-26T15:31:53.265004Z",
     "iopub.status.busy": "2022-11-26T15:31:53.264315Z",
     "iopub.status.idle": "2022-11-26T15:31:55.885828Z",
     "shell.execute_reply": "2022-11-26T15:31:55.884697Z",
     "shell.execute_reply.started": "2022-11-26T15:31:53.264967Z"
    }
   },
   "outputs": [],
   "source": [
    "model = Network(embedding_dims,embeddings_table.shape[1])\n",
    "# model = torch.nn.DataParallel(model)\n",
    "# model = torch.jit.script(model).to(device)\n",
    "model = model.to(device)\n",
    "\n",
    "optimizer = optim.Adam(model.parameters(), lr=1e-4, weight_decay=1e-5)\n",
    "# optimizer = optim.SGD(model.parameters(), lr=0.01, momentum=0.5)\n",
    "# criterion = torch.jit.script(TripletLoss())\n",
    "criterion = TripletLoss()"
   ]
  },
  {
   "cell_type": "markdown",
   "metadata": {},
   "source": [
    "## Training loop"
   ]
  },
  {
   "cell_type": "code",
   "execution_count": 24,
   "metadata": {},
   "outputs": [],
   "source": [
    "def train_loop(\n",
    "    model=model,\n",
    "    train_loader=train_loader,\n",
    "    val_loader=val_loader,\n",
    "    epochs=100,\n",
    "    n_print=10,\n",
    "    if_norm=False,\n",
    "    optimizer=optim.Adam(model.parameters(), lr=1e-4, weight_decay=1e-5),\n",
    "    criterion=TripletLoss(),\n",
    "    n_model=0,\n",
    "    model_name='model_X.pt'\n",
    "):\n",
    "    val_prev = np.inf\n",
    "    \n",
    "    model.train()\n",
    "    for epoch in tqdm(range(epochs), desc=\"Epochs\"):\n",
    "        running_loss = []\n",
    "        for step, (anchor_claim, positive_claim, negative_claim, anchor_label) in enumerate(train_loader):\n",
    "            anchor_claim = anchor_claim.to(device) if if_norm else (anchor_claim / torch.norm(anchor_claim) ).to(device)\n",
    "            positive_claim = positive_claim.to(device) if if_norm else (positive_claim / torch.norm(positive_claim) ).to(device)\n",
    "            negative_claim = negative_claim.to(device) if if_norm else (negative_claim / torch.norm(negative_claim) ).to(device)\n",
    "            \n",
    "            optimizer.zero_grad()\n",
    "            anchor_out = model(anchor_claim)\n",
    "            positive_out = model(positive_claim)\n",
    "            negative_out = model(negative_claim)\n",
    "\n",
    "            loss = criterion(anchor_out, positive_out, negative_out)\n",
    "            loss.backward()\n",
    "            optimizer.step()\n",
    "\n",
    "            running_loss.append(loss.cpu().detach().numpy())\n",
    "        model.eval()\n",
    "        \n",
    "        val_loss = []\n",
    "        for anchor_claim, positive_claim, negative_claim, _ in val_loader:\n",
    "            anchor_claim = anchor_claim.to(device) if if_norm else (anchor_claim / torch.norm(anchor_claim) ).to(device)\n",
    "            positive_claim = positive_claim.to(device) if if_norm else (positive_claim / torch.norm(positive_claim) ).to(device)\n",
    "            negative_claim = negative_claim.to(device) if if_norm else (negative_claim / torch.norm(negative_claim) ).to(device)\n",
    "\n",
    "            anchor_out = model(anchor_claim)\n",
    "            positive_out = model(positive_claim)\n",
    "            negative_out = model(negative_claim)\n",
    "\n",
    "            loss = criterion(anchor_out, positive_out, negative_out)\n",
    "            val_loss.append(loss.cpu().detach().numpy())\n",
    "\n",
    "        model.train()\n",
    "        \n",
    "        if np.mean(val_loss) < val_prev:\n",
    "            val_prev = np.mean(val_loss)\n",
    "            torch.save(model, f'models/{model_name}')\n",
    "\n",
    "        if epoch%n_print == 0:\n",
    "            print(f\"{n_model} Epoch: {epoch+1}/{epochs} - Train Loss: {np.mean(running_loss):.4f};\",\n",
    "                  f\" Val Loss: {np.mean(val_loss):.4f} Best Val loss {val_prev:.4f}\")\n"
   ]
  },
  {
   "cell_type": "code",
   "execution_count": 26,
   "metadata": {},
   "outputs": [
    {
     "data": {
      "application/vnd.jupyter.widget-view+json": {
       "model_id": "84c9cc9f0fed4c319d831c93c2aec1bc",
       "version_major": 2,
       "version_minor": 0
      },
      "text/plain": [
       "Epochs:   0%|          | 0/100 [00:00<?, ?it/s]"
      ]
     },
     "metadata": {},
     "output_type": "display_data"
    },
    {
     "name": "stdout",
     "output_type": "stream",
     "text": [
      "0 Epoch: 1/100 - Train Loss: 3.0746;  Val Loss: 1.2512 Best Val loss 1.2512\n"
     ]
    },
    {
     "ename": "KeyboardInterrupt",
     "evalue": "",
     "output_type": "error",
     "traceback": [
      "\u001b[0;31m---------------------------------------------------------------------------\u001b[0m",
      "\u001b[0;31mKeyboardInterrupt\u001b[0m                         Traceback (most recent call last)",
      "Cell \u001b[0;32mIn [26], line 1\u001b[0m\n\u001b[0;32m----> 1\u001b[0m \u001b[43mtrain_loop\u001b[49m\u001b[43m(\u001b[49m\n\u001b[1;32m      2\u001b[0m \u001b[43m    \u001b[49m\u001b[43mmodel\u001b[49m\u001b[38;5;241;43m=\u001b[39;49m\u001b[43mNetwork\u001b[49m\u001b[43m(\u001b[49m\u001b[43membedding_dims\u001b[49m\u001b[43m,\u001b[49m\u001b[43membeddings_table\u001b[49m\u001b[38;5;241;43m.\u001b[39;49m\u001b[43mshape\u001b[49m\u001b[43m[\u001b[49m\u001b[38;5;241;43m1\u001b[39;49m\u001b[43m]\u001b[49m\u001b[43m)\u001b[49m\u001b[38;5;241;43m.\u001b[39;49m\u001b[43mto\u001b[49m\u001b[43m(\u001b[49m\u001b[43mdevice\u001b[49m\u001b[43m)\u001b[49m\u001b[43m,\u001b[49m\n\u001b[1;32m      3\u001b[0m \u001b[43m    \u001b[49m\u001b[43mtrain_loader\u001b[49m\u001b[38;5;241;43m=\u001b[39;49m\u001b[43mtrain_loader\u001b[49m\u001b[43m,\u001b[49m\n\u001b[1;32m      4\u001b[0m \u001b[43m    \u001b[49m\u001b[43mval_loader\u001b[49m\u001b[38;5;241;43m=\u001b[39;49m\u001b[43mval_loader\u001b[49m\u001b[43m,\u001b[49m\n\u001b[1;32m      5\u001b[0m \u001b[43m    \u001b[49m\u001b[43mepochs\u001b[49m\u001b[38;5;241;43m=\u001b[39;49m\u001b[38;5;241;43m100\u001b[39;49m\u001b[43m,\u001b[49m\n\u001b[1;32m      6\u001b[0m \u001b[43m    \u001b[49m\u001b[43mn_print\u001b[49m\u001b[38;5;241;43m=\u001b[39;49m\u001b[38;5;241;43m10\u001b[39;49m\u001b[43m,\u001b[49m\n\u001b[1;32m      7\u001b[0m \u001b[43m    \u001b[49m\u001b[43mif_norm\u001b[49m\u001b[38;5;241;43m=\u001b[39;49m\u001b[38;5;28;43;01mFalse\u001b[39;49;00m\u001b[43m,\u001b[49m\n\u001b[1;32m      8\u001b[0m \u001b[43m    \u001b[49m\u001b[43moptimizer\u001b[49m\u001b[38;5;241;43m=\u001b[39;49m\u001b[43moptim\u001b[49m\u001b[38;5;241;43m.\u001b[39;49m\u001b[43mAdam\u001b[49m\u001b[43m(\u001b[49m\u001b[43mmodel\u001b[49m\u001b[38;5;241;43m.\u001b[39;49m\u001b[43mparameters\u001b[49m\u001b[43m(\u001b[49m\u001b[43m)\u001b[49m\u001b[43m,\u001b[49m\u001b[43m \u001b[49m\u001b[43mlr\u001b[49m\u001b[38;5;241;43m=\u001b[39;49m\u001b[38;5;241;43m1e-4\u001b[39;49m\u001b[43m,\u001b[49m\u001b[43m \u001b[49m\u001b[43mweight_decay\u001b[49m\u001b[38;5;241;43m=\u001b[39;49m\u001b[38;5;241;43m1e-5\u001b[39;49m\u001b[43m)\u001b[49m\u001b[43m,\u001b[49m\n\u001b[1;32m      9\u001b[0m \u001b[43m    \u001b[49m\u001b[43mcriterion\u001b[49m\u001b[38;5;241;43m=\u001b[39;49m\u001b[43mTripletLoss\u001b[49m\u001b[43m(\u001b[49m\u001b[43m)\u001b[49m\u001b[43m,\u001b[49m\n\u001b[1;32m     10\u001b[0m \u001b[43m    \u001b[49m\u001b[43mn_model\u001b[49m\u001b[38;5;241;43m=\u001b[39;49m\u001b[38;5;241;43m0\u001b[39;49m\u001b[43m,\u001b[49m\n\u001b[1;32m     11\u001b[0m \u001b[43m    \u001b[49m\u001b[43mmodel_name\u001b[49m\u001b[38;5;241;43m=\u001b[39;49m\u001b[38;5;124;43m'\u001b[39;49m\u001b[38;5;124;43mmodel_XXX.pt\u001b[39;49m\u001b[38;5;124;43m'\u001b[39;49m\n\u001b[1;32m     12\u001b[0m \u001b[43m)\u001b[49m\n",
      "Cell \u001b[0;32mIn [24], line 30\u001b[0m, in \u001b[0;36mtrain_loop\u001b[0;34m(model, train_loader, val_loader, epochs, n_print, if_norm, optimizer, criterion, n_model, model_name)\u001b[0m\n\u001b[1;32m     28\u001b[0m     loss \u001b[38;5;241m=\u001b[39m criterion(anchor_out, positive_out, negative_out)\n\u001b[1;32m     29\u001b[0m     loss\u001b[38;5;241m.\u001b[39mbackward()\n\u001b[0;32m---> 30\u001b[0m     \u001b[43moptimizer\u001b[49m\u001b[38;5;241;43m.\u001b[39;49m\u001b[43mstep\u001b[49m\u001b[43m(\u001b[49m\u001b[43m)\u001b[49m\n\u001b[1;32m     32\u001b[0m     running_loss\u001b[38;5;241m.\u001b[39mappend(loss\u001b[38;5;241m.\u001b[39mcpu()\u001b[38;5;241m.\u001b[39mdetach()\u001b[38;5;241m.\u001b[39mnumpy())\n\u001b[1;32m     33\u001b[0m model\u001b[38;5;241m.\u001b[39meval()\n",
      "File \u001b[0;32m~/anaconda3/envs/nlp/lib/python3.9/site-packages/torch/optim/optimizer.py:113\u001b[0m, in \u001b[0;36mOptimizer._hook_for_profile.<locals>.profile_hook_step.<locals>.wrapper\u001b[0;34m(*args, **kwargs)\u001b[0m\n\u001b[1;32m    111\u001b[0m profile_name \u001b[38;5;241m=\u001b[39m \u001b[38;5;124m\"\u001b[39m\u001b[38;5;124mOptimizer.step#\u001b[39m\u001b[38;5;132;01m{}\u001b[39;00m\u001b[38;5;124m.step\u001b[39m\u001b[38;5;124m\"\u001b[39m\u001b[38;5;241m.\u001b[39mformat(obj\u001b[38;5;241m.\u001b[39m\u001b[38;5;18m__class__\u001b[39m\u001b[38;5;241m.\u001b[39m\u001b[38;5;18m__name__\u001b[39m)\n\u001b[1;32m    112\u001b[0m \u001b[38;5;28;01mwith\u001b[39;00m torch\u001b[38;5;241m.\u001b[39mautograd\u001b[38;5;241m.\u001b[39mprofiler\u001b[38;5;241m.\u001b[39mrecord_function(profile_name):\n\u001b[0;32m--> 113\u001b[0m     \u001b[38;5;28;01mreturn\u001b[39;00m \u001b[43mfunc\u001b[49m\u001b[43m(\u001b[49m\u001b[38;5;241;43m*\u001b[39;49m\u001b[43margs\u001b[49m\u001b[43m,\u001b[49m\u001b[43m \u001b[49m\u001b[38;5;241;43m*\u001b[39;49m\u001b[38;5;241;43m*\u001b[39;49m\u001b[43mkwargs\u001b[49m\u001b[43m)\u001b[49m\n",
      "File \u001b[0;32m~/anaconda3/envs/nlp/lib/python3.9/site-packages/torch/autograd/grad_mode.py:27\u001b[0m, in \u001b[0;36m_DecoratorContextManager.__call__.<locals>.decorate_context\u001b[0;34m(*args, **kwargs)\u001b[0m\n\u001b[1;32m     24\u001b[0m \u001b[38;5;129m@functools\u001b[39m\u001b[38;5;241m.\u001b[39mwraps(func)\n\u001b[1;32m     25\u001b[0m \u001b[38;5;28;01mdef\u001b[39;00m \u001b[38;5;21mdecorate_context\u001b[39m(\u001b[38;5;241m*\u001b[39margs, \u001b[38;5;241m*\u001b[39m\u001b[38;5;241m*\u001b[39mkwargs):\n\u001b[1;32m     26\u001b[0m     \u001b[38;5;28;01mwith\u001b[39;00m \u001b[38;5;28mself\u001b[39m\u001b[38;5;241m.\u001b[39mclone():\n\u001b[0;32m---> 27\u001b[0m         \u001b[38;5;28;01mreturn\u001b[39;00m \u001b[43mfunc\u001b[49m\u001b[43m(\u001b[49m\u001b[38;5;241;43m*\u001b[39;49m\u001b[43margs\u001b[49m\u001b[43m,\u001b[49m\u001b[43m \u001b[49m\u001b[38;5;241;43m*\u001b[39;49m\u001b[38;5;241;43m*\u001b[39;49m\u001b[43mkwargs\u001b[49m\u001b[43m)\u001b[49m\n",
      "File \u001b[0;32m~/anaconda3/envs/nlp/lib/python3.9/site-packages/torch/optim/adam.py:157\u001b[0m, in \u001b[0;36mAdam.step\u001b[0;34m(self, closure)\u001b[0m\n\u001b[1;32m    153\u001b[0m                 max_exp_avg_sqs\u001b[38;5;241m.\u001b[39mappend(state[\u001b[38;5;124m'\u001b[39m\u001b[38;5;124mmax_exp_avg_sq\u001b[39m\u001b[38;5;124m'\u001b[39m])\n\u001b[1;32m    155\u001b[0m             state_steps\u001b[38;5;241m.\u001b[39mappend(state[\u001b[38;5;124m'\u001b[39m\u001b[38;5;124mstep\u001b[39m\u001b[38;5;124m'\u001b[39m])\n\u001b[0;32m--> 157\u001b[0m     \u001b[43madam\u001b[49m\u001b[43m(\u001b[49m\u001b[43mparams_with_grad\u001b[49m\u001b[43m,\u001b[49m\n\u001b[1;32m    158\u001b[0m \u001b[43m         \u001b[49m\u001b[43mgrads\u001b[49m\u001b[43m,\u001b[49m\n\u001b[1;32m    159\u001b[0m \u001b[43m         \u001b[49m\u001b[43mexp_avgs\u001b[49m\u001b[43m,\u001b[49m\n\u001b[1;32m    160\u001b[0m \u001b[43m         \u001b[49m\u001b[43mexp_avg_sqs\u001b[49m\u001b[43m,\u001b[49m\n\u001b[1;32m    161\u001b[0m \u001b[43m         \u001b[49m\u001b[43mmax_exp_avg_sqs\u001b[49m\u001b[43m,\u001b[49m\n\u001b[1;32m    162\u001b[0m \u001b[43m         \u001b[49m\u001b[43mstate_steps\u001b[49m\u001b[43m,\u001b[49m\n\u001b[1;32m    163\u001b[0m \u001b[43m         \u001b[49m\u001b[43mamsgrad\u001b[49m\u001b[38;5;241;43m=\u001b[39;49m\u001b[43mgroup\u001b[49m\u001b[43m[\u001b[49m\u001b[38;5;124;43m'\u001b[39;49m\u001b[38;5;124;43mamsgrad\u001b[39;49m\u001b[38;5;124;43m'\u001b[39;49m\u001b[43m]\u001b[49m\u001b[43m,\u001b[49m\n\u001b[1;32m    164\u001b[0m \u001b[43m         \u001b[49m\u001b[43mbeta1\u001b[49m\u001b[38;5;241;43m=\u001b[39;49m\u001b[43mbeta1\u001b[49m\u001b[43m,\u001b[49m\n\u001b[1;32m    165\u001b[0m \u001b[43m         \u001b[49m\u001b[43mbeta2\u001b[49m\u001b[38;5;241;43m=\u001b[39;49m\u001b[43mbeta2\u001b[49m\u001b[43m,\u001b[49m\n\u001b[1;32m    166\u001b[0m \u001b[43m         \u001b[49m\u001b[43mlr\u001b[49m\u001b[38;5;241;43m=\u001b[39;49m\u001b[43mgroup\u001b[49m\u001b[43m[\u001b[49m\u001b[38;5;124;43m'\u001b[39;49m\u001b[38;5;124;43mlr\u001b[39;49m\u001b[38;5;124;43m'\u001b[39;49m\u001b[43m]\u001b[49m\u001b[43m,\u001b[49m\n\u001b[1;32m    167\u001b[0m \u001b[43m         \u001b[49m\u001b[43mweight_decay\u001b[49m\u001b[38;5;241;43m=\u001b[39;49m\u001b[43mgroup\u001b[49m\u001b[43m[\u001b[49m\u001b[38;5;124;43m'\u001b[39;49m\u001b[38;5;124;43mweight_decay\u001b[39;49m\u001b[38;5;124;43m'\u001b[39;49m\u001b[43m]\u001b[49m\u001b[43m,\u001b[49m\n\u001b[1;32m    168\u001b[0m \u001b[43m         \u001b[49m\u001b[43meps\u001b[49m\u001b[38;5;241;43m=\u001b[39;49m\u001b[43mgroup\u001b[49m\u001b[43m[\u001b[49m\u001b[38;5;124;43m'\u001b[39;49m\u001b[38;5;124;43meps\u001b[39;49m\u001b[38;5;124;43m'\u001b[39;49m\u001b[43m]\u001b[49m\u001b[43m,\u001b[49m\n\u001b[1;32m    169\u001b[0m \u001b[43m         \u001b[49m\u001b[43mmaximize\u001b[49m\u001b[38;5;241;43m=\u001b[39;49m\u001b[43mgroup\u001b[49m\u001b[43m[\u001b[49m\u001b[38;5;124;43m'\u001b[39;49m\u001b[38;5;124;43mmaximize\u001b[39;49m\u001b[38;5;124;43m'\u001b[39;49m\u001b[43m]\u001b[49m\u001b[43m,\u001b[49m\n\u001b[1;32m    170\u001b[0m \u001b[43m         \u001b[49m\u001b[43mforeach\u001b[49m\u001b[38;5;241;43m=\u001b[39;49m\u001b[43mgroup\u001b[49m\u001b[43m[\u001b[49m\u001b[38;5;124;43m'\u001b[39;49m\u001b[38;5;124;43mforeach\u001b[39;49m\u001b[38;5;124;43m'\u001b[39;49m\u001b[43m]\u001b[49m\u001b[43m,\u001b[49m\n\u001b[1;32m    171\u001b[0m \u001b[43m         \u001b[49m\u001b[43mcapturable\u001b[49m\u001b[38;5;241;43m=\u001b[39;49m\u001b[43mgroup\u001b[49m\u001b[43m[\u001b[49m\u001b[38;5;124;43m'\u001b[39;49m\u001b[38;5;124;43mcapturable\u001b[39;49m\u001b[38;5;124;43m'\u001b[39;49m\u001b[43m]\u001b[49m\u001b[43m)\u001b[49m\n\u001b[1;32m    173\u001b[0m \u001b[38;5;28;01mreturn\u001b[39;00m loss\n",
      "File \u001b[0;32m~/anaconda3/envs/nlp/lib/python3.9/site-packages/torch/optim/adam.py:213\u001b[0m, in \u001b[0;36madam\u001b[0;34m(params, grads, exp_avgs, exp_avg_sqs, max_exp_avg_sqs, state_steps, foreach, capturable, amsgrad, beta1, beta2, lr, weight_decay, eps, maximize)\u001b[0m\n\u001b[1;32m    210\u001b[0m \u001b[38;5;28;01melse\u001b[39;00m:\n\u001b[1;32m    211\u001b[0m     func \u001b[38;5;241m=\u001b[39m _single_tensor_adam\n\u001b[0;32m--> 213\u001b[0m \u001b[43mfunc\u001b[49m\u001b[43m(\u001b[49m\u001b[43mparams\u001b[49m\u001b[43m,\u001b[49m\n\u001b[1;32m    214\u001b[0m \u001b[43m     \u001b[49m\u001b[43mgrads\u001b[49m\u001b[43m,\u001b[49m\n\u001b[1;32m    215\u001b[0m \u001b[43m     \u001b[49m\u001b[43mexp_avgs\u001b[49m\u001b[43m,\u001b[49m\n\u001b[1;32m    216\u001b[0m \u001b[43m     \u001b[49m\u001b[43mexp_avg_sqs\u001b[49m\u001b[43m,\u001b[49m\n\u001b[1;32m    217\u001b[0m \u001b[43m     \u001b[49m\u001b[43mmax_exp_avg_sqs\u001b[49m\u001b[43m,\u001b[49m\n\u001b[1;32m    218\u001b[0m \u001b[43m     \u001b[49m\u001b[43mstate_steps\u001b[49m\u001b[43m,\u001b[49m\n\u001b[1;32m    219\u001b[0m \u001b[43m     \u001b[49m\u001b[43mamsgrad\u001b[49m\u001b[38;5;241;43m=\u001b[39;49m\u001b[43mamsgrad\u001b[49m\u001b[43m,\u001b[49m\n\u001b[1;32m    220\u001b[0m \u001b[43m     \u001b[49m\u001b[43mbeta1\u001b[49m\u001b[38;5;241;43m=\u001b[39;49m\u001b[43mbeta1\u001b[49m\u001b[43m,\u001b[49m\n\u001b[1;32m    221\u001b[0m \u001b[43m     \u001b[49m\u001b[43mbeta2\u001b[49m\u001b[38;5;241;43m=\u001b[39;49m\u001b[43mbeta2\u001b[49m\u001b[43m,\u001b[49m\n\u001b[1;32m    222\u001b[0m \u001b[43m     \u001b[49m\u001b[43mlr\u001b[49m\u001b[38;5;241;43m=\u001b[39;49m\u001b[43mlr\u001b[49m\u001b[43m,\u001b[49m\n\u001b[1;32m    223\u001b[0m \u001b[43m     \u001b[49m\u001b[43mweight_decay\u001b[49m\u001b[38;5;241;43m=\u001b[39;49m\u001b[43mweight_decay\u001b[49m\u001b[43m,\u001b[49m\n\u001b[1;32m    224\u001b[0m \u001b[43m     \u001b[49m\u001b[43meps\u001b[49m\u001b[38;5;241;43m=\u001b[39;49m\u001b[43meps\u001b[49m\u001b[43m,\u001b[49m\n\u001b[1;32m    225\u001b[0m \u001b[43m     \u001b[49m\u001b[43mmaximize\u001b[49m\u001b[38;5;241;43m=\u001b[39;49m\u001b[43mmaximize\u001b[49m\u001b[43m,\u001b[49m\n\u001b[1;32m    226\u001b[0m \u001b[43m     \u001b[49m\u001b[43mcapturable\u001b[49m\u001b[38;5;241;43m=\u001b[39;49m\u001b[43mcapturable\u001b[49m\u001b[43m)\u001b[49m\n",
      "File \u001b[0;32m~/anaconda3/envs/nlp/lib/python3.9/site-packages/torch/optim/adam.py:307\u001b[0m, in \u001b[0;36m_single_tensor_adam\u001b[0;34m(params, grads, exp_avgs, exp_avg_sqs, max_exp_avg_sqs, state_steps, amsgrad, beta1, beta2, lr, weight_decay, eps, maximize, capturable)\u001b[0m\n\u001b[1;32m    304\u001b[0m \u001b[38;5;28;01melse\u001b[39;00m:\n\u001b[1;32m    305\u001b[0m     denom \u001b[38;5;241m=\u001b[39m (exp_avg_sq\u001b[38;5;241m.\u001b[39msqrt() \u001b[38;5;241m/\u001b[39m bias_correction2_sqrt)\u001b[38;5;241m.\u001b[39madd_(eps)\n\u001b[0;32m--> 307\u001b[0m \u001b[43mparam\u001b[49m\u001b[38;5;241;43m.\u001b[39;49m\u001b[43maddcdiv_\u001b[49m\u001b[43m(\u001b[49m\u001b[43mexp_avg\u001b[49m\u001b[43m,\u001b[49m\u001b[43m \u001b[49m\u001b[43mdenom\u001b[49m\u001b[43m,\u001b[49m\u001b[43m \u001b[49m\u001b[43mvalue\u001b[49m\u001b[38;5;241;43m=\u001b[39;49m\u001b[38;5;241;43m-\u001b[39;49m\u001b[43mstep_size\u001b[49m\u001b[43m)\u001b[49m\n",
      "\u001b[0;31mKeyboardInterrupt\u001b[0m: "
     ]
    }
   ],
   "source": [
    "train_loop(\n",
    "    model=Network(embedding_dims,embeddings_table.shape[1]).to(device),\n",
    "    train_loader=train_loader,\n",
    "    val_loader=val_loader,\n",
    "    epochs=100,\n",
    "    n_print=10,\n",
    "    if_norm=False,\n",
    "    optimizer=optim.Adam(model.parameters(), lr=1e-4, weight_decay=1e-5),\n",
    "    criterion=TripletLoss(),\n",
    "    n_model=0,\n",
    "    model_name='model_XXX.pt'\n",
    ")"
   ]
  },
  {
   "cell_type": "code",
   "execution_count": 26,
   "metadata": {
    "execution": {
     "iopub.execute_input": "2022-11-26T15:31:55.916175Z",
     "iopub.status.busy": "2022-11-26T15:31:55.915536Z",
     "iopub.status.idle": "2022-11-26T15:53:15.543110Z",
     "shell.execute_reply": "2022-11-26T15:53:15.541293Z",
     "shell.execute_reply.started": "2022-11-26T15:31:55.916135Z"
    }
   },
   "outputs": [],
   "source": [
    "# # train_loss_out = []\n",
    "# # val_loss_out = []\n",
    "\n",
    "# val_prev = np.inf\n",
    "\n",
    "# if_norm = False\n",
    "# loss_vec = TripletLossVector()\n",
    "# k_top = None\n",
    "\n",
    "# model.train()\n",
    "# for epoch in tqdm(range(epochs), desc=\"Epochs\"):\n",
    "#     running_loss = []\n",
    "#     for step, (anchor_claim, positive_claim, negative_claim, anchor_label) in enumerate(train_loader):\n",
    "#         anchor_claim = anchor_claim.to(device) if if_norm else (anchor_claim / torch.norm(anchor_claim) ).to(device)\n",
    "#         positive_claim = positive_claim.to(device) if if_norm else (positive_claim / torch.norm(positive_claim) ).to(device)\n",
    "#         negative_claim = negative_claim.to(device) if if_norm else (negative_claim / torch.norm(negative_claim) ).to(device)\n",
    "        \n",
    "#         if k_top:\n",
    "#             losses_order = torch.argsort(\n",
    "#                 loss_vec.get_loss(anchor_claim, positive_claim, negative_claim),\n",
    "#                 descending=True\n",
    "#             )[-k_top:]\n",
    "\n",
    "#             anchor_claim = anchor_claim[losses_order]\n",
    "#             positive_claim = positive_claim[losses_order]\n",
    "#             negative_claim = negative_claim[losses_order]\n",
    "                \n",
    "#         optimizer.zero_grad()\n",
    "#         anchor_out = model(anchor_claim)\n",
    "#         positive_out = model(positive_claim)\n",
    "#         negative_out = model(negative_claim)\n",
    "        \n",
    "#         loss = criterion(anchor_out, positive_out, negative_out)\n",
    "#         loss.backward()\n",
    "#         optimizer.step()\n",
    "        \n",
    "#         running_loss.append(loss.cpu().detach().numpy())\n",
    "#     model.eval()\n",
    "    \n",
    "#     val_loss = []\n",
    "#     for anchor_claim, positive_claim, negative_claim, _ in val_loader:\n",
    "#         anchor_claim = anchor_claim.to(device) if if_norm else (anchor_claim / torch.norm(anchor_claim) ).to(device)\n",
    "#         positive_claim = positive_claim.to(device) if if_norm else (positive_claim / torch.norm(positive_claim) ).to(device)\n",
    "#         negative_claim = negative_claim.to(device) if if_norm else (negative_claim / torch.norm(negative_claim) ).to(device)\n",
    "\n",
    "#         anchor_out = model(anchor_claim)\n",
    "#         positive_out = model(positive_claim)\n",
    "#         negative_out = model(negative_claim)\n",
    "        \n",
    "#         loss = criterion(anchor_out, positive_out, negative_out)\n",
    "#         val_loss.append(loss.cpu().detach().numpy())\n",
    "    \n",
    "#     model.train()\n",
    "    \n",
    "# #     train_loss_out.append(np.mean(running_loss))\n",
    "# #     val_loss_out.append(np.mean(val_loss))\n",
    "    \n",
    "#     if np.mean(val_loss) < val_prev:\n",
    "# #         print(epoch, f'saved {np.mean(val_loss):.4f} < {val_prev:.4f}')\n",
    "#         val_prev = np.mean(val_loss)\n",
    "#         torch.save(model, 'models/model_03.pt')\n",
    "        \n",
    "#     if epoch%10 == 0:\n",
    "#         print(f\"Epoch: {epoch+1}/{epochs} - Train Loss: {np.mean(running_loss):.4f};\",\n",
    "#               f\" Val Loss: {np.mean(val_loss):.4f} Best Val loss {val_prev:.4f}\")\n",
    "        \n",
    "# #     if epoch == 20:\n",
    "# #         for param_group in optimizer.param_groups:\n",
    "# #             param_group['lr'] = 0.001\n",
    "# #     elif epoch == 50:\n",
    "# #         for param_group in optimizer.param_groups:\n",
    "# #             param_group['lr'] = 0.0001\n",
    "# #     elif epoch == 300:\n",
    "# #         for param_group in optimizer.param_groups:\n",
    "# #             param_group['lr'] = 0.00001"
   ]
  },
  {
   "cell_type": "code",
   "execution_count": 52,
   "metadata": {
    "execution": {
     "iopub.execute_input": "2022-11-26T15:53:22.761139Z",
     "iopub.status.busy": "2022-11-26T15:53:22.760751Z",
     "iopub.status.idle": "2022-11-26T15:53:22.779695Z",
     "shell.execute_reply": "2022-11-26T15:53:22.778795Z",
     "shell.execute_reply.started": "2022-11-26T15:53:22.761106Z"
    }
   },
   "outputs": [],
   "source": [
    "model = torch.load('models/model_XX.pt')"
   ]
  },
  {
   "cell_type": "code",
   "execution_count": 53,
   "metadata": {
    "execution": {
     "iopub.execute_input": "2022-11-26T15:53:23.103530Z",
     "iopub.status.busy": "2022-11-26T15:53:23.103194Z",
     "iopub.status.idle": "2022-11-26T15:53:23.338509Z",
     "shell.execute_reply": "2022-11-26T15:53:23.337437Z",
     "shell.execute_reply.started": "2022-11-26T15:53:23.103502Z"
    }
   },
   "outputs": [
    {
     "data": {
      "application/vnd.jupyter.widget-view+json": {
       "model_id": "d047e4dfa35742cca20d5cd03f977de8",
       "version_major": 2,
       "version_minor": 0
      },
      "text/plain": [
       "  0%|          | 0/11 [00:00<?, ?it/s]"
      ]
     },
     "metadata": {},
     "output_type": "display_data"
    },
    {
     "data": {
      "text/plain": [
       "(5232, 20)"
      ]
     },
     "execution_count": 53,
     "metadata": {},
     "output_type": "execute_result"
    }
   ],
   "source": [
    "train_results = []\n",
    "labels = []\n",
    "\n",
    "if_norm = False\n",
    "\n",
    "model.eval()\n",
    "with torch.no_grad():\n",
    "    for anchor_claim, label in tqdm(train_loader_label):\n",
    "        anchor_claim = anchor_claim.to(device) if if_norm else (anchor_claim / torch.norm(anchor_claim) ).to(device)\n",
    "        \n",
    "        train_results.append(model(anchor_claim).cpu().numpy())\n",
    "        labels.append(label)\n",
    "\n",
    "train_results = np.concatenate(train_results) \n",
    "labels = np.concatenate(labels)\n",
    "train_results.shape"
   ]
  },
  {
   "cell_type": "code",
   "execution_count": 54,
   "metadata": {
    "execution": {
     "iopub.execute_input": "2022-11-26T15:53:27.431015Z",
     "iopub.status.busy": "2022-11-26T15:53:27.430648Z",
     "iopub.status.idle": "2022-11-26T15:53:27.592049Z",
     "shell.execute_reply": "2022-11-26T15:53:27.590934Z",
     "shell.execute_reply.started": "2022-11-26T15:53:27.430984Z"
    }
   },
   "outputs": [
    {
     "data": {
      "application/vnd.jupyter.widget-view+json": {
       "model_id": "6c780daa0c9b468682394bf58f2f41f1",
       "version_major": 2,
       "version_minor": 0
      },
      "text/plain": [
       "  0%|          | 0/2 [00:00<?, ?it/s]"
      ]
     },
     "metadata": {},
     "output_type": "display_data"
    },
    {
     "data": {
      "text/plain": [
       "(654, 20)"
      ]
     },
     "execution_count": 54,
     "metadata": {},
     "output_type": "execute_result"
    }
   ],
   "source": [
    "test_results = []\n",
    "test_labels = []\n",
    "\n",
    "model.eval()\n",
    "with torch.no_grad():\n",
    "    for anchor_claim, label in tqdm(test_loader):\n",
    "        anchor_claim = anchor_claim.to(device) if if_norm else (anchor_claim / torch.norm(anchor_claim) ).to(device)\n",
    "        \n",
    "        test_results.append(model(anchor_claim).cpu().numpy())\n",
    "        test_labels.append(label)\n",
    "        \n",
    "test_results = np.concatenate(test_results)\n",
    "test_labels = np.concatenate(test_labels)\n",
    "test_results.shape"
   ]
  },
  {
   "cell_type": "code",
   "execution_count": 55,
   "metadata": {},
   "outputs": [],
   "source": [
    "reducer_nn = umap.UMAP()\n",
    "scaler_nn = StandardScaler().fit(train_results)\n",
    "\n",
    "umap_nn_train = train_results if True else reducer_nn.fit_transform(train_results)\n",
    "umap_nn_test = test_results if True else reducer_nn.transform(test_results)"
   ]
  },
  {
   "cell_type": "code",
   "execution_count": 56,
   "metadata": {},
   "outputs": [
    {
     "data": {
      "image/png": "[encoded data removed]",
      "text/plain": [
       "<Figure size 1400x600 with 2 Axes>"
      ]
     },
     "metadata": {},
     "output_type": "display_data"
    }
   ],
   "source": [
    "plt.figure(figsize=(14, 6), facecolor=\"azure\")\n",
    "\n",
    "plt.subplot(1, 2, 1)\n",
    "for label in np.unique(labels):\n",
    "    tmp = umap_nn_train[labels==label]\n",
    "    plt.scatter(tmp[:, 0], tmp[:, 1], label=label)\n",
    "    plt.title('Train')\n",
    "\n",
    "plt.subplot(1, 2, 2)\n",
    "for label in np.unique(test_labels):\n",
    "    tmp = umap_nn_test[test_labels==label]\n",
    "    plt.scatter(tmp[:, 0], tmp[:, 1], label=label)\n",
    "    plt.title('Test')\n",
    "\n",
    "plt.legend()\n",
    "plt.show()"
   ]
  },
  {
   "cell_type": "code",
   "execution_count": 57,
   "metadata": {
    "execution": {
     "iopub.execute_input": "2022-11-26T15:53:33.387287Z",
     "iopub.status.busy": "2022-11-26T15:53:33.386511Z",
     "iopub.status.idle": "2022-11-26T15:53:33.402885Z",
     "shell.execute_reply": "2022-11-26T15:53:33.401582Z",
     "shell.execute_reply.started": "2022-11-26T15:53:33.387245Z"
    }
   },
   "outputs": [],
   "source": [
    "clf_lr_1 = LogisticRegression(max_iter=5000, C=1, penalty='l2', solver='liblinear')"
   ]
  },
  {
   "cell_type": "code",
   "execution_count": 58,
   "metadata": {
    "execution": {
     "iopub.execute_input": "2022-11-26T15:53:34.027251Z",
     "iopub.status.busy": "2022-11-26T15:53:34.026899Z",
     "iopub.status.idle": "2022-11-26T15:53:34.163303Z",
     "shell.execute_reply": "2022-11-26T15:53:34.161895Z",
     "shell.execute_reply.started": "2022-11-26T15:53:34.027223Z"
    }
   },
   "outputs": [],
   "source": [
    "results = {\n",
    "    'test_accuracy' : [],\n",
    "    'test_precision' : [],\n",
    "    'test_recall' : [],\n",
    "    'test_f1' : []\n",
    "}\n",
    "\n",
    "\n",
    "y_train_t = labels\n",
    "X_train_t = train_results\n",
    "y_test_t = test_labels\n",
    "X_test_t = test_results\n",
    "\n",
    "clf_lr_1.fit(X_train_t, y_train_t)\n",
    "\n",
    "y_pred = clf_lr_1.predict(X_test_t)\n",
    "\n",
    "results['test_accuracy'].append( accuracy_score(y_test_t, y_pred) ) \n",
    "results['test_precision'].append( precision_score(y_test_t, y_pred) ) \n",
    "results['test_recall'].append( recall_score(y_test_t, y_pred) ) \n",
    "results['test_f1'].append( f1_score(y_test_t, y_pred) ) \n",
    "\n",
    "metrics = {\n",
    "    \"Accuracy\": np.array(results['test_accuracy']),\n",
    "#     \"Precision\": np.array(results['test_precision']).mean(),\n",
    "#     \"Recall\": np.array(results['test_recall']).mean(),\n",
    "    \"F1 Score\":  np.array(results['test_f1']),\n",
    "    }"
   ]
  },
  {
   "cell_type": "code",
   "execution_count": 59,
   "metadata": {
    "execution": {
     "iopub.execute_input": "2022-11-26T15:53:34.788113Z",
     "iopub.status.busy": "2022-11-26T15:53:34.787753Z",
     "iopub.status.idle": "2022-11-26T15:53:34.799721Z",
     "shell.execute_reply": "2022-11-26T15:53:34.798092Z",
     "shell.execute_reply.started": "2022-11-26T15:53:34.788083Z"
    }
   },
   "outputs": [
    {
     "data": {
      "text/plain": [
       "array([[237, 100],\n",
       "       [ 98, 219]])"
      ]
     },
     "execution_count": 59,
     "metadata": {},
     "output_type": "execute_result"
    }
   ],
   "source": [
    "confusion_matrix(y_test_t, y_pred)"
   ]
  },
  {
   "cell_type": "code",
   "execution_count": 60,
   "metadata": {
    "execution": {
     "iopub.execute_input": "2022-11-26T15:53:36.407665Z",
     "iopub.status.busy": "2022-11-26T15:53:36.406494Z",
     "iopub.status.idle": "2022-11-26T15:53:36.415616Z",
     "shell.execute_reply": "2022-11-26T15:53:36.414441Z",
     "shell.execute_reply.started": "2022-11-26T15:53:36.407618Z"
    }
   },
   "outputs": [
    {
     "data": {
      "text/plain": [
       "{'Accuracy': array([0.69724771]), 'F1 Score': array([0.68867925])}"
      ]
     },
     "execution_count": 60,
     "metadata": {},
     "output_type": "execute_result"
    }
   ],
   "source": [
    "metrics"
   ]
  },
  {
   "cell_type": "markdown",
   "metadata": {},
   "source": [
    "# Test using CV"
   ]
  },
  {
   "cell_type": "code",
   "execution_count": 28,
   "metadata": {
    "execution": {
     "iopub.execute_input": "2022-11-25T18:28:29.816271Z",
     "iopub.status.busy": "2022-11-25T18:28:29.815893Z"
    },
    "scrolled": true
   },
   "outputs": [
    {
     "data": {
      "application/vnd.jupyter.widget-view+json": {
       "model_id": "8c6cf1eefac94273a91124b3ab8596cf",
       "version_major": 2,
       "version_minor": 0
      },
      "text/plain": [
       "Epochs:   0%|          | 0/1000 [00:00<?, ?it/s]"
      ]
     },
     "metadata": {},
     "output_type": "display_data"
    },
    {
     "name": "stdout",
     "output_type": "stream",
     "text": [
      "0 Epoch: 1/1000 - Train Loss: 6.5345;  Val Loss: 1.2993 Best Val loss 1.2993\n",
      "0 Epoch: 101/1000 - Train Loss: 0.3581;  Val Loss: 0.5225 Best Val loss 0.5225\n",
      "0 Epoch: 201/1000 - Train Loss: 0.0521;  Val Loss: 0.4065 Best Val loss 0.4024\n",
      "0 Epoch: 301/1000 - Train Loss: 0.0261;  Val Loss: 0.4140 Best Val loss 0.3967\n",
      "0 Epoch: 401/1000 - Train Loss: 0.0191;  Val Loss: 0.4168 Best Val loss 0.3605\n",
      "0 Epoch: 501/1000 - Train Loss: 0.0148;  Val Loss: 0.4195 Best Val loss 0.3586\n",
      "0 Epoch: 601/1000 - Train Loss: 0.0131;  Val Loss: 0.4066 Best Val loss 0.3586\n",
      "0 Epoch: 701/1000 - Train Loss: 0.0121;  Val Loss: 0.4092 Best Val loss 0.3419\n",
      "0 Epoch: 801/1000 - Train Loss: 0.0106;  Val Loss: 0.3746 Best Val loss 0.3360\n",
      "0 Epoch: 901/1000 - Train Loss: 0.0094;  Val Loss: 0.4010 Best Val loss 0.3360\n"
     ]
    },
    {
     "data": {
      "application/vnd.jupyter.widget-view+json": {
       "model_id": "87dbdab366454c73ad3820314889d63f",
       "version_major": 2,
       "version_minor": 0
      },
      "text/plain": [
       "  0%|          | 0/11 [00:00<?, ?it/s]"
      ]
     },
     "metadata": {},
     "output_type": "display_data"
    },
    {
     "data": {
      "application/vnd.jupyter.widget-view+json": {
       "model_id": "3db848f1b643456dbba2b15dd6834d51",
       "version_major": 2,
       "version_minor": 0
      },
      "text/plain": [
       "  0%|          | 0/2 [00:00<?, ?it/s]"
      ]
     },
     "metadata": {},
     "output_type": "display_data"
    },
    {
     "data": {
      "application/vnd.jupyter.widget-view+json": {
       "model_id": "6915389543d14f6f98d7b5a03d1a25af",
       "version_major": 2,
       "version_minor": 0
      },
      "text/plain": [
       "Epochs:   0%|          | 0/1000 [00:00<?, ?it/s]"
      ]
     },
     "metadata": {},
     "output_type": "display_data"
    },
    {
     "name": "stdout",
     "output_type": "stream",
     "text": [
      "1 Epoch: 1/1000 - Train Loss: 6.2847;  Val Loss: 1.2688 Best Val loss 1.2688\n",
      "1 Epoch: 101/1000 - Train Loss: 0.3520;  Val Loss: 0.6069 Best Val loss 0.5931\n",
      "1 Epoch: 201/1000 - Train Loss: 0.0528;  Val Loss: 0.5675 Best Val loss 0.4764\n",
      "1 Epoch: 301/1000 - Train Loss: 0.0276;  Val Loss: 0.5088 Best Val loss 0.4647\n",
      "1 Epoch: 401/1000 - Train Loss: 0.0208;  Val Loss: 0.5275 Best Val loss 0.4647\n",
      "1 Epoch: 501/1000 - Train Loss: 0.0187;  Val Loss: 0.5472 Best Val loss 0.4647\n",
      "1 Epoch: 601/1000 - Train Loss: 0.0142;  Val Loss: 0.5377 Best Val loss 0.4647\n",
      "1 Epoch: 701/1000 - Train Loss: 0.0119;  Val Loss: 0.5587 Best Val loss 0.4647\n",
      "1 Epoch: 801/1000 - Train Loss: 0.0105;  Val Loss: 0.5708 Best Val loss 0.4647\n",
      "1 Epoch: 901/1000 - Train Loss: 0.0107;  Val Loss: 0.5488 Best Val loss 0.4647\n"
     ]
    },
    {
     "data": {
      "application/vnd.jupyter.widget-view+json": {
       "model_id": "1e1a93a1c9514a688efdcd403af200ce",
       "version_major": 2,
       "version_minor": 0
      },
      "text/plain": [
       "  0%|          | 0/11 [00:00<?, ?it/s]"
      ]
     },
     "metadata": {},
     "output_type": "display_data"
    },
    {
     "data": {
      "application/vnd.jupyter.widget-view+json": {
       "model_id": "b03127dd88df4a2fbf1cc8c1fb74e981",
       "version_major": 2,
       "version_minor": 0
      },
      "text/plain": [
       "  0%|          | 0/2 [00:00<?, ?it/s]"
      ]
     },
     "metadata": {},
     "output_type": "display_data"
    },
    {
     "data": {
      "application/vnd.jupyter.widget-view+json": {
       "model_id": "643af59e820d4e41bc114dcbc12746cd",
       "version_major": 2,
       "version_minor": 0
      },
      "text/plain": [
       "Epochs:   0%|          | 0/1000 [00:00<?, ?it/s]"
      ]
     },
     "metadata": {},
     "output_type": "display_data"
    },
    {
     "name": "stdout",
     "output_type": "stream",
     "text": [
      "2 Epoch: 1/1000 - Train Loss: 6.5368;  Val Loss: 1.2520 Best Val loss 1.2520\n",
      "2 Epoch: 101/1000 - Train Loss: 0.3970;  Val Loss: 0.9334 Best Val loss 0.9150\n",
      "2 Epoch: 201/1000 - Train Loss: 0.0589;  Val Loss: 0.7416 Best Val loss 0.7345\n",
      "2 Epoch: 301/1000 - Train Loss: 0.0330;  Val Loss: 0.7322 Best Val loss 0.7100\n",
      "2 Epoch: 401/1000 - Train Loss: 0.0248;  Val Loss: 0.7015 Best Val loss 0.6484\n",
      "2 Epoch: 501/1000 - Train Loss: 0.0199;  Val Loss: 0.7099 Best Val loss 0.6484\n",
      "2 Epoch: 601/1000 - Train Loss: 0.0178;  Val Loss: 0.7555 Best Val loss 0.6484\n",
      "2 Epoch: 701/1000 - Train Loss: 0.0176;  Val Loss: 0.7813 Best Val loss 0.6484\n",
      "2 Epoch: 801/1000 - Train Loss: 0.0139;  Val Loss: 0.8316 Best Val loss 0.6484\n",
      "2 Epoch: 901/1000 - Train Loss: 0.0140;  Val Loss: 0.8629 Best Val loss 0.6484\n"
     ]
    },
    {
     "data": {
      "application/vnd.jupyter.widget-view+json": {
       "model_id": "8ed913b2e640407e9fb99e71f1d85cc3",
       "version_major": 2,
       "version_minor": 0
      },
      "text/plain": [
       "  0%|          | 0/11 [00:00<?, ?it/s]"
      ]
     },
     "metadata": {},
     "output_type": "display_data"
    },
    {
     "data": {
      "application/vnd.jupyter.widget-view+json": {
       "model_id": "cb4adb4847f1458c93e5bcd351a7fdb9",
       "version_major": 2,
       "version_minor": 0
      },
      "text/plain": [
       "  0%|          | 0/2 [00:00<?, ?it/s]"
      ]
     },
     "metadata": {},
     "output_type": "display_data"
    },
    {
     "data": {
      "application/vnd.jupyter.widget-view+json": {
       "model_id": "95c11b7abe9b4690b8fc1d13a8e80224",
       "version_major": 2,
       "version_minor": 0
      },
      "text/plain": [
       "Epochs:   0%|          | 0/1000 [00:00<?, ?it/s]"
      ]
     },
     "metadata": {},
     "output_type": "display_data"
    },
    {
     "name": "stdout",
     "output_type": "stream",
     "text": [
      "3 Epoch: 1/1000 - Train Loss: 6.4012;  Val Loss: 1.2417 Best Val loss 1.2417\n",
      "3 Epoch: 101/1000 - Train Loss: 0.4014;  Val Loss: 0.7025 Best Val loss 0.6753\n",
      "3 Epoch: 201/1000 - Train Loss: 0.0528;  Val Loss: 0.5162 Best Val loss 0.5024\n",
      "3 Epoch: 301/1000 - Train Loss: 0.0295;  Val Loss: 0.5703 Best Val loss 0.5024\n",
      "3 Epoch: 401/1000 - Train Loss: 0.0217;  Val Loss: 0.5386 Best Val loss 0.4900\n",
      "3 Epoch: 501/1000 - Train Loss: 0.0175;  Val Loss: 0.6044 Best Val loss 0.4900\n",
      "3 Epoch: 601/1000 - Train Loss: 0.0147;  Val Loss: 0.5729 Best Val loss 0.4900\n",
      "3 Epoch: 701/1000 - Train Loss: 0.0127;  Val Loss: 0.6331 Best Val loss 0.4900\n",
      "3 Epoch: 801/1000 - Train Loss: 0.0121;  Val Loss: 0.5988 Best Val loss 0.4900\n",
      "3 Epoch: 901/1000 - Train Loss: 0.0107;  Val Loss: 0.6629 Best Val loss 0.4900\n"
     ]
    },
    {
     "data": {
      "application/vnd.jupyter.widget-view+json": {
       "model_id": "ca6bb4fc36454c0980ba84a0a8f29bac",
       "version_major": 2,
       "version_minor": 0
      },
      "text/plain": [
       "  0%|          | 0/11 [00:00<?, ?it/s]"
      ]
     },
     "metadata": {},
     "output_type": "display_data"
    },
    {
     "data": {
      "application/vnd.jupyter.widget-view+json": {
       "model_id": "6507c51322fd485abd178b50265cb396",
       "version_major": 2,
       "version_minor": 0
      },
      "text/plain": [
       "  0%|          | 0/2 [00:00<?, ?it/s]"
      ]
     },
     "metadata": {},
     "output_type": "display_data"
    },
    {
     "data": {
      "application/vnd.jupyter.widget-view+json": {
       "model_id": "3c68c7b86b36439c98588fd9caf8c554",
       "version_major": 2,
       "version_minor": 0
      },
      "text/plain": [
       "Epochs:   0%|          | 0/1000 [00:00<?, ?it/s]"
      ]
     },
     "metadata": {},
     "output_type": "display_data"
    },
    {
     "name": "stdout",
     "output_type": "stream",
     "text": [
      "4 Epoch: 1/1000 - Train Loss: 6.2920;  Val Loss: 1.2748 Best Val loss 1.2748\n",
      "4 Epoch: 101/1000 - Train Loss: 0.3781;  Val Loss: 0.5390 Best Val loss 0.5253\n",
      "4 Epoch: 201/1000 - Train Loss: 0.0511;  Val Loss: 0.3871 Best Val loss 0.3724\n",
      "4 Epoch: 301/1000 - Train Loss: 0.0248;  Val Loss: 0.4137 Best Val loss 0.3515\n",
      "4 Epoch: 401/1000 - Train Loss: 0.0211;  Val Loss: 0.3968 Best Val loss 0.3515\n",
      "4 Epoch: 501/1000 - Train Loss: 0.0156;  Val Loss: 0.4101 Best Val loss 0.3493\n",
      "4 Epoch: 601/1000 - Train Loss: 0.0127;  Val Loss: 0.3484 Best Val loss 0.3427\n",
      "4 Epoch: 701/1000 - Train Loss: 0.0123;  Val Loss: 0.3666 Best Val loss 0.3278\n",
      "4 Epoch: 801/1000 - Train Loss: 0.0108;  Val Loss: 0.3541 Best Val loss 0.3274\n",
      "4 Epoch: 901/1000 - Train Loss: 0.0092;  Val Loss: 0.3608 Best Val loss 0.3274\n"
     ]
    },
    {
     "data": {
      "application/vnd.jupyter.widget-view+json": {
       "model_id": "c2a15d611cbf4bef888ba998b2c6b2fe",
       "version_major": 2,
       "version_minor": 0
      },
      "text/plain": [
       "  0%|          | 0/11 [00:00<?, ?it/s]"
      ]
     },
     "metadata": {},
     "output_type": "display_data"
    },
    {
     "data": {
      "application/vnd.jupyter.widget-view+json": {
       "model_id": "980f229c18764090b2cc33ab2523390d",
       "version_major": 2,
       "version_minor": 0
      },
      "text/plain": [
       "  0%|          | 0/2 [00:00<?, ?it/s]"
      ]
     },
     "metadata": {},
     "output_type": "display_data"
    },
    {
     "data": {
      "application/vnd.jupyter.widget-view+json": {
       "model_id": "60fa452f023e45a7a9eb2c6e0fa9e2ee",
       "version_major": 2,
       "version_minor": 0
      },
      "text/plain": [
       "Epochs:   0%|          | 0/1000 [00:00<?, ?it/s]"
      ]
     },
     "metadata": {},
     "output_type": "display_data"
    },
    {
     "name": "stdout",
     "output_type": "stream",
     "text": [
      "5 Epoch: 1/1000 - Train Loss: 6.4546;  Val Loss: 1.0554 Best Val loss 1.0554\n",
      "5 Epoch: 101/1000 - Train Loss: 0.3662;  Val Loss: 0.9467 Best Val loss 0.9383\n",
      "5 Epoch: 201/1000 - Train Loss: 0.0591;  Val Loss: 0.8172 Best Val loss 0.7755\n",
      "5 Epoch: 301/1000 - Train Loss: 0.0383;  Val Loss: 0.7257 Best Val loss 0.6891\n",
      "5 Epoch: 401/1000 - Train Loss: 0.0273;  Val Loss: 0.7184 Best Val loss 0.6891\n",
      "5 Epoch: 501/1000 - Train Loss: 0.0237;  Val Loss: 0.7777 Best Val loss 0.6891\n",
      "5 Epoch: 601/1000 - Train Loss: 0.0188;  Val Loss: 0.8225 Best Val loss 0.6891\n",
      "5 Epoch: 701/1000 - Train Loss: 0.0180;  Val Loss: 0.8624 Best Val loss 0.6891\n",
      "5 Epoch: 801/1000 - Train Loss: 0.0169;  Val Loss: 0.8854 Best Val loss 0.6891\n",
      "5 Epoch: 901/1000 - Train Loss: 0.0149;  Val Loss: 0.9110 Best Val loss 0.6891\n"
     ]
    },
    {
     "data": {
      "application/vnd.jupyter.widget-view+json": {
       "model_id": "20af22aade664d9b9b590fc4875c407d",
       "version_major": 2,
       "version_minor": 0
      },
      "text/plain": [
       "  0%|          | 0/11 [00:00<?, ?it/s]"
      ]
     },
     "metadata": {},
     "output_type": "display_data"
    },
    {
     "data": {
      "application/vnd.jupyter.widget-view+json": {
       "model_id": "d063efef5d27449eab8d5d82226ee6e4",
       "version_major": 2,
       "version_minor": 0
      },
      "text/plain": [
       "  0%|          | 0/2 [00:00<?, ?it/s]"
      ]
     },
     "metadata": {},
     "output_type": "display_data"
    },
    {
     "data": {
      "application/vnd.jupyter.widget-view+json": {
       "model_id": "4df378a0f8af4c298a731aed6b138715",
       "version_major": 2,
       "version_minor": 0
      },
      "text/plain": [
       "Epochs:   0%|          | 0/1000 [00:00<?, ?it/s]"
      ]
     },
     "metadata": {},
     "output_type": "display_data"
    },
    {
     "name": "stdout",
     "output_type": "stream",
     "text": [
      "6 Epoch: 1/1000 - Train Loss: 6.3200;  Val Loss: 1.2337 Best Val loss 1.2337\n",
      "6 Epoch: 101/1000 - Train Loss: 0.3675;  Val Loss: 0.5324 Best Val loss 0.5171\n",
      "6 Epoch: 201/1000 - Train Loss: 0.0540;  Val Loss: 0.4280 Best Val loss 0.3764\n",
      "6 Epoch: 301/1000 - Train Loss: 0.0304;  Val Loss: 0.4335 Best Val loss 0.3627\n",
      "6 Epoch: 401/1000 - Train Loss: 0.0198;  Val Loss: 0.4094 Best Val loss 0.3464\n",
      "6 Epoch: 501/1000 - Train Loss: 0.0175;  Val Loss: 0.3764 Best Val loss 0.3464\n",
      "6 Epoch: 601/1000 - Train Loss: 0.0143;  Val Loss: 0.3613 Best Val loss 0.3462\n",
      "6 Epoch: 701/1000 - Train Loss: 0.0130;  Val Loss: 0.3822 Best Val loss 0.3248\n",
      "6 Epoch: 801/1000 - Train Loss: 0.0102;  Val Loss: 0.3810 Best Val loss 0.3220\n",
      "6 Epoch: 901/1000 - Train Loss: 0.0099;  Val Loss: 0.3497 Best Val loss 0.3087\n"
     ]
    },
    {
     "data": {
      "application/vnd.jupyter.widget-view+json": {
       "model_id": "6c7b1b4317454f0d9a88d26781c58eb8",
       "version_major": 2,
       "version_minor": 0
      },
      "text/plain": [
       "  0%|          | 0/11 [00:00<?, ?it/s]"
      ]
     },
     "metadata": {},
     "output_type": "display_data"
    },
    {
     "data": {
      "application/vnd.jupyter.widget-view+json": {
       "model_id": "b96c413257a04090ac44b655b3a6b1b4",
       "version_major": 2,
       "version_minor": 0
      },
      "text/plain": [
       "  0%|          | 0/2 [00:00<?, ?it/s]"
      ]
     },
     "metadata": {},
     "output_type": "display_data"
    },
    {
     "data": {
      "application/vnd.jupyter.widget-view+json": {
       "model_id": "12955c7cc6ff4a85b33f41073e09070c",
       "version_major": 2,
       "version_minor": 0
      },
      "text/plain": [
       "Epochs:   0%|          | 0/1000 [00:00<?, ?it/s]"
      ]
     },
     "metadata": {},
     "output_type": "display_data"
    },
    {
     "name": "stdout",
     "output_type": "stream",
     "text": [
      "7 Epoch: 1/1000 - Train Loss: 6.0607;  Val Loss: 1.2702 Best Val loss 1.2702\n",
      "7 Epoch: 101/1000 - Train Loss: 0.3393;  Val Loss: 0.5819 Best Val loss 0.5819\n",
      "7 Epoch: 201/1000 - Train Loss: 0.0530;  Val Loss: 0.5019 Best Val loss 0.4674\n",
      "7 Epoch: 301/1000 - Train Loss: 0.0282;  Val Loss: 0.5124 Best Val loss 0.4674\n",
      "7 Epoch: 401/1000 - Train Loss: 0.0216;  Val Loss: 0.5315 Best Val loss 0.4674\n",
      "7 Epoch: 501/1000 - Train Loss: 0.0174;  Val Loss: 0.5689 Best Val loss 0.4674\n",
      "7 Epoch: 601/1000 - Train Loss: 0.0142;  Val Loss: 0.6164 Best Val loss 0.4674\n",
      "7 Epoch: 701/1000 - Train Loss: 0.0128;  Val Loss: 0.6021 Best Val loss 0.4674\n",
      "7 Epoch: 801/1000 - Train Loss: 0.0111;  Val Loss: 0.6230 Best Val loss 0.4674\n",
      "7 Epoch: 901/1000 - Train Loss: 0.0108;  Val Loss: 0.6381 Best Val loss 0.4674\n"
     ]
    },
    {
     "data": {
      "application/vnd.jupyter.widget-view+json": {
       "model_id": "eb693e32e99d4e23821f7641cf8610d9",
       "version_major": 2,
       "version_minor": 0
      },
      "text/plain": [
       "  0%|          | 0/11 [00:00<?, ?it/s]"
      ]
     },
     "metadata": {},
     "output_type": "display_data"
    },
    {
     "data": {
      "application/vnd.jupyter.widget-view+json": {
       "model_id": "6658f01777b04ab2b0babc5d18c7216e",
       "version_major": 2,
       "version_minor": 0
      },
      "text/plain": [
       "  0%|          | 0/2 [00:00<?, ?it/s]"
      ]
     },
     "metadata": {},
     "output_type": "display_data"
    },
    {
     "data": {
      "application/vnd.jupyter.widget-view+json": {
       "model_id": "c035d3cd83124666859a200a8a4f595b",
       "version_major": 2,
       "version_minor": 0
      },
      "text/plain": [
       "Epochs:   0%|          | 0/1000 [00:00<?, ?it/s]"
      ]
     },
     "metadata": {},
     "output_type": "display_data"
    },
    {
     "name": "stdout",
     "output_type": "stream",
     "text": [
      "8 Epoch: 1/1000 - Train Loss: 6.1961;  Val Loss: 1.2423 Best Val loss 1.2423\n",
      "8 Epoch: 101/1000 - Train Loss: 0.4273;  Val Loss: 0.5484 Best Val loss 0.5484\n",
      "8 Epoch: 201/1000 - Train Loss: 0.0517;  Val Loss: 0.4241 Best Val loss 0.4004\n",
      "8 Epoch: 301/1000 - Train Loss: 0.0288;  Val Loss: 0.4554 Best Val loss 0.3941\n",
      "8 Epoch: 401/1000 - Train Loss: 0.0206;  Val Loss: 0.3986 Best Val loss 0.3822\n",
      "8 Epoch: 501/1000 - Train Loss: 0.0164;  Val Loss: 0.4104 Best Val loss 0.3802\n",
      "8 Epoch: 601/1000 - Train Loss: 0.0150;  Val Loss: 0.4176 Best Val loss 0.3802\n",
      "8 Epoch: 701/1000 - Train Loss: 0.0137;  Val Loss: 0.4087 Best Val loss 0.3781\n",
      "8 Epoch: 801/1000 - Train Loss: 0.0110;  Val Loss: 0.4236 Best Val loss 0.3781\n",
      "8 Epoch: 901/1000 - Train Loss: 0.0090;  Val Loss: 0.4167 Best Val loss 0.3781\n"
     ]
    },
    {
     "data": {
      "application/vnd.jupyter.widget-view+json": {
       "model_id": "0d4363b76d7e457db026f6f2a85eebd6",
       "version_major": 2,
       "version_minor": 0
      },
      "text/plain": [
       "  0%|          | 0/11 [00:00<?, ?it/s]"
      ]
     },
     "metadata": {},
     "output_type": "display_data"
    },
    {
     "data": {
      "application/vnd.jupyter.widget-view+json": {
       "model_id": "d496fd02255349c2b5d7fef7bafed8dc",
       "version_major": 2,
       "version_minor": 0
      },
      "text/plain": [
       "  0%|          | 0/2 [00:00<?, ?it/s]"
      ]
     },
     "metadata": {},
     "output_type": "display_data"
    },
    {
     "data": {
      "application/vnd.jupyter.widget-view+json": {
       "model_id": "2be2e435f9bf4207b1706d5da3d58f9d",
       "version_major": 2,
       "version_minor": 0
      },
      "text/plain": [
       "Epochs:   0%|          | 0/1000 [00:00<?, ?it/s]"
      ]
     },
     "metadata": {},
     "output_type": "display_data"
    },
    {
     "name": "stdout",
     "output_type": "stream",
     "text": [
      "9 Epoch: 1/1000 - Train Loss: 6.5505;  Val Loss: 1.6671 Best Val loss 1.6671\n",
      "9 Epoch: 101/1000 - Train Loss: 0.3768;  Val Loss: 0.6476 Best Val loss 0.6295\n",
      "9 Epoch: 201/1000 - Train Loss: 0.0541;  Val Loss: 0.5650 Best Val loss 0.4974\n",
      "9 Epoch: 301/1000 - Train Loss: 0.0312;  Val Loss: 0.5439 Best Val loss 0.4940\n",
      "9 Epoch: 401/1000 - Train Loss: 0.0201;  Val Loss: 0.6011 Best Val loss 0.4940\n",
      "9 Epoch: 501/1000 - Train Loss: 0.0174;  Val Loss: 0.5999 Best Val loss 0.4940\n",
      "9 Epoch: 601/1000 - Train Loss: 0.0148;  Val Loss: 0.6508 Best Val loss 0.4940\n",
      "9 Epoch: 701/1000 - Train Loss: 0.0129;  Val Loss: 0.6603 Best Val loss 0.4940\n",
      "9 Epoch: 801/1000 - Train Loss: 0.0120;  Val Loss: 0.6719 Best Val loss 0.4940\n",
      "9 Epoch: 901/1000 - Train Loss: 0.0097;  Val Loss: 0.6954 Best Val loss 0.4940\n"
     ]
    },
    {
     "data": {
      "application/vnd.jupyter.widget-view+json": {
       "model_id": "81da82f00e9f4ac7abdb77c02c743ec0",
       "version_major": 2,
       "version_minor": 0
      },
      "text/plain": [
       "  0%|          | 0/10 [00:00<?, ?it/s]"
      ]
     },
     "metadata": {},
     "output_type": "display_data"
    },
    {
     "data": {
      "application/vnd.jupyter.widget-view+json": {
       "model_id": "0427eb5e27624f41b26bcf956ab15629",
       "version_major": 2,
       "version_minor": 0
      },
      "text/plain": [
       "  0%|          | 0/2 [00:00<?, ?it/s]"
      ]
     },
     "metadata": {},
     "output_type": "display_data"
    },
    {
     "name": "stdout",
     "output_type": "stream",
     "text": [
      "triplet loss lr C1 Accuracy 0.632+-0.086 F1 Score 0.643+-0.058  0.632+-0.086 | 0.643+-0.058\n"
     ]
    }
   ],
   "source": [
    "results = {\n",
    "    'test_accuracy' : [],\n",
    "    'test_precision' : [],\n",
    "    'test_recall' : [],\n",
    "    'test_f1' : []\n",
    "}\n",
    "\n",
    "embedding_dims = 100\n",
    "batch_size = 512\n",
    "epochs = 1000\n",
    "n_workers = 8\n",
    "\n",
    "for j, (train_index, val_index, test_index) in enumerate(cv_fold_i):\n",
    "    train_loader, train_loader_label, val_loader, test_loader = prepare_loaders(\n",
    "        emb_tab=embeddings_table, \n",
    "        emb_tab_train=embeddings_table_aug,\n",
    "        y_column=df['assestment'].values, \n",
    "        batch_size=batch_size,\n",
    "        index_llist = [train_index, val_index, test_index],\n",
    "        sizes= [10,3],\n",
    "        n_workers=n_workers\n",
    "    )\n",
    "    \n",
    "    model = Network(embedding_dims)\n",
    "    model = model.to(device)\n",
    "    \n",
    "    if_norm = False \n",
    "    \n",
    "    train_loop(\n",
    "        model=model,\n",
    "        train_loader=train_loader,\n",
    "        val_loader=val_loader,\n",
    "        epochs=1000,\n",
    "        n_print=100,\n",
    "        if_norm=if_norm,\n",
    "        optimizer=optim.Adam(model.parameters(), lr=1e-4, weight_decay=1e-5),\n",
    "        criterion=TripletLoss(),\n",
    "        n_model=j,\n",
    "        model_name='model_X.pt'\n",
    "    )\n",
    "    \n",
    "    model = torch.load('models/model_X.pt')\n",
    "    \n",
    "    \n",
    "    train_results = []\n",
    "    labels = []\n",
    "\n",
    "    model.eval()\n",
    "    with torch.no_grad():\n",
    "        for anchor_claim, label in tqdm(train_loader_label):\n",
    "            anchor_claim = anchor_claim.to(device) if if_norm else (anchor_claim / torch.norm(anchor_claim) ).to(device)\n",
    "\n",
    "            train_results.append(model(anchor_claim).cpu().numpy())\n",
    "            labels.append(label)\n",
    "\n",
    "    train_results = np.concatenate(train_results) \n",
    "    labels = np.concatenate(labels)\n",
    "    train_results.shape\n",
    "\n",
    "    \n",
    "    test_results = []\n",
    "    test_labels = []\n",
    "\n",
    "    model.eval()\n",
    "    with torch.no_grad():\n",
    "        for anchor_claim, label in tqdm(test_loader):\n",
    "            anchor_claim = anchor_claim.to(device) if if_norm else (anchor_claim / torch.norm(anchor_claim) ).to(device)\n",
    "\n",
    "            test_results.append(model(anchor_claim).cpu().numpy())\n",
    "            test_labels.append(label)\n",
    "\n",
    "    test_results = np.concatenate(test_results)\n",
    "    test_labels = np.concatenate(test_labels)\n",
    "    test_results.shape\n",
    "\n",
    "    \n",
    "    clf_lr_1 = LogisticRegression(max_iter=5000, C=1, penalty='l2', solver='liblinear')\n",
    "\n",
    "    y_train_t = labels\n",
    "    X_train_t = train_results\n",
    "    y_test_t = test_labels\n",
    "    X_test_t = test_results\n",
    "\n",
    "    clf_lr_1.fit(X_train_t, y_train_t)\n",
    "\n",
    "    y_pred = clf_lr_1.predict(X_test_t)\n",
    "\n",
    "    results['test_accuracy'].append( accuracy_score(y_test_t, y_pred) ) \n",
    "    results['test_precision'].append( precision_score(y_test_t, y_pred) ) \n",
    "    results['test_recall'].append( recall_score(y_test_t, y_pred) ) \n",
    "    results['test_f1'].append( f1_score(y_test_t, y_pred) ) \n",
    "\n",
    "\n",
    "out = {\n",
    "    \"Accuracy\": np.array(results['test_accuracy']),\n",
    "#     \"Precision\": np.array(results['test_precision']).mean(),\n",
    "#     \"Recall\": np.array(results['test_recall']).mean(),\n",
    "    \"F1 Score\":  np.array(results['test_f1']),\n",
    "    }\n",
    "\n",
    "print(\n",
    "    'triplet loss lr C1',\n",
    "    f'Accuracy {out[\"Accuracy\"].mean():.3f}+-{out[\"Accuracy\"].std():.3f}',\n",
    "    f'F1 Score {out[\"F1 Score\"].mean():.3f}+-{out[\"F1 Score\"].std():.3f}',\n",
    "    f' {out[\"Accuracy\"].mean():.3f}+-{out[\"Accuracy\"].std():.3f} | {out[\"F1 Score\"].mean():.3f}+-{out[\"F1 Score\"].std():.3f}'\n",
    ")    "
   ]
  },
  {
   "cell_type": "markdown",
   "metadata": {},
   "source": [
    "### Get use best models"
   ]
  },
  {
   "cell_type": "code",
   "execution_count": 29,
   "metadata": {
    "scrolled": true
   },
   "outputs": [
    {
     "data": {
      "application/vnd.jupyter.widget-view+json": {
       "model_id": "665dcd263cb6493482f50fecb92ddd83",
       "version_major": 2,
       "version_minor": 0
      },
      "text/plain": [
       "Epochs:   0%|          | 0/1000 [00:00<?, ?it/s]"
      ]
     },
     "metadata": {},
     "output_type": "display_data"
    },
    {
     "name": "stdout",
     "output_type": "stream",
     "text": [
      "0 Epoch: 1/1000 - Train Loss: 6.3884;  Val Loss: 1.9007 Best Val loss 1.9007\n",
      "0 Epoch: 101/1000 - Train Loss: 0.3891;  Val Loss: 0.9855 Best Val loss 0.8902\n",
      "0 Epoch: 201/1000 - Train Loss: 0.0582;  Val Loss: 0.9779 Best Val loss 0.8902\n",
      "0 Epoch: 301/1000 - Train Loss: 0.0376;  Val Loss: 0.9464 Best Val loss 0.8902\n",
      "0 Epoch: 401/1000 - Train Loss: 0.0238;  Val Loss: 0.9682 Best Val loss 0.8902\n",
      "0 Epoch: 501/1000 - Train Loss: 0.0217;  Val Loss: 0.9791 Best Val loss 0.8902\n",
      "0 Epoch: 601/1000 - Train Loss: 0.0170;  Val Loss: 0.9740 Best Val loss 0.8902\n",
      "0 Epoch: 701/1000 - Train Loss: 0.0160;  Val Loss: 0.9897 Best Val loss 0.8902\n",
      "0 Epoch: 801/1000 - Train Loss: 0.0134;  Val Loss: 0.9857 Best Val loss 0.8902\n",
      "0 Epoch: 901/1000 - Train Loss: 0.0148;  Val Loss: 0.9831 Best Val loss 0.8902\n"
     ]
    },
    {
     "data": {
      "application/vnd.jupyter.widget-view+json": {
       "model_id": "0e43e2ec334f43f297c2a713db559423",
       "version_major": 2,
       "version_minor": 0
      },
      "text/plain": [
       "  0%|          | 0/11 [00:00<?, ?it/s]"
      ]
     },
     "metadata": {},
     "output_type": "display_data"
    },
    {
     "data": {
      "application/vnd.jupyter.widget-view+json": {
       "model_id": "7985949675c445d6b381563d468d44c9",
       "version_major": 2,
       "version_minor": 0
      },
      "text/plain": [
       "  0%|          | 0/2 [00:00<?, ?it/s]"
      ]
     },
     "metadata": {},
     "output_type": "display_data"
    },
    {
     "data": {
      "application/vnd.jupyter.widget-view+json": {
       "model_id": "276e1270bcbf4d60909a2a775345b82a",
       "version_major": 2,
       "version_minor": 0
      },
      "text/plain": [
       "Epochs:   0%|          | 0/1000 [00:00<?, ?it/s]"
      ]
     },
     "metadata": {},
     "output_type": "display_data"
    },
    {
     "name": "stdout",
     "output_type": "stream",
     "text": [
      "1 Epoch: 1/1000 - Train Loss: 6.3172;  Val Loss: 1.6574 Best Val loss 1.6574\n",
      "1 Epoch: 101/1000 - Train Loss: 0.3926;  Val Loss: 0.9777 Best Val loss 0.8955\n",
      "1 Epoch: 201/1000 - Train Loss: 0.0641;  Val Loss: 0.9400 Best Val loss 0.8955\n",
      "1 Epoch: 301/1000 - Train Loss: 0.0381;  Val Loss: 0.9419 Best Val loss 0.8955\n",
      "1 Epoch: 401/1000 - Train Loss: 0.0233;  Val Loss: 0.9401 Best Val loss 0.8955\n",
      "1 Epoch: 501/1000 - Train Loss: 0.0228;  Val Loss: 0.9538 Best Val loss 0.8955\n",
      "1 Epoch: 601/1000 - Train Loss: 0.0213;  Val Loss: 0.9650 Best Val loss 0.8955\n",
      "1 Epoch: 701/1000 - Train Loss: 0.0162;  Val Loss: 0.9859 Best Val loss 0.8955\n",
      "1 Epoch: 801/1000 - Train Loss: 0.0169;  Val Loss: 0.9868 Best Val loss 0.8955\n",
      "1 Epoch: 901/1000 - Train Loss: 0.0129;  Val Loss: 0.9408 Best Val loss 0.8955\n"
     ]
    },
    {
     "data": {
      "application/vnd.jupyter.widget-view+json": {
       "model_id": "808d131309e44729b46affaa3ea57624",
       "version_major": 2,
       "version_minor": 0
      },
      "text/plain": [
       "  0%|          | 0/11 [00:00<?, ?it/s]"
      ]
     },
     "metadata": {},
     "output_type": "display_data"
    },
    {
     "data": {
      "application/vnd.jupyter.widget-view+json": {
       "model_id": "a583b5e9e192487cb43e32e66f832749",
       "version_major": 2,
       "version_minor": 0
      },
      "text/plain": [
       "  0%|          | 0/2 [00:00<?, ?it/s]"
      ]
     },
     "metadata": {},
     "output_type": "display_data"
    },
    {
     "data": {
      "application/vnd.jupyter.widget-view+json": {
       "model_id": "0c3ac759198941f7963d49ca01ed3f3e",
       "version_major": 2,
       "version_minor": 0
      },
      "text/plain": [
       "Epochs:   0%|          | 0/1000 [00:00<?, ?it/s]"
      ]
     },
     "metadata": {},
     "output_type": "display_data"
    },
    {
     "name": "stdout",
     "output_type": "stream",
     "text": [
      "2 Epoch: 1/1000 - Train Loss: 6.3902;  Val Loss: 1.5435 Best Val loss 1.5435\n",
      "2 Epoch: 101/1000 - Train Loss: 0.3591;  Val Loss: 0.9712 Best Val loss 0.9004\n",
      "2 Epoch: 201/1000 - Train Loss: 0.0582;  Val Loss: 0.9802 Best Val loss 0.9004\n",
      "2 Epoch: 301/1000 - Train Loss: 0.0316;  Val Loss: 0.9568 Best Val loss 0.9004\n",
      "2 Epoch: 401/1000 - Train Loss: 0.0276;  Val Loss: 0.9646 Best Val loss 0.9004\n",
      "2 Epoch: 501/1000 - Train Loss: 0.0236;  Val Loss: 0.9582 Best Val loss 0.9004\n",
      "2 Epoch: 601/1000 - Train Loss: 0.0174;  Val Loss: 0.9727 Best Val loss 0.9004\n",
      "2 Epoch: 701/1000 - Train Loss: 0.0165;  Val Loss: 0.9836 Best Val loss 0.9004\n",
      "2 Epoch: 801/1000 - Train Loss: 0.0129;  Val Loss: 0.9813 Best Val loss 0.9004\n",
      "2 Epoch: 901/1000 - Train Loss: 0.0158;  Val Loss: 0.9898 Best Val loss 0.9004\n"
     ]
    },
    {
     "data": {
      "application/vnd.jupyter.widget-view+json": {
       "model_id": "e726af988d914386a7c135a3563e530a",
       "version_major": 2,
       "version_minor": 0
      },
      "text/plain": [
       "  0%|          | 0/11 [00:00<?, ?it/s]"
      ]
     },
     "metadata": {},
     "output_type": "display_data"
    },
    {
     "data": {
      "application/vnd.jupyter.widget-view+json": {
       "model_id": "019c137709044b89985624afbc8ea55f",
       "version_major": 2,
       "version_minor": 0
      },
      "text/plain": [
       "  0%|          | 0/2 [00:00<?, ?it/s]"
      ]
     },
     "metadata": {},
     "output_type": "display_data"
    },
    {
     "data": {
      "application/vnd.jupyter.widget-view+json": {
       "model_id": "e4d506b7cacd45b4b6939ba5a8ea0d43",
       "version_major": 2,
       "version_minor": 0
      },
      "text/plain": [
       "Epochs:   0%|          | 0/1000 [00:00<?, ?it/s]"
      ]
     },
     "metadata": {},
     "output_type": "display_data"
    },
    {
     "name": "stdout",
     "output_type": "stream",
     "text": [
      "3 Epoch: 1/1000 - Train Loss: 6.5950;  Val Loss: 1.8490 Best Val loss 1.8490\n",
      "3 Epoch: 101/1000 - Train Loss: 0.4360;  Val Loss: 0.9549 Best Val loss 0.9094\n",
      "3 Epoch: 201/1000 - Train Loss: 0.0674;  Val Loss: 0.9415 Best Val loss 0.9094\n",
      "3 Epoch: 301/1000 - Train Loss: 0.0318;  Val Loss: 0.9999 Best Val loss 0.9094\n",
      "3 Epoch: 401/1000 - Train Loss: 0.0280;  Val Loss: 0.9450 Best Val loss 0.9094\n",
      "3 Epoch: 501/1000 - Train Loss: 0.0229;  Val Loss: 0.9693 Best Val loss 0.9094\n",
      "3 Epoch: 601/1000 - Train Loss: 0.0167;  Val Loss: 0.9744 Best Val loss 0.9094\n",
      "3 Epoch: 701/1000 - Train Loss: 0.0139;  Val Loss: 0.9699 Best Val loss 0.9094\n",
      "3 Epoch: 801/1000 - Train Loss: 0.0153;  Val Loss: 0.9652 Best Val loss 0.9094\n",
      "3 Epoch: 901/1000 - Train Loss: 0.0144;  Val Loss: 0.9671 Best Val loss 0.9094\n"
     ]
    },
    {
     "data": {
      "application/vnd.jupyter.widget-view+json": {
       "model_id": "9d0f4bdb1337414ea6276c6ec548c018",
       "version_major": 2,
       "version_minor": 0
      },
      "text/plain": [
       "  0%|          | 0/11 [00:00<?, ?it/s]"
      ]
     },
     "metadata": {},
     "output_type": "display_data"
    },
    {
     "data": {
      "application/vnd.jupyter.widget-view+json": {
       "model_id": "7d4865d6053140588b831dadc8f9bf8c",
       "version_major": 2,
       "version_minor": 0
      },
      "text/plain": [
       "  0%|          | 0/2 [00:00<?, ?it/s]"
      ]
     },
     "metadata": {},
     "output_type": "display_data"
    },
    {
     "data": {
      "application/vnd.jupyter.widget-view+json": {
       "model_id": "1d17cdf50a914a8ea4b0329c7d5bfddb",
       "version_major": 2,
       "version_minor": 0
      },
      "text/plain": [
       "Epochs:   0%|          | 0/1000 [00:00<?, ?it/s]"
      ]
     },
     "metadata": {},
     "output_type": "display_data"
    },
    {
     "name": "stdout",
     "output_type": "stream",
     "text": [
      "4 Epoch: 1/1000 - Train Loss: 6.2080;  Val Loss: 1.8079 Best Val loss 1.8079\n",
      "4 Epoch: 101/1000 - Train Loss: 0.3950;  Val Loss: 0.9660 Best Val loss 0.8754\n",
      "4 Epoch: 201/1000 - Train Loss: 0.0554;  Val Loss: 0.9814 Best Val loss 0.8754\n",
      "4 Epoch: 301/1000 - Train Loss: 0.0339;  Val Loss: 0.9514 Best Val loss 0.8754\n",
      "4 Epoch: 401/1000 - Train Loss: 0.0253;  Val Loss: 0.9608 Best Val loss 0.8754\n",
      "4 Epoch: 501/1000 - Train Loss: 0.0217;  Val Loss: 0.9500 Best Val loss 0.8754\n",
      "4 Epoch: 601/1000 - Train Loss: 0.0182;  Val Loss: 0.9653 Best Val loss 0.8754\n",
      "4 Epoch: 701/1000 - Train Loss: 0.0177;  Val Loss: 0.9862 Best Val loss 0.8754\n",
      "4 Epoch: 801/1000 - Train Loss: 0.0152;  Val Loss: 0.9809 Best Val loss 0.8754\n",
      "4 Epoch: 901/1000 - Train Loss: 0.0151;  Val Loss: 0.9780 Best Val loss 0.8754\n"
     ]
    },
    {
     "data": {
      "application/vnd.jupyter.widget-view+json": {
       "model_id": "a72507c0cd444986ad088a8d73001ec3",
       "version_major": 2,
       "version_minor": 0
      },
      "text/plain": [
       "  0%|          | 0/11 [00:00<?, ?it/s]"
      ]
     },
     "metadata": {},
     "output_type": "display_data"
    },
    {
     "data": {
      "application/vnd.jupyter.widget-view+json": {
       "model_id": "0298b3cd7b774f06acd2ea184bf71dc9",
       "version_major": 2,
       "version_minor": 0
      },
      "text/plain": [
       "  0%|          | 0/2 [00:00<?, ?it/s]"
      ]
     },
     "metadata": {},
     "output_type": "display_data"
    },
    {
     "data": {
      "application/vnd.jupyter.widget-view+json": {
       "model_id": "8ab252035b5b4e51a5dd4b6609ac5d16",
       "version_major": 2,
       "version_minor": 0
      },
      "text/plain": [
       "Epochs:   0%|          | 0/1000 [00:00<?, ?it/s]"
      ]
     },
     "metadata": {},
     "output_type": "display_data"
    },
    {
     "name": "stdout",
     "output_type": "stream",
     "text": [
      "5 Epoch: 1/1000 - Train Loss: 6.4177;  Val Loss: 1.6861 Best Val loss 1.6861\n",
      "5 Epoch: 101/1000 - Train Loss: 0.3932;  Val Loss: 0.9715 Best Val loss 0.8958\n",
      "5 Epoch: 201/1000 - Train Loss: 0.0601;  Val Loss: 0.9332 Best Val loss 0.8958\n",
      "5 Epoch: 301/1000 - Train Loss: 0.0328;  Val Loss: 0.9656 Best Val loss 0.8958\n",
      "5 Epoch: 401/1000 - Train Loss: 0.0252;  Val Loss: 0.9785 Best Val loss 0.8958\n",
      "5 Epoch: 501/1000 - Train Loss: 0.0202;  Val Loss: 0.9672 Best Val loss 0.8958\n",
      "5 Epoch: 601/1000 - Train Loss: 0.0193;  Val Loss: 0.9752 Best Val loss 0.8958\n",
      "5 Epoch: 701/1000 - Train Loss: 0.0173;  Val Loss: 0.9698 Best Val loss 0.8958\n",
      "5 Epoch: 801/1000 - Train Loss: 0.0173;  Val Loss: 0.9835 Best Val loss 0.8958\n",
      "5 Epoch: 901/1000 - Train Loss: 0.0170;  Val Loss: 0.9958 Best Val loss 0.8958\n"
     ]
    },
    {
     "data": {
      "application/vnd.jupyter.widget-view+json": {
       "model_id": "d6d6a79b47674de7812a5ffb42909b82",
       "version_major": 2,
       "version_minor": 0
      },
      "text/plain": [
       "  0%|          | 0/11 [00:00<?, ?it/s]"
      ]
     },
     "metadata": {},
     "output_type": "display_data"
    },
    {
     "data": {
      "application/vnd.jupyter.widget-view+json": {
       "model_id": "e04b6858263f4b93adeef19d72824a97",
       "version_major": 2,
       "version_minor": 0
      },
      "text/plain": [
       "  0%|          | 0/2 [00:00<?, ?it/s]"
      ]
     },
     "metadata": {},
     "output_type": "display_data"
    },
    {
     "data": {
      "application/vnd.jupyter.widget-view+json": {
       "model_id": "182daf6dd76f49bb806e94cb254fe5a2",
       "version_major": 2,
       "version_minor": 0
      },
      "text/plain": [
       "Epochs:   0%|          | 0/1000 [00:00<?, ?it/s]"
      ]
     },
     "metadata": {},
     "output_type": "display_data"
    },
    {
     "name": "stdout",
     "output_type": "stream",
     "text": [
      "6 Epoch: 1/1000 - Train Loss: 6.3121;  Val Loss: 1.7487 Best Val loss 1.7487\n",
      "6 Epoch: 101/1000 - Train Loss: 0.3950;  Val Loss: 0.9709 Best Val loss 0.8732\n",
      "6 Epoch: 201/1000 - Train Loss: 0.0579;  Val Loss: 0.9880 Best Val loss 0.8732\n",
      "6 Epoch: 301/1000 - Train Loss: 0.0353;  Val Loss: 0.9770 Best Val loss 0.8732\n",
      "6 Epoch: 401/1000 - Train Loss: 0.0299;  Val Loss: 0.9509 Best Val loss 0.8732\n",
      "6 Epoch: 501/1000 - Train Loss: 0.0191;  Val Loss: 0.9382 Best Val loss 0.8732\n",
      "6 Epoch: 601/1000 - Train Loss: 0.0185;  Val Loss: 0.9651 Best Val loss 0.8732\n",
      "6 Epoch: 701/1000 - Train Loss: 0.0169;  Val Loss: 0.9715 Best Val loss 0.8732\n",
      "6 Epoch: 801/1000 - Train Loss: 0.0148;  Val Loss: 0.9855 Best Val loss 0.8732\n",
      "6 Epoch: 901/1000 - Train Loss: 0.0124;  Val Loss: 0.9855 Best Val loss 0.8732\n"
     ]
    },
    {
     "data": {
      "application/vnd.jupyter.widget-view+json": {
       "model_id": "18b6b231d1a6419bbe1e13d1bd094660",
       "version_major": 2,
       "version_minor": 0
      },
      "text/plain": [
       "  0%|          | 0/11 [00:00<?, ?it/s]"
      ]
     },
     "metadata": {},
     "output_type": "display_data"
    },
    {
     "data": {
      "application/vnd.jupyter.widget-view+json": {
       "model_id": "35d6bff94b7f4b56af7ef5551c2f5be2",
       "version_major": 2,
       "version_minor": 0
      },
      "text/plain": [
       "  0%|          | 0/2 [00:00<?, ?it/s]"
      ]
     },
     "metadata": {},
     "output_type": "display_data"
    },
    {
     "data": {
      "application/vnd.jupyter.widget-view+json": {
       "model_id": "ab3f046f1e20422f921472b2e4b2e528",
       "version_major": 2,
       "version_minor": 0
      },
      "text/plain": [
       "Epochs:   0%|          | 0/1000 [00:00<?, ?it/s]"
      ]
     },
     "metadata": {},
     "output_type": "display_data"
    },
    {
     "name": "stdout",
     "output_type": "stream",
     "text": [
      "7 Epoch: 1/1000 - Train Loss: 6.3049;  Val Loss: 1.3168 Best Val loss 1.3168\n",
      "7 Epoch: 101/1000 - Train Loss: 0.4706;  Val Loss: 0.9721 Best Val loss 0.8839\n",
      "7 Epoch: 201/1000 - Train Loss: 0.0597;  Val Loss: 0.9577 Best Val loss 0.8839\n",
      "7 Epoch: 301/1000 - Train Loss: 0.0410;  Val Loss: 1.0170 Best Val loss 0.8839\n",
      "7 Epoch: 401/1000 - Train Loss: 0.0277;  Val Loss: 0.9530 Best Val loss 0.8839\n",
      "7 Epoch: 501/1000 - Train Loss: 0.0230;  Val Loss: 0.9843 Best Val loss 0.8839\n",
      "7 Epoch: 601/1000 - Train Loss: 0.0207;  Val Loss: 0.9799 Best Val loss 0.8839\n",
      "7 Epoch: 701/1000 - Train Loss: 0.0189;  Val Loss: 0.9828 Best Val loss 0.8839\n",
      "7 Epoch: 801/1000 - Train Loss: 0.0167;  Val Loss: 0.9660 Best Val loss 0.8839\n",
      "7 Epoch: 901/1000 - Train Loss: 0.0120;  Val Loss: 0.9934 Best Val loss 0.8839\n"
     ]
    },
    {
     "data": {
      "application/vnd.jupyter.widget-view+json": {
       "model_id": "84cd9d97ef1d4850ae8594a51e761686",
       "version_major": 2,
       "version_minor": 0
      },
      "text/plain": [
       "  0%|          | 0/11 [00:00<?, ?it/s]"
      ]
     },
     "metadata": {},
     "output_type": "display_data"
    },
    {
     "data": {
      "application/vnd.jupyter.widget-view+json": {
       "model_id": "69de0201bfd643109966f8b64c1379de",
       "version_major": 2,
       "version_minor": 0
      },
      "text/plain": [
       "  0%|          | 0/2 [00:00<?, ?it/s]"
      ]
     },
     "metadata": {},
     "output_type": "display_data"
    },
    {
     "data": {
      "application/vnd.jupyter.widget-view+json": {
       "model_id": "daa20749ffdd4317aa8341e2400293fe",
       "version_major": 2,
       "version_minor": 0
      },
      "text/plain": [
       "Epochs:   0%|          | 0/1000 [00:00<?, ?it/s]"
      ]
     },
     "metadata": {},
     "output_type": "display_data"
    },
    {
     "name": "stdout",
     "output_type": "stream",
     "text": [
      "8 Epoch: 1/1000 - Train Loss: 6.3966;  Val Loss: 1.9625 Best Val loss 1.9625\n",
      "8 Epoch: 101/1000 - Train Loss: 0.4257;  Val Loss: 0.9813 Best Val loss 0.8853\n",
      "8 Epoch: 201/1000 - Train Loss: 0.0651;  Val Loss: 0.9646 Best Val loss 0.8853\n",
      "8 Epoch: 301/1000 - Train Loss: 0.0327;  Val Loss: 0.9806 Best Val loss 0.8853\n",
      "8 Epoch: 401/1000 - Train Loss: 0.0274;  Val Loss: 0.9673 Best Val loss 0.8853\n",
      "8 Epoch: 501/1000 - Train Loss: 0.0209;  Val Loss: 0.9686 Best Val loss 0.8853\n",
      "8 Epoch: 601/1000 - Train Loss: 0.0181;  Val Loss: 0.9791 Best Val loss 0.8853\n",
      "8 Epoch: 701/1000 - Train Loss: 0.0175;  Val Loss: 0.9918 Best Val loss 0.8853\n",
      "8 Epoch: 801/1000 - Train Loss: 0.0143;  Val Loss: 0.9858 Best Val loss 0.8853\n",
      "8 Epoch: 901/1000 - Train Loss: 0.0148;  Val Loss: 0.9959 Best Val loss 0.8853\n"
     ]
    },
    {
     "data": {
      "application/vnd.jupyter.widget-view+json": {
       "model_id": "12e35cc5453e45d389b53d2b6d2c01bf",
       "version_major": 2,
       "version_minor": 0
      },
      "text/plain": [
       "  0%|          | 0/11 [00:00<?, ?it/s]"
      ]
     },
     "metadata": {},
     "output_type": "display_data"
    },
    {
     "data": {
      "application/vnd.jupyter.widget-view+json": {
       "model_id": "f76a7f87fc154ecc91bf5ed2d434a74c",
       "version_major": 2,
       "version_minor": 0
      },
      "text/plain": [
       "  0%|          | 0/2 [00:00<?, ?it/s]"
      ]
     },
     "metadata": {},
     "output_type": "display_data"
    },
    {
     "data": {
      "application/vnd.jupyter.widget-view+json": {
       "model_id": "346b775d4bf34b7ea0cd12c7599847e6",
       "version_major": 2,
       "version_minor": 0
      },
      "text/plain": [
       "Epochs:   0%|          | 0/1000 [00:00<?, ?it/s]"
      ]
     },
     "metadata": {},
     "output_type": "display_data"
    },
    {
     "name": "stdout",
     "output_type": "stream",
     "text": [
      "9 Epoch: 1/1000 - Train Loss: 6.2506;  Val Loss: 1.5475 Best Val loss 1.5475\n",
      "9 Epoch: 101/1000 - Train Loss: 0.3729;  Val Loss: 0.9775 Best Val loss 0.9006\n",
      "9 Epoch: 201/1000 - Train Loss: 0.0614;  Val Loss: 0.9570 Best Val loss 0.9006\n",
      "9 Epoch: 301/1000 - Train Loss: 0.0360;  Val Loss: 0.9685 Best Val loss 0.9006\n",
      "9 Epoch: 401/1000 - Train Loss: 0.0248;  Val Loss: 0.9554 Best Val loss 0.9006\n",
      "9 Epoch: 501/1000 - Train Loss: 0.0236;  Val Loss: 0.9541 Best Val loss 0.8950\n",
      "9 Epoch: 601/1000 - Train Loss: 0.0175;  Val Loss: 0.9464 Best Val loss 0.8950\n",
      "9 Epoch: 701/1000 - Train Loss: 0.0174;  Val Loss: 0.9746 Best Val loss 0.8950\n",
      "9 Epoch: 801/1000 - Train Loss: 0.0142;  Val Loss: 0.9576 Best Val loss 0.8950\n",
      "9 Epoch: 901/1000 - Train Loss: 0.0155;  Val Loss: 0.9640 Best Val loss 0.8950\n"
     ]
    },
    {
     "data": {
      "application/vnd.jupyter.widget-view+json": {
       "model_id": "25753fd23adb4d389793153993ed34c1",
       "version_major": 2,
       "version_minor": 0
      },
      "text/plain": [
       "  0%|          | 0/11 [00:00<?, ?it/s]"
      ]
     },
     "metadata": {},
     "output_type": "display_data"
    },
    {
     "data": {
      "application/vnd.jupyter.widget-view+json": {
       "model_id": "7eeab87697aa450abefc677be651a9f0",
       "version_major": 2,
       "version_minor": 0
      },
      "text/plain": [
       "  0%|          | 0/2 [00:00<?, ?it/s]"
      ]
     },
     "metadata": {},
     "output_type": "display_data"
    },
    {
     "name": "stdout",
     "output_type": "stream",
     "text": [
      "triplet loss lr C1 Accuracy 0.667+-0.051 F1 Score 0.667+-0.035  0.667+-0.051 | 0.667+-0.035\n"
     ]
    }
   ],
   "source": [
    "results = {\n",
    "    'test_accuracy' : [],\n",
    "    'test_precision' : [],\n",
    "    'test_recall' : [],\n",
    "    'test_f1' : []\n",
    "}\n",
    "\n",
    "embedding_dims = 100\n",
    "batch_size = 512\n",
    "epochs = 1000\n",
    "n_workers = 8\n",
    "\n",
    "for j, (train_index, val_index, test_index) in enumerate(cv_Kfold_i):\n",
    "    train_loader, train_loader_label, val_loader, test_loader = prepare_loaders(\n",
    "        emb_tab=embeddings_table, \n",
    "        emb_tab_train=embeddings_table_aug,\n",
    "        y_column=df['assestment'].values, \n",
    "        batch_size=batch_size,\n",
    "        index_llist = [train_index, val_index, test_index],\n",
    "        sizes= [10,3],\n",
    "        n_workers=n_workers\n",
    "    )\n",
    "    \n",
    "    model = Network(embedding_dims)\n",
    "    model = model.to(device)\n",
    "\n",
    "    train_loop(\n",
    "        model=model,\n",
    "        train_loader=train_loader,\n",
    "        val_loader=val_loader,\n",
    "        epochs=1000,\n",
    "        n_print=100,\n",
    "        if_norm=False,\n",
    "        optimizer=optim.Adam(model.parameters(), lr=1e-4, weight_decay=1e-5),\n",
    "        criterion=TripletLoss(),\n",
    "        n_model=j,\n",
    "        model_name='model_X.pt'\n",
    "    )\n",
    "    \n",
    "    model = torch.load('models/model_X.pt')\n",
    "    \n",
    "    \n",
    "    train_results = []\n",
    "    labels = []\n",
    "\n",
    "    model.eval()\n",
    "    with torch.no_grad():\n",
    "        for anchor_claim, label in tqdm(train_loader_label):\n",
    "            anchor_claim = anchor_claim.to(device) if if_norm else (anchor_claim / torch.norm(anchor_claim) ).to(device)\n",
    "\n",
    "            train_results.append(model(anchor_claim).cpu().numpy())\n",
    "            labels.append(label)\n",
    "\n",
    "    train_results = np.concatenate(train_results) \n",
    "    labels = np.concatenate(labels)\n",
    "    train_results.shape\n",
    "\n",
    "    \n",
    "    test_results = []\n",
    "    test_labels = []\n",
    "\n",
    "    model.eval()\n",
    "    with torch.no_grad():\n",
    "        for anchor_claim, label in tqdm(test_loader):\n",
    "            anchor_claim = anchor_claim.to(device) if if_norm else (anchor_claim / torch.norm(anchor_claim) ).to(device)\n",
    "\n",
    "            test_results.append(model(anchor_claim).cpu().numpy())\n",
    "            test_labels.append(label)\n",
    "\n",
    "    test_results = np.concatenate(test_results)\n",
    "    test_labels = np.concatenate(test_labels)\n",
    "    test_results.shape\n",
    "\n",
    "    \n",
    "    clf_lr_1 = LogisticRegression(max_iter=5000, C=1, penalty='l2', solver='liblinear')\n",
    "\n",
    "    y_train_t = labels\n",
    "    X_train_t = train_results\n",
    "    y_test_t = test_labels\n",
    "    X_test_t = test_results\n",
    "\n",
    "    clf_lr_1.fit(X_train_t, y_train_t)\n",
    "\n",
    "    y_pred = clf_lr_1.predict(X_test_t)\n",
    "\n",
    "    results['test_accuracy'].append( accuracy_score(y_test_t, y_pred) ) \n",
    "    results['test_precision'].append( precision_score(y_test_t, y_pred) ) \n",
    "    results['test_recall'].append( recall_score(y_test_t, y_pred) ) \n",
    "    results['test_f1'].append( f1_score(y_test_t, y_pred) ) \n",
    "\n",
    "\n",
    "out = {\n",
    "    \"Accuracy\": np.array(results['test_accuracy']),\n",
    "#     \"Precision\": np.array(results['test_precision']).mean(),\n",
    "#     \"Recall\": np.array(results['test_recall']).mean(),\n",
    "    \"F1 Score\":  np.array(results['test_f1']),\n",
    "    }\n",
    "\n",
    "print(\n",
    "    'triplet loss lr C1',\n",
    "    f'Accuracy {out[\"Accuracy\"].mean():.3f}+-{out[\"Accuracy\"].std():.3f}',\n",
    "    f'F1 Score {out[\"F1 Score\"].mean():.3f}+-{out[\"F1 Score\"].std():.3f}',\n",
    "    f' {out[\"Accuracy\"].mean():.3f}+-{out[\"Accuracy\"].std():.3f} | {out[\"F1 Score\"].mean():.3f}+-{out[\"F1 Score\"].std():.3f}'\n",
    ")    "
   ]
  },
  {
   "cell_type": "code",
   "execution_count": null,
   "metadata": {},
   "outputs": [],
   "source": []
  }
 ],
 "metadata": {
  "kernelspec": {
   "display_name": "Python 3 (ipykernel)",
   "language": "python",
   "name": "python3"
  },
  "language_info": {
   "codemirror_mode": {
    "name": "ipython",
    "version": 3
   },
   "file_extension": ".py",
   "mimetype": "text/x-python",
   "name": "python",
   "nbconvert_exporter": "python",
   "pygments_lexer": "ipython3",
   "version": "3.9.13"
  }
 },
 "nbformat": 4,
 "nbformat_minor": 4
}
