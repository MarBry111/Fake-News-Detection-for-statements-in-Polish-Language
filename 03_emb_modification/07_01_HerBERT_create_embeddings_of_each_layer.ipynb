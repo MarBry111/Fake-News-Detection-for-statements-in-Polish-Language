{
 "cells": [
  {
   "cell_type": "code",
   "execution_count": 94,
   "id": "f7c9d760",
   "metadata": {},
   "outputs": [],
   "source": [
    "import pandas as pd\n",
    "import numpy as np\n",
    "\n",
    "from tqdm import tqdm\n",
    "tqdm.pandas(desc=\"progress-bar\")\n",
    "from tqdm.notebook import tqdm\n",
    "from gensim.models import Doc2Vec\n",
    "\n",
    "import gensim\n",
    "from sklearn.linear_model import LogisticRegression\n",
    "from gensim.models.doc2vec import TaggedDocument\n",
    "\n",
    "from sklearn.model_selection import KFold, train_test_split\n",
    "\n",
    "from sklearn.base import clone as sklearn_clone\n",
    "\n",
    "from gensim.test.test_doc2vec import ConcatenatedDoc2Vec\n",
    "\n",
    "from sklearn.metrics import (\n",
    "    accuracy_score, \n",
    "    f1_score, \n",
    "    recall_score,\n",
    "    precision_score,\n",
    "    roc_auc_score, confusion_matrix, roc_curve, classification_report\n",
    ")\n",
    "\n",
    "from sklearn.decomposition import PCA\n",
    "\n",
    "import matplotlib.pyplot as plt\n",
    "\n",
    "from sentence_transformers import SentenceTransformer\n",
    "from transformers import AutoTokenizer, AutoModel"
   ]
  },
  {
   "cell_type": "markdown",
   "id": "5e636b0b",
   "metadata": {},
   "source": [
    "## Lodad data"
   ]
  },
  {
   "cell_type": "code",
   "execution_count": 95,
   "id": "20999d1f",
   "metadata": {},
   "outputs": [
    {
     "data": {
      "text/plain": [
       "(6541, 1)"
      ]
     },
     "execution_count": 95,
     "metadata": {},
     "output_type": "execute_result"
    }
   ],
   "source": [
    "df_topics = pd.read_csv('../datasets/ready2use/topics.csv', index_col=0)\n",
    "df_topics.shape"
   ]
  },
  {
   "cell_type": "code",
   "execution_count": 96,
   "id": "8664d319",
   "metadata": {},
   "outputs": [],
   "source": [
    "df = pd.read_csv('../datasets/ready2use/fake_news_features_combined.csv', sep=';')\n",
    "\n",
    "df = df[ df['assestment'] != 'brak' ]\n",
    "\n",
    "df.loc[:, 'assestment'] = df['assestment'].replace({\n",
    "    'falsz' : 'Fałsz',\n",
    "    'zbity_zegar' : 'Fałsz',\n",
    "    'raczej_falsz' : 'Fałsz',\n",
    "    'prawda' : 'Prawda',\n",
    "    'blisko_prawdy' : 'Prawda',\n",
    "    'polprawda' : 'Manipulacja',\n",
    "    'Częściowy fałsz' : 'Manipulacja'\n",
    "})\n",
    "\n",
    "df = df[ df['assestment'] != 'Nieweryfikowalne' ]\n",
    "df = df[ df['assestment'] != 'Manipulacja' ]\n",
    "\n",
    "df['assestment'] = df['assestment'].replace({\n",
    "    'Fałsz' : 0,\n",
    "#     'Manipulacja' : 1,\n",
    "    'Prawda' : 1\n",
    "}).astype(int)\n",
    "\n",
    "y_train = df.copy()['assestment'][df.index.isin(df_topics.index)]\n",
    "\n",
    "X_train = df.copy()['text_clean'][df.index.isin(df_topics.index)]"
   ]
  },
  {
   "cell_type": "code",
   "execution_count": 97,
   "id": "03034ec9",
   "metadata": {},
   "outputs": [
    {
     "name": "stderr",
     "output_type": "stream",
     "text": [
      "Some weights of the model checkpoint at allegro/herbert-large-cased were not used when initializing BertModel: ['cls.predictions.transform.LayerNorm.weight', 'cls.predictions.decoder.weight', 'cls.predictions.decoder.bias', 'cls.sso.sso_relationship.weight', 'cls.predictions.transform.LayerNorm.bias', 'cls.sso.sso_relationship.bias', 'cls.predictions.bias', 'cls.predictions.transform.dense.weight', 'cls.predictions.transform.dense.bias']\n",
      "- This IS expected if you are initializing BertModel from the checkpoint of a model trained on another task or with another architecture (e.g. initializing a BertForSequenceClassification model from a BertForPreTraining model).\n",
      "- This IS NOT expected if you are initializing BertModel from the checkpoint of a model that you expect to be exactly identical (initializing a BertForSequenceClassification model from a BertForSequenceClassification model).\n"
     ]
    }
   ],
   "source": [
    "tokenizer = AutoTokenizer.from_pretrained(\"allegro/herbert-large-cased\")\n",
    "model = AutoModel.from_pretrained(\"allegro/herbert-large-cased\", output_hidden_states=True)"
   ]
  },
  {
   "cell_type": "code",
   "execution_count": 98,
   "id": "5e61c226",
   "metadata": {},
   "outputs": [],
   "source": [
    "# model.train()"
   ]
  },
  {
   "cell_type": "markdown",
   "id": "3a0389bb",
   "metadata": {},
   "source": [
    "### TEST"
   ]
  },
  {
   "cell_type": "code",
   "execution_count": 99,
   "id": "31511cd7",
   "metadata": {},
   "outputs": [
    {
     "data": {
      "text/plain": [
       "' udzielenie bankowi centralnemu Ukrainy tzw. swapa walutowego w kwocie 1 mld dolarów. Narodowy Bank Polski był pierwszym i jak dotąd jedynym bankiem centralnym, który zaoferował Narodowemu Bankowi Ukrainy takie wsparcie.'"
      ]
     },
     "execution_count": 99,
     "metadata": {},
     "output_type": "execute_result"
    }
   ],
   "source": [
    "t = X_train.values[0]\n",
    "t"
   ]
  },
  {
   "cell_type": "code",
   "execution_count": 100,
   "id": "0a365acd",
   "metadata": {},
   "outputs": [],
   "source": [
    "encoded_input = tokenizer(t, return_tensors='pt', truncation=True, padding=True)"
   ]
  },
  {
   "cell_type": "code",
   "execution_count": 101,
   "id": "8f6c58c0",
   "metadata": {},
   "outputs": [],
   "source": [
    "output = model(**encoded_input)"
   ]
  },
  {
   "cell_type": "code",
   "execution_count": 102,
   "id": "3669ab77",
   "metadata": {},
   "outputs": [
    {
     "data": {
      "text/plain": [
       "torch.Size([1, 53, 1024])"
      ]
     },
     "execution_count": 102,
     "metadata": {},
     "output_type": "execute_result"
    }
   ],
   "source": [
    "output['last_hidden_state'].shape"
   ]
  },
  {
   "cell_type": "code",
   "execution_count": 103,
   "id": "1b6d50d0",
   "metadata": {},
   "outputs": [
    {
     "data": {
      "text/plain": [
       "25"
      ]
     },
     "execution_count": 103,
     "metadata": {},
     "output_type": "execute_result"
    }
   ],
   "source": [
    "len(output['hidden_states'])"
   ]
  },
  {
   "cell_type": "code",
   "execution_count": 104,
   "id": "ed75d27a",
   "metadata": {},
   "outputs": [
    {
     "data": {
      "text/plain": [
       "torch.Size([1, 53, 1024])"
      ]
     },
     "execution_count": 104,
     "metadata": {},
     "output_type": "execute_result"
    }
   ],
   "source": [
    "output['hidden_states'][0].shape"
   ]
  },
  {
   "cell_type": "code",
   "execution_count": 105,
   "id": "8faf03df",
   "metadata": {},
   "outputs": [
    {
     "data": {
      "text/plain": [
       "tensor([[-0.1539, -0.3219, -0.2166,  ...,  0.1461, -0.0992, -0.1675]],\n",
       "       grad_fn=<SelectBackward0>)"
      ]
     },
     "execution_count": 105,
     "metadata": {},
     "output_type": "execute_result"
    }
   ],
   "source": [
    "output['hidden_states'][0][:,0]"
   ]
  },
  {
   "cell_type": "markdown",
   "id": "deb0ab04",
   "metadata": {},
   "source": [
    "### Get each layer to different numpy array"
   ]
  },
  {
   "cell_type": "code",
   "execution_count": 107,
   "id": "e4f78150",
   "metadata": {},
   "outputs": [],
   "source": [
    "n_aug = 25\n",
    "\n",
    "if False:\n",
    "    embeddings_table_aug = np.zeros((X_train.shape[0]*n_aug, 1024))\n",
    "\n",
    "    for i, t in enumerate(tqdm(X_train.values)):\n",
    "        encoded_input = tokenizer(t, return_tensors='pt', truncation=True, padding=True)\n",
    "        \n",
    "        output = model(**encoded_input)['hidden_states']\n",
    "        for j, h in enumerate(output):\n",
    "            embeddings_table_aug[i*n_aug+j,:] = h[:,0].detach().numpy()\n",
    "        \n",
    "    with open('../datasets/ready2use/embeddings_pl_herbert_all_hs.npy', 'wb') as f:\n",
    "        np.save(f, embeddings_table_aug)\n",
    "    \n",
    "else:    \n",
    "    with open('../datasets/ready2use/embeddings_pl_herbert_all_hs.npy', 'rb') as f:\n",
    "        embeddings_table_aug = np.load(f)"
   ]
  },
  {
   "cell_type": "code",
   "execution_count": 108,
   "id": "a74b3eba",
   "metadata": {},
   "outputs": [],
   "source": [
    "embeddings_table = pd.read_csv('../datasets/ready2use/embeddings_pl_herbert.csv', sep=\",\", header=None).values"
   ]
  },
  {
   "cell_type": "code",
   "execution_count": 109,
   "id": "8ad44b42",
   "metadata": {},
   "outputs": [
    {
     "data": {
      "text/plain": [
       "(6541, 1024)"
      ]
     },
     "execution_count": 109,
     "metadata": {},
     "output_type": "execute_result"
    }
   ],
   "source": [
    "embeddings_table.shape"
   ]
  },
  {
   "cell_type": "code",
   "execution_count": 110,
   "id": "6e0c0a6b",
   "metadata": {},
   "outputs": [
    {
     "data": {
      "text/plain": [
       "163525"
      ]
     },
     "execution_count": 110,
     "metadata": {},
     "output_type": "execute_result"
    }
   ],
   "source": [
    "6541*25"
   ]
  },
  {
   "cell_type": "code",
   "execution_count": 111,
   "id": "2f0f6c71",
   "metadata": {},
   "outputs": [
    {
     "data": {
      "text/plain": [
       "(163525, 1024)"
      ]
     },
     "execution_count": 111,
     "metadata": {},
     "output_type": "execute_result"
    }
   ],
   "source": [
    "embeddings_table_aug.shape"
   ]
  },
  {
   "cell_type": "markdown",
   "id": "c604613a",
   "metadata": {},
   "source": [
    "### Kfold"
   ]
  },
  {
   "cell_type": "code",
   "execution_count": 112,
   "id": "c0cefae2",
   "metadata": {},
   "outputs": [],
   "source": [
    "cv_fold = []\n",
    "cv_fold_i = []\n",
    "\n",
    "for i in df_topics['topic'].unique().reshape(10,-1):\n",
    "    train_cv = df_topics.index[ ~np.isin(df_topics[\"topic\"], [i, np.mod(i+1,10)]) ].values\n",
    "    val_cv = df_topics.index[ np.isin(df_topics[\"topic\"], np.mod(i+1,10)) ].values\n",
    "    test_cv = df_topics.index[ np.isin(df_topics[\"topic\"], i) ].values\n",
    "    \n",
    "    train_cv_i = df_topics.reset_index().index[ ~np.isin(df_topics[\"topic\"], [i, np.mod(i+1,10)]) ].values\n",
    "    val_cv_i = df_topics.reset_index().index[ np.isin(df_topics[\"topic\"], np.mod(i+1,10)) ].values\n",
    "    test_cv_i = df_topics.reset_index().index[ np.isin(df_topics[\"topic\"], i) ].values\n",
    "    \n",
    "    cv_fold.append( [train_cv, val_cv, test_cv])\n",
    "    cv_fold_i.append( [train_cv_i, val_cv_i, test_cv_i])"
   ]
  },
  {
   "cell_type": "code",
   "execution_count": 113,
   "id": "a34d6bff",
   "metadata": {},
   "outputs": [],
   "source": [
    "kf = KFold(n_splits=10, shuffle=True)\n",
    "kf.get_n_splits(df_topics)\n",
    "\n",
    "cv_Kfold = []\n",
    "cv_Kfold_i = []\n",
    "\n",
    "for train_index, test_index in kf.split(df_topics):\n",
    "    train_index, val_index = train_test_split(train_index, test_size=1/9, shuffle=True)\n",
    "    train_cv = df_topics.iloc[ train_index, : ].index.values\n",
    "    val_cv = df_topics.iloc[ val_index, : ].index.values\n",
    "    test_cv = df_topics.iloc[ test_index, : ].index.values\n",
    "\n",
    "    train_cv_i= df_topics.reset_index().iloc[ train_index, : ].index.values\n",
    "    val_cv_i = df_topics.reset_index().iloc[ val_index, : ].index.values\n",
    "    test_cv_i = df_topics.reset_index().iloc[ test_index, : ].index.values\n",
    "    \n",
    "    cv_Kfold.append( [train_cv, val_cv, test_cv])\n",
    "    cv_Kfold_i.append( [train_cv_i, val_cv_i, test_cv_i])"
   ]
  },
  {
   "cell_type": "markdown",
   "id": "ceb4877a",
   "metadata": {},
   "source": [
    "## Experiments"
   ]
  },
  {
   "cell_type": "code",
   "execution_count": 114,
   "id": "4cabdb95",
   "metadata": {},
   "outputs": [],
   "source": [
    "clf_lr_1 = LogisticRegression(max_iter=5000, C=1, penalty='l2', solver='liblinear')"
   ]
  },
  {
   "cell_type": "code",
   "execution_count": 115,
   "id": "68be1460",
   "metadata": {},
   "outputs": [],
   "source": [
    "def run_experiment_h(X, y, cv, clf_org, use_pca=False):\n",
    "\n",
    "    results = {\n",
    "        'test_accuracy' : [],\n",
    "        'test_precision' : [],\n",
    "        'test_recall' : [],\n",
    "        'test_f1' : []\n",
    "    }\n",
    "\n",
    "    c_matrix = np.zeros((2,2))\n",
    "\n",
    "    for train_cv, val_cv, test_cv in cv:\n",
    "        clf = sklearn_clone(clf_org)\n",
    "        \n",
    "        y_train_t = y[train_cv]\n",
    "        X_train_t = X[train_cv, :]\n",
    "        y_test_t = y[val_cv] \n",
    "        X_test_t = X[val_cv, :]\n",
    "        \n",
    "        if use_pca:\n",
    "            pca = PCA(n_components=100)\n",
    "            pca.fit(X_train_t)\n",
    "\n",
    "            X_train_t = pca.transform(X_train_t)\n",
    "            X_test_t = pca.transform(X_test_t)\n",
    "        \n",
    "        clf.fit(X_train_t, y_train_t)\n",
    "\n",
    "        y_pred = clf.predict(X_test_t)\n",
    "        \n",
    "        confusion = confusion_matrix(y_test_t, y_pred)\n",
    "        c_matrix += confusion\n",
    "\n",
    "        results['test_accuracy'].append( accuracy_score(y_test_t, y_pred) ) \n",
    "#         results['test_precision'].append( precision_score(y_test_t, y_pred) ) \n",
    "#         results['test_recall'].append( recall_score(y_test_t, y_pred) ) \n",
    "        results['test_f1'].append( f1_score(y_test_t, y_pred) ) \n",
    "        \n",
    "\n",
    "    metrics = {\n",
    "        \"Accuracy\": np.array(results['test_accuracy']),\n",
    "    #     \"Precision\": np.array(results['test_precision']).mean(),\n",
    "    #     \"Recall\": np.array(results['test_recall']).mean(),\n",
    "        \"F1 Score\":  np.array(results['test_f1']),\n",
    "        }\n",
    "\n",
    "    return metrics"
   ]
  },
  {
   "cell_type": "code",
   "execution_count": 116,
   "id": "53fcd046",
   "metadata": {},
   "outputs": [],
   "source": [
    "def run_experiment_h_final(X, y, cv, clf_org, use_pca=False):\n",
    "\n",
    "    results = {\n",
    "        'test_accuracy' : [],\n",
    "        'test_precision' : [],\n",
    "        'test_recall' : [],\n",
    "        'test_f1' : []\n",
    "    }\n",
    "\n",
    "    c_matrix = np.zeros((2,2))\n",
    "\n",
    "    for train_cv, val_cv, test_cv in tqdm(cv):\n",
    "        clf = sklearn_clone(clf_org)\n",
    "        \n",
    "        train_cv = np.concatenate([train_cv, val_cv])\n",
    "        np.random.shuffle(train_cv)  \n",
    "        np.random.shuffle(test_cv)  \n",
    "        \n",
    "        y_train_t = y[train_cv]\n",
    "        X_train_t = X[train_cv, :]\n",
    "        y_test_t = y[test_cv] \n",
    "        X_test_t = X[test_cv, :]\n",
    "        \n",
    "        if use_pca:\n",
    "            pca = PCA(n_components=100)\n",
    "            pca.fit(X_train_t)\n",
    "\n",
    "            X_train_t = pca.transform(X_train_t)\n",
    "            X_test_t = pca.transform(X_test_t)\n",
    "        \n",
    "        clf.fit(X_train_t, y_train_t)\n",
    "\n",
    "        y_pred = clf.predict(X_test_t)\n",
    "        \n",
    "        confusion = confusion_matrix(y_test_t, y_pred)\n",
    "        c_matrix += confusion\n",
    "\n",
    "        results['test_accuracy'].append( accuracy_score(y_test_t, y_pred) ) \n",
    "#         results['test_precision'].append( precision_score(y_test_t, y_pred) ) \n",
    "#         results['test_recall'].append( recall_score(y_test_t, y_pred) ) \n",
    "        results['test_f1'].append( f1_score(y_test_t, y_pred) ) \n",
    "        \n",
    "\n",
    "    metrics = {\n",
    "        \"Accuracy\": np.array(results['test_accuracy']),\n",
    "    #     \"Precision\": np.array(results['test_precision']).mean(),\n",
    "    #     \"Recall\": np.array(results['test_recall']).mean(),\n",
    "        \"F1 Score\":  np.array(results['test_f1']),\n",
    "        }\n",
    "\n",
    "    return metrics"
   ]
  },
  {
   "cell_type": "markdown",
   "id": "900c772c",
   "metadata": {},
   "source": [
    "### Get acc and f1score for train x val splits"
   ]
  },
  {
   "cell_type": "code",
   "execution_count": 117,
   "id": "d01548dc",
   "metadata": {},
   "outputs": [
    {
     "data": {
      "application/vnd.jupyter.widget-view+json": {
       "model_id": "7dac4b171ee2450f95a03bc2f992ece1",
       "version_major": 2,
       "version_minor": 0
      },
      "text/plain": [
       "  0%|          | 0/25 [00:00<?, ?it/s]"
      ]
     },
     "metadata": {},
     "output_type": "display_data"
    },
    {
     "name": "stdout",
     "output_type": "stream",
     "text": [
      "herbert h_0 C1 Accuracy 0.528+-0.059 F1 Score 0.000+-0.000  0.528+-0.059 | 0.000+-0.000\n",
      "herbert h_1 C1 Accuracy 0.643+-0.028 F1 Score 0.578+-0.047  0.643+-0.028 | 0.578+-0.047\n",
      "herbert h_2 C1 Accuracy 0.663+-0.025 F1 Score 0.613+-0.043  0.663+-0.025 | 0.613+-0.043\n",
      "herbert h_3 C1 Accuracy 0.682+-0.021 F1 Score 0.654+-0.040  0.682+-0.021 | 0.654+-0.040\n",
      "herbert h_4 C1 Accuracy 0.681+-0.023 F1 Score 0.659+-0.040  0.681+-0.023 | 0.659+-0.040\n",
      "herbert h_5 C1 Accuracy 0.683+-0.018 F1 Score 0.663+-0.036  0.683+-0.018 | 0.663+-0.036\n",
      "herbert h_6 C1 Accuracy 0.691+-0.018 F1 Score 0.669+-0.042  0.691+-0.018 | 0.669+-0.042\n",
      "herbert h_7 C1 Accuracy 0.693+-0.021 F1 Score 0.670+-0.045  0.693+-0.021 | 0.670+-0.045\n",
      "herbert h_8 C1 Accuracy 0.687+-0.012 F1 Score 0.663+-0.046  0.687+-0.012 | 0.663+-0.046\n",
      "herbert h_9 C1 Accuracy 0.690+-0.014 F1 Score 0.666+-0.041  0.690+-0.014 | 0.666+-0.041\n",
      "herbert h_10 C1 Accuracy 0.690+-0.017 F1 Score 0.666+-0.041  0.690+-0.017 | 0.666+-0.041\n",
      "herbert h_11 C1 Accuracy 0.685+-0.018 F1 Score 0.666+-0.035  0.685+-0.018 | 0.666+-0.035\n",
      "herbert h_12 C1 Accuracy 0.693+-0.018 F1 Score 0.674+-0.033  0.693+-0.018 | 0.674+-0.033\n",
      "herbert h_13 C1 Accuracy 0.697+-0.016 F1 Score 0.677+-0.033  0.697+-0.016 | 0.677+-0.033\n",
      "herbert h_14 C1 Accuracy 0.701+-0.014 F1 Score 0.681+-0.040  0.701+-0.014 | 0.681+-0.040\n",
      "herbert h_15 C1 Accuracy 0.708+-0.020 F1 Score 0.693+-0.033  0.708+-0.020 | 0.693+-0.033\n",
      "herbert h_16 C1 Accuracy 0.708+-0.022 F1 Score 0.691+-0.034  0.708+-0.022 | 0.691+-0.034\n",
      "herbert h_17 C1 Accuracy 0.712+-0.023 F1 Score 0.698+-0.038  0.712+-0.023 | 0.698+-0.038\n",
      "herbert h_18 C1 Accuracy 0.710+-0.022 F1 Score 0.692+-0.038  0.710+-0.022 | 0.692+-0.038\n",
      "herbert h_19 C1 Accuracy 0.707+-0.024 F1 Score 0.688+-0.044  0.707+-0.024 | 0.688+-0.044\n",
      "herbert h_20 C1 Accuracy 0.700+-0.027 F1 Score 0.681+-0.037  0.700+-0.027 | 0.681+-0.037\n",
      "herbert h_21 C1 Accuracy 0.698+-0.022 F1 Score 0.682+-0.035  0.698+-0.022 | 0.682+-0.035\n",
      "herbert h_22 C1 Accuracy 0.704+-0.020 F1 Score 0.690+-0.034  0.704+-0.020 | 0.690+-0.034\n",
      "herbert h_23 C1 Accuracy 0.703+-0.019 F1 Score 0.687+-0.041  0.703+-0.019 | 0.687+-0.041\n",
      "herbert h_24 C1 Accuracy 0.693+-0.023 F1 Score 0.671+-0.037  0.693+-0.023 | 0.671+-0.037\n"
     ]
    }
   ],
   "source": [
    "# val_acc, std_acc, val_f1, std_f1 \n",
    "metric_vals = []\n",
    "\n",
    "for j in tqdm(range(25), position=0, leave=True):\n",
    "    out = run_experiment_h(embeddings_table_aug[j::25,:],\n",
    "                           y_train.values, cv_fold_i, clf_lr_1)\n",
    "    print(\n",
    "        f'herbert h_{j} C1',\n",
    "        f'Accuracy {out[\"Accuracy\"].mean():.3f}+-{out[\"Accuracy\"].std():.3f}',\n",
    "        f'F1 Score {out[\"F1 Score\"].mean():.3f}+-{out[\"F1 Score\"].std():.3f}',\n",
    "        f' {out[\"Accuracy\"].mean():.3f}+-{out[\"Accuracy\"].std():.3f} | {out[\"F1 Score\"].mean():.3f}+-{out[\"F1 Score\"].std():.3f}'\n",
    "    )\n",
    "    \n",
    "    metric_vals.append([\n",
    "        out[\"Accuracy\"].mean(),\n",
    "        out[\"Accuracy\"].std(),\n",
    "        out[\"F1 Score\"].mean(),\n",
    "        out[\"F1 Score\"].std()\n",
    "    ])"
   ]
  },
  {
   "cell_type": "code",
   "execution_count": 118,
   "id": "7d402e33",
   "metadata": {},
   "outputs": [],
   "source": [
    "metric_vals = np.array(metric_vals)"
   ]
  },
  {
   "cell_type": "code",
   "execution_count": 119,
   "id": "3d3f2f36",
   "metadata": {},
   "outputs": [],
   "source": [
    "metric_vals_plot = metric_vals[1:,:]"
   ]
  },
  {
   "cell_type": "code",
   "execution_count": 120,
   "id": "c77d1d12",
   "metadata": {},
   "outputs": [],
   "source": [
    "x = np.arange(metric_vals_plot.shape[0])"
   ]
  },
  {
   "cell_type": "code",
   "execution_count": 121,
   "id": "6030779d",
   "metadata": {},
   "outputs": [
    {
     "data": {
      "image/png": "[encoded data removed]",
      "text/plain": [
       "<Figure size 640x480 with 1 Axes>"
      ]
     },
     "metadata": {},
     "output_type": "display_data"
    }
   ],
   "source": [
    "plt.plot(x, metric_vals_plot[:,0], 'b-', label='accuracy')\n",
    "plt.fill_between(x, \n",
    "                 metric_vals_plot[:,0] - metric_vals_plot[:,1], \n",
    "                 metric_vals_plot[:,0] + metric_vals_plot[:,1], color='b', alpha=0.2)\n",
    "plt.plot(x, metric_vals_plot[:,2], 'r-', label='f1-score')\n",
    "plt.fill_between(x, \n",
    "                 metric_vals_plot[:,2] - metric_vals_plot[:,3], \n",
    "                 metric_vals_plot[:,2] + metric_vals_plot[:,3], color='r', alpha=0.2)\n",
    "plt.legend()\n",
    "plt.show()"
   ]
  },
  {
   "cell_type": "code",
   "execution_count": 126,
   "id": "65a95986",
   "metadata": {},
   "outputs": [],
   "source": [
    "# emb_avg =  embeddings_table_aug[15::25,:]\n",
    "\n",
    "# for j in range(16, 19):\n",
    "#     emb_avg = emb_avg + embeddings_table_aug[j::25,:]\n",
    "\n",
    "# out = run_experiment_h(emb_avg, y_train.values, cv_fold_i, clf_lr_1)\n",
    "# print(\n",
    "#     f'herbert h avg C1',\n",
    "#     f'Accuracy {out[\"Accuracy\"].mean():.3f}+-{out[\"Accuracy\"].std():.3f}',\n",
    "#     f'F1 Score {out[\"F1 Score\"].mean():.3f}+-{out[\"F1 Score\"].std():.3f}',\n",
    "#     f' {out[\"Accuracy\"].mean():.3f}+-{out[\"Accuracy\"].std():.3f} | {out[\"F1 Score\"].mean():.3f}+-{out[\"F1 Score\"].std():.3f}'\n",
    "# )"
   ]
  },
  {
   "cell_type": "code",
   "execution_count": 123,
   "id": "456e31f1",
   "metadata": {},
   "outputs": [
    {
     "name": "stdout",
     "output_type": "stream",
     "text": [
      "herbert h avg C1 Accuracy 0.709+-0.021 F1 Score 0.692+-0.040  0.709+-0.021 | 0.692+-0.040\n"
     ]
    }
   ],
   "source": [
    "emb_avg =  embeddings_table_aug[15::25,:]\n",
    "\n",
    "for j in range(16, 19):\n",
    "    emb_avg = emb_avg + embeddings_table_aug[j::25,:]\n",
    "    \n",
    "emb_avg = emb_avg/5\n",
    "\n",
    "out = run_experiment_h(emb_avg, y_train.values, cv_fold_i, clf_lr_1)\n",
    "print(\n",
    "    f'herbert h avg C1',\n",
    "    f'Accuracy {out[\"Accuracy\"].mean():.3f}+-{out[\"Accuracy\"].std():.3f}',\n",
    "    f'F1 Score {out[\"F1 Score\"].mean():.3f}+-{out[\"F1 Score\"].std():.3f}',\n",
    "    f' {out[\"Accuracy\"].mean():.3f}+-{out[\"Accuracy\"].std():.3f} | {out[\"F1 Score\"].mean():.3f}+-{out[\"F1 Score\"].std():.3f}'\n",
    ")"
   ]
  },
  {
   "cell_type": "markdown",
   "id": "b1b626a4",
   "metadata": {},
   "source": [
    "### Test on full data"
   ]
  },
  {
   "cell_type": "code",
   "execution_count": 124,
   "id": "00022627",
   "metadata": {},
   "outputs": [
    {
     "data": {
      "application/vnd.jupyter.widget-view+json": {
       "model_id": "b4124ffa1e2b4f2cbd9012b0114794b9",
       "version_major": 2,
       "version_minor": 0
      },
      "text/plain": [
       "  0%|          | 0/10 [00:00<?, ?it/s]"
      ]
     },
     "metadata": {},
     "output_type": "display_data"
    },
    {
     "name": "stdout",
     "output_type": "stream",
     "text": [
      "herbert h avg C1 Accuracy 0.713+-0.022 F1 Score 0.697+-0.035  0.713+-0.022 | 0.697+-0.035\n"
     ]
    }
   ],
   "source": [
    "emb_avg =  embeddings_table_aug[15::25,:]\n",
    "\n",
    "for j in range(16, 19):\n",
    "    emb_avg = emb_avg + embeddings_table_aug[j::25,:]\n",
    "    \n",
    "emb_avg = emb_avg/5\n",
    "\n",
    "\n",
    "out = run_experiment_h_final(emb_avg, y_train.values, cv_fold_i, clf_lr_1)\n",
    "print(\n",
    "    f'herbert h avg C1',\n",
    "    f'Accuracy {out[\"Accuracy\"].mean():.3f}+-{out[\"Accuracy\"].std():.3f}',\n",
    "    f'F1 Score {out[\"F1 Score\"].mean():.3f}+-{out[\"F1 Score\"].std():.3f}',\n",
    "    f' {out[\"Accuracy\"].mean():.3f}+-{out[\"Accuracy\"].std():.3f} | {out[\"F1 Score\"].mean():.3f}+-{out[\"F1 Score\"].std():.3f}'\n",
    ")"
   ]
  },
  {
   "cell_type": "code",
   "execution_count": 125,
   "id": "1a5f0b42",
   "metadata": {},
   "outputs": [
    {
     "data": {
      "application/vnd.jupyter.widget-view+json": {
       "model_id": "be20779d78b346aea9ad8c88d62748eb",
       "version_major": 2,
       "version_minor": 0
      },
      "text/plain": [
       "  0%|          | 0/10 [00:00<?, ?it/s]"
      ]
     },
     "metadata": {},
     "output_type": "display_data"
    },
    {
     "name": "stdout",
     "output_type": "stream",
     "text": [
      "herbert h avg C1 Accuracy 0.696+-0.016 F1 Score 0.675+-0.035  0.696+-0.016 | 0.675+-0.035\n"
     ]
    }
   ],
   "source": [
    "emb_last =  embeddings_table_aug[24::25,:]\n",
    "\n",
    "out = run_experiment_h_final(emb_last, y_train.values, cv_fold_i, clf_lr_1)\n",
    "print(\n",
    "    f'herbert h avg C1',\n",
    "    f'Accuracy {out[\"Accuracy\"].mean():.3f}+-{out[\"Accuracy\"].std():.3f}',\n",
    "    f'F1 Score {out[\"F1 Score\"].mean():.3f}+-{out[\"F1 Score\"].std():.3f}',\n",
    "    f' {out[\"Accuracy\"].mean():.3f}+-{out[\"Accuracy\"].std():.3f} | {out[\"F1 Score\"].mean():.3f}+-{out[\"F1 Score\"].std():.3f}'\n",
    ")"
   ]
  },
  {
   "cell_type": "code",
   "execution_count": null,
   "id": "f271c026",
   "metadata": {},
   "outputs": [],
   "source": []
  },
  {
   "cell_type": "code",
   "execution_count": null,
   "id": "6414c0e1",
   "metadata": {},
   "outputs": [],
   "source": []
  },
  {
   "cell_type": "code",
   "execution_count": 32,
   "id": "af487f28",
   "metadata": {},
   "outputs": [
    {
     "name": "stderr",
     "output_type": "stream",
     "text": [
      "100%|███████████████████████████████████████████| 10/10 [00:11<00:00,  1.11s/it]"
     ]
    },
    {
     "name": "stdout",
     "output_type": "stream",
     "text": [
      "herbert PCA 100 lr C1 Accuracy 0.689+-0.013 F1 Score 0.664+-0.051  0.689+-0.013 | 0.664+-0.051\n"
     ]
    },
    {
     "name": "stderr",
     "output_type": "stream",
     "text": [
      "\n"
     ]
    }
   ],
   "source": [
    "out = run_experiment_h(embeddings_table, y_train.values, cv_fold_i, clf_lr_1, True)\n",
    "print(\n",
    "    'herbert PCA 100 lr C1',\n",
    "    f'Accuracy {out[\"Accuracy\"].mean():.3f}+-{out[\"Accuracy\"].std():.3f}',\n",
    "    f'F1 Score {out[\"F1 Score\"].mean():.3f}+-{out[\"F1 Score\"].std():.3f}',\n",
    "    f' {out[\"Accuracy\"].mean():.3f}+-{out[\"Accuracy\"].std():.3f} | {out[\"F1 Score\"].mean():.3f}+-{out[\"F1 Score\"].std():.3f}'\n",
    ")"
   ]
  },
  {
   "cell_type": "code",
   "execution_count": 33,
   "id": "b05b82be",
   "metadata": {},
   "outputs": [
    {
     "name": "stderr",
     "output_type": "stream",
     "text": [
      "100%|███████████████████████████████████████████| 10/10 [00:21<00:00,  2.19s/it]"
     ]
    },
    {
     "name": "stdout",
     "output_type": "stream",
     "text": [
      "herbert lr C1 Accuracy 0.696+-0.013 F1 Score 0.683+-0.018  0.696+-0.013 | 0.683+-0.018\n"
     ]
    },
    {
     "name": "stderr",
     "output_type": "stream",
     "text": [
      "\n"
     ]
    }
   ],
   "source": [
    "out = run_experiment_h(embeddings_table, y_train.values, cv_Kfold_i, clf_lr_1)\n",
    "print(\n",
    "    'herbert lr C1',\n",
    "    f'Accuracy {out[\"Accuracy\"].mean():.3f}+-{out[\"Accuracy\"].std():.3f}',\n",
    "    f'F1 Score {out[\"F1 Score\"].mean():.3f}+-{out[\"F1 Score\"].std():.3f}',\n",
    "    f' {out[\"Accuracy\"].mean():.3f}+-{out[\"Accuracy\"].std():.3f} | {out[\"F1 Score\"].mean():.3f}+-{out[\"F1 Score\"].std():.3f}'\n",
    ")"
   ]
  },
  {
   "cell_type": "code",
   "execution_count": 34,
   "id": "5e72609c",
   "metadata": {},
   "outputs": [
    {
     "name": "stderr",
     "output_type": "stream",
     "text": [
      "100%|███████████████████████████████████████████| 10/10 [00:08<00:00,  1.13it/s]"
     ]
    },
    {
     "name": "stdout",
     "output_type": "stream",
     "text": [
      "herbert lr C1 Accuracy 0.695+-0.009 F1 Score 0.680+-0.017  0.695+-0.009 | 0.680+-0.017\n"
     ]
    },
    {
     "name": "stderr",
     "output_type": "stream",
     "text": [
      "\n"
     ]
    }
   ],
   "source": [
    "out = run_experiment_h(embeddings_table, y_train.values, cv_Kfold_i, clf_lr_1, True)\n",
    "print(\n",
    "    'herbert lr C1',\n",
    "    f'Accuracy {out[\"Accuracy\"].mean():.3f}+-{out[\"Accuracy\"].std():.3f}',\n",
    "    f'F1 Score {out[\"F1 Score\"].mean():.3f}+-{out[\"F1 Score\"].std():.3f}',\n",
    "    f' {out[\"Accuracy\"].mean():.3f}+-{out[\"Accuracy\"].std():.3f} | {out[\"F1 Score\"].mean():.3f}+-{out[\"F1 Score\"].std():.3f}'\n",
    ")"
   ]
  },
  {
   "cell_type": "code",
   "execution_count": null,
   "id": "c71e55cc",
   "metadata": {},
   "outputs": [],
   "source": []
  }
 ],
 "metadata": {
  "kernelspec": {
   "display_name": "Python 3 (ipykernel)",
   "language": "python",
   "name": "python3"
  },
  "language_info": {
   "codemirror_mode": {
    "name": "ipython",
    "version": 3
   },
   "file_extension": ".py",
   "mimetype": "text/x-python",
   "name": "python",
   "nbconvert_exporter": "python",
   "pygments_lexer": "ipython3",
   "version": "3.9.13"
  }
 },
 "nbformat": 4,
 "nbformat_minor": 5
}
