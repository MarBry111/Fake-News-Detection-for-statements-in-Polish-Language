{
 "cells": [
  {
   "cell_type": "code",
   "execution_count": 68,
   "id": "dfc9cbc4-f358-4fce-8781-eee04b169523",
   "metadata": {},
   "outputs": [],
   "source": [
    "# !pip install openai"
   ]
  },
  {
   "cell_type": "code",
   "execution_count": 101,
   "id": "433b3129-1e4d-4e7e-97ab-26144099bff9",
   "metadata": {},
   "outputs": [],
   "source": [
    "import pandas as pd\n",
    "import numpy as np\n",
    "import re\n",
    "import json\n",
    "\n",
    "from sklearn.metrics import (\n",
    "    accuracy_score, \n",
    "    f1_score, \n",
    "    recall_score,\n",
    "    precision_score,\n",
    "    roc_auc_score, confusion_matrix, roc_curve, classification_report\n",
    ")\n",
    "\n",
    "import os\n",
    "from openai import OpenAI\n",
    "from tqdm.notebook import tqdm"
   ]
  },
  {
   "cell_type": "code",
   "execution_count": 82,
   "id": "aa296636-9378-4ac3-8ce3-00228c619c00",
   "metadata": {},
   "outputs": [],
   "source": [
    "with open('../secrets.json') as f:\n",
    "    secrets = json.load(f)"
   ]
  },
  {
   "cell_type": "code",
   "execution_count": 83,
   "id": "03de8a05-5195-4334-8cbb-186e0e284e89",
   "metadata": {},
   "outputs": [],
   "source": [
    "client = OpenAI(api_key=secrets['chatgtp_api_key_2'],)"
   ]
  },
  {
   "cell_type": "markdown",
   "id": "7e86f61d-0a83-43de-b311-219cf3b4ecf7",
   "metadata": {},
   "source": [
    "# Extract one of the folds"
   ]
  },
  {
   "cell_type": "code",
   "execution_count": 84,
   "id": "069e7f62-ba35-4d44-ad9f-70d2dc7ba047",
   "metadata": {},
   "outputs": [],
   "source": [
    "with open('../datasets/used_data/03_bert_like_models/02_topics.npy', 'rb') as f:\n",
    "    topics = np.load(f).tolist()\n",
    "\n",
    "y_train_u_topics = pd.DataFrame()\n",
    "y_train_u_topics['topic'] = topics\n",
    "y_train_u_topics['n'] = 1"
   ]
  },
  {
   "cell_type": "code",
   "execution_count": 85,
   "id": "99f8cae7-1862-4e94-97b9-bf7890242aa2",
   "metadata": {},
   "outputs": [],
   "source": [
    "cv_fold = []\n",
    "\n",
    "for i in y_train_u_topics['topic'].unique().reshape(10,-1):\n",
    "    train_cv = y_train_u_topics.index[ ~np.isin(y_train_u_topics[\"topic\"], i) ].values\n",
    "    test_cv = y_train_u_topics.index[ np.isin(y_train_u_topics[\"topic\"], i) ].values\n",
    "    \n",
    "    cv_fold.append( [train_cv, test_cv])"
   ]
  },
  {
   "cell_type": "code",
   "execution_count": 86,
   "id": "2be903e2-e7f3-454a-893e-41fdd4ed2b69",
   "metadata": {},
   "outputs": [],
   "source": [
    "train_i_chat, test_i_chat = cv_fold[0]"
   ]
  },
  {
   "cell_type": "code",
   "execution_count": 87,
   "id": "a95047f2-0283-4f15-9c6b-6abd9d2f5615",
   "metadata": {},
   "outputs": [],
   "source": [
    "df_basic_info = pd.read_parquet('../datasets/used_data/03_bert_like_models/01_basic_info_data.parquet')"
   ]
  },
  {
   "cell_type": "code",
   "execution_count": 106,
   "id": "080bc027-67be-4488-85f7-e4ab05052cde",
   "metadata": {},
   "outputs": [
    {
     "data": {
      "text/html": [
       "<div>\n",
       "<style scoped>\n",
       "    .dataframe tbody tr th:only-of-type {\n",
       "        vertical-align: middle;\n",
       "    }\n",
       "\n",
       "    .dataframe tbody tr th {\n",
       "        vertical-align: top;\n",
       "    }\n",
       "\n",
       "    .dataframe thead th {\n",
       "        text-align: right;\n",
       "    }\n",
       "</style>\n",
       "<table border=\"1\" class=\"dataframe\">\n",
       "  <thead>\n",
       "    <tr style=\"text-align: right;\">\n",
       "      <th></th>\n",
       "      <th>assestment</th>\n",
       "      <th>text</th>\n",
       "      <th>text_clean</th>\n",
       "    </tr>\n",
       "  </thead>\n",
       "  <tbody>\n",
       "    <tr>\n",
       "      <th>0</th>\n",
       "      <td>0</td>\n",
       "      <td>(...) udzielenie bankowi centralnemu Ukrainy t...</td>\n",
       "      <td>udzielenie bankowi centralnemu Ukrainy tzw. s...</td>\n",
       "    </tr>\n",
       "    <tr>\n",
       "      <th>1</th>\n",
       "      <td>0</td>\n",
       "      <td>Polska już w grudniu (2021 roku – przyp. Dema...</td>\n",
       "      <td>Polska już w grudniu 2021 roku miała trzecią n...</td>\n",
       "    </tr>\n",
       "    <tr>\n",
       "      <th>2</th>\n",
       "      <td>0</td>\n",
       "      <td>(Bartosz Cichocki – przyp. Demagog) był jedyny...</td>\n",
       "      <td>Bartosz Cichocki był jedynym ambasadorem z kra...</td>\n",
       "    </tr>\n",
       "    <tr>\n",
       "      <th>3</th>\n",
       "      <td>1</td>\n",
       "      <td>Będąc (prezes NBP Adam Glapiński – przyp. D...</td>\n",
       "      <td>Będąc prezes NBP Adam Glapiński przez 6 lat os...</td>\n",
       "    </tr>\n",
       "    <tr>\n",
       "      <th>4</th>\n",
       "      <td>0</td>\n",
       "      <td>W latach 2018–2019 Narodowy Bank Polski zakupi...</td>\n",
       "      <td>W latach 2018–2019 Narodowy Bank Polski zakupi...</td>\n",
       "    </tr>\n",
       "  </tbody>\n",
       "</table>\n",
       "</div>"
      ],
      "text/plain": [
       "   assestment                                               text  \\\n",
       "0           0  (...) udzielenie bankowi centralnemu Ukrainy t...   \n",
       "1           0  Polska już w grudniu (2021 roku – przyp. Dema...   \n",
       "2           0  (Bartosz Cichocki – przyp. Demagog) był jedyny...   \n",
       "3           1  Będąc (prezes NBP Adam Glapiński – przyp. D...   \n",
       "4           0  W latach 2018–2019 Narodowy Bank Polski zakupi...   \n",
       "\n",
       "                                          text_clean  \n",
       "0   udzielenie bankowi centralnemu Ukrainy tzw. s...  \n",
       "1  Polska już w grudniu 2021 roku miała trzecią n...  \n",
       "2  Bartosz Cichocki był jedynym ambasadorem z kra...  \n",
       "3  Będąc prezes NBP Adam Glapiński przez 6 lat os...  \n",
       "4  W latach 2018–2019 Narodowy Bank Polski zakupi...  "
      ]
     },
     "execution_count": 106,
     "metadata": {},
     "output_type": "execute_result"
    }
   ],
   "source": [
    "df_basic_info.head()"
   ]
  },
  {
   "cell_type": "markdown",
   "id": "520ccdbd-7f0d-4850-a852-e0d62514d814",
   "metadata": {},
   "source": [
    "# Get results from ChatGPT api"
   ]
  },
  {
   "cell_type": "code",
   "execution_count": 99,
   "id": "46ddc7e4-c1bd-44e4-9a7e-1b3bcef7ab2c",
   "metadata": {},
   "outputs": [],
   "source": [
    "messages = [ {\"role\": \"system\", \"content\": \"You are a intelligent assistant.\"} ]\n",
    "\n",
    "promopt = 'Zaklasyfikuj poniższe zdanie jako prawdziwe (True) lub fałszywe (Fake), odpowiedz uzywajac jednego słow - Fake/True:'"
   ]
  },
  {
   "cell_type": "code",
   "execution_count": 98,
   "id": "d4388ea4-3cd5-46fa-a356-ba51a836bda7",
   "metadata": {},
   "outputs": [],
   "source": [
    "# pattern = r'statement:\\s*(True|Fake)'\n",
    "\n",
    "y_zero_shot_test = []"
   ]
  },
  {
   "cell_type": "code",
   "execution_count": 104,
   "id": "ddeed3e5-5e3e-4194-aefc-1767cf144caa",
   "metadata": {},
   "outputs": [],
   "source": [
    "# for i, t in tqdm(df_basic_info.loc[test_i_chat, :]['text'].items(), total=test_i_chat.shape[0]):   \n",
    "#     completion = client.chat.completions.create(\n",
    "#         messages=[\n",
    "#             {\n",
    "#                 \"role\": \"system\",\n",
    "#                 \"content\": f'{promopt} {t}',\n",
    "#             }\n",
    "#         ],\n",
    "#         model=\"gpt-3.5-turbo\",\n",
    "#     )\n",
    "\n",
    "#     reply = completion.choices[0].message.content\n",
    "    \n",
    "#     # match = re.search(pattern, reply)\n",
    "#     # result = match.group(1)\n",
    "\n",
    "#     y_zero_shot_test.append( 'True' in reply )"
   ]
  },
  {
   "cell_type": "code",
   "execution_count": 105,
   "id": "559a19ce-ddf5-4993-8a6a-c42479f84ac3",
   "metadata": {},
   "outputs": [],
   "source": [
    "# y_zero_shot_test = []\n",
    "\n",
    "# pattern = r'statement:\\s*(True|Fake)'\n",
    "\n",
    "# for r in results_chatgpt:\n",
    "#     match = re.search(pattern, r)\n",
    "#     result = match.group(1)\n",
    "    \n",
    "#     y_zero_shot_test.append( result == 'True' )"
   ]
  },
  {
   "cell_type": "code",
   "execution_count": 26,
   "id": "c2a61e28-ca0b-427f-8104-65ddaa0106f9",
   "metadata": {},
   "outputs": [
    {
     "data": {
      "text/plain": [
       "24"
      ]
     },
     "execution_count": 26,
     "metadata": {},
     "output_type": "execute_result"
    }
   ],
   "source": [
    "len(results_chatgpt)"
   ]
  },
  {
   "cell_type": "code",
   "execution_count": 37,
   "id": "171be25b-6462-4c4a-982d-f955eef062cb",
   "metadata": {},
   "outputs": [],
   "source": [
    "y_test = df_basic_info.loc[test_i_chat, 'assestment'][:24].values == np.array(y_zero_shot_test)"
   ]
  },
  {
   "cell_type": "code",
   "execution_count": 38,
   "id": "7148e54c-be58-46cf-addd-1f5eb473524d",
   "metadata": {},
   "outputs": [],
   "source": [
    "y_pred = np.array(y_zero_shot_test)"
   ]
  },
  {
   "cell_type": "code",
   "execution_count": 39,
   "id": "4b2e9098-641b-4b03-950a-f61e093485c3",
   "metadata": {},
   "outputs": [
    {
     "data": {
      "text/plain": [
       "0.2916666666666667"
      ]
     },
     "execution_count": 39,
     "metadata": {},
     "output_type": "execute_result"
    }
   ],
   "source": [
    "accuracy_score(y_test, y_pred) "
   ]
  },
  {
   "cell_type": "code",
   "execution_count": 40,
   "id": "205f0c84-2d17-4f77-a0e7-45632cd08368",
   "metadata": {},
   "outputs": [
    {
     "data": {
      "text/plain": [
       "0.32"
      ]
     },
     "execution_count": 40,
     "metadata": {},
     "output_type": "execute_result"
    }
   ],
   "source": [
    "f1_score(y_test, y_pred) "
   ]
  },
  {
   "cell_type": "code",
   "execution_count": null,
   "id": "de72f994-fa6a-447d-8954-87a0e49197fd",
   "metadata": {},
   "outputs": [],
   "source": []
  }
 ],
 "metadata": {
  "kernelspec": {
   "display_name": "Python 3 (ipykernel)",
   "language": "python",
   "name": "python3"
  },
  "language_info": {
   "codemirror_mode": {
    "name": "ipython",
    "version": 3
   },
   "file_extension": ".py",
   "mimetype": "text/x-python",
   "name": "python",
   "nbconvert_exporter": "python",
   "pygments_lexer": "ipython3",
   "version": "3.9.18"
  }
 },
 "nbformat": 4,
 "nbformat_minor": 5
}
