{
 "cells": [
  {
   "cell_type": "code",
   "execution_count": 5,
   "id": "dfc9cbc4-f358-4fce-8781-eee04b169523",
   "metadata": {},
   "outputs": [],
   "source": [
    "# !pip install openai"
   ]
  },
  {
   "cell_type": "code",
   "execution_count": 7,
   "id": "433b3129-1e4d-4e7e-97ab-26144099bff9",
   "metadata": {},
   "outputs": [],
   "source": [
    "import pandas as pd\n",
    "import numpy as np\n",
    "import re\n",
    "import json\n",
    "\n",
    "from sklearn.metrics import (\n",
    "    accuracy_score, \n",
    "    f1_score, \n",
    "    recall_score,\n",
    "    precision_score,\n",
    "    roc_auc_score, confusion_matrix, roc_curve, classification_report\n",
    ")\n",
    "\n",
    "import os\n",
    "import openai\n",
    "from tqdm.notebook import tqdm"
   ]
  },
  {
   "cell_type": "code",
   "execution_count": 8,
   "id": "aa296636-9378-4ac3-8ce3-00228c619c00",
   "metadata": {},
   "outputs": [],
   "source": [
    "with open('../secrets.json') as f:\n",
    "    secrets = json.load(f)"
   ]
  },
  {
   "cell_type": "code",
   "execution_count": 23,
   "id": "03de8a05-5195-4334-8cbb-186e0e284e89",
   "metadata": {},
   "outputs": [],
   "source": [
    "openai.api_key = secrets['chatgpt_api_key']"
   ]
  },
  {
   "cell_type": "markdown",
   "id": "7e86f61d-0a83-43de-b311-219cf3b4ecf7",
   "metadata": {},
   "source": [
    "# Extract one of the folds"
   ]
  },
  {
   "cell_type": "code",
   "execution_count": 24,
   "id": "069e7f62-ba35-4d44-ad9f-70d2dc7ba047",
   "metadata": {},
   "outputs": [],
   "source": [
    "with open('../datasets/used_data/03_bert_like_models/02_topics.npy', 'rb') as f:\n",
    "    topics = np.load(f).tolist()\n",
    "\n",
    "y_train_u_topics = pd.DataFrame()\n",
    "y_train_u_topics['topic'] = topics\n",
    "y_train_u_topics['n'] = 1"
   ]
  },
  {
   "cell_type": "code",
   "execution_count": 25,
   "id": "99f8cae7-1862-4e94-97b9-bf7890242aa2",
   "metadata": {},
   "outputs": [],
   "source": [
    "cv_fold = []\n",
    "\n",
    "for i in y_train_u_topics['topic'].unique().reshape(10,-1):\n",
    "    train_cv = y_train_u_topics.index[ ~np.isin(y_train_u_topics[\"topic\"], i) ].values\n",
    "    test_cv = y_train_u_topics.index[ np.isin(y_train_u_topics[\"topic\"], i) ].values\n",
    "    \n",
    "    cv_fold.append( [train_cv, test_cv])"
   ]
  },
  {
   "cell_type": "code",
   "execution_count": 26,
   "id": "a95047f2-0283-4f15-9c6b-6abd9d2f5615",
   "metadata": {},
   "outputs": [],
   "source": [
    "df_basic_info = pd.read_parquet('../datasets/used_data/03_bert_like_models/01_basic_info_data.parquet')"
   ]
  },
  {
   "cell_type": "code",
   "execution_count": 27,
   "id": "080bc027-67be-4488-85f7-e4ab05052cde",
   "metadata": {},
   "outputs": [
    {
     "data": {
      "text/html": [
       "<div>\n",
       "<style scoped>\n",
       "    .dataframe tbody tr th:only-of-type {\n",
       "        vertical-align: middle;\n",
       "    }\n",
       "\n",
       "    .dataframe tbody tr th {\n",
       "        vertical-align: top;\n",
       "    }\n",
       "\n",
       "    .dataframe thead th {\n",
       "        text-align: right;\n",
       "    }\n",
       "</style>\n",
       "<table border=\"1\" class=\"dataframe\">\n",
       "  <thead>\n",
       "    <tr style=\"text-align: right;\">\n",
       "      <th></th>\n",
       "      <th>assestment</th>\n",
       "      <th>text</th>\n",
       "      <th>text_clean</th>\n",
       "    </tr>\n",
       "  </thead>\n",
       "  <tbody>\n",
       "    <tr>\n",
       "      <th>0</th>\n",
       "      <td>0</td>\n",
       "      <td>(...) udzielenie bankowi centralnemu Ukrainy t...</td>\n",
       "      <td>udzielenie bankowi centralnemu Ukrainy tzw. s...</td>\n",
       "    </tr>\n",
       "    <tr>\n",
       "      <th>1</th>\n",
       "      <td>0</td>\n",
       "      <td>Polska już w grudniu (2021 roku – przyp. Dema...</td>\n",
       "      <td>Polska już w grudniu 2021 roku miała trzecią n...</td>\n",
       "    </tr>\n",
       "    <tr>\n",
       "      <th>2</th>\n",
       "      <td>0</td>\n",
       "      <td>(Bartosz Cichocki – przyp. Demagog) był jedyny...</td>\n",
       "      <td>Bartosz Cichocki był jedynym ambasadorem z kra...</td>\n",
       "    </tr>\n",
       "    <tr>\n",
       "      <th>3</th>\n",
       "      <td>1</td>\n",
       "      <td>Będąc (prezes NBP Adam Glapiński – przyp. D...</td>\n",
       "      <td>Będąc prezes NBP Adam Glapiński przez 6 lat os...</td>\n",
       "    </tr>\n",
       "    <tr>\n",
       "      <th>4</th>\n",
       "      <td>0</td>\n",
       "      <td>W latach 2018–2019 Narodowy Bank Polski zakupi...</td>\n",
       "      <td>W latach 2018–2019 Narodowy Bank Polski zakupi...</td>\n",
       "    </tr>\n",
       "  </tbody>\n",
       "</table>\n",
       "</div>"
      ],
      "text/plain": [
       "   assestment                                               text  \\\n",
       "0           0  (...) udzielenie bankowi centralnemu Ukrainy t...   \n",
       "1           0  Polska już w grudniu (2021 roku – przyp. Dema...   \n",
       "2           0  (Bartosz Cichocki – przyp. Demagog) był jedyny...   \n",
       "3           1  Będąc (prezes NBP Adam Glapiński – przyp. D...   \n",
       "4           0  W latach 2018–2019 Narodowy Bank Polski zakupi...   \n",
       "\n",
       "                                          text_clean  \n",
       "0   udzielenie bankowi centralnemu Ukrainy tzw. s...  \n",
       "1  Polska już w grudniu 2021 roku miała trzecią n...  \n",
       "2  Bartosz Cichocki był jedynym ambasadorem z kra...  \n",
       "3  Będąc prezes NBP Adam Glapiński przez 6 lat os...  \n",
       "4  W latach 2018–2019 Narodowy Bank Polski zakupi...  "
      ]
     },
     "execution_count": 27,
     "metadata": {},
     "output_type": "execute_result"
    }
   ],
   "source": [
    "df_basic_info.head()"
   ]
  },
  {
   "cell_type": "markdown",
   "id": "520ccdbd-7f0d-4850-a852-e0d62514d814",
   "metadata": {},
   "source": [
    "# Get results from ChatGPT"
   ]
  },
  {
   "cell_type": "code",
   "execution_count": 67,
   "id": "46ddc7e4-c1bd-44e4-9a7e-1b3bcef7ab2c",
   "metadata": {},
   "outputs": [],
   "source": [
    "promopt = 'Zaklasyfikuj poniższe zdanie jako prawdziwe (True) lub fałszywe (Fake), odpowiedz uzywajac jednego słowa - True/Fake:'"
   ]
  },
  {
   "cell_type": "code",
   "execution_count": 68,
   "id": "2a826573-f8e0-49f9-a60b-cf9ed7ed7f83",
   "metadata": {},
   "outputs": [],
   "source": [
    "# messages = [ {\"role\": \"system\", \"content\": promopt} ]\n",
    "\n",
    "# for t in df_basic_info['text'].head(10).values:\n",
    "#     messages.append( \n",
    "#         {\"role\": \"user\", \"content\": t}, \n",
    "#     ) \n",
    "\n",
    "# chat = openai.ChatCompletion.create( \n",
    "#     model=\"gpt-3.5-turbo\", messages=messages \n",
    "# ) "
   ]
  },
  {
   "cell_type": "code",
   "execution_count": 69,
   "id": "d4388ea4-3cd5-46fa-a356-ba51a836bda7",
   "metadata": {},
   "outputs": [],
   "source": [
    "# pattern = r'statement:\\s*(True|Fake)'\n",
    "\n",
    "# y_zero_shot_test = []"
   ]
  },
  {
   "cell_type": "code",
   "execution_count": 70,
   "id": "ddeed3e5-5e3e-4194-aefc-1767cf144caa",
   "metadata": {},
   "outputs": [
    {
     "data": {
      "application/vnd.jupyter.widget-view+json": {
       "model_id": "93d2a04e16564e379cbd9c8d3a583f1d",
       "version_major": 2,
       "version_minor": 0
      },
      "text/plain": [
       "  0%|          | 0/6529 [00:00<?, ?it/s]"
      ]
     },
     "metadata": {},
     "output_type": "display_data"
    }
   ],
   "source": [
    "y_zero_shot_test = []\n",
    "\n",
    "# train_i_chat, test_i_chat = cv_fold[0]\n",
    "\n",
    "for t in tqdm(df_basic_info['text'].values, total=df_basic_info.shape[0]):\n",
    "    messages = [ {\"role\": \"system\", \"content\": promopt} ]\n",
    "\n",
    "    messages.append( \n",
    "        {\"role\": \"user\", \"content\": t}, \n",
    "    ) \n",
    "    chat = openai.ChatCompletion.create( \n",
    "        model=\"gpt-3.5-turbo\", messages=messages \n",
    "    ) \n",
    "      \n",
    "    reply = chat.choices[0].message.content \n",
    "    \n",
    "    y_zero_shot_test.append(reply)"
   ]
  },
  {
   "cell_type": "code",
   "execution_count": 71,
   "id": "d2a7d10c-8a32-40a9-a03b-a53407d85fbf",
   "metadata": {},
   "outputs": [],
   "source": [
    "# y_zero_shot_test"
   ]
  },
  {
   "cell_type": "code",
   "execution_count": 72,
   "id": "2d19602c-661f-4079-8d0f-d2ea99ddb6dc",
   "metadata": {},
   "outputs": [
    {
     "data": {
      "text/plain": [
       "array(['Fake', 'Fake.', 'False', 'False.', 'Fałsz', 'Fałsz.', 'Fałszywe',\n",
       "       'Nie mogę oceniać prawdziwości tego zdania, ponieważ brakuje konkretnych informacji o poziomie zgonów oraz państwach, o których mowa.',\n",
       "       'Nie mogę ocenić poglądów osoby, która nie została określona.',\n",
       "       'Nie mogę ocenić prawdziwości tego zdania na podstawie podanych informacji.',\n",
       "       'Nie mogę udzielić odpowiedzi na to pytanie na podstawie dostępnych informacji.',\n",
       "       'Nie posiadam wystarczających informacji, aby potwierdzić lub zaprzeczyć prawdziwość tego zdania.',\n",
       "       'Nie znam stanowiska PSL w sprawie przyjmowania uchodźców ani intencji Adama Jarubasa w tej kwestii.',\n",
       "       'Prawdziwe', 'True', 'True.'], dtype='<U132')"
      ]
     },
     "execution_count": 72,
     "metadata": {},
     "output_type": "execute_result"
    }
   ],
   "source": [
    "np.unique(np.array(y_zero_shot_test))"
   ]
  },
  {
   "cell_type": "code",
   "execution_count": 77,
   "id": "559a19ce-ddf5-4993-8a6a-c42479f84ac3",
   "metadata": {},
   "outputs": [],
   "source": [
    "y_zero_shot_test_int = []\n",
    "\n",
    "for r in y_zero_shot_test:\n",
    "    y_zero_shot_test_int.append( ('True' not in r) | ('Prawdziwe' not in r) )"
   ]
  },
  {
   "cell_type": "code",
   "execution_count": 89,
   "id": "6c272533-5b9a-4ac3-a30e-466dbb1c8b78",
   "metadata": {},
   "outputs": [],
   "source": [
    "df_zero_out = pd.DataFrame(\n",
    "    {\n",
    "        'chatgpt_output' : y_zero_shot_test,\n",
    "        'label' : y_zero_shot_test_int,\n",
    "    },\n",
    "    index = df_basic_info.index\n",
    ")\n",
    "\n",
    "df_zero_out['label'] = df_zero_out['label'].astype(int)\n",
    "df_zero_out.loc[df_zero_out['chatgpt_output'].str.contains('Nie'), 'label'] = -1\n",
    "\n",
    "df_zero_out.to_parquet('../datasets/used_data/04_decoder_model/01_zero_shot_chatgpt_labels.parquet')"
   ]
  },
  {
   "cell_type": "code",
   "execution_count": 90,
   "id": "c2a61e28-ca0b-427f-8104-65ddaa0106f9",
   "metadata": {},
   "outputs": [
    {
     "data": {
      "text/plain": [
       "6529"
      ]
     },
     "execution_count": 90,
     "metadata": {},
     "output_type": "execute_result"
    }
   ],
   "source": [
    "len(y_zero_shot_test_int)"
   ]
  },
  {
   "cell_type": "code",
   "execution_count": 91,
   "id": "70eccc4a-e036-4782-8d19-2f89c310d072",
   "metadata": {},
   "outputs": [
    {
     "data": {
      "text/plain": [
       "(6529, 3)"
      ]
     },
     "execution_count": 91,
     "metadata": {},
     "output_type": "execute_result"
    }
   ],
   "source": [
    "df_basic_info.shape"
   ]
  },
  {
   "cell_type": "code",
   "execution_count": 101,
   "id": "8209c85b-1022-43f1-9980-7542f8e4d576",
   "metadata": {},
   "outputs": [
    {
     "data": {
      "text/plain": [
       "array(['Nie mogę udzielić odpowiedzi na to pytanie na podstawie dostępnych informacji.',\n",
       "       'Nie mogę ocenić prawdziwości tego zdania na podstawie podanych informacji.',\n",
       "       'Nie znam stanowiska PSL w sprawie przyjmowania uchodźców ani intencji Adama Jarubasa w tej kwestii.',\n",
       "       'Nie mogę ocenić poglądów osoby, która nie została określona.',\n",
       "       'Nie posiadam wystarczających informacji, aby potwierdzić lub zaprzeczyć prawdziwość tego zdania.',\n",
       "       'Nie mogę oceniać prawdziwości tego zdania, ponieważ brakuje konkretnych informacji o poziomie zgonów oraz państwach, o których mowa.'],\n",
       "      dtype=object)"
      ]
     },
     "execution_count": 101,
     "metadata": {},
     "output_type": "execute_result"
    }
   ],
   "source": [
    "df_zero_out[df_zero_out['label'] == -1]['chatgpt_output'].values"
   ]
  },
  {
   "cell_type": "code",
   "execution_count": 100,
   "id": "bdb74775-41e3-419b-98f6-6baa080eedd5",
   "metadata": {},
   "outputs": [
    {
     "data": {
      "text/plain": [
       "array(['Ja się pytam, które słowa prezesa Kaczyńskiego są prawdziwe? Bo kilka lat temu powiedział, że z Le Pen macie państwo tyle wspólnego, PiS ma tyle wspólnego, rozumiem, co z Putinem.',\n",
       "       'Jakie były przesłanki aby ją (kopalnie Ruch Śląsk) oddać  do SRK, ponieważ ta kopalnia ma najlepszy jakościowo węgiel koksujący.',\n",
       "       'Czy PSL jest za przyjmowaniem uchodźców i czy jeżeli Adam Jarubas zostanie marszałkiem po wyborach, to zgodzi się na to, aby imigranci przyjechali do regionu świętokrzyskiego?',\n",
       "       'Ma dobre poglądy [o Ursuli von der Leyen - red.].',\n",
       "       'Tak postąpiono z bł. Jerzym Popiełuszką, którego najpierw usiłowano zniesławić przy pomocy kłamstw i prowokacji, a gdy to się nie powiodło, związano go i wrzucono do Wisły. Coś podobnego dzieje się teraz z arcybiskupem Jędraszewskim',\n",
       "       'Zobaczcie, jaki jest poziom zgonów na jeden milion mieszkańców w państwach daleko bogatszych od nas. I co na to powiecie?\\xa0'],\n",
       "      dtype=object)"
      ]
     },
     "execution_count": 100,
     "metadata": {},
     "output_type": "execute_result"
    }
   ],
   "source": [
    "df_basic_info[df_zero_out['label'] == -1]['text'].values"
   ]
  },
  {
   "cell_type": "code",
   "execution_count": 92,
   "id": "171be25b-6462-4c4a-982d-f955eef062cb",
   "metadata": {},
   "outputs": [],
   "source": [
    "y_test = df_basic_info[df_zero_out['label'] > -1]['assestment'].values"
   ]
  },
  {
   "cell_type": "code",
   "execution_count": 93,
   "id": "7148e54c-be58-46cf-addd-1f5eb473524d",
   "metadata": {},
   "outputs": [],
   "source": [
    "y_pred = np.array(y_zero_shot_test_int)[df_zero_out['label'] > -1]"
   ]
  },
  {
   "cell_type": "code",
   "execution_count": 94,
   "id": "4b2e9098-641b-4b03-950a-f61e093485c3",
   "metadata": {},
   "outputs": [
    {
     "data": {
      "text/plain": [
       "0.5256783688486892"
      ]
     },
     "execution_count": 94,
     "metadata": {},
     "output_type": "execute_result"
    }
   ],
   "source": [
    "accuracy_score(y_test, y_pred) "
   ]
  },
  {
   "cell_type": "code",
   "execution_count": 95,
   "id": "205f0c84-2d17-4f77-a0e7-45632cd08368",
   "metadata": {},
   "outputs": [
    {
     "data": {
      "text/plain": [
       "0.6891077170418006"
      ]
     },
     "execution_count": 95,
     "metadata": {},
     "output_type": "execute_result"
    }
   ],
   "source": [
    "f1_score(y_test, y_pred) "
   ]
  },
  {
   "cell_type": "code",
   "execution_count": null,
   "id": "de72f994-fa6a-447d-8954-87a0e49197fd",
   "metadata": {},
   "outputs": [],
   "source": []
  }
 ],
 "metadata": {
  "kernelspec": {
   "display_name": "Python 3 (ipykernel)",
   "language": "python",
   "name": "python3"
  },
  "language_info": {
   "codemirror_mode": {
    "name": "ipython",
    "version": 3
   },
   "file_extension": ".py",
   "mimetype": "text/x-python",
   "name": "python",
   "nbconvert_exporter": "python",
   "pygments_lexer": "ipython3",
   "version": "3.9.18"
  }
 },
 "nbformat": 4,
 "nbformat_minor": 5
}
