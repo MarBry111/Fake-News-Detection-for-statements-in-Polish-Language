{
 "cells": [
  {
   "cell_type": "code",
   "execution_count": 33,
   "id": "47797876-7853-4db4-a867-a6543752f82d",
   "metadata": {},
   "outputs": [],
   "source": [
    "import pandas as pd\n",
    "import numpy as np\n",
    "\n",
    "from sklearn.decomposition import PCA\n",
    "\n",
    "from tqdm.notebook import tqdm\n",
    "from scipy.spatial.distance import cdist"
   ]
  },
  {
   "cell_type": "markdown",
   "id": "83972e5b-fcb4-40e8-9d17-bcd4f7e05eff",
   "metadata": {},
   "source": [
    "# Load data"
   ]
  },
  {
   "cell_type": "code",
   "execution_count": 2,
   "id": "a04acc4b-7b4f-47f1-8aaa-1bd8a52f5cc7",
   "metadata": {},
   "outputs": [
    {
     "data": {
      "text/plain": [
       "(6529, 1)"
      ]
     },
     "execution_count": 2,
     "metadata": {},
     "output_type": "execute_result"
    }
   ],
   "source": [
    "with open('../datasets/used_data/03_bert_like_models/02_topics.npy', 'rb') as f:\n",
    "    df_topics = pd.DataFrame(np.load(f), columns=['topic'])\n",
    "df_topics.shape"
   ]
  },
  {
   "cell_type": "code",
   "execution_count": 5,
   "id": "4bfc7276-a3a6-454f-b004-3522288c399a",
   "metadata": {},
   "outputs": [
    {
     "data": {
      "text/plain": [
       "(6529, 1024)"
      ]
     },
     "execution_count": 5,
     "metadata": {},
     "output_type": "execute_result"
    }
   ],
   "source": [
    "with open('../datasets/used_data/02_classical_ml/03_04_statements_herbert.npy', 'rb') as f:\n",
    "    df_herbert = pd.DataFrame(np.load(f))\n",
    "df_herbert.shape"
   ]
  },
  {
   "cell_type": "code",
   "execution_count": 39,
   "id": "d6542362-f92e-4704-83c5-646331ffd150",
   "metadata": {},
   "outputs": [
    {
     "data": {
      "text/plain": [
       "(6529, 4)"
      ]
     },
     "execution_count": 39,
     "metadata": {},
     "output_type": "execute_result"
    }
   ],
   "source": [
    "df = pd.read_parquet('../datasets/used_data/03_bert_like_models/01_basic_info_data.parquet')\n",
    "\n",
    "df['labels'] = df['assestment'].astype(int)\n",
    "\n",
    "df = df.sample(frac=1, random_state=111)\n",
    "\n",
    "df = df[df.index.isin(df_topics.index)]\n",
    "df.shape"
   ]
  },
  {
   "cell_type": "markdown",
   "id": "9407836f-7089-4ccc-8433-b98d4f20ab0d",
   "metadata": {},
   "source": [
    "# Process"
   ]
  },
  {
   "cell_type": "code",
   "execution_count": 8,
   "id": "a8bbae35-078b-4ece-9fe0-c58a544c18b3",
   "metadata": {},
   "outputs": [],
   "source": [
    "cv_fold = []\n",
    "\n",
    "for i in df_topics['topic'].unique().reshape(10,-1):\n",
    "    train_cv = df_topics.index[ ~np.isin(df_topics[\"topic\"], i) ].values\n",
    "    test_cv = df_topics.index[ np.isin(df_topics[\"topic\"], i) ].values\n",
    "    \n",
    "    cv_fold.append( [train_cv, test_cv])"
   ]
  },
  {
   "cell_type": "markdown",
   "id": "2cf9cbb3-bba2-4598-be4a-187effeab733",
   "metadata": {},
   "source": [
    "# Example"
   ]
  },
  {
   "cell_type": "markdown",
   "id": "b2bf9127-66b1-4226-883c-9c4b6d25c5b0",
   "metadata": {},
   "source": [
    "## Run PCA on train data -> transform test"
   ]
  },
  {
   "cell_type": "code",
   "execution_count": 10,
   "id": "1dea768d-de2a-4815-b457-e36cff607b45",
   "metadata": {},
   "outputs": [],
   "source": [
    "train_cv, test_cv = cv_fold[0]"
   ]
  },
  {
   "cell_type": "code",
   "execution_count": 24,
   "id": "1df754c0-e224-417d-b965-7025e7ed9cc9",
   "metadata": {},
   "outputs": [
    {
     "data": {
      "application/vnd.jupyter.widget-view+json": {
       "model_id": "d778403095f74a3b876a2f4e4302497e",
       "version_major": 2,
       "version_minor": 0
      },
      "text/plain": [
       "  0%|          | 0/10 [00:00<?, ?it/s]"
      ]
     },
     "metadata": {},
     "output_type": "display_data"
    }
   ],
   "source": [
    "# find n components allowing to have > 0.9 variance\n",
    "n_com_list = []\n",
    "for train_cv, test_cv in tqdm(cv_fold):\n",
    "    data = df_herbert.loc[train_cv, :]\n",
    "    \n",
    "    pca = PCA()\n",
    "    pca.fit(data)\n",
    "    \n",
    "    cumulative_variance = np.cumsum(pca.explained_variance_ratio_)\n",
    "    \n",
    "    n_comp = (cumulative_variance < 0.9).sum() + 1\n",
    "    \n",
    "    n_com_list.append(n_comp)"
   ]
  },
  {
   "cell_type": "code",
   "execution_count": 26,
   "id": "ac02ad37-b6e4-4e35-b2ee-7738b9520065",
   "metadata": {},
   "outputs": [
    {
     "data": {
      "text/plain": [
       "[171, 171, 171, 172, 171, 171, 171, 171, 171, 171]"
      ]
     },
     "execution_count": 26,
     "metadata": {},
     "output_type": "execute_result"
    }
   ],
   "source": [
    "n_com_list"
   ]
  },
  {
   "cell_type": "code",
   "execution_count": 55,
   "id": "2b9547e3-b2ff-4613-a085-aa094be4dc7f",
   "metadata": {},
   "outputs": [],
   "source": [
    "train_cv, test_cv = cv_fold[0]\n",
    "\n",
    "data_train = df_herbert.loc[train_cv, :]\n",
    "data_test = df_herbert.loc[test_cv, :]\n",
    "\n",
    "df_train = df.loc[train_cv, :]\n",
    "df_test = df.loc[test_cv, :]\n",
    "\n",
    "pca = PCA(n_components = 171)\n",
    "pca.fit(data_train)\n",
    "\n",
    "data_train_pca = pd.DataFrame(pca.transform(data_train), index=train_cv)\n",
    "data_test_pca = pd.DataFrame(pca.transform(data_test), index=test_cv)\n",
    "\n",
    "data_train_pca_fake = data_train_pca[df_train['assestment']==1]\n",
    "data_train_pca_true = data_train_pca[df_train['assestment']==0]\n",
    "\n",
    "df_train_fake = df_train[df_train['assestment']==1]\n",
    "df_train_true = df_train[df_train['assestment']==0]"
   ]
  },
  {
   "cell_type": "code",
   "execution_count": 56,
   "id": "5caa581d-3797-414b-87eb-634cdf8a58a5",
   "metadata": {},
   "outputs": [],
   "source": [
    "def get_3_nearest(example, space):\n",
    "    distances = cdist(example, space, 'euclidean')\n",
    "\n",
    "    nearest_indices = np.argsort(distances)[0][:3]\n",
    "    print(\"Indices of the three nearest neighbors:\", nearest_indices)\n",
    "    print(\"Distances to the three nearest neighbors:\", distances[0, nearest_indices])\n",
    "\n",
    "    return nearest_indices"
   ]
  },
  {
   "cell_type": "code",
   "execution_count": 58,
   "id": "fc8ec79b-75e0-4f67-8aad-5a6683d077db",
   "metadata": {},
   "outputs": [
    {
     "name": "stdout",
     "output_type": "stream",
     "text": [
      "Indices of the three nearest neighbors: [ 240 2842 1485]\n",
      "Distances to the three nearest neighbors: [3.80331861 4.05540636 4.23394135]\n",
      "Indices of the three nearest neighbors: [   3 1614   27]\n",
      "Distances to the three nearest neighbors: [3.22325752 3.57858447 3.68345603]\n"
     ]
    }
   ],
   "source": [
    "example = data_test_pca.iloc[0,:].values.reshape(1,-1)\n",
    "nearest_fake = get_3_nearest(example, data_train_pca_fake)\n",
    "nearest_true = get_3_nearest(example, data_train_pca_true)"
   ]
  },
  {
   "cell_type": "code",
   "execution_count": 60,
   "id": "4f8f8f46-6f79-4716-a15e-b8242d7784f4",
   "metadata": {},
   "outputs": [
    {
     "data": {
      "text/plain": [
       "array([[0,\n",
       "        '(...) udzielenie bankowi centralnemu Ukrainy tzw. swapa walutowego w kwocie 1 mld dolarów. Narodowy Bank Polski był pierwszym i jak dotąd jedynym bankiem centralnym, który zaoferował Narodowemu Bankowi Ukrainy takie wsparcie.']],\n",
       "      dtype=object)"
      ]
     },
     "execution_count": 60,
     "metadata": {},
     "output_type": "execute_result"
    }
   ],
   "source": [
    "df_test[['assestment', 'text']].head(1).values"
   ]
  },
  {
   "cell_type": "code",
   "execution_count": 63,
   "id": "b802e904-105d-4f71-b64d-59120fff2ba0",
   "metadata": {},
   "outputs": [
    {
     "data": {
      "text/plain": [
       "array([[1,\n",
       "        '70 miliardów euro długu państwowego jest denominowane w walutach obcych.'],\n",
       "       [1,\n",
       "        'To byłaby kompletna ruina w tej chwili budżetu państwa, czyli doprowadzilibyśmy w prosty sposób do niewypłacalności Polski'],\n",
       "       [1,\n",
       "        'A w Polsce potrzebujemy takich rozwiązań jakie zostały wprowadzane w Rumunii - 102 podatki i opłaty zostały przez, notabene lewicowy, rząd zlikwidowane. I dziś Rumunia ma najwyższy wskaźnik wzrostu gospodarczego w całej Unii Europejskiej.']],\n",
       "      dtype=object)"
      ]
     },
     "execution_count": 63,
     "metadata": {},
     "output_type": "execute_result"
    }
   ],
   "source": [
    "df_train_fake[['assestment', 'text']].iloc[nearest_fake, :].values"
   ]
  },
  {
   "cell_type": "code",
   "execution_count": 65,
   "id": "a3173ed5-7053-43dc-a15b-1dab55f654bb",
   "metadata": {},
   "outputs": [
    {
     "data": {
      "text/plain": [
       "array([[0,\n",
       "        'W listopadzie tamtego roku pan prezydent Andrzej Duda przyznał specjalną nagrodę gospodarczą panu Glapińskiemu, za utrzymaniu stabilności bankowej.'],\n",
       "       [0,\n",
       "        '[Węgry] wprowadziły podatek od aktywów bankowych już w 2010 r. Od tego czasu akcja kredytowa na Węgrzech zmalała prawie o 1/3.'],\n",
       "       [0,\n",
       "        'Finansowy rynek Rosji jest w tej chwili zdominowany (...) w 55 proc, przez 4 główne banki. ']],\n",
       "      dtype=object)"
      ]
     },
     "execution_count": 65,
     "metadata": {},
     "output_type": "execute_result"
    }
   ],
   "source": [
    "df_train_true[['assestment', 'text']].iloc[nearest_true, :].values"
   ]
  },
  {
   "cell_type": "code",
   "execution_count": null,
   "id": "7f904be0-4399-4761-b68b-78b85109bb4c",
   "metadata": {},
   "outputs": [],
   "source": []
  }
 ],
 "metadata": {
  "kernelspec": {
   "display_name": "Python 3 (ipykernel)",
   "language": "python",
   "name": "python3"
  },
  "language_info": {
   "codemirror_mode": {
    "name": "ipython",
    "version": 3
   },
   "file_extension": ".py",
   "mimetype": "text/x-python",
   "name": "python",
   "nbconvert_exporter": "python",
   "pygments_lexer": "ipython3",
   "version": "3.9.18"
  }
 },
 "nbformat": 4,
 "nbformat_minor": 5
}
