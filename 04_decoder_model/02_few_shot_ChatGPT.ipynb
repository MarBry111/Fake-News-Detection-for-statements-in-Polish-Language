{
 "cells": [
  {
   "cell_type": "code",
   "execution_count": 15,
   "id": "47797876-7853-4db4-a867-a6543752f82d",
   "metadata": {},
   "outputs": [],
   "source": [
    "import pandas as pd\n",
    "import numpy as np\n",
    "import json\n",
    "\n",
    "from sklearn.decomposition import PCA\n",
    "\n",
    "from tqdm.notebook import tqdm\n",
    "from scipy.spatial.distance import cdist\n",
    "\n",
    "import openai\n",
    "\n",
    "from sklearn.metrics import (\n",
    "    accuracy_score, \n",
    "    f1_score, \n",
    "    recall_score,\n",
    "    precision_score,\n",
    "    roc_auc_score, confusion_matrix, roc_curve, classification_report,\n",
    "    precision_recall_curve, PrecisionRecallDisplay,\n",
    "    confusion_matrix\n",
    ")\n",
    "\n",
    "from sklearn.model_selection import KFold\n",
    "\n",
    "import pickle"
   ]
  },
  {
   "cell_type": "code",
   "execution_count": 16,
   "id": "5ab28a4e-a5a8-4ae2-a51b-f1a36ab364ad",
   "metadata": {},
   "outputs": [],
   "source": [
    "with open('../secrets.json') as f:\n",
    "    secrets = json.load(f)"
   ]
  },
  {
   "cell_type": "code",
   "execution_count": 17,
   "id": "97f336c5-7151-4998-8a0a-de3a3e370ae0",
   "metadata": {},
   "outputs": [],
   "source": [
    "openai.api_key = secrets['chatgpt_api_key']"
   ]
  },
  {
   "cell_type": "markdown",
   "id": "83972e5b-fcb4-40e8-9d17-bcd4f7e05eff",
   "metadata": {},
   "source": [
    "# Load data"
   ]
  },
  {
   "cell_type": "code",
   "execution_count": 18,
   "id": "a04acc4b-7b4f-47f1-8aaa-1bd8a52f5cc7",
   "metadata": {},
   "outputs": [
    {
     "data": {
      "text/plain": [
       "(6529, 1)"
      ]
     },
     "execution_count": 18,
     "metadata": {},
     "output_type": "execute_result"
    }
   ],
   "source": [
    "with open('../datasets/used_data/03_bert_like_models/02_topics.npy', 'rb') as f:\n",
    "    df_topics = pd.DataFrame(np.load(f), columns=['topic'])\n",
    "df_topics.shape"
   ]
  },
  {
   "cell_type": "code",
   "execution_count": 19,
   "id": "4bfc7276-a3a6-454f-b004-3522288c399a",
   "metadata": {},
   "outputs": [
    {
     "data": {
      "text/plain": [
       "(6529, 1024)"
      ]
     },
     "execution_count": 19,
     "metadata": {},
     "output_type": "execute_result"
    }
   ],
   "source": [
    "with open('../datasets/used_data/02_classical_ml/03_04_statements_herbert.npy', 'rb') as f:\n",
    "    df_herbert = pd.DataFrame(np.load(f))\n",
    "df_herbert.shape"
   ]
  },
  {
   "cell_type": "code",
   "execution_count": 20,
   "id": "d6542362-f92e-4704-83c5-646331ffd150",
   "metadata": {},
   "outputs": [
    {
     "data": {
      "text/plain": [
       "(6529, 4)"
      ]
     },
     "execution_count": 20,
     "metadata": {},
     "output_type": "execute_result"
    }
   ],
   "source": [
    "df = pd.read_parquet('../datasets/used_data/03_bert_like_models/01_basic_info_data.parquet')\n",
    "\n",
    "df['labels'] = df['assestment'].astype(int)\n",
    "\n",
    "df = df.sample(frac=1, random_state=111)\n",
    "\n",
    "df = df[df.index.isin(df_topics.index)]\n",
    "df.shape"
   ]
  },
  {
   "cell_type": "markdown",
   "id": "9407836f-7089-4ccc-8433-b98d4f20ab0d",
   "metadata": {},
   "source": [
    "# Process"
   ]
  },
  {
   "cell_type": "code",
   "execution_count": 21,
   "id": "a8bbae35-078b-4ece-9fe0-c58a544c18b3",
   "metadata": {},
   "outputs": [],
   "source": [
    "cv_fold = []\n",
    "\n",
    "for i in df_topics['topic'].unique().reshape(10,-1):\n",
    "    train_cv = df_topics.index[ ~np.isin(df_topics[\"topic\"], i) ].values\n",
    "    test_cv = df_topics.index[ np.isin(df_topics[\"topic\"], i) ].values\n",
    "    \n",
    "    cv_fold.append( [train_cv, test_cv])"
   ]
  },
  {
   "cell_type": "code",
   "execution_count": 22,
   "id": "855f9dbf-cb18-4e3a-9815-4f5722ef7b7f",
   "metadata": {},
   "outputs": [],
   "source": [
    "kf = KFold(n_splits=10, shuffle=True, random_state=111)\n",
    "kf.get_n_splits(df)\n",
    "\n",
    "cv_Kfold = []\n",
    "\n",
    "for train_index, test_index in kf.split(df_topics):\n",
    "    train_cv = df_topics.iloc[ train_index, : ].index.values\n",
    "    test_cv = df_topics.iloc[ test_index, : ].index.values\n",
    "\n",
    "    cv_Kfold.append( [train_cv, test_cv])"
   ]
  },
  {
   "cell_type": "markdown",
   "id": "2cf9cbb3-bba2-4598-be4a-187effeab733",
   "metadata": {},
   "source": [
    "# Example"
   ]
  },
  {
   "cell_type": "markdown",
   "id": "b2bf9127-66b1-4226-883c-9c4b6d25c5b0",
   "metadata": {},
   "source": [
    "## Run PCA on train data -> transform test"
   ]
  },
  {
   "cell_type": "code",
   "execution_count": 23,
   "id": "1dea768d-de2a-4815-b457-e36cff607b45",
   "metadata": {},
   "outputs": [],
   "source": [
    "train_cv, test_cv = cv_fold[0]"
   ]
  },
  {
   "cell_type": "code",
   "execution_count": 24,
   "id": "1df754c0-e224-417d-b965-7025e7ed9cc9",
   "metadata": {},
   "outputs": [
    {
     "data": {
      "application/vnd.jupyter.widget-view+json": {
       "model_id": "bb846311b3cd4c8e931503897ecf5965",
       "version_major": 2,
       "version_minor": 0
      },
      "text/plain": [
       "  0%|          | 0/10 [00:00<?, ?it/s]"
      ]
     },
     "metadata": {},
     "output_type": "display_data"
    }
   ],
   "source": [
    "# find n components allowing to have > 0.9 variance\n",
    "n_com_list = []\n",
    "for train_cv, test_cv in tqdm(cv_fold):\n",
    "    data = df_herbert.loc[train_cv, :]\n",
    "    \n",
    "    pca = PCA()\n",
    "    pca.fit(data)\n",
    "    \n",
    "    cumulative_variance = np.cumsum(pca.explained_variance_ratio_)\n",
    "    \n",
    "    n_comp = (cumulative_variance < 0.9).sum() + 1\n",
    "    \n",
    "    n_com_list.append(n_comp)"
   ]
  },
  {
   "cell_type": "code",
   "execution_count": 25,
   "id": "ac02ad37-b6e4-4e35-b2ee-7738b9520065",
   "metadata": {},
   "outputs": [
    {
     "data": {
      "text/plain": [
       "[171, 171, 171, 172, 171, 171, 171, 171, 171, 171]"
      ]
     },
     "execution_count": 25,
     "metadata": {},
     "output_type": "execute_result"
    }
   ],
   "source": [
    "n_com_list"
   ]
  },
  {
   "cell_type": "code",
   "execution_count": 26,
   "id": "5caa581d-3797-414b-87eb-634cdf8a58a5",
   "metadata": {},
   "outputs": [],
   "source": [
    "def get_2_nearest(example, space, verbose=False):\n",
    "    distances = cdist(example, space, 'euclidean')\n",
    "\n",
    "    nearest_indices = np.argsort(distances)[0][:2].tolist()\n",
    "    if verbose:\n",
    "        print(\"Indices of the three nearest neighbors:\", nearest_indices)\n",
    "        print(\"Distances to the three nearest neighbors:\", distances[0, nearest_indices])\n",
    "\n",
    "    return nearest_indices, distances[0, nearest_indices]"
   ]
  },
  {
   "cell_type": "code",
   "execution_count": null,
   "id": "925a964c-3479-4f5f-a77a-2ce1ceb6cebe",
   "metadata": {},
   "outputs": [],
   "source": []
  },
  {
   "cell_type": "code",
   "execution_count": 55,
   "id": "24748597-5a44-4d0f-9eb8-8c5613105c49",
   "metadata": {},
   "outputs": [],
   "source": [
    "#test\n",
    "# prompt = 'Zaklasyfikuj poniższe zdanie jako prawdziwe (True) lub fałszywe (Fake), na podstawie podanych przykładów, odpowiedz uzywajac jednego słowa - True/Fake:'\n",
    "# train_cv, test_cv = cv_fold[0]"
   ]
  },
  {
   "cell_type": "code",
   "execution_count": 26,
   "id": "1bee6ba4-1744-498b-9189-b9f572c2bec9",
   "metadata": {},
   "outputs": [],
   "source": [
    "# data_train = df_herbert.loc[train_cv, :]\n",
    "# data_test = df_herbert.loc[test_cv, :]\n",
    "\n",
    "# df_train = df.loc[train_cv, :]\n",
    "# df_test = df.loc[test_cv, :]\n",
    "\n",
    "# pca = PCA(n_components = 171)\n",
    "# pca.fit(data_train)\n",
    "\n",
    "# data_train_pca = pd.DataFrame(pca.transform(data_train), index=train_cv)\n",
    "# data_test_pca = pd.DataFrame(pca.transform(data_test), index=test_cv)\n",
    "\n",
    "# data_train_pca_fake = data_train_pca[df_train['assestment']==1]\n",
    "# data_train_pca_true = data_train_pca[df_train['assestment']==0]\n",
    "\n",
    "# df_train_fake = df_train[df_train['assestment']==1]\n",
    "# df_train_true = df_train[df_train['assestment']==0]"
   ]
  },
  {
   "cell_type": "code",
   "execution_count": 52,
   "id": "d5841911-0e31-4e59-bbc4-dd9ebf298dff",
   "metadata": {},
   "outputs": [],
   "source": [
    "# t_i = 0\n",
    "\n",
    "# example = data_test_pca.iloc[t_i,:].values.reshape(1,-1)\n",
    "\n",
    "# nearest_fake, dist_fake = get_2_nearest(example, data_train_pca_fake)\n",
    "# nearest_true, dist_true = get_2_nearest(example, data_train_pca_true)\n",
    "\n",
    "# nearest = pd.DataFrame({\n",
    "#     'index' : nearest_fake + nearest_true,\n",
    "#     'label' : [1, 1, 0 , 0],\n",
    "#     'dist' : dist_fake.reshape(-1).tolist() + dist_true.reshape(-1).tolist(),\n",
    "#     'text' : df_train_fake.iloc[nearest_fake, :]['text'].values.tolist() + df_train_true.iloc[nearest_true,:]['text'].values.tolist()\n",
    "# }\n",
    "# )\n",
    "\n",
    "# nearest = nearest.sort_values('dist').head(3)\n",
    "\n",
    "# nearest"
   ]
  },
  {
   "cell_type": "code",
   "execution_count": 53,
   "id": "f6b557e8-2df3-4561-bb6c-a5696e74ce7f",
   "metadata": {},
   "outputs": [],
   "source": [
    "# messages = [ {\"role\": \"system\", \"content\": prompt} ]\n",
    "\n",
    "# for l, t in zip(nearest['label'].values, nearest['text'].values):\n",
    "#     fake_true = 'True'\n",
    "#     if l == 1:\n",
    "#         fake_true = 'Fake'\n",
    "#     messages.append( \n",
    "#         {\"role\": \"user\", \"content\": f'\"{t} : {fake_true}\"'}, \n",
    "#     ) \n",
    "\n",
    "# messages.append( \n",
    "#     {\"role\": \"user\", \"content\": f'\"{df_test[\"text\"].values[t_i]}\" : '}, \n",
    "# ) \n",
    "\n",
    "# messages"
   ]
  },
  {
   "cell_type": "code",
   "execution_count": 54,
   "id": "a8e85ec9-d458-4362-9a4d-48da3e449734",
   "metadata": {},
   "outputs": [],
   "source": [
    "# chat = openai.ChatCompletion.create( \n",
    "#     model=\"gpt-3.5-turbo\", messages=messages \n",
    "# ) \n",
    "\n",
    "# reply = chat.choices[0].message.content \n",
    "\n",
    "# y_zero_shot_test.append(reply)"
   ]
  },
  {
   "cell_type": "code",
   "execution_count": 27,
   "id": "d5e08e8b-82f6-4e45-848e-b68b9304a522",
   "metadata": {},
   "outputs": [],
   "source": [
    "y_few_shot_test = []"
   ]
  },
  {
   "cell_type": "code",
   "execution_count": 82,
   "id": "fd666cb2-c17d-42d4-be44-d2b579af1af3",
   "metadata": {},
   "outputs": [],
   "source": [
    "# y_few_shot_test.append(y_few_shot_test_i)"
   ]
  },
  {
   "cell_type": "code",
   "execution_count": 28,
   "id": "fcf047b2-1b27-4c23-b7e4-cdd3789a1ecb",
   "metadata": {},
   "outputs": [],
   "source": [
    "prompt = 'Zaklasyfikuj poniższe zdanie jako prawdziwe (True) lub fałszywe (Fake), na podstawie podanych przykładów, odpowiedz uzywajac jednego słowa - True/Fake:'"
   ]
  },
  {
   "cell_type": "code",
   "execution_count": 84,
   "id": "2b9547e3-b2ff-4613-a085-aa094be4dc7f",
   "metadata": {},
   "outputs": [
    {
     "data": {
      "application/vnd.jupyter.widget-view+json": {
       "model_id": "a71a4aea47bc42a7a6f91ea2a3a96340",
       "version_major": 2,
       "version_minor": 0
      },
      "text/plain": [
       "  0%|          | 0/9 [00:00<?, ?it/s]"
      ]
     },
     "metadata": {},
     "output_type": "display_data"
    },
    {
     "data": {
      "application/vnd.jupyter.widget-view+json": {
       "model_id": "db49596ae99846a4b712db67793f6f93",
       "version_major": 2,
       "version_minor": 0
      },
      "text/plain": [
       "  0%|          | 0/652 [00:00<?, ?it/s]"
      ]
     },
     "metadata": {},
     "output_type": "display_data"
    },
    {
     "data": {
      "application/vnd.jupyter.widget-view+json": {
       "model_id": "a10c1c05002441b498776b36c02588f7",
       "version_major": 2,
       "version_minor": 0
      },
      "text/plain": [
       "  0%|          | 0/623 [00:00<?, ?it/s]"
      ]
     },
     "metadata": {},
     "output_type": "display_data"
    },
    {
     "data": {
      "application/vnd.jupyter.widget-view+json": {
       "model_id": "ca11e3099c6847bdb96722c9cec23735",
       "version_major": 2,
       "version_minor": 0
      },
      "text/plain": [
       "  0%|          | 0/905 [00:00<?, ?it/s]"
      ]
     },
     "metadata": {},
     "output_type": "display_data"
    },
    {
     "data": {
      "application/vnd.jupyter.widget-view+json": {
       "model_id": "e837d17e7d75487f9c06907419375829",
       "version_major": 2,
       "version_minor": 0
      },
      "text/plain": [
       "  0%|          | 0/632 [00:00<?, ?it/s]"
      ]
     },
     "metadata": {},
     "output_type": "display_data"
    },
    {
     "data": {
      "application/vnd.jupyter.widget-view+json": {
       "model_id": "d0e5b503b87b4e4ba7a652d11fc4cdaa",
       "version_major": 2,
       "version_minor": 0
      },
      "text/plain": [
       "  0%|          | 0/632 [00:00<?, ?it/s]"
      ]
     },
     "metadata": {},
     "output_type": "display_data"
    },
    {
     "data": {
      "application/vnd.jupyter.widget-view+json": {
       "model_id": "7e5de183e2d242c6a76f3acec7f098de",
       "version_major": 2,
       "version_minor": 0
      },
      "text/plain": [
       "  0%|          | 0/548 [00:00<?, ?it/s]"
      ]
     },
     "metadata": {},
     "output_type": "display_data"
    },
    {
     "data": {
      "application/vnd.jupyter.widget-view+json": {
       "model_id": "3c38627fa5614063a0b3bfbe77fc6fcf",
       "version_major": 2,
       "version_minor": 0
      },
      "text/plain": [
       "  0%|          | 0/656 [00:00<?, ?it/s]"
      ]
     },
     "metadata": {},
     "output_type": "display_data"
    },
    {
     "data": {
      "application/vnd.jupyter.widget-view+json": {
       "model_id": "5dc6c8926af14ca391dac5fedc4d97db",
       "version_major": 2,
       "version_minor": 0
      },
      "text/plain": [
       "  0%|          | 0/668 [00:00<?, ?it/s]"
      ]
     },
     "metadata": {},
     "output_type": "display_data"
    },
    {
     "data": {
      "application/vnd.jupyter.widget-view+json": {
       "model_id": "c1f514606c574972b49ae25041e8efac",
       "version_major": 2,
       "version_minor": 0
      },
      "text/plain": [
       "  0%|          | 0/590 [00:00<?, ?it/s]"
      ]
     },
     "metadata": {},
     "output_type": "display_data"
    }
   ],
   "source": [
    "for train_cv, test_cv in tqdm(cv_fold[1:]):\n",
    "    data_train = df_herbert.loc[train_cv, :]\n",
    "    data_test = df_herbert.loc[test_cv, :]\n",
    "    \n",
    "    df_train = df.loc[train_cv, :]\n",
    "    df_test = df.loc[test_cv, :]\n",
    "    \n",
    "    pca = PCA(n_components = 171)\n",
    "    pca.fit(data_train)\n",
    "    \n",
    "    data_train_pca = pd.DataFrame(pca.transform(data_train), index=train_cv)\n",
    "    data_test_pca = pd.DataFrame(pca.transform(data_test), index=test_cv)\n",
    "    \n",
    "    data_train_pca_fake = data_train_pca[df_train['assestment']==1]\n",
    "    data_train_pca_true = data_train_pca[df_train['assestment']==0]\n",
    "    \n",
    "    df_train_fake = df_train[df_train['assestment']==1]\n",
    "    df_train_true = df_train[df_train['assestment']==0]\n",
    "\n",
    "    y_few_shot_test_i = []\n",
    "    \n",
    "    for t_i in tqdm(range(df_test.shape[0]), total=df_test.shape[0]):\n",
    "        example = data_test_pca.iloc[t_i,:].values.reshape(1,-1)\n",
    "        \n",
    "        nearest_fake, dist_fake = get_2_nearest(example, data_train_pca_fake)\n",
    "        nearest_true, dist_true = get_2_nearest(example, data_train_pca_true)\n",
    "        \n",
    "        nearest = pd.DataFrame({\n",
    "            'index' : nearest_fake + nearest_true,\n",
    "            'label' : [1, 1, 0 , 0],\n",
    "            'dist' : dist_fake.reshape(-1).tolist() + dist_true.reshape(-1).tolist(),\n",
    "            'text' : df_train_fake.iloc[nearest_fake, :]['text'].values.tolist() + df_train_true.iloc[nearest_true,:]['text'].values.tolist()\n",
    "        }\n",
    "        )\n",
    "        \n",
    "        nearest = nearest.sort_values('dist').head(3)\n",
    "\n",
    "        \n",
    "        messages = [ {\"role\": \"system\", \"content\": prompt} ]\n",
    "        \n",
    "        for l, t in zip(nearest['label'].values, nearest['text'].values):\n",
    "            fake_true = 'True'\n",
    "            if l == 1:\n",
    "                fake_true = 'Fake'\n",
    "            messages.append( \n",
    "                {\"role\": \"user\", \"content\": f'\"{t} : {fake_true}\"'}, \n",
    "            ) \n",
    "        \n",
    "        messages.append( \n",
    "            {\"role\": \"user\", \"content\": f'\"{df_test[\"text\"].values[t_i]}\" : '}, \n",
    "        ) \n",
    "\n",
    "        chat = openai.ChatCompletion.create( \n",
    "            model=\"gpt-3.5-turbo\", messages=messages \n",
    "        ) \n",
    "          \n",
    "        reply = chat.choices[0].message.content \n",
    "        \n",
    "        y_few_shot_test_i.append(reply)\n",
    "\n",
    "    y_few_shot_test.append(y_few_shot_test_i)"
   ]
  },
  {
   "cell_type": "code",
   "execution_count": null,
   "id": "592cd18d-3514-4f3e-8c03-538ce22e6cd2",
   "metadata": {},
   "outputs": [],
   "source": []
  },
  {
   "cell_type": "code",
   "execution_count": 86,
   "id": "ec3783f7-e0a4-46a5-8cbc-1b49a984ad73",
   "metadata": {},
   "outputs": [],
   "source": [
    "with open('../datasets/used_data/04_decoder_model/02_few_shot_chatgpt_labels_topics.pkl', \"wb\") as output:\n",
    "    pickle.dump(y_few_shot_test, output, pickle.HIGHEST_PROTOCOL);"
   ]
  },
  {
   "cell_type": "code",
   "execution_count": null,
   "id": "a540a8a4-804f-46f2-9275-823dba24314f",
   "metadata": {},
   "outputs": [],
   "source": []
  },
  {
   "cell_type": "code",
   "execution_count": 102,
   "id": "edb6fb25-2da7-47ed-8f64-3414c679fc2f",
   "metadata": {},
   "outputs": [],
   "source": [
    "_, test = cv_fold[0]"
   ]
  },
  {
   "cell_type": "code",
   "execution_count": 103,
   "id": "28a3c648-44d8-4e8f-8a36-2b6dafbdd400",
   "metadata": {},
   "outputs": [
    {
     "data": {
      "text/plain": [
       "(623,)"
      ]
     },
     "execution_count": 103,
     "metadata": {},
     "output_type": "execute_result"
    }
   ],
   "source": [
    "test.shape"
   ]
  },
  {
   "cell_type": "code",
   "execution_count": 105,
   "id": "50a23eae-8eb4-4020-a75e-373507e3ad10",
   "metadata": {},
   "outputs": [
    {
     "data": {
      "text/plain": [
       "623"
      ]
     },
     "execution_count": 105,
     "metadata": {},
     "output_type": "execute_result"
    }
   ],
   "source": [
    "len(y_few_shot_test[0])"
   ]
  },
  {
   "cell_type": "code",
   "execution_count": 123,
   "id": "6b74a6fd-f662-4104-b086-f1ca68074060",
   "metadata": {},
   "outputs": [
    {
     "data": {
      "application/vnd.jupyter.widget-view+json": {
       "model_id": "46e144b6917c403f8dda1e316953f86e",
       "version_major": 2,
       "version_minor": 0
      },
      "text/plain": [
       "0it [00:00, ?it/s]"
      ]
     },
     "metadata": {},
     "output_type": "display_data"
    },
    {
     "name": "stdout",
     "output_type": "stream",
     "text": [
      "['Fake' 'False' 'True']\n",
      "['Fake' 'False' 'True']\n",
      "['Fake' 'False' 'True']\n",
      "['Fake' 'False' 'True']\n",
      "['Fake' 'False' 'True']\n",
      "['Fake' 'Fake.' 'False'\n",
      " 'Nie mogę zaklasyfikować tego zdania jako prawdziwe (True) lub fałszywe (Fake), ponieważ nie posiadam wystarczających informacji, które by mi to umożliwiły.'\n",
      " 'True' 'True.']\n",
      "[[1 'A w jakim czasie taka dokumentacja powinna być wydana?'\n",
      "  'A w jakim czasie taka dokumentacja powinna być wydana?' 1]]\n",
      "['Fake' 'False' 'True']\n",
      "['Fake' 'False' 'True']\n",
      "['Fake' 'False' 'True']\n",
      "['Fake' 'False' 'True']\n"
     ]
    }
   ],
   "source": [
    "acc = []\n",
    "f1 = []\n",
    "\n",
    "for (train_cv, test_cv), y_pred in tqdm(zip(cv_fold, y_few_shot_test)):\n",
    "    \n",
    "    df_train = df.loc[train_cv, :]\n",
    "    df_test = df.loc[test_cv, :]\n",
    "\n",
    "    print(np.unique(y_pred))\n",
    "\n",
    "    y_test = df_test['assestment']\n",
    "\n",
    "    if 'Nie mogę zaklasyfikować tego zdania jako prawdziwe (True) lub fałszywe (Fake), ponieważ nie posiadam wystarczających informacji, które by mi to umożliwiły.' in y_pred:\n",
    "        print(\n",
    "            df_test[np.array(y_pred)=='Nie mogę zaklasyfikować tego zdania jako prawdziwe (True) lub fałszywe (Fake), ponieważ nie posiadam wystarczających informacji, które by mi to umożliwiły.'\n",
    "            ].values\n",
    "        )\n",
    "\n",
    "    y_pred = pd.Series(y_pred).isin(['Fake', 'Fake.','False']).astype(int)\n",
    "\n",
    "    acc.append( accuracy_score(y_test, y_pred) )\n",
    "    f1.append( f1_score(y_test, y_pred) )"
   ]
  },
  {
   "cell_type": "code",
   "execution_count": 114,
   "id": "1a31cd7f-4e25-4b01-9b84-05e584b24a96",
   "metadata": {},
   "outputs": [
    {
     "name": "stdout",
     "output_type": "stream",
     "text": [
      "0.59 +- 0.02\n"
     ]
    }
   ],
   "source": [
    "print( f\"{np.mean(acc):0.2f} +- {np.std(acc):0.2f}\" )"
   ]
  },
  {
   "cell_type": "code",
   "execution_count": 115,
   "id": "156f8810-6384-4b3a-95a0-164553b85326",
   "metadata": {},
   "outputs": [
    {
     "name": "stdout",
     "output_type": "stream",
     "text": [
      "0.56 +- 0.04\n"
     ]
    }
   ],
   "source": [
    "print( f\"{np.mean(f1):0.2f} +- {np.std(f1):0.2f}\" )"
   ]
  },
  {
   "cell_type": "code",
   "execution_count": null,
   "id": "5262ac10-c928-42ae-9c45-ac597ee10393",
   "metadata": {},
   "outputs": [],
   "source": []
  },
  {
   "cell_type": "code",
   "execution_count": null,
   "id": "0df874c8-3a69-4363-9401-f48ddbbfb922",
   "metadata": {},
   "outputs": [],
   "source": []
  },
  {
   "cell_type": "code",
   "execution_count": 29,
   "id": "6bdc12f7-c92d-4fb6-8d4b-b9b88da43b53",
   "metadata": {},
   "outputs": [],
   "source": [
    "y_few_shot_test_random = []"
   ]
  },
  {
   "cell_type": "code",
   "execution_count": 30,
   "id": "2bcb9ae1-3db8-48d5-bf33-ffd71841a830",
   "metadata": {},
   "outputs": [
    {
     "data": {
      "application/vnd.jupyter.widget-view+json": {
       "model_id": "ee69c588c3754eef9c263f8755b8cbd3",
       "version_major": 2,
       "version_minor": 0
      },
      "text/plain": [
       "  0%|          | 0/10 [00:00<?, ?it/s]"
      ]
     },
     "metadata": {},
     "output_type": "display_data"
    },
    {
     "data": {
      "application/vnd.jupyter.widget-view+json": {
       "model_id": "2867fbbbc53a49469f6e38df63adfbd5",
       "version_major": 2,
       "version_minor": 0
      },
      "text/plain": [
       "  0%|          | 0/653 [00:00<?, ?it/s]"
      ]
     },
     "metadata": {},
     "output_type": "display_data"
    },
    {
     "data": {
      "application/vnd.jupyter.widget-view+json": {
       "model_id": "f09ae258e6754e358ea08448812677da",
       "version_major": 2,
       "version_minor": 0
      },
      "text/plain": [
       "  0%|          | 0/653 [00:00<?, ?it/s]"
      ]
     },
     "metadata": {},
     "output_type": "display_data"
    },
    {
     "data": {
      "application/vnd.jupyter.widget-view+json": {
       "model_id": "7fcdb1425d5c425ebfe77c7d93635e97",
       "version_major": 2,
       "version_minor": 0
      },
      "text/plain": [
       "  0%|          | 0/653 [00:00<?, ?it/s]"
      ]
     },
     "metadata": {},
     "output_type": "display_data"
    },
    {
     "data": {
      "application/vnd.jupyter.widget-view+json": {
       "model_id": "4adda9de8e674920a32a6c9a63757cbe",
       "version_major": 2,
       "version_minor": 0
      },
      "text/plain": [
       "  0%|          | 0/653 [00:00<?, ?it/s]"
      ]
     },
     "metadata": {},
     "output_type": "display_data"
    },
    {
     "data": {
      "application/vnd.jupyter.widget-view+json": {
       "model_id": "2ff867982b4b4d3bb0fdece549a43930",
       "version_major": 2,
       "version_minor": 0
      },
      "text/plain": [
       "  0%|          | 0/653 [00:00<?, ?it/s]"
      ]
     },
     "metadata": {},
     "output_type": "display_data"
    },
    {
     "data": {
      "application/vnd.jupyter.widget-view+json": {
       "model_id": "a202c71bc71f4dc9b05ee3d5a3f6bc00",
       "version_major": 2,
       "version_minor": 0
      },
      "text/plain": [
       "  0%|          | 0/653 [00:00<?, ?it/s]"
      ]
     },
     "metadata": {},
     "output_type": "display_data"
    },
    {
     "data": {
      "application/vnd.jupyter.widget-view+json": {
       "model_id": "69ad4242dc3b49d09578391569c069df",
       "version_major": 2,
       "version_minor": 0
      },
      "text/plain": [
       "  0%|          | 0/653 [00:00<?, ?it/s]"
      ]
     },
     "metadata": {},
     "output_type": "display_data"
    },
    {
     "data": {
      "application/vnd.jupyter.widget-view+json": {
       "model_id": "7e80cccf78764df4af11d8ae864e5917",
       "version_major": 2,
       "version_minor": 0
      },
      "text/plain": [
       "  0%|          | 0/653 [00:00<?, ?it/s]"
      ]
     },
     "metadata": {},
     "output_type": "display_data"
    },
    {
     "data": {
      "application/vnd.jupyter.widget-view+json": {
       "model_id": "aa98028861564941b6549eb2dfb5575c",
       "version_major": 2,
       "version_minor": 0
      },
      "text/plain": [
       "  0%|          | 0/653 [00:00<?, ?it/s]"
      ]
     },
     "metadata": {},
     "output_type": "display_data"
    },
    {
     "data": {
      "application/vnd.jupyter.widget-view+json": {
       "model_id": "3175e58b518a4dba935bebb91d7dce71",
       "version_major": 2,
       "version_minor": 0
      },
      "text/plain": [
       "  0%|          | 0/652 [00:00<?, ?it/s]"
      ]
     },
     "metadata": {},
     "output_type": "display_data"
    }
   ],
   "source": [
    "for train_cv, test_cv in tqdm(cv_Kfold):\n",
    "    data_train = df_herbert.loc[train_cv, :]\n",
    "    data_test = df_herbert.loc[test_cv, :]\n",
    "    \n",
    "    df_train = df.loc[train_cv, :]\n",
    "    df_test = df.loc[test_cv, :]\n",
    "    \n",
    "    pca = PCA(n_components = 171)\n",
    "    pca.fit(data_train)\n",
    "    \n",
    "    data_train_pca = pd.DataFrame(pca.transform(data_train), index=train_cv)\n",
    "    data_test_pca = pd.DataFrame(pca.transform(data_test), index=test_cv)\n",
    "    \n",
    "    data_train_pca_fake = data_train_pca[df_train['assestment']==1]\n",
    "    data_train_pca_true = data_train_pca[df_train['assestment']==0]\n",
    "    \n",
    "    df_train_fake = df_train[df_train['assestment']==1]\n",
    "    df_train_true = df_train[df_train['assestment']==0]\n",
    "\n",
    "    y_few_shot_test_i = []\n",
    "    \n",
    "    for t_i in tqdm(range(df_test.shape[0]), total=df_test.shape[0]):\n",
    "        example = data_test_pca.iloc[t_i,:].values.reshape(1,-1)\n",
    "        \n",
    "        nearest_fake, dist_fake = get_2_nearest(example, data_train_pca_fake)\n",
    "        nearest_true, dist_true = get_2_nearest(example, data_train_pca_true)\n",
    "        \n",
    "        nearest = pd.DataFrame({\n",
    "            'index' : nearest_fake + nearest_true,\n",
    "            'label' : [1, 1, 0 , 0],\n",
    "            'dist' : dist_fake.reshape(-1).tolist() + dist_true.reshape(-1).tolist(),\n",
    "            'text' : df_train_fake.iloc[nearest_fake, :]['text'].values.tolist() + df_train_true.iloc[nearest_true,:]['text'].values.tolist()\n",
    "        }\n",
    "        )\n",
    "        \n",
    "        nearest = nearest.sort_values('dist').head(3)\n",
    "\n",
    "        \n",
    "        messages = [ {\"role\": \"system\", \"content\": prompt} ]\n",
    "        \n",
    "        for l, t in zip(nearest['label'].values, nearest['text'].values):\n",
    "            fake_true = 'True'\n",
    "            if l == 1:\n",
    "                fake_true = 'Fake'\n",
    "            messages.append( \n",
    "                {\"role\": \"user\", \"content\": f'\"{t} : {fake_true}\"'}, \n",
    "            ) \n",
    "        \n",
    "        messages.append( \n",
    "            {\"role\": \"user\", \"content\": f'\"{df_test[\"text\"].values[t_i]}\" : '}, \n",
    "        ) \n",
    "\n",
    "        chat = openai.ChatCompletion.create( \n",
    "            model=\"gpt-3.5-turbo\", messages=messages \n",
    "        ) \n",
    "          \n",
    "        reply = chat.choices[0].message.content \n",
    "        \n",
    "        y_few_shot_test_i.append(reply)\n",
    "\n",
    "    y_few_shot_test_random.append(y_few_shot_test_i)"
   ]
  },
  {
   "cell_type": "code",
   "execution_count": null,
   "id": "e874f7b4-0dcb-49c1-9f66-7134d625fc26",
   "metadata": {},
   "outputs": [],
   "source": []
  },
  {
   "cell_type": "code",
   "execution_count": null,
   "id": "4424c1e1-d689-4283-a1f8-ba0628b3bba6",
   "metadata": {},
   "outputs": [],
   "source": [
    "cant = [\n",
    "    'Nie mogę',\n",
    "]"
   ]
  },
  {
   "cell_type": "code",
   "execution_count": 55,
   "id": "e965f3da-f31c-4459-9c70-6451abc9003f",
   "metadata": {},
   "outputs": [
    {
     "data": {
      "application/vnd.jupyter.widget-view+json": {
       "model_id": "069c2d639d6640d7b4732fc74028cd4b",
       "version_major": 2,
       "version_minor": 0
      },
      "text/plain": [
       "0it [00:00, ?it/s]"
      ]
     },
     "metadata": {},
     "output_type": "display_data"
    },
    {
     "name": "stdout",
     "output_type": "stream",
     "text": [
      "['Fake' 'False' 'True']\n",
      "[]\n",
      "['Fake' 'False' 'True']\n",
      "[]\n",
      "['Fake' 'Fake.' 'False' 'Fejk' 'True']\n",
      "[]\n",
      "['Fake' 'False' 'True']\n",
      "[]\n",
      "['Fake' 'False' 'True']\n",
      "[]\n",
      "['Fake' 'False' 'True']\n",
      "[]\n",
      "['Fake' 'Fake.' 'False'\n",
      " 'Nie mogę odpowiedzieć na podstawie podanego zdania, ponieważ nie jest poprawnie przekształcone na zdanie zdawkowe. Proszę podać pełne zdanie w formie zdawkowej, a następnie podać odpowiedź jako True lub False.'\n",
      " 'True']\n",
      "[[1\n",
      "  'Monika Olejnik: Pani minister, a jaki procent rodziców zrezygnowało z nauczania obowiązkowego od szóstego roku życia, bo mogło zrezygnować na podstawie zaświadczeń.'\n",
      "  'Monika Olejnik: Pani minister, a jaki procent rodziców zrezygnowało z nauczania obowiązkowego od szóstego roku życia, bo mogło zrezygnować na podstawie zaświadczeń.'\n",
      "  1]]\n",
      "['Fake' 'Fake.' 'False'\n",
      " 'Nie mogę ocenić prawdziwości tego zdania bez dodatkowych informacji.'\n",
      " 'True']\n",
      "[[1 '[pakiet onkologiczny]' 'pakiet onkologiczny' 1]]\n",
      "['Fake' 'False' 'True']\n",
      "[]\n",
      "['Fake' 'False'\n",
      " 'Nie mogę odpowiedzieć na to pytanie na podstawie dostarczonych informacji.'\n",
      " 'True']\n",
      "[[1 'A w jakim czasie taka dokumentacja powinna być wydana?'\n",
      "  'A w jakim czasie taka dokumentacja powinna być wydana?' 1]]\n"
     ]
    }
   ],
   "source": [
    "acc = []\n",
    "f1 = []\n",
    "\n",
    "for (train_cv, test_cv), y_pred_str in tqdm(zip(cv_Kfold, y_few_shot_test_random)):\n",
    "    \n",
    "    df_train = df.loc[train_cv, :]\n",
    "    df_test = df.loc[test_cv, :]\n",
    "\n",
    "    print(np.unique(y_pred_str))\n",
    "\n",
    "    y_test = df_test['assestment']\n",
    "\n",
    "    if pd.Series(y_pred_str).str.contains('Nie mogę').shape[0] > 0:\n",
    "        print(\n",
    "            df_test[pd.Series(y_pred_str).str.contains('Nie mogę').values\n",
    "            ].values\n",
    "        )\n",
    "\n",
    "    y_pred = pd.Series(y_pred_str).isin(['Fake', 'Fake.', 'False', 'Fejk' ]).astype(int).values\n",
    "    y_pred[pd.Series(y_pred_str).str.contains('Nie mogę').values] = -1\n",
    "\n",
    "    y_test = y_test[y_pred>-1].values\n",
    "    y_pred = y_pred[y_pred>-1]\n",
    "\n",
    "    acc.append( accuracy_score(y_test, y_pred) )\n",
    "    f1.append( f1_score(y_test, y_pred) )"
   ]
  },
  {
   "cell_type": "code",
   "execution_count": 56,
   "id": "b5a5f99f-da67-4692-a519-6fe1751b47c8",
   "metadata": {},
   "outputs": [
    {
     "name": "stdout",
     "output_type": "stream",
     "text": [
      "0.59 +- 0.03\n"
     ]
    }
   ],
   "source": [
    "print( f\"{np.mean(acc):0.2f} +- {np.std(acc):0.2f}\" )"
   ]
  },
  {
   "cell_type": "code",
   "execution_count": 57,
   "id": "407c793d-6857-410b-83d3-b75f6dff5d23",
   "metadata": {},
   "outputs": [
    {
     "name": "stdout",
     "output_type": "stream",
     "text": [
      "0.57 +- 0.03\n"
     ]
    }
   ],
   "source": [
    "print( f\"{np.mean(f1):0.2f} +- {np.std(f1):0.2f}\" )"
   ]
  },
  {
   "cell_type": "code",
   "execution_count": null,
   "id": "60c7d53a-21a3-46d3-b2f6-a8c2eec612db",
   "metadata": {},
   "outputs": [],
   "source": []
  },
  {
   "cell_type": "code",
   "execution_count": 60,
   "id": "015b48f9-4acb-4963-b3d2-4973721bed0b",
   "metadata": {},
   "outputs": [
    {
     "data": {
      "text/html": [
       "<div>\n",
       "<style scoped>\n",
       "    .dataframe tbody tr th:only-of-type {\n",
       "        vertical-align: middle;\n",
       "    }\n",
       "\n",
       "    .dataframe tbody tr th {\n",
       "        vertical-align: top;\n",
       "    }\n",
       "\n",
       "    .dataframe thead th {\n",
       "        text-align: right;\n",
       "    }\n",
       "</style>\n",
       "<table border=\"1\" class=\"dataframe\">\n",
       "  <thead>\n",
       "    <tr style=\"text-align: right;\">\n",
       "      <th></th>\n",
       "      <th>assestment</th>\n",
       "      <th>text</th>\n",
       "      <th>text_clean</th>\n",
       "      <th>labels</th>\n",
       "    </tr>\n",
       "  </thead>\n",
       "  <tbody>\n",
       "    <tr>\n",
       "      <th>3282</th>\n",
       "      <td>1</td>\n",
       "      <td>[pakiet onkologiczny]</td>\n",
       "      <td>pakiet onkologiczny</td>\n",
       "      <td>1</td>\n",
       "    </tr>\n",
       "  </tbody>\n",
       "</table>\n",
       "</div>"
      ],
      "text/plain": [
       "      assestment                   text           text_clean  labels\n",
       "3282           1  [pakiet onkologiczny]  pakiet onkologiczny       1"
      ]
     },
     "execution_count": 60,
     "metadata": {},
     "output_type": "execute_result"
    }
   ],
   "source": [
    "df[df['text'].str.contains('pakiet onko')]"
   ]
  },
  {
   "cell_type": "code",
   "execution_count": null,
   "id": "cc363138-ff72-439d-8053-60ab5c48570d",
   "metadata": {},
   "outputs": [],
   "source": []
  },
  {
   "cell_type": "code",
   "execution_count": 87,
   "id": "bb81161c-045b-48cf-9c54-4ee8fb883513",
   "metadata": {},
   "outputs": [],
   "source": [
    "# y_pred = pd.Series(y_few_shot_test_i).isin(['Fake','False']).astype(int)"
   ]
  },
  {
   "cell_type": "code",
   "execution_count": 88,
   "id": "4b0f5b14-d3b6-4d79-a178-bd261660d2dc",
   "metadata": {},
   "outputs": [],
   "source": [
    "# y_test = df_test['assestment']"
   ]
  },
  {
   "cell_type": "code",
   "execution_count": 89,
   "id": "709dd5aa-1d47-4c03-a192-d923eeb490fe",
   "metadata": {},
   "outputs": [],
   "source": [
    "# accuracy_score(y_test, y_pred) "
   ]
  },
  {
   "cell_type": "code",
   "execution_count": 90,
   "id": "5305fc09-aadb-4932-bf3a-f89c7279dc2a",
   "metadata": {},
   "outputs": [],
   "source": [
    "# f1_score(y_test, y_pred) "
   ]
  },
  {
   "cell_type": "code",
   "execution_count": 91,
   "id": "12445b4c-7a02-4fee-ae6c-655669c0302b",
   "metadata": {},
   "outputs": [],
   "source": [
    "# confusion_matrix(y_test, y_pred) "
   ]
  },
  {
   "cell_type": "code",
   "execution_count": 92,
   "id": "d556df83-7216-485a-9828-3293c8c3e285",
   "metadata": {},
   "outputs": [],
   "source": [
    "# precision, recall, _ = precision_recall_curve(y_test, y_pred)\n",
    "# disp = PrecisionRecallDisplay(precision=precision, recall=recall)\n",
    "# disp.plot()"
   ]
  },
  {
   "cell_type": "code",
   "execution_count": null,
   "id": "d11e64c8-a3fa-46d4-b0e2-09dcda4160d6",
   "metadata": {},
   "outputs": [],
   "source": []
  },
  {
   "cell_type": "code",
   "execution_count": 11,
   "id": "fc8ec79b-75e0-4f67-8aad-5a6683d077db",
   "metadata": {},
   "outputs": [],
   "source": [
    "# example = data_test_pca.iloc[0,:].values.reshape(1,-1)\n",
    "# nearest_fake = get_2_nearest(example, data_train_pca_fake)\n",
    "# nearest_true = get_2_nearest(example, data_train_pca_true)"
   ]
  },
  {
   "cell_type": "code",
   "execution_count": 12,
   "id": "4f8f8f46-6f79-4716-a15e-b8242d7784f4",
   "metadata": {},
   "outputs": [],
   "source": [
    "# df_test[['assestment', 'text']].head(1).values"
   ]
  },
  {
   "cell_type": "code",
   "execution_count": 13,
   "id": "b802e904-105d-4f71-b64d-59120fff2ba0",
   "metadata": {},
   "outputs": [],
   "source": [
    "# df_train_fake[['assestment', 'text']].iloc[nearest_fake, :].values"
   ]
  },
  {
   "cell_type": "code",
   "execution_count": 14,
   "id": "a3173ed5-7053-43dc-a15b-1dab55f654bb",
   "metadata": {},
   "outputs": [],
   "source": [
    "# df_train_true[['assestment', 'text']].iloc[nearest_true, :].values"
   ]
  },
  {
   "cell_type": "code",
   "execution_count": null,
   "id": "7f904be0-4399-4761-b68b-78b85109bb4c",
   "metadata": {},
   "outputs": [],
   "source": []
  }
 ],
 "metadata": {
  "kernelspec": {
   "display_name": "Python 3 (ipykernel)",
   "language": "python",
   "name": "python3"
  },
  "language_info": {
   "codemirror_mode": {
    "name": "ipython",
    "version": 3
   },
   "file_extension": ".py",
   "mimetype": "text/x-python",
   "name": "python",
   "nbconvert_exporter": "python",
   "pygments_lexer": "ipython3",
   "version": "3.9.18"
  }
 },
 "nbformat": 4,
 "nbformat_minor": 5
}
