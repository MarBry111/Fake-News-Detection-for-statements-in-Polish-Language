{
 "cells": [
  {
   "cell_type": "code",
   "execution_count": 181,
   "id": "f7c9d760",
   "metadata": {},
   "outputs": [
    {
     "name": "stdout",
     "output_type": "stream",
     "text": [
      "INFO: Pandarallel will run on 7 workers.\n",
      "INFO: Pandarallel will use Memory file system to transfer data between the main process and workers.\n"
     ]
    }
   ],
   "source": [
    "import pandas as pd\n",
    "import numpy as np\n",
    "\n",
    "from tqdm import tqdm\n",
    "tqdm.pandas(desc=\"progress-bar\")\n",
    "from gensim.models import Doc2Vec\n",
    "\n",
    "import gensim\n",
    "from sklearn.linear_model import LogisticRegression\n",
    "from gensim.models.doc2vec import TaggedDocument\n",
    "\n",
    "from sklearn.model_selection import KFold\n",
    "\n",
    "from sklearn.base import clone as sklearn_clone\n",
    "\n",
    "from gensim.test.test_doc2vec import ConcatenatedDoc2Vec\n",
    "\n",
    "from sklearn.metrics import (\n",
    "    accuracy_score, \n",
    "    f1_score, \n",
    "    recall_score,\n",
    "    precision_score,\n",
    "    roc_auc_score, confusion_matrix, roc_curve, classification_report\n",
    ")\n",
    "\n",
    "import matplotlib.pyplot as plt\n",
    "\n",
    "import spacy\n",
    "from sentimentpl.models import SentimentPLModel\n",
    "from autocorrect import Speller\n",
    "\n",
    "import re\n",
    "import unicodedata\n",
    "\n",
    "from tqdm import tqdm\n",
    "tqdm.pandas()\n",
    "\n",
    "from pandarallel import pandarallel\n",
    "pandarallel.initialize(nb_workers=7,progress_bar=True)\n",
    "\n",
    "from parallelbar import progress_map\n",
    "\n",
    "import pyphen\n",
    "import re\n",
    "\n",
    "from sklearn.preprocessing import StandardScaler\n",
    "\n",
    "import seaborn as sns\n",
    "\n",
    "nlp_core = spacy.load(\"pl_core_news_lg\")\n",
    "model_sent = SentimentPLModel(from_pretrained='latest')\n",
    "spell = Speller('pl')\n",
    "syllab = pyphen.Pyphen(lang='pl')\n",
    "stopwords = nlp_core.Defaults.stop_words"
   ]
  },
  {
   "cell_type": "markdown",
   "id": "5e636b0b",
   "metadata": {},
   "source": [
    "## Lodad data"
   ]
  },
  {
   "cell_type": "code",
   "execution_count": 118,
   "id": "20999d1f",
   "metadata": {},
   "outputs": [
    {
     "data": {
      "text/plain": [
       "(6541, 1)"
      ]
     },
     "execution_count": 118,
     "metadata": {},
     "output_type": "execute_result"
    }
   ],
   "source": [
    "df_topics = pd.read_csv('../datasets/ready2use/topics.csv', index_col=0)\n",
    "df_topics.shape"
   ]
  },
  {
   "cell_type": "code",
   "execution_count": 119,
   "id": "8664d319",
   "metadata": {},
   "outputs": [],
   "source": [
    "df = pd.read_csv('../datasets/ready2use/fake_news_features_combined.csv', sep=';')\n",
    "\n",
    "df = df[ df['assestment'] != 'brak' ]\n",
    "\n",
    "df.loc[:, 'assestment'] = df['assestment'].replace({\n",
    "    'falsz' : 'Fałsz',\n",
    "    'zbity_zegar' : 'Fałsz',\n",
    "    'raczej_falsz' : 'Fałsz',\n",
    "    'prawda' : 'Prawda',\n",
    "    'blisko_prawdy' : 'Prawda',\n",
    "    'polprawda' : 'Manipulacja',\n",
    "    'Częściowy fałsz' : 'Manipulacja'\n",
    "})\n",
    "\n",
    "df = df[ df['assestment'] != 'Nieweryfikowalne' ]\n",
    "df = df[ df['assestment'] != 'Manipulacja' ]\n",
    "\n",
    "df['assestment'] = df['assestment'].replace({\n",
    "    'Fałsz' : 0,\n",
    "#     'Manipulacja' : 1,\n",
    "    'Prawda' : 1\n",
    "}).astype(int)\n",
    "\n",
    "y_train = df.copy()['assestment'][df.index.isin(df_topics.index)]\n",
    "\n",
    "X_train = df.copy()[['text_clean']][df.index.isin(df_topics.index)]\n",
    "\n",
    "X_train['text_clean'] = X_train['text_clean'].apply( \n",
    "    lambda x:\n",
    "    (x\n",
    "     .replace('\\n', ' ')\n",
    "     .replace('ą', 'ą')\n",
    "     .replace('ć', 'ć')\n",
    "     .replace('ę', 'ę')\n",
    "     .replace('ń', 'ń')\n",
    "     .replace('ó', 'ó')\n",
    "     .replace('ś', 'ś')\n",
    "     .replace('ź', 'ź')\n",
    "     .replace('ż', 'ż'))\n",
    ")"
   ]
  },
  {
   "cell_type": "code",
   "execution_count": 120,
   "id": "fc9e7e09",
   "metadata": {},
   "outputs": [
    {
     "data": {
      "text/plain": [
       "(6541,)"
      ]
     },
     "execution_count": 120,
     "metadata": {},
     "output_type": "execute_result"
    }
   ],
   "source": [
    "y_train.shape"
   ]
  },
  {
   "cell_type": "code",
   "execution_count": 121,
   "id": "11b98c65",
   "metadata": {},
   "outputs": [
    {
     "data": {
      "text/plain": [
       "(6541, 1)"
      ]
     },
     "execution_count": 121,
     "metadata": {},
     "output_type": "execute_result"
    }
   ],
   "source": [
    "X_train.shape"
   ]
  },
  {
   "cell_type": "markdown",
   "id": "2630ecc0",
   "metadata": {},
   "source": [
    "## Get lexical features"
   ]
  },
  {
   "cell_type": "code",
   "execution_count": 122,
   "id": "7f46ec56",
   "metadata": {},
   "outputs": [],
   "source": [
    "def get_vowels_per_word(t):\n",
    "    vowels = [len(re.findall('[aeiouóyąę]+', w)) for w in re.findall('(?![\\d\\s])[\\w]+(?![\\d\\s])', t)]\n",
    "    vowels = np.array(vowels)\n",
    "    vowels = vowels[vowels>0]\n",
    "    \n",
    "    if vowels.shape[0] == 0:\n",
    "        return [0]\n",
    "    return vowels"
   ]
  },
  {
   "cell_type": "code",
   "execution_count": 123,
   "id": "2fa028bc",
   "metadata": {},
   "outputs": [],
   "source": [
    "# https://github.com/Hassaan-Elahi/Writing-Styles-Classification-Using-Stylometric-Analysis/blob/master/Detailed%20Report.pdf"
   ]
  },
  {
   "cell_type": "code",
   "execution_count": 124,
   "id": "fd936a58",
   "metadata": {},
   "outputs": [
    {
     "name": "stderr",
     "output_type": "stream",
     "text": [
      "100%|████████████████████████████████████| 6541/6541 [00:00<00:00, 71252.56it/s]\n",
      "100%|███████████████████████████████████| 6541/6541 [00:00<00:00, 186257.21it/s]\n",
      "100%|██████████████████████████████████| 6541/6541 [00:00<00:00, 1397745.18it/s]\n",
      "100%|███████████████████████████████████| 6541/6541 [00:00<00:00, 178745.57it/s]\n",
      "100%|████████████████████████████████████| 6541/6541 [00:00<00:00, 36425.19it/s]\n"
     ]
    }
   ],
   "source": [
    "X_train['avg_word_len'] = X_train['text_clean'].progress_apply(\n",
    "    lambda x: np.mean(\n",
    "        [ len(w.strip()) for w in re.findall('(?![\\d])[\\w]+', x)]\n",
    "    )\n",
    ")\n",
    "\n",
    "X_train['n_words'] = X_train['text_clean'].progress_apply(\n",
    "    lambda x: len( re.findall('(?![\\d])[\\w]+', x) )\n",
    ")\n",
    "\n",
    "X_train['n_char'] = X_train['text_clean'].progress_apply(\n",
    "    lambda x: len(x)\n",
    ")\n",
    "\n",
    "X_train['n_special_char'] = X_train['text_clean'].progress_apply(\n",
    "    lambda x: len(re.findall('(?![\\d\\s])[\\W]', x))\n",
    ")\n",
    "\n",
    "X_train['avg_n_vowels_per_word'] = X_train['text_clean'].progress_apply(\n",
    "    lambda x: np.mean(get_vowels_per_word(x.lower()))\n",
    ")"
   ]
  },
  {
   "cell_type": "markdown",
   "id": "4b697d75",
   "metadata": {},
   "source": [
    "## Vocab richness"
   ]
  },
  {
   "cell_type": "code",
   "execution_count": 125,
   "id": "a33c59ce",
   "metadata": {},
   "outputs": [],
   "source": [
    "def get_vocab_rich_features(txt):\n",
    "    uniq_words = {}\n",
    "    words = ' '.join(re.findall('(?![\\d])[\\w]+', txt)).strip()\n",
    "    doc = nlp_core(words)\n",
    "    \n",
    "    for token in doc:\n",
    "        if token.pos_ not in ['SPACE', 'PUNCT', 'SYM', 'X', 'NUM']:\n",
    "            lemma = token.lemma_\n",
    "            if lemma in uniq_words:\n",
    "                uniq_words[lemma] = uniq_words[lemma] + 1\n",
    "            else:\n",
    "                uniq_words[lemma] = 1\n",
    "    \n",
    "    n = len(words.split(' '))\n",
    "    v = len(uniq_words)\n",
    "    \n",
    "    # Hapax Legomena and Hapax DisLegemena\n",
    "    v1 = sum(x == 1 for x in uniq_words.values())\n",
    "    v2 = sum(x == 2 for x in uniq_words.values())\n",
    "    vi = {}\n",
    "    for k in uniq_words.keys():\n",
    "        n_w = uniq_words[k]\n",
    "        if n_w in vi:\n",
    "            vi[n_w] = vi[n_w] + 1\n",
    "        else:\n",
    "            vi[n_w] = 1\n",
    "    # Honore’s measure R\n",
    "    R = 100 * np.log(n+1) / (1 - v1/v + 1)\n",
    "    # Sichel’s measure S \n",
    "    S = v2/v\n",
    "    # Brunet’s measure W \n",
    "    # https://linguistics.stackexchange.com/questions/27365/formula-for-brun%C3%A9ts-index\n",
    "    W = n**(v**(-0.17))\n",
    "    # Yule’s characteristic K\n",
    "    M = np.sum([n_w**2 * vi[n_w] for n_w in vi])\n",
    "    K = 10**4 * (M-n)/(n**2)\n",
    "    # Shannon Entropy\n",
    "    E = np.sum([uniq_words[w]/n * np.log(uniq_words[w]/n) for w in uniq_words])\n",
    "    # Simpson’s index D\n",
    "    D = np.sum([(uniq_words[w]/n)**2 for w in uniq_words])\n",
    "    # type token ratio (TTR)\n",
    "    T = v/n\n",
    "    \n",
    "    return v1, v2, R, S, W, K, E, D, T"
   ]
  },
  {
   "cell_type": "code",
   "execution_count": 126,
   "id": "26bc10a8",
   "metadata": {},
   "outputs": [
    {
     "name": "stderr",
     "output_type": "stream",
     "text": [
      "100%|██████████████████████████████████████| 6541/6541 [00:50<00:00, 128.88it/s]\n"
     ]
    }
   ],
   "source": [
    "vocab_rich_f = X_train['text_clean'].progress_apply(\n",
    "    lambda x: get_vocab_rich_features(x)\n",
    ")"
   ]
  },
  {
   "cell_type": "code",
   "execution_count": 127,
   "id": "e67bdd94",
   "metadata": {},
   "outputs": [],
   "source": [
    "X_train[\n",
    "    ['hapax_legomena',\n",
    "     'hapax_dislegemena',\n",
    "     'honore_r',\n",
    "     'sichel_s',\n",
    "     'brunet_w',\n",
    "     'yule_k',\n",
    "     'shannon_entropy',\n",
    "     'simpson_idx_d',\n",
    "     'type_token_ratio'\n",
    "    ]\n",
    "] = vocab_rich_f.values.tolist()"
   ]
  },
  {
   "cell_type": "markdown",
   "id": "945d1ddc",
   "metadata": {},
   "source": [
    "## Readability"
   ]
  },
  {
   "cell_type": "code",
   "execution_count": 128,
   "id": "3d85fd56",
   "metadata": {},
   "outputs": [],
   "source": [
    "def get_vowels_per_word_complex(t, c=2):\n",
    "    vowels = [len(re.findall('[aeiouóyąę]+', w)) for w in re.findall('(?![\\d\\s])[\\w]+(?![\\d\\s])', t)]\n",
    "    vowels = np.array(vowels)\n",
    "    # complex word - more than 2 syllabes\n",
    "    vowels = vowels[vowels>c]\n",
    "    \n",
    "    if vowels.shape[0] == 0:\n",
    "        return [0]\n",
    "    return vowels"
   ]
  },
  {
   "cell_type": "code",
   "execution_count": 129,
   "id": "a1d3a77e",
   "metadata": {},
   "outputs": [
    {
     "name": "stderr",
     "output_type": "stream",
     "text": [
      "100%|████████████████████████████████████| 6541/6541 [00:00<00:00, 27668.66it/s]\n",
      "100%|████████████████████████████████████| 6541/6541 [00:00<00:00, 27878.89it/s]\n",
      "100%|████████████████████████████████████| 6541/6541 [00:00<00:00, 33384.45it/s]\n"
     ]
    }
   ],
   "source": [
    "X_train['FR_score'] = X_train['text_clean'].progress_apply(\n",
    "    lambda x: \n",
    "    206.835 \n",
    "    - 1.015 * len( re.findall('(?![\\d])[\\w]+', x) ) #total words\n",
    "    - 84.6 *  np.sum(get_vowels_per_word(x.lower())) / len( re.findall('(?![\\d])[\\w]+', x) ) #total syllabes/ total words\n",
    ")\n",
    "\n",
    "X_train['FKG_level'] = X_train['text_clean'].progress_apply(\n",
    "    lambda x: \n",
    "    0.39 * len( re.findall('(?![\\d])[\\w]+', x) ) #total words\n",
    "    + 11.8 * np.sum(get_vowels_per_word(x.lower())) / len( re.findall('(?![\\d])[\\w]+', x) ) #total syllabes/ total words\n",
    "    - 15.59\n",
    ")\n",
    "\n",
    "X_train['Gunning_Fog_index'] = X_train['text_clean'].progress_apply(\n",
    "    lambda x: \n",
    "    0.4 * (\n",
    "        len( re.findall('(?![\\d])[\\w]+', x) ) #total words\n",
    "        + 100 * len(get_vowels_per_word_complex(x.lower())) / len( re.findall('(?![\\d])[\\w]+', x) ) \n",
    "    ) \n",
    ")"
   ]
  },
  {
   "cell_type": "markdown",
   "id": "7ad32871",
   "metadata": {},
   "source": [
    "## Add Sentiment"
   ]
  },
  {
   "cell_type": "code",
   "execution_count": 164,
   "id": "4e1fab71",
   "metadata": {},
   "outputs": [],
   "source": [
    "def get_sentiment(txt):\n",
    "    doc = nlp_core(txt)\n",
    "    \n",
    "    sentiment_all = model_sent(txt).item()\n",
    "    \n",
    "    sentiments_list = []\n",
    "    for i, sent in enumerate(doc.sents):\n",
    "        s = model_sent(sent.text).item()\n",
    "        sentiments_list.append(s)\n",
    "    \n",
    "    sentiment_avg = np.mean(sentiments_list)\n",
    "    \n",
    "    return sentiment_all, sentiment_avg"
   ]
  },
  {
   "cell_type": "code",
   "execution_count": 168,
   "id": "c17df93f",
   "metadata": {},
   "outputs": [
    {
     "name": "stderr",
     "output_type": "stream",
     "text": [
      "100%|███████████████████████████████████████| 6541/6541 [11:43<00:00,  9.30it/s]\n"
     ]
    }
   ],
   "source": [
    "sentiment_f = X_train['text_clean'].progress_apply(\n",
    "    lambda x: get_sentiment(x)\n",
    ")"
   ]
  },
  {
   "cell_type": "code",
   "execution_count": 171,
   "id": "4c144a11",
   "metadata": {},
   "outputs": [],
   "source": [
    "X_train[\n",
    "    ['sentiment_all',\n",
    "     'sentiment_avg'\n",
    "    ]\n",
    "] = sentiment_f.values.tolist()"
   ]
  },
  {
   "cell_type": "markdown",
   "id": "83d27987",
   "metadata": {},
   "source": [
    "## Extra features"
   ]
  },
  {
   "cell_type": "code",
   "execution_count": 183,
   "id": "89ce979d",
   "metadata": {},
   "outputs": [
    {
     "name": "stderr",
     "output_type": "stream",
     "text": [
      "100%|██████████████████████████████████████| 6541/6541 [00:52<00:00, 125.38it/s]\n"
     ]
    }
   ],
   "source": [
    "def get_n_stop_words(txt):\n",
    "    doc = nlp_core(txt)\n",
    "    \n",
    "    n_sw = 0\n",
    "    \n",
    "    for token in doc:\n",
    "        if token.lemma_ in stopwords:\n",
    "            n_sw = n_sw + 1\n",
    "    \n",
    "    return n_sw\n",
    "\n",
    "X_train['n_stop_words'] = X_train['text_clean'].progress_apply(\n",
    "    lambda x: get_n_stop_words(x)\n",
    ")\n"
   ]
  },
  {
   "cell_type": "code",
   "execution_count": 209,
   "id": "b45a932e",
   "metadata": {},
   "outputs": [],
   "source": [
    "def get_pos(txt):\n",
    "    \n",
    "    doc = nlp_core(txt)\n",
    "\n",
    "    adj_n = 0\n",
    "    adv_n = 0\n",
    "    noun_n = 0\n",
    "    ent_n = 0\n",
    "   \n",
    "    txt_pos = []\n",
    "    txt_word = []\n",
    "    for token in doc:\n",
    "        if token.pos_ == 'ADJ': \n",
    "            adj_n += 1\n",
    "        elif token.pos_ == 'ADV':\n",
    "            adv_n += 1\n",
    "        elif token.pos_ == 'NOUN':\n",
    "            noun_n += 1\n",
    "\n",
    "    for ent in doc.ents:\n",
    "        ent_n += 1\n",
    "\n",
    "    return (\n",
    "        ent_n, \n",
    "        adj_n/len(txt.split(' ')), adj_n, \n",
    "        adv_n/len(txt.split(' ')), adv_n, \n",
    "        noun_n/len(txt.split(' ')), noun_n\n",
    "    )"
   ]
  },
  {
   "cell_type": "code",
   "execution_count": 210,
   "id": "d46b2833",
   "metadata": {},
   "outputs": [
    {
     "name": "stderr",
     "output_type": "stream",
     "text": [
      "100%|██████████████████████████████████████| 6541/6541 [00:50<00:00, 128.35it/s]\n"
     ]
    }
   ],
   "source": [
    "pos_f = X_train['text_clean'].progress_apply(\n",
    "    lambda x: get_pos(x)\n",
    ")"
   ]
  },
  {
   "cell_type": "code",
   "execution_count": 211,
   "id": "96599308",
   "metadata": {},
   "outputs": [],
   "source": [
    "X_train[\n",
    "    ['n_ent',\n",
    "     'p_adj',\n",
    "     'n_adj',\n",
    "     'p_adv',\n",
    "     'n_adv',\n",
    "     'p_noun',\n",
    "     'n_noun'\n",
    "    ]\n",
    "] = pos_f.values.tolist()"
   ]
  },
  {
   "cell_type": "markdown",
   "id": "c604613a",
   "metadata": {},
   "source": [
    "### Kfold"
   ]
  },
  {
   "cell_type": "code",
   "execution_count": 212,
   "id": "c0cefae2",
   "metadata": {},
   "outputs": [],
   "source": [
    "cv_fold = []\n",
    "cv_fold_i = []\n",
    "\n",
    "for i in df_topics['topic'].unique().reshape(10,-1):\n",
    "    train_cv = df_topics.index[ ~np.isin(df_topics[\"topic\"], i) ].values\n",
    "    test_cv = df_topics.index[ np.isin(df_topics[\"topic\"], i) ].values\n",
    "    \n",
    "    train_cv_i = df_topics.reset_index().index[ ~np.isin(df_topics[\"topic\"], i) ].values\n",
    "    test_cv_i = df_topics.reset_index().index[ np.isin(df_topics[\"topic\"], i) ].values\n",
    "    \n",
    "    cv_fold.append( [train_cv, test_cv])\n",
    "    cv_fold_i.append( [train_cv_i, test_cv_i])"
   ]
  },
  {
   "cell_type": "code",
   "execution_count": 213,
   "id": "a34d6bff",
   "metadata": {},
   "outputs": [],
   "source": [
    "kf = KFold(n_splits=10, shuffle=True)\n",
    "kf.get_n_splits(df_topics)\n",
    "\n",
    "cv_Kfold = []\n",
    "cv_Kfold_i = []\n",
    "\n",
    "for train_index, test_index in kf.split(df_topics):\n",
    "    train_cv = df_topics.iloc[ train_index, : ].index.values\n",
    "    test_cv = df_topics.iloc[ test_index, : ].index.values\n",
    "\n",
    "    train_cv_i= df_topics.reset_index().iloc[ train_index, : ].index.values\n",
    "    test_cv_i = df_topics.reset_index().iloc[ test_index, : ].index.values\n",
    "    \n",
    "    cv_Kfold.append( [train_cv, test_cv])\n",
    "    cv_Kfold_i.append( [train_cv_i, test_cv_i])"
   ]
  },
  {
   "cell_type": "markdown",
   "id": "ceb4877a",
   "metadata": {},
   "source": [
    "## Experiments"
   ]
  },
  {
   "cell_type": "code",
   "execution_count": 214,
   "id": "4cabdb95",
   "metadata": {},
   "outputs": [],
   "source": [
    "clf_lr_1 = LogisticRegression(max_iter=5000, C=1, penalty='l2', solver='liblinear')"
   ]
  },
  {
   "cell_type": "code",
   "execution_count": 215,
   "id": "68be1460",
   "metadata": {},
   "outputs": [],
   "source": [
    "def run_experiment(X, y,  cv, clf_org):\n",
    "\n",
    "    results = {\n",
    "        'test_accuracy' : [],\n",
    "        'test_precision' : [],\n",
    "        'test_recall' : [],\n",
    "        'test_f1' : []\n",
    "    }\n",
    "    coef_matrix = []\n",
    "    c_matrix = np.zeros((2,2))\n",
    "\n",
    "    for train_cv, test_cv in tqdm(cv):\n",
    "        clf = sklearn_clone(clf_org)\n",
    "        \n",
    "        scaler = StandardScaler()\n",
    "        \n",
    "        y_train_t, X_train_t = y[X.index.isin(train_cv)], X[X.index.isin(train_cv)]\n",
    "        y_test_t, X_test_t = y[X.index.isin(train_cv)], X[X.index.isin(train_cv)]\n",
    "        \n",
    "        scaler.fit(X_train_t)\n",
    "        X_train_t = scaler.transform(X_train_t)\n",
    "        X_test_t = scaler.transform(X_test_t)\n",
    "        \n",
    "        clf.fit(X_train_t, y_train_t)\n",
    "\n",
    "        y_pred = clf.predict(X_test_t)\n",
    "        \n",
    "        coef_matrix.append(clf.coef_)\n",
    "        \n",
    "        confusion = confusion_matrix(y_test_t, y_pred)\n",
    "        c_matrix += confusion\n",
    "\n",
    "        results['test_accuracy'].append( accuracy_score(y_test_t, y_pred) ) \n",
    "        results['test_precision'].append( precision_score(y_test_t, y_pred) ) \n",
    "        results['test_recall'].append( recall_score(y_test_t, y_pred) ) \n",
    "        results['test_f1'].append( f1_score(y_test_t, y_pred) ) \n",
    "        \n",
    "\n",
    "    metrics = {\n",
    "        \"Accuracy\": np.array(results['test_accuracy']),\n",
    "    #     \"Precision\": np.array(results['test_precision']).mean(),\n",
    "    #     \"Recall\": np.array(results['test_recall']).mean(),\n",
    "        \"F1 Score\":  np.array(results['test_f1']),\n",
    "        }\n",
    "\n",
    "    return metrics, np.concatenate(coef_matrix, 0)"
   ]
  },
  {
   "cell_type": "code",
   "execution_count": 229,
   "id": "f82968d4",
   "metadata": {},
   "outputs": [
    {
     "data": {
      "text/plain": [
       "['avg_word_len',\n",
       " 'n_words',\n",
       " 'n_char',\n",
       " 'n_special_char',\n",
       " 'avg_n_vowels_per_word',\n",
       " 'hapax_legomena',\n",
       " 'hapax_dislegemena',\n",
       " 'honore_r',\n",
       " 'sichel_s',\n",
       " 'brunet_w',\n",
       " 'yule_k',\n",
       " 'shannon_entropy',\n",
       " 'simpson_idx_d',\n",
       " 'type_token_ratio',\n",
       " 'FR_score',\n",
       " 'FKG_level',\n",
       " 'Gunning_Fog_index',\n",
       " 'sentiment_all',\n",
       " 'sentiment_avg',\n",
       " 'n_stop_words',\n",
       " 'n_ent',\n",
       " 'n_adj',\n",
       " 'n_adv',\n",
       " 'n_noun']"
      ]
     },
     "execution_count": 229,
     "metadata": {},
     "output_type": "execute_result"
    }
   ],
   "source": [
    "col_use = X_train.columns[1:].values.tolist()\n",
    "\n",
    "col_use.remove('p_adj')\n",
    "col_use.remove('p_adv')\n",
    "col_use.remove('p_noun')\n",
    "\n",
    "col_use"
   ]
  },
  {
   "cell_type": "code",
   "execution_count": 232,
   "id": "d01548dc",
   "metadata": {},
   "outputs": [
    {
     "name": "stderr",
     "output_type": "stream",
     "text": [
      "100%|███████████████████████████████████████████| 10/10 [00:00<00:00, 14.78it/s]"
     ]
    },
    {
     "name": "stdout",
     "output_type": "stream",
     "text": [
      "styllsitic f lr C1 Accuracy 0.617+-0.003 F1 Score 0.569+-0.014  0.617+-0.003 | 0.569+-0.014\n"
     ]
    },
    {
     "name": "stderr",
     "output_type": "stream",
     "text": [
      "\n"
     ]
    }
   ],
   "source": [
    "out, m = run_experiment(X_train[col_use], y_train, cv_fold, clf_lr_1)\n",
    "print(\n",
    "    'styllsitic f lr C1',\n",
    "    f'Accuracy {out[\"Accuracy\"].mean():.3f}+-{out[\"Accuracy\"].std():.3f}',\n",
    "    f'F1 Score {out[\"F1 Score\"].mean():.3f}+-{out[\"F1 Score\"].std():.3f}',\n",
    "    f' {out[\"Accuracy\"].mean():.3f}+-{out[\"Accuracy\"].std():.3f} | {out[\"F1 Score\"].mean():.3f}+-{out[\"F1 Score\"].std():.3f}'\n",
    ")"
   ]
  },
  {
   "cell_type": "code",
   "execution_count": 233,
   "id": "8344bbc0",
   "metadata": {},
   "outputs": [
    {
     "data": {
      "image/png": "[encoded data removed]",
      "text/plain": [
       "<Figure size 640x480 with 1 Axes>"
      ]
     },
     "metadata": {},
     "output_type": "display_data"
    }
   ],
   "source": [
    "df_coefs = pd.DataFrame(m)\n",
    "df_coefs.columns = col_use\n",
    "sns.barplot(data=df_coefs.melt(), y=\"variable\", x=\"value\")\n",
    "plt.show()"
   ]
  },
  {
   "cell_type": "code",
   "execution_count": 234,
   "id": "b05b82be",
   "metadata": {},
   "outputs": [
    {
     "name": "stderr",
     "output_type": "stream",
     "text": [
      "100%|███████████████████████████████████████████| 10/10 [00:00<00:00, 16.15it/s]"
     ]
    },
    {
     "name": "stdout",
     "output_type": "stream",
     "text": [
      "styllsitic f lr C1 Accuracy 0.617+-0.002 F1 Score 0.570+-0.005  0.617+-0.002 | 0.570+-0.005\n"
     ]
    },
    {
     "name": "stderr",
     "output_type": "stream",
     "text": [
      "\n"
     ]
    }
   ],
   "source": [
    "out, m = run_experiment(X_train[col_use], y_train, cv_Kfold, clf_lr_1)\n",
    "print(\n",
    "    'styllsitic f lr C1',\n",
    "    f'Accuracy {out[\"Accuracy\"].mean():.3f}+-{out[\"Accuracy\"].std():.3f}',\n",
    "    f'F1 Score {out[\"F1 Score\"].mean():.3f}+-{out[\"F1 Score\"].std():.3f}',\n",
    "    f' {out[\"Accuracy\"].mean():.3f}+-{out[\"Accuracy\"].std():.3f} | {out[\"F1 Score\"].mean():.3f}+-{out[\"F1 Score\"].std():.3f}'\n",
    ")"
   ]
  },
  {
   "cell_type": "code",
   "execution_count": 235,
   "id": "52abe279",
   "metadata": {},
   "outputs": [
    {
     "data": {
      "image/png": "[encoded data removed]",
      "text/plain": [
       "<Figure size 640x480 with 1 Axes>"
      ]
     },
     "metadata": {},
     "output_type": "display_data"
    }
   ],
   "source": [
    "df_coefs = pd.DataFrame(m)\n",
    "df_coefs.columns = col_use\n",
    "sns.barplot(data=df_coefs.melt(), y=\"variable\", x=\"value\")\n",
    "plt.show()"
   ]
  },
  {
   "cell_type": "code",
   "execution_count": null,
   "id": "c71e55cc",
   "metadata": {},
   "outputs": [],
   "source": []
  }
 ],
 "metadata": {
  "kernelspec": {
   "display_name": "Python 3 (ipykernel)",
   "language": "python",
   "name": "python3"
  },
  "language_info": {
   "codemirror_mode": {
    "name": "ipython",
    "version": 3
   },
   "file_extension": ".py",
   "mimetype": "text/x-python",
   "name": "python",
   "nbconvert_exporter": "python",
   "pygments_lexer": "ipython3",
   "version": "3.9.13"
  }
 },
 "nbformat": 4,
 "nbformat_minor": 5
}
