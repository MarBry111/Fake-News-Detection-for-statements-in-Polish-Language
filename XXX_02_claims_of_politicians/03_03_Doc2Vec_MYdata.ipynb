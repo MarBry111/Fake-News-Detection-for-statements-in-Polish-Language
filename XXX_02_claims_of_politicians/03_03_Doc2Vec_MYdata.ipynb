{
 "cells": [
  {
   "cell_type": "code",
   "execution_count": 69,
   "id": "f7c9d760",
   "metadata": {},
   "outputs": [],
   "source": [
    "import pandas as pd\n",
    "import numpy as np\n",
    "\n",
    "from tqdm import tqdm\n",
    "tqdm.pandas(desc=\"progress-bar\")\n",
    "from gensim.models import Doc2Vec\n",
    "\n",
    "import gensim\n",
    "from sklearn.linear_model import LogisticRegression\n",
    "from gensim.models.doc2vec import TaggedDocument\n",
    "\n",
    "from sklearn.model_selection import KFold\n",
    "\n",
    "from sklearn.base import clone as sklearn_clone\n",
    "\n",
    "from gensim.test.test_doc2vec import ConcatenatedDoc2Vec\n",
    "\n",
    "from sklearn.metrics import (\n",
    "    accuracy_score, \n",
    "    f1_score, \n",
    "    recall_score,\n",
    "    precision_score,\n",
    "    roc_auc_score, confusion_matrix, roc_curve, classification_report\n",
    ")\n",
    "\n",
    "import matplotlib.pyplot as plt"
   ]
  },
  {
   "cell_type": "markdown",
   "id": "5e636b0b",
   "metadata": {},
   "source": [
    "## Lodad data"
   ]
  },
  {
   "cell_type": "code",
   "execution_count": 12,
   "id": "20999d1f",
   "metadata": {},
   "outputs": [
    {
     "data": {
      "text/plain": [
       "(6541, 1)"
      ]
     },
     "execution_count": 12,
     "metadata": {},
     "output_type": "execute_result"
    }
   ],
   "source": [
    "df_topics = pd.read_csv('../datasets/ready2use/topics.csv', index_col=0)\n",
    "df_topics.shape"
   ]
  },
  {
   "cell_type": "code",
   "execution_count": 21,
   "id": "8664d319",
   "metadata": {},
   "outputs": [],
   "source": [
    "df = pd.read_csv('../datasets/ready2use/fake_news_features_combined.csv', sep=';')\n",
    "\n",
    "df = df[ df['assestment'] != 'brak' ]\n",
    "\n",
    "df.loc[:, 'assestment'] = df['assestment'].replace({\n",
    "    'falsz' : 'Fałsz',\n",
    "    'zbity_zegar' : 'Fałsz',\n",
    "    'raczej_falsz' : 'Fałsz',\n",
    "    'prawda' : 'Prawda',\n",
    "    'blisko_prawdy' : 'Prawda',\n",
    "    'polprawda' : 'Manipulacja',\n",
    "    'Częściowy fałsz' : 'Manipulacja'\n",
    "})\n",
    "\n",
    "df = df[ df['assestment'] != 'Nieweryfikowalne' ]\n",
    "df = df[ df['assestment'] != 'Manipulacja' ]\n",
    "\n",
    "df['assestment'] = df['assestment'].replace({\n",
    "    'Fałsz' : 0,\n",
    "#     'Manipulacja' : 1,\n",
    "    'Prawda' : 1\n",
    "}).astype(int)\n",
    "\n",
    "y_train = df.copy()['assestment'][df.index.isin(df_topics.index)]\n",
    "\n",
    "X_train = pd.read_csv('../datasets/ready2use/words_clean_pl.csv', index_col=0)\n",
    "X_train['words_clean'] = X_train['words_clean'].str.split(' ')"
   ]
  },
  {
   "cell_type": "code",
   "execution_count": 22,
   "id": "fc9e7e09",
   "metadata": {},
   "outputs": [
    {
     "data": {
      "text/plain": [
       "(6541,)"
      ]
     },
     "execution_count": 22,
     "metadata": {},
     "output_type": "execute_result"
    }
   ],
   "source": [
    "y_train.shape"
   ]
  },
  {
   "cell_type": "code",
   "execution_count": 23,
   "id": "11b98c65",
   "metadata": {},
   "outputs": [
    {
     "data": {
      "text/plain": [
       "(6541, 1)"
      ]
     },
     "execution_count": 23,
     "metadata": {},
     "output_type": "execute_result"
    }
   ],
   "source": [
    "X_train.shape"
   ]
  },
  {
   "cell_type": "code",
   "execution_count": 25,
   "id": "6e0c0a6b",
   "metadata": {},
   "outputs": [
    {
     "data": {
      "text/html": [
       "<div>\n",
       "<style scoped>\n",
       "    .dataframe tbody tr th:only-of-type {\n",
       "        vertical-align: middle;\n",
       "    }\n",
       "\n",
       "    .dataframe tbody tr th {\n",
       "        vertical-align: top;\n",
       "    }\n",
       "\n",
       "    .dataframe thead th {\n",
       "        text-align: right;\n",
       "    }\n",
       "</style>\n",
       "<table border=\"1\" class=\"dataframe\">\n",
       "  <thead>\n",
       "    <tr style=\"text-align: right;\">\n",
       "      <th></th>\n",
       "      <th>words_clean</th>\n",
       "    </tr>\n",
       "  </thead>\n",
       "  <tbody>\n",
       "    <tr>\n",
       "      <th>1</th>\n",
       "      <td>[bank, centralny, ukraina, walutowy, kwota, do...</td>\n",
       "    </tr>\n",
       "    <tr>\n",
       "      <th>2</th>\n",
       "      <td>[grudzień, mieć, trzeci, inflacja, unia, rekor...</td>\n",
       "    </tr>\n",
       "    <tr>\n",
       "      <th>3</th>\n",
       "      <td>[jedyny, ambasador, unia, czas, obecny, placów...</td>\n",
       "    </tr>\n",
       "    <tr>\n",
       "      <th>4</th>\n",
       "      <td>[prezes, nbp, adam, glapiński, odpowiedzialny,...</td>\n",
       "    </tr>\n",
       "    <tr>\n",
       "      <th>5</th>\n",
       "      <td>[narodowy, bank, zwiększać, zasób, odpowiadać,...</td>\n",
       "    </tr>\n",
       "  </tbody>\n",
       "</table>\n",
       "</div>"
      ],
      "text/plain": [
       "                                         words_clean\n",
       "1  [bank, centralny, ukraina, walutowy, kwota, do...\n",
       "2  [grudzień, mieć, trzeci, inflacja, unia, rekor...\n",
       "3  [jedyny, ambasador, unia, czas, obecny, placów...\n",
       "4  [prezes, nbp, adam, glapiński, odpowiedzialny,...\n",
       "5  [narodowy, bank, zwiększać, zasób, odpowiadać,..."
      ]
     },
     "execution_count": 25,
     "metadata": {},
     "output_type": "execute_result"
    }
   ],
   "source": [
    "X_train.head()"
   ]
  },
  {
   "cell_type": "code",
   "execution_count": 46,
   "id": "8c1631cf",
   "metadata": {},
   "outputs": [
    {
     "data": {
      "text/html": [
       "<div>\n",
       "<style scoped>\n",
       "    .dataframe tbody tr th:only-of-type {\n",
       "        vertical-align: middle;\n",
       "    }\n",
       "\n",
       "    .dataframe tbody tr th {\n",
       "        vertical-align: top;\n",
       "    }\n",
       "\n",
       "    .dataframe thead th {\n",
       "        text-align: right;\n",
       "    }\n",
       "</style>\n",
       "<table border=\"1\" class=\"dataframe\">\n",
       "  <thead>\n",
       "    <tr style=\"text-align: right;\">\n",
       "      <th></th>\n",
       "      <th>words_clean</th>\n",
       "      <th>label</th>\n",
       "    </tr>\n",
       "  </thead>\n",
       "  <tbody>\n",
       "    <tr>\n",
       "      <th>1</th>\n",
       "      <td>[bank, centralny, ukraina, walutowy, kwota, do...</td>\n",
       "      <td>1</td>\n",
       "    </tr>\n",
       "    <tr>\n",
       "      <th>2</th>\n",
       "      <td>[grudzień, mieć, trzeci, inflacja, unia, rekor...</td>\n",
       "      <td>1</td>\n",
       "    </tr>\n",
       "    <tr>\n",
       "      <th>3</th>\n",
       "      <td>[jedyny, ambasador, unia, czas, obecny, placów...</td>\n",
       "      <td>1</td>\n",
       "    </tr>\n",
       "    <tr>\n",
       "      <th>4</th>\n",
       "      <td>[prezes, nbp, adam, glapiński, odpowiedzialny,...</td>\n",
       "      <td>0</td>\n",
       "    </tr>\n",
       "    <tr>\n",
       "      <th>5</th>\n",
       "      <td>[narodowy, bank, zwiększać, zasób, odpowiadać,...</td>\n",
       "      <td>1</td>\n",
       "    </tr>\n",
       "  </tbody>\n",
       "</table>\n",
       "</div>"
      ],
      "text/plain": [
       "                                         words_clean  label\n",
       "1  [bank, centralny, ukraina, walutowy, kwota, do...      1\n",
       "2  [grudzień, mieć, trzeci, inflacja, unia, rekor...      1\n",
       "3  [jedyny, ambasador, unia, czas, obecny, placów...      1\n",
       "4  [prezes, nbp, adam, glapiński, odpowiedzialny,...      0\n",
       "5  [narodowy, bank, zwiększać, zasób, odpowiadać,...      1"
      ]
     },
     "execution_count": 46,
     "metadata": {},
     "output_type": "execute_result"
    }
   ],
   "source": [
    "train = X_train.copy()\n",
    "train['label'] = y_train\n",
    "train = train.dropna()\n",
    "train.head()"
   ]
  },
  {
   "cell_type": "code",
   "execution_count": 47,
   "id": "cb290592",
   "metadata": {},
   "outputs": [
    {
     "data": {
      "text/plain": [
       "(6532, 2)"
      ]
     },
     "execution_count": 47,
     "metadata": {},
     "output_type": "execute_result"
    }
   ],
   "source": [
    "train.shape"
   ]
  },
  {
   "cell_type": "code",
   "execution_count": 48,
   "id": "3c3a9f9e",
   "metadata": {},
   "outputs": [],
   "source": [
    "train_tagged = train.apply(\n",
    "    lambda r: TaggedDocument(words=r['words_clean'], tags=[r.label]), axis=1)"
   ]
  },
  {
   "cell_type": "markdown",
   "id": "c604613a",
   "metadata": {},
   "source": [
    "### Kfold"
   ]
  },
  {
   "cell_type": "code",
   "execution_count": 49,
   "id": "c0cefae2",
   "metadata": {},
   "outputs": [],
   "source": [
    "cv_fold = []\n",
    "cv_fold_i = []\n",
    "\n",
    "for i in df_topics['topic'].unique().reshape(10,-1):\n",
    "    train_cv = df_topics.index[ ~np.isin(df_topics[\"topic\"], i) ].values\n",
    "    test_cv = df_topics.index[ np.isin(df_topics[\"topic\"], i) ].values\n",
    "    \n",
    "    train_cv_i = df_topics.reset_index().index[ ~np.isin(df_topics[\"topic\"], i) ].values\n",
    "    test_cv_i = df_topics.reset_index().index[ np.isin(df_topics[\"topic\"], i) ].values\n",
    "    \n",
    "    cv_fold.append( [train_cv, test_cv])\n",
    "    cv_fold_i.append( [train_cv_i, test_cv_i])"
   ]
  },
  {
   "cell_type": "code",
   "execution_count": 50,
   "id": "a34d6bff",
   "metadata": {},
   "outputs": [],
   "source": [
    "kf = KFold(n_splits=10, shuffle=True)\n",
    "kf.get_n_splits(df_topics)\n",
    "\n",
    "cv_Kfold = []\n",
    "cv_Kfold_i = []\n",
    "\n",
    "for train_index, test_index in kf.split(df_topics):\n",
    "    train_cv = df_topics.iloc[ train_index, : ].index.values\n",
    "    test_cv = df_topics.iloc[ test_index, : ].index.values\n",
    "\n",
    "    train_cv_i= df_topics.reset_index().iloc[ train_index, : ].index.values\n",
    "    test_cv_i = df_topics.reset_index().iloc[ test_index, : ].index.values\n",
    "    \n",
    "    cv_Kfold.append( [train_cv, test_cv])\n",
    "    cv_Kfold_i.append( [train_cv_i, test_cv_i])"
   ]
  },
  {
   "cell_type": "markdown",
   "id": "ceb4877a",
   "metadata": {},
   "source": [
    "## Experiments"
   ]
  },
  {
   "cell_type": "code",
   "execution_count": 51,
   "id": "4cabdb95",
   "metadata": {},
   "outputs": [],
   "source": [
    "clf_lr_1 = LogisticRegression(max_iter=5000, C=1, penalty='l2', solver='liblinear')"
   ]
  },
  {
   "cell_type": "code",
   "execution_count": 52,
   "id": "44a98a9d",
   "metadata": {},
   "outputs": [
    {
     "data": {
      "text/plain": [
       "15"
      ]
     },
     "execution_count": 52,
     "metadata": {},
     "output_type": "execute_result"
    }
   ],
   "source": [
    "import multiprocessing\n",
    "cores = multiprocessing.cpu_count() - 1\n",
    "cores"
   ]
  },
  {
   "cell_type": "code",
   "execution_count": 79,
   "id": "1df09970",
   "metadata": {},
   "outputs": [],
   "source": [
    "def get_vectors(model, tagged_docs):\n",
    "    sents = tagged_docs.values\n",
    "    targets, regressors = zip(*[(doc.tags[0], model.infer_vector(doc.words)) for doc in sents])\n",
    "    return targets, regressors"
   ]
  },
  {
   "cell_type": "code",
   "execution_count": 164,
   "id": "68be1460",
   "metadata": {},
   "outputs": [],
   "source": [
    "def run_experiment_d2v(X, cv, clf_org):\n",
    "\n",
    "    results = {\n",
    "        'test_accuracy' : [],\n",
    "        'test_precision' : [],\n",
    "        'test_recall' : [],\n",
    "        'test_f1' : []\n",
    "    }\n",
    "\n",
    "    c_matrix = np.zeros((2,2))\n",
    "\n",
    "    for train_cv, test_cv in tqdm(cv):\n",
    "        clf = sklearn_clone(clf_org)\n",
    "\n",
    "        train_tagged_dov2vec = X[X.index.isin(train_cv)]\n",
    "                \n",
    "        \n",
    "        model_dbow = Doc2Vec(dm=0, workers=cores, vector_size=100, window=5,\n",
    "                             seed=111)\n",
    "        model_dbow.build_vocab([x for x in train_tagged_dov2vec.values])\n",
    "        \n",
    "        for epoch in range(30):\n",
    "            model_dbow.train(utils.shuffle([x for x in train_tagged_dov2vec.values]), \n",
    "                             total_examples=len(train_tagged_dov2vec.values), epochs=1)\n",
    "            model_dbow.alpha -= 0.002\n",
    "            model_dbow.min_alpha = model_dbow.alpha\n",
    "            \n",
    "        \n",
    "        model_dmm = Doc2Vec(dm=1, dm_mean=1, vector_size=100, window=5,\n",
    "                            seed=111)\n",
    "        model_dmm.build_vocab([x for x in train_tagged_dov2vec.values])\n",
    "        \n",
    "        for epoch in range(30):\n",
    "            model_dmm.train(utils.shuffle([x for x in train_tagged_dov2vec.values]), \n",
    "                            total_examples=len(train_tagged_dov2vec.values), epochs=1)\n",
    "            model_dmm.alpha -= 0.002\n",
    "            model_dmm.min_alpha = model_dmm.alpha\n",
    "        \n",
    "        \n",
    "        new_model = ConcatenatedDoc2Vec([model_dbow, model_dmm])\n",
    "        \n",
    "        y_train_t, X_train_t = get_vectors(new_model, X[X.index.isin(train_cv)])\n",
    "        y_test_t, X_test_t = get_vectors(new_model, X[X.index.isin(test_cv)])\n",
    "        \n",
    "        \n",
    "        clf.fit(X_train_t, y_train_t)\n",
    "\n",
    "        y_pred = clf.predict(X_test_t)\n",
    "        \n",
    "        confusion = confusion_matrix(y_test_t, y_pred)\n",
    "        c_matrix += confusion\n",
    "\n",
    "        results['test_accuracy'].append( accuracy_score(y_test_t, y_pred) ) \n",
    "        results['test_precision'].append( precision_score(y_test_t, y_pred) ) \n",
    "        results['test_recall'].append( recall_score(y_test_t, y_pred) ) \n",
    "        results['test_f1'].append( f1_score(y_test_t, y_pred) ) \n",
    "        \n",
    "\n",
    "    metrics = {\n",
    "        \"Accuracy\": np.array(results['test_accuracy']),\n",
    "    #     \"Precision\": np.array(results['test_precision']).mean(),\n",
    "    #     \"Recall\": np.array(results['test_recall']).mean(),\n",
    "        \"F1 Score\":  np.array(results['test_f1']),\n",
    "        }\n",
    "\n",
    "    return metrics"
   ]
  },
  {
   "cell_type": "code",
   "execution_count": 166,
   "id": "d01548dc",
   "metadata": {},
   "outputs": [
    {
     "name": "stderr",
     "output_type": "stream",
     "text": [
      "100%|███████████████████████████████████████████| 10/10 [02:14<00:00, 13.45s/it]"
     ]
    },
    {
     "name": "stdout",
     "output_type": "stream",
     "text": [
      "doc2vec lr C1 Accuracy 0.598+-0.021 F1 Score 0.548+-0.040  0.598+-0.021 | 0.548+-0.040\n"
     ]
    },
    {
     "name": "stderr",
     "output_type": "stream",
     "text": [
      "\n"
     ]
    }
   ],
   "source": [
    "out = run_experiment_d2v(train_tagged, cv_fold, clf_lr_1)\n",
    "print(\n",
    "    'doc2vec lr C1',\n",
    "    f'Accuracy {out[\"Accuracy\"].mean():.3f}+-{out[\"Accuracy\"].std():.3f}',\n",
    "    f'F1 Score {out[\"F1 Score\"].mean():.3f}+-{out[\"F1 Score\"].std():.3f}',\n",
    "    f' {out[\"Accuracy\"].mean():.3f}+-{out[\"Accuracy\"].std():.3f} | {out[\"F1 Score\"].mean():.3f}+-{out[\"F1 Score\"].std():.3f}'\n",
    ")"
   ]
  },
  {
   "cell_type": "code",
   "execution_count": 165,
   "id": "b05b82be",
   "metadata": {},
   "outputs": [
    {
     "name": "stderr",
     "output_type": "stream",
     "text": [
      "100%|███████████████████████████████████████████| 10/10 [02:07<00:00, 12.71s/it]"
     ]
    },
    {
     "name": "stdout",
     "output_type": "stream",
     "text": [
      "doc2vec lr C1 Accuracy 0.605+-0.019 F1 Score 0.566+-0.028  0.605+-0.019 | 0.566+-0.028\n"
     ]
    },
    {
     "name": "stderr",
     "output_type": "stream",
     "text": [
      "\n"
     ]
    }
   ],
   "source": [
    "out = run_experiment_d2v(train_tagged, cv_Kfold, clf_lr_1)\n",
    "print(\n",
    "    'doc2vec lr C1',\n",
    "    f'Accuracy {out[\"Accuracy\"].mean():.3f}+-{out[\"Accuracy\"].std():.3f}',\n",
    "    f'F1 Score {out[\"F1 Score\"].mean():.3f}+-{out[\"F1 Score\"].std():.3f}',\n",
    "    f' {out[\"Accuracy\"].mean():.3f}+-{out[\"Accuracy\"].std():.3f} | {out[\"F1 Score\"].mean():.3f}+-{out[\"F1 Score\"].std():.3f}'\n",
    ")"
   ]
  },
  {
   "cell_type": "markdown",
   "id": "3dbb45f0",
   "metadata": {},
   "source": [
    "### trying to visualise the results"
   ]
  },
  {
   "cell_type": "code",
   "execution_count": 102,
   "id": "b977b572",
   "metadata": {},
   "outputs": [],
   "source": [
    "import umap  # pip install umap-learn"
   ]
  },
  {
   "cell_type": "code",
   "execution_count": 172,
   "id": "19cabb6b",
   "metadata": {},
   "outputs": [
    {
     "name": "stderr",
     "output_type": "stream",
     "text": [
      "  0%|                                                    | 0/10 [00:13<?, ?it/s]\n"
     ]
    }
   ],
   "source": [
    "X = train_tagged\n",
    "\n",
    "for train_cv, test_cv in tqdm(cv_Kfold):\n",
    "    train_tagged_dov2vec = X[X.index.isin(train_cv)]\n",
    "\n",
    "    \n",
    "    model_dbow = Doc2Vec(dm=0, workers=cores, vector_size=100, window=5,\n",
    "                             seed=111)\n",
    "    model_dbow.build_vocab([x for x in train_tagged_dov2vec.values])\n",
    "\n",
    "    for epoch in range(30):\n",
    "        model_dbow.train(utils.shuffle([x for x in train_tagged_dov2vec.values]), \n",
    "                         total_examples=len(train_tagged_dov2vec.values), epochs=1)\n",
    "        model_dbow.alpha -= 0.002\n",
    "        model_dbow.min_alpha = model_dbow.alpha\n",
    "\n",
    "\n",
    "    model_dmm = Doc2Vec(dm=1, dm_mean=1, vector_size=100, window=5,\n",
    "                        seed=111)\n",
    "    model_dmm.build_vocab([x for x in train_tagged_dov2vec.values])\n",
    "\n",
    "    for epoch in range(30):\n",
    "        model_dmm.train(utils.shuffle([x for x in train_tagged_dov2vec.values]), \n",
    "                        total_examples=len(train_tagged_dov2vec.values), epochs=1)\n",
    "        model_dmm.alpha -= 0.002\n",
    "        model_dmm.min_alpha = model_dmm.alpha\n",
    "\n",
    "    new_model = ConcatenatedDoc2Vec([model_dbow, model_dmm])\n",
    "\n",
    "    \n",
    "    y_train_t, X_train_t = get_vectors(new_model, X[X.index.isin(train_cv)])\n",
    "    y_test_t, X_test_t = get_vectors(new_model, X[X.index.isin(test_cv)])\n",
    "    \n",
    "    break"
   ]
  },
  {
   "cell_type": "code",
   "execution_count": 173,
   "id": "ea5c2695",
   "metadata": {},
   "outputs": [],
   "source": [
    "manifold = umap.UMAP().fit(X_train_t, y_train_t)\n",
    "X_reduced = manifold.transform(X_train_t)"
   ]
  },
  {
   "cell_type": "code",
   "execution_count": 174,
   "id": "e0df526d",
   "metadata": {},
   "outputs": [],
   "source": [
    "X_reduced_test = manifold.transform(X_test_t)"
   ]
  },
  {
   "cell_type": "code",
   "execution_count": 175,
   "id": "fc10239b",
   "metadata": {},
   "outputs": [
    {
     "data": {
      "text/plain": [
       "<matplotlib.collections.PathCollection at 0x7f52a7702460>"
      ]
     },
     "execution_count": 175,
     "metadata": {},
     "output_type": "execute_result"
    },
    {
     "data": {
      "image/png": "[encoded data removed]",
      "text/plain": [
       "<Figure size 640x480 with 1 Axes>"
      ]
     },
     "metadata": {},
     "output_type": "display_data"
    }
   ],
   "source": [
    "plt.scatter(X_reduced[:, 0], X_reduced[:, 1], c=y_train_t, s=10, cmap='coolwarm')"
   ]
  },
  {
   "cell_type": "code",
   "execution_count": 176,
   "id": "d601e95d",
   "metadata": {},
   "outputs": [
    {
     "data": {
      "text/plain": [
       "<matplotlib.collections.PathCollection at 0x7f52a69684f0>"
      ]
     },
     "execution_count": 176,
     "metadata": {},
     "output_type": "execute_result"
    },
    {
     "data": {
      "image/png": "[encoded data removed]",
      "text/plain": [
       "<Figure size 640x480 with 1 Axes>"
      ]
     },
     "metadata": {},
     "output_type": "display_data"
    }
   ],
   "source": [
    "plt.scatter(X_reduced_test[:, 0], X_reduced_test[:, 1], c=y_test_t, s=10, cmap='bwr')"
   ]
  },
  {
   "cell_type": "code",
   "execution_count": null,
   "id": "c71e55cc",
   "metadata": {},
   "outputs": [],
   "source": []
  }
 ],
 "metadata": {
  "kernelspec": {
   "display_name": "Python 3 (ipykernel)",
   "language": "python",
   "name": "python3"
  },
  "language_info": {
   "codemirror_mode": {
    "name": "ipython",
    "version": 3
   },
   "file_extension": ".py",
   "mimetype": "text/x-python",
   "name": "python",
   "nbconvert_exporter": "python",
   "pygments_lexer": "ipython3",
   "version": "3.9.13"
  }
 },
 "nbformat": 4,
 "nbformat_minor": 5
}
