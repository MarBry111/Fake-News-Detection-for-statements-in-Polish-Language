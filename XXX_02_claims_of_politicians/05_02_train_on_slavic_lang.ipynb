{
 "cells": [
  {
   "cell_type": "code",
   "execution_count": 28,
   "id": "60e0531d",
   "metadata": {},
   "outputs": [
    {
     "name": "stdout",
     "output_type": "stream",
     "text": [
      "INFO: Pandarallel will run on 7 workers.\n",
      "INFO: Pandarallel will use Memory file system to transfer data between the main process and workers.\n"
     ]
    }
   ],
   "source": [
    "from polyglot.text import Text\n",
    "\n",
    "import pandas as pd\n",
    "import numpy as np\n",
    "\n",
    "from tqdm import tqdm\n",
    "tqdm.pandas()\n",
    "from pandarallel import pandarallel\n",
    "pandarallel.initialize(nb_workers=7,progress_bar=True)\n",
    "\n",
    "from parallelbar import progress_map\n",
    "\n",
    "from utils import *\n",
    "\n",
    "from nltk import ngrams\n",
    "import nltk\n",
    "\n",
    "import scipy\n",
    "from sklearn.model_selection import cross_validate\n",
    "\n",
    "from sklearn.linear_model import LogisticRegression\n",
    "from sklearn.ensemble import GradientBoostingClassifier, RandomForestClassifier, VotingClassifier\n",
    "import xgboost as xgb\n",
    "\n",
    "from sklearn.metrics import (\n",
    "    accuracy_score, \n",
    "    f1_score, \n",
    "    recall_score,\n",
    "    precision_score,\n",
    "    roc_auc_score, confusion_matrix, roc_curve, classification_report\n",
    ")\n",
    "\n",
    "from sentence_transformers import SentenceTransformer\n",
    "# https://huggingface.co/sentence-transformers/LaBSE\n",
    "\n",
    "from sklearn.decomposition import PCA\n",
    "\n",
    "from sklearn import clone\n",
    "\n",
    "from sklearn.pipeline import make_pipeline\n",
    "from sklearn.preprocessing import StandardScaler\n",
    "from sklearn.svm import SVC\n",
    "\n",
    "from sklearn.naive_bayes import GaussianNB\n",
    "from sklearn.neighbors import KNeighborsClassifier\n",
    "\n",
    "import random"
   ]
  },
  {
   "cell_type": "markdown",
   "id": "d9be5ecf",
   "metadata": {},
   "source": [
    "### Read training data"
   ]
  },
  {
   "cell_type": "code",
   "execution_count": 38,
   "id": "3315e5be",
   "metadata": {},
   "outputs": [],
   "source": [
    "X_emb = pd.read_hdf(r'../datasets/ready2use/pos_en_cz_embeddings.h5', key='stage', mode='r').iloc[19151:,:]"
   ]
  },
  {
   "cell_type": "code",
   "execution_count": 40,
   "id": "ebe046b5",
   "metadata": {},
   "outputs": [],
   "source": [
    "X_pos = pd.read_hdf('../datasets/ready2use/pos_en_cz_train.h5', key='stage', mode='r').iloc[19151:,:].reset_index(drop=True)\n",
    "# header = pd.read_csv('../datasets/ready2use/pos_en_cz_train_header.csv', header=None, sep=';').values\n",
    "# X_pos = pd.read_csv('../datasets/ready2use/pos_en_cz_train_data.csv', header=None, sep=';')\n",
    "# X_pos.columns = header\n",
    "y_train = X_pos['assestment']\n",
    "X_pos = X_pos.drop('assestment', axis=1)\n",
    "\n",
    "X_emb.index = X_pos.index"
   ]
  },
  {
   "cell_type": "code",
   "execution_count": 41,
   "id": "853964b7",
   "metadata": {},
   "outputs": [
    {
     "name": "stderr",
     "output_type": "stream",
     "text": [
      "100%|█████████████████████████████████████| 9219/9219 [00:01<00:00, 6481.96it/s]\n"
     ]
    },
    {
     "data": {
      "text/plain": [
       "108"
      ]
     },
     "execution_count": 41,
     "metadata": {},
     "output_type": "execute_result"
    }
   ],
   "source": [
    "col_keep = []\n",
    "for c in tqdm(X_pos.columns, position=0, leave=True):\n",
    "    min_v = X_pos[c].values.min()\n",
    "    max_v = X_pos[c].values.max()\n",
    "\n",
    "    if min_v < max_v:\n",
    "        r = scipy.stats.pearsonr(X_pos[c].values, y_train)[0]\n",
    "        if ~np.isnan(r) and np.abs(r) > 0.03:\n",
    "            col_keep.append(c)\n",
    "            \n",
    "len(col_keep)"
   ]
  },
  {
   "cell_type": "code",
   "execution_count": 42,
   "id": "eb8f6614",
   "metadata": {},
   "outputs": [
    {
     "data": {
      "text/plain": [
       "1    15974\n",
       "0     3340\n",
       "Name: assestment, dtype: int64"
      ]
     },
     "execution_count": 42,
     "metadata": {},
     "output_type": "execute_result"
    }
   ],
   "source": [
    "y_train.value_counts()"
   ]
  },
  {
   "cell_type": "markdown",
   "id": "3ff3be07",
   "metadata": {},
   "source": [
    "### Load test data"
   ]
  },
  {
   "cell_type": "code",
   "execution_count": 43,
   "id": "294a6372",
   "metadata": {},
   "outputs": [],
   "source": [
    "X_emb_test = pd.read_csv('../datasets/ready2use/embeddings_pl_dataset.csv', sep=';', \n",
    "                         low_memory=False, header=None)\n",
    "\n",
    "X_test = pd.read_csv('../datasets/ready2use/pos_pl_dataset.csv', sep=';')\n",
    "y_test = X_test['assestment']\n",
    "X_test = X_test.drop('assestment', axis=1)\n",
    "\n",
    "X_emb_test.index = X_test.index"
   ]
  },
  {
   "cell_type": "markdown",
   "id": "1f0d5fe4",
   "metadata": {},
   "source": [
    "### Keep cols"
   ]
  },
  {
   "cell_type": "code",
   "execution_count": 44,
   "id": "2f850253",
   "metadata": {},
   "outputs": [
    {
     "data": {
      "text/plain": [
       "(33,)"
      ]
     },
     "execution_count": 44,
     "metadata": {},
     "output_type": "execute_result"
    }
   ],
   "source": [
    "col_keep_test = np.array(col_keep)[np.isin(col_keep, X_test.columns.values)]\n",
    "col_keep_test.shape"
   ]
  },
  {
   "cell_type": "markdown",
   "id": "3a602296",
   "metadata": {},
   "source": [
    "## Oversampling"
   ]
  },
  {
   "cell_type": "code",
   "execution_count": 46,
   "id": "7cb4cd1b",
   "metadata": {},
   "outputs": [],
   "source": [
    "n_0 = y_train.value_counts()[0]\n",
    "n_1 = y_train.value_counts()[1]\n",
    "\n",
    "n_lower = y_train.value_counts().min()\n",
    "n_upper = y_train.value_counts().max()\n",
    "\n",
    "np.random.seed(111)\n",
    "\n",
    "# oversampling\n",
    "if n_0 < n_1:\n",
    "    index_0 = np.random.choice(y_train[y_train==0].index, n_1, replace=True)\n",
    "    index_1 = np.random.choice(y_train[y_train==1].index, n_1, replace=False)\n",
    "else:\n",
    "    index_0 = np.random.choice(y_train[y_train==0].index, n_0, replace=False)\n",
    "    index_1 = np.random.choice(y_train[y_train==1].index, n_0, replace=True)\n",
    "\n",
    "# undersampling\n",
    "# index_0 = np.random.choice(y_train[y_train==0].index, n_lower, replace=False)\n",
    "# index_1 = np.random.choice(y_train[y_train==1].index, n_lower, replace=False)\n",
    "\n",
    "y_train_u = y_train.iloc[ index_0.tolist()+index_1.tolist() ].sort_index()\n",
    "\n",
    "X_pos_u = X_pos.iloc[ index_0.tolist()+index_1.tolist() ].sort_index()"
   ]
  },
  {
   "cell_type": "code",
   "execution_count": 49,
   "id": "ca21afa9",
   "metadata": {},
   "outputs": [
    {
     "name": "stderr",
     "output_type": "stream",
     "text": [
      "100%|█████████████████████████████████████| 9219/9219 [00:01<00:00, 5589.85it/s]\n"
     ]
    },
    {
     "name": "stdout",
     "output_type": "stream",
     "text": [
      "Train 207\n",
      "Test (84,)\n"
     ]
    }
   ],
   "source": [
    "# select columns from the undersamplet daatset\n",
    "col_keep_u = []\n",
    "for c in tqdm(X_pos_u.columns, position=0, leave=True):\n",
    "    min_v = X_pos_u[c].values.min()\n",
    "    max_v = X_pos_u[c].values.max()\n",
    "\n",
    "    if min_v < max_v:\n",
    "        r = scipy.stats.pearsonr(X_pos_u[c].values, y_train_u)[0]\n",
    "        if ~np.isnan(r) and np.abs(r) > 0.03:\n",
    "            col_keep_u.append(c)\n",
    "            \n",
    "print('Train', len(col_keep_u))\n",
    "\n",
    "col_keep_test_u = np.array(col_keep_u)[np.isin(col_keep_u, X_test.columns.values)]\n",
    "print('Test', col_keep_test_u.shape)"
   ]
  },
  {
   "cell_type": "code",
   "execution_count": 50,
   "id": "4707dd51",
   "metadata": {},
   "outputs": [],
   "source": [
    "X_emb_u = X_emb.iloc[ index_0.tolist()+index_1.tolist() ].sort_index()"
   ]
  },
  {
   "cell_type": "code",
   "execution_count": 51,
   "id": "4094d6b2",
   "metadata": {},
   "outputs": [
    {
     "data": {
      "text/plain": [
       "0.4529606"
      ]
     },
     "execution_count": 51,
     "metadata": {},
     "output_type": "execute_result"
    }
   ],
   "source": [
    "pca = PCA(n_components=100)\n",
    "pca.fit(X_emb_u)\n",
    "\n",
    "X_emb_pca = pca.transform(X_emb_u)\n",
    "X_emb_test_pca = pca.transform(X_emb_test)\n",
    "\n",
    "np.cumsum( pca.explained_variance_ )[-1]"
   ]
  },
  {
   "cell_type": "code",
   "execution_count": 54,
   "id": "750899f3",
   "metadata": {},
   "outputs": [
    {
     "data": {
      "text/plain": [
       "1    15974\n",
       "0    15974\n",
       "Name: assestment, dtype: int64"
      ]
     },
     "execution_count": 54,
     "metadata": {},
     "output_type": "execute_result"
    }
   ],
   "source": [
    "y_train_u.value_counts()"
   ]
  },
  {
   "cell_type": "markdown",
   "id": "b82f33b1",
   "metadata": {},
   "source": [
    "## Cross validation of models"
   ]
  },
  {
   "cell_type": "code",
   "execution_count": 55,
   "id": "a3c38dce",
   "metadata": {},
   "outputs": [],
   "source": [
    "random.seed(111)"
   ]
  },
  {
   "cell_type": "code",
   "execution_count": 56,
   "id": "447d08de",
   "metadata": {},
   "outputs": [
    {
     "data": {
      "text/plain": [
       "178"
      ]
     },
     "execution_count": 56,
     "metadata": {},
     "output_type": "execute_result"
    }
   ],
   "source": [
    "k = int( np.sqrt(y_train_u.shape[0]) )\n",
    "k"
   ]
  },
  {
   "cell_type": "code",
   "execution_count": 58,
   "id": "70aa07b2",
   "metadata": {},
   "outputs": [
    {
     "name": "stdout",
     "output_type": "stream",
     "text": [
      "log_regC1 Accuracy 0.572+-0.003 F1 Score 0.599+-0.008           0.572+-0.003 | 0.599+-0.008\n",
      "gauss_nb  Accuracy 0.538+-0.005 F1 Score 0.220+-0.004           0.538+-0.005 | 0.220+-0.004\n",
      "knn_178   Accuracy 0.562+-0.008 F1 Score 0.598+-0.005           0.562+-0.008 | 0.598+-0.005\n",
      "rand_frst Accuracy 0.579+-0.004 F1 Score 0.619+-0.009           0.579+-0.004 | 0.619+-0.009\n",
      "svm_gamma Accuracy 0.687+-0.011 F1 Score 0.709+-0.006           0.687+-0.011 | 0.709+-0.006\n",
      "xgboost   Accuracy 0.821+-0.011 F1 Score 0.826+-0.009           0.821+-0.011 | 0.826+-0.009\n"
     ]
    }
   ],
   "source": [
    "import warnings\n",
    "warnings.filterwarnings(\"ignore\")\n",
    "\n",
    "scoring = ['accuracy', \n",
    "           'precision', 'recall', \n",
    "           'f1']\n",
    "\n",
    "clf_lr = LogisticRegression(max_iter=5000, C=1, penalty='l2', solver='liblinear')\n",
    "clf_gnb = GaussianNB()\n",
    "clf_knn = KNeighborsClassifier(n_neighbors=k)\n",
    "clf_rf = RandomForestClassifier(n_estimators=100, max_depth=3, random_state=111)\n",
    "clf_svm = make_pipeline(StandardScaler(), SVC(gamma='auto'))\n",
    "clf_xgb = xgb.XGBClassifier(objective='binary:logistic', verbosity=0, silent=True, n_jobs=-1)\n",
    "\n",
    "for c, n in zip(\n",
    "    [clf_lr, \n",
    "     clf_gnb, \n",
    "     clf_knn,\n",
    "     clf_rf, \n",
    "     clf_svm,\n",
    "     clf_xgb, \n",
    "    ], \n",
    "    ['log_regC1', \n",
    "     'gauss_nb ', \n",
    "     f'knn_{k}  ', \n",
    "     'rand_frst',\n",
    "     'svm_gamma', \n",
    "     'xgboost  ', \n",
    "    ]\n",
    "):\n",
    "    results = cross_validate(estimator=c,\n",
    "                           X=X_pos_u[col_keep_test_u],\n",
    "                           y=y_train_u,\n",
    "                           cv=5,\n",
    "                           scoring=scoring,\n",
    "                           return_train_score=True)\n",
    "    print(\n",
    "        n,\n",
    "        f'Accuracy {results[\"test_accuracy\"].mean():.3f}+-{results[\"test_accuracy\"].std():.3f}',\n",
    "#         f'Precision {results[\"test_precision\"].mean():.3f}',\n",
    "#         f'Recall {results[\"test_recall\"].mean():.3f}',\n",
    "        f'F1 Score {results[\"test_f1\"].mean():.3f}+-{results[\"test_f1\"].std():.3f}',\n",
    "        f'          {results[\"test_accuracy\"].mean():.3f}+-{results[\"test_accuracy\"].std():.3f} |',\n",
    "        f'{results[\"test_f1\"].mean():.3f}+-{results[\"test_f1\"].std():.3f}'\n",
    "    )"
   ]
  },
  {
   "cell_type": "code",
   "execution_count": 60,
   "id": "20fed1d6",
   "metadata": {},
   "outputs": [
    {
     "name": "stdout",
     "output_type": "stream",
     "text": [
      "log_regC1 Accuracy 0.615+-0.005 F1 Score 0.614+-0.010           0.615+-0.005 | 0.614+-0.010\n",
      "gauss_nb  Accuracy 0.610+-0.011 F1 Score 0.615+-0.010           0.610+-0.011 | 0.615+-0.010\n",
      "knn_178   Accuracy 0.622+-0.004 F1 Score 0.628+-0.009           0.622+-0.004 | 0.628+-0.009\n",
      "rand_frst Accuracy 0.631+-0.006 F1 Score 0.642+-0.017           0.631+-0.006 | 0.642+-0.017\n",
      "svm_gamma Accuracy 0.966+-0.002 F1 Score 0.967+-0.001           0.966+-0.002 | 0.967+-0.001\n",
      "xgboost   Accuracy 0.987+-0.001 F1 Score 0.987+-0.001           0.987+-0.001 | 0.987+-0.001\n"
     ]
    }
   ],
   "source": [
    "for c, n in zip(\n",
    "    [clf_lr, \n",
    "     clf_gnb, \n",
    "     clf_knn,\n",
    "     clf_rf, \n",
    "     clf_svm,\n",
    "     clf_xgb, \n",
    "    ], \n",
    "    ['log_regC1', \n",
    "     'gauss_nb ', \n",
    "     f'knn_{k}  ', \n",
    "     'rand_frst',\n",
    "     'svm_gamma', \n",
    "     'xgboost  ', \n",
    "    ]\n",
    "):\n",
    "    results = cross_validate(estimator=c,\n",
    "                           X=X_emb_pca,\n",
    "                           y=y_train_u,\n",
    "                           cv=5,\n",
    "                           scoring=scoring,\n",
    "                           return_train_score=True)\n",
    "    print(\n",
    "        n,\n",
    "        f'Accuracy {results[\"test_accuracy\"].mean():.3f}+-{results[\"test_accuracy\"].std():.3f}',\n",
    "#         f'Precision {results[\"test_precision\"].mean():.3f}',\n",
    "#         f'Recall {results[\"test_recall\"].mean():.3f}',\n",
    "        f'F1 Score {results[\"test_f1\"].mean():.3f}+-{results[\"test_f1\"].std():.3f}',\n",
    "        f'          {results[\"test_accuracy\"].mean():.3f}+-{results[\"test_accuracy\"].std():.3f} |',\n",
    "        f'{results[\"test_f1\"].mean():.3f}+-{results[\"test_f1\"].std():.3f}'\n",
    "    )"
   ]
  },
  {
   "cell_type": "code",
   "execution_count": 61,
   "id": "abf8b5fb",
   "metadata": {},
   "outputs": [
    {
     "name": "stdout",
     "output_type": "stream",
     "text": [
      "voting Accuracy 0.663+-0.009 F1 Score 0.647+-0.010           0.663+-0.009 | 0.647+-0.010\n"
     ]
    }
   ],
   "source": [
    "clf_v = VotingClassifier(estimators=[\n",
    "    ('lr', clf_lr), \n",
    "    ('gnb', clf_gnb), \n",
    "    ('knn', clf_knn), \n",
    "    ('rf', clf_rf),\n",
    "    ('svm', clf_svm),\n",
    "    ('xgb', clf_xgb)\n",
    "], voting='hard')\n",
    "\n",
    "results = cross_validate(estimator=clf_v,\n",
    "                       X=X_pos_u[col_keep_test_u],\n",
    "                       y=y_train_u,\n",
    "                       cv=5,\n",
    "                       scoring=scoring,\n",
    "                       return_train_score=True)\n",
    "print(\n",
    "    'voting',\n",
    "    f'Accuracy {results[\"test_accuracy\"].mean():.3f}+-{results[\"test_accuracy\"].std():.3f}',\n",
    "    f'F1 Score {results[\"test_f1\"].mean():.3f}+-{results[\"test_f1\"].std():.3f}',\n",
    "    f'          {results[\"test_accuracy\"].mean():.3f}+-{results[\"test_accuracy\"].std():.3f} |',\n",
    "    f'{results[\"test_f1\"].mean():.3f}+-{results[\"test_f1\"].std():.3f}'\n",
    ")"
   ]
  },
  {
   "cell_type": "code",
   "execution_count": 62,
   "id": "98985aa9",
   "metadata": {},
   "outputs": [
    {
     "name": "stdout",
     "output_type": "stream",
     "text": [
      "voting Accuracy 0.753+-0.006 F1 Score 0.742+-0.010           0.753+-0.006 | 0.742+-0.010\n"
     ]
    }
   ],
   "source": [
    "results = cross_validate(estimator=clf_v,\n",
    "                       X=X_emb_pca,\n",
    "                       y=y_train_u,\n",
    "                       cv=5,\n",
    "                       scoring=scoring,\n",
    "                       return_train_score=True)\n",
    "\n",
    "print(\n",
    "    'voting',\n",
    "    f'Accuracy {results[\"test_accuracy\"].mean():.3f}+-{results[\"test_accuracy\"].std():.3f}',\n",
    "    f'F1 Score {results[\"test_f1\"].mean():.3f}+-{results[\"test_f1\"].std():.3f}',\n",
    "    f'          {results[\"test_accuracy\"].mean():.3f}+-{results[\"test_accuracy\"].std():.3f} |',\n",
    "    f'{results[\"test_f1\"].mean():.3f}+-{results[\"test_f1\"].std():.3f}'\n",
    ")"
   ]
  },
  {
   "cell_type": "markdown",
   "id": "7b062f86",
   "metadata": {},
   "source": [
    "## Test on PL data"
   ]
  },
  {
   "cell_type": "markdown",
   "id": "4995c862",
   "metadata": {},
   "source": [
    "## Voting"
   ]
  },
  {
   "cell_type": "code",
   "execution_count": 63,
   "id": "d56f2226",
   "metadata": {},
   "outputs": [],
   "source": [
    "clf_out = clone(clf_xgb)\n",
    "clf_emb = clone(clf_xgb)"
   ]
  },
  {
   "cell_type": "markdown",
   "id": "6bc0004e",
   "metadata": {},
   "source": [
    "### train -> test"
   ]
  },
  {
   "cell_type": "code",
   "execution_count": 64,
   "id": "7bba0302",
   "metadata": {},
   "outputs": [
    {
     "data": {
      "text/html": [
       "<style>#sk-container-id-1 {color: black;background-color: white;}#sk-container-id-1 pre{padding: 0;}#sk-container-id-1 div.sk-toggleable {background-color: white;}#sk-container-id-1 label.sk-toggleable__label {cursor: pointer;display: block;width: 100%;margin-bottom: 0;padding: 0.3em;box-sizing: border-box;text-align: center;}#sk-container-id-1 label.sk-toggleable__label-arrow:before {content: \"▸\";float: left;margin-right: 0.25em;color: #696969;}#sk-container-id-1 label.sk-toggleable__label-arrow:hover:before {color: black;}#sk-container-id-1 div.sk-estimator:hover label.sk-toggleable__label-arrow:before {color: black;}#sk-container-id-1 div.sk-toggleable__content {max-height: 0;max-width: 0;overflow: hidden;text-align: left;background-color: #f0f8ff;}#sk-container-id-1 div.sk-toggleable__content pre {margin: 0.2em;color: black;border-radius: 0.25em;background-color: #f0f8ff;}#sk-container-id-1 input.sk-toggleable__control:checked~div.sk-toggleable__content {max-height: 200px;max-width: 100%;overflow: auto;}#sk-container-id-1 input.sk-toggleable__control:checked~label.sk-toggleable__label-arrow:before {content: \"▾\";}#sk-container-id-1 div.sk-estimator input.sk-toggleable__control:checked~label.sk-toggleable__label {background-color: #d4ebff;}#sk-container-id-1 div.sk-label input.sk-toggleable__control:checked~label.sk-toggleable__label {background-color: #d4ebff;}#sk-container-id-1 input.sk-hidden--visually {border: 0;clip: rect(1px 1px 1px 1px);clip: rect(1px, 1px, 1px, 1px);height: 1px;margin: -1px;overflow: hidden;padding: 0;position: absolute;width: 1px;}#sk-container-id-1 div.sk-estimator {font-family: monospace;background-color: #f0f8ff;border: 1px dotted black;border-radius: 0.25em;box-sizing: border-box;margin-bottom: 0.5em;}#sk-container-id-1 div.sk-estimator:hover {background-color: #d4ebff;}#sk-container-id-1 div.sk-parallel-item::after {content: \"\";width: 100%;border-bottom: 1px solid gray;flex-grow: 1;}#sk-container-id-1 div.sk-label:hover label.sk-toggleable__label {background-color: #d4ebff;}#sk-container-id-1 div.sk-serial::before {content: \"\";position: absolute;border-left: 1px solid gray;box-sizing: border-box;top: 0;bottom: 0;left: 50%;z-index: 0;}#sk-container-id-1 div.sk-serial {display: flex;flex-direction: column;align-items: center;background-color: white;padding-right: 0.2em;padding-left: 0.2em;position: relative;}#sk-container-id-1 div.sk-item {position: relative;z-index: 1;}#sk-container-id-1 div.sk-parallel {display: flex;align-items: stretch;justify-content: center;background-color: white;position: relative;}#sk-container-id-1 div.sk-item::before, #sk-container-id-1 div.sk-parallel-item::before {content: \"\";position: absolute;border-left: 1px solid gray;box-sizing: border-box;top: 0;bottom: 0;left: 50%;z-index: -1;}#sk-container-id-1 div.sk-parallel-item {display: flex;flex-direction: column;z-index: 1;position: relative;background-color: white;}#sk-container-id-1 div.sk-parallel-item:first-child::after {align-self: flex-end;width: 50%;}#sk-container-id-1 div.sk-parallel-item:last-child::after {align-self: flex-start;width: 50%;}#sk-container-id-1 div.sk-parallel-item:only-child::after {width: 0;}#sk-container-id-1 div.sk-dashed-wrapped {border: 1px dashed gray;margin: 0 0.4em 0.5em 0.4em;box-sizing: border-box;padding-bottom: 0.4em;background-color: white;}#sk-container-id-1 div.sk-label label {font-family: monospace;font-weight: bold;display: inline-block;line-height: 1.2em;}#sk-container-id-1 div.sk-label-container {text-align: center;}#sk-container-id-1 div.sk-container {/* jupyter's `normalize.less` sets `[hidden] { display: none; }` but bootstrap.min.css set `[hidden] { display: none !important; }` so we also need the `!important` here to be able to override the default hidden behavior on the sphinx rendered scikit-learn.org. See: https://github.com/scikit-learn/scikit-learn/issues/21755 */display: inline-block !important;position: relative;}#sk-container-id-1 div.sk-text-repr-fallback {display: none;}</style><div id=\"sk-container-id-1\" class=\"sk-top-container\"><div class=\"sk-text-repr-fallback\"><pre>XGBClassifier(base_score=0.5, booster=&#x27;gbtree&#x27;, colsample_bylevel=1,\n",
       "              colsample_bynode=1, colsample_bytree=1, enable_categorical=False,\n",
       "              gamma=0, gpu_id=-1, importance_type=None,\n",
       "              interaction_constraints=&#x27;&#x27;, learning_rate=0.300000012,\n",
       "              max_delta_step=0, max_depth=6, min_child_weight=1, missing=nan,\n",
       "              monotone_constraints=&#x27;()&#x27;, n_estimators=100, n_jobs=-1,\n",
       "              num_parallel_tree=1, predictor=&#x27;auto&#x27;, random_state=0,\n",
       "              reg_alpha=0, reg_lambda=1, scale_pos_weight=1, silent=True,\n",
       "              subsample=1, tree_method=&#x27;exact&#x27;, validate_parameters=1,\n",
       "              verbosity=0)</pre><b>In a Jupyter environment, please rerun this cell to show the HTML representation or trust the notebook. <br />On GitHub, the HTML representation is unable to render, please try loading this page with nbviewer.org.</b></div><div class=\"sk-container\" hidden><div class=\"sk-item\"><div class=\"sk-estimator sk-toggleable\"><input class=\"sk-toggleable__control sk-hidden--visually\" id=\"sk-estimator-id-1\" type=\"checkbox\" checked><label for=\"sk-estimator-id-1\" class=\"sk-toggleable__label sk-toggleable__label-arrow\">XGBClassifier</label><div class=\"sk-toggleable__content\"><pre>XGBClassifier(base_score=0.5, booster=&#x27;gbtree&#x27;, colsample_bylevel=1,\n",
       "              colsample_bynode=1, colsample_bytree=1, enable_categorical=False,\n",
       "              gamma=0, gpu_id=-1, importance_type=None,\n",
       "              interaction_constraints=&#x27;&#x27;, learning_rate=0.300000012,\n",
       "              max_delta_step=0, max_depth=6, min_child_weight=1, missing=nan,\n",
       "              monotone_constraints=&#x27;()&#x27;, n_estimators=100, n_jobs=-1,\n",
       "              num_parallel_tree=1, predictor=&#x27;auto&#x27;, random_state=0,\n",
       "              reg_alpha=0, reg_lambda=1, scale_pos_weight=1, silent=True,\n",
       "              subsample=1, tree_method=&#x27;exact&#x27;, validate_parameters=1,\n",
       "              verbosity=0)</pre></div></div></div></div></div>"
      ],
      "text/plain": [
       "XGBClassifier(base_score=0.5, booster='gbtree', colsample_bylevel=1,\n",
       "              colsample_bynode=1, colsample_bytree=1, enable_categorical=False,\n",
       "              gamma=0, gpu_id=-1, importance_type=None,\n",
       "              interaction_constraints='', learning_rate=0.300000012,\n",
       "              max_delta_step=0, max_depth=6, min_child_weight=1, missing=nan,\n",
       "              monotone_constraints='()', n_estimators=100, n_jobs=-1,\n",
       "              num_parallel_tree=1, predictor='auto', random_state=0,\n",
       "              reg_alpha=0, reg_lambda=1, scale_pos_weight=1, silent=True,\n",
       "              subsample=1, tree_method='exact', validate_parameters=1,\n",
       "              verbosity=0)"
      ]
     },
     "execution_count": 64,
     "metadata": {},
     "output_type": "execute_result"
    }
   ],
   "source": [
    "clf_out.fit(X_pos_u[col_keep_test_u], y_train_u)"
   ]
  },
  {
   "cell_type": "code",
   "execution_count": 65,
   "id": "f6f57f22",
   "metadata": {},
   "outputs": [
    {
     "data": {
      "text/html": [
       "<style>#sk-container-id-2 {color: black;background-color: white;}#sk-container-id-2 pre{padding: 0;}#sk-container-id-2 div.sk-toggleable {background-color: white;}#sk-container-id-2 label.sk-toggleable__label {cursor: pointer;display: block;width: 100%;margin-bottom: 0;padding: 0.3em;box-sizing: border-box;text-align: center;}#sk-container-id-2 label.sk-toggleable__label-arrow:before {content: \"▸\";float: left;margin-right: 0.25em;color: #696969;}#sk-container-id-2 label.sk-toggleable__label-arrow:hover:before {color: black;}#sk-container-id-2 div.sk-estimator:hover label.sk-toggleable__label-arrow:before {color: black;}#sk-container-id-2 div.sk-toggleable__content {max-height: 0;max-width: 0;overflow: hidden;text-align: left;background-color: #f0f8ff;}#sk-container-id-2 div.sk-toggleable__content pre {margin: 0.2em;color: black;border-radius: 0.25em;background-color: #f0f8ff;}#sk-container-id-2 input.sk-toggleable__control:checked~div.sk-toggleable__content {max-height: 200px;max-width: 100%;overflow: auto;}#sk-container-id-2 input.sk-toggleable__control:checked~label.sk-toggleable__label-arrow:before {content: \"▾\";}#sk-container-id-2 div.sk-estimator input.sk-toggleable__control:checked~label.sk-toggleable__label {background-color: #d4ebff;}#sk-container-id-2 div.sk-label input.sk-toggleable__control:checked~label.sk-toggleable__label {background-color: #d4ebff;}#sk-container-id-2 input.sk-hidden--visually {border: 0;clip: rect(1px 1px 1px 1px);clip: rect(1px, 1px, 1px, 1px);height: 1px;margin: -1px;overflow: hidden;padding: 0;position: absolute;width: 1px;}#sk-container-id-2 div.sk-estimator {font-family: monospace;background-color: #f0f8ff;border: 1px dotted black;border-radius: 0.25em;box-sizing: border-box;margin-bottom: 0.5em;}#sk-container-id-2 div.sk-estimator:hover {background-color: #d4ebff;}#sk-container-id-2 div.sk-parallel-item::after {content: \"\";width: 100%;border-bottom: 1px solid gray;flex-grow: 1;}#sk-container-id-2 div.sk-label:hover label.sk-toggleable__label {background-color: #d4ebff;}#sk-container-id-2 div.sk-serial::before {content: \"\";position: absolute;border-left: 1px solid gray;box-sizing: border-box;top: 0;bottom: 0;left: 50%;z-index: 0;}#sk-container-id-2 div.sk-serial {display: flex;flex-direction: column;align-items: center;background-color: white;padding-right: 0.2em;padding-left: 0.2em;position: relative;}#sk-container-id-2 div.sk-item {position: relative;z-index: 1;}#sk-container-id-2 div.sk-parallel {display: flex;align-items: stretch;justify-content: center;background-color: white;position: relative;}#sk-container-id-2 div.sk-item::before, #sk-container-id-2 div.sk-parallel-item::before {content: \"\";position: absolute;border-left: 1px solid gray;box-sizing: border-box;top: 0;bottom: 0;left: 50%;z-index: -1;}#sk-container-id-2 div.sk-parallel-item {display: flex;flex-direction: column;z-index: 1;position: relative;background-color: white;}#sk-container-id-2 div.sk-parallel-item:first-child::after {align-self: flex-end;width: 50%;}#sk-container-id-2 div.sk-parallel-item:last-child::after {align-self: flex-start;width: 50%;}#sk-container-id-2 div.sk-parallel-item:only-child::after {width: 0;}#sk-container-id-2 div.sk-dashed-wrapped {border: 1px dashed gray;margin: 0 0.4em 0.5em 0.4em;box-sizing: border-box;padding-bottom: 0.4em;background-color: white;}#sk-container-id-2 div.sk-label label {font-family: monospace;font-weight: bold;display: inline-block;line-height: 1.2em;}#sk-container-id-2 div.sk-label-container {text-align: center;}#sk-container-id-2 div.sk-container {/* jupyter's `normalize.less` sets `[hidden] { display: none; }` but bootstrap.min.css set `[hidden] { display: none !important; }` so we also need the `!important` here to be able to override the default hidden behavior on the sphinx rendered scikit-learn.org. See: https://github.com/scikit-learn/scikit-learn/issues/21755 */display: inline-block !important;position: relative;}#sk-container-id-2 div.sk-text-repr-fallback {display: none;}</style><div id=\"sk-container-id-2\" class=\"sk-top-container\"><div class=\"sk-text-repr-fallback\"><pre>XGBClassifier(base_score=0.5, booster=&#x27;gbtree&#x27;, colsample_bylevel=1,\n",
       "              colsample_bynode=1, colsample_bytree=1, enable_categorical=False,\n",
       "              gamma=0, gpu_id=-1, importance_type=None,\n",
       "              interaction_constraints=&#x27;&#x27;, learning_rate=0.300000012,\n",
       "              max_delta_step=0, max_depth=6, min_child_weight=1, missing=nan,\n",
       "              monotone_constraints=&#x27;()&#x27;, n_estimators=100, n_jobs=-1,\n",
       "              num_parallel_tree=1, predictor=&#x27;auto&#x27;, random_state=0,\n",
       "              reg_alpha=0, reg_lambda=1, scale_pos_weight=1, silent=True,\n",
       "              subsample=1, tree_method=&#x27;exact&#x27;, validate_parameters=1,\n",
       "              verbosity=0)</pre><b>In a Jupyter environment, please rerun this cell to show the HTML representation or trust the notebook. <br />On GitHub, the HTML representation is unable to render, please try loading this page with nbviewer.org.</b></div><div class=\"sk-container\" hidden><div class=\"sk-item\"><div class=\"sk-estimator sk-toggleable\"><input class=\"sk-toggleable__control sk-hidden--visually\" id=\"sk-estimator-id-2\" type=\"checkbox\" checked><label for=\"sk-estimator-id-2\" class=\"sk-toggleable__label sk-toggleable__label-arrow\">XGBClassifier</label><div class=\"sk-toggleable__content\"><pre>XGBClassifier(base_score=0.5, booster=&#x27;gbtree&#x27;, colsample_bylevel=1,\n",
       "              colsample_bynode=1, colsample_bytree=1, enable_categorical=False,\n",
       "              gamma=0, gpu_id=-1, importance_type=None,\n",
       "              interaction_constraints=&#x27;&#x27;, learning_rate=0.300000012,\n",
       "              max_delta_step=0, max_depth=6, min_child_weight=1, missing=nan,\n",
       "              monotone_constraints=&#x27;()&#x27;, n_estimators=100, n_jobs=-1,\n",
       "              num_parallel_tree=1, predictor=&#x27;auto&#x27;, random_state=0,\n",
       "              reg_alpha=0, reg_lambda=1, scale_pos_weight=1, silent=True,\n",
       "              subsample=1, tree_method=&#x27;exact&#x27;, validate_parameters=1,\n",
       "              verbosity=0)</pre></div></div></div></div></div>"
      ],
      "text/plain": [
       "XGBClassifier(base_score=0.5, booster='gbtree', colsample_bylevel=1,\n",
       "              colsample_bynode=1, colsample_bytree=1, enable_categorical=False,\n",
       "              gamma=0, gpu_id=-1, importance_type=None,\n",
       "              interaction_constraints='', learning_rate=0.300000012,\n",
       "              max_delta_step=0, max_depth=6, min_child_weight=1, missing=nan,\n",
       "              monotone_constraints='()', n_estimators=100, n_jobs=-1,\n",
       "              num_parallel_tree=1, predictor='auto', random_state=0,\n",
       "              reg_alpha=0, reg_lambda=1, scale_pos_weight=1, silent=True,\n",
       "              subsample=1, tree_method='exact', validate_parameters=1,\n",
       "              verbosity=0)"
      ]
     },
     "execution_count": 65,
     "metadata": {},
     "output_type": "execute_result"
    }
   ],
   "source": [
    "clf_emb.fit(X_emb_pca, y_train_u)"
   ]
  },
  {
   "cell_type": "code",
   "execution_count": 66,
   "id": "df1c52a1",
   "metadata": {},
   "outputs": [],
   "source": [
    "y_pred = clf_out.predict(X_test[col_keep_test_u])\n",
    "y_pred_e = clf_emb.predict(X_emb_test_pca)"
   ]
  },
  {
   "cell_type": "code",
   "execution_count": 67,
   "id": "a5968494",
   "metadata": {},
   "outputs": [
    {
     "data": {
      "text/plain": [
       "array([[ 173, 3265],\n",
       "       [ 207, 2896]])"
      ]
     },
     "execution_count": 67,
     "metadata": {},
     "output_type": "execute_result"
    }
   ],
   "source": [
    "confusion_matrix(y_test, y_pred)"
   ]
  },
  {
   "cell_type": "code",
   "execution_count": 68,
   "id": "74f5dce3",
   "metadata": {},
   "outputs": [
    {
     "data": {
      "text/plain": [
       "array([[ 194, 3244],\n",
       "       [ 242, 2861]])"
      ]
     },
     "execution_count": 68,
     "metadata": {},
     "output_type": "execute_result"
    }
   ],
   "source": [
    "confusion_matrix(y_test, y_pred_e)"
   ]
  },
  {
   "cell_type": "code",
   "execution_count": 69,
   "id": "e4288054",
   "metadata": {},
   "outputs": [
    {
     "name": "stdout",
     "output_type": "stream",
     "text": [
      "xgboost   \n",
      "\t Accuracy  0.469\n",
      "\t Precision 0.470\n",
      "\t Recall    0.933\n",
      "\t F1 Score  0.625\n",
      "\t\n"
     ]
    }
   ],
   "source": [
    "print(\n",
    "    n, '\\n\\t',\n",
    "    f'Accuracy  {accuracy_score(y_test, y_pred):.3f}\\n\\t',\n",
    "    f'Precision {precision_score(y_test, y_pred):.3f}\\n\\t',\n",
    "    f'Recall    {recall_score(y_test, y_pred):.3f}\\n\\t',\n",
    "    f'F1 Score  {f1_score(y_test, y_pred):.3f}\\n\\t',\n",
    ")"
   ]
  },
  {
   "cell_type": "code",
   "execution_count": 70,
   "id": "b2c1d7b4",
   "metadata": {},
   "outputs": [
    {
     "name": "stdout",
     "output_type": "stream",
     "text": [
      "xgboost   \n",
      "\t Accuracy  0.467\n",
      "\t Precision 0.469\n",
      "\t Recall    0.922\n",
      "\t F1 Score  0.621\n",
      "\t\n"
     ]
    }
   ],
   "source": [
    "print(\n",
    "    n, '\\n\\t',\n",
    "    f'Accuracy  {accuracy_score(y_test, y_pred_e):.3f}\\n\\t',\n",
    "    f'Precision {precision_score(y_test, y_pred_e):.3f}\\n\\t',\n",
    "    f'Recall    {recall_score(y_test, y_pred_e):.3f}\\n\\t',\n",
    "    f'F1 Score  {f1_score(y_test, y_pred_e):.3f}\\n\\t',\n",
    ")"
   ]
  },
  {
   "cell_type": "code",
   "execution_count": null,
   "id": "0de24a5e",
   "metadata": {},
   "outputs": [],
   "source": []
  }
 ],
 "metadata": {
  "kernelspec": {
   "display_name": "Python 3 (ipykernel)",
   "language": "python",
   "name": "python3"
  },
  "language_info": {
   "codemirror_mode": {
    "name": "ipython",
    "version": 3
   },
   "file_extension": ".py",
   "mimetype": "text/x-python",
   "name": "python",
   "nbconvert_exporter": "python",
   "pygments_lexer": "ipython3",
   "version": "3.9.13"
  }
 },
 "nbformat": 4,
 "nbformat_minor": 5
}
