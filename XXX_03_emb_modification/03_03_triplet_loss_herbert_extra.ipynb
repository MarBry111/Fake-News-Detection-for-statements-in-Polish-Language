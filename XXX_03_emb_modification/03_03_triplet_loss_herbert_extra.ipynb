{
 "cells": [
  {
   "cell_type": "code",
   "execution_count": 1,
   "metadata": {
    "execution": {
     "iopub.execute_input": "2022-11-27T15:08:17.772784Z",
     "iopub.status.busy": "2022-11-27T15:08:17.772405Z",
     "iopub.status.idle": "2022-11-27T15:08:43.369468Z",
     "shell.execute_reply": "2022-11-27T15:08:43.368328Z",
     "shell.execute_reply.started": "2022-11-27T15:08:17.772745Z"
    }
   },
   "outputs": [
    {
     "name": "stderr",
     "output_type": "stream",
     "text": [
      "/home/marek/anaconda3/envs/nlp/lib/python3.9/site-packages/huggingface_hub/snapshot_download.py:6: FutureWarning: snapshot_download.py has been made private and will no longer be available from version 0.11. Please use `from huggingface_hub import snapshot_download` to import the only public function in this module. Other members of the file may be changed without a deprecation notice.\n",
      "  warnings.warn(\n"
     ]
    }
   ],
   "source": [
    "import time\n",
    "import torch\n",
    "import random\n",
    "import numpy as np\n",
    "import pandas as pd\n",
    "import torch.nn as nn\n",
    "import torch.optim as optim\n",
    "from tqdm.notebook import tqdm\n",
    "import matplotlib.pyplot as plt\n",
    "\n",
    "from torch.utils.data import DataLoader, Dataset\n",
    "\n",
    "from sklearn.model_selection import KFold, train_test_split\n",
    "from sklearn.linear_model import LogisticRegression\n",
    "\n",
    "from sklearn.base import clone as sklearn_clone\n",
    "\n",
    "from sklearn.metrics import (\n",
    "    accuracy_score, \n",
    "    f1_score, \n",
    "    recall_score,\n",
    "    precision_score,\n",
    "    roc_auc_score, confusion_matrix, roc_curve, classification_report\n",
    ")\n",
    "\n",
    "from sentence_transformers import SentenceTransformer\n",
    "from transformers import AutoTokenizer, AutoModel, HerbertTokenizer, BatchEncoding\n",
    "\n",
    "import gc\n",
    "from sklearn.neighbors import KNeighborsClassifier\n",
    "\n",
    "import scipy\n",
    "from scipy import spatial\n",
    "\n",
    "from sklearn.preprocessing import StandardScaler\n",
    "import umap.umap_ as umap"
   ]
  },
  {
   "cell_type": "code",
   "execution_count": 2,
   "metadata": {
    "execution": {
     "iopub.execute_input": "2022-11-27T15:08:43.373442Z",
     "iopub.status.busy": "2022-11-27T15:08:43.372540Z",
     "iopub.status.idle": "2022-11-27T15:08:43.390384Z",
     "shell.execute_reply": "2022-11-27T15:08:43.388887Z",
     "shell.execute_reply.started": "2022-11-27T15:08:43.373390Z"
    }
   },
   "outputs": [
    {
     "data": {
      "text/plain": [
       "'cuda'"
      ]
     },
     "execution_count": 2,
     "metadata": {},
     "output_type": "execute_result"
    }
   ],
   "source": [
    "torch.manual_seed(111)\n",
    "np.random.seed(111)\n",
    "random.seed(111)\n",
    "device = torch.device(\"cuda\" if torch.cuda.is_available() else \"cpu\")\n",
    "\n",
    "if device.type == \"cuda\":\n",
    "    torch.cuda.get_device_name()\n",
    "    \n",
    "device.type"
   ]
  },
  {
   "cell_type": "markdown",
   "metadata": {},
   "source": [
    "## Get data"
   ]
  },
  {
   "cell_type": "code",
   "execution_count": 3,
   "metadata": {
    "execution": {
     "iopub.execute_input": "2022-11-27T15:08:43.393489Z",
     "iopub.status.busy": "2022-11-27T15:08:43.392592Z",
     "iopub.status.idle": "2022-11-27T15:08:43.451933Z",
     "shell.execute_reply": "2022-11-27T15:08:43.450432Z",
     "shell.execute_reply.started": "2022-11-27T15:08:43.393432Z"
    }
   },
   "outputs": [],
   "source": [
    "df_topics = pd.read_csv('../datasets/ready2use/topics.csv', index_col=0)"
   ]
  },
  {
   "cell_type": "code",
   "execution_count": 4,
   "metadata": {
    "execution": {
     "iopub.execute_input": "2022-11-27T15:08:43.456831Z",
     "iopub.status.busy": "2022-11-27T15:08:43.456352Z",
     "iopub.status.idle": "2022-11-27T15:08:43.636702Z",
     "shell.execute_reply": "2022-11-27T15:08:43.635861Z",
     "shell.execute_reply.started": "2022-11-27T15:08:43.456788Z"
    }
   },
   "outputs": [],
   "source": [
    "df = pd.read_csv('../datasets/ready2use/fake_news_features_combined.csv', sep=';')\n",
    "\n",
    "df = df[ df['assestment'] != 'brak' ]\n",
    "\n",
    "df.loc[:, 'assestment'] = df['assestment'].replace({\n",
    "    'falsz' : 'Fałsz',\n",
    "    'zbity_zegar' : 'Fałsz',\n",
    "    'raczej_falsz' : 'Fałsz',\n",
    "    'prawda' : 'Prawda',\n",
    "    'blisko_prawdy' : 'Prawda',\n",
    "    'polprawda' : 'Manipulacja',\n",
    "    'Częściowy fałsz' : 'Manipulacja'\n",
    "})\n",
    "\n",
    "df = df[ df['assestment'] != 'Nieweryfikowalne' ]\n",
    "df = df[ df['assestment'] != 'Manipulacja' ]\n",
    "\n",
    "df['assestment'] = df['assestment'].replace({\n",
    "    'Fałsz' : 0,\n",
    "#     'Manipulacja' : 1,\n",
    "    'Prawda' : 1\n",
    "}).astype(int)\n",
    "\n",
    "df = df.copy()[['assestment', 'text_clean']][df.index.isin(df_topics.index)].reset_index(drop=True)"
   ]
  },
  {
   "cell_type": "code",
   "execution_count": 5,
   "metadata": {},
   "outputs": [],
   "source": [
    "with open('../datasets/ready2use/style_emb_pl.npy', 'rb') as f:\n",
    "    emb_style = np.load(f)"
   ]
  },
  {
   "cell_type": "code",
   "execution_count": 6,
   "metadata": {
    "execution": {
     "iopub.execute_input": "2022-11-27T15:08:43.639187Z",
     "iopub.status.busy": "2022-11-27T15:08:43.638194Z",
     "iopub.status.idle": "2022-11-27T15:08:47.592832Z",
     "shell.execute_reply": "2022-11-27T15:08:47.591208Z",
     "shell.execute_reply.started": "2022-11-27T15:08:43.639139Z"
    }
   },
   "outputs": [
    {
     "data": {
      "text/plain": [
       "(6541, 1024)"
      ]
     },
     "execution_count": 6,
     "metadata": {},
     "output_type": "execute_result"
    }
   ],
   "source": [
    "embeddings_table = pd.read_csv('../datasets/ready2use/embeddings_pl_herbert.csv', sep=\",\", header=None).values\n",
    "embeddings_table.shape"
   ]
  },
  {
   "cell_type": "code",
   "execution_count": 7,
   "metadata": {},
   "outputs": [],
   "source": [
    "# embeddings_table = np.concatenate([embeddings_table, emb_style],1)\n",
    "# embeddings_table.shape"
   ]
  },
  {
   "cell_type": "code",
   "execution_count": 8,
   "metadata": {},
   "outputs": [],
   "source": [
    "# X_pos = pd.read_csv('../datasets/ready2use/pos_pl_dataset.csv', sep=';')\n",
    "# del X_pos['assestment']\n",
    "# print( X_pos.shape )\n",
    "\n",
    "# corr_score = []\n",
    "# for c in X_pos.columns:\n",
    "#     min_v = X_pos[c].values[train_index].min()\n",
    "#     max_v = X_pos[c].values[train_index].max()\n",
    "\n",
    "#     if min_v < max_v:\n",
    "#         r = scipy.stats.pearsonr(X_pos[c].values[train_index], y_train)[0]\n",
    "#         if ~np.isnan(r):\n",
    "#             corr_score.append(r)\n",
    "#         else:\n",
    "#             corr_score.append(0)\n",
    "#     else:\n",
    "#         corr_score.append(0)\n",
    "        \n",
    "        \n",
    "# embeddings_table = X_pos.values[ :, np.argsort(corr_score)[-1024:] ]\n",
    "# embeddings_table.shape"
   ]
  },
  {
   "cell_type": "markdown",
   "metadata": {},
   "source": [
    "## Kfold"
   ]
  },
  {
   "cell_type": "code",
   "execution_count": 9,
   "metadata": {
    "execution": {
     "iopub.execute_input": "2022-11-27T15:08:47.594715Z",
     "iopub.status.busy": "2022-11-27T15:08:47.594342Z",
     "iopub.status.idle": "2022-11-27T15:08:47.632847Z",
     "shell.execute_reply": "2022-11-27T15:08:47.631805Z",
     "shell.execute_reply.started": "2022-11-27T15:08:47.594681Z"
    }
   },
   "outputs": [],
   "source": [
    "cv_fold = []\n",
    "cv_fold_i = []\n",
    "\n",
    "for i in df_topics['topic'].unique().reshape(10,-1):\n",
    "    train_cv = df_topics.index[ ~np.isin(df_topics[\"topic\"], [i, np.mod(i+1,10)]) ].values\n",
    "    val_cv = df_topics.index[ np.isin(df_topics[\"topic\"], np.mod(i+1,10)) ].values\n",
    "    test_cv = df_topics.index[ np.isin(df_topics[\"topic\"], i) ].values\n",
    "    \n",
    "    train_cv_i = df_topics.reset_index().index[ ~np.isin(df_topics[\"topic\"], [i, np.mod(i+1,10)]) ].values\n",
    "    val_cv_i = df_topics.reset_index().index[ np.isin(df_topics[\"topic\"], np.mod(i+1,10)) ].values\n",
    "    test_cv_i = df_topics.reset_index().index[ np.isin(df_topics[\"topic\"], i) ].values\n",
    "    \n",
    "    cv_fold.append( [train_cv, val_cv, test_cv])\n",
    "    cv_fold_i.append( [train_cv_i, val_cv_i, test_cv_i])"
   ]
  },
  {
   "cell_type": "code",
   "execution_count": 10,
   "metadata": {
    "execution": {
     "iopub.execute_input": "2022-11-27T15:08:47.635075Z",
     "iopub.status.busy": "2022-11-27T15:08:47.634315Z",
     "iopub.status.idle": "2022-11-27T15:08:47.687480Z",
     "shell.execute_reply": "2022-11-27T15:08:47.686035Z",
     "shell.execute_reply.started": "2022-11-27T15:08:47.635025Z"
    }
   },
   "outputs": [],
   "source": [
    "kf = KFold(n_splits=10, shuffle=True)\n",
    "kf.get_n_splits(df_topics)\n",
    "\n",
    "cv_Kfold = []\n",
    "cv_Kfold_i = []\n",
    "\n",
    "for train_index, test_index in kf.split(df_topics):\n",
    "    train_index, val_index = train_test_split(train_index, test_size=1/9, shuffle=True)\n",
    "    train_cv = df_topics.iloc[ train_index, : ].index.values\n",
    "    val_cv = df_topics.iloc[ val_index, : ].index.values\n",
    "    test_cv = df_topics.iloc[ test_index, : ].index.values\n",
    "\n",
    "    train_cv_i= df_topics.reset_index().iloc[ train_index, : ].index.values\n",
    "    val_cv_i = df_topics.reset_index().iloc[ val_index, : ].index.values\n",
    "    test_cv_i = df_topics.reset_index().iloc[ test_index, : ].index.values\n",
    "    \n",
    "    cv_Kfold.append( [train_cv, val_cv, test_cv])\n",
    "    cv_Kfold_i.append( [train_cv_i, val_cv_i, test_cv_i])"
   ]
  },
  {
   "cell_type": "markdown",
   "metadata": {},
   "source": [
    "## Train"
   ]
  },
  {
   "cell_type": "markdown",
   "metadata": {},
   "source": [
    "## TripletLoss"
   ]
  },
  {
   "cell_type": "code",
   "execution_count": 11,
   "metadata": {
    "execution": {
     "iopub.execute_input": "2022-11-27T15:08:47.690737Z",
     "iopub.status.busy": "2022-11-27T15:08:47.690348Z",
     "iopub.status.idle": "2022-11-27T15:08:47.699188Z",
     "shell.execute_reply": "2022-11-27T15:08:47.697851Z",
     "shell.execute_reply.started": "2022-11-27T15:08:47.690701Z"
    }
   },
   "outputs": [],
   "source": [
    "class TripletLoss(nn.Module):\n",
    "    def __init__(self, margin=1.0):\n",
    "        super(TripletLoss, self).__init__()\n",
    "        self.margin = margin\n",
    "        \n",
    "    def calc_euclidean(self, x1, x2):\n",
    "        return (x1 - x2).pow(2).sum(1)\n",
    "    \n",
    "    def forward(self, anchor: torch.Tensor, positive: torch.Tensor, negative: torch.Tensor) -> torch.Tensor:\n",
    "        distance_positive = self.calc_euclidean(anchor, positive)\n",
    "        distance_negative = self.calc_euclidean(anchor, negative)\n",
    "        losses = torch.relu(distance_positive - distance_negative + self.margin)\n",
    "\n",
    "        return losses.mean()"
   ]
  },
  {
   "cell_type": "code",
   "execution_count": 12,
   "metadata": {},
   "outputs": [],
   "source": [
    "class TripletLossVector():\n",
    "    def __init__(self, margin=1.0):\n",
    "        self.margin = margin\n",
    "        \n",
    "    def calc_euclidean(self, x1, x2):\n",
    "        return (x1 - x2).pow(2).sum(1)\n",
    "    \n",
    "    def get_loss(self, anchor: torch.Tensor, positive: torch.Tensor, negative: torch.Tensor) -> torch.Tensor:\n",
    "        distance_positive = self.calc_euclidean(anchor, positive)\n",
    "        distance_negative = self.calc_euclidean(anchor, negative)\n",
    "        losses = torch.relu(distance_positive - distance_negative + self.margin)\n",
    "        \n",
    "        return losses"
   ]
  },
  {
   "cell_type": "markdown",
   "metadata": {},
   "source": [
    "## Visualise test with UMAP"
   ]
  },
  {
   "cell_type": "code",
   "execution_count": 13,
   "metadata": {
    "execution": {
     "iopub.execute_input": "2022-11-27T15:23:25.203144Z",
     "iopub.status.busy": "2022-11-27T15:23:25.201974Z",
     "iopub.status.idle": "2022-11-27T15:23:25.286637Z",
     "shell.execute_reply": "2022-11-27T15:23:25.285233Z",
     "shell.execute_reply.started": "2022-11-27T15:23:25.203099Z"
    }
   },
   "outputs": [
    {
     "name": "stdout",
     "output_type": "stream",
     "text": [
      "[[   0 2764]\n",
      " [   1 2468]]\n"
     ]
    }
   ],
   "source": [
    "train_index, val_index, test_index = cv_Kfold_i[np.random.randint(10)]\n",
    "y_train = df['assestment'].values[train_index]\n",
    "y_val = df['assestment'].values[val_index]\n",
    "y_test = df['assestment'].values[test_index]\n",
    "\n",
    "unique, counts = np.unique(y_train, return_counts=True)\n",
    "print(np.asarray((unique, counts)).T)\n",
    "\n",
    "scaler = StandardScaler().fit(embeddings_table[train_index])"
   ]
  },
  {
   "cell_type": "code",
   "execution_count": 14,
   "metadata": {
    "execution": {
     "iopub.execute_input": "2022-11-27T15:23:25.983756Z",
     "iopub.status.busy": "2022-11-27T15:23:25.983353Z",
     "iopub.status.idle": "2022-11-27T15:23:50.249313Z",
     "shell.execute_reply": "2022-11-27T15:23:50.247873Z",
     "shell.execute_reply.started": "2022-11-27T15:23:25.983724Z"
    }
   },
   "outputs": [],
   "source": [
    "reducer = umap.UMAP()\n",
    "umap_train = reducer.fit_transform(scaler.transform(embeddings_table[train_index]), y=y_train)\n",
    "umap_val = reducer.transform(scaler.transform(embeddings_table[val_index]))\n",
    "umap_test = reducer.transform(scaler.transform(embeddings_table[test_index]))"
   ]
  },
  {
   "cell_type": "code",
   "execution_count": 15,
   "metadata": {
    "execution": {
     "iopub.execute_input": "2022-11-27T15:23:50.251910Z",
     "iopub.status.busy": "2022-11-27T15:23:50.251548Z",
     "iopub.status.idle": "2022-11-27T15:23:50.824941Z",
     "shell.execute_reply": "2022-11-27T15:23:50.823693Z",
     "shell.execute_reply.started": "2022-11-27T15:23:50.251879Z"
    }
   },
   "outputs": [
    {
     "data": {
      "image/png": "[encoded data removed]",
      "text/plain": [
       "<Figure size 2000x600 with 3 Axes>"
      ]
     },
     "metadata": {},
     "output_type": "display_data"
    }
   ],
   "source": [
    "plt.figure(figsize=(20, 6), facecolor=\"azure\")\n",
    "\n",
    "plt.subplot(1, 3, 1)\n",
    "for label in np.unique(y_train):\n",
    "    tmp = umap_train[y_train==label]\n",
    "    plt.scatter(tmp[:, 0], tmp[:, 1], label=label)\n",
    "    plt.title('Train')\n",
    "    \n",
    "plt.subplot(1, 3, 2)\n",
    "for label in np.unique(y_val):\n",
    "    tmp = umap_val[y_val==label]\n",
    "    plt.scatter(tmp[:, 0], tmp[:, 1], label=label)\n",
    "    plt.title('Val')\n",
    "\n",
    "plt.subplot(1, 3, 3)\n",
    "for label in np.unique(y_test):\n",
    "    tmp = umap_test[y_test==label]\n",
    "    plt.scatter(tmp[:, 0], tmp[:, 1], label=label)\n",
    "    plt.title('Test')\n",
    "\n",
    "plt.legend()\n",
    "plt.show()"
   ]
  },
  {
   "cell_type": "markdown",
   "metadata": {},
   "source": [
    "## Dataloader"
   ]
  },
  {
   "cell_type": "code",
   "execution_count": 16,
   "metadata": {
    "execution": {
     "iopub.execute_input": "2022-11-26T15:31:53.151297Z",
     "iopub.status.busy": "2022-11-26T15:31:53.150687Z",
     "iopub.status.idle": "2022-11-26T15:31:53.165067Z",
     "shell.execute_reply": "2022-11-26T15:31:53.164082Z",
     "shell.execute_reply.started": "2022-11-26T15:31:53.151191Z"
    }
   },
   "outputs": [],
   "source": [
    "class FakeNews(Dataset):\n",
    "    def __init__(self, emb_dt, y_dt, index_to_use, factor=1):\n",
    "        self.emb = emb_dt[index_to_use]\n",
    "        \n",
    "        self.labels = y_dt[index_to_use]\n",
    "        \n",
    "        self.index = np.repeat( [np.arange(index_to_use.shape[0])], factor, axis=0).reshape(-1)\n",
    "        \n",
    "        self.idx = np.arange(index_to_use.shape[0])\n",
    "        \n",
    "    def __len__(self):\n",
    "        return len(self.index)\n",
    "    \n",
    "    def __getitem__(self, idx): \n",
    "        item = self.index[idx]\n",
    "                \n",
    "        anchor_label = self.labels[item]\n",
    "\n",
    "        positive_list = self.idx[self.idx!=item][self.labels[self.idx!=item]==anchor_label]\n",
    "\n",
    "        positive_item = random.choice(positive_list)\n",
    "        \n",
    "        negative_list = self.idx[self.idx!=item][self.labels[self.idx!=item]!=anchor_label]\n",
    "        negative_item = random.choice(negative_list)\n",
    "        \n",
    "        anchor_claim = self.emb[item].astype(np.float32)\n",
    "        positive_claim = self.emb[positive_item].astype(np.float32)\n",
    "        negative_claim = self.emb[negative_item].astype(np.float32)\n",
    "\n",
    "        anchor_label = anchor_label.astype(np.float32)\n",
    "\n",
    "        return anchor_claim, positive_claim, negative_claim, anchor_label\n",
    "\n",
    "class FakeNewsLabel(Dataset):\n",
    "    def __init__(self, emb_dt, y_dt, index_to_use):\n",
    "        self.emb = emb_dt[index_to_use]\n",
    "        \n",
    "        self.labels = y_dt[index_to_use]\n",
    "        \n",
    "        self.index = np.arange(index_to_use.shape[0])\n",
    "        \n",
    "    def __len__(self):\n",
    "        return len(self.emb)\n",
    "    \n",
    "    def __getitem__(self, item):\n",
    "        anchor_label = self.labels[item]\n",
    "        \n",
    "        anchor_claim = self.emb[item].astype(np.float32)\n",
    "\n",
    "        anchor_label = anchor_label.astype(np.float32)\n",
    "\n",
    "        return anchor_claim, anchor_label"
   ]
  },
  {
   "cell_type": "code",
   "execution_count": 17,
   "metadata": {
    "execution": {
     "iopub.execute_input": "2022-11-26T15:31:53.167520Z",
     "iopub.status.busy": "2022-11-26T15:31:53.166464Z",
     "iopub.status.idle": "2022-11-26T15:31:53.174640Z",
     "shell.execute_reply": "2022-11-26T15:31:53.173820Z",
     "shell.execute_reply.started": "2022-11-26T15:31:53.167485Z"
    }
   },
   "outputs": [],
   "source": [
    "embedding_dims = 100\n",
    "batch_size = 512\n",
    "epochs = 200\n",
    "n_workers = 8"
   ]
  },
  {
   "cell_type": "code",
   "execution_count": 18,
   "metadata": {
    "execution": {
     "iopub.execute_input": "2022-11-26T15:31:53.176596Z",
     "iopub.status.busy": "2022-11-26T15:31:53.175822Z",
     "iopub.status.idle": "2022-11-26T15:31:53.262936Z",
     "shell.execute_reply": "2022-11-26T15:31:53.261933Z",
     "shell.execute_reply.started": "2022-11-26T15:31:53.176562Z"
    }
   },
   "outputs": [],
   "source": [
    "def prepare_loaders(emb_tab=embeddings_table, \n",
    "                    y_column=df['assestment'].values, \n",
    "                    batch_size=batch_size,\n",
    "                    index_llist = [train_index, val_index, test_index],\n",
    "                    sizes= [10,3],\n",
    "                    n_workers=n_workers\n",
    "                   ):\n",
    "    train_index, val_index, test_index = index_llist\n",
    "    \n",
    "    train_ds = FakeNews(emb_tab, y_column, train_index, sizes[0])\n",
    "    train_loader = DataLoader(train_ds, batch_size=batch_size, shuffle=True, num_workers=n_workers)\n",
    "\n",
    "    train_ds_label = FakeNewsLabel(emb_tab, y_column, train_index)\n",
    "    train_loader_label = DataLoader(train_ds_label, batch_size=batch_size, shuffle=True, num_workers=n_workers)\n",
    "\n",
    "    val_ds = FakeNews(emb_tab, y_column, val_index, sizes[1])\n",
    "    val_loader = DataLoader(val_ds, batch_size=batch_size, shuffle=True, num_workers=n_workers)\n",
    "\n",
    "    test_ds = FakeNewsLabel(emb_tab, y_column, test_index)\n",
    "    test_loader = DataLoader(test_ds, batch_size=batch_size, shuffle=False, num_workers=n_workers)\n",
    "    \n",
    "    return train_loader, train_loader_label, val_loader, test_loader"
   ]
  },
  {
   "cell_type": "code",
   "execution_count": 19,
   "metadata": {},
   "outputs": [],
   "source": [
    "train_loader, train_loader_label, val_loader, test_loader = prepare_loaders(\n",
    "    emb_tab=embeddings_table, \n",
    "    y_column=df['assestment'].values, \n",
    "    batch_size=batch_size,\n",
    "    index_llist = [train_index, val_index, test_index],\n",
    "    sizes= [10,3],\n",
    "    n_workers=n_workers\n",
    ")"
   ]
  },
  {
   "cell_type": "markdown",
   "metadata": {},
   "source": [
    "## Define Net"
   ]
  },
  {
   "cell_type": "code",
   "execution_count": 20,
   "metadata": {
    "execution": {
     "iopub.execute_input": "2022-11-27T15:08:47.701490Z",
     "iopub.status.busy": "2022-11-27T15:08:47.701050Z",
     "iopub.status.idle": "2022-11-27T15:08:47.710932Z",
     "shell.execute_reply": "2022-11-27T15:08:47.709828Z",
     "shell.execute_reply.started": "2022-11-27T15:08:47.701455Z"
    }
   },
   "outputs": [],
   "source": [
    "class Network(nn.Module):\n",
    "    def __init__(self, emb_dim=128, in_shape=1024):\n",
    "        super(Network, self).__init__()\n",
    "        \n",
    "        self.in_shape = in_shape\n",
    "        \n",
    "        self.fc = nn.Sequential(\n",
    "#             nn.Linear(1024, 1024),\n",
    "#             nn.BatchNorm1d(1024),\n",
    "#             nn.ReLU(),\n",
    "#             nn.Dropout(0.5),\n",
    "            \n",
    "            nn.Linear(in_shape, 512),\n",
    "            nn.BatchNorm1d(512),\n",
    "            nn.ReLU(),\n",
    "            nn.Dropout(0.5),\n",
    "            \n",
    "#             nn.Linear(512, 512),\n",
    "#             nn.BatchNorm1d(512),\n",
    "#             nn.ReLU(),\n",
    "#             nn.Dropout(0.5),\n",
    "            \n",
    "            nn.Linear(512, 256),\n",
    "            nn.BatchNorm1d(256),\n",
    "            nn.ReLU(),\n",
    "            nn.Dropout(0.5),\n",
    "            nn.Linear(256, emb_dim)\n",
    "            \n",
    "#             nn.Linear(1024, emb_dim),\n",
    "#             nn.BatchNorm1d(emb_dim),\n",
    "#             nn.ReLU(),\n",
    "#             nn.Dropout(0.5),\n",
    "        )\n",
    "        \n",
    "    def forward(self, x):\n",
    "        x = x.view(-1, self.in_shape)\n",
    "        x = self.fc(x)\n",
    "        return x"
   ]
  },
  {
   "cell_type": "code",
   "execution_count": 21,
   "metadata": {
    "execution": {
     "iopub.execute_input": "2022-11-26T15:31:53.265004Z",
     "iopub.status.busy": "2022-11-26T15:31:53.264315Z",
     "iopub.status.idle": "2022-11-26T15:31:55.885828Z",
     "shell.execute_reply": "2022-11-26T15:31:55.884697Z",
     "shell.execute_reply.started": "2022-11-26T15:31:53.264967Z"
    }
   },
   "outputs": [],
   "source": [
    "model = Network(embedding_dims,embeddings_table.shape[1])\n",
    "# model = torch.nn.DataParallel(model)\n",
    "# model = torch.jit.script(model).to(device)\n",
    "model = model.to(device)\n",
    "\n",
    "optimizer = optim.Adam(model.parameters(), lr=1e-4, weight_decay=1e-5)\n",
    "# optimizer = optim.SGD(model.parameters(), lr=0.01, momentum=0.5)\n",
    "# criterion = torch.jit.script(TripletLoss())\n",
    "criterion = TripletLoss()"
   ]
  },
  {
   "cell_type": "markdown",
   "metadata": {},
   "source": [
    "## Training loop"
   ]
  },
  {
   "cell_type": "code",
   "execution_count": 22,
   "metadata": {},
   "outputs": [],
   "source": [
    "def train_loop(\n",
    "    model=model,\n",
    "    train_loader=train_loader,\n",
    "    val_loader=val_loader,\n",
    "    epochs=1000,\n",
    "    n_print=100,\n",
    "    if_norm=False,\n",
    "    optimizer=optim.Adam(model.parameters(), lr=1e-4, weight_decay=1e-5),\n",
    "    criterion=TripletLoss(),\n",
    "    n_model=0,\n",
    "    model_name='model_X.pt'\n",
    "):\n",
    "    val_prev = np.inf\n",
    "    \n",
    "    model.train()\n",
    "    for epoch in tqdm(range(epochs), desc=\"Epochs\"):\n",
    "        running_loss = []\n",
    "        for step, (anchor_claim, positive_claim, negative_claim, anchor_label) in enumerate(train_loader):\n",
    "            anchor_claim = anchor_claim.to(device) if if_norm else (anchor_claim / torch.norm(anchor_claim) ).to(device)\n",
    "            positive_claim = positive_claim.to(device) if if_norm else (positive_claim / torch.norm(positive_claim) ).to(device)\n",
    "            negative_claim = negative_claim.to(device) if if_norm else (negative_claim / torch.norm(negative_claim) ).to(device)\n",
    "            \n",
    "            optimizer.zero_grad()\n",
    "            anchor_out = model(anchor_claim)\n",
    "            positive_out = model(positive_claim)\n",
    "            negative_out = model(negative_claim)\n",
    "\n",
    "            loss = criterion(anchor_out, positive_out, negative_out)\n",
    "            loss.backward()\n",
    "            optimizer.step()\n",
    "\n",
    "            running_loss.append(loss.cpu().detach().numpy())\n",
    "        model.eval()\n",
    "        \n",
    "        val_loss = []\n",
    "        for anchor_claim, positive_claim, negative_claim, _ in val_loader:\n",
    "            anchor_claim = anchor_claim.to(device) if if_norm else (anchor_claim / torch.norm(anchor_claim) ).to(device)\n",
    "            positive_claim = positive_claim.to(device) if if_norm else (positive_claim / torch.norm(positive_claim) ).to(device)\n",
    "            negative_claim = negative_claim.to(device) if if_norm else (negative_claim / torch.norm(negative_claim) ).to(device)\n",
    "\n",
    "            anchor_out = model(anchor_claim)\n",
    "            positive_out = model(positive_claim)\n",
    "            negative_out = model(negative_claim)\n",
    "\n",
    "            loss = criterion(anchor_out, positive_out, negative_out)\n",
    "            val_loss.append(loss.cpu().detach().numpy())\n",
    "\n",
    "        model.train()\n",
    "        \n",
    "        if np.mean(val_loss) < val_prev:\n",
    "            val_prev = np.mean(val_loss)\n",
    "            torch.save(model, f'models/{model_name}')\n",
    "\n",
    "        if epoch%n_print == 0:\n",
    "            print(f\"{n_model} Epoch: {epoch+1}/{epochs} - Train Loss: {np.mean(running_loss):.4f};\",\n",
    "                  f\" Val Loss: {np.mean(val_loss):.4f} Best Val loss {val_prev:.4f}\")\n"
   ]
  },
  {
   "cell_type": "code",
   "execution_count": 23,
   "metadata": {
    "execution": {
     "iopub.execute_input": "2022-11-26T15:31:55.916175Z",
     "iopub.status.busy": "2022-11-26T15:31:55.915536Z",
     "iopub.status.idle": "2022-11-26T15:53:15.543110Z",
     "shell.execute_reply": "2022-11-26T15:53:15.541293Z",
     "shell.execute_reply.started": "2022-11-26T15:31:55.916135Z"
    }
   },
   "outputs": [
    {
     "data": {
      "application/vnd.jupyter.widget-view+json": {
       "model_id": "b86daa873e0d4c2190f63ccf45a69c92",
       "version_major": 2,
       "version_minor": 0
      },
      "text/plain": [
       "Epochs:   0%|          | 0/200 [00:00<?, ?it/s]"
      ]
     },
     "metadata": {},
     "output_type": "display_data"
    },
    {
     "name": "stdout",
     "output_type": "stream",
     "text": [
      "Epoch: 1/200 - Train Loss: 5.4038;  Val Loss: 1.3665 Best Val loss 1.3665\n",
      "Epoch: 11/200 - Train Loss: 1.2788;  Val Loss: 0.9736 Best Val loss 0.9736\n",
      "Epoch: 21/200 - Train Loss: 1.0103;  Val Loss: 0.9937 Best Val loss 0.9736\n",
      "Epoch: 31/200 - Train Loss: 0.9607;  Val Loss: 0.9771 Best Val loss 0.9736\n",
      "Epoch: 41/200 - Train Loss: 0.4731;  Val Loss: 0.9733 Best Val loss 0.9633\n",
      "Epoch: 51/200 - Train Loss: 0.1272;  Val Loss: 0.9920 Best Val loss 0.9633\n",
      "Epoch: 61/200 - Train Loss: 0.0586;  Val Loss: 0.9961 Best Val loss 0.9633\n",
      "Epoch: 71/200 - Train Loss: 0.0409;  Val Loss: 0.9896 Best Val loss 0.9633\n",
      "Epoch: 81/200 - Train Loss: 0.0262;  Val Loss: 0.9959 Best Val loss 0.9633\n",
      "Epoch: 91/200 - Train Loss: 0.0201;  Val Loss: 0.9771 Best Val loss 0.9633\n",
      "Epoch: 101/200 - Train Loss: 0.0220;  Val Loss: 0.9866 Best Val loss 0.9633\n",
      "Epoch: 111/200 - Train Loss: 0.0168;  Val Loss: 0.9905 Best Val loss 0.9633\n",
      "Epoch: 121/200 - Train Loss: 0.0178;  Val Loss: 0.9955 Best Val loss 0.9633\n",
      "Epoch: 131/200 - Train Loss: 0.0128;  Val Loss: 0.9907 Best Val loss 0.9633\n",
      "Epoch: 141/200 - Train Loss: 0.0112;  Val Loss: 0.9894 Best Val loss 0.9633\n",
      "Epoch: 151/200 - Train Loss: 0.0106;  Val Loss: 0.9851 Best Val loss 0.9633\n",
      "Epoch: 161/200 - Train Loss: 0.0106;  Val Loss: 0.9796 Best Val loss 0.9633\n",
      "Epoch: 171/200 - Train Loss: 0.0101;  Val Loss: 0.9932 Best Val loss 0.9633\n",
      "Epoch: 181/200 - Train Loss: 0.0096;  Val Loss: 0.9919 Best Val loss 0.9633\n",
      "Epoch: 191/200 - Train Loss: 0.0110;  Val Loss: 0.9965 Best Val loss 0.9633\n"
     ]
    }
   ],
   "source": [
    "# train_loss_out = []\n",
    "# val_loss_out = []\n",
    "\n",
    "val_prev = np.inf\n",
    "\n",
    "if_norm = False\n",
    "loss_vec = TripletLossVector()\n",
    "k_top = None\n",
    "\n",
    "model.train()\n",
    "for epoch in tqdm(range(epochs), desc=\"Epochs\"):\n",
    "    running_loss = []\n",
    "    for step, (anchor_claim, positive_claim, negative_claim, anchor_label) in enumerate(train_loader):\n",
    "        anchor_claim = anchor_claim.to(device) if if_norm else (anchor_claim / torch.norm(anchor_claim) ).to(device)\n",
    "        positive_claim = positive_claim.to(device) if if_norm else (positive_claim / torch.norm(positive_claim) ).to(device)\n",
    "        negative_claim = negative_claim.to(device) if if_norm else (negative_claim / torch.norm(negative_claim) ).to(device)\n",
    "        \n",
    "        if k_top:\n",
    "            losses_order = torch.argsort(\n",
    "                loss_vec.get_loss(anchor_claim, positive_claim, negative_claim),\n",
    "                descending=True\n",
    "            )[-k_top:]\n",
    "\n",
    "            anchor_claim = anchor_claim[losses_order]\n",
    "            positive_claim = positive_claim[losses_order]\n",
    "            negative_claim = negative_claim[losses_order]\n",
    "                \n",
    "        optimizer.zero_grad()\n",
    "        anchor_out = model(anchor_claim)\n",
    "        positive_out = model(positive_claim)\n",
    "        negative_out = model(negative_claim)\n",
    "        \n",
    "        loss = criterion(anchor_out, positive_out, negative_out)\n",
    "        loss.backward()\n",
    "        optimizer.step()\n",
    "        \n",
    "        running_loss.append(loss.cpu().detach().numpy())\n",
    "    model.eval()\n",
    "    \n",
    "    val_loss = []\n",
    "    for anchor_claim, positive_claim, negative_claim, _ in val_loader:\n",
    "        anchor_claim = anchor_claim.to(device) if if_norm else (anchor_claim / torch.norm(anchor_claim) ).to(device)\n",
    "        positive_claim = positive_claim.to(device) if if_norm else (positive_claim / torch.norm(positive_claim) ).to(device)\n",
    "        negative_claim = negative_claim.to(device) if if_norm else (negative_claim / torch.norm(negative_claim) ).to(device)\n",
    "\n",
    "        anchor_out = model(anchor_claim)\n",
    "        positive_out = model(positive_claim)\n",
    "        negative_out = model(negative_claim)\n",
    "        \n",
    "        loss = criterion(anchor_out, positive_out, negative_out)\n",
    "        val_loss.append(loss.cpu().detach().numpy())\n",
    "    \n",
    "    model.train()\n",
    "    \n",
    "#     train_loss_out.append(np.mean(running_loss))\n",
    "#     val_loss_out.append(np.mean(val_loss))\n",
    "    \n",
    "    if np.mean(val_loss) < val_prev:\n",
    "#         print(epoch, f'saved {np.mean(val_loss):.4f} < {val_prev:.4f}')\n",
    "        val_prev = np.mean(val_loss)\n",
    "        torch.save(model, 'models/model_03.pt')\n",
    "        \n",
    "    if epoch%10 == 0:\n",
    "        print(f\"Epoch: {epoch+1}/{epochs} - Train Loss: {np.mean(running_loss):.4f};\",\n",
    "              f\" Val Loss: {np.mean(val_loss):.4f} Best Val loss {val_prev:.4f}\")\n",
    "        \n",
    "#     if epoch == 20:\n",
    "#         for param_group in optimizer.param_groups:\n",
    "#             param_group['lr'] = 0.001\n",
    "#     elif epoch == 50:\n",
    "#         for param_group in optimizer.param_groups:\n",
    "#             param_group['lr'] = 0.0001\n",
    "#     elif epoch == 300:\n",
    "#         for param_group in optimizer.param_groups:\n",
    "#             param_group['lr'] = 0.00001"
   ]
  },
  {
   "cell_type": "code",
   "execution_count": 24,
   "metadata": {
    "execution": {
     "iopub.execute_input": "2022-11-26T15:53:22.761139Z",
     "iopub.status.busy": "2022-11-26T15:53:22.760751Z",
     "iopub.status.idle": "2022-11-26T15:53:22.779695Z",
     "shell.execute_reply": "2022-11-26T15:53:22.778795Z",
     "shell.execute_reply.started": "2022-11-26T15:53:22.761106Z"
    }
   },
   "outputs": [],
   "source": [
    "model = torch.load('models/model_03.pt')"
   ]
  },
  {
   "cell_type": "code",
   "execution_count": 25,
   "metadata": {
    "execution": {
     "iopub.execute_input": "2022-11-26T15:53:23.103530Z",
     "iopub.status.busy": "2022-11-26T15:53:23.103194Z",
     "iopub.status.idle": "2022-11-26T15:53:23.338509Z",
     "shell.execute_reply": "2022-11-26T15:53:23.337437Z",
     "shell.execute_reply.started": "2022-11-26T15:53:23.103502Z"
    }
   },
   "outputs": [
    {
     "data": {
      "application/vnd.jupyter.widget-view+json": {
       "model_id": "6f1ba064451340e2af2bec4c3e904047",
       "version_major": 2,
       "version_minor": 0
      },
      "text/plain": [
       "  0%|          | 0/11 [00:00<?, ?it/s]"
      ]
     },
     "metadata": {},
     "output_type": "display_data"
    },
    {
     "data": {
      "text/plain": [
       "(5232, 100)"
      ]
     },
     "execution_count": 25,
     "metadata": {},
     "output_type": "execute_result"
    }
   ],
   "source": [
    "train_results = []\n",
    "labels = []\n",
    "\n",
    "model.eval()\n",
    "with torch.no_grad():\n",
    "    for anchor_claim, label in tqdm(train_loader_label):\n",
    "        anchor_claim = anchor_claim.to(device) if if_norm else (anchor_claim / torch.norm(anchor_claim) ).to(device)\n",
    "        \n",
    "        train_results.append(model(anchor_claim).cpu().numpy())\n",
    "        labels.append(label)\n",
    "\n",
    "train_results = np.concatenate(train_results) \n",
    "labels = np.concatenate(labels)\n",
    "train_results.shape"
   ]
  },
  {
   "cell_type": "code",
   "execution_count": 26,
   "metadata": {
    "execution": {
     "iopub.execute_input": "2022-11-26T15:53:27.431015Z",
     "iopub.status.busy": "2022-11-26T15:53:27.430648Z",
     "iopub.status.idle": "2022-11-26T15:53:27.592049Z",
     "shell.execute_reply": "2022-11-26T15:53:27.590934Z",
     "shell.execute_reply.started": "2022-11-26T15:53:27.430984Z"
    }
   },
   "outputs": [
    {
     "data": {
      "application/vnd.jupyter.widget-view+json": {
       "model_id": "ddfbb65319434130bc994a4376376edb",
       "version_major": 2,
       "version_minor": 0
      },
      "text/plain": [
       "  0%|          | 0/2 [00:00<?, ?it/s]"
      ]
     },
     "metadata": {},
     "output_type": "display_data"
    },
    {
     "data": {
      "text/plain": [
       "(654, 100)"
      ]
     },
     "execution_count": 26,
     "metadata": {},
     "output_type": "execute_result"
    }
   ],
   "source": [
    "test_results = []\n",
    "test_labels = []\n",
    "\n",
    "model.eval()\n",
    "with torch.no_grad():\n",
    "    for anchor_claim, label in tqdm(test_loader):\n",
    "        anchor_claim = anchor_claim.to(device) if if_norm else (anchor_claim / torch.norm(anchor_claim) ).to(device)\n",
    "        \n",
    "        test_results.append(model(anchor_claim).cpu().numpy())\n",
    "        test_labels.append(label)\n",
    "        \n",
    "test_results = np.concatenate(test_results)\n",
    "test_labels = np.concatenate(test_labels)\n",
    "test_results.shape"
   ]
  },
  {
   "cell_type": "code",
   "execution_count": 27,
   "metadata": {},
   "outputs": [],
   "source": [
    "reducer_nn = umap.UMAP()\n",
    "scaler_nn = StandardScaler().fit(train_results)\n",
    "\n",
    "umap_nn_train = train_results if True else reducer_nn.fit_transform(train_results)\n",
    "umap_nn_test = test_results if True else reducer_nn.transform(test_results)"
   ]
  },
  {
   "cell_type": "code",
   "execution_count": 28,
   "metadata": {},
   "outputs": [
    {
     "data": {
      "image/png": "[encoded data removed]",
      "text/plain": [
       "<Figure size 1400x600 with 2 Axes>"
      ]
     },
     "metadata": {},
     "output_type": "display_data"
    }
   ],
   "source": [
    "plt.figure(figsize=(14, 6), facecolor=\"azure\")\n",
    "\n",
    "plt.subplot(1, 2, 1)\n",
    "for label in np.unique(labels):\n",
    "    tmp = umap_nn_train[labels==label]\n",
    "    plt.scatter(tmp[:, 0], tmp[:, 1], label=label)\n",
    "    plt.title('Train')\n",
    "\n",
    "plt.subplot(1, 2, 2)\n",
    "for label in np.unique(test_labels):\n",
    "    tmp = umap_nn_test[test_labels==label]\n",
    "    plt.scatter(tmp[:, 0], tmp[:, 1], label=label)\n",
    "    plt.title('Test')\n",
    "\n",
    "plt.legend()\n",
    "plt.show()"
   ]
  },
  {
   "cell_type": "code",
   "execution_count": 29,
   "metadata": {
    "execution": {
     "iopub.execute_input": "2022-11-26T15:53:33.387287Z",
     "iopub.status.busy": "2022-11-26T15:53:33.386511Z",
     "iopub.status.idle": "2022-11-26T15:53:33.402885Z",
     "shell.execute_reply": "2022-11-26T15:53:33.401582Z",
     "shell.execute_reply.started": "2022-11-26T15:53:33.387245Z"
    }
   },
   "outputs": [],
   "source": [
    "clf_lr_1 = LogisticRegression(max_iter=5000, C=1, penalty='l2', solver='liblinear')"
   ]
  },
  {
   "cell_type": "code",
   "execution_count": 30,
   "metadata": {
    "execution": {
     "iopub.execute_input": "2022-11-26T15:53:34.027251Z",
     "iopub.status.busy": "2022-11-26T15:53:34.026899Z",
     "iopub.status.idle": "2022-11-26T15:53:34.163303Z",
     "shell.execute_reply": "2022-11-26T15:53:34.161895Z",
     "shell.execute_reply.started": "2022-11-26T15:53:34.027223Z"
    }
   },
   "outputs": [],
   "source": [
    "results = {\n",
    "    'test_accuracy' : [],\n",
    "    'test_precision' : [],\n",
    "    'test_recall' : [],\n",
    "    'test_f1' : []\n",
    "}\n",
    "\n",
    "\n",
    "y_train_t = labels\n",
    "X_train_t = train_results\n",
    "y_test_t = test_labels\n",
    "X_test_t = test_results\n",
    "\n",
    "clf_lr_1.fit(X_train_t, y_train_t)\n",
    "\n",
    "y_pred = clf_lr_1.predict(X_test_t)\n",
    "\n",
    "results['test_accuracy'].append( accuracy_score(y_test_t, y_pred) ) \n",
    "results['test_precision'].append( precision_score(y_test_t, y_pred) ) \n",
    "results['test_recall'].append( recall_score(y_test_t, y_pred) ) \n",
    "results['test_f1'].append( f1_score(y_test_t, y_pred) ) \n",
    "\n",
    "metrics = {\n",
    "    \"Accuracy\": np.array(results['test_accuracy']),\n",
    "#     \"Precision\": np.array(results['test_precision']).mean(),\n",
    "#     \"Recall\": np.array(results['test_recall']).mean(),\n",
    "    \"F1 Score\":  np.array(results['test_f1']),\n",
    "    }"
   ]
  },
  {
   "cell_type": "code",
   "execution_count": 31,
   "metadata": {
    "execution": {
     "iopub.execute_input": "2022-11-26T15:53:34.788113Z",
     "iopub.status.busy": "2022-11-26T15:53:34.787753Z",
     "iopub.status.idle": "2022-11-26T15:53:34.799721Z",
     "shell.execute_reply": "2022-11-26T15:53:34.798092Z",
     "shell.execute_reply.started": "2022-11-26T15:53:34.788083Z"
    }
   },
   "outputs": [
    {
     "data": {
      "text/plain": [
       "array([[240,  97],\n",
       "       [103, 214]])"
      ]
     },
     "execution_count": 31,
     "metadata": {},
     "output_type": "execute_result"
    }
   ],
   "source": [
    "confusion_matrix(y_test_t, y_pred)"
   ]
  },
  {
   "cell_type": "code",
   "execution_count": 32,
   "metadata": {
    "execution": {
     "iopub.execute_input": "2022-11-26T15:53:36.407665Z",
     "iopub.status.busy": "2022-11-26T15:53:36.406494Z",
     "iopub.status.idle": "2022-11-26T15:53:36.415616Z",
     "shell.execute_reply": "2022-11-26T15:53:36.414441Z",
     "shell.execute_reply.started": "2022-11-26T15:53:36.407618Z"
    }
   },
   "outputs": [
    {
     "data": {
      "text/plain": [
       "{'Accuracy': array([0.6941896]), 'F1 Score': array([0.68152866])}"
      ]
     },
     "execution_count": 32,
     "metadata": {},
     "output_type": "execute_result"
    }
   ],
   "source": [
    "metrics"
   ]
  },
  {
   "cell_type": "markdown",
   "metadata": {},
   "source": [
    "# Test using CV"
   ]
  },
  {
   "cell_type": "code",
   "execution_count": 50,
   "metadata": {
    "execution": {
     "iopub.execute_input": "2022-11-25T18:28:29.816271Z",
     "iopub.status.busy": "2022-11-25T18:28:29.815893Z"
    }
   },
   "outputs": [
    {
     "data": {
      "application/vnd.jupyter.widget-view+json": {
       "model_id": "9fb987eb04c74806a1ac720c0ca68a05",
       "version_major": 2,
       "version_minor": 0
      },
      "text/plain": [
       "Epochs:   0%|          | 0/1000 [00:00<?, ?it/s]"
      ]
     },
     "metadata": {},
     "output_type": "display_data"
    },
    {
     "name": "stdout",
     "output_type": "stream",
     "text": [
      "0 Epoch: 1/1000 - Train Loss: 5.5316;  Val Loss: 1.4388 Best Val loss 1.4388\n",
      "0 Epoch: 101/1000 - Train Loss: 0.0130;  Val Loss: 0.2555 Best Val loss 0.2073\n",
      "0 Epoch: 201/1000 - Train Loss: 0.0058;  Val Loss: 0.2158 Best Val loss 0.1738\n",
      "0 Epoch: 301/1000 - Train Loss: 0.0040;  Val Loss: 0.1823 Best Val loss 0.1698\n",
      "0 Epoch: 401/1000 - Train Loss: 0.0030;  Val Loss: 0.1784 Best Val loss 0.1686\n",
      "0 Epoch: 501/1000 - Train Loss: 0.0020;  Val Loss: 0.1947 Best Val loss 0.1686\n",
      "0 Epoch: 601/1000 - Train Loss: 0.0018;  Val Loss: 0.1890 Best Val loss 0.1686\n",
      "0 Epoch: 701/1000 - Train Loss: 0.0016;  Val Loss: 0.1888 Best Val loss 0.1686\n",
      "0 Epoch: 801/1000 - Train Loss: 0.0015;  Val Loss: 0.2039 Best Val loss 0.1686\n",
      "0 Epoch: 901/1000 - Train Loss: 0.0018;  Val Loss: 0.1778 Best Val loss 0.1686\n"
     ]
    },
    {
     "data": {
      "application/vnd.jupyter.widget-view+json": {
       "model_id": "81022503576f44c390d0878582f80ac3",
       "version_major": 2,
       "version_minor": 0
      },
      "text/plain": [
       "  0%|          | 0/11 [00:00<?, ?it/s]"
      ]
     },
     "metadata": {},
     "output_type": "display_data"
    },
    {
     "data": {
      "application/vnd.jupyter.widget-view+json": {
       "model_id": "3bd5403e8e884248b64fadf8244ee280",
       "version_major": 2,
       "version_minor": 0
      },
      "text/plain": [
       "  0%|          | 0/2 [00:00<?, ?it/s]"
      ]
     },
     "metadata": {},
     "output_type": "display_data"
    },
    {
     "data": {
      "application/vnd.jupyter.widget-view+json": {
       "model_id": "2b6829f1c3414337a0c488119d540923",
       "version_major": 2,
       "version_minor": 0
      },
      "text/plain": [
       "Epochs:   0%|          | 0/1000 [00:00<?, ?it/s]"
      ]
     },
     "metadata": {},
     "output_type": "display_data"
    },
    {
     "name": "stdout",
     "output_type": "stream",
     "text": [
      "0 Epoch: 1/1000 - Train Loss: 5.3656;  Val Loss: 1.2826 Best Val loss 1.2826\n",
      "0 Epoch: 101/1000 - Train Loss: 0.0144;  Val Loss: 0.3792 Best Val loss 0.2992\n",
      "0 Epoch: 201/1000 - Train Loss: 0.0059;  Val Loss: 0.2871 Best Val loss 0.2442\n",
      "0 Epoch: 301/1000 - Train Loss: 0.0037;  Val Loss: 0.2700 Best Val loss 0.2274\n",
      "0 Epoch: 401/1000 - Train Loss: 0.0038;  Val Loss: 0.2584 Best Val loss 0.2274\n",
      "0 Epoch: 501/1000 - Train Loss: 0.0022;  Val Loss: 0.2800 Best Val loss 0.2274\n",
      "0 Epoch: 601/1000 - Train Loss: 0.0023;  Val Loss: 0.2767 Best Val loss 0.2274\n",
      "0 Epoch: 701/1000 - Train Loss: 0.0018;  Val Loss: 0.2755 Best Val loss 0.2274\n",
      "0 Epoch: 801/1000 - Train Loss: 0.0017;  Val Loss: 0.2662 Best Val loss 0.2274\n",
      "0 Epoch: 901/1000 - Train Loss: 0.0012;  Val Loss: 0.2542 Best Val loss 0.2274\n"
     ]
    },
    {
     "data": {
      "application/vnd.jupyter.widget-view+json": {
       "model_id": "59583f15fbb14e9cb1475d63e8115f64",
       "version_major": 2,
       "version_minor": 0
      },
      "text/plain": [
       "  0%|          | 0/11 [00:00<?, ?it/s]"
      ]
     },
     "metadata": {},
     "output_type": "display_data"
    },
    {
     "data": {
      "application/vnd.jupyter.widget-view+json": {
       "model_id": "f3d56e6a29144bdf947d45078b75f857",
       "version_major": 2,
       "version_minor": 0
      },
      "text/plain": [
       "  0%|          | 0/2 [00:00<?, ?it/s]"
      ]
     },
     "metadata": {},
     "output_type": "display_data"
    },
    {
     "data": {
      "application/vnd.jupyter.widget-view+json": {
       "model_id": "a2bf34cc1b9e45c68e233b85944284c9",
       "version_major": 2,
       "version_minor": 0
      },
      "text/plain": [
       "Epochs:   0%|          | 0/1000 [00:00<?, ?it/s]"
      ]
     },
     "metadata": {},
     "output_type": "display_data"
    },
    {
     "name": "stdout",
     "output_type": "stream",
     "text": [
      "0 Epoch: 1/1000 - Train Loss: 5.5421;  Val Loss: 1.4503 Best Val loss 1.4503\n",
      "0 Epoch: 101/1000 - Train Loss: 0.0194;  Val Loss: 0.9461 Best Val loss 0.8979\n",
      "0 Epoch: 201/1000 - Train Loss: 0.0063;  Val Loss: 0.9270 Best Val loss 0.8733\n",
      "0 Epoch: 301/1000 - Train Loss: 0.0068;  Val Loss: 0.8589 Best Val loss 0.7855\n",
      "0 Epoch: 401/1000 - Train Loss: 0.0060;  Val Loss: 0.8207 Best Val loss 0.7460\n",
      "0 Epoch: 501/1000 - Train Loss: 0.0041;  Val Loss: 0.6940 Best Val loss 0.6623\n",
      "0 Epoch: 601/1000 - Train Loss: 0.0029;  Val Loss: 0.6267 Best Val loss 0.5428\n",
      "0 Epoch: 701/1000 - Train Loss: 0.0030;  Val Loss: 0.4782 Best Val loss 0.4566\n",
      "0 Epoch: 801/1000 - Train Loss: 0.0035;  Val Loss: 0.4868 Best Val loss 0.4260\n",
      "0 Epoch: 901/1000 - Train Loss: 0.0040;  Val Loss: 0.4557 Best Val loss 0.3880\n"
     ]
    },
    {
     "data": {
      "application/vnd.jupyter.widget-view+json": {
       "model_id": "a0b9f75296834334835849070d482174",
       "version_major": 2,
       "version_minor": 0
      },
      "text/plain": [
       "  0%|          | 0/11 [00:00<?, ?it/s]"
      ]
     },
     "metadata": {},
     "output_type": "display_data"
    },
    {
     "data": {
      "application/vnd.jupyter.widget-view+json": {
       "model_id": "260841a3fcec4aba8d3c33c1473cd768",
       "version_major": 2,
       "version_minor": 0
      },
      "text/plain": [
       "  0%|          | 0/2 [00:00<?, ?it/s]"
      ]
     },
     "metadata": {},
     "output_type": "display_data"
    },
    {
     "data": {
      "application/vnd.jupyter.widget-view+json": {
       "model_id": "d5c37058cfc248fc872ce38126e834e9",
       "version_major": 2,
       "version_minor": 0
      },
      "text/plain": [
       "Epochs:   0%|          | 0/1000 [00:00<?, ?it/s]"
      ]
     },
     "metadata": {},
     "output_type": "display_data"
    },
    {
     "name": "stdout",
     "output_type": "stream",
     "text": [
      "0 Epoch: 1/1000 - Train Loss: 5.5247;  Val Loss: 1.2896 Best Val loss 1.2896\n",
      "0 Epoch: 101/1000 - Train Loss: 0.0155;  Val Loss: 0.4998 Best Val loss 0.4163\n",
      "0 Epoch: 201/1000 - Train Loss: 0.0062;  Val Loss: 0.3474 Best Val loss 0.3286\n",
      "0 Epoch: 301/1000 - Train Loss: 0.0044;  Val Loss: 0.2027 Best Val loss 0.1968\n",
      "0 Epoch: 401/1000 - Train Loss: 0.0031;  Val Loss: 0.1833 Best Val loss 0.1564\n",
      "0 Epoch: 501/1000 - Train Loss: 0.0034;  Val Loss: 0.1696 Best Val loss 0.1564\n",
      "0 Epoch: 601/1000 - Train Loss: 0.0033;  Val Loss: 0.1828 Best Val loss 0.1502\n",
      "0 Epoch: 701/1000 - Train Loss: 0.0033;  Val Loss: 0.1693 Best Val loss 0.1502\n",
      "0 Epoch: 801/1000 - Train Loss: 0.0025;  Val Loss: 0.1680 Best Val loss 0.1466\n",
      "0 Epoch: 901/1000 - Train Loss: 0.0025;  Val Loss: 0.1609 Best Val loss 0.1448\n"
     ]
    },
    {
     "data": {
      "application/vnd.jupyter.widget-view+json": {
       "model_id": "07202af9eacd4659b9fa0674a765df10",
       "version_major": 2,
       "version_minor": 0
      },
      "text/plain": [
       "  0%|          | 0/11 [00:00<?, ?it/s]"
      ]
     },
     "metadata": {},
     "output_type": "display_data"
    },
    {
     "data": {
      "application/vnd.jupyter.widget-view+json": {
       "model_id": "9998decb7fa142208e7cf337c64ae339",
       "version_major": 2,
       "version_minor": 0
      },
      "text/plain": [
       "  0%|          | 0/2 [00:00<?, ?it/s]"
      ]
     },
     "metadata": {},
     "output_type": "display_data"
    },
    {
     "data": {
      "application/vnd.jupyter.widget-view+json": {
       "model_id": "219359af43734c169b937ceebe3a985b",
       "version_major": 2,
       "version_minor": 0
      },
      "text/plain": [
       "Epochs:   0%|          | 0/1000 [00:00<?, ?it/s]"
      ]
     },
     "metadata": {},
     "output_type": "display_data"
    },
    {
     "name": "stdout",
     "output_type": "stream",
     "text": [
      "0 Epoch: 1/1000 - Train Loss: 5.6151;  Val Loss: 1.7659 Best Val loss 1.7659\n",
      "0 Epoch: 101/1000 - Train Loss: 0.0153;  Val Loss: 0.3028 Best Val loss 0.1947\n",
      "0 Epoch: 201/1000 - Train Loss: 0.0057;  Val Loss: 0.1881 Best Val loss 0.1643\n",
      "0 Epoch: 301/1000 - Train Loss: 0.0051;  Val Loss: 0.1674 Best Val loss 0.1564\n",
      "0 Epoch: 401/1000 - Train Loss: 0.0040;  Val Loss: 0.1783 Best Val loss 0.1545\n",
      "0 Epoch: 501/1000 - Train Loss: 0.0031;  Val Loss: 0.1697 Best Val loss 0.1537\n",
      "0 Epoch: 601/1000 - Train Loss: 0.0031;  Val Loss: 0.1610 Best Val loss 0.1472\n",
      "0 Epoch: 701/1000 - Train Loss: 0.0024;  Val Loss: 0.1694 Best Val loss 0.1472\n",
      "0 Epoch: 801/1000 - Train Loss: 0.0023;  Val Loss: 0.1715 Best Val loss 0.1472\n",
      "0 Epoch: 901/1000 - Train Loss: 0.0025;  Val Loss: 0.1638 Best Val loss 0.1472\n"
     ]
    },
    {
     "data": {
      "application/vnd.jupyter.widget-view+json": {
       "model_id": "efe4d90a615940c6ae656ee9995ad068",
       "version_major": 2,
       "version_minor": 0
      },
      "text/plain": [
       "  0%|          | 0/11 [00:00<?, ?it/s]"
      ]
     },
     "metadata": {},
     "output_type": "display_data"
    },
    {
     "data": {
      "application/vnd.jupyter.widget-view+json": {
       "model_id": "75450b522d5d48d7a45cdeb8e8df485c",
       "version_major": 2,
       "version_minor": 0
      },
      "text/plain": [
       "  0%|          | 0/2 [00:00<?, ?it/s]"
      ]
     },
     "metadata": {},
     "output_type": "display_data"
    },
    {
     "data": {
      "application/vnd.jupyter.widget-view+json": {
       "model_id": "4999545e4e5c40d4a6810467a7c141cd",
       "version_major": 2,
       "version_minor": 0
      },
      "text/plain": [
       "Epochs:   0%|          | 0/1000 [00:00<?, ?it/s]"
      ]
     },
     "metadata": {},
     "output_type": "display_data"
    },
    {
     "name": "stdout",
     "output_type": "stream",
     "text": [
      "0 Epoch: 1/1000 - Train Loss: 5.4570;  Val Loss: 1.4333 Best Val loss 1.4333\n",
      "0 Epoch: 101/1000 - Train Loss: 0.0201;  Val Loss: 0.9918 Best Val loss 0.9510\n",
      "0 Epoch: 201/1000 - Train Loss: 0.0143;  Val Loss: 0.9842 Best Val loss 0.9510\n",
      "0 Epoch: 301/1000 - Train Loss: 0.0068;  Val Loss: 0.9633 Best Val loss 0.9510\n",
      "0 Epoch: 401/1000 - Train Loss: 0.0052;  Val Loss: 0.9306 Best Val loss 0.8690\n",
      "0 Epoch: 501/1000 - Train Loss: 0.0036;  Val Loss: 0.7987 Best Val loss 0.7782\n",
      "0 Epoch: 601/1000 - Train Loss: 0.0040;  Val Loss: 0.7373 Best Val loss 0.7065\n",
      "0 Epoch: 701/1000 - Train Loss: 0.0051;  Val Loss: 0.6950 Best Val loss 0.6203\n",
      "0 Epoch: 801/1000 - Train Loss: 0.0044;  Val Loss: 0.5528 Best Val loss 0.4873\n",
      "0 Epoch: 901/1000 - Train Loss: 0.0034;  Val Loss: 0.4797 Best Val loss 0.4595\n"
     ]
    },
    {
     "data": {
      "application/vnd.jupyter.widget-view+json": {
       "model_id": "2fbaf86e1fc04893a8a279f5ead2e2a3",
       "version_major": 2,
       "version_minor": 0
      },
      "text/plain": [
       "  0%|          | 0/11 [00:00<?, ?it/s]"
      ]
     },
     "metadata": {},
     "output_type": "display_data"
    },
    {
     "data": {
      "application/vnd.jupyter.widget-view+json": {
       "model_id": "b7b3b3152fe144cc99ab84ee32780fbd",
       "version_major": 2,
       "version_minor": 0
      },
      "text/plain": [
       "  0%|          | 0/2 [00:00<?, ?it/s]"
      ]
     },
     "metadata": {},
     "output_type": "display_data"
    },
    {
     "data": {
      "application/vnd.jupyter.widget-view+json": {
       "model_id": "c1ca2f41711d48f7a2dd16c48b6fb8c3",
       "version_major": 2,
       "version_minor": 0
      },
      "text/plain": [
       "Epochs:   0%|          | 0/1000 [00:00<?, ?it/s]"
      ]
     },
     "metadata": {},
     "output_type": "display_data"
    },
    {
     "name": "stdout",
     "output_type": "stream",
     "text": [
      "0 Epoch: 1/1000 - Train Loss: 5.4809;  Val Loss: 2.6676 Best Val loss 2.6676\n",
      "0 Epoch: 101/1000 - Train Loss: 0.0138;  Val Loss: 0.6487 Best Val loss 0.2475\n",
      "0 Epoch: 201/1000 - Train Loss: 0.0065;  Val Loss: 0.2427 Best Val loss 0.1817\n",
      "0 Epoch: 301/1000 - Train Loss: 0.0051;  Val Loss: 0.2037 Best Val loss 0.1614\n",
      "0 Epoch: 401/1000 - Train Loss: 0.0039;  Val Loss: 0.2162 Best Val loss 0.1458\n",
      "0 Epoch: 501/1000 - Train Loss: 0.0035;  Val Loss: 0.1610 Best Val loss 0.1458\n",
      "0 Epoch: 601/1000 - Train Loss: 0.0023;  Val Loss: 0.1483 Best Val loss 0.1449\n",
      "0 Epoch: 701/1000 - Train Loss: 0.0020;  Val Loss: 0.1594 Best Val loss 0.1449\n",
      "0 Epoch: 801/1000 - Train Loss: 0.0025;  Val Loss: 0.1712 Best Val loss 0.1449\n",
      "0 Epoch: 901/1000 - Train Loss: 0.0026;  Val Loss: 0.1608 Best Val loss 0.1449\n"
     ]
    },
    {
     "data": {
      "application/vnd.jupyter.widget-view+json": {
       "model_id": "5bd34c20f8dc40de9bc71b741d51a293",
       "version_major": 2,
       "version_minor": 0
      },
      "text/plain": [
       "  0%|          | 0/11 [00:00<?, ?it/s]"
      ]
     },
     "metadata": {},
     "output_type": "display_data"
    },
    {
     "data": {
      "application/vnd.jupyter.widget-view+json": {
       "model_id": "9be22a9f2d234eb997993265648e6b48",
       "version_major": 2,
       "version_minor": 0
      },
      "text/plain": [
       "  0%|          | 0/2 [00:00<?, ?it/s]"
      ]
     },
     "metadata": {},
     "output_type": "display_data"
    },
    {
     "data": {
      "application/vnd.jupyter.widget-view+json": {
       "model_id": "997132d2483145c98a76cb8f345da018",
       "version_major": 2,
       "version_minor": 0
      },
      "text/plain": [
       "Epochs:   0%|          | 0/1000 [00:00<?, ?it/s]"
      ]
     },
     "metadata": {},
     "output_type": "display_data"
    },
    {
     "name": "stdout",
     "output_type": "stream",
     "text": [
      "0 Epoch: 1/1000 - Train Loss: 5.5043;  Val Loss: 1.3815 Best Val loss 1.3815\n",
      "0 Epoch: 101/1000 - Train Loss: 0.0155;  Val Loss: 0.4977 Best Val loss 0.4182\n",
      "0 Epoch: 201/1000 - Train Loss: 0.0064;  Val Loss: 0.4685 Best Val loss 0.2501\n",
      "0 Epoch: 301/1000 - Train Loss: 0.0050;  Val Loss: 0.2406 Best Val loss 0.1631\n",
      "0 Epoch: 401/1000 - Train Loss: 0.0040;  Val Loss: 0.1718 Best Val loss 0.1360\n",
      "0 Epoch: 501/1000 - Train Loss: 0.0036;  Val Loss: 0.1669 Best Val loss 0.1317\n",
      "0 Epoch: 601/1000 - Train Loss: 0.0028;  Val Loss: 0.1420 Best Val loss 0.1317\n",
      "0 Epoch: 701/1000 - Train Loss: 0.0028;  Val Loss: 0.1639 Best Val loss 0.1312\n",
      "0 Epoch: 801/1000 - Train Loss: 0.0025;  Val Loss: 0.1365 Best Val loss 0.1257\n",
      "0 Epoch: 901/1000 - Train Loss: 0.0023;  Val Loss: 0.1309 Best Val loss 0.1257\n"
     ]
    },
    {
     "data": {
      "application/vnd.jupyter.widget-view+json": {
       "model_id": "9ca4f1f8791a4a60b6d1e0f3f6de0a43",
       "version_major": 2,
       "version_minor": 0
      },
      "text/plain": [
       "  0%|          | 0/11 [00:00<?, ?it/s]"
      ]
     },
     "metadata": {},
     "output_type": "display_data"
    },
    {
     "data": {
      "application/vnd.jupyter.widget-view+json": {
       "model_id": "52e769ac13ba4fb4902499dbc787f5e3",
       "version_major": 2,
       "version_minor": 0
      },
      "text/plain": [
       "  0%|          | 0/2 [00:00<?, ?it/s]"
      ]
     },
     "metadata": {},
     "output_type": "display_data"
    },
    {
     "data": {
      "application/vnd.jupyter.widget-view+json": {
       "model_id": "a215613b1f4f4d5098b67546f56ac0af",
       "version_major": 2,
       "version_minor": 0
      },
      "text/plain": [
       "Epochs:   0%|          | 0/1000 [00:00<?, ?it/s]"
      ]
     },
     "metadata": {},
     "output_type": "display_data"
    },
    {
     "name": "stdout",
     "output_type": "stream",
     "text": [
      "0 Epoch: 1/1000 - Train Loss: 5.6156;  Val Loss: 1.2778 Best Val loss 1.2778\n",
      "0 Epoch: 101/1000 - Train Loss: 0.0145;  Val Loss: 0.2584 Best Val loss 0.2058\n",
      "0 Epoch: 201/1000 - Train Loss: 0.0069;  Val Loss: 0.2642 Best Val loss 0.1696\n",
      "0 Epoch: 301/1000 - Train Loss: 0.0048;  Val Loss: 0.2022 Best Val loss 0.1631\n",
      "0 Epoch: 401/1000 - Train Loss: 0.0042;  Val Loss: 0.1699 Best Val loss 0.1548\n",
      "0 Epoch: 501/1000 - Train Loss: 0.0032;  Val Loss: 0.1635 Best Val loss 0.1548\n",
      "0 Epoch: 601/1000 - Train Loss: 0.0032;  Val Loss: 0.1694 Best Val loss 0.1530\n",
      "0 Epoch: 701/1000 - Train Loss: 0.0028;  Val Loss: 0.1681 Best Val loss 0.1530\n",
      "0 Epoch: 801/1000 - Train Loss: 0.0026;  Val Loss: 0.1666 Best Val loss 0.1510\n",
      "0 Epoch: 901/1000 - Train Loss: 0.0020;  Val Loss: 0.1666 Best Val loss 0.1510\n"
     ]
    },
    {
     "data": {
      "application/vnd.jupyter.widget-view+json": {
       "model_id": "ac8358e871c3434a816748ea66556978",
       "version_major": 2,
       "version_minor": 0
      },
      "text/plain": [
       "  0%|          | 0/11 [00:00<?, ?it/s]"
      ]
     },
     "metadata": {},
     "output_type": "display_data"
    },
    {
     "data": {
      "application/vnd.jupyter.widget-view+json": {
       "model_id": "b828e1faa0324c7fad3aaabbb73bb58e",
       "version_major": 2,
       "version_minor": 0
      },
      "text/plain": [
       "  0%|          | 0/2 [00:00<?, ?it/s]"
      ]
     },
     "metadata": {},
     "output_type": "display_data"
    },
    {
     "data": {
      "application/vnd.jupyter.widget-view+json": {
       "model_id": "181c8fa516f94b75bcac2579441457cf",
       "version_major": 2,
       "version_minor": 0
      },
      "text/plain": [
       "Epochs:   0%|          | 0/1000 [00:00<?, ?it/s]"
      ]
     },
     "metadata": {},
     "output_type": "display_data"
    },
    {
     "name": "stdout",
     "output_type": "stream",
     "text": [
      "0 Epoch: 1/1000 - Train Loss: 5.6247;  Val Loss: 1.4363 Best Val loss 1.4363\n",
      "0 Epoch: 101/1000 - Train Loss: 0.0173;  Val Loss: 0.6755 Best Val loss 0.4850\n",
      "0 Epoch: 201/1000 - Train Loss: 0.0066;  Val Loss: 0.3749 Best Val loss 0.3286\n",
      "0 Epoch: 301/1000 - Train Loss: 0.0053;  Val Loss: 0.2928 Best Val loss 0.2449\n",
      "0 Epoch: 401/1000 - Train Loss: 0.0038;  Val Loss: 0.2507 Best Val loss 0.2089\n",
      "0 Epoch: 501/1000 - Train Loss: 0.0040;  Val Loss: 0.2334 Best Val loss 0.1917\n",
      "0 Epoch: 601/1000 - Train Loss: 0.0027;  Val Loss: 0.2384 Best Val loss 0.1844\n",
      "0 Epoch: 701/1000 - Train Loss: 0.0024;  Val Loss: 0.2050 Best Val loss 0.1813\n",
      "0 Epoch: 801/1000 - Train Loss: 0.0040;  Val Loss: 0.1905 Best Val loss 0.1798\n",
      "0 Epoch: 901/1000 - Train Loss: 0.0028;  Val Loss: 0.1944 Best Val loss 0.1778\n"
     ]
    },
    {
     "data": {
      "application/vnd.jupyter.widget-view+json": {
       "model_id": "a4602fc5c08f4cdd82d4f67d1c57bd2e",
       "version_major": 2,
       "version_minor": 0
      },
      "text/plain": [
       "  0%|          | 0/10 [00:00<?, ?it/s]"
      ]
     },
     "metadata": {},
     "output_type": "display_data"
    },
    {
     "data": {
      "application/vnd.jupyter.widget-view+json": {
       "model_id": "e5a5da03fc4d49cebd77459d15a9dcd0",
       "version_major": 2,
       "version_minor": 0
      },
      "text/plain": [
       "  0%|          | 0/2 [00:00<?, ?it/s]"
      ]
     },
     "metadata": {},
     "output_type": "display_data"
    },
    {
     "name": "stdout",
     "output_type": "stream",
     "text": [
      "triplet loss lr C1 Accuracy 0.694+-0.031 F1 Score 0.678+-0.028  0.694+-0.031 | 0.678+-0.028\n"
     ]
    }
   ],
   "source": [
    "results = {\n",
    "    'test_accuracy' : [],\n",
    "    'test_precision' : [],\n",
    "    'test_recall' : [],\n",
    "    'test_f1' : []\n",
    "}\n",
    "\n",
    "embedding_dims = 100\n",
    "batch_size = 512\n",
    "epochs = 1000\n",
    "n_workers = 8\n",
    "\n",
    "for j, (train_index, val_index, test_index) in enumerate(cv_fold_i):\n",
    "    train_loader, train_loader_label, val_loader, test_loader = prepare_loaders(\n",
    "        emb_tab=embeddings_table, \n",
    "        y_column=df['assestment'].values, \n",
    "        batch_size=batch_size,\n",
    "        index_llist = [train_index, val_index, test_index],\n",
    "        sizes= [10,3],\n",
    "        n_workers=n_workers\n",
    "    )\n",
    "    \n",
    "    model = Network(embedding_dims)\n",
    "    model = model.to(device)\n",
    "    \n",
    "    if_norm = False \n",
    "    \n",
    "    train_loop(\n",
    "        model=model,\n",
    "        train_loader=train_loader,\n",
    "        val_loader=val_loader,\n",
    "        epochs=1000,\n",
    "        n_print=100,\n",
    "        if_norm=if_norm,\n",
    "        optimizer=optim.Adam(model.parameters(), lr=1e-4, weight_decay=1e-5),\n",
    "        criterion=TripletLoss(),\n",
    "        n_model=0,\n",
    "        model_name='model_X.pt'\n",
    "    )\n",
    "    \n",
    "    model = torch.load('models/model_X.pt')\n",
    "    \n",
    "    \n",
    "    train_results = []\n",
    "    labels = []\n",
    "\n",
    "    model.eval()\n",
    "    with torch.no_grad():\n",
    "        for anchor_claim, label in tqdm(train_loader_label):\n",
    "            anchor_claim = anchor_claim.to(device) if if_norm else (anchor_claim / torch.norm(anchor_claim) ).to(device)\n",
    "\n",
    "            train_results.append(model(anchor_claim).cpu().numpy())\n",
    "            labels.append(label)\n",
    "\n",
    "    train_results = np.concatenate(train_results) \n",
    "    labels = np.concatenate(labels)\n",
    "    train_results.shape\n",
    "\n",
    "    \n",
    "    test_results = []\n",
    "    test_labels = []\n",
    "\n",
    "    model.eval()\n",
    "    with torch.no_grad():\n",
    "        for anchor_claim, label in tqdm(test_loader):\n",
    "            anchor_claim = anchor_claim.to(device) if if_norm else (anchor_claim / torch.norm(anchor_claim) ).to(device)\n",
    "\n",
    "            test_results.append(model(anchor_claim).cpu().numpy())\n",
    "            test_labels.append(label)\n",
    "\n",
    "    test_results = np.concatenate(test_results)\n",
    "    test_labels = np.concatenate(test_labels)\n",
    "    test_results.shape\n",
    "\n",
    "    \n",
    "    clf_lr_1 = LogisticRegression(max_iter=5000, C=1, penalty='l2', solver='liblinear')\n",
    "\n",
    "    y_train_t = labels\n",
    "    X_train_t = train_results\n",
    "    y_test_t = test_labels\n",
    "    X_test_t = test_results\n",
    "\n",
    "    clf_lr_1.fit(X_train_t, y_train_t)\n",
    "\n",
    "    y_pred = clf_lr_1.predict(X_test_t)\n",
    "\n",
    "    results['test_accuracy'].append( accuracy_score(y_test_t, y_pred) ) \n",
    "    results['test_precision'].append( precision_score(y_test_t, y_pred) ) \n",
    "    results['test_recall'].append( recall_score(y_test_t, y_pred) ) \n",
    "    results['test_f1'].append( f1_score(y_test_t, y_pred) ) \n",
    "\n",
    "\n",
    "out = {\n",
    "    \"Accuracy\": np.array(results['test_accuracy']),\n",
    "#     \"Precision\": np.array(results['test_precision']).mean(),\n",
    "#     \"Recall\": np.array(results['test_recall']).mean(),\n",
    "    \"F1 Score\":  np.array(results['test_f1']),\n",
    "    }\n",
    "\n",
    "print(\n",
    "    'triplet loss lr C1',\n",
    "    f'Accuracy {out[\"Accuracy\"].mean():.3f}+-{out[\"Accuracy\"].std():.3f}',\n",
    "    f'F1 Score {out[\"F1 Score\"].mean():.3f}+-{out[\"F1 Score\"].std():.3f}',\n",
    "    f' {out[\"Accuracy\"].mean():.3f}+-{out[\"Accuracy\"].std():.3f} | {out[\"F1 Score\"].mean():.3f}+-{out[\"F1 Score\"].std():.3f}'\n",
    ")    "
   ]
  },
  {
   "cell_type": "markdown",
   "metadata": {},
   "source": [
    "### Get use best models"
   ]
  },
  {
   "cell_type": "code",
   "execution_count": 51,
   "metadata": {},
   "outputs": [
    {
     "data": {
      "application/vnd.jupyter.widget-view+json": {
       "model_id": "644cac8e794f4cb69b79d83ba8650efe",
       "version_major": 2,
       "version_minor": 0
      },
      "text/plain": [
       "Epochs:   0%|          | 0/1000 [00:00<?, ?it/s]"
      ]
     },
     "metadata": {},
     "output_type": "display_data"
    },
    {
     "name": "stdout",
     "output_type": "stream",
     "text": [
      "0 Epoch: 1/1000 - Train Loss: 5.6703;  Val Loss: 1.2954 Best Val loss 1.2954\n",
      "0 Epoch: 101/1000 - Train Loss: 0.0166;  Val Loss: 0.9712 Best Val loss 0.9415\n",
      "0 Epoch: 201/1000 - Train Loss: 0.0080;  Val Loss: 0.9636 Best Val loss 0.9397\n",
      "0 Epoch: 301/1000 - Train Loss: 0.0058;  Val Loss: 0.9690 Best Val loss 0.9238\n",
      "0 Epoch: 401/1000 - Train Loss: 0.0056;  Val Loss: 0.9351 Best Val loss 0.9118\n",
      "0 Epoch: 501/1000 - Train Loss: 0.0040;  Val Loss: 0.9093 Best Val loss 0.9019\n",
      "0 Epoch: 601/1000 - Train Loss: 0.0041;  Val Loss: 0.9109 Best Val loss 0.8879\n",
      "0 Epoch: 701/1000 - Train Loss: 0.0022;  Val Loss: 1.0005 Best Val loss 0.8863\n",
      "0 Epoch: 801/1000 - Train Loss: 0.0030;  Val Loss: 1.0027 Best Val loss 0.8863\n",
      "0 Epoch: 901/1000 - Train Loss: 0.0026;  Val Loss: 0.9688 Best Val loss 0.8863\n"
     ]
    },
    {
     "data": {
      "application/vnd.jupyter.widget-view+json": {
       "model_id": "c8b65bd1879942a1b2fd5fb60f725ae6",
       "version_major": 2,
       "version_minor": 0
      },
      "text/plain": [
       "  0%|          | 0/11 [00:00<?, ?it/s]"
      ]
     },
     "metadata": {},
     "output_type": "display_data"
    },
    {
     "data": {
      "application/vnd.jupyter.widget-view+json": {
       "model_id": "403f7d32e6cc49a5a85b5b454265d9cf",
       "version_major": 2,
       "version_minor": 0
      },
      "text/plain": [
       "  0%|          | 0/2 [00:00<?, ?it/s]"
      ]
     },
     "metadata": {},
     "output_type": "display_data"
    },
    {
     "data": {
      "application/vnd.jupyter.widget-view+json": {
       "model_id": "013eaf0b14394ed7b6db8e94da3f13c1",
       "version_major": 2,
       "version_minor": 0
      },
      "text/plain": [
       "Epochs:   0%|          | 0/1000 [00:00<?, ?it/s]"
      ]
     },
     "metadata": {},
     "output_type": "display_data"
    },
    {
     "name": "stdout",
     "output_type": "stream",
     "text": [
      "0 Epoch: 1/1000 - Train Loss: 5.6029;  Val Loss: 1.4145 Best Val loss 1.4145\n",
      "0 Epoch: 101/1000 - Train Loss: 0.0243;  Val Loss: 0.9719 Best Val loss 0.9512\n",
      "0 Epoch: 201/1000 - Train Loss: 0.0066;  Val Loss: 0.9553 Best Val loss 0.9315\n",
      "0 Epoch: 301/1000 - Train Loss: 0.0067;  Val Loss: 0.9424 Best Val loss 0.9078\n",
      "0 Epoch: 401/1000 - Train Loss: 0.0053;  Val Loss: 0.8994 Best Val loss 0.8994\n",
      "0 Epoch: 501/1000 - Train Loss: 0.0036;  Val Loss: 0.9018 Best Val loss 0.8771\n",
      "0 Epoch: 601/1000 - Train Loss: 0.0041;  Val Loss: 0.9445 Best Val loss 0.8648\n",
      "0 Epoch: 701/1000 - Train Loss: 0.0045;  Val Loss: 0.9446 Best Val loss 0.8648\n",
      "0 Epoch: 801/1000 - Train Loss: 0.0034;  Val Loss: 0.9362 Best Val loss 0.8648\n",
      "0 Epoch: 901/1000 - Train Loss: 0.0041;  Val Loss: 0.9752 Best Val loss 0.8648\n"
     ]
    },
    {
     "data": {
      "application/vnd.jupyter.widget-view+json": {
       "model_id": "a58d85f403fb4566a066a5b041673b59",
       "version_major": 2,
       "version_minor": 0
      },
      "text/plain": [
       "  0%|          | 0/11 [00:00<?, ?it/s]"
      ]
     },
     "metadata": {},
     "output_type": "display_data"
    },
    {
     "data": {
      "application/vnd.jupyter.widget-view+json": {
       "model_id": "7bfbef6186a64a6bb051706cf51d52c2",
       "version_major": 2,
       "version_minor": 0
      },
      "text/plain": [
       "  0%|          | 0/2 [00:00<?, ?it/s]"
      ]
     },
     "metadata": {},
     "output_type": "display_data"
    },
    {
     "data": {
      "application/vnd.jupyter.widget-view+json": {
       "model_id": "22f6a4368b2b41279141a95d0ae6d2e7",
       "version_major": 2,
       "version_minor": 0
      },
      "text/plain": [
       "Epochs:   0%|          | 0/1000 [00:00<?, ?it/s]"
      ]
     },
     "metadata": {},
     "output_type": "display_data"
    },
    {
     "name": "stdout",
     "output_type": "stream",
     "text": [
      "0 Epoch: 1/1000 - Train Loss: 5.4580;  Val Loss: 1.4915 Best Val loss 1.4915\n",
      "0 Epoch: 101/1000 - Train Loss: 0.0169;  Val Loss: 0.9889 Best Val loss 0.9566\n",
      "0 Epoch: 201/1000 - Train Loss: 0.0093;  Val Loss: 0.9911 Best Val loss 0.9566\n",
      "0 Epoch: 301/1000 - Train Loss: 0.0057;  Val Loss: 0.9576 Best Val loss 0.9488\n",
      "0 Epoch: 401/1000 - Train Loss: 0.0052;  Val Loss: 0.9575 Best Val loss 0.9406\n",
      "0 Epoch: 501/1000 - Train Loss: 0.0058;  Val Loss: 0.9392 Best Val loss 0.9144\n",
      "0 Epoch: 601/1000 - Train Loss: 0.0033;  Val Loss: 0.9463 Best Val loss 0.9142\n",
      "0 Epoch: 701/1000 - Train Loss: 0.0037;  Val Loss: 0.9263 Best Val loss 0.9142\n",
      "0 Epoch: 801/1000 - Train Loss: 0.0028;  Val Loss: 0.9612 Best Val loss 0.9100\n",
      "0 Epoch: 901/1000 - Train Loss: 0.0037;  Val Loss: 0.9971 Best Val loss 0.9100\n"
     ]
    },
    {
     "data": {
      "application/vnd.jupyter.widget-view+json": {
       "model_id": "e803baa36fa84b99a0bad5252dae6562",
       "version_major": 2,
       "version_minor": 0
      },
      "text/plain": [
       "  0%|          | 0/11 [00:00<?, ?it/s]"
      ]
     },
     "metadata": {},
     "output_type": "display_data"
    },
    {
     "data": {
      "application/vnd.jupyter.widget-view+json": {
       "model_id": "1667756427c546e3ba7cec9c4d1a0f0d",
       "version_major": 2,
       "version_minor": 0
      },
      "text/plain": [
       "  0%|          | 0/2 [00:00<?, ?it/s]"
      ]
     },
     "metadata": {},
     "output_type": "display_data"
    },
    {
     "data": {
      "application/vnd.jupyter.widget-view+json": {
       "model_id": "d854e069f29742c5b60da1db62868c77",
       "version_major": 2,
       "version_minor": 0
      },
      "text/plain": [
       "Epochs:   0%|          | 0/1000 [00:00<?, ?it/s]"
      ]
     },
     "metadata": {},
     "output_type": "display_data"
    },
    {
     "name": "stdout",
     "output_type": "stream",
     "text": [
      "0 Epoch: 1/1000 - Train Loss: 5.4317;  Val Loss: 1.3873 Best Val loss 1.3873\n",
      "0 Epoch: 101/1000 - Train Loss: 0.0163;  Val Loss: 0.9753 Best Val loss 0.9598\n",
      "0 Epoch: 201/1000 - Train Loss: 0.0095;  Val Loss: 0.9805 Best Val loss 0.9593\n",
      "0 Epoch: 301/1000 - Train Loss: 0.0054;  Val Loss: 0.9413 Best Val loss 0.9354\n",
      "0 Epoch: 401/1000 - Train Loss: 0.0061;  Val Loss: 0.9942 Best Val loss 0.9169\n",
      "0 Epoch: 501/1000 - Train Loss: 0.0045;  Val Loss: 0.9639 Best Val loss 0.9087\n",
      "0 Epoch: 601/1000 - Train Loss: 0.0037;  Val Loss: 0.9829 Best Val loss 0.9087\n",
      "0 Epoch: 701/1000 - Train Loss: 0.0045;  Val Loss: 0.9351 Best Val loss 0.9068\n",
      "0 Epoch: 801/1000 - Train Loss: 0.0035;  Val Loss: 0.9813 Best Val loss 0.9068\n",
      "0 Epoch: 901/1000 - Train Loss: 0.0029;  Val Loss: 1.0686 Best Val loss 0.9068\n"
     ]
    },
    {
     "data": {
      "application/vnd.jupyter.widget-view+json": {
       "model_id": "807511c52b41496eb2f22c44a0b8e428",
       "version_major": 2,
       "version_minor": 0
      },
      "text/plain": [
       "  0%|          | 0/11 [00:00<?, ?it/s]"
      ]
     },
     "metadata": {},
     "output_type": "display_data"
    },
    {
     "data": {
      "application/vnd.jupyter.widget-view+json": {
       "model_id": "39e7179795374f08be96d3fbe07938a1",
       "version_major": 2,
       "version_minor": 0
      },
      "text/plain": [
       "  0%|          | 0/2 [00:00<?, ?it/s]"
      ]
     },
     "metadata": {},
     "output_type": "display_data"
    },
    {
     "data": {
      "application/vnd.jupyter.widget-view+json": {
       "model_id": "a6e480221dc94d73a73a8b257099d7ec",
       "version_major": 2,
       "version_minor": 0
      },
      "text/plain": [
       "Epochs:   0%|          | 0/1000 [00:00<?, ?it/s]"
      ]
     },
     "metadata": {},
     "output_type": "display_data"
    },
    {
     "name": "stdout",
     "output_type": "stream",
     "text": [
      "0 Epoch: 1/1000 - Train Loss: 5.5111;  Val Loss: 1.3362 Best Val loss 1.3362\n",
      "0 Epoch: 101/1000 - Train Loss: 0.0177;  Val Loss: 0.9846 Best Val loss 0.9476\n",
      "0 Epoch: 201/1000 - Train Loss: 0.0061;  Val Loss: 0.9783 Best Val loss 0.9476\n",
      "0 Epoch: 301/1000 - Train Loss: 0.0047;  Val Loss: 0.9614 Best Val loss 0.9428\n",
      "0 Epoch: 401/1000 - Train Loss: 0.0029;  Val Loss: 0.9573 Best Val loss 0.9182\n",
      "0 Epoch: 501/1000 - Train Loss: 0.0026;  Val Loss: 0.9222 Best Val loss 0.9030\n",
      "0 Epoch: 601/1000 - Train Loss: 0.0028;  Val Loss: 0.9609 Best Val loss 0.8930\n",
      "0 Epoch: 701/1000 - Train Loss: 0.0041;  Val Loss: 1.0528 Best Val loss 0.8930\n",
      "0 Epoch: 801/1000 - Train Loss: 0.0022;  Val Loss: 1.0297 Best Val loss 0.8930\n",
      "0 Epoch: 901/1000 - Train Loss: 0.0017;  Val Loss: 1.0161 Best Val loss 0.8930\n"
     ]
    },
    {
     "data": {
      "application/vnd.jupyter.widget-view+json": {
       "model_id": "a6c74effe3504654a9130ada18381f5a",
       "version_major": 2,
       "version_minor": 0
      },
      "text/plain": [
       "  0%|          | 0/11 [00:00<?, ?it/s]"
      ]
     },
     "metadata": {},
     "output_type": "display_data"
    },
    {
     "data": {
      "application/vnd.jupyter.widget-view+json": {
       "model_id": "03cd53d75fd448778e03f50d5c2888ac",
       "version_major": 2,
       "version_minor": 0
      },
      "text/plain": [
       "  0%|          | 0/2 [00:00<?, ?it/s]"
      ]
     },
     "metadata": {},
     "output_type": "display_data"
    },
    {
     "data": {
      "application/vnd.jupyter.widget-view+json": {
       "model_id": "36cc2c57ff87493180c971f8cdd6d80f",
       "version_major": 2,
       "version_minor": 0
      },
      "text/plain": [
       "Epochs:   0%|          | 0/1000 [00:00<?, ?it/s]"
      ]
     },
     "metadata": {},
     "output_type": "display_data"
    },
    {
     "name": "stdout",
     "output_type": "stream",
     "text": [
      "0 Epoch: 1/1000 - Train Loss: 5.2926;  Val Loss: 1.2223 Best Val loss 1.2223\n",
      "0 Epoch: 101/1000 - Train Loss: 0.0156;  Val Loss: 0.9898 Best Val loss 0.9606\n",
      "0 Epoch: 201/1000 - Train Loss: 0.0066;  Val Loss: 0.9831 Best Val loss 0.9606\n",
      "0 Epoch: 301/1000 - Train Loss: 0.0044;  Val Loss: 0.9615 Best Val loss 0.9479\n",
      "0 Epoch: 401/1000 - Train Loss: 0.0064;  Val Loss: 0.9745 Best Val loss 0.9370\n",
      "0 Epoch: 501/1000 - Train Loss: 0.0048;  Val Loss: 0.9422 Best Val loss 0.9205\n",
      "0 Epoch: 601/1000 - Train Loss: 0.0048;  Val Loss: 0.9872 Best Val loss 0.9205\n",
      "0 Epoch: 701/1000 - Train Loss: 0.0027;  Val Loss: 0.9954 Best Val loss 0.9205\n",
      "0 Epoch: 801/1000 - Train Loss: 0.0030;  Val Loss: 0.9960 Best Val loss 0.9205\n",
      "0 Epoch: 901/1000 - Train Loss: 0.0035;  Val Loss: 1.0238 Best Val loss 0.9205\n"
     ]
    },
    {
     "data": {
      "application/vnd.jupyter.widget-view+json": {
       "model_id": "4723b6fffa894949a83add33d94e8db5",
       "version_major": 2,
       "version_minor": 0
      },
      "text/plain": [
       "  0%|          | 0/11 [00:00<?, ?it/s]"
      ]
     },
     "metadata": {},
     "output_type": "display_data"
    },
    {
     "data": {
      "application/vnd.jupyter.widget-view+json": {
       "model_id": "6608a471200c455ab9d1325734e5eb95",
       "version_major": 2,
       "version_minor": 0
      },
      "text/plain": [
       "  0%|          | 0/2 [00:00<?, ?it/s]"
      ]
     },
     "metadata": {},
     "output_type": "display_data"
    },
    {
     "data": {
      "application/vnd.jupyter.widget-view+json": {
       "model_id": "f3eb2c0975044521bfc60893668ed971",
       "version_major": 2,
       "version_minor": 0
      },
      "text/plain": [
       "Epochs:   0%|          | 0/1000 [00:00<?, ?it/s]"
      ]
     },
     "metadata": {},
     "output_type": "display_data"
    },
    {
     "name": "stdout",
     "output_type": "stream",
     "text": [
      "0 Epoch: 1/1000 - Train Loss: 5.6293;  Val Loss: 1.4478 Best Val loss 1.4478\n",
      "0 Epoch: 101/1000 - Train Loss: 0.0191;  Val Loss: 0.9864 Best Val loss 0.9488\n",
      "0 Epoch: 201/1000 - Train Loss: 0.0081;  Val Loss: 0.9534 Best Val loss 0.9488\n",
      "0 Epoch: 301/1000 - Train Loss: 0.0055;  Val Loss: 0.9226 Best Val loss 0.9226\n",
      "0 Epoch: 401/1000 - Train Loss: 0.0044;  Val Loss: 0.9178 Best Val loss 0.9032\n",
      "0 Epoch: 501/1000 - Train Loss: 0.0032;  Val Loss: 0.9677 Best Val loss 0.9032\n",
      "0 Epoch: 601/1000 - Train Loss: 0.0035;  Val Loss: 0.9839 Best Val loss 0.9032\n",
      "0 Epoch: 701/1000 - Train Loss: 0.0029;  Val Loss: 0.9293 Best Val loss 0.9032\n",
      "0 Epoch: 801/1000 - Train Loss: 0.0026;  Val Loss: 1.0252 Best Val loss 0.9032\n",
      "0 Epoch: 901/1000 - Train Loss: 0.0042;  Val Loss: 1.1247 Best Val loss 0.9032\n"
     ]
    },
    {
     "data": {
      "application/vnd.jupyter.widget-view+json": {
       "model_id": "532dbdd374c140598cd85f41ddf6c6ff",
       "version_major": 2,
       "version_minor": 0
      },
      "text/plain": [
       "  0%|          | 0/11 [00:00<?, ?it/s]"
      ]
     },
     "metadata": {},
     "output_type": "display_data"
    },
    {
     "data": {
      "application/vnd.jupyter.widget-view+json": {
       "model_id": "ec6d1ed02b4f48bdb18a8a10789cde96",
       "version_major": 2,
       "version_minor": 0
      },
      "text/plain": [
       "  0%|          | 0/2 [00:00<?, ?it/s]"
      ]
     },
     "metadata": {},
     "output_type": "display_data"
    },
    {
     "data": {
      "application/vnd.jupyter.widget-view+json": {
       "model_id": "e2536802dad248c7b37041047fa82e32",
       "version_major": 2,
       "version_minor": 0
      },
      "text/plain": [
       "Epochs:   0%|          | 0/1000 [00:00<?, ?it/s]"
      ]
     },
     "metadata": {},
     "output_type": "display_data"
    },
    {
     "name": "stdout",
     "output_type": "stream",
     "text": [
      "0 Epoch: 1/1000 - Train Loss: 5.4919;  Val Loss: 1.3163 Best Val loss 1.3163\n",
      "0 Epoch: 101/1000 - Train Loss: 0.0189;  Val Loss: 0.9858 Best Val loss 0.9451\n",
      "0 Epoch: 201/1000 - Train Loss: 0.0062;  Val Loss: 0.9894 Best Val loss 0.9451\n",
      "0 Epoch: 301/1000 - Train Loss: 0.0068;  Val Loss: 0.9660 Best Val loss 0.9446\n",
      "0 Epoch: 401/1000 - Train Loss: 0.0038;  Val Loss: 0.9460 Best Val loss 0.9207\n",
      "0 Epoch: 501/1000 - Train Loss: 0.0044;  Val Loss: 0.9012 Best Val loss 0.9012\n",
      "0 Epoch: 601/1000 - Train Loss: 0.0039;  Val Loss: 0.9217 Best Val loss 0.8980\n",
      "0 Epoch: 701/1000 - Train Loss: 0.0028;  Val Loss: 0.9707 Best Val loss 0.8973\n",
      "0 Epoch: 801/1000 - Train Loss: 0.0045;  Val Loss: 0.9580 Best Val loss 0.8973\n",
      "0 Epoch: 901/1000 - Train Loss: 0.0030;  Val Loss: 1.0051 Best Val loss 0.8973\n"
     ]
    },
    {
     "data": {
      "application/vnd.jupyter.widget-view+json": {
       "model_id": "0e66ade43f41430e83ee9b8c8541d7c6",
       "version_major": 2,
       "version_minor": 0
      },
      "text/plain": [
       "  0%|          | 0/11 [00:00<?, ?it/s]"
      ]
     },
     "metadata": {},
     "output_type": "display_data"
    },
    {
     "data": {
      "application/vnd.jupyter.widget-view+json": {
       "model_id": "823499e41d894d58b1cdd1408f05defb",
       "version_major": 2,
       "version_minor": 0
      },
      "text/plain": [
       "  0%|          | 0/2 [00:00<?, ?it/s]"
      ]
     },
     "metadata": {},
     "output_type": "display_data"
    },
    {
     "data": {
      "application/vnd.jupyter.widget-view+json": {
       "model_id": "2513b258903d43db96bb5869dfc75383",
       "version_major": 2,
       "version_minor": 0
      },
      "text/plain": [
       "Epochs:   0%|          | 0/1000 [00:00<?, ?it/s]"
      ]
     },
     "metadata": {},
     "output_type": "display_data"
    },
    {
     "name": "stdout",
     "output_type": "stream",
     "text": [
      "0 Epoch: 1/1000 - Train Loss: 5.4186;  Val Loss: 1.3113 Best Val loss 1.3113\n",
      "0 Epoch: 101/1000 - Train Loss: 0.0204;  Val Loss: 0.9950 Best Val loss 0.9690\n",
      "0 Epoch: 201/1000 - Train Loss: 0.0091;  Val Loss: 0.9875 Best Val loss 0.9690\n",
      "0 Epoch: 301/1000 - Train Loss: 0.0079;  Val Loss: 0.9773 Best Val loss 0.9599\n",
      "0 Epoch: 401/1000 - Train Loss: 0.0070;  Val Loss: 0.9179 Best Val loss 0.9179\n",
      "0 Epoch: 501/1000 - Train Loss: 0.0049;  Val Loss: 0.9714 Best Val loss 0.9179\n",
      "0 Epoch: 601/1000 - Train Loss: 0.0042;  Val Loss: 0.9963 Best Val loss 0.9179\n",
      "0 Epoch: 701/1000 - Train Loss: 0.0044;  Val Loss: 0.9556 Best Val loss 0.9156\n",
      "0 Epoch: 801/1000 - Train Loss: 0.0050;  Val Loss: 0.9697 Best Val loss 0.9156\n",
      "0 Epoch: 901/1000 - Train Loss: 0.0035;  Val Loss: 0.9961 Best Val loss 0.9156\n"
     ]
    },
    {
     "data": {
      "application/vnd.jupyter.widget-view+json": {
       "model_id": "a49c578dca1949eca6a4fb87fb6a1b9d",
       "version_major": 2,
       "version_minor": 0
      },
      "text/plain": [
       "  0%|          | 0/11 [00:00<?, ?it/s]"
      ]
     },
     "metadata": {},
     "output_type": "display_data"
    },
    {
     "data": {
      "application/vnd.jupyter.widget-view+json": {
       "model_id": "f193ffa4c284421a9f35cf5745718c27",
       "version_major": 2,
       "version_minor": 0
      },
      "text/plain": [
       "  0%|          | 0/2 [00:00<?, ?it/s]"
      ]
     },
     "metadata": {},
     "output_type": "display_data"
    },
    {
     "data": {
      "application/vnd.jupyter.widget-view+json": {
       "model_id": "3f921313bc7e4f7c9084cd4f50cf1998",
       "version_major": 2,
       "version_minor": 0
      },
      "text/plain": [
       "Epochs:   0%|          | 0/1000 [00:00<?, ?it/s]"
      ]
     },
     "metadata": {},
     "output_type": "display_data"
    },
    {
     "name": "stdout",
     "output_type": "stream",
     "text": [
      "0 Epoch: 1/1000 - Train Loss: 5.5356;  Val Loss: 1.4370 Best Val loss 1.4370\n",
      "0 Epoch: 101/1000 - Train Loss: 0.0222;  Val Loss: 0.9846 Best Val loss 0.9434\n",
      "0 Epoch: 201/1000 - Train Loss: 0.0086;  Val Loss: 0.9872 Best Val loss 0.9434\n",
      "0 Epoch: 301/1000 - Train Loss: 0.0058;  Val Loss: 0.9804 Best Val loss 0.9434\n",
      "0 Epoch: 401/1000 - Train Loss: 0.0051;  Val Loss: 0.9713 Best Val loss 0.9434\n",
      "0 Epoch: 501/1000 - Train Loss: 0.0048;  Val Loss: 0.9620 Best Val loss 0.9259\n",
      "0 Epoch: 601/1000 - Train Loss: 0.0027;  Val Loss: 0.9535 Best Val loss 0.9259\n",
      "0 Epoch: 701/1000 - Train Loss: 0.0037;  Val Loss: 0.9527 Best Val loss 0.9259\n",
      "0 Epoch: 801/1000 - Train Loss: 0.0041;  Val Loss: 0.9523 Best Val loss 0.9228\n",
      "0 Epoch: 901/1000 - Train Loss: 0.0035;  Val Loss: 0.9519 Best Val loss 0.9228\n"
     ]
    },
    {
     "data": {
      "application/vnd.jupyter.widget-view+json": {
       "model_id": "4240b5c8afb44cffba303a0f28b8f019",
       "version_major": 2,
       "version_minor": 0
      },
      "text/plain": [
       "  0%|          | 0/11 [00:00<?, ?it/s]"
      ]
     },
     "metadata": {},
     "output_type": "display_data"
    },
    {
     "data": {
      "application/vnd.jupyter.widget-view+json": {
       "model_id": "c9853dc6052242e7b39411656dc111c5",
       "version_major": 2,
       "version_minor": 0
      },
      "text/plain": [
       "  0%|          | 0/2 [00:00<?, ?it/s]"
      ]
     },
     "metadata": {},
     "output_type": "display_data"
    },
    {
     "name": "stdout",
     "output_type": "stream",
     "text": [
      "triplet loss lr C1 Accuracy 0.691+-0.062 F1 Score 0.677+-0.041  0.691+-0.062 | 0.677+-0.041\n"
     ]
    }
   ],
   "source": [
    "results = {\n",
    "    'test_accuracy' : [],\n",
    "    'test_precision' : [],\n",
    "    'test_recall' : [],\n",
    "    'test_f1' : []\n",
    "}\n",
    "\n",
    "embedding_dims = 100\n",
    "batch_size = 512\n",
    "epochs = 1000\n",
    "n_workers = 8\n",
    "\n",
    "for j, (train_index, val_index, test_index) in enumerate(cv_Kfold_i):\n",
    "    train_loader, train_loader_label, val_loader, test_loader = prepare_loaders(\n",
    "        emb_tab=embeddings_table, \n",
    "        y_column=df['assestment'].values, \n",
    "        batch_size=batch_size,\n",
    "        index_llist = [train_index, val_index, test_index],\n",
    "        sizes= [10,3],\n",
    "        n_workers=n_workers\n",
    "    )\n",
    "    \n",
    "    model = Network(embedding_dims)\n",
    "    model = model.to(device)\n",
    "\n",
    "    train_loop(\n",
    "        model=model,\n",
    "        train_loader=train_loader,\n",
    "        val_loader=val_loader,\n",
    "        epochs=1000,\n",
    "        n_print=100,\n",
    "        if_norm=False,\n",
    "        optimizer=optim.Adam(model.parameters(), lr=1e-4, weight_decay=1e-5),\n",
    "        criterion=TripletLoss(),\n",
    "        n_model=0,\n",
    "        model_name='model_X.pt'\n",
    "    )\n",
    "    \n",
    "    model = torch.load('models/model_X.pt')\n",
    "    \n",
    "    \n",
    "    train_results = []\n",
    "    labels = []\n",
    "\n",
    "    model.eval()\n",
    "    with torch.no_grad():\n",
    "        for anchor_claim, label in tqdm(train_loader_label):\n",
    "            anchor_claim = anchor_claim.to(device) if if_norm else (anchor_claim / torch.norm(anchor_claim) ).to(device)\n",
    "\n",
    "            train_results.append(model(anchor_claim).cpu().numpy())\n",
    "            labels.append(label)\n",
    "\n",
    "    train_results = np.concatenate(train_results) \n",
    "    labels = np.concatenate(labels)\n",
    "    train_results.shape\n",
    "\n",
    "    \n",
    "    test_results = []\n",
    "    test_labels = []\n",
    "\n",
    "    model.eval()\n",
    "    with torch.no_grad():\n",
    "        for anchor_claim, label in tqdm(test_loader):\n",
    "            anchor_claim = anchor_claim.to(device) if if_norm else (anchor_claim / torch.norm(anchor_claim) ).to(device)\n",
    "\n",
    "            test_results.append(model(anchor_claim).cpu().numpy())\n",
    "            test_labels.append(label)\n",
    "\n",
    "    test_results = np.concatenate(test_results)\n",
    "    test_labels = np.concatenate(test_labels)\n",
    "    test_results.shape\n",
    "\n",
    "    \n",
    "    clf_lr_1 = LogisticRegression(max_iter=5000, C=1, penalty='l2', solver='liblinear')\n",
    "\n",
    "    y_train_t = labels\n",
    "    X_train_t = train_results\n",
    "    y_test_t = test_labels\n",
    "    X_test_t = test_results\n",
    "\n",
    "    clf_lr_1.fit(X_train_t, y_train_t)\n",
    "\n",
    "    y_pred = clf_lr_1.predict(X_test_t)\n",
    "\n",
    "    results['test_accuracy'].append( accuracy_score(y_test_t, y_pred) ) \n",
    "    results['test_precision'].append( precision_score(y_test_t, y_pred) ) \n",
    "    results['test_recall'].append( recall_score(y_test_t, y_pred) ) \n",
    "    results['test_f1'].append( f1_score(y_test_t, y_pred) ) \n",
    "\n",
    "\n",
    "out = {\n",
    "    \"Accuracy\": np.array(results['test_accuracy']),\n",
    "#     \"Precision\": np.array(results['test_precision']).mean(),\n",
    "#     \"Recall\": np.array(results['test_recall']).mean(),\n",
    "    \"F1 Score\":  np.array(results['test_f1']),\n",
    "    }\n",
    "\n",
    "print(\n",
    "    'triplet loss lr C1',\n",
    "    f'Accuracy {out[\"Accuracy\"].mean():.3f}+-{out[\"Accuracy\"].std():.3f}',\n",
    "    f'F1 Score {out[\"F1 Score\"].mean():.3f}+-{out[\"F1 Score\"].std():.3f}',\n",
    "    f' {out[\"Accuracy\"].mean():.3f}+-{out[\"Accuracy\"].std():.3f} | {out[\"F1 Score\"].mean():.3f}+-{out[\"F1 Score\"].std():.3f}'\n",
    ")    "
   ]
  },
  {
   "cell_type": "code",
   "execution_count": null,
   "metadata": {},
   "outputs": [],
   "source": []
  }
 ],
 "metadata": {
  "kernelspec": {
   "display_name": "Python 3 (ipykernel)",
   "language": "python",
   "name": "python3"
  },
  "language_info": {
   "codemirror_mode": {
    "name": "ipython",
    "version": 3
   },
   "file_extension": ".py",
   "mimetype": "text/x-python",
   "name": "python",
   "nbconvert_exporter": "python",
   "pygments_lexer": "ipython3",
   "version": "3.9.13"
  }
 },
 "nbformat": 4,
 "nbformat_minor": 4
}
