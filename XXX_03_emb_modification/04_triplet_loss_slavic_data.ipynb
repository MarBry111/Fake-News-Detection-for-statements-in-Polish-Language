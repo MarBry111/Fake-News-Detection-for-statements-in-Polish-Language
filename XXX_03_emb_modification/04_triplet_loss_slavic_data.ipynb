{
 "cells": [
  {
   "cell_type": "code",
   "execution_count": 1,
   "metadata": {
    "execution": {
     "iopub.execute_input": "2022-11-19T17:44:38.920398Z",
     "iopub.status.busy": "2022-11-19T17:44:38.919494Z",
     "iopub.status.idle": "2022-11-19T17:44:38.927463Z",
     "shell.execute_reply": "2022-11-19T17:44:38.926351Z",
     "shell.execute_reply.started": "2022-11-19T17:44:38.920358Z"
    }
   },
   "outputs": [
    {
     "name": "stderr",
     "output_type": "stream",
     "text": [
      "/home/marek/anaconda3/envs/nlp/lib/python3.9/site-packages/huggingface_hub/snapshot_download.py:6: FutureWarning: snapshot_download.py has been made private and will no longer be available from version 0.11. Please use `from huggingface_hub import snapshot_download` to import the only public function in this module. Other members of the file may be changed without a deprecation notice.\n",
      "  warnings.warn(\n"
     ]
    }
   ],
   "source": [
    "import time\n",
    "import torch\n",
    "import random\n",
    "import numpy as np\n",
    "import pandas as pd\n",
    "import torch.nn as nn\n",
    "import torch.optim as optim\n",
    "from tqdm.notebook import tqdm\n",
    "import matplotlib.pyplot as plt\n",
    "\n",
    "from torch.utils.data import DataLoader, Dataset\n",
    "\n",
    "from sklearn.model_selection import KFold\n",
    "from sklearn.linear_model import LogisticRegression\n",
    "\n",
    "from sklearn.base import clone as sklearn_clone\n",
    "\n",
    "from sklearn.metrics import (\n",
    "    accuracy_score, \n",
    "    f1_score, \n",
    "    recall_score,\n",
    "    precision_score,\n",
    "    roc_auc_score, confusion_matrix, roc_curve, classification_report\n",
    ")\n",
    "\n",
    "from sentence_transformers import SentenceTransformer\n",
    "from transformers import AutoTokenizer, AutoModel, HerbertTokenizer, BatchEncoding\n",
    "\n",
    "import gc\n",
    "from sklearn.manifold import TSNE\n",
    "\n",
    "import umap.umap_ as umap\n",
    "from sklearn.preprocessing import StandardScaler\n",
    "\n",
    "from sklearn.model_selection import train_test_split"
   ]
  },
  {
   "cell_type": "code",
   "execution_count": 2,
   "metadata": {
    "execution": {
     "iopub.execute_input": "2022-11-19T17:28:19.705690Z",
     "iopub.status.busy": "2022-11-19T17:28:19.704840Z",
     "iopub.status.idle": "2022-11-19T17:28:19.780938Z",
     "shell.execute_reply": "2022-11-19T17:28:19.779952Z",
     "shell.execute_reply.started": "2022-11-19T17:28:19.705647Z"
    }
   },
   "outputs": [
    {
     "data": {
      "text/plain": [
       "'cuda'"
      ]
     },
     "execution_count": 2,
     "metadata": {},
     "output_type": "execute_result"
    }
   ],
   "source": [
    "torch.manual_seed(111)\n",
    "np.random.seed(111)\n",
    "random.seed(111)\n",
    "device = torch.device(\"cuda\" if torch.cuda.is_available() else \"cpu\")\n",
    "\n",
    "if device.type == \"cuda\":\n",
    "    torch.cuda.get_device_name()\n",
    "    \n",
    "device.type"
   ]
  },
  {
   "cell_type": "markdown",
   "metadata": {},
   "source": [
    "## Get HerBERT"
   ]
  },
  {
   "cell_type": "code",
   "execution_count": 3,
   "metadata": {
    "execution": {
     "iopub.execute_input": "2022-11-19T17:28:19.783600Z",
     "iopub.status.busy": "2022-11-19T17:28:19.783179Z",
     "iopub.status.idle": "2022-11-19T17:29:02.133730Z",
     "shell.execute_reply": "2022-11-19T17:29:02.132736Z",
     "shell.execute_reply.started": "2022-11-19T17:28:19.783565Z"
    }
   },
   "outputs": [
    {
     "data": {
      "application/vnd.jupyter.widget-view+json": {
       "model_id": "d991d7cde7504594b6aaba7c0627c223",
       "version_major": 2,
       "version_minor": 0
      },
      "text/plain": [
       "Downloading:   0%|          | 0.00/24.0 [00:00<?, ?B/s]"
      ]
     },
     "metadata": {},
     "output_type": "display_data"
    },
    {
     "data": {
      "application/vnd.jupyter.widget-view+json": {
       "model_id": "9f540154413f4dff98af9e3e06fccac2",
       "version_major": 2,
       "version_minor": 0
      },
      "text/plain": [
       "Downloading:   0%|          | 0.00/642 [00:00<?, ?B/s]"
      ]
     },
     "metadata": {},
     "output_type": "display_data"
    },
    {
     "data": {
      "application/vnd.jupyter.widget-view+json": {
       "model_id": "6550a3ef54104350b9fa75909423f288",
       "version_major": 2,
       "version_minor": 0
      },
      "text/plain": [
       "Downloading:   0%|          | 0.00/1.18M [00:00<?, ?B/s]"
      ]
     },
     "metadata": {},
     "output_type": "display_data"
    },
    {
     "data": {
      "application/vnd.jupyter.widget-view+json": {
       "model_id": "00474a6aeeb74dcba55d3debeaccbb15",
       "version_major": 2,
       "version_minor": 0
      },
      "text/plain": [
       "Downloading:   0%|          | 0.00/112 [00:00<?, ?B/s]"
      ]
     },
     "metadata": {},
     "output_type": "display_data"
    },
    {
     "data": {
      "application/vnd.jupyter.widget-view+json": {
       "model_id": "e70d8da028324d148ef4578be1b84ef4",
       "version_major": 2,
       "version_minor": 0
      },
      "text/plain": [
       "Downloading:   0%|          | 0.00/714M [00:00<?, ?B/s]"
      ]
     },
     "metadata": {},
     "output_type": "display_data"
    },
    {
     "name": "stderr",
     "output_type": "stream",
     "text": [
      "Some weights of the model checkpoint at DeepPavlov/bert-base-bg-cs-pl-ru-cased were not used when initializing BertModel: ['cls.predictions.decoder.weight', 'cls.predictions.transform.dense.weight', 'cls.predictions.bias', 'cls.predictions.transform.LayerNorm.bias', 'cls.predictions.decoder.bias', 'cls.seq_relationship.bias', 'cls.seq_relationship.weight', 'cls.predictions.transform.dense.bias', 'cls.predictions.transform.LayerNorm.weight']\n",
      "- This IS expected if you are initializing BertModel from the checkpoint of a model trained on another task or with another architecture (e.g. initializing a BertForSequenceClassification model from a BertForPreTraining model).\n",
      "- This IS NOT expected if you are initializing BertModel from the checkpoint of a model that you expect to be exactly identical (initializing a BertForSequenceClassification model from a BertForSequenceClassification model).\n"
     ]
    }
   ],
   "source": [
    "tokenizer = AutoTokenizer.from_pretrained(\"DeepPavlov/bert-base-bg-cs-pl-ru-cased\")\n",
    "model_slavic = AutoModel.from_pretrained(\"DeepPavlov/bert-base-bg-cs-pl-ru-cased\")"
   ]
  },
  {
   "cell_type": "markdown",
   "metadata": {},
   "source": [
    "## Get data"
   ]
  },
  {
   "cell_type": "code",
   "execution_count": 3,
   "metadata": {
    "execution": {
     "iopub.execute_input": "2022-11-19T17:29:02.136486Z",
     "iopub.status.busy": "2022-11-19T17:29:02.135712Z",
     "iopub.status.idle": "2022-11-19T17:29:03.920923Z",
     "shell.execute_reply": "2022-11-19T17:29:03.919922Z",
     "shell.execute_reply.started": "2022-11-19T17:29:02.136445Z"
    }
   },
   "outputs": [],
   "source": [
    "df_cz_cz = pd.read_csv('../datasets/ready2use/fake_news_features_cz_CZ.csv', sep=';')\n",
    "df_cz_sk = pd.read_csv('../datasets/ready2use/fake_news_features_cz_SK.csv', sep=';')\n",
    "\n",
    "df_cz = pd.concat([df_cz_sk, df_cz_sk])\n",
    "\n",
    "\n",
    "df_cz['statementState'] = df_cz['statementState'].str.strip()\n",
    "\n",
    "df_cz = df_cz[ df_cz['statementState'] != 'MISLEADING' ]\n",
    "df_cz = df_cz[ df_cz['statementState'] != 'UNVERIFIABLE' ]\n",
    "df_cz = df_cz[ df_cz['statementState'] != 'null' ]\n",
    "\n",
    "df_cz = df_cz.reset_index(drop=True)\n",
    "\n",
    "df_cz['assestment'] = df_cz['statementState'].replace({\n",
    "    'FALSE' : 0,\n",
    "#     'Manipulacja' : 1,\n",
    "    'TRUE' : 1\n",
    "}).astype(int)\n",
    "\n",
    "df_cz = df_cz.copy()[['assestment', 'text_clean']].reset_index(drop=True)"
   ]
  },
  {
   "cell_type": "code",
   "execution_count": 4,
   "metadata": {
    "execution": {
     "iopub.execute_input": "2022-11-19T17:34:56.901446Z",
     "iopub.status.busy": "2022-11-19T17:34:56.901043Z",
     "iopub.status.idle": "2022-11-19T17:34:56.976117Z",
     "shell.execute_reply": "2022-11-19T17:34:56.975202Z",
     "shell.execute_reply.started": "2022-11-19T17:34:56.901415Z"
    }
   },
   "outputs": [],
   "source": [
    "df = pd.read_csv('../datasets/ready2use/fake_news_features_combined.csv', sep=';')\n",
    "\n",
    "df = df[ df['assestment'] != 'brak' ]\n",
    "\n",
    "df.loc[:, 'assestment'] = df['assestment'].replace({\n",
    "    'falsz' : 'Fałsz',\n",
    "    'zbity_zegar' : 'Fałsz',\n",
    "    'raczej_falsz' : 'Fałsz',\n",
    "    'prawda' : 'Prawda',\n",
    "    'blisko_prawdy' : 'Prawda',\n",
    "    'polprawda' : 'Manipulacja',\n",
    "    'Częściowy fałsz' : 'Manipulacja'\n",
    "})\n",
    "\n",
    "df = df[ df['assestment'] != 'Nieweryfikowalne' ]\n",
    "df = df[ df['assestment'] != 'Manipulacja' ]\n",
    "\n",
    "df['assestment'] = df['assestment'].replace({\n",
    "    'Fałsz' : 0,\n",
    "#     'Manipulacja' : 1,\n",
    "    'Prawda' : 1\n",
    "}).astype(int)\n",
    "\n",
    "df_pl = df.copy()[['assestment', 'text_clean']].reset_index(drop=True)"
   ]
  },
  {
   "cell_type": "code",
   "execution_count": 6,
   "metadata": {
    "execution": {
     "iopub.execute_input": "2022-11-19T17:29:40.345733Z",
     "iopub.status.busy": "2022-11-19T17:29:40.345278Z",
     "iopub.status.idle": "2022-11-19T17:29:40.595491Z",
     "shell.execute_reply": "2022-11-19T17:29:40.594366Z",
     "shell.execute_reply.started": "2022-11-19T17:29:40.345695Z"
    }
   },
   "outputs": [],
   "source": [
    "#  model_slavic = model_slavic.to(device)"
   ]
  },
  {
   "cell_type": "code",
   "execution_count": 5,
   "metadata": {
    "execution": {
     "iopub.execute_input": "2022-11-19T17:29:42.857026Z",
     "iopub.status.busy": "2022-11-19T17:29:42.856679Z",
     "iopub.status.idle": "2022-11-19T17:32:51.865619Z",
     "shell.execute_reply": "2022-11-19T17:32:51.864523Z",
     "shell.execute_reply.started": "2022-11-19T17:29:42.856997Z"
    }
   },
   "outputs": [],
   "source": [
    "if False:\n",
    "    embeddings_table = np.zeros((df_cz.shape[0], 768))\n",
    "\n",
    "    for i, t in enumerate(tqdm(df_cz['text_clean'].values)):\n",
    "        encoded_input = tokenizer(t, return_tensors='pt', truncation=True, padding=True).to(device)\n",
    "        output = model_slavic(**encoded_input)[0][:,0]\n",
    "        embeddings_table[i,:] = output.detach().cpu().numpy()\n",
    "        \n",
    "    embeddings_table_pl = np.zeros((df_pl.shape[0], 768))\n",
    "\n",
    "    for i, t in enumerate(tqdm(df_pl['text_clean'].values)):\n",
    "        encoded_input = tokenizer(t, return_tensors='pt', truncation=True, padding=True).to(device)\n",
    "        output = model_slavic(**encoded_input)[0][:,0]\n",
    "        embeddings_table_pl[i,:] = output.detach().cpu().numpy()\n",
    "        \n",
    "    with open('../datasets/ready2use/embeddings_slavic.npy', 'wb') as f:\n",
    "        np.save(f, embeddings_table)\n",
    "        np.save(f, embeddings_table_pl)\n",
    "else:\n",
    "    with open('../datasets/ready2use/embeddings_slavic.npy', 'rb') as f:\n",
    "        embeddings_table = np.load(f)\n",
    "        embeddings_table_pl = np.load(f)"
   ]
  },
  {
   "cell_type": "code",
   "execution_count": 6,
   "metadata": {},
   "outputs": [
    {
     "name": "stdout",
     "output_type": "stream",
     "text": [
      "[[    0  3340]\n",
      " [    1 15974]]\n"
     ]
    },
    {
     "data": {
      "image/png": "[encoded data removed]",
      "text/plain": [
       "<Figure size 800x600 with 1 Axes>"
      ]
     },
     "metadata": {},
     "output_type": "display_data"
    }
   ],
   "source": [
    "y_train = df_cz['assestment'].values\n",
    "\n",
    "unique, counts = np.unique(y_train, return_counts=True)\n",
    "print(np.asarray((unique, counts)).T)\n",
    "\n",
    "scaler = StandardScaler().fit(embeddings_table)\n",
    "\n",
    "reducer = umap.UMAP()\n",
    "umap_train = reducer.fit_transform(scaler.transform(embeddings_table), y=y_train)\n",
    "\n",
    "plt.figure(figsize=(8, 6), facecolor=\"azure\")\n",
    "\n",
    "plt.subplot(1, 1, 1)\n",
    "for label in np.unique(y_train):\n",
    "    tmp = umap_train[y_train==label]\n",
    "    plt.scatter(tmp[:, 0], tmp[:, 1], label=label)\n",
    "    plt.title('Train')\n",
    "\n",
    "plt.legend()\n",
    "plt.show()"
   ]
  },
  {
   "cell_type": "code",
   "execution_count": 7,
   "metadata": {
    "execution": {
     "iopub.execute_input": "2022-11-19T18:04:57.373886Z",
     "iopub.status.busy": "2022-11-19T18:04:57.373286Z",
     "iopub.status.idle": "2022-11-19T18:04:57.383637Z",
     "shell.execute_reply": "2022-11-19T18:04:57.382582Z",
     "shell.execute_reply.started": "2022-11-19T18:04:57.373845Z"
    }
   },
   "outputs": [],
   "source": [
    "class FakeNews(Dataset):\n",
    "    def __init__(self, emb_dt, y_dt, index_to_use, factor=1):\n",
    "        self.emb = emb_dt[index_to_use]\n",
    "        \n",
    "        self.labels = y_dt[index_to_use]\n",
    "        \n",
    "        self.index = np.repeat( [np.arange(index_to_use.shape[0])], factor, axis=0).reshape(-1)\n",
    "        \n",
    "        self.idx = np.arange(index_to_use.shape[0])\n",
    "        \n",
    "    def __len__(self):\n",
    "        return len(self.index)\n",
    "    \n",
    "    def __getitem__(self, idx): \n",
    "        item = self.index[idx]\n",
    "                \n",
    "        anchor_label = self.labels[item]\n",
    "\n",
    "        positive_list = self.idx[self.idx!=item][self.labels[self.idx!=item]==anchor_label]\n",
    "\n",
    "        positive_item = random.choice(positive_list)\n",
    "        \n",
    "        negative_list = self.idx[self.idx!=item][self.labels[self.idx!=item]!=anchor_label]\n",
    "        negative_item = random.choice(negative_list)\n",
    "        \n",
    "        anchor_claim = self.emb[item].astype(np.float32)\n",
    "        positive_claim = self.emb[positive_item].astype(np.float32)\n",
    "        negative_claim = self.emb[negative_item].astype(np.float32)\n",
    "\n",
    "        anchor_label = anchor_label.astype(np.float32)\n",
    "\n",
    "        return anchor_claim, positive_claim, negative_claim, anchor_label\n",
    "\n",
    "class FakeNewsLabel(Dataset):\n",
    "    def __init__(self, emb_dt, y_dt, index_to_use):\n",
    "        self.emb = emb_dt[index_to_use]\n",
    "        \n",
    "        self.labels = y_dt[index_to_use]\n",
    "        \n",
    "        self.index = np.arange(index_to_use.shape[0])\n",
    "        \n",
    "    def __len__(self):\n",
    "        return len(self.emb)\n",
    "    \n",
    "    def __getitem__(self, item):\n",
    "        anchor_label = self.labels[item]\n",
    "        \n",
    "        anchor_claim = self.emb[item].astype(np.float32)\n",
    "\n",
    "        anchor_label = anchor_label.astype(np.float32)\n",
    "\n",
    "        return anchor_claim, anchor_label"
   ]
  },
  {
   "cell_type": "markdown",
   "metadata": {},
   "source": [
    "## TripletLoss"
   ]
  },
  {
   "cell_type": "code",
   "execution_count": 8,
   "metadata": {
    "execution": {
     "iopub.execute_input": "2022-11-19T18:04:57.398054Z",
     "iopub.status.busy": "2022-11-19T18:04:57.397579Z",
     "iopub.status.idle": "2022-11-19T18:04:57.406388Z",
     "shell.execute_reply": "2022-11-19T18:04:57.405095Z",
     "shell.execute_reply.started": "2022-11-19T18:04:57.398014Z"
    }
   },
   "outputs": [],
   "source": [
    "class TripletLoss(nn.Module):\n",
    "    def __init__(self, margin=1.0):\n",
    "        super(TripletLoss, self).__init__()\n",
    "        self.margin = margin\n",
    "        \n",
    "    def calc_euclidean(self, x1, x2):\n",
    "        return (x1 - x2).pow(2).sum(1)\n",
    "    \n",
    "    def forward(self, anchor: torch.Tensor, positive: torch.Tensor, negative: torch.Tensor) -> torch.Tensor:\n",
    "        distance_positive = self.calc_euclidean(anchor, positive)\n",
    "        distance_negative = self.calc_euclidean(anchor, negative)\n",
    "        losses = torch.relu(distance_positive - distance_negative + self.margin)\n",
    "\n",
    "        return losses.mean()"
   ]
  },
  {
   "cell_type": "markdown",
   "metadata": {},
   "source": [
    "## Define Net"
   ]
  },
  {
   "cell_type": "code",
   "execution_count": 9,
   "metadata": {
    "execution": {
     "iopub.execute_input": "2022-11-19T18:04:57.408905Z",
     "iopub.status.busy": "2022-11-19T18:04:57.408608Z",
     "iopub.status.idle": "2022-11-19T18:04:57.418713Z",
     "shell.execute_reply": "2022-11-19T18:04:57.417633Z",
     "shell.execute_reply.started": "2022-11-19T18:04:57.408879Z"
    }
   },
   "outputs": [],
   "source": [
    "class Network(nn.Module):\n",
    "    def __init__(self, emb_dim=128):\n",
    "        super(Network, self).__init__()\n",
    "        \n",
    "        self.fc = nn.Sequential(\n",
    "#             nn.Linear(768, 1024),\n",
    "#             nn.BatchNorm1d(1024),\n",
    "#             nn.ReLU(),\n",
    "#             nn.Dropout(0.2),\n",
    "            \n",
    "            nn.Linear(768, 512),\n",
    "            nn.BatchNorm1d(512),\n",
    "            nn.ReLU(),\n",
    "            nn.Dropout(0.2),\n",
    "            \n",
    "#             nn.Linear(512, 512),\n",
    "#             nn.BatchNorm1d(512),\n",
    "#             nn.ReLU(),\n",
    "#             nn.Dropout(0.2),\n",
    "            \n",
    "            nn.Linear(512, 256),\n",
    "            nn.BatchNorm1d(256),\n",
    "            nn.ReLU(),\n",
    "            nn.Dropout(0.2),\n",
    "            nn.Linear(256, emb_dim)\n",
    "        )\n",
    "        \n",
    "    def forward(self, x):\n",
    "        x = x.view(-1, 768)\n",
    "        x = self.fc(x)\n",
    "        return x"
   ]
  },
  {
   "cell_type": "markdown",
   "metadata": {},
   "source": [
    "## Train"
   ]
  },
  {
   "cell_type": "code",
   "execution_count": 17,
   "metadata": {
    "execution": {
     "iopub.execute_input": "2022-11-19T18:04:57.387071Z",
     "iopub.status.busy": "2022-11-19T18:04:57.386770Z",
     "iopub.status.idle": "2022-11-19T18:04:57.394754Z",
     "shell.execute_reply": "2022-11-19T18:04:57.393786Z",
     "shell.execute_reply.started": "2022-11-19T18:04:57.387043Z"
    }
   },
   "outputs": [],
   "source": [
    "embedding_dims = 100\n",
    "batch_size = 512\n",
    "epochs = 300\n",
    "n_workers = 12"
   ]
  },
  {
   "cell_type": "code",
   "execution_count": 18,
   "metadata": {},
   "outputs": [],
   "source": [
    "train_index, val_index = train_test_split(df_cz.index.values, test_size=0.2, random_state=111)"
   ]
  },
  {
   "cell_type": "markdown",
   "metadata": {},
   "source": [
    "## Some testing one one kfold"
   ]
  },
  {
   "cell_type": "code",
   "execution_count": 19,
   "metadata": {
    "execution": {
     "iopub.execute_input": "2022-11-19T18:04:57.420523Z",
     "iopub.status.busy": "2022-11-19T18:04:57.420086Z",
     "iopub.status.idle": "2022-11-19T18:04:57.433041Z",
     "shell.execute_reply": "2022-11-19T18:04:57.432202Z",
     "shell.execute_reply.started": "2022-11-19T18:04:57.420488Z"
    }
   },
   "outputs": [],
   "source": [
    "train_ds = FakeNews(embeddings_table, df_cz['assestment'].values, train_index, 10)\n",
    "train_loader = DataLoader(train_ds, batch_size=batch_size, shuffle=True, num_workers=n_workers)\n",
    "\n",
    "train_ds_label = FakeNewsLabel(embeddings_table, df_cz['assestment'].values, train_index)\n",
    "train_loader_label = DataLoader(train_ds_label, batch_size=batch_size, shuffle=True, num_workers=n_workers)\n",
    "\n",
    "val_ds = FakeNews(embeddings_table, df_cz['assestment'].values, val_index, 3)\n",
    "val_loader = DataLoader(val_ds, batch_size=batch_size, shuffle=True, num_workers=n_workers)\n",
    "\n",
    "test_ds = FakeNewsLabel(embeddings_table_pl, df_pl['assestment'].values, df_pl.index.values)\n",
    "test_loader = DataLoader(test_ds, batch_size=batch_size, shuffle=False, num_workers=n_workers)"
   ]
  },
  {
   "cell_type": "code",
   "execution_count": 20,
   "metadata": {
    "execution": {
     "iopub.execute_input": "2022-11-19T18:04:57.434708Z",
     "iopub.status.busy": "2022-11-19T18:04:57.434342Z",
     "iopub.status.idle": "2022-11-19T18:04:57.521589Z",
     "shell.execute_reply": "2022-11-19T18:04:57.520747Z",
     "shell.execute_reply.started": "2022-11-19T18:04:57.434670Z"
    }
   },
   "outputs": [],
   "source": [
    "model = Network(embedding_dims)\n",
    "# model = torch.nn.DataParallel(model)\n",
    "# model = torch.jit.script(model).to(device)\n",
    "model = model.to(device)\n",
    "\n",
    "optimizer = optim.Adam(model.parameters(), lr=1e-4, weight_decay=1e-5)\n",
    "# optimizer = optim.SGD(model.parameters(), lr=0.01, momentum=0.5)\n",
    "# criterion = torch.jit.script(TripletLoss())\n",
    "criterion = TripletLoss()"
   ]
  },
  {
   "cell_type": "markdown",
   "metadata": {},
   "source": [
    "## Training loop"
   ]
  },
  {
   "cell_type": "code",
   "execution_count": 21,
   "metadata": {
    "execution": {
     "iopub.execute_input": "2022-11-19T18:04:57.524638Z",
     "iopub.status.busy": "2022-11-19T18:04:57.524044Z",
     "iopub.status.idle": "2022-11-19T18:06:09.933663Z",
     "shell.execute_reply": "2022-11-19T18:06:09.932480Z",
     "shell.execute_reply.started": "2022-11-19T18:04:57.524602Z"
    }
   },
   "outputs": [
    {
     "data": {
      "application/vnd.jupyter.widget-view+json": {
       "model_id": "e8154b467c994336a7cfbba379ca0a11",
       "version_major": 2,
       "version_minor": 0
      },
      "text/plain": [
       "Epochs:   0%|          | 0/300 [00:00<?, ?it/s]"
      ]
     },
     "metadata": {},
     "output_type": "display_data"
    },
    {
     "name": "stdout",
     "output_type": "stream",
     "text": [
      "Epoch: 1/300 - Train Loss: 1.6091;  Val Loss: 0.9860 Best Val loss 0.9860\n",
      "Epoch: 11/300 - Train Loss: 0.0672;  Val Loss: 0.9210 Best Val loss 0.9043\n",
      "Epoch: 21/300 - Train Loss: 0.0171;  Val Loss: 0.8672 Best Val loss 0.8472\n",
      "Epoch: 31/300 - Train Loss: 0.0090;  Val Loss: 0.8604 Best Val loss 0.8200\n",
      "Epoch: 41/300 - Train Loss: 0.0037;  Val Loss: 0.8245 Best Val loss 0.8105\n",
      "Epoch: 51/300 - Train Loss: 0.0032;  Val Loss: 0.8813 Best Val loss 0.7902\n",
      "Epoch: 61/300 - Train Loss: 0.0034;  Val Loss: 0.8235 Best Val loss 0.7902\n",
      "Epoch: 71/300 - Train Loss: 0.0021;  Val Loss: 0.7939 Best Val loss 0.7902\n",
      "Epoch: 81/300 - Train Loss: 0.0021;  Val Loss: 0.8215 Best Val loss 0.7851\n",
      "Epoch: 91/300 - Train Loss: 0.0016;  Val Loss: 0.7617 Best Val loss 0.7617\n",
      "Epoch: 101/300 - Train Loss: 0.0014;  Val Loss: 0.8888 Best Val loss 0.7617\n",
      "Epoch: 111/300 - Train Loss: 0.0012;  Val Loss: 0.8427 Best Val loss 0.7617\n",
      "Epoch: 121/300 - Train Loss: 0.0011;  Val Loss: 0.7862 Best Val loss 0.7471\n",
      "Epoch: 131/300 - Train Loss: 0.0011;  Val Loss: 0.8720 Best Val loss 0.7471\n",
      "Epoch: 141/300 - Train Loss: 0.0008;  Val Loss: 0.8044 Best Val loss 0.7471\n",
      "Epoch: 151/300 - Train Loss: 0.0005;  Val Loss: 0.7913 Best Val loss 0.7471\n",
      "Epoch: 161/300 - Train Loss: 0.0006;  Val Loss: 0.9471 Best Val loss 0.7471\n",
      "Epoch: 171/300 - Train Loss: 0.0005;  Val Loss: 0.7854 Best Val loss 0.7471\n",
      "Epoch: 181/300 - Train Loss: 0.0008;  Val Loss: 0.8411 Best Val loss 0.7471\n",
      "Epoch: 191/300 - Train Loss: 0.0006;  Val Loss: 0.8697 Best Val loss 0.7471\n",
      "Epoch: 201/300 - Train Loss: 0.0007;  Val Loss: 0.8639 Best Val loss 0.7471\n",
      "Epoch: 211/300 - Train Loss: 0.0007;  Val Loss: 0.8053 Best Val loss 0.7471\n",
      "Epoch: 221/300 - Train Loss: 0.0004;  Val Loss: 0.9346 Best Val loss 0.7471\n",
      "Epoch: 231/300 - Train Loss: 0.0004;  Val Loss: 0.7954 Best Val loss 0.7471\n",
      "Epoch: 241/300 - Train Loss: 0.0004;  Val Loss: 0.8261 Best Val loss 0.7471\n",
      "Epoch: 251/300 - Train Loss: 0.0003;  Val Loss: 0.9938 Best Val loss 0.7471\n",
      "Epoch: 261/300 - Train Loss: 0.0007;  Val Loss: 0.9189 Best Val loss 0.7471\n",
      "Epoch: 271/300 - Train Loss: 0.0003;  Val Loss: 0.8838 Best Val loss 0.7471\n",
      "Epoch: 281/300 - Train Loss: 0.0003;  Val Loss: 0.8896 Best Val loss 0.7471\n",
      "Epoch: 291/300 - Train Loss: 0.0002;  Val Loss: 0.8425 Best Val loss 0.7471\n"
     ]
    }
   ],
   "source": [
    "train_loss_out = []\n",
    "val_loss_out = []\n",
    "\n",
    "val_prev = np.inf\n",
    "\n",
    "if_norm = False\n",
    "\n",
    "model.train()\n",
    "for epoch in tqdm(range(epochs), desc=\"Epochs\"):\n",
    "    running_loss = []\n",
    "    for step, (anchor_claim, positive_claim, negative_claim, anchor_label) in enumerate(train_loader):\n",
    "        anchor_claim = anchor_claim.to(device) if if_norm else (anchor_claim / torch.norm(anchor_claim) ).to(device)\n",
    "        positive_claim = positive_claim.to(device) if if_norm else (positive_claim / torch.norm(positive_claim) ).to(device)\n",
    "        negative_claim = negative_claim.to(device) if if_norm else (negative_claim / torch.norm(negative_claim) ).to(device)\n",
    "                \n",
    "        optimizer.zero_grad()\n",
    "        anchor_out = model(anchor_claim)\n",
    "        positive_out = model(positive_claim)\n",
    "        negative_out = model(negative_claim)\n",
    "        \n",
    "        loss = criterion(anchor_out, positive_out, negative_out)\n",
    "        loss.backward()\n",
    "        optimizer.step()\n",
    "        \n",
    "        running_loss.append(loss.cpu().detach().numpy())\n",
    "        \n",
    "    model.eval()\n",
    "    \n",
    "    val_loss = []\n",
    "    for anchor_claim, positive_claim, negative_claim, _ in val_loader:\n",
    "        anchor_claim = anchor_claim.to(device) if if_norm else (anchor_claim / torch.norm(anchor_claim) ).to(device)\n",
    "        positive_claim = positive_claim.to(device) if if_norm else (positive_claim / torch.norm(positive_claim) ).to(device)\n",
    "        negative_claim = negative_claim.to(device) if if_norm else (negative_claim / torch.norm(negative_claim) ).to(device)\n",
    "\n",
    "        anchor_out = model(anchor_claim)\n",
    "        positive_out = model(positive_claim)\n",
    "        negative_out = model(negative_claim)\n",
    "        \n",
    "        loss = criterion(anchor_out, positive_out, negative_out)\n",
    "        val_loss.append(loss.cpu().detach().numpy())\n",
    "    \n",
    "    model.train()\n",
    "    \n",
    "    train_loss_out.append(np.mean(running_loss))\n",
    "    val_loss_out.append(np.mean(val_loss))\n",
    "    \n",
    "    if np.mean(val_loss) < val_prev:\n",
    "#         print(epoch, f'saved {np.mean(val_loss):.4f} < {val_prev:.4f}')\n",
    "        val_prev = np.mean(val_loss)\n",
    "        torch.save(model, 'models/model_4.pt')\n",
    "        \n",
    "    if epoch%10 == 0:\n",
    "        print(f\"Epoch: {epoch+1}/{epochs} - Train Loss: {np.mean(running_loss):.4f};\",\n",
    "              f\" Val Loss: {np.mean(val_loss):.4f} Best Val loss {val_prev:.4f}\")"
   ]
  },
  {
   "cell_type": "code",
   "execution_count": 22,
   "metadata": {
    "execution": {
     "iopub.execute_input": "2022-11-19T18:06:09.936748Z",
     "iopub.status.busy": "2022-11-19T18:06:09.935933Z",
     "iopub.status.idle": "2022-11-19T18:06:16.334698Z",
     "shell.execute_reply": "2022-11-19T18:06:16.325957Z",
     "shell.execute_reply.started": "2022-11-19T18:06:09.936705Z"
    }
   },
   "outputs": [],
   "source": [
    "model = torch.load('models/model_4.pt')"
   ]
  },
  {
   "cell_type": "code",
   "execution_count": 23,
   "metadata": {},
   "outputs": [
    {
     "data": {
      "application/vnd.jupyter.widget-view+json": {
       "model_id": "1bd7b852ebec4289a27041e8dbb21886",
       "version_major": 2,
       "version_minor": 0
      },
      "text/plain": [
       "  0%|          | 0/31 [00:00<?, ?it/s]"
      ]
     },
     "metadata": {},
     "output_type": "display_data"
    },
    {
     "data": {
      "text/plain": [
       "(15451, 100)"
      ]
     },
     "execution_count": 23,
     "metadata": {},
     "output_type": "execute_result"
    }
   ],
   "source": [
    "train_results = []\n",
    "labels = []\n",
    "\n",
    "model.eval()\n",
    "with torch.no_grad():\n",
    "    for anchor_claim, label in tqdm(train_loader_label):\n",
    "        anchor_claim = anchor_claim.to(device) if if_norm else (anchor_claim / torch.norm(anchor_claim) ).to(device)\n",
    "        \n",
    "        train_results.append(model(anchor_claim).cpu().numpy())\n",
    "        labels.append(label)\n",
    "\n",
    "train_results = np.concatenate(train_results) \n",
    "labels = np.concatenate(labels)\n",
    "train_results.shape"
   ]
  },
  {
   "cell_type": "code",
   "execution_count": 24,
   "metadata": {
    "execution": {
     "iopub.execute_input": "2022-11-19T18:06:16.347627Z",
     "iopub.status.busy": "2022-11-19T18:06:16.343596Z",
     "iopub.status.idle": "2022-11-19T18:06:18.291195Z",
     "shell.execute_reply": "2022-11-19T18:06:18.290007Z",
     "shell.execute_reply.started": "2022-11-19T18:06:16.347558Z"
    }
   },
   "outputs": [
    {
     "data": {
      "application/vnd.jupyter.widget-view+json": {
       "model_id": "9770be7e9bae4264b1d533cfdc9e8521",
       "version_major": 2,
       "version_minor": 0
      },
      "text/plain": [
       "  0%|          | 0/13 [00:00<?, ?it/s]"
      ]
     },
     "metadata": {},
     "output_type": "display_data"
    },
    {
     "data": {
      "text/plain": [
       "(6542, 100)"
      ]
     },
     "execution_count": 24,
     "metadata": {},
     "output_type": "execute_result"
    }
   ],
   "source": [
    "test_results = []\n",
    "test_labels = []\n",
    "\n",
    "model.eval()\n",
    "with torch.no_grad():\n",
    "    for anchor_claim, label in tqdm(test_loader):\n",
    "        anchor_claim = anchor_claim.to(device) if if_norm else (anchor_claim / torch.norm(anchor_claim) ).to(device)\n",
    "        \n",
    "        test_results.append(model(anchor_claim).cpu().numpy())\n",
    "        test_labels.append(label)\n",
    "        \n",
    "test_results = np.concatenate(test_results)\n",
    "test_labels = np.concatenate(test_labels)\n",
    "test_results.shape"
   ]
  },
  {
   "cell_type": "code",
   "execution_count": 25,
   "metadata": {},
   "outputs": [],
   "source": [
    "reducer_nn = umap.UMAP()\n",
    "scaler_nn = StandardScaler().fit(train_results)\n",
    "\n",
    "umap_nn_train = train_results if True else reducer_nn.fit_transform(train_results)\n",
    "umap_nn_test = test_results if True else reducer_nn.transform(test_results)"
   ]
  },
  {
   "cell_type": "code",
   "execution_count": 26,
   "metadata": {},
   "outputs": [
    {
     "data": {
      "image/png": "[encoded data removed]",
      "text/plain": [
       "<Figure size 1400x600 with 2 Axes>"
      ]
     },
     "metadata": {},
     "output_type": "display_data"
    }
   ],
   "source": [
    "plt.figure(figsize=(14, 6), facecolor=\"azure\")\n",
    "\n",
    "plt.subplot(1, 2, 1)\n",
    "for label in np.unique(labels):\n",
    "    tmp = umap_nn_train[labels==label]\n",
    "    plt.scatter(tmp[:, 0], tmp[:, 1], label=label)\n",
    "    plt.title('Train')\n",
    "\n",
    "plt.subplot(1, 2, 2)\n",
    "for label in np.unique(test_labels):\n",
    "    tmp = umap_nn_test[test_labels==label]\n",
    "    plt.scatter(tmp[:, 0], tmp[:, 1], label=label)\n",
    "    plt.title('Test')\n",
    "\n",
    "plt.legend()\n",
    "plt.show()"
   ]
  },
  {
   "cell_type": "code",
   "execution_count": 27,
   "metadata": {
    "execution": {
     "iopub.execute_input": "2022-11-19T18:07:46.421355Z",
     "iopub.status.busy": "2022-11-19T18:07:46.420976Z",
     "iopub.status.idle": "2022-11-19T18:07:46.426831Z",
     "shell.execute_reply": "2022-11-19T18:07:46.425560Z",
     "shell.execute_reply.started": "2022-11-19T18:07:46.421323Z"
    }
   },
   "outputs": [],
   "source": [
    "clf_lr_1 = LogisticRegression(max_iter=5000, C=1, penalty='l2', solver='liblinear', class_weight='balanced')"
   ]
  },
  {
   "cell_type": "code",
   "execution_count": 28,
   "metadata": {
    "execution": {
     "iopub.execute_input": "2022-11-19T18:07:48.895535Z",
     "iopub.status.busy": "2022-11-19T18:07:48.895026Z",
     "iopub.status.idle": "2022-11-19T18:07:50.213904Z",
     "shell.execute_reply": "2022-11-19T18:07:50.212497Z",
     "shell.execute_reply.started": "2022-11-19T18:07:48.895495Z"
    }
   },
   "outputs": [],
   "source": [
    "results = {\n",
    "    'test_accuracy' : [],\n",
    "    'test_precision' : [],\n",
    "    'test_recall' : [],\n",
    "    'test_f1' : []\n",
    "}\n",
    "\n",
    "\n",
    "y_train_t = labels\n",
    "X_train_t = train_results\n",
    "y_test_t = test_labels\n",
    "X_test_t = test_results\n",
    "\n",
    "clf_lr_1.fit(X_train_t, y_train_t)\n",
    "\n",
    "y_pred = clf_lr_1.predict(X_test_t)\n",
    "\n",
    "results['test_accuracy'].append( accuracy_score(y_test_t, y_pred) ) \n",
    "results['test_precision'].append( precision_score(y_test_t, y_pred) ) \n",
    "results['test_recall'].append( recall_score(y_test_t, y_pred) ) \n",
    "results['test_f1'].append( f1_score(y_test_t, y_pred) ) \n",
    "\n",
    "out = {\n",
    "    \"Accuracy\": np.array(results['test_accuracy']).mean(),\n",
    "    \"Precision\": np.array(results['test_precision']).mean(),\n",
    "    \"Recall\": np.array(results['test_recall']).mean(),\n",
    "    \"F1 Score\":  np.array(results['test_f1']).mean(),\n",
    "    }"
   ]
  },
  {
   "cell_type": "code",
   "execution_count": 29,
   "metadata": {
    "execution": {
     "iopub.execute_input": "2022-11-19T18:07:50.244354Z",
     "iopub.status.busy": "2022-11-19T18:07:50.243730Z",
     "iopub.status.idle": "2022-11-19T18:07:50.253309Z",
     "shell.execute_reply": "2022-11-19T18:07:50.252193Z",
     "shell.execute_reply.started": "2022-11-19T18:07:50.244294Z"
    }
   },
   "outputs": [
    {
     "name": "stdout",
     "output_type": "stream",
     "text": [
      "triplet loss lr C1 Accuracy 0.502+-0.000 F1 Score 0.129+-0.000  0.502+-0.000 | 0.129+-0.000\n"
     ]
    }
   ],
   "source": [
    "print(\n",
    "    'triplet loss lr C1',\n",
    "    f'Accuracy {out[\"Accuracy\"].mean():.3f}+-{out[\"Accuracy\"].std():.3f}',\n",
    "    f'F1 Score {out[\"F1 Score\"].mean():.3f}+-{out[\"F1 Score\"].std():.3f}',\n",
    "    f' {out[\"Accuracy\"].mean():.3f}+-{out[\"Accuracy\"].std():.3f} | {out[\"F1 Score\"].mean():.3f}+-{out[\"F1 Score\"].std():.3f}'\n",
    ")    "
   ]
  },
  {
   "cell_type": "code",
   "execution_count": 30,
   "metadata": {
    "execution": {
     "iopub.execute_input": "2022-11-19T18:07:55.347771Z",
     "iopub.status.busy": "2022-11-19T18:07:55.347237Z",
     "iopub.status.idle": "2022-11-19T18:07:55.377818Z",
     "shell.execute_reply": "2022-11-19T18:07:55.375627Z",
     "shell.execute_reply.started": "2022-11-19T18:07:55.347736Z"
    }
   },
   "outputs": [
    {
     "data": {
      "text/plain": [
       "array([[3047,  392],\n",
       "       [2863,  240]])"
      ]
     },
     "execution_count": 30,
     "metadata": {},
     "output_type": "execute_result"
    }
   ],
   "source": [
    "confusion_matrix(y_test_t, y_pred)"
   ]
  },
  {
   "cell_type": "code",
   "execution_count": 31,
   "metadata": {
    "execution": {
     "iopub.execute_input": "2022-11-19T18:07:56.380997Z",
     "iopub.status.busy": "2022-11-19T18:07:56.380535Z",
     "iopub.status.idle": "2022-11-19T18:07:56.394791Z",
     "shell.execute_reply": "2022-11-19T18:07:56.393373Z",
     "shell.execute_reply.started": "2022-11-19T18:07:56.380962Z"
    }
   },
   "outputs": [],
   "source": [
    "y_pred_train = clf_lr_1.predict(X_train_t)"
   ]
  },
  {
   "cell_type": "code",
   "execution_count": 32,
   "metadata": {
    "execution": {
     "iopub.execute_input": "2022-11-19T18:07:57.062361Z",
     "iopub.status.busy": "2022-11-19T18:07:57.061953Z",
     "iopub.status.idle": "2022-11-19T18:07:57.087029Z",
     "shell.execute_reply": "2022-11-19T18:07:57.085936Z",
     "shell.execute_reply.started": "2022-11-19T18:07:57.062326Z"
    }
   },
   "outputs": [
    {
     "data": {
      "text/plain": [
       "array([[ 2437,   200],\n",
       "       [ 1035, 11779]])"
      ]
     },
     "execution_count": 32,
     "metadata": {},
     "output_type": "execute_result"
    }
   ],
   "source": [
    "confusion_matrix(y_train_t, y_pred_train)"
   ]
  },
  {
   "cell_type": "code",
   "execution_count": 33,
   "metadata": {
    "execution": {
     "iopub.execute_input": "2022-11-19T18:08:57.073468Z",
     "iopub.status.busy": "2022-11-19T18:08:57.073097Z",
     "iopub.status.idle": "2022-11-19T18:08:57.122063Z",
     "shell.execute_reply": "2022-11-19T18:08:57.121057Z",
     "shell.execute_reply.started": "2022-11-19T18:08:57.073437Z"
    }
   },
   "outputs": [
    {
     "name": "stdout",
     "output_type": "stream",
     "text": [
      "              precision    recall  f1-score   support\n",
      "\n",
      "         0.0       0.70      0.92      0.80      2637\n",
      "         1.0       0.98      0.92      0.95     12814\n",
      "\n",
      "    accuracy                           0.92     15451\n",
      "   macro avg       0.84      0.92      0.87     15451\n",
      "weighted avg       0.94      0.92      0.92     15451\n",
      "\n"
     ]
    }
   ],
   "source": [
    "from sklearn.metrics import classification_report\n",
    "\n",
    "print(classification_report(y_train_t, y_pred_train))"
   ]
  },
  {
   "cell_type": "code",
   "execution_count": 34,
   "metadata": {
    "execution": {
     "iopub.execute_input": "2022-11-19T18:09:21.725450Z",
     "iopub.status.busy": "2022-11-19T18:09:21.725016Z",
     "iopub.status.idle": "2022-11-19T18:09:21.750662Z",
     "shell.execute_reply": "2022-11-19T18:09:21.749674Z",
     "shell.execute_reply.started": "2022-11-19T18:09:21.725404Z"
    }
   },
   "outputs": [
    {
     "name": "stdout",
     "output_type": "stream",
     "text": [
      "              precision    recall  f1-score   support\n",
      "\n",
      "         0.0       0.52      0.89      0.65      3439\n",
      "         1.0       0.38      0.08      0.13      3103\n",
      "\n",
      "    accuracy                           0.50      6542\n",
      "   macro avg       0.45      0.48      0.39      6542\n",
      "weighted avg       0.45      0.50      0.40      6542\n",
      "\n"
     ]
    }
   ],
   "source": [
    "print(classification_report(y_test_t, y_pred))"
   ]
  },
  {
   "cell_type": "code",
   "execution_count": null,
   "metadata": {},
   "outputs": [],
   "source": []
  }
 ],
 "metadata": {
  "kernelspec": {
   "display_name": "Python 3 (ipykernel)",
   "language": "python",
   "name": "python3"
  },
  "language_info": {
   "codemirror_mode": {
    "name": "ipython",
    "version": 3
   },
   "file_extension": ".py",
   "mimetype": "text/x-python",
   "name": "python",
   "nbconvert_exporter": "python",
   "pygments_lexer": "ipython3",
   "version": "3.9.13"
  }
 },
 "nbformat": 4,
 "nbformat_minor": 4
}
