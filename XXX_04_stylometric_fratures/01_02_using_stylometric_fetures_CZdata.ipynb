{
 "cells": [
  {
   "cell_type": "code",
   "execution_count": 1,
   "id": "f7c9d760",
   "metadata": {},
   "outputs": [
    {
     "name": "stdout",
     "output_type": "stream",
     "text": [
      "INFO: Pandarallel will run on 7 workers.\n",
      "INFO: Pandarallel will use Memory file system to transfer data between the main process and workers.\n"
     ]
    }
   ],
   "source": [
    "import pandas as pd\n",
    "import numpy as np\n",
    "\n",
    "from tqdm import tqdm\n",
    "tqdm.pandas(desc=\"progress-bar\")\n",
    "from gensim.models import Doc2Vec\n",
    "\n",
    "import gensim\n",
    "from sklearn.linear_model import LogisticRegression\n",
    "from gensim.models.doc2vec import TaggedDocument\n",
    "\n",
    "from sklearn.model_selection import KFold\n",
    "\n",
    "from sklearn.base import clone as sklearn_clone\n",
    "\n",
    "from sklearn.metrics import (\n",
    "    accuracy_score, \n",
    "    f1_score, \n",
    "    recall_score,\n",
    "    precision_score,\n",
    "    roc_auc_score, confusion_matrix, roc_curve, classification_report\n",
    ")\n",
    "\n",
    "import matplotlib.pyplot as plt\n",
    "\n",
    "import spacy\n",
    "from sentimentpl.models import SentimentPLModel\n",
    "from autocorrect import Speller\n",
    "\n",
    "import re\n",
    "import unicodedata\n",
    "\n",
    "from tqdm import tqdm\n",
    "tqdm.pandas()\n",
    "\n",
    "from pandarallel import pandarallel\n",
    "pandarallel.initialize(nb_workers=7,progress_bar=True)\n",
    "\n",
    "from parallelbar import progress_map\n",
    "\n",
    "import pyphen\n",
    "import re\n",
    "\n",
    "from sklearn.preprocessing import StandardScaler\n",
    "\n",
    "import seaborn as sns\n",
    "\n",
    "nlp_core = spacy.load(\"pl_core_news_lg\")\n",
    "model_sent = SentimentPLModel(from_pretrained='latest')\n",
    "spell = Speller('pl')\n",
    "syllab = pyphen.Pyphen(lang='pl')\n",
    "stopwords = nlp_core.Defaults.stop_words"
   ]
  },
  {
   "cell_type": "markdown",
   "id": "5e636b0b",
   "metadata": {},
   "source": [
    "## Lodad data"
   ]
  },
  {
   "cell_type": "code",
   "execution_count": 2,
   "id": "20999d1f",
   "metadata": {},
   "outputs": [],
   "source": [
    "df = pd.read_csv('../datasets/ready2use/fake_news_features_cz_to_use.csv', sep=';')\n",
    "\n",
    "df = df.reset_index(drop=True)\n",
    "\n",
    "y_train = df.copy()['assestment']\n",
    "X_train = df.copy()[['text_clean', 'words_clean']]\n",
    "\n",
    "X_train['text_clean'] = X_train['text_clean'].apply( \n",
    "    lambda x:\n",
    "    (x\n",
    "     .replace('\\n', ' ')\n",
    "     .replace('ą', 'ą')\n",
    "     .replace('ć', 'ć')\n",
    "     .replace('ę', 'ę')\n",
    "     .replace('ń', 'ń')\n",
    "     .replace('ó', 'ó')\n",
    "     .replace('ś', 'ś')\n",
    "     .replace('ź', 'ź')\n",
    "     .replace('ż', 'ż'))\n",
    ")"
   ]
  },
  {
   "cell_type": "code",
   "execution_count": 3,
   "id": "fc9e7e09",
   "metadata": {},
   "outputs": [
    {
     "data": {
      "text/plain": [
       "(2409,)"
      ]
     },
     "execution_count": 3,
     "metadata": {},
     "output_type": "execute_result"
    }
   ],
   "source": [
    "y_train.shape"
   ]
  },
  {
   "cell_type": "code",
   "execution_count": 4,
   "id": "11b98c65",
   "metadata": {},
   "outputs": [
    {
     "data": {
      "text/plain": [
       "(2409, 2)"
      ]
     },
     "execution_count": 4,
     "metadata": {},
     "output_type": "execute_result"
    }
   ],
   "source": [
    "X_train.shape"
   ]
  },
  {
   "cell_type": "markdown",
   "id": "2630ecc0",
   "metadata": {},
   "source": [
    "## Get lexical features"
   ]
  },
  {
   "cell_type": "code",
   "execution_count": 5,
   "id": "7f46ec56",
   "metadata": {},
   "outputs": [],
   "source": [
    "def get_vowels_per_word(t):\n",
    "    vowels = [len(re.findall('[aeiouóyąę]+', w)) for w in re.findall('(?![\\d\\s])[\\w]+(?![\\d\\s])', t)]\n",
    "    vowels = np.array(vowels)\n",
    "    vowels = vowels[vowels>0]\n",
    "    \n",
    "    if vowels.shape[0] == 0:\n",
    "        return [0]\n",
    "    return vowels"
   ]
  },
  {
   "cell_type": "code",
   "execution_count": 6,
   "id": "2fa028bc",
   "metadata": {},
   "outputs": [],
   "source": [
    "# https://github.com/Hassaan-Elahi/Writing-Styles-Classification-Using-Stylometric-Analysis/blob/master/Detailed%20Report.pdf"
   ]
  },
  {
   "cell_type": "code",
   "execution_count": 7,
   "id": "fd936a58",
   "metadata": {},
   "outputs": [
    {
     "name": "stderr",
     "output_type": "stream",
     "text": [
      "100%|████████████████████████████████████| 2409/2409 [00:00<00:00, 71021.94it/s]\n",
      "100%|███████████████████████████████████| 2409/2409 [00:00<00:00, 176867.36it/s]\n",
      "100%|██████████████████████████████████| 2409/2409 [00:00<00:00, 1033665.30it/s]\n",
      "100%|███████████████████████████████████| 2409/2409 [00:00<00:00, 210256.33it/s]\n",
      "100%|████████████████████████████████████| 2409/2409 [00:00<00:00, 35778.05it/s]\n"
     ]
    }
   ],
   "source": [
    "X_train['avg_word_len'] = X_train['text_clean'].progress_apply(\n",
    "    lambda x: np.mean(\n",
    "        [ len(w.strip()) for w in re.findall('(?![\\d])[\\w]+', x)]\n",
    "    )\n",
    ")\n",
    "\n",
    "X_train['n_words'] = X_train['text_clean'].progress_apply(\n",
    "    lambda x: len( re.findall('(?![\\d])[\\w]+', x) )\n",
    ")\n",
    "\n",
    "X_train['n_char'] = X_train['text_clean'].progress_apply(\n",
    "    lambda x: len(x)\n",
    ")\n",
    "\n",
    "X_train['n_special_char'] = X_train['text_clean'].progress_apply(\n",
    "    lambda x: len(re.findall('(?![\\d\\s])[\\W]', x))\n",
    ")\n",
    "\n",
    "X_train['avg_n_vowels_per_word'] = X_train['text_clean'].progress_apply(\n",
    "    lambda x: np.mean(get_vowels_per_word(x.lower()))\n",
    ")"
   ]
  },
  {
   "cell_type": "markdown",
   "id": "4b697d75",
   "metadata": {},
   "source": [
    "## Vocab richness"
   ]
  },
  {
   "cell_type": "code",
   "execution_count": 8,
   "id": "a33c59ce",
   "metadata": {},
   "outputs": [],
   "source": [
    "def get_vocab_rich_features(txt):\n",
    "    uniq_words = {}\n",
    "    words = ' '.join(re.findall('(?![\\d])[\\w]+', txt)).strip()\n",
    "    doc = nlp_core(words)\n",
    "    \n",
    "    for token in doc:\n",
    "        if token.pos_ not in ['SPACE', 'PUNCT', 'SYM', 'X', 'NUM']:\n",
    "            lemma = token.lemma_\n",
    "            if lemma in uniq_words:\n",
    "                uniq_words[lemma] = uniq_words[lemma] + 1\n",
    "            else:\n",
    "                uniq_words[lemma] = 1\n",
    "    \n",
    "    n = len(words.split(' '))\n",
    "    v = len(uniq_words)\n",
    "    \n",
    "    # Hapax Legomena and Hapax DisLegemena\n",
    "    v1 = sum(x == 1 for x in uniq_words.values())\n",
    "    v2 = sum(x == 2 for x in uniq_words.values())\n",
    "    vi = {}\n",
    "    for k in uniq_words.keys():\n",
    "        n_w = uniq_words[k]\n",
    "        if n_w in vi:\n",
    "            vi[n_w] = vi[n_w] + 1\n",
    "        else:\n",
    "            vi[n_w] = 1\n",
    "    # Honore’s measure R\n",
    "    R = 100 * np.log(n+1) / (1 - v1/v + 1)\n",
    "    # Sichel’s measure S \n",
    "    S = v2/v\n",
    "    # Brunet’s measure W \n",
    "    # https://linguistics.stackexchange.com/questions/27365/formula-for-brun%C3%A9ts-index\n",
    "    W = n**(v**(-0.17))\n",
    "    # Yule’s characteristic K\n",
    "    M = np.sum([n_w**2 * vi[n_w] for n_w in vi])\n",
    "    K = 10**4 * (M-n)/(n**2)\n",
    "    # Shannon Entropy\n",
    "    E = np.sum([uniq_words[w]/n * np.log(uniq_words[w]/n) for w in uniq_words])\n",
    "    # Simpson’s index D\n",
    "    D = np.sum([(uniq_words[w]/n)**2 for w in uniq_words])\n",
    "    # type token ratio (TTR)\n",
    "    T = v/n\n",
    "    \n",
    "    return v1, v2, R, S, W, K, E, D, T"
   ]
  },
  {
   "cell_type": "code",
   "execution_count": 9,
   "id": "26bc10a8",
   "metadata": {},
   "outputs": [
    {
     "name": "stderr",
     "output_type": "stream",
     "text": [
      "100%|██████████████████████████████████████| 2409/2409 [00:17<00:00, 138.53it/s]\n"
     ]
    }
   ],
   "source": [
    "vocab_rich_f = X_train['text_clean'].progress_apply(\n",
    "    lambda x: get_vocab_rich_features(x)\n",
    ")"
   ]
  },
  {
   "cell_type": "code",
   "execution_count": 10,
   "id": "e67bdd94",
   "metadata": {},
   "outputs": [],
   "source": [
    "X_train[\n",
    "    ['hapax_legomena',\n",
    "     'hapax_dislegemena',\n",
    "     'honore_r',\n",
    "     'sichel_s',\n",
    "     'brunet_w',\n",
    "     'yule_k',\n",
    "     'shannon_entropy',\n",
    "     'simpson_idx_d',\n",
    "     'type_token_ratio'\n",
    "    ]\n",
    "] = vocab_rich_f.values.tolist()"
   ]
  },
  {
   "cell_type": "markdown",
   "id": "945d1ddc",
   "metadata": {},
   "source": [
    "## Readability"
   ]
  },
  {
   "cell_type": "code",
   "execution_count": 11,
   "id": "3d85fd56",
   "metadata": {},
   "outputs": [],
   "source": [
    "def get_vowels_per_word_complex(t, c=2):\n",
    "    vowels = [len(re.findall('[aeiouóyąę]+', w)) for w in re.findall('(?![\\d\\s])[\\w]+(?![\\d\\s])', t)]\n",
    "    vowels = np.array(vowels)\n",
    "    # complex word - more than 2 syllabes\n",
    "    vowels = vowels[vowels>c]\n",
    "    \n",
    "    if vowels.shape[0] == 0:\n",
    "        return [0]\n",
    "    return vowels"
   ]
  },
  {
   "cell_type": "code",
   "execution_count": 12,
   "id": "a1d3a77e",
   "metadata": {},
   "outputs": [
    {
     "name": "stderr",
     "output_type": "stream",
     "text": [
      "100%|████████████████████████████████████| 2409/2409 [00:00<00:00, 21590.19it/s]\n",
      "100%|████████████████████████████████████| 2409/2409 [00:00<00:00, 21428.96it/s]\n",
      "100%|████████████████████████████████████| 2409/2409 [00:00<00:00, 25532.89it/s]\n"
     ]
    }
   ],
   "source": [
    "X_train['FR_score'] = X_train['text_clean'].progress_apply(\n",
    "    lambda x: \n",
    "    206.835 \n",
    "    - 1.015 * len( re.findall('(?![\\d])[\\w]+', x) ) #total words\n",
    "    - 84.6 *  np.sum(get_vowels_per_word(x.lower())) / len( re.findall('(?![\\d])[\\w]+', x) ) #total syllabes/ total words\n",
    ")\n",
    "\n",
    "X_train['FKG_level'] = X_train['text_clean'].progress_apply(\n",
    "    lambda x: \n",
    "    0.39 * len( re.findall('(?![\\d])[\\w]+', x) ) #total words\n",
    "    + 11.8 * np.sum(get_vowels_per_word(x.lower())) / len( re.findall('(?![\\d])[\\w]+', x) ) #total syllabes/ total words\n",
    "    - 15.59\n",
    ")\n",
    "\n",
    "X_train['Gunning_Fog_index'] = X_train['text_clean'].progress_apply(\n",
    "    lambda x: \n",
    "    0.4 * (\n",
    "        len( re.findall('(?![\\d])[\\w]+', x) ) #total words\n",
    "        + 100 * len(get_vowels_per_word_complex(x.lower())) / len( re.findall('(?![\\d])[\\w]+', x) ) \n",
    "    ) \n",
    ")"
   ]
  },
  {
   "cell_type": "markdown",
   "id": "7ad32871",
   "metadata": {},
   "source": [
    "## Add Sentiment"
   ]
  },
  {
   "cell_type": "code",
   "execution_count": 15,
   "id": "4e1fab71",
   "metadata": {},
   "outputs": [],
   "source": [
    "def get_sentiment(txt):\n",
    "    doc = nlp_core(txt)\n",
    "    \n",
    "    sentiment_all = model_sent(txt).item()\n",
    "    \n",
    "    sentiments_list = []\n",
    "    for i, sent in enumerate(doc.sents):\n",
    "        s = model_sent(sent.text).item()\n",
    "        sentiments_list.append(s)\n",
    "    \n",
    "    sentiment_avg = np.mean(sentiments_list)\n",
    "    \n",
    "    return sentiment_all, sentiment_avg"
   ]
  },
  {
   "cell_type": "code",
   "execution_count": 16,
   "id": "c17df93f",
   "metadata": {},
   "outputs": [
    {
     "name": "stderr",
     "output_type": "stream",
     "text": [
      "100%|███████████████████████████████████████| 2409/2409 [04:19<00:00,  9.29it/s]\n"
     ]
    }
   ],
   "source": [
    "sentiment_f = X_train['text_clean'].progress_apply(\n",
    "    lambda x: get_sentiment(x)\n",
    ")"
   ]
  },
  {
   "cell_type": "code",
   "execution_count": 20,
   "id": "4c144a11",
   "metadata": {},
   "outputs": [],
   "source": [
    "X_train[\n",
    "    ['sentiment_all',\n",
    "     'sentiment_avg'\n",
    "    ]\n",
    "] = sentiment_f.values.tolist()"
   ]
  },
  {
   "cell_type": "markdown",
   "id": "83d27987",
   "metadata": {},
   "source": [
    "## Extra features"
   ]
  },
  {
   "cell_type": "code",
   "execution_count": 21,
   "id": "89ce979d",
   "metadata": {},
   "outputs": [
    {
     "name": "stderr",
     "output_type": "stream",
     "text": [
      "100%|██████████████████████████████████████| 2409/2409 [00:18<00:00, 127.61it/s]\n"
     ]
    }
   ],
   "source": [
    "def get_n_stop_words(txt):\n",
    "    doc = nlp_core(txt)\n",
    "    \n",
    "    n_sw = 0\n",
    "    \n",
    "    for token in doc:\n",
    "        if token.lemma_ in stopwords:\n",
    "            n_sw = n_sw + 1\n",
    "    \n",
    "    return n_sw\n",
    "\n",
    "X_train['n_stop_words'] = X_train['text_clean'].progress_apply(\n",
    "    lambda x: get_n_stop_words(x)\n",
    ")\n"
   ]
  },
  {
   "cell_type": "code",
   "execution_count": 22,
   "id": "b45a932e",
   "metadata": {},
   "outputs": [],
   "source": [
    "def get_pos(txt):\n",
    "    \n",
    "    doc = nlp_core(txt)\n",
    "\n",
    "    adj_n = 0\n",
    "    adv_n = 0\n",
    "    noun_n = 0\n",
    "    ent_n = 0\n",
    "   \n",
    "    txt_pos = []\n",
    "    txt_word = []\n",
    "    for token in doc:\n",
    "        if token.pos_ == 'ADJ': \n",
    "            adj_n += 1\n",
    "        elif token.pos_ == 'ADV':\n",
    "            adv_n += 1\n",
    "        elif token.pos_ == 'NOUN':\n",
    "            noun_n += 1\n",
    "\n",
    "    for ent in doc.ents:\n",
    "        ent_n += 1\n",
    "\n",
    "    return (\n",
    "        ent_n, \n",
    "        adj_n, \n",
    "        adv_n, \n",
    "        noun_n\n",
    "    )"
   ]
  },
  {
   "cell_type": "code",
   "execution_count": 23,
   "id": "d46b2833",
   "metadata": {},
   "outputs": [
    {
     "name": "stderr",
     "output_type": "stream",
     "text": [
      "100%|██████████████████████████████████████| 2409/2409 [00:19<00:00, 121.53it/s]\n"
     ]
    }
   ],
   "source": [
    "pos_f = X_train['text_clean'].progress_apply(\n",
    "    lambda x: get_pos(x)\n",
    ")"
   ]
  },
  {
   "cell_type": "code",
   "execution_count": 24,
   "id": "96599308",
   "metadata": {},
   "outputs": [],
   "source": [
    "X_train[\n",
    "    ['n_ent',\n",
    "#      'p_adj',\n",
    "     'n_adj',\n",
    "#      'p_adv',\n",
    "     'n_adv',\n",
    "#      'p_noun',\n",
    "     'n_noun'\n",
    "    ]\n",
    "] = pos_f.values.tolist()"
   ]
  },
  {
   "cell_type": "markdown",
   "id": "7047d320",
   "metadata": {},
   "source": [
    "## Balance dataset"
   ]
  },
  {
   "cell_type": "code",
   "execution_count": 30,
   "id": "004b95aa",
   "metadata": {},
   "outputs": [],
   "source": [
    "n_0 = y_train.value_counts()[0]\n",
    "n_1 = y_train.value_counts()[1]"
   ]
  },
  {
   "cell_type": "code",
   "execution_count": 61,
   "id": "11a1e789",
   "metadata": {},
   "outputs": [],
   "source": [
    "n_lower = y_train.value_counts().min()\n",
    "n_upper = y_train.value_counts().max()\n",
    "\n",
    "np.random.seed(111)\n",
    "\n",
    "if True:\n",
    "    # undersampling    \n",
    "    index_0 = np.random.choice(y_train[y_train==0].index, n_lower, replace=False)\n",
    "    index_1 = np.random.choice(y_train[y_train==1].index, n_lower, replace=False)\n",
    "\n",
    "    y_train_u = y_train.iloc[ index_0.tolist()+index_1.tolist() ].sort_index()\n",
    "    \n",
    "    X_train_u = X_train.iloc[ index_0.tolist()+index_1.tolist() ].sort_index()\n",
    "else:\n",
    "    # oversampling\n",
    "    if n_0 < n_1:\n",
    "        index_0 = np.random.choice(y_train[y_train==0].index, n_1, replace=True)\n",
    "        index_1 = np.random.choice(y_train[y_train==1].index, n_1, replace=False)\n",
    "    else:\n",
    "        index_0 = np.random.choice(y_train[y_train==0].index, n_0, replace=False)\n",
    "        index_1 = np.random.choice(y_train[y_train==1].index, n_0, replace=True)\n",
    "\n",
    "    y_train_u = y_train.iloc[ index_0.tolist()+index_1.tolist() ].sort_index()\n",
    "    \n",
    "    X_train_u = X_train.iloc[ index_0.tolist()+index_1.tolist() ].sort_index()"
   ]
  },
  {
   "cell_type": "markdown",
   "id": "df7a1025",
   "metadata": {},
   "source": [
    "## CV creation"
   ]
  },
  {
   "cell_type": "code",
   "execution_count": 62,
   "id": "fe725993",
   "metadata": {},
   "outputs": [],
   "source": [
    "ideal_topic_num = 10"
   ]
  },
  {
   "cell_type": "code",
   "execution_count": 63,
   "id": "acc52110",
   "metadata": {},
   "outputs": [],
   "source": [
    "X_train_u['words_clean'] = X_train_u['words_clean'].fillna('')\n",
    "X_train_u['words_clean'] = X_train_u['words_clean'].str.split(' ')"
   ]
  },
  {
   "cell_type": "code",
   "execution_count": 64,
   "id": "8850bbe0",
   "metadata": {},
   "outputs": [
    {
     "name": "stderr",
     "output_type": "stream",
     "text": [
      "100%|█████████████████████████████████████| 1296/1296 [00:00<00:00, 5917.14it/s]\n"
     ]
    }
   ],
   "source": [
    "dictionary = gensim.corpora.Dictionary(X_train_u['words_clean'].values)\n",
    "\n",
    "bow_corpus = [dictionary.doc2bow(doc) for doc in X_train_u['words_clean'].values]\n",
    "\n",
    "\n",
    "lda_model =  gensim.models.LdaMulticore(bow_corpus, \n",
    "                                   num_topics = ideal_topic_num, \n",
    "                                   id2word = dictionary,                                    \n",
    "                                   passes = 10,\n",
    "                                   random_state=111,\n",
    "                                   workers = 7)\n",
    "\n",
    "topics = []\n",
    "\n",
    "for line in tqdm(X_train_u['words_clean'].values):\n",
    "    line_bow = dictionary.doc2bow(line)\n",
    "    doc_lda = lda_model[line_bow]\n",
    "    \n",
    "    topics.append( max(doc_lda, key=lambda x:x[1])[0] )\n",
    "\n",
    "df_topics = pd.DataFrame({'topic' : topics})"
   ]
  },
  {
   "cell_type": "code",
   "execution_count": 65,
   "id": "a29f72c1",
   "metadata": {},
   "outputs": [
    {
     "name": "stdout",
     "output_type": "stream",
     "text": [
      "0 0.027*\"wybory\" + 0.019*\"zostać\" + 0.014*\"człowiek\" + 0.013*\"czas\" + 0.011*\"tysiąc\"\n",
      "1 0.035*\"być\" + 0.021*\"partia\" + 0.016*\"mieć\" + 0.016*\"pis\" + 0.012*\"platforma\"\n",
      "2 0.022*\"sprawa\" + 0.014*\"\" + 0.013*\"osoba\" + 0.012*\"podatkowy\" + 0.010*\"podatek\"\n",
      "3 0.016*\"tysiąc\" + 0.016*\"zostać\" + 0.015*\"poziom\" + 0.014*\"euro\" + 0.013*\"państwo\"\n",
      "4 0.029*\"miasto\" + 0.025*\"złoty\" + 0.024*\"kraków\" + 0.016*\"mówić\" + 0.012*\"warszawa\"\n",
      "5 0.027*\"państwo\" + 0.015*\"gaz\" + 0.013*\"dziecko\" + 0.012*\"rada\" + 0.012*\"minister\"\n",
      "6 0.033*\"polak\" + 0.018*\"prawo\" + 0.013*\"człowiek\" + 0.012*\"energia\" + 0.010*\"świat\"\n",
      "7 0.029*\"europa\" + 0.017*\"liczba\" + 0.016*\"czas\" + 0.015*\"tysiąc\" + 0.014*\"kwota\"\n",
      "8 0.026*\"budżet\" + 0.023*\"osoba\" + 0.015*\"program\" + 0.014*\"wielki\" + 0.014*\"ostatni\"\n",
      "9 0.018*\"sędzia\" + 0.013*\"sejm\" + 0.011*\"trybunał\" + 0.011*\"konstytucja\" + 0.011*\"konstytucyjny\"\n"
     ]
    }
   ],
   "source": [
    "x=lda_model.show_topics(num_topics=ideal_topic_num, num_words=5)\n",
    "\n",
    "for topic,word in x:\n",
    "    print(topic, word)"
   ]
  },
  {
   "cell_type": "markdown",
   "id": "c604613a",
   "metadata": {},
   "source": [
    "### Kfold"
   ]
  },
  {
   "cell_type": "code",
   "execution_count": 66,
   "id": "c0cefae2",
   "metadata": {},
   "outputs": [],
   "source": [
    "cv_fold = []\n",
    "cv_fold_i = []\n",
    "\n",
    "for i in df_topics['topic'].unique().reshape(10,-1):\n",
    "    train_cv = df_topics.index[ ~np.isin(df_topics[\"topic\"], i) ].values\n",
    "    test_cv = df_topics.index[ np.isin(df_topics[\"topic\"], i) ].values\n",
    "    \n",
    "    train_cv_i = df_topics.reset_index().index[ ~np.isin(df_topics[\"topic\"], i) ].values\n",
    "    test_cv_i = df_topics.reset_index().index[ np.isin(df_topics[\"topic\"], i) ].values\n",
    "    \n",
    "    cv_fold.append( [train_cv, test_cv])\n",
    "    cv_fold_i.append( [train_cv_i, test_cv_i])"
   ]
  },
  {
   "cell_type": "code",
   "execution_count": 67,
   "id": "a34d6bff",
   "metadata": {},
   "outputs": [],
   "source": [
    "kf = KFold(n_splits=10, shuffle=True)\n",
    "kf.get_n_splits(df_topics)\n",
    "\n",
    "cv_Kfold = []\n",
    "cv_Kfold_i = []\n",
    "\n",
    "for train_index, test_index in kf.split(df_topics):\n",
    "    train_cv = df_topics.iloc[ train_index, : ].index.values\n",
    "    test_cv = df_topics.iloc[ test_index, : ].index.values\n",
    "\n",
    "    train_cv_i= df_topics.reset_index().iloc[ train_index, : ].index.values\n",
    "    test_cv_i = df_topics.reset_index().iloc[ test_index, : ].index.values\n",
    "    \n",
    "    cv_Kfold.append( [train_cv, test_cv])\n",
    "    cv_Kfold_i.append( [train_cv_i, test_cv_i])"
   ]
  },
  {
   "cell_type": "markdown",
   "id": "ceb4877a",
   "metadata": {},
   "source": [
    "## Experiments"
   ]
  },
  {
   "cell_type": "code",
   "execution_count": 68,
   "id": "4cabdb95",
   "metadata": {},
   "outputs": [],
   "source": [
    "clf_lr_1 = LogisticRegression(max_iter=5000, C=1, penalty='l2', solver='liblinear')"
   ]
  },
  {
   "cell_type": "code",
   "execution_count": 69,
   "id": "68be1460",
   "metadata": {},
   "outputs": [],
   "source": [
    "def run_experiment(X, y,  cv, clf_org):\n",
    "\n",
    "    results = {\n",
    "        'test_accuracy' : [],\n",
    "        'test_precision' : [],\n",
    "        'test_recall' : [],\n",
    "        'test_f1' : []\n",
    "    }\n",
    "    coef_matrix = []\n",
    "    c_matrix = np.zeros((2,2))\n",
    "\n",
    "    for train_cv, test_cv in tqdm(cv):\n",
    "        clf = sklearn_clone(clf_org)\n",
    "        \n",
    "        scaler = StandardScaler()\n",
    "        \n",
    "        y_train_t, X_train_t = y[X.index.isin(train_cv)], X[X.index.isin(train_cv)]\n",
    "        y_test_t, X_test_t = y[X.index.isin(test_cv)], X[X.index.isin(test_cv)]\n",
    "        \n",
    "        scaler.fit(X_train_t)\n",
    "        X_train_t = scaler.transform(X_train_t)\n",
    "        X_test_t = scaler.transform(X_test_t)\n",
    "        \n",
    "        clf.fit(X_train_t, y_train_t)\n",
    "\n",
    "        y_pred = clf.predict(X_test_t)\n",
    "        \n",
    "        coef_matrix.append(clf.coef_)\n",
    "        \n",
    "        confusion = confusion_matrix(y_test_t, y_pred)\n",
    "        c_matrix += confusion\n",
    "\n",
    "        results['test_accuracy'].append( accuracy_score(y_test_t, y_pred) ) \n",
    "        results['test_precision'].append( precision_score(y_test_t, y_pred) ) \n",
    "        results['test_recall'].append( recall_score(y_test_t, y_pred) ) \n",
    "        results['test_f1'].append( f1_score(y_test_t, y_pred) ) \n",
    "        \n",
    "\n",
    "    metrics = {\n",
    "        \"Accuracy\": np.array(results['test_accuracy']),\n",
    "    #     \"Precision\": np.array(results['test_precision']).mean(),\n",
    "    #     \"Recall\": np.array(results['test_recall']).mean(),\n",
    "        \"F1 Score\":  np.array(results['test_f1']),\n",
    "        }\n",
    "\n",
    "    return metrics, np.concatenate(coef_matrix, 0)"
   ]
  },
  {
   "cell_type": "code",
   "execution_count": 73,
   "id": "f82968d4",
   "metadata": {},
   "outputs": [
    {
     "data": {
      "text/plain": [
       "['avg_word_len',\n",
       " 'n_words',\n",
       " 'n_char',\n",
       " 'n_special_char',\n",
       " 'avg_n_vowels_per_word',\n",
       " 'hapax_legomena',\n",
       " 'hapax_dislegemena',\n",
       " 'honore_r',\n",
       " 'sichel_s',\n",
       " 'brunet_w',\n",
       " 'yule_k',\n",
       " 'shannon_entropy',\n",
       " 'simpson_idx_d',\n",
       " 'type_token_ratio',\n",
       " 'FR_score',\n",
       " 'FKG_level',\n",
       " 'Gunning_Fog_index',\n",
       " 'sentiment_all',\n",
       " 'sentiment_avg',\n",
       " 'n_stop_words',\n",
       " 'n_ent',\n",
       " 'n_adj',\n",
       " 'n_adv',\n",
       " 'n_noun']"
      ]
     },
     "execution_count": 73,
     "metadata": {},
     "output_type": "execute_result"
    }
   ],
   "source": [
    "col_use = X_train_u.columns[2:].values.tolist()\n",
    "\n",
    "col_use"
   ]
  },
  {
   "cell_type": "code",
   "execution_count": 74,
   "id": "d01548dc",
   "metadata": {},
   "outputs": [
    {
     "name": "stderr",
     "output_type": "stream",
     "text": [
      "100%|███████████████████████████████████████████| 10/10 [00:00<00:00, 61.04it/s]"
     ]
    },
    {
     "name": "stdout",
     "output_type": "stream",
     "text": [
      "styllsitic f lr C1 Accuracy 0.582+-0.008 F1 Score 0.581+-0.014  0.582+-0.008 | 0.581+-0.014\n"
     ]
    },
    {
     "name": "stderr",
     "output_type": "stream",
     "text": [
      "\n"
     ]
    }
   ],
   "source": [
    "out, m = run_experiment(X_train_u[col_use], y_train_u, cv_fold, clf_lr_1)\n",
    "print(\n",
    "    'styllsitic f lr C1',\n",
    "    f'Accuracy {out[\"Accuracy\"].mean():.3f}+-{out[\"Accuracy\"].std():.3f}',\n",
    "    f'F1 Score {out[\"F1 Score\"].mean():.3f}+-{out[\"F1 Score\"].std():.3f}',\n",
    "    f' {out[\"Accuracy\"].mean():.3f}+-{out[\"Accuracy\"].std():.3f} | {out[\"F1 Score\"].mean():.3f}+-{out[\"F1 Score\"].std():.3f}'\n",
    ")"
   ]
  },
  {
   "cell_type": "code",
   "execution_count": 75,
   "id": "8344bbc0",
   "metadata": {},
   "outputs": [
    {
     "data": {
      "image/png": "[encoded data removed]",
      "text/plain": [
       "<Figure size 640x480 with 1 Axes>"
      ]
     },
     "metadata": {},
     "output_type": "display_data"
    }
   ],
   "source": [
    "df_coefs = pd.DataFrame(m)\n",
    "df_coefs.columns = col_use\n",
    "sns.barplot(data=df_coefs.melt(), y=\"variable\", x=\"value\")\n",
    "plt.show()"
   ]
  },
  {
   "cell_type": "code",
   "execution_count": 76,
   "id": "b05b82be",
   "metadata": {},
   "outputs": [
    {
     "name": "stderr",
     "output_type": "stream",
     "text": [
      "100%|███████████████████████████████████████████| 10/10 [00:00<00:00, 79.03it/s]"
     ]
    },
    {
     "name": "stdout",
     "output_type": "stream",
     "text": [
      "styllsitic f lr C1 Accuracy 0.584+-0.012 F1 Score 0.585+-0.015  0.584+-0.012 | 0.585+-0.015\n"
     ]
    },
    {
     "name": "stderr",
     "output_type": "stream",
     "text": [
      "\n"
     ]
    }
   ],
   "source": [
    "out, m = run_experiment(X_train_u[col_use], y_train_u, cv_Kfold, clf_lr_1)\n",
    "print(\n",
    "    'styllsitic f lr C1',\n",
    "    f'Accuracy {out[\"Accuracy\"].mean():.3f}+-{out[\"Accuracy\"].std():.3f}',\n",
    "    f'F1 Score {out[\"F1 Score\"].mean():.3f}+-{out[\"F1 Score\"].std():.3f}',\n",
    "    f' {out[\"Accuracy\"].mean():.3f}+-{out[\"Accuracy\"].std():.3f} | {out[\"F1 Score\"].mean():.3f}+-{out[\"F1 Score\"].std():.3f}'\n",
    ")"
   ]
  },
  {
   "cell_type": "code",
   "execution_count": 77,
   "id": "52abe279",
   "metadata": {},
   "outputs": [
    {
     "data": {
      "image/png": "[encoded data removed]",
      "text/plain": [
       "<Figure size 640x480 with 1 Axes>"
      ]
     },
     "metadata": {},
     "output_type": "display_data"
    }
   ],
   "source": [
    "df_coefs = pd.DataFrame(m)\n",
    "df_coefs.columns = col_use\n",
    "sns.barplot(data=df_coefs.melt(), y=\"variable\", x=\"value\")\n",
    "plt.show()"
   ]
  },
  {
   "cell_type": "code",
   "execution_count": null,
   "id": "c71e55cc",
   "metadata": {},
   "outputs": [],
   "source": []
  }
 ],
 "metadata": {
  "kernelspec": {
   "display_name": "Python 3 (ipykernel)",
   "language": "python",
   "name": "python3"
  },
  "language_info": {
   "codemirror_mode": {
    "name": "ipython",
    "version": 3
   },
   "file_extension": ".py",
   "mimetype": "text/x-python",
   "name": "python",
   "nbconvert_exporter": "python",
   "pygments_lexer": "ipython3",
   "version": "3.9.18"
  }
 },
 "nbformat": 4,
 "nbformat_minor": 5
}
